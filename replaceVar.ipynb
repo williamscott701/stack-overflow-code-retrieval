{
  "nbformat": 4,
  "nbformat_minor": 0,
  "metadata": {
    "colab": {
      "name": "IR_Project.ipynb",
      "version": "0.3.2",
      "provenance": [],
      "collapsed_sections": []
    },
    "kernelspec": {
      "name": "python3",
      "display_name": "Python 3"
    }
  },
  "cells": [
    {
      "metadata": {
        "id": "XeOQ6xm42lJW",
        "colab_type": "code",
        "outputId": "3f3732f1-daeb-460b-a4de-74f448ad409e",
        "colab": {
          "base_uri": "https://localhost:8080/",
          "height": 35
        }
      },
      "cell_type": "code",
      "source": [
        "from google.colab import drive\n",
        "drive.mount('/content/gdrive')"
      ],
      "execution_count": 0,
      "outputs": [
        {
          "output_type": "stream",
          "text": [
            "Drive already mounted at /content/gdrive; to attempt to forcibly remount, call drive.mount(\"/content/gdrive\", force_remount=True).\n"
          ],
          "name": "stdout"
        }
      ]
    },
    {
      "metadata": {
        "id": "JeZ2eRg03sx7",
        "colab_type": "code",
        "colab": {}
      },
      "cell_type": "code",
      "source": [
        "import re"
      ],
      "execution_count": 0,
      "outputs": []
    },
    {
      "metadata": {
        "id": "BIukXvcvh2w8",
        "colab_type": "code",
        "outputId": "5e278390-f0d2-4697-e9f8-64c43df50f4c",
        "colab": {
          "base_uri": "https://localhost:8080/",
          "height": 35
        }
      },
      "cell_type": "code",
      "source": [
        "word = \"\\n\"\n",
        "if re.match(r'[a-zA-Z][a-zA-Z0-9]*', word):\n",
        "    print(0)\n",
        "else:\n",
        "    print(1)"
      ],
      "execution_count": 0,
      "outputs": [
        {
          "output_type": "stream",
          "text": [
            "1\n"
          ],
          "name": "stdout"
        }
      ]
    },
    {
      "metadata": {
        "id": "QjvMZDqwvL7y",
        "colab_type": "code",
        "colab": {}
      },
      "cell_type": "code",
      "source": [
        "import keyword"
      ],
      "execution_count": 0,
      "outputs": []
    },
    {
      "metadata": {
        "id": "xd-wTcw4iSgr",
        "colab_type": "code",
        "colab": {}
      },
      "cell_type": "code",
      "source": [
        "def replaceVariables(code):\n",
        "    n_code = []\n",
        "    keylist = keyword.kwlist\n",
        "    lines = code.splitlines()\n",
        "#     symbol_table = dict()\n",
        "#     counter = 1\n",
        "    for l in lines:\n",
        "        arr = l.split(\" \")\n",
        "        flag = False\n",
        "        for (i, word) in enumerate(arr):\n",
        "            if re.match(r'\\s*#', word):\n",
        "                flag = True\n",
        "                break\n",
        "            if re.match(r'[a-zA-Z][a-zA-Z0-9]*', word):\n",
        "                if word not in keylist:\n",
        "#                     var = 'var' + str(counter)\n",
        "#                     if symbol_table.get(word) is None:\n",
        "#                     symbol_table[word] = var\n",
        "#                     counter += 1\n",
        "                    if word[-1] == ':':\n",
        "                        arr[i] = 'var:'\n",
        "                    else:\n",
        "                        arr[i] = 'var'\n",
        "#                     else:\n",
        "#                         if word[-1] == ':':\n",
        "#                             arr[i] = symbol_table[word] + ':'\n",
        "#                         else:\n",
        "#                             arr[i] = symbol_table[word]\n",
        "            else:\n",
        "                arr[i] = word\n",
        "        if flag is False:\n",
        "            narr = []\n",
        "            for j in arr:\n",
        "                narr.append(j)\n",
        "                narr.append(\" \")\n",
        "            narr.append(\"\\n\")\n",
        "            n_code.append(''.join(narr))\n",
        "    t = '\\n'.join(n_code).split('\\n')\n",
        "    return t"
      ],
      "execution_count": 0,
      "outputs": []
    },
    {
      "metadata": {
        "id": "NM5kwk6vtaYM",
        "colab_type": "code",
        "colab": {}
      },
      "cell_type": "code",
      "source": [
        "l = ['# offsetFile - file pointer',\n",
        " '# searchTerms - list of words',\n",
        " '',\n",
        " 'for line in offsetFile:',\n",
        " '    for word in searchTerms:',\n",
        " '        if word in line:',\n",
        " '           # here get the next two terms after the word',\n",
        " '']\n",
        "c = replaceVariables(\"\\n\".join(l))"
      ],
      "execution_count": 0,
      "outputs": []
    },
    {
      "metadata": {
        "id": "dHb-5x7WvAlQ",
        "colab_type": "code",
        "outputId": "468d6770-afcb-41c9-e599-b1ad664e8615",
        "colab": {
          "base_uri": "https://localhost:8080/",
          "height": 159
        }
      },
      "cell_type": "code",
      "source": [
        "c"
      ],
      "execution_count": 0,
      "outputs": [
        {
          "output_type": "execute_result",
          "data": {
            "text/plain": [
              "[' ',\n",
              " '',\n",
              " 'for var in var: ',\n",
              " '',\n",
              " '    for var in var: ',\n",
              " '',\n",
              " '        if var in var: ',\n",
              " '']"
            ]
          },
          "metadata": {
            "tags": []
          },
          "execution_count": 111
        }
      ]
    },
    {
      "metadata": {
        "id": "vAdS-DTIvOtx",
        "colab_type": "code",
        "colab": {}
      },
      "cell_type": "code",
      "source": [
        "l = ['# offsetFile - file pointer',\n",
        " '# searchTerms - list of words',\n",
        " '',\n",
        " 'for line in offsetFile:',\n",
        " '    for word in searchTerms:',\n",
        " '        if word in line:',\n",
        " '           # here get the next two terms after the word',\n",
        " '']"
      ],
      "execution_count": 0,
      "outputs": []
    },
    {
      "metadata": {
        "id": "ksR6aDaUwlla",
        "colab_type": "code",
        "colab": {}
      },
      "cell_type": "code",
      "source": [
        "x = \"\\n\".join(l)"
      ],
      "execution_count": 0,
      "outputs": []
    },
    {
      "metadata": {
        "id": "_ApDEMTOwsLa",
        "colab_type": "code",
        "outputId": "2a22e732-34d5-4bdb-b6fc-6eff90bbc381",
        "colab": {
          "base_uri": "https://localhost:8080/",
          "height": 55
        }
      },
      "cell_type": "code",
      "source": [
        "x"
      ],
      "execution_count": 0,
      "outputs": [
        {
          "output_type": "execute_result",
          "data": {
            "text/plain": [
              "'# offsetFile - file pointer\\n# searchTerms - list of words\\n\\nfor line in offsetFile:\\n    for word in searchTerms:\\n        if word in line:\\n           # here get the next two terms after the word\\n'"
            ]
          },
          "metadata": {
            "tags": []
          },
          "execution_count": 27
        }
      ]
    },
    {
      "metadata": {
        "id": "V06kOG6cws0U",
        "colab_type": "code",
        "colab": {}
      },
      "cell_type": "code",
      "source": [
        "abc = \"def abcdef:\""
      ],
      "execution_count": 0,
      "outputs": []
    },
    {
      "metadata": {
        "id": "xMZxTt531Nha",
        "colab_type": "code",
        "outputId": "37a28905-90f5-4fbc-a16a-bd3849f338c0",
        "colab": {
          "base_uri": "https://localhost:8080/",
          "height": 70
        }
      },
      "cell_type": "code",
      "source": [
        "z = abc.split(\" \")\n",
        "print(z)\n",
        "for x in z:\n",
        "    if re.match(r'[a-zA-Z][a-zA-Z0-9]*[:]*', abc):\n",
        "        print(x)"
      ],
      "execution_count": 0,
      "outputs": [
        {
          "output_type": "stream",
          "text": [
            "['def', 'abcdef:']\n",
            "def\n",
            "abcdef:\n"
          ],
          "name": "stdout"
        }
      ]
    },
    {
      "metadata": {
        "id": "v9IWsUCg1oAk",
        "colab_type": "code",
        "colab": {}
      },
      "cell_type": "code",
      "source": [
        ""
      ],
      "execution_count": 0,
      "outputs": []
    }
  ]
}
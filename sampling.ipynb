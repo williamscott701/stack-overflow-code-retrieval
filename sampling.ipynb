{
  "nbformat": 4,
  "nbformat_minor": 0,
  "metadata": {
    "colab": {
      "name": "IR_Tag_Detector.ipynb",
      "version": "0.3.2",
      "provenance": []
    },
    "language_info": {
      "codemirror_mode": {
        "name": "ipython",
        "version": 3
      },
      "file_extension": ".py",
      "mimetype": "text/x-python",
      "name": "python",
      "nbconvert_exporter": "python",
      "pygments_lexer": "ipython3",
      "version": "3.6.7"
    },
    "kernelspec": {
      "name": "python3",
      "display_name": "Python 3"
    },
    "accelerator": "GPU"
  },
  "cells": [
    {
      "metadata": {
        "id": "nn0Zy28o5OGi",
        "colab_type": "code",
        "outputId": "cc402f29-8dc6-4f5a-d899-7e2112c9197d",
        "colab": {
          "base_uri": "https://localhost:8080/",
          "height": 126
        }
      },
      "cell_type": "code",
      "source": [
        "from google.colab import drive\n",
        "drive.mount('/content/gdrive')"
      ],
      "execution_count": 0,
      "outputs": [
        {
          "output_type": "stream",
          "text": [
            "Go to this URL in a browser: https://accounts.google.com/o/oauth2/auth?client_id=947318989803-6bn6qk8qdgf4n4g3pfee6491hc0brc4i.apps.googleusercontent.com&redirect_uri=urn%3Aietf%3Awg%3Aoauth%3A2.0%3Aoob&scope=email%20https%3A%2F%2Fwww.googleapis.com%2Fauth%2Fdocs.test%20https%3A%2F%2Fwww.googleapis.com%2Fauth%2Fdrive%20https%3A%2F%2Fwww.googleapis.com%2Fauth%2Fdrive.photos.readonly%20https%3A%2F%2Fwww.googleapis.com%2Fauth%2Fpeopleapi.readonly&response_type=code\n",
            "\n",
            "Enter your authorization code:\n",
            "··········\n",
            "Mounted at /content/gdrive\n"
          ],
          "name": "stdout"
        }
      ]
    },
    {
      "metadata": {
        "id": "FGg5HO7M5Q1c",
        "colab_type": "code",
        "colab": {}
      },
      "cell_type": "code",
      "source": [
        "import pickle\n",
        "import os\n",
        "import chardet\n",
        "import pandas as pd\n",
        "import numpy as np\n",
        "import nltk\n",
        "import string\n",
        "import copy\n",
        "from nltk.corpus import stopwords\n",
        "from sklearn.feature_extraction.text import CountVectorizer\n",
        "from sklearn.metrics.pairwise import cosine_similarity\n",
        "from sklearn.metrics.pairwise import pairwise_distances\n",
        "from bs4 import BeautifulSoup as bs\n",
        "from scipy.spatial.distance import cosine"
      ],
      "execution_count": 0,
      "outputs": []
    },
    {
      "metadata": {
        "id": "Sk6kQdBu5OG7",
        "colab_type": "code",
        "colab": {}
      },
      "cell_type": "code",
      "source": [
        "import re\n",
        "import keyword\n",
        "import heapq\n",
        "from nltk.tokenize import RegexpTokenizer\n",
        "import math\n",
        "import codecs"
      ],
      "execution_count": 0,
      "outputs": []
    },
    {
      "metadata": {
        "id": "eqeTRgfG6gHX",
        "colab_type": "code",
        "colab": {}
      },
      "cell_type": "code",
      "source": [
        "path = 'gdrive/My Drive/Datasets/StackOverflow/'"
      ],
      "execution_count": 0,
      "outputs": []
    },
    {
      "metadata": {
        "id": "FbF55GF862Fx",
        "colab_type": "code",
        "colab": {}
      },
      "cell_type": "code",
      "source": [
        "os.chdir(path)"
      ],
      "execution_count": 0,
      "outputs": []
    },
    {
      "metadata": {
        "id": "shyp8SIv5OHE",
        "colab_type": "code",
        "colab": {}
      },
      "cell_type": "code",
      "source": [
        "#geeks for geeks \n",
        "def sort_list(list1, list2): \n",
        "  \n",
        "    zipped_pairs = zip(list2, list1) \n",
        "  \n",
        "    z = [x for _, x in sorted(zipped_pairs)] \n",
        "      \n",
        "    return z "
      ],
      "execution_count": 0,
      "outputs": []
    },
    {
      "metadata": {
        "id": "VVk13hrz5OHZ",
        "colab_type": "code",
        "colab": {}
      },
      "cell_type": "code",
      "source": [
        "def find_tags(tags,number):\n",
        "    tags.sort()\n",
        "    tags.reverse()\n",
        "#     print(tags)\n",
        "    sum1=0\n",
        "    for i in range(0,number):\n",
        "#         print(tags[i])\n",
        "        sum1+=tags[i]\n",
        "    avg=sum1/float(number)\n",
        "#     print(avg)\n",
        "    i=0\n",
        "    counter=0\n",
        "    while avg<tags[i]:\n",
        "        counter+=1\n",
        "        i+=1\n",
        "    return counter"
      ],
      "execution_count": 0,
      "outputs": []
    },
    {
      "metadata": {
        "id": "AdibPUz65OHp",
        "colab_type": "code",
        "colab": {}
      },
      "cell_type": "code",
      "source": [
        "def magnitude(array_list):\n",
        "    s=0\n",
        "    for i in range(len(array_list)):\n",
        "        s=s+(array_list[i]**2)\n",
        "    return np.power(s,0.5)"
      ],
      "execution_count": 0,
      "outputs": []
    },
    {
      "metadata": {
        "id": "ccht7Yvb5OHy",
        "colab_type": "code",
        "colab": {}
      },
      "cell_type": "code",
      "source": [
        "def cosine_vec(query_vector,vec2):\n",
        "    query_vector=np.array(query_vector)\n",
        "    vec2=np.array(vec2)\n",
        "    q1=magnitude(list(query_vector))\n",
        "    cosine_similarity_val=np.dot(query_vector,vec2)/float(q1*magnitude(list(vec2)))"
      ],
      "execution_count": 0,
      "outputs": []
    },
    {
      "metadata": {
        "id": "NLnuJ-jy5OH8",
        "colab_type": "code",
        "colab": {}
      },
      "cell_type": "code",
      "source": [
        "def cosine(a, b):\n",
        "    m = a.multiply(b)\n",
        "    numerator = m.sum(axis=1)\n",
        "    det_a = np.sqrt(a.sum(axis = 1))\n",
        "    det_b = np.sqrt(b.sum(axis = 1))\n",
        "    return numerator / (det_a * det_b)"
      ],
      "execution_count": 0,
      "outputs": []
    },
    {
      "metadata": {
        "id": "y_P_au2a5OIG",
        "colab_type": "code",
        "colab": {}
      },
      "cell_type": "code",
      "source": [
        "def preprocess(pd):\n",
        "    pd = pd.str.lower()\n",
        "    pd = pd.apply(lambda x: [lemmatizer.lemmatize(w) for w in w_tokenizer.tokenize(x)])\n",
        "    pd = pd.apply(lambda x: [item for item in x if item not in removing_words])\n",
        "    pd = pd.apply(lambda x: [stemmer.stem(y) for y in x])\n",
        "    pd = pd.str.join(' ')\n",
        "    pd = pd.str.replace('[{}]'.format('$<>?@`\\'\"'), ' ')\n",
        "    return pd"
      ],
      "execution_count": 0,
      "outputs": []
    },
    {
      "metadata": {
        "id": "EVDkn9fU5OIV",
        "colab_type": "code",
        "colab": {}
      },
      "cell_type": "code",
      "source": [
        "def extract_code(m):\n",
        "    b = bs(m)\n",
        "    t = b.find_all('code')\n",
        "    for tag in t:\n",
        "        tag.replace_with('')\n",
        "    k = []\n",
        "    for i in t:\n",
        "        z = str(i).replace(\"<code>\", \"\")\n",
        "        z = str(z).replace(\"</code>\", \"\")\n",
        "        k.append(z)\n",
        "    return k"
      ],
      "execution_count": 0,
      "outputs": []
    },
    {
      "metadata": {
        "id": "_cOZ6Jul5OIf",
        "colab_type": "code",
        "colab": {}
      },
      "cell_type": "code",
      "source": [
        "def extract_body(m):\n",
        "    b = bs(m)\n",
        "    t = b.find_all('code')\n",
        "    for tag in t:\n",
        "        tag.replace_with('')\n",
        "    a = list({tag.name for tag in b.find_all()})\n",
        "    for i in a:\n",
        "        b = str(b).replace(\"<\"+str(i)+\">\", \" \")\n",
        "        b = str(b).replace(\"</\"+str(i)+\">\", \" \")\n",
        "    return b"
      ],
      "execution_count": 0,
      "outputs": []
    },
    {
      "metadata": {
        "id": "lgQIoh1W5OIn",
        "colab_type": "code",
        "colab": {}
      },
      "cell_type": "code",
      "source": [
        "def determineWordType(t1, t2):\n",
        "   keylist = keyword.kwlist\n",
        "   keys1 = 0\n",
        "   keys2 = 0\n",
        "#     func1 = 0\n",
        "#     func2 = 0\n",
        "   cf1 = 0\n",
        "   cf2 = 0\n",
        "   vars1 = 0\n",
        "   vars2 = 0\n",
        "   i = 0\n",
        "   while i < len(t1):\n",
        "       if t1[i] in keylist:\n",
        "           keys1 += 1\n",
        "#         elif re.search(r'[a-zA-Z][a-zA-z0-9]*\\(*\\):$', t1[i]):\n",
        "#             func1 += 1\n",
        "       elif re.search(r':$', t1[i]):\n",
        "           cf1 += 1\n",
        "       else:\n",
        "           vars1 += 1\n",
        "       i += 1\n",
        "   i = 0\n",
        "   while i < len(t2):\n",
        "       if t2[i] in keylist:\n",
        "           keys2 += 1\n",
        "#         elif re.search(r'[a-zA-Z][a-zA-z0-9]*\\(*\\):$', t2[i]):\n",
        "#             func2 += 1\n",
        "       elif re.search(r':$', t2[i]):\n",
        "           cf2 += 1\n",
        "       else:\n",
        "           vars2 += 1\n",
        "       i += 1\n",
        "   return [keys1, cf1, vars1], [keys2, cf2, vars2]\n"
      ],
      "execution_count": 0,
      "outputs": []
    },
    {
      "metadata": {
        "id": "wOMRmwq25OIu",
        "colab_type": "code",
        "colab": {}
      },
      "cell_type": "code",
      "source": [
        "def matchCode(a, b):\n",
        "   simscore = 0\n",
        "   l1 = a.splitlines()\n",
        "   l2 = b.splitlines()\n",
        "#     print(l1)\n",
        "#     print(l2)\n",
        "   i = 0\n",
        "   m = len(l1)\n",
        "   n = len(l2)\n",
        "   while i < min(m,n):\n",
        "       t1=l1[i].split(\" \")\n",
        "       t2=l2[i].split(\" \")\n",
        "       vec1, vec2 = determineWordType(t1, t2)\n",
        "       difvec = np.subtract(vec1, vec2)\n",
        "       if sum(abs(difvec)) < min(len(t1), len(t2)):\n",
        "           simscore += 1\n",
        "       i += 1\n",
        "   if max(m,n)==0:\n",
        "     return 0.0\n",
        "   return simscore/max(m,n)"
      ],
      "execution_count": 0,
      "outputs": []
    },
    {
      "metadata": {
        "id": "pKRN5C6d6VJb",
        "colab_type": "code",
        "outputId": "21635070-6208-4c94-cca4-561e3d0f5b9c",
        "colab": {
          "base_uri": "https://localhost:8080/",
          "height": 70
        }
      },
      "cell_type": "code",
      "source": [
        "import nltk\n",
        "nltk.download('stopwords')"
      ],
      "execution_count": 0,
      "outputs": [
        {
          "output_type": "stream",
          "text": [
            "[nltk_data] Downloading package stopwords to /root/nltk_data...\n",
            "[nltk_data]   Unzipping corpora/stopwords.zip.\n"
          ],
          "name": "stdout"
        },
        {
          "output_type": "execute_result",
          "data": {
            "text/plain": [
              "True"
            ]
          },
          "metadata": {
            "tags": []
          },
          "execution_count": 16
        }
      ]
    },
    {
      "metadata": {
        "id": "dbVQyGHi5OI5",
        "colab_type": "code",
        "colab": {}
      },
      "cell_type": "code",
      "source": [
        "stop_words = stopwords.words('english')\n",
        "needed_words = ['what', 'which', 'if', 'while', 'for', 'between', 'into', 'from', 'up', 'down', 'in', 'out', 'on', 'off', 'over','then','not','how','do']\n",
        "removing_words = list(set(stop_words).difference(set(needed_words)))"
      ],
      "execution_count": 0,
      "outputs": []
    },
    {
      "metadata": {
        "id": "C0QJbpwE5OJB",
        "colab_type": "code",
        "colab": {}
      },
      "cell_type": "code",
      "source": [
        "lemmatizer = nltk.stem.WordNetLemmatizer()\n",
        "stemmer = nltk.stem.PorterStemmer()\n",
        "w_tokenizer = nltk.tokenize.WhitespaceTokenizer()"
      ],
      "execution_count": 0,
      "outputs": []
    },
    {
      "metadata": {
        "id": "KBOEgQT05OJF",
        "colab_type": "code",
        "colab": {}
      },
      "cell_type": "code",
      "source": [
        "# df = pd.read_csv(\"Questions.csv\", encoding = \"ISO-8859-1\")\n",
        "# print(df.head())"
      ],
      "execution_count": 0,
      "outputs": []
    },
    {
      "metadata": {
        "id": "ZTTG26M15OJk",
        "colab_type": "code",
        "outputId": "afc09e3c-ce7e-43b0-c585-4236c479216b",
        "colab": {
          "base_uri": "https://localhost:8080/",
          "height": 123
        }
      },
      "cell_type": "code",
      "source": [
        "# df1 = pd.read_csv(\"Tags.csv\", encoding = \"ISO-8859-1\")\n",
        "# print(df1.head())"
      ],
      "execution_count": 0,
      "outputs": [
        {
          "output_type": "stream",
          "text": [
            "    Id        Tag\n",
            "0  469     python\n",
            "1  469        osx\n",
            "2  469      fonts\n",
            "3  469  photoshop\n",
            "4  502     python\n"
          ],
          "name": "stdout"
        }
      ]
    },
    {
      "metadata": {
        "id": "WSXFF-RPEiEi",
        "colab_type": "code",
        "outputId": "98b2b349-39d4-46a8-fc31-619d32defcd3",
        "colab": {
          "base_uri": "https://localhost:8080/",
          "height": 248
        }
      },
      "cell_type": "code",
      "source": [
        "# df2 = pd.read_csv(\"Answers.csv\", encoding = \"ISO-8859-1\")\n",
        "# print(df2.head())"
      ],
      "execution_count": 0,
      "outputs": [
        {
          "output_type": "stream",
          "text": [
            "    Id  OwnerUserId          CreationDate  ParentId  Score  \\\n",
            "0  497         50.0  2008-08-02T16:56:53Z       469      4   \n",
            "1  518        153.0  2008-08-02T17:42:28Z       469      2   \n",
            "2  536        161.0  2008-08-02T18:49:07Z       502      9   \n",
            "3  538        156.0  2008-08-02T18:56:56Z       535     23   \n",
            "4  541        157.0  2008-08-02T19:06:40Z       535     20   \n",
            "\n",
            "                                                Body  \n",
            "0  <p>open up a terminal (Applications-&gt;Utilit...  \n",
            "1  <p>I haven't been able to find anything that d...  \n",
            "2  <p>You can use ImageMagick's convert utility f...  \n",
            "3  <p>One possibility is Hudson.  It's written in...  \n",
            "4  <p>We run <a href=\"http://buildbot.net/trac\">B...  \n"
          ],
          "name": "stdout"
        }
      ]
    },
    {
      "metadata": {
        "id": "Dajg0Mhf5OJt",
        "colab_type": "code",
        "colab": {}
      },
      "cell_type": "code",
      "source": [
        "# processed = copy.deepcopy(df)"
      ],
      "execution_count": 0,
      "outputs": []
    },
    {
      "metadata": {
        "id": "7nU3ln-7LNj7",
        "colab_type": "code",
        "colab": {}
      },
      "cell_type": "code",
      "source": [
        "ans_processed = copy.deepcopy(df2)"
      ],
      "execution_count": 0,
      "outputs": []
    },
    {
      "metadata": {
        "id": "Qzn34oH67aME",
        "colab_type": "code",
        "outputId": "fcae6888-6bb7-4846-9308-0a4cb5166376",
        "colab": {
          "base_uri": "https://localhost:8080/",
          "height": 70
        }
      },
      "cell_type": "code",
      "source": [
        "import nltk\n",
        "nltk.download('wordnet')"
      ],
      "execution_count": 0,
      "outputs": [
        {
          "output_type": "stream",
          "text": [
            "[nltk_data] Downloading package wordnet to /root/nltk_data...\n",
            "[nltk_data]   Unzipping corpora/wordnet.zip.\n"
          ],
          "name": "stdout"
        },
        {
          "output_type": "execute_result",
          "data": {
            "text/plain": [
              "True"
            ]
          },
          "metadata": {
            "tags": []
          },
          "execution_count": 25
        }
      ]
    },
    {
      "metadata": {
        "id": "QXRUnQqU5OJ4",
        "colab_type": "code",
        "colab": {}
      },
      "cell_type": "code",
      "source": [
        "# processed['Title'] = preprocess(processed['Title'])\n",
        "# processed['Code'] = processed['Body'].apply(lambda x: extract_code(x))\n",
        "# processed['Body'] = preprocess(processed['Body'].apply(lambda x: extract_body(x)))\n",
        "# processed['Id']=df['Id']\n",
        "# processed.head()"
      ],
      "execution_count": 0,
      "outputs": []
    },
    {
      "metadata": {
        "id": "f99Qa-_7LX06",
        "colab_type": "code",
        "outputId": "b77d405c-c706-42e5-ce83-8c8fcc8cfca9",
        "colab": {
          "base_uri": "https://localhost:8080/",
          "height": 206
        }
      },
      "cell_type": "code",
      "source": [
        "ans_processed['Code'] = ans_processed['Body'].apply(lambda x: extract_code(x))\n",
        "ans_processed['Body'] = preprocess(ans_processed['Body'].apply(lambda x: extract_body(x)))\n",
        "ans_processed['Id']=df2['Id']\n",
        "ans_processed.head()"
      ],
      "execution_count": 0,
      "outputs": [
        {
          "output_type": "execute_result",
          "data": {
            "text/html": [
              "<div>\n",
              "<style scoped>\n",
              "    .dataframe tbody tr th:only-of-type {\n",
              "        vertical-align: middle;\n",
              "    }\n",
              "\n",
              "    .dataframe tbody tr th {\n",
              "        vertical-align: top;\n",
              "    }\n",
              "\n",
              "    .dataframe thead th {\n",
              "        text-align: right;\n",
              "    }\n",
              "</style>\n",
              "<table border=\"1\" class=\"dataframe\">\n",
              "  <thead>\n",
              "    <tr style=\"text-align: right;\">\n",
              "      <th></th>\n",
              "      <th>Id</th>\n",
              "      <th>OwnerUserId</th>\n",
              "      <th>CreationDate</th>\n",
              "      <th>ParentId</th>\n",
              "      <th>Score</th>\n",
              "      <th>Body</th>\n",
              "      <th>Code</th>\n",
              "    </tr>\n",
              "  </thead>\n",
              "  <tbody>\n",
              "    <tr>\n",
              "      <th>0</th>\n",
              "      <td>497</td>\n",
              "      <td>50.0</td>\n",
              "      <td>2008-08-02T16:56:53Z</td>\n",
              "      <td>469</td>\n",
              "      <td>4</td>\n",
              "      <td>open up termin (applications-&amp;gt;utilities-&amp;gt...</td>\n",
              "      <td>[locate InsertFontHere&lt;br/&gt;]</td>\n",
              "    </tr>\n",
              "    <tr>\n",
              "      <th>1</th>\n",
              "      <td>518</td>\n",
              "      <td>153.0</td>\n",
              "      <td>2008-08-02T17:42:28Z</td>\n",
              "      <td>469</td>\n",
              "      <td>2</td>\n",
              "      <td>abl find anyth doe directly. think iter variou...</td>\n",
              "      <td>[/System/Library/Fonts, /Library/Fonts, ~/Libr...</td>\n",
              "    </tr>\n",
              "    <tr>\n",
              "      <th>2</th>\n",
              "      <td>536</td>\n",
              "      <td>161.0</td>\n",
              "      <td>2008-08-02T18:49:07Z</td>\n",
              "      <td>502</td>\n",
              "      <td>9</td>\n",
              "      <td>use imagemagick  convert util for this, see ex...</td>\n",
              "      <td>[Convert taxes.pdf taxes.jpg \\n, convert -size...</td>\n",
              "    </tr>\n",
              "    <tr>\n",
              "      <th>3</th>\n",
              "      <td>538</td>\n",
              "      <td>156.0</td>\n",
              "      <td>2008-08-02T18:56:56Z</td>\n",
              "      <td>535</td>\n",
              "      <td>23</td>\n",
              "      <td>one possibl hudson. written in java, there  in...</td>\n",
              "      <td>[]</td>\n",
              "    </tr>\n",
              "    <tr>\n",
              "      <th>4</th>\n",
              "      <td>541</td>\n",
              "      <td>157.0</td>\n",
              "      <td>2008-08-02T19:06:40Z</td>\n",
              "      <td>535</td>\n",
              "      <td>20</td>\n",
              "      <td>run  a href= http://buildbot.net/trac  buildbo...</td>\n",
              "      <td>[]</td>\n",
              "    </tr>\n",
              "  </tbody>\n",
              "</table>\n",
              "</div>"
            ],
            "text/plain": [
              "    Id  OwnerUserId          CreationDate  ParentId  Score  \\\n",
              "0  497         50.0  2008-08-02T16:56:53Z       469      4   \n",
              "1  518        153.0  2008-08-02T17:42:28Z       469      2   \n",
              "2  536        161.0  2008-08-02T18:49:07Z       502      9   \n",
              "3  538        156.0  2008-08-02T18:56:56Z       535     23   \n",
              "4  541        157.0  2008-08-02T19:06:40Z       535     20   \n",
              "\n",
              "                                                Body  \\\n",
              "0  open up termin (applications-&gt;utilities-&gt...   \n",
              "1  abl find anyth doe directly. think iter variou...   \n",
              "2  use imagemagick  convert util for this, see ex...   \n",
              "3  one possibl hudson. written in java, there  in...   \n",
              "4  run  a href= http://buildbot.net/trac  buildbo...   \n",
              "\n",
              "                                                Code  \n",
              "0                       [locate InsertFontHere<br/>]  \n",
              "1  [/System/Library/Fonts, /Library/Fonts, ~/Libr...  \n",
              "2  [Convert taxes.pdf taxes.jpg \\n, convert -size...  \n",
              "3                                                 []  \n",
              "4                                                 []  "
            ]
          },
          "metadata": {
            "tags": []
          },
          "execution_count": 27
        }
      ]
    },
    {
      "metadata": {
        "id": "9-LTlrrNb8xf",
        "colab_type": "code",
        "outputId": "9c4b8ca3-1cfd-4ebb-80f6-a2101600339c",
        "colab": {
          "base_uri": "https://localhost:8080/",
          "height": 1992
        }
      },
      "cell_type": "code",
      "source": [
        "ans_processed"
      ],
      "execution_count": 0,
      "outputs": [
        {
          "output_type": "execute_result",
          "data": {
            "text/html": [
              "<div>\n",
              "<style scoped>\n",
              "    .dataframe tbody tr th:only-of-type {\n",
              "        vertical-align: middle;\n",
              "    }\n",
              "\n",
              "    .dataframe tbody tr th {\n",
              "        vertical-align: top;\n",
              "    }\n",
              "\n",
              "    .dataframe thead th {\n",
              "        text-align: right;\n",
              "    }\n",
              "</style>\n",
              "<table border=\"1\" class=\"dataframe\">\n",
              "  <thead>\n",
              "    <tr style=\"text-align: right;\">\n",
              "      <th></th>\n",
              "      <th>Id</th>\n",
              "      <th>OwnerUserId</th>\n",
              "      <th>CreationDate</th>\n",
              "      <th>ParentId</th>\n",
              "      <th>Score</th>\n",
              "      <th>Body</th>\n",
              "      <th>Code</th>\n",
              "    </tr>\n",
              "  </thead>\n",
              "  <tbody>\n",
              "    <tr>\n",
              "      <th>0</th>\n",
              "      <td>497</td>\n",
              "      <td>50.0</td>\n",
              "      <td>2008-08-02T16:56:53Z</td>\n",
              "      <td>469</td>\n",
              "      <td>4</td>\n",
              "      <td>open up termin (applications-&amp;gt;utilities-&amp;gt...</td>\n",
              "      <td>[locate InsertFontHere&lt;br/&gt;]</td>\n",
              "    </tr>\n",
              "    <tr>\n",
              "      <th>1</th>\n",
              "      <td>518</td>\n",
              "      <td>153.0</td>\n",
              "      <td>2008-08-02T17:42:28Z</td>\n",
              "      <td>469</td>\n",
              "      <td>2</td>\n",
              "      <td>abl find anyth doe directly. think iter variou...</td>\n",
              "      <td>[/System/Library/Fonts, /Library/Fonts, ~/Libr...</td>\n",
              "    </tr>\n",
              "    <tr>\n",
              "      <th>2</th>\n",
              "      <td>536</td>\n",
              "      <td>161.0</td>\n",
              "      <td>2008-08-02T18:49:07Z</td>\n",
              "      <td>502</td>\n",
              "      <td>9</td>\n",
              "      <td>use imagemagick  convert util for this, see ex...</td>\n",
              "      <td>[Convert taxes.pdf taxes.jpg \\n, convert -size...</td>\n",
              "    </tr>\n",
              "    <tr>\n",
              "      <th>3</th>\n",
              "      <td>538</td>\n",
              "      <td>156.0</td>\n",
              "      <td>2008-08-02T18:56:56Z</td>\n",
              "      <td>535</td>\n",
              "      <td>23</td>\n",
              "      <td>one possibl hudson. written in java, there  in...</td>\n",
              "      <td>[]</td>\n",
              "    </tr>\n",
              "    <tr>\n",
              "      <th>4</th>\n",
              "      <td>541</td>\n",
              "      <td>157.0</td>\n",
              "      <td>2008-08-02T19:06:40Z</td>\n",
              "      <td>535</td>\n",
              "      <td>20</td>\n",
              "      <td>run  a href= http://buildbot.net/trac  buildbo...</td>\n",
              "      <td>[]</td>\n",
              "    </tr>\n",
              "    <tr>\n",
              "      <th>5</th>\n",
              "      <td>595</td>\n",
              "      <td>116.0</td>\n",
              "      <td>2008-08-03T01:17:36Z</td>\n",
              "      <td>594</td>\n",
              "      <td>25</td>\n",
              "      <td>canon way use built-in cursor iterator.  hr/  ...</td>\n",
              "      <td>[curs.execute('select * from people')\\nfor row...</td>\n",
              "    </tr>\n",
              "    <tr>\n",
              "      <th>6</th>\n",
              "      <td>660</td>\n",
              "      <td>197.0</td>\n",
              "      <td>2008-08-03T12:09:18Z</td>\n",
              "      <td>535</td>\n",
              "      <td>14</td>\n",
              "      <td>second buildbot - trac integration. find infor...</td>\n",
              "      <td>[]</td>\n",
              "    </tr>\n",
              "    <tr>\n",
              "      <th>7</th>\n",
              "      <td>701</td>\n",
              "      <td>111.0</td>\n",
              "      <td>2008-08-03T14:30:50Z</td>\n",
              "      <td>683</td>\n",
              "      <td>3</td>\n",
              "      <td>no, not dreaming. python ha pretti excel list ...</td>\n",
              "      <td>[    files = os.listdir(path)                 ...</td>\n",
              "    </tr>\n",
              "    <tr>\n",
              "      <th>8</th>\n",
              "      <td>735</td>\n",
              "      <td>145.0</td>\n",
              "      <td>2008-08-03T15:47:22Z</td>\n",
              "      <td>683</td>\n",
              "      <td>-2</td>\n",
              "      <td>think: what think of. tri see if certain key e...</td>\n",
              "      <td>[#!/bin/python&lt;br/&gt;bar in dict(Foo)&lt;br/&gt;, has_...</td>\n",
              "    </tr>\n",
              "    <tr>\n",
              "      <th>9</th>\n",
              "      <td>745</td>\n",
              "      <td>154.0</td>\n",
              "      <td>2008-08-03T15:59:19Z</td>\n",
              "      <td>683</td>\n",
              "      <td>8</td>\n",
              "      <td>look get list object certain attribute  if so,...</td>\n",
              "      <td>[result = [obj for obj in listOfObjs if hasatt...</td>\n",
              "    </tr>\n",
              "    <tr>\n",
              "      <th>10</th>\n",
              "      <td>750</td>\n",
              "      <td>199.0</td>\n",
              "      <td>2008-08-03T16:13:29Z</td>\n",
              "      <td>683</td>\n",
              "      <td>2</td>\n",
              "      <td>what wa think achiev use list comprehensions, ...</td>\n",
              "      <td>[foo = 12&lt;br/&gt;foo in iter_attr(bar, 'id'), foo...</td>\n",
              "    </tr>\n",
              "    <tr>\n",
              "      <th>11</th>\n",
              "      <td>764</td>\n",
              "      <td>NaN</td>\n",
              "      <td>2008-08-03T17:40:25Z</td>\n",
              "      <td>742</td>\n",
              "      <td>0</td>\n",
              "      <td>sound like tri combin thing combined. if need ...</td>\n",
              "      <td>[]</td>\n",
              "    </tr>\n",
              "    <tr>\n",
              "      <th>12</th>\n",
              "      <td>777</td>\n",
              "      <td>150.0</td>\n",
              "      <td>2008-08-03T18:32:27Z</td>\n",
              "      <td>766</td>\n",
              "      <td>5</td>\n",
              "      <td>experi  a href= http://www.siteground.com  rel...</td>\n",
              "      <td>[#!/usr/bin/python&lt;br/&gt;&lt;br/&gt;module_name = 'MyS...</td>\n",
              "    </tr>\n",
              "    <tr>\n",
              "      <th>13</th>\n",
              "      <td>783</td>\n",
              "      <td>189.0</td>\n",
              "      <td>2008-08-03T18:40:09Z</td>\n",
              "      <td>773</td>\n",
              "      <td>52</td>\n",
              "      <td>show u code  exampl on python doc quit straigh...</td>\n",
              "      <td>[groups = []\\nuniquekeys = []\\nfor k, g in gro...</td>\n",
              "    </tr>\n",
              "    <tr>\n",
              "      <th>14</th>\n",
              "      <td>802</td>\n",
              "      <td>1384652.0</td>\n",
              "      <td>2008-08-03T20:07:05Z</td>\n",
              "      <td>766</td>\n",
              "      <td>4</td>\n",
              "      <td>upload got intern error much play around, foun...</td>\n",
              "      <td>[Premature end of script headers&lt;br/&gt;, import ...</td>\n",
              "    </tr>\n",
              "    <tr>\n",
              "      <th>15</th>\n",
              "      <td>982</td>\n",
              "      <td>200.0</td>\n",
              "      <td>2008-08-04T02:31:13Z</td>\n",
              "      <td>972</td>\n",
              "      <td>14</td>\n",
              "      <td>in python monkey patch gener work overwrit cla...</td>\n",
              "      <td>[from SomeOtherProduct.SomeModule import SomeC...</td>\n",
              "    </tr>\n",
              "    <tr>\n",
              "      <th>16</th>\n",
              "      <td>984</td>\n",
              "      <td>122.0</td>\n",
              "      <td>2008-08-04T02:36:40Z</td>\n",
              "      <td>972</td>\n",
              "      <td>-6</td>\n",
              "      <td>know python syntax, know rubi do it, rather tr...</td>\n",
              "      <td>[class Array&lt;br/&gt;  def print_length&lt;br/&gt;    pu...</td>\n",
              "    </tr>\n",
              "    <tr>\n",
              "      <th>17</th>\n",
              "      <td>1478</td>\n",
              "      <td>305.0</td>\n",
              "      <td>2008-08-04T18:26:13Z</td>\n",
              "      <td>1476</td>\n",
              "      <td>-1</td>\n",
              "      <td>far tell python, up 2.5, support hexadecim &amp;am...</td>\n",
              "      <td>[]</td>\n",
              "    </tr>\n",
              "    <tr>\n",
              "      <th>18</th>\n",
              "      <td>1479</td>\n",
              "      <td>269.0</td>\n",
              "      <td>2008-08-04T18:27:26Z</td>\n",
              "      <td>1476</td>\n",
              "      <td>-1</td>\n",
              "      <td>pretti sure one thing due chang in python 3.0 ...</td>\n",
              "      <td>[]</td>\n",
              "    </tr>\n",
              "    <tr>\n",
              "      <th>19</th>\n",
              "      <td>1484</td>\n",
              "      <td>2089740.0</td>\n",
              "      <td>2008-08-04T18:34:45Z</td>\n",
              "      <td>1476</td>\n",
              "      <td>57</td>\n",
              "      <td>anoth way.</td>\n",
              "      <td>[&amp;gt;&amp;gt;&amp;gt; print int('01010101111',2)\\n687\\...</td>\n",
              "    </tr>\n",
              "    <tr>\n",
              "      <th>20</th>\n",
              "      <td>1619</td>\n",
              "      <td>92.0</td>\n",
              "      <td>2008-08-04T21:54:11Z</td>\n",
              "      <td>766</td>\n",
              "      <td>17</td>\n",
              "      <td>mysqldb what use before. if host use python ve...</td>\n",
              "      <td>[]</td>\n",
              "    </tr>\n",
              "    <tr>\n",
              "      <th>21</th>\n",
              "      <td>1780</td>\n",
              "      <td>77.0</td>\n",
              "      <td>2008-08-05T01:14:30Z</td>\n",
              "      <td>1734</td>\n",
              "      <td>8</td>\n",
              "      <td>if look for user face interaction, stick xml. ...</td>\n",
              "      <td>[]</td>\n",
              "    </tr>\n",
              "    <tr>\n",
              "      <th>22</th>\n",
              "      <td>1840</td>\n",
              "      <td>116.0</td>\n",
              "      <td>2008-08-05T02:54:54Z</td>\n",
              "      <td>1829</td>\n",
              "      <td>8</td>\n",
              "      <td>on linux: set raw mode select read keystrok re...</td>\n",
              "      <td>[]</td>\n",
              "    </tr>\n",
              "    <tr>\n",
              "      <th>23</th>\n",
              "      <td>1852</td>\n",
              "      <td>116.0</td>\n",
              "      <td>2008-08-05T03:11:55Z</td>\n",
              "      <td>1829</td>\n",
              "      <td>6</td>\n",
              "      <td>on windows:</td>\n",
              "      <td>[import msvcrt\\nanswer=msvcrt.getch()\\n]</td>\n",
              "    </tr>\n",
              "    <tr>\n",
              "      <th>24</th>\n",
              "      <td>1857</td>\n",
              "      <td>2089740.0</td>\n",
              "      <td>2008-08-05T03:27:03Z</td>\n",
              "      <td>1854</td>\n",
              "      <td>341</td>\n",
              "      <td>see:  a href= https://docs.python.org/2/librar...</td>\n",
              "      <td>[&amp;gt;&amp;gt;&amp;gt; import os\\n&amp;gt;&amp;gt;&amp;gt; print os...</td>\n",
              "    </tr>\n",
              "    <tr>\n",
              "      <th>25</th>\n",
              "      <td>1870</td>\n",
              "      <td>30.0</td>\n",
              "      <td>2008-08-05T03:51:57Z</td>\n",
              "      <td>1829</td>\n",
              "      <td>2</td>\n",
              "      <td>wow, took forever. ok, here  what i v end up f...</td>\n",
              "      <td>[#!C:\\python25\\python.exe&lt;br/&gt;import msvcrt&lt;br...</td>\n",
              "    </tr>\n",
              "    <tr>\n",
              "      <th>26</th>\n",
              "      <td>1871</td>\n",
              "      <td>216.0</td>\n",
              "      <td>2008-08-05T03:57:22Z</td>\n",
              "      <td>1854</td>\n",
              "      <td>112</td>\n",
              "      <td>dang -- lbrandi beat punch, mean can t provid ...</td>\n",
              "      <td>[&amp;gt;&amp;gt;&amp;gt; import os\\n&amp;gt;&amp;gt;&amp;gt; os.name\\...</td>\n",
              "    </tr>\n",
              "    <tr>\n",
              "      <th>27</th>\n",
              "      <td>1879</td>\n",
              "      <td>116.0</td>\n",
              "      <td>2008-08-05T04:13:53Z</td>\n",
              "      <td>1854</td>\n",
              "      <td>91</td>\n",
              "      <td>for record here  result on mac:</td>\n",
              "      <td>[&amp;gt;&amp;gt;&amp;gt; import os\\n&amp;gt;&amp;gt;&amp;gt; os.name\\...</td>\n",
              "    </tr>\n",
              "    <tr>\n",
              "      <th>28</th>\n",
              "      <td>1885</td>\n",
              "      <td>50.0</td>\n",
              "      <td>2008-08-05T04:28:03Z</td>\n",
              "      <td>1829</td>\n",
              "      <td>0</td>\n",
              "      <td>reason msvcrt fail in idl idl not access libra...</td>\n",
              "      <td>[]</td>\n",
              "    </tr>\n",
              "    <tr>\n",
              "      <th>29</th>\n",
              "      <td>1987</td>\n",
              "      <td>269.0</td>\n",
              "      <td>2008-08-05T07:27:40Z</td>\n",
              "      <td>1983</td>\n",
              "      <td>19</td>\n",
              "      <td>list [1,2,3] dynam flexibl flexibl come speed ...</td>\n",
              "      <td>[]</td>\n",
              "    </tr>\n",
              "    <tr>\n",
              "      <th>...</th>\n",
              "      <td>...</td>\n",
              "      <td>...</td>\n",
              "      <td>...</td>\n",
              "      <td>...</td>\n",
              "      <td>...</td>\n",
              "      <td>...</td>\n",
              "      <td>...</td>\n",
              "    </tr>\n",
              "    <tr>\n",
              "      <th>987092</th>\n",
              "      <td>40142636</td>\n",
              "      <td>3946040.0</td>\n",
              "      <td>2016-10-19T22:37:16Z</td>\n",
              "      <td>40138527</td>\n",
              "      <td>0</td>\n",
              "      <td>for anyon els face issue, found follow solutio...</td>\n",
              "      <td>[lazy-apps]</td>\n",
              "    </tr>\n",
              "    <tr>\n",
              "      <th>987093</th>\n",
              "      <td>40142703</td>\n",
              "      <td>7039394.0</td>\n",
              "      <td>2016-10-19T22:44:31Z</td>\n",
              "      <td>40120210</td>\n",
              "      <td>0</td>\n",
              "      <td>due error in script, work two instanc celeri e...</td>\n",
              "      <td>[]</td>\n",
              "    </tr>\n",
              "    <tr>\n",
              "      <th>987094</th>\n",
              "      <td>40142718</td>\n",
              "      <td>7040139.0</td>\n",
              "      <td>2016-10-19T22:45:47Z</td>\n",
              "      <td>40142646</td>\n",
              "      <td>-2</td>\n",
              "      <td>tupl immutable.i think impossible.</td>\n",
              "      <td>[]</td>\n",
              "    </tr>\n",
              "    <tr>\n",
              "      <th>987095</th>\n",
              "      <td>40142816</td>\n",
              "      <td>2334254.0</td>\n",
              "      <td>2016-10-19T22:55:57Z</td>\n",
              "      <td>40142752</td>\n",
              "      <td>0</td>\n",
              "      <td>unfortunatli</td>\n",
              "      <td>[import numpy as np\\nfrom scipy.optimize impor...</td>\n",
              "    </tr>\n",
              "    <tr>\n",
              "      <th>987096</th>\n",
              "      <td>40142832</td>\n",
              "      <td>674039.0</td>\n",
              "      <td>2016-10-19T22:57:44Z</td>\n",
              "      <td>40142804</td>\n",
              "      <td>0</td>\n",
              "      <td>error in librari code, invalid shape for numpi...</td>\n",
              "      <td>[(None, 192)]</td>\n",
              "    </tr>\n",
              "    <tr>\n",
              "      <th>987097</th>\n",
              "      <td>40142863</td>\n",
              "      <td>5276520.0</td>\n",
              "      <td>2016-10-19T23:01:30Z</td>\n",
              "      <td>40102595</td>\n",
              "      <td>0</td>\n",
              "      <td>view finit state machin (with three states) wh...</td>\n",
              "      <td>[(, ), (, (, ), from enum import Enum\\n\\nclass...</td>\n",
              "    </tr>\n",
              "    <tr>\n",
              "      <th>987098</th>\n",
              "      <td>40142876</td>\n",
              "      <td>674039.0</td>\n",
              "      <td>2016-10-19T23:02:41Z</td>\n",
              "      <td>40142811</td>\n",
              "      <td>0</td>\n",
              "      <td>actual how data is: list child .</td>\n",
              "      <td>[&amp;gt;&amp;gt;&amp;gt; s = '{\"92\": {\"children\": [{\"87\":...</td>\n",
              "    </tr>\n",
              "    <tr>\n",
              "      <th>987099</th>\n",
              "      <td>40142877</td>\n",
              "      <td>46914.0</td>\n",
              "      <td>2016-10-19T23:02:43Z</td>\n",
              "      <td>40142646</td>\n",
              "      <td>2</td>\n",
              "      <td>choic in django model tuples. key what  meant ...</td>\n",
              "      <td>[(key, value), human, Humans, species = [\\n   ...</td>\n",
              "    </tr>\n",
              "    <tr>\n",
              "      <th>987100</th>\n",
              "      <td>40142893</td>\n",
              "      <td>2063361.0</td>\n",
              "      <td>2016-10-19T23:04:26Z</td>\n",
              "      <td>40142811</td>\n",
              "      <td>2</td>\n",
              "      <td>edit base on edit in question: far output cons...</td>\n",
              "      <td>[92 -&amp;gt; 87;\\n87 -&amp;gt; 87;\\n87 -&amp;gt; 96;\\n92 ...</td>\n",
              "    </tr>\n",
              "    <tr>\n",
              "      <th>987101</th>\n",
              "      <td>40142930</td>\n",
              "      <td>4384797.0</td>\n",
              "      <td>2016-10-19T23:07:47Z</td>\n",
              "      <td>40142686</td>\n",
              "      <td>1</td>\n",
              "      <td>encod non-numer data numer use scikit-learn   ...</td>\n",
              "      <td>[a, b, c, from sklearn.preprocessing import La...</td>\n",
              "    </tr>\n",
              "    <tr>\n",
              "      <th>987102</th>\n",
              "      <td>40142938</td>\n",
              "      <td>6515554.0</td>\n",
              "      <td>2016-10-19T23:08:29Z</td>\n",
              "      <td>40142646</td>\n",
              "      <td>1</td>\n",
              "      <td>would comment, sadli not enough rep. way  a hr...</td>\n",
              "      <td>[CATEGORY_CHOICES = ((1, 'Jobs'),(2, 'Cities')...</td>\n",
              "    </tr>\n",
              "    <tr>\n",
              "      <th>987103</th>\n",
              "      <td>40142943</td>\n",
              "      <td>4784545.0</td>\n",
              "      <td>2016-10-19T23:08:47Z</td>\n",
              "      <td>40142686</td>\n",
              "      <td>1</td>\n",
              "      <td>could convert col1 someth like this: for times...</td>\n",
              "      <td>[import pandas as pd\\nimport string\\ntable = p...</td>\n",
              "    </tr>\n",
              "    <tr>\n",
              "      <th>987104</th>\n",
              "      <td>40142953</td>\n",
              "      <td>674039.0</td>\n",
              "      <td>2016-10-19T23:09:42Z</td>\n",
              "      <td>40142906</td>\n",
              "      <td>2</td>\n",
              "      <td>error here: invalid syntax name bound in for l...</td>\n",
              "      <td>[for barcode(a) in s:\\n, for the_zipcode in s:...</td>\n",
              "    </tr>\n",
              "    <tr>\n",
              "      <th>987105</th>\n",
              "      <td>40142985</td>\n",
              "      <td>3659578.0</td>\n",
              "      <td>2016-10-19T23:13:49Z</td>\n",
              "      <td>39954098</td>\n",
              "      <td>0</td>\n",
              "      <td>person tri do worth troubl end up instal on ub...</td>\n",
              "      <td>[]</td>\n",
              "    </tr>\n",
              "    <tr>\n",
              "      <th>987106</th>\n",
              "      <td>40142996</td>\n",
              "      <td>2874221.0</td>\n",
              "      <td>2016-10-19T23:14:53Z</td>\n",
              "      <td>9058305</td>\n",
              "      <td>0</td>\n",
              "      <td>for instanc myclass, use in place in list comp...</td>\n",
              "      <td>[import re\\n\\nclass MyClass:\\n    a = \"12\"\\n  ...</td>\n",
              "    </tr>\n",
              "    <tr>\n",
              "      <th>987107</th>\n",
              "      <td>40142998</td>\n",
              "      <td>6942565.0</td>\n",
              "      <td>2016-10-19T23:15:05Z</td>\n",
              "      <td>40142380</td>\n",
              "      <td>0</td>\n",
              "      <td>awk do trick:</td>\n",
              "      <td>[awk '{ print \"&amp;gt;\"$1 \"\\n\" $2 &amp;gt;&amp;gt; $3\".tx...</td>\n",
              "    </tr>\n",
              "    <tr>\n",
              "      <th>987108</th>\n",
              "      <td>40143003</td>\n",
              "      <td>7033655.0</td>\n",
              "      <td>2016-10-19T23:15:34Z</td>\n",
              "      <td>40137243</td>\n",
              "      <td>0</td>\n",
              "      <td>in assign class object self.form. in instanti ...</td>\n",
              "      <td>[self.form = MyForm, self.form = MyForm(my_id=...</td>\n",
              "    </tr>\n",
              "    <tr>\n",
              "      <th>987109</th>\n",
              "      <td>40143037</td>\n",
              "      <td>6043170.0</td>\n",
              "      <td>2016-10-19T23:19:40Z</td>\n",
              "      <td>40142901</td>\n",
              "      <td>1</td>\n",
              "      <td>captur return function, make sure return somet...</td>\n",
              "      <td>[modMode, score = 0;\\nmodPassword = \"200605015...</td>\n",
              "    </tr>\n",
              "    <tr>\n",
              "      <th>987110</th>\n",
              "      <td>40143066</td>\n",
              "      <td>375649.0</td>\n",
              "      <td>2016-10-19T23:23:17Z</td>\n",
              "      <td>40142476</td>\n",
              "      <td>1</td>\n",
              "      <td>realli need recurs here.</td>\n",
              "      <td>[def inverse(chars):\\n    char_list = list(cha...</td>\n",
              "    </tr>\n",
              "    <tr>\n",
              "      <th>987111</th>\n",
              "      <td>40143096</td>\n",
              "      <td>6043170.0</td>\n",
              "      <td>2016-10-19T23:26:15Z</td>\n",
              "      <td>40142948</td>\n",
              "      <td>0</td>\n",
              "      <td>hereâ quick dirti way:</td>\n",
              "      <td>[def formatted_tuple(x):\\n    st = '%s' % (x,)...</td>\n",
              "    </tr>\n",
              "    <tr>\n",
              "      <th>987112</th>\n",
              "      <td>40143200</td>\n",
              "      <td>4347976.0</td>\n",
              "      <td>2016-10-19T23:37:20Z</td>\n",
              "      <td>40123820</td>\n",
              "      <td>1</td>\n",
              "      <td>work exampl test on instance. use rest tabl ap...</td>\n",
              "      <td>[#Need to install requests package for python\\...</td>\n",
              "    </tr>\n",
              "    <tr>\n",
              "      <th>987113</th>\n",
              "      <td>40143212</td>\n",
              "      <td>1491895.0</td>\n",
              "      <td>2016-10-19T23:38:17Z</td>\n",
              "      <td>40143190</td>\n",
              "      <td>5</td>\n",
              "      <td>use here-doc:</td>\n",
              "      <td>[result=$(python &amp;lt;&amp;lt;EOF\\nimport stuff\\npr...</td>\n",
              "    </tr>\n",
              "    <tr>\n",
              "      <th>987114</th>\n",
              "      <td>40143231</td>\n",
              "      <td>771848.0</td>\n",
              "      <td>2016-10-19T23:40:22Z</td>\n",
              "      <td>40143133</td>\n",
              "      <td>1</td>\n",
              "      <td>may check valu variabl - would if noth found:</td>\n",
              "      <td>[name_box, None, for row in urllist[4:8]:  \\n ...</td>\n",
              "    </tr>\n",
              "    <tr>\n",
              "      <th>987115</th>\n",
              "      <td>40143239</td>\n",
              "      <td>6640099.0</td>\n",
              "      <td>2016-10-19T23:41:38Z</td>\n",
              "      <td>40142731</td>\n",
              "      <td>2</td>\n",
              "      <td>well mani differ way detect collision, might w...</td>\n",
              "      <td>[pygame.sprite.spritecollide(), pygame.sprite....</td>\n",
              "    </tr>\n",
              "    <tr>\n",
              "      <th>987116</th>\n",
              "      <td>40143247</td>\n",
              "      <td>333403.0</td>\n",
              "      <td>2016-10-19T23:42:35Z</td>\n",
              "      <td>40143190</td>\n",
              "      <td>0</td>\n",
              "      <td>tank  a href= http://stackoverflow.com/a/37222...</td>\n",
              "      <td>[#!/bin/bash\\n\\n# some bash code\\nEND_VALUE=10...</td>\n",
              "    </tr>\n",
              "    <tr>\n",
              "      <th>987117</th>\n",
              "      <td>40143290</td>\n",
              "      <td>3831.0</td>\n",
              "      <td>2016-10-19T23:46:58Z</td>\n",
              "      <td>40142906</td>\n",
              "      <td>0</td>\n",
              "      <td>fairli certain problem use . what doe split st...</td>\n",
              "      <td>[s=zipcode.split(\",\"), '11111'.split(',') # ['...</td>\n",
              "    </tr>\n",
              "    <tr>\n",
              "      <th>987118</th>\n",
              "      <td>40143315</td>\n",
              "      <td>3125566.0</td>\n",
              "      <td>2016-10-19T23:49:43Z</td>\n",
              "      <td>40143166</td>\n",
              "      <td>2</td>\n",
              "      <td>first thing, use instead separ blocks. consid ...</td>\n",
              "      <td>[if/elif, if, guess**3 &amp;gt; num, True, guess, ...</td>\n",
              "    </tr>\n",
              "    <tr>\n",
              "      <th>987119</th>\n",
              "      <td>40143317</td>\n",
              "      <td>2350575.0</td>\n",
              "      <td>2016-10-19T23:50:04Z</td>\n",
              "      <td>40142194</td>\n",
              "      <td>0</td>\n",
              "      <td>if use firefox ver &amp;gt;47.0.1 need execut in s...</td>\n",
              "      <td>[[geckodriver][1], from selenium import webdri...</td>\n",
              "    </tr>\n",
              "    <tr>\n",
              "      <th>987120</th>\n",
              "      <td>40143349</td>\n",
              "      <td>6934347.0</td>\n",
              "      <td>2016-10-19T23:54:02Z</td>\n",
              "      <td>40077010</td>\n",
              "      <td>0</td>\n",
              "      <td>solv problem defin follow function. adjust cod...</td>\n",
              "      <td>[def RandomCrop(image,fMin, fMax):\\n  from ten...</td>\n",
              "    </tr>\n",
              "    <tr>\n",
              "      <th>987121</th>\n",
              "      <td>40143370</td>\n",
              "      <td>6502500.0</td>\n",
              "      <td>2016-10-19T23:56:31Z</td>\n",
              "      <td>40142538</td>\n",
              "      <td>0</td>\n",
              "      <td>can t seem reproduc error upon copi code, got ...</td>\n",
              "      <td>[import scrapy\\nimport json\\n\\n\\nclass SpidyQu...</td>\n",
              "    </tr>\n",
              "  </tbody>\n",
              "</table>\n",
              "<p>987122 rows × 7 columns</p>\n",
              "</div>"
            ],
            "text/plain": [
              "              Id  OwnerUserId          CreationDate  ParentId  Score  \\\n",
              "0            497         50.0  2008-08-02T16:56:53Z       469      4   \n",
              "1            518        153.0  2008-08-02T17:42:28Z       469      2   \n",
              "2            536        161.0  2008-08-02T18:49:07Z       502      9   \n",
              "3            538        156.0  2008-08-02T18:56:56Z       535     23   \n",
              "4            541        157.0  2008-08-02T19:06:40Z       535     20   \n",
              "5            595        116.0  2008-08-03T01:17:36Z       594     25   \n",
              "6            660        197.0  2008-08-03T12:09:18Z       535     14   \n",
              "7            701        111.0  2008-08-03T14:30:50Z       683      3   \n",
              "8            735        145.0  2008-08-03T15:47:22Z       683     -2   \n",
              "9            745        154.0  2008-08-03T15:59:19Z       683      8   \n",
              "10           750        199.0  2008-08-03T16:13:29Z       683      2   \n",
              "11           764          NaN  2008-08-03T17:40:25Z       742      0   \n",
              "12           777        150.0  2008-08-03T18:32:27Z       766      5   \n",
              "13           783        189.0  2008-08-03T18:40:09Z       773     52   \n",
              "14           802    1384652.0  2008-08-03T20:07:05Z       766      4   \n",
              "15           982        200.0  2008-08-04T02:31:13Z       972     14   \n",
              "16           984        122.0  2008-08-04T02:36:40Z       972     -6   \n",
              "17          1478        305.0  2008-08-04T18:26:13Z      1476     -1   \n",
              "18          1479        269.0  2008-08-04T18:27:26Z      1476     -1   \n",
              "19          1484    2089740.0  2008-08-04T18:34:45Z      1476     57   \n",
              "20          1619         92.0  2008-08-04T21:54:11Z       766     17   \n",
              "21          1780         77.0  2008-08-05T01:14:30Z      1734      8   \n",
              "22          1840        116.0  2008-08-05T02:54:54Z      1829      8   \n",
              "23          1852        116.0  2008-08-05T03:11:55Z      1829      6   \n",
              "24          1857    2089740.0  2008-08-05T03:27:03Z      1854    341   \n",
              "25          1870         30.0  2008-08-05T03:51:57Z      1829      2   \n",
              "26          1871        216.0  2008-08-05T03:57:22Z      1854    112   \n",
              "27          1879        116.0  2008-08-05T04:13:53Z      1854     91   \n",
              "28          1885         50.0  2008-08-05T04:28:03Z      1829      0   \n",
              "29          1987        269.0  2008-08-05T07:27:40Z      1983     19   \n",
              "...          ...          ...                   ...       ...    ...   \n",
              "987092  40142636    3946040.0  2016-10-19T22:37:16Z  40138527      0   \n",
              "987093  40142703    7039394.0  2016-10-19T22:44:31Z  40120210      0   \n",
              "987094  40142718    7040139.0  2016-10-19T22:45:47Z  40142646     -2   \n",
              "987095  40142816    2334254.0  2016-10-19T22:55:57Z  40142752      0   \n",
              "987096  40142832     674039.0  2016-10-19T22:57:44Z  40142804      0   \n",
              "987097  40142863    5276520.0  2016-10-19T23:01:30Z  40102595      0   \n",
              "987098  40142876     674039.0  2016-10-19T23:02:41Z  40142811      0   \n",
              "987099  40142877      46914.0  2016-10-19T23:02:43Z  40142646      2   \n",
              "987100  40142893    2063361.0  2016-10-19T23:04:26Z  40142811      2   \n",
              "987101  40142930    4384797.0  2016-10-19T23:07:47Z  40142686      1   \n",
              "987102  40142938    6515554.0  2016-10-19T23:08:29Z  40142646      1   \n",
              "987103  40142943    4784545.0  2016-10-19T23:08:47Z  40142686      1   \n",
              "987104  40142953     674039.0  2016-10-19T23:09:42Z  40142906      2   \n",
              "987105  40142985    3659578.0  2016-10-19T23:13:49Z  39954098      0   \n",
              "987106  40142996    2874221.0  2016-10-19T23:14:53Z   9058305      0   \n",
              "987107  40142998    6942565.0  2016-10-19T23:15:05Z  40142380      0   \n",
              "987108  40143003    7033655.0  2016-10-19T23:15:34Z  40137243      0   \n",
              "987109  40143037    6043170.0  2016-10-19T23:19:40Z  40142901      1   \n",
              "987110  40143066     375649.0  2016-10-19T23:23:17Z  40142476      1   \n",
              "987111  40143096    6043170.0  2016-10-19T23:26:15Z  40142948      0   \n",
              "987112  40143200    4347976.0  2016-10-19T23:37:20Z  40123820      1   \n",
              "987113  40143212    1491895.0  2016-10-19T23:38:17Z  40143190      5   \n",
              "987114  40143231     771848.0  2016-10-19T23:40:22Z  40143133      1   \n",
              "987115  40143239    6640099.0  2016-10-19T23:41:38Z  40142731      2   \n",
              "987116  40143247     333403.0  2016-10-19T23:42:35Z  40143190      0   \n",
              "987117  40143290       3831.0  2016-10-19T23:46:58Z  40142906      0   \n",
              "987118  40143315    3125566.0  2016-10-19T23:49:43Z  40143166      2   \n",
              "987119  40143317    2350575.0  2016-10-19T23:50:04Z  40142194      0   \n",
              "987120  40143349    6934347.0  2016-10-19T23:54:02Z  40077010      0   \n",
              "987121  40143370    6502500.0  2016-10-19T23:56:31Z  40142538      0   \n",
              "\n",
              "                                                     Body  \\\n",
              "0       open up termin (applications-&gt;utilities-&gt...   \n",
              "1       abl find anyth doe directly. think iter variou...   \n",
              "2       use imagemagick  convert util for this, see ex...   \n",
              "3       one possibl hudson. written in java, there  in...   \n",
              "4       run  a href= http://buildbot.net/trac  buildbo...   \n",
              "5       canon way use built-in cursor iterator.  hr/  ...   \n",
              "6       second buildbot - trac integration. find infor...   \n",
              "7       no, not dreaming. python ha pretti excel list ...   \n",
              "8       think: what think of. tri see if certain key e...   \n",
              "9       look get list object certain attribute  if so,...   \n",
              "10      what wa think achiev use list comprehensions, ...   \n",
              "11      sound like tri combin thing combined. if need ...   \n",
              "12      experi  a href= http://www.siteground.com  rel...   \n",
              "13      show u code  exampl on python doc quit straigh...   \n",
              "14      upload got intern error much play around, foun...   \n",
              "15      in python monkey patch gener work overwrit cla...   \n",
              "16      know python syntax, know rubi do it, rather tr...   \n",
              "17      far tell python, up 2.5, support hexadecim &am...   \n",
              "18      pretti sure one thing due chang in python 3.0 ...   \n",
              "19                                             anoth way.   \n",
              "20      mysqldb what use before. if host use python ve...   \n",
              "21      if look for user face interaction, stick xml. ...   \n",
              "22      on linux: set raw mode select read keystrok re...   \n",
              "23                                            on windows:   \n",
              "24      see:  a href= https://docs.python.org/2/librar...   \n",
              "25      wow, took forever. ok, here  what i v end up f...   \n",
              "26      dang -- lbrandi beat punch, mean can t provid ...   \n",
              "27                        for record here  result on mac:   \n",
              "28      reason msvcrt fail in idl idl not access libra...   \n",
              "29      list [1,2,3] dynam flexibl flexibl come speed ...   \n",
              "...                                                   ...   \n",
              "987092  for anyon els face issue, found follow solutio...   \n",
              "987093  due error in script, work two instanc celeri e...   \n",
              "987094                 tupl immutable.i think impossible.   \n",
              "987095                                       unfortunatli   \n",
              "987096  error in librari code, invalid shape for numpi...   \n",
              "987097  view finit state machin (with three states) wh...   \n",
              "987098                   actual how data is: list child .   \n",
              "987099  choic in django model tuples. key what  meant ...   \n",
              "987100  edit base on edit in question: far output cons...   \n",
              "987101  encod non-numer data numer use scikit-learn   ...   \n",
              "987102  would comment, sadli not enough rep. way  a hr...   \n",
              "987103  could convert col1 someth like this: for times...   \n",
              "987104  error here: invalid syntax name bound in for l...   \n",
              "987105  person tri do worth troubl end up instal on ub...   \n",
              "987106  for instanc myclass, use in place in list comp...   \n",
              "987107                                      awk do trick:   \n",
              "987108  in assign class object self.form. in instanti ...   \n",
              "987109  captur return function, make sure return somet...   \n",
              "987110                           realli need recurs here.   \n",
              "987111                           hereâ quick dirti way:   \n",
              "987112  work exampl test on instance. use rest tabl ap...   \n",
              "987113                                      use here-doc:   \n",
              "987114      may check valu variabl - would if noth found:   \n",
              "987115  well mani differ way detect collision, might w...   \n",
              "987116  tank  a href= http://stackoverflow.com/a/37222...   \n",
              "987117  fairli certain problem use . what doe split st...   \n",
              "987118  first thing, use instead separ blocks. consid ...   \n",
              "987119  if use firefox ver &gt;47.0.1 need execut in s...   \n",
              "987120  solv problem defin follow function. adjust cod...   \n",
              "987121  can t seem reproduc error upon copi code, got ...   \n",
              "\n",
              "                                                     Code  \n",
              "0                            [locate InsertFontHere<br/>]  \n",
              "1       [/System/Library/Fonts, /Library/Fonts, ~/Libr...  \n",
              "2       [Convert taxes.pdf taxes.jpg \\n, convert -size...  \n",
              "3                                                      []  \n",
              "4                                                      []  \n",
              "5       [curs.execute('select * from people')\\nfor row...  \n",
              "6                                                      []  \n",
              "7       [    files = os.listdir(path)                 ...  \n",
              "8       [#!/bin/python<br/>bar in dict(Foo)<br/>, has_...  \n",
              "9       [result = [obj for obj in listOfObjs if hasatt...  \n",
              "10      [foo = 12<br/>foo in iter_attr(bar, 'id'), foo...  \n",
              "11                                                     []  \n",
              "12      [#!/usr/bin/python<br/><br/>module_name = 'MyS...  \n",
              "13      [groups = []\\nuniquekeys = []\\nfor k, g in gro...  \n",
              "14      [Premature end of script headers<br/>, import ...  \n",
              "15      [from SomeOtherProduct.SomeModule import SomeC...  \n",
              "16      [class Array<br/>  def print_length<br/>    pu...  \n",
              "17                                                     []  \n",
              "18                                                     []  \n",
              "19      [&gt;&gt;&gt; print int('01010101111',2)\\n687\\...  \n",
              "20                                                     []  \n",
              "21                                                     []  \n",
              "22                                                     []  \n",
              "23               [import msvcrt\\nanswer=msvcrt.getch()\\n]  \n",
              "24      [&gt;&gt;&gt; import os\\n&gt;&gt;&gt; print os...  \n",
              "25      [#!C:\\python25\\python.exe<br/>import msvcrt<br...  \n",
              "26      [&gt;&gt;&gt; import os\\n&gt;&gt;&gt; os.name\\...  \n",
              "27      [&gt;&gt;&gt; import os\\n&gt;&gt;&gt; os.name\\...  \n",
              "28                                                     []  \n",
              "29                                                     []  \n",
              "...                                                   ...  \n",
              "987092                                        [lazy-apps]  \n",
              "987093                                                 []  \n",
              "987094                                                 []  \n",
              "987095  [import numpy as np\\nfrom scipy.optimize impor...  \n",
              "987096                                      [(None, 192)]  \n",
              "987097  [(, ), (, (, ), from enum import Enum\\n\\nclass...  \n",
              "987098  [&gt;&gt;&gt; s = '{\"92\": {\"children\": [{\"87\":...  \n",
              "987099  [(key, value), human, Humans, species = [\\n   ...  \n",
              "987100  [92 -&gt; 87;\\n87 -&gt; 87;\\n87 -&gt; 96;\\n92 ...  \n",
              "987101  [a, b, c, from sklearn.preprocessing import La...  \n",
              "987102  [CATEGORY_CHOICES = ((1, 'Jobs'),(2, 'Cities')...  \n",
              "987103  [import pandas as pd\\nimport string\\ntable = p...  \n",
              "987104  [for barcode(a) in s:\\n, for the_zipcode in s:...  \n",
              "987105                                                 []  \n",
              "987106  [import re\\n\\nclass MyClass:\\n    a = \"12\"\\n  ...  \n",
              "987107  [awk '{ print \"&gt;\"$1 \"\\n\" $2 &gt;&gt; $3\".tx...  \n",
              "987108  [self.form = MyForm, self.form = MyForm(my_id=...  \n",
              "987109  [modMode, score = 0;\\nmodPassword = \"200605015...  \n",
              "987110  [def inverse(chars):\\n    char_list = list(cha...  \n",
              "987111  [def formatted_tuple(x):\\n    st = '%s' % (x,)...  \n",
              "987112  [#Need to install requests package for python\\...  \n",
              "987113  [result=$(python &lt;&lt;EOF\\nimport stuff\\npr...  \n",
              "987114  [name_box, None, for row in urllist[4:8]:  \\n ...  \n",
              "987115  [pygame.sprite.spritecollide(), pygame.sprite....  \n",
              "987116  [#!/bin/bash\\n\\n# some bash code\\nEND_VALUE=10...  \n",
              "987117  [s=zipcode.split(\",\"), '11111'.split(',') # ['...  \n",
              "987118  [if/elif, if, guess**3 &gt; num, True, guess, ...  \n",
              "987119  [[geckodriver][1], from selenium import webdri...  \n",
              "987120  [def RandomCrop(image,fMin, fMax):\\n  from ten...  \n",
              "987121  [import scrapy\\nimport json\\n\\n\\nclass SpidyQu...  \n",
              "\n",
              "[987122 rows x 7 columns]"
            ]
          },
          "metadata": {
            "tags": []
          },
          "execution_count": 28
        }
      ]
    },
    {
      "metadata": {
        "id": "I4MIXEXq_3ym",
        "colab_type": "code",
        "colab": {}
      },
      "cell_type": "code",
      "source": [
        "del df2"
      ],
      "execution_count": 0,
      "outputs": []
    },
    {
      "metadata": {
        "id": "HLIg4rJVMgX4",
        "colab_type": "code",
        "colab": {}
      },
      "cell_type": "code",
      "source": [
        "# pickle.dump(ans_processed, open('ans_processed.pickled', 'wb'))"
      ],
      "execution_count": 0,
      "outputs": []
    },
    {
      "metadata": {
        "id": "6p2MmyNMNbRf",
        "colab_type": "code",
        "colab": {}
      },
      "cell_type": "code",
      "source": [
        "# with open('ans_processed.pickled', 'rb') as reader:\n",
        "#     ans_processed = pickle.load(reader)"
      ],
      "execution_count": 0,
      "outputs": []
    },
    {
      "metadata": {
        "id": "Ukj9F3Bq5OKE",
        "colab_type": "code",
        "colab": {}
      },
      "cell_type": "code",
      "source": [
        "# #Convert everything into lists\n",
        "# id3=processed['Id']\n",
        "# body=processed['Body']\n",
        "# title=processed['Title']\n",
        "# code=processed['Code']\n",
        "# id3=list(id3)\n",
        "# body=list(body)\n",
        "# title=list(title)\n",
        "# code=list(code)"
      ],
      "execution_count": 0,
      "outputs": []
    },
    {
      "metadata": {
        "id": "96azxawP5OKR",
        "colab_type": "code",
        "outputId": "c6e4d6c1-0a5c-4bfe-bb92-ce41aee80410",
        "colab": {}
      },
      "cell_type": "code",
      "source": [
        "# len(code)"
      ],
      "execution_count": 0,
      "outputs": [
        {
          "output_type": "execute_result",
          "data": {
            "text/plain": [
              "200000"
            ]
          },
          "metadata": {
            "tags": []
          },
          "execution_count": 106
        }
      ]
    },
    {
      "metadata": {
        "id": "k3YOU_cb5OKX",
        "colab_type": "code",
        "outputId": "56ca1aaa-237a-49bb-f329-1a4bfb052922",
        "colab": {}
      },
      "cell_type": "code",
      "source": [
        "# code[8][0].split('\\n')"
      ],
      "execution_count": 0,
      "outputs": [
        {
          "output_type": "execute_result",
          "data": {
            "text/plain": [
              "['# offsetFile - file pointer',\n",
              " '# searchTerms - list of words',\n",
              " '',\n",
              " 'for line in offsetFile:',\n",
              " '    for word in searchTerms:',\n",
              " '        if word in line:',\n",
              " '           # here get the next two terms after the word',\n",
              " '']"
            ]
          },
          "metadata": {
            "tags": []
          },
          "execution_count": 113
        }
      ]
    },
    {
      "metadata": {
        "id": "K9Lb9ugzQiLS",
        "colab_type": "code",
        "outputId": "7345e55d-f467-4476-b02a-fa6b9b74c235",
        "colab": {
          "base_uri": "https://localhost:8080/",
          "height": 55
        }
      },
      "cell_type": "code",
      "source": [
        "# processed['Code'][100]"
      ],
      "execution_count": 0,
      "outputs": [
        {
          "output_type": "execute_result",
          "data": {
            "text/plain": [
              "['class MyStruct():\\n    def __init__(self, field1, field2, field3):\\n        self.field1 = field1\\n        self.field2 = field2\\n        self.field3 = field3\\n']"
            ]
          },
          "metadata": {
            "tags": []
          },
          "execution_count": 28
        }
      ]
    },
    {
      "metadata": {
        "id": "UoWdA-9FbeqT",
        "colab_type": "code",
        "outputId": "03ef0cba-7943-4ca1-ff3a-2473f2b119fa",
        "colab": {
          "base_uri": "https://localhost:8080/",
          "height": 35
        }
      },
      "cell_type": "code",
      "source": [
        "# len(processed['Code'])"
      ],
      "execution_count": 0,
      "outputs": [
        {
          "output_type": "execute_result",
          "data": {
            "text/plain": [
              "607282"
            ]
          },
          "metadata": {
            "tags": []
          },
          "execution_count": 89
        }
      ]
    },
    {
      "metadata": {
        "id": "a1NxyZ2Mqbnv",
        "colab_type": "text"
      },
      "cell_type": "markdown",
      "source": [
        "### Load processed pickle file"
      ]
    },
    {
      "metadata": {
        "id": "lLldXeZHnVOM",
        "colab_type": "code",
        "colab": {}
      },
      "cell_type": "code",
      "source": [
        "import pickle"
      ],
      "execution_count": 0,
      "outputs": []
    },
    {
      "metadata": {
        "id": "yNaLy4FDnXf3",
        "colab_type": "code",
        "colab": {}
      },
      "cell_type": "code",
      "source": [
        "# pickle.dump(processed, open('processed.pickled', 'wb'))"
      ],
      "execution_count": 0,
      "outputs": []
    },
    {
      "metadata": {
        "id": "K-ENBY81oOUq",
        "colab_type": "code",
        "colab": {}
      },
      "cell_type": "code",
      "source": [
        "with open('processed.pickled', 'rb') as reader:\n",
        "    processed = pickle.load(reader)"
      ],
      "execution_count": 0,
      "outputs": []
    },
    {
      "metadata": {
        "id": "kgk9VDtFG5e_",
        "colab_type": "code",
        "outputId": "ed54ed3e-142a-408c-8f0b-b2de3eedda65",
        "colab": {
          "base_uri": "https://localhost:8080/",
          "height": 275
        }
      },
      "cell_type": "code",
      "source": [
        "processed.head()"
      ],
      "execution_count": 0,
      "outputs": [
        {
          "output_type": "execute_result",
          "data": {
            "text/html": [
              "<div>\n",
              "<style scoped>\n",
              "    .dataframe tbody tr th:only-of-type {\n",
              "        vertical-align: middle;\n",
              "    }\n",
              "\n",
              "    .dataframe tbody tr th {\n",
              "        vertical-align: top;\n",
              "    }\n",
              "\n",
              "    .dataframe thead th {\n",
              "        text-align: right;\n",
              "    }\n",
              "</style>\n",
              "<table border=\"1\" class=\"dataframe\">\n",
              "  <thead>\n",
              "    <tr style=\"text-align: right;\">\n",
              "      <th></th>\n",
              "      <th>Id</th>\n",
              "      <th>OwnerUserId</th>\n",
              "      <th>CreationDate</th>\n",
              "      <th>Score</th>\n",
              "      <th>Title</th>\n",
              "      <th>Body</th>\n",
              "      <th>Code</th>\n",
              "    </tr>\n",
              "  </thead>\n",
              "  <tbody>\n",
              "    <tr>\n",
              "      <th>0</th>\n",
              "      <td>469</td>\n",
              "      <td>147.0</td>\n",
              "      <td>2008-08-02T15:11:16Z</td>\n",
              "      <td>21</td>\n",
              "      <td>how find full path font from display name on mac</td>\n",
              "      <td>use photoshop  javascript api find font in giv...</td>\n",
              "      <td>[]</td>\n",
              "    </tr>\n",
              "    <tr>\n",
              "      <th>1</th>\n",
              "      <td>502</td>\n",
              "      <td>147.0</td>\n",
              "      <td>2008-08-02T17:01:58Z</td>\n",
              "      <td>27</td>\n",
              "      <td>get preview jpeg pdf on windows</td>\n",
              "      <td>cross-platform (python) applic which need gene...</td>\n",
              "      <td>[]</td>\n",
              "    </tr>\n",
              "    <tr>\n",
              "      <th>2</th>\n",
              "      <td>535</td>\n",
              "      <td>154.0</td>\n",
              "      <td>2008-08-02T18:43:54Z</td>\n",
              "      <td>40</td>\n",
              "      <td>continu integr system for python codebas</td>\n",
              "      <td>i m start work on hobbi project python codebas...</td>\n",
              "      <td>[]</td>\n",
              "    </tr>\n",
              "    <tr>\n",
              "      <th>3</th>\n",
              "      <td>594</td>\n",
              "      <td>116.0</td>\n",
              "      <td>2008-08-03T01:15:08Z</td>\n",
              "      <td>25</td>\n",
              "      <td>cx_oracle: how do iter over result set</td>\n",
              "      <td>sever way iter over result set. what tradeoff ...</td>\n",
              "      <td>[]</td>\n",
              "    </tr>\n",
              "    <tr>\n",
              "      <th>4</th>\n",
              "      <td>683</td>\n",
              "      <td>199.0</td>\n",
              "      <td>2008-08-03T13:19:16Z</td>\n",
              "      <td>28</td>\n",
              "      <td>use  in  match attribut python object in array</td>\n",
              "      <td>rememb whether wa dream not seem recal functio...</td>\n",
              "      <td>[foo in iter_attr(array of python objects, att...</td>\n",
              "    </tr>\n",
              "  </tbody>\n",
              "</table>\n",
              "</div>"
            ],
            "text/plain": [
              "    Id  OwnerUserId          CreationDate  Score  \\\n",
              "0  469        147.0  2008-08-02T15:11:16Z     21   \n",
              "1  502        147.0  2008-08-02T17:01:58Z     27   \n",
              "2  535        154.0  2008-08-02T18:43:54Z     40   \n",
              "3  594        116.0  2008-08-03T01:15:08Z     25   \n",
              "4  683        199.0  2008-08-03T13:19:16Z     28   \n",
              "\n",
              "                                               Title  \\\n",
              "0  how find full path font from display name on mac    \n",
              "1                   get preview jpeg pdf on windows    \n",
              "2           continu integr system for python codebas   \n",
              "3            cx_oracle: how do iter over result set    \n",
              "4     use  in  match attribut python object in array   \n",
              "\n",
              "                                                Body  \\\n",
              "0  use photoshop  javascript api find font in giv...   \n",
              "1  cross-platform (python) applic which need gene...   \n",
              "2  i m start work on hobbi project python codebas...   \n",
              "3  sever way iter over result set. what tradeoff ...   \n",
              "4  rememb whether wa dream not seem recal functio...   \n",
              "\n",
              "                                                Code  \n",
              "0                                                 []  \n",
              "1                                                 []  \n",
              "2                                                 []  \n",
              "3                                                 []  \n",
              "4  [foo in iter_attr(array of python objects, att...  "
            ]
          },
          "metadata": {
            "tags": []
          },
          "execution_count": 29
        }
      ]
    },
    {
      "metadata": {
        "id": "NzDjTQpXdzYS",
        "colab_type": "text"
      },
      "cell_type": "markdown",
      "source": [
        "### Filter python code"
      ]
    },
    {
      "metadata": {
        "id": "xpFFLHau8G6-",
        "colab_type": "code",
        "colab": {}
      },
      "cell_type": "code",
      "source": [
        "def locatePCode(code):\n",
        "    keywords = ['for', 'while', 'if', 'elif', 'else', 'try', 'except', 'def', 'from', 'class']\n",
        "    l = code.splitlines()\n",
        "#     print(l)\n",
        "    n = len(l)\n",
        "    c = 0\n",
        "    for i in l:\n",
        "        w = i.split(\" \")\n",
        "#         print(w)\n",
        "        for j in w:\n",
        "            if j != ' ':\n",
        "                if j in keywords:\n",
        "                    c += 1\n",
        "                break\n",
        "#         print(c)\n",
        "    if c > 0:\n",
        "        return True\n",
        "    else:\n",
        "        return False"
      ],
      "execution_count": 0,
      "outputs": []
    },
    {
      "metadata": {
        "id": "I-olvyREQg8d",
        "colab_type": "code",
        "colab": {}
      },
      "cell_type": "code",
      "source": [
        "# x = ['class MyStruct():\\n    def __init__(self, field1, field2, field3):\\n        self.field1 = field1\\n        self.field2 = field2\\n        self.field3 = field3\\n']\n",
        "# locatePCode(''.join(x))\n",
        "# processed['Id']"
      ],
      "execution_count": 0,
      "outputs": []
    },
    {
      "metadata": {
        "id": "GUTBEN0z8J1B",
        "colab_type": "code",
        "colab": {}
      },
      "cell_type": "code",
      "source": [
        "def filterCode(code, Id, df):\n",
        "    selec_code = []\n",
        "    n = 0\n",
        "    for i in code:\n",
        "        if i == []:\n",
        "            selec_code.append([Id[n], df['Score'][n], df['Title'][n], df['Body'][n], i])\n",
        "        else:\n",
        "            flag = locatePCode(''.join(i))\n",
        "            if flag is True:\n",
        "                selec_code.append([Id[n], df['Score'][n], df['Title'][n], df['Body'][n], i])\n",
        "        n += 1\n",
        "    return selec_code"
      ],
      "execution_count": 0,
      "outputs": []
    },
    {
      "metadata": {
        "id": "lZzmUclNJlvd",
        "colab_type": "code",
        "colab": {}
      },
      "cell_type": "code",
      "source": [
        "selec_code = filterCode(processed['Code'], processed['Id'], processed)"
      ],
      "execution_count": 0,
      "outputs": []
    },
    {
      "metadata": {
        "id": "Ugev1D22d30T",
        "colab_type": "code",
        "colab": {}
      },
      "cell_type": "code",
      "source": [
        "# pickle.dump(selec_code, open('pfiltered_ques.pickled','wb'))"
      ],
      "execution_count": 0,
      "outputs": []
    },
    {
      "metadata": {
        "id": "BzjOetDJe2b_",
        "colab_type": "code",
        "colab": {}
      },
      "cell_type": "code",
      "source": [
        "with open('pfiltered_ques.pickled', 'rb') as reader:\n",
        "    selec_code = pickle.load(reader)"
      ],
      "execution_count": 0,
      "outputs": []
    },
    {
      "metadata": {
        "id": "3vFHIq-6gem6",
        "colab_type": "code",
        "outputId": "54561b46-4654-4b4b-8002-0141c9d470ae",
        "colab": {
          "base_uri": "https://localhost:8080/",
          "height": 35
        }
      },
      "cell_type": "code",
      "source": [
        "len(selec_code)"
      ],
      "execution_count": 0,
      "outputs": [
        {
          "output_type": "execute_result",
          "data": {
            "text/plain": [
              "351367"
            ]
          },
          "metadata": {
            "tags": []
          },
          "execution_count": 21
        }
      ]
    },
    {
      "metadata": {
        "id": "q6Akcxr5BSI-",
        "colab_type": "code",
        "colab": {}
      },
      "cell_type": "code",
      "source": [
        "selec_code = np.array(selec_code)"
      ],
      "execution_count": 0,
      "outputs": []
    },
    {
      "metadata": {
        "id": "rEdc3wuOBXUw",
        "colab_type": "code",
        "outputId": "a2a346eb-3c83-4fcc-9ab8-f2141743de15",
        "colab": {
          "base_uri": "https://localhost:8080/",
          "height": 35
        }
      },
      "cell_type": "code",
      "source": [
        "selec_code.shape"
      ],
      "execution_count": 0,
      "outputs": [
        {
          "output_type": "execute_result",
          "data": {
            "text/plain": [
              "(351367, 5)"
            ]
          },
          "metadata": {
            "tags": []
          },
          "execution_count": 23
        }
      ]
    },
    {
      "metadata": {
        "id": "axWIvtfAOBEM",
        "colab_type": "code",
        "colab": {}
      },
      "cell_type": "code",
      "source": [
        "def filterAnswers(Id, ParId, df):\n",
        "    selec_ans = []\n",
        "    n = 0\n",
        "    for i in ParId:\n",
        "        if i in Id:\n",
        "            selec_ans.append([df['Id'][n], df['ParentId'][n], df['Score'][n], df['Body'][n], df['Code'][n]])\n",
        "        n += 1\n",
        "    return selec_ans"
      ],
      "execution_count": 0,
      "outputs": []
    },
    {
      "metadata": {
        "id": "ULHAlucKOGA7",
        "colab_type": "code",
        "colab": {}
      },
      "cell_type": "code",
      "source": [
        "selec_ans = filterAnswers(set(selec_code[:,0]), ans_processed['ParentId'], ans_processed)"
      ],
      "execution_count": 0,
      "outputs": []
    },
    {
      "metadata": {
        "id": "l67MfuEhCER-",
        "colab_type": "code",
        "outputId": "d98120c2-ef38-4c3d-c46f-e6a8507f6fb5",
        "colab": {
          "base_uri": "https://localhost:8080/",
          "height": 35
        }
      },
      "cell_type": "code",
      "source": [
        "selec_ans[0][4]"
      ],
      "execution_count": 0,
      "outputs": [
        {
          "output_type": "execute_result",
          "data": {
            "text/plain": [
              "['locate InsertFontHere<br/>']"
            ]
          },
          "metadata": {
            "tags": []
          },
          "execution_count": 61
        }
      ]
    },
    {
      "metadata": {
        "id": "ekBNqepjTLQq",
        "colab_type": "code",
        "colab": {}
      },
      "cell_type": "code",
      "source": [
        "pickle.dump(selec_ans, open(\"pfiltered_ans.pickled\", 'wb'))"
      ],
      "execution_count": 0,
      "outputs": []
    },
    {
      "metadata": {
        "id": "zYIaTJ6BfIy4",
        "colab_type": "text"
      },
      "cell_type": "markdown",
      "source": [
        "### Processing Tags, etc."
      ]
    },
    {
      "metadata": {
        "id": "Q87OPVA30J47",
        "colab_type": "code",
        "colab": {}
      },
      "cell_type": "code",
      "source": [
        "qId = selec_code[:,0]"
      ],
      "execution_count": 0,
      "outputs": []
    },
    {
      "metadata": {
        "id": "O7naT8Ny5EL3",
        "colab_type": "code",
        "outputId": "748e3fbf-aed4-48cd-abe4-4e414554e3d6",
        "colab": {
          "base_uri": "https://localhost:8080/",
          "height": 35
        }
      },
      "cell_type": "code",
      "source": [
        "len(qId)"
      ],
      "execution_count": 0,
      "outputs": [
        {
          "output_type": "execute_result",
          "data": {
            "text/plain": [
              "351367"
            ]
          },
          "metadata": {
            "tags": []
          },
          "execution_count": 45
        }
      ]
    },
    {
      "metadata": {
        "id": "dVmW6x3d4Ryq",
        "colab_type": "code",
        "outputId": "0772bfbf-3669-4bb5-ecc9-c55f7ca545e2",
        "colab": {
          "base_uri": "https://localhost:8080/",
          "height": 35
        }
      },
      "cell_type": "code",
      "source": [
        "qId[:10]"
      ],
      "execution_count": 0,
      "outputs": [
        {
          "output_type": "execute_result",
          "data": {
            "text/plain": [
              "array([469, 502, 535, 594, 742, 766, 1734, 1829, 1854, 2311], dtype=object)"
            ]
          },
          "metadata": {
            "tags": []
          },
          "execution_count": 38
        }
      ]
    },
    {
      "metadata": {
        "id": "sq-rUjki2rBe",
        "colab_type": "code",
        "outputId": "0e3042a7-99cb-4944-cc70-a3b65edf4531",
        "colab": {
          "base_uri": "https://localhost:8080/",
          "height": 676
        }
      },
      "cell_type": "code",
      "source": [
        "df1.head(20)"
      ],
      "execution_count": 0,
      "outputs": [
        {
          "output_type": "execute_result",
          "data": {
            "text/html": [
              "<div>\n",
              "<style scoped>\n",
              "    .dataframe tbody tr th:only-of-type {\n",
              "        vertical-align: middle;\n",
              "    }\n",
              "\n",
              "    .dataframe tbody tr th {\n",
              "        vertical-align: top;\n",
              "    }\n",
              "\n",
              "    .dataframe thead th {\n",
              "        text-align: right;\n",
              "    }\n",
              "</style>\n",
              "<table border=\"1\" class=\"dataframe\">\n",
              "  <thead>\n",
              "    <tr style=\"text-align: right;\">\n",
              "      <th></th>\n",
              "      <th>Id</th>\n",
              "      <th>Tag</th>\n",
              "    </tr>\n",
              "  </thead>\n",
              "  <tbody>\n",
              "    <tr>\n",
              "      <th>0</th>\n",
              "      <td>469</td>\n",
              "      <td>python</td>\n",
              "    </tr>\n",
              "    <tr>\n",
              "      <th>1</th>\n",
              "      <td>469</td>\n",
              "      <td>osx</td>\n",
              "    </tr>\n",
              "    <tr>\n",
              "      <th>2</th>\n",
              "      <td>469</td>\n",
              "      <td>fonts</td>\n",
              "    </tr>\n",
              "    <tr>\n",
              "      <th>3</th>\n",
              "      <td>469</td>\n",
              "      <td>photoshop</td>\n",
              "    </tr>\n",
              "    <tr>\n",
              "      <th>4</th>\n",
              "      <td>502</td>\n",
              "      <td>python</td>\n",
              "    </tr>\n",
              "    <tr>\n",
              "      <th>5</th>\n",
              "      <td>502</td>\n",
              "      <td>windows</td>\n",
              "    </tr>\n",
              "    <tr>\n",
              "      <th>6</th>\n",
              "      <td>502</td>\n",
              "      <td>image</td>\n",
              "    </tr>\n",
              "    <tr>\n",
              "      <th>7</th>\n",
              "      <td>502</td>\n",
              "      <td>pdf</td>\n",
              "    </tr>\n",
              "    <tr>\n",
              "      <th>8</th>\n",
              "      <td>535</td>\n",
              "      <td>python</td>\n",
              "    </tr>\n",
              "    <tr>\n",
              "      <th>9</th>\n",
              "      <td>535</td>\n",
              "      <td>continuous-integration</td>\n",
              "    </tr>\n",
              "    <tr>\n",
              "      <th>10</th>\n",
              "      <td>535</td>\n",
              "      <td>extreme-programming</td>\n",
              "    </tr>\n",
              "    <tr>\n",
              "      <th>11</th>\n",
              "      <td>594</td>\n",
              "      <td>python</td>\n",
              "    </tr>\n",
              "    <tr>\n",
              "      <th>12</th>\n",
              "      <td>594</td>\n",
              "      <td>sql</td>\n",
              "    </tr>\n",
              "    <tr>\n",
              "      <th>13</th>\n",
              "      <td>594</td>\n",
              "      <td>database</td>\n",
              "    </tr>\n",
              "    <tr>\n",
              "      <th>14</th>\n",
              "      <td>594</td>\n",
              "      <td>oracle</td>\n",
              "    </tr>\n",
              "    <tr>\n",
              "      <th>15</th>\n",
              "      <td>594</td>\n",
              "      <td>cx-oracle</td>\n",
              "    </tr>\n",
              "    <tr>\n",
              "      <th>16</th>\n",
              "      <td>683</td>\n",
              "      <td>python</td>\n",
              "    </tr>\n",
              "    <tr>\n",
              "      <th>17</th>\n",
              "      <td>683</td>\n",
              "      <td>arrays</td>\n",
              "    </tr>\n",
              "    <tr>\n",
              "      <th>18</th>\n",
              "      <td>683</td>\n",
              "      <td>iteration</td>\n",
              "    </tr>\n",
              "    <tr>\n",
              "      <th>19</th>\n",
              "      <td>742</td>\n",
              "      <td>python</td>\n",
              "    </tr>\n",
              "  </tbody>\n",
              "</table>\n",
              "</div>"
            ],
            "text/plain": [
              "     Id                     Tag\n",
              "0   469                  python\n",
              "1   469                     osx\n",
              "2   469                   fonts\n",
              "3   469               photoshop\n",
              "4   502                  python\n",
              "5   502                 windows\n",
              "6   502                   image\n",
              "7   502                     pdf\n",
              "8   535                  python\n",
              "9   535  continuous-integration\n",
              "10  535     extreme-programming\n",
              "11  594                  python\n",
              "12  594                     sql\n",
              "13  594                database\n",
              "14  594                  oracle\n",
              "15  594               cx-oracle\n",
              "16  683                  python\n",
              "17  683                  arrays\n",
              "18  683               iteration\n",
              "19  742                  python"
            ]
          },
          "metadata": {
            "tags": []
          },
          "execution_count": 50
        }
      ]
    },
    {
      "metadata": {
        "id": "1EX9AbYo0k_E",
        "colab_type": "code",
        "colab": {}
      },
      "cell_type": "code",
      "source": [
        "# selec_tags = []\n",
        "# n = 0\n",
        "# for i in qId:\n",
        "#     flag = False\n",
        "#     while i == df1['Id'][n]:\n",
        "#         selec_tags.append([df1['Id'][n], df1['Tag'][n]])\n",
        "#         n += 1\n",
        "#         flag = True\n",
        "#     if flag is False:\n",
        "#         n += 1"
      ],
      "execution_count": 0,
      "outputs": []
    },
    {
      "metadata": {
        "id": "iv3xhRgS6CB1",
        "colab_type": "code",
        "colab": {}
      },
      "cell_type": "code",
      "source": [
        "selec_tags = []\n",
        "qId = set(qId)\n",
        "for i in range(len(df1['Id'])):\n",
        "    if df1['Id'][i] in qId:\n",
        "        selec_tags.append([df1['Id'][i], df1['Tag'][i]])"
      ],
      "execution_count": 0,
      "outputs": []
    },
    {
      "metadata": {
        "id": "o9A3OVWF3fjP",
        "colab_type": "code",
        "outputId": "08d5b48b-16b4-4e63-cae1-319651f7d92c",
        "colab": {
          "base_uri": "https://localhost:8080/",
          "height": 35
        }
      },
      "cell_type": "code",
      "source": [
        "selec_tags[0]"
      ],
      "execution_count": 0,
      "outputs": [
        {
          "output_type": "execute_result",
          "data": {
            "text/plain": [
              "[469, 'python']"
            ]
          },
          "metadata": {
            "tags": []
          },
          "execution_count": 53
        }
      ]
    },
    {
      "metadata": {
        "id": "lDhFsCUZ6lRl",
        "colab_type": "code",
        "colab": {}
      },
      "cell_type": "code",
      "source": [
        "pickle.dump(selec_tags, open('pfiltered_tags.pickled','wb'))"
      ],
      "execution_count": 0,
      "outputs": []
    },
    {
      "metadata": {
        "id": "G6EG86bMk3oe",
        "colab_type": "code",
        "colab": {}
      },
      "cell_type": "code",
      "source": [
        "def filterTags(Id, Tags):\n",
        "    ftags = []\n",
        "    n = 0\n",
        "    for i in Tags:\n",
        "        if i == 'python':\n",
        "            ftags.append(Id[n])\n",
        "        n += 1\n",
        "    return ftags"
      ],
      "execution_count": 0,
      "outputs": []
    },
    {
      "metadata": {
        "id": "KUHYh1aFl5i5",
        "colab_type": "code",
        "colab": {}
      },
      "cell_type": "code",
      "source": [
        "ftags = filterTags(df1['Id'], df1['Tag'])"
      ],
      "execution_count": 0,
      "outputs": []
    },
    {
      "metadata": {
        "id": "8z6j0fi35OKe",
        "colab_type": "code",
        "outputId": "5dbfba29-098a-4c71-87bc-60de5ea81b51",
        "colab": {
          "base_uri": "https://localhost:8080/",
          "height": 35
        }
      },
      "cell_type": "code",
      "source": [
        "len(ftags)"
      ],
      "execution_count": 0,
      "outputs": [
        {
          "output_type": "execute_result",
          "data": {
            "text/plain": [
              "607283"
            ]
          },
          "metadata": {
            "tags": []
          },
          "execution_count": 87
        }
      ]
    },
    {
      "metadata": {
        "id": "e9D4v4RNmbV6",
        "colab_type": "code",
        "colab": {}
      },
      "cell_type": "code",
      "source": [
        "questions_with_hash={}\n",
        "for i in range(len(id3)):\n",
        "    temp={}\n",
        "    temp['body']=body[i]\n",
        "    temp['title']=title[i]\n",
        "    temp['code']=code[i]\n",
        "    questions_with_hash[id3[i]]=temp"
      ],
      "execution_count": 0,
      "outputs": []
    },
    {
      "metadata": {
        "id": "UKwceCpP5OKh",
        "colab_type": "code",
        "colab": {}
      },
      "cell_type": "code",
      "source": [
        ""
      ],
      "execution_count": 0,
      "outputs": []
    },
    {
      "metadata": {
        "id": "w0bdy1BY5OKs",
        "colab_type": "code",
        "colab": {}
      },
      "cell_type": "code",
      "source": [
        "id1=df1['Id']\n",
        "id1=list(id1)\n",
        "tag=df1['Tag']\n",
        "tag=list(tag)"
      ],
      "execution_count": 0,
      "outputs": []
    },
    {
      "metadata": {
        "id": "LyFOsXyQ5OKz",
        "colab_type": "code",
        "colab": {}
      },
      "cell_type": "code",
      "source": [
        "# tags_unique=list(set(tag))"
      ],
      "execution_count": 0,
      "outputs": []
    },
    {
      "metadata": {
        "id": "5PPz0K3v5OK8",
        "colab_type": "code",
        "colab": {}
      },
      "cell_type": "code",
      "source": [
        ""
      ],
      "execution_count": 0,
      "outputs": []
    },
    {
      "metadata": {
        "id": "Lthl9F7d5OLB",
        "colab_type": "code",
        "colab": {}
      },
      "cell_type": "code",
      "source": [
        "quesid_invertedindex={}\n",
        "for i in range(len(id1)):\n",
        "    if tag[i] not in quesid_invertedindex.keys():\n",
        "        temp=[]\n",
        "        temp.append(id1[i])\n",
        "        quesid_invertedindex[tag[i]]=temp\n",
        "    else:\n",
        "        quesid_invertedindex[tag[i]].append(id1[i])\n",
        "        "
      ],
      "execution_count": 0,
      "outputs": []
    },
    {
      "metadata": {
        "id": "ns9O5kr45OLI",
        "colab_type": "code",
        "colab": {}
      },
      "cell_type": "code",
      "source": [
        "flag={}\n",
        "for i in quesid_invertedindex.keys():\n",
        "    flag[i]=0"
      ],
      "execution_count": 0,
      "outputs": []
    },
    {
      "metadata": {
        "id": "ts3w2Crh5OLN",
        "colab_type": "code",
        "colab": {}
      },
      "cell_type": "code",
      "source": [
        ""
      ],
      "execution_count": 0,
      "outputs": []
    },
    {
      "metadata": {
        "id": "xX5y1X0I5OLc",
        "colab_type": "code",
        "outputId": "fc2deb19-c739-4df0-eae8-aced1e9eed52",
        "colab": {}
      },
      "cell_type": "code",
      "source": [
        "tag_list={}\n",
        "counter=0\n",
        "for i in range(len(tag)):\n",
        "    counter+=1\n",
        "    if tag[i]=='python' or tag[i]=='python-2.7' or tag[i]=='python-3.0':\n",
        "        continue\n",
        "    if counter%50000==0:\n",
        "        print(\"Counter : \",counter)\n",
        "    try:\n",
        "        flag2=tag_list[tag[i]]\n",
        "        temp_t=questions_with_hash[id1[i]]     \n",
        "        tag_list[tag[i]]['body']+=temp_t['body']\n",
        "        tag_list[tag[i]]['title']+=temp_t['title']\n",
        "        tag_list[tag[i]]['code'].append(temp_t['code'])\n",
        "        flag[tag[i]]+=1\n",
        "                         \n",
        "    except:\n",
        "        temp_t=questions_with_hash[id1[i]]\n",
        "        temp={}\n",
        "        temp['body']=temp_t['body']\n",
        "        temp['title']=temp_t['title']\n",
        "        temp1=[]\n",
        "        temp1.append(temp_t['code'])\n",
        "        temp['code']=temp1\n",
        "        tag_list[tag[i]]=temp\n",
        "        flag[tag[i]]+=1\n",
        "        \n",
        "        \n",
        "        "
      ],
      "execution_count": 0,
      "outputs": [
        {
          "output_type": "stream",
          "text": [
            "Counter :  50000\n",
            "Counter :  100000\n",
            "Counter :  150000\n",
            "Counter :  200000\n",
            "Counter :  250000\n",
            "Counter :  300000\n",
            "Counter :  350000\n",
            "Counter :  500000\n"
          ],
          "name": "stdout"
        }
      ]
    },
    {
      "metadata": {
        "id": "FNyXOWTw5OLi",
        "colab_type": "code",
        "colab": {}
      },
      "cell_type": "code",
      "source": [
        ""
      ],
      "execution_count": 0,
      "outputs": []
    },
    {
      "metadata": {
        "id": "SFp_15yN5OLj",
        "colab_type": "code",
        "outputId": "23ada603-d3af-4a03-9d81-89d6b680694c",
        "colab": {}
      },
      "cell_type": "code",
      "source": [
        "print(\"...........................User Query..........................\")\n",
        "query_body=input(\"Enter the Question Body : \")\n",
        "query_code=input(\"Enter the Question Code\")"
      ],
      "execution_count": 0,
      "outputs": [
        {
          "output_type": "stream",
          "text": [
            "...........................User Query..........................\n",
            "Enter the Question Body : how to concatenate two dictionaries to create a new one in Python?\n",
            "Enter the Question Code\n"
          ],
          "name": "stdout"
        }
      ]
    },
    {
      "metadata": {
        "id": "BIF068ZS5OLo",
        "colab_type": "code",
        "colab": {}
      },
      "cell_type": "code",
      "source": [
        "#Assigning weights to zonal section\n",
        "weight_title=6\n",
        "weight_body=4\n",
        "weight_code=3"
      ],
      "execution_count": 0,
      "outputs": []
    },
    {
      "metadata": {
        "id": "5nqsEk7o5OLy",
        "colab_type": "code",
        "colab": {}
      },
      "cell_type": "code",
      "source": [
        "tokenizer=RegexpTokenizer('\\s+',gaps=True)"
      ],
      "execution_count": 0,
      "outputs": []
    },
    {
      "metadata": {
        "id": "GMQ3z0ph5OL2",
        "colab_type": "code",
        "colab": {}
      },
      "cell_type": "code",
      "source": [
        ""
      ],
      "execution_count": 0,
      "outputs": []
    },
    {
      "metadata": {
        "id": "nXemu9hH5OMB",
        "colab_type": "code",
        "colab": {}
      },
      "cell_type": "code",
      "source": [
        "body_corpus = pickle.load(open(\"body.txt\", \"rb\") )\n",
        "title_corpus = pickle.load(open(\"title.txt\", \"rb\" ) )"
      ],
      "execution_count": 0,
      "outputs": []
    },
    {
      "metadata": {
        "id": "RdaS2Wz15OME",
        "colab_type": "code",
        "colab": {}
      },
      "cell_type": "code",
      "source": [
        ""
      ],
      "execution_count": 0,
      "outputs": []
    },
    {
      "metadata": {
        "id": "vGQdYYs85OMH",
        "colab_type": "code",
        "outputId": "4d205ad3-62c8-4bcc-8c39-53930c734821",
        "colab": {}
      },
      "cell_type": "code",
      "source": [
        "#It needed when body.txt and title.txt deleted. \n",
        "\n",
        "# title_corpus=''\n",
        "# body_corpus=''\n",
        "# counter=0\n",
        "# for i in range(len(title)):\n",
        "#     counter+=1\n",
        "#     if counter%20000==0:\n",
        "#         print(\"Counter : \",counter)\n",
        "#     temp=tokenizer.tokenize(title[i])\n",
        "#     temp1=tokenizer.tokenize(body[i])\n",
        "#     for j in range(len(temp)):\n",
        "#         title_corpus+=\" \"+ temp[j]\n",
        "#     for j in range(len(temp1)):\n",
        "#         body_corpus+=\" \"+ temp1[j]\n",
        "        \n",
        "\n"
      ],
      "execution_count": 0,
      "outputs": [
        {
          "output_type": "stream",
          "text": [
            "Counter :  20000\n",
            "Counter :  40000\n",
            "Counter :  60000\n",
            "Counter :  80000\n",
            "Counter :  100000\n",
            "Counter :  120000\n",
            "Counter :  140000\n",
            "Counter :  160000\n",
            "Counter :  180000\n",
            "Counter :  200000\n"
          ],
          "name": "stdout"
        }
      ]
    },
    {
      "metadata": {
        "id": "-z1ZG8KE5OML",
        "colab_type": "code",
        "colab": {}
      },
      "cell_type": "code",
      "source": [
        "with open(\"tag_list.txt\", 'wb') as f:\n",
        "    pickle.dump(tag_list, f)"
      ],
      "execution_count": 0,
      "outputs": []
    },
    {
      "metadata": {
        "id": "sG8g6CmK5OMP",
        "colab_type": "code",
        "colab": {}
      },
      "cell_type": "code",
      "source": [
        "with open(\"body.txt\", 'wb') as f:\n",
        "    pickle.dump(body_corpus, f)"
      ],
      "execution_count": 0,
      "outputs": []
    },
    {
      "metadata": {
        "id": "zdQVNQgz5OMX",
        "colab_type": "code",
        "colab": {}
      },
      "cell_type": "code",
      "source": [
        "with open(\"title.txt\", 'wb') as f:\n",
        "    pickle.dump(title_corpus, f) "
      ],
      "execution_count": 0,
      "outputs": []
    },
    {
      "metadata": {
        "id": "XgnW3F9f5OMa",
        "colab_type": "code",
        "colab": {}
      },
      "cell_type": "code",
      "source": [
        ""
      ],
      "execution_count": 0,
      "outputs": []
    },
    {
      "metadata": {
        "id": "94WDUriZ5OMe",
        "colab_type": "code",
        "colab": {}
      },
      "cell_type": "code",
      "source": [
        "title_corpus_main=[]\n",
        "title_corpus_main.append(title_corpus)\n"
      ],
      "execution_count": 0,
      "outputs": []
    },
    {
      "metadata": {
        "id": "1EKOTPoo5OMg",
        "colab_type": "code",
        "colab": {}
      },
      "cell_type": "code",
      "source": [
        "body_corpus_main=[]\n",
        "body_corpus_main.append(body_corpus)"
      ],
      "execution_count": 0,
      "outputs": []
    },
    {
      "metadata": {
        "id": "8cOjO97d5OMj",
        "colab_type": "code",
        "colab": {}
      },
      "cell_type": "code",
      "source": [
        "#For Title using question body\n",
        "vc_title_tag = CountVectorizer() #TfidfVectorizer()\n",
        "vec_title = vc_title_tag.fit_transform(title_corpus_main)\n",
        "q_title = vc_title_tag.transform(preprocess(pd.DataFrame([query_body])[0]))"
      ],
      "execution_count": 0,
      "outputs": []
    },
    {
      "metadata": {
        "id": "MWR-Q1655OMm",
        "colab_type": "code",
        "colab": {}
      },
      "cell_type": "code",
      "source": [
        ""
      ],
      "execution_count": 0,
      "outputs": []
    },
    {
      "metadata": {
        "id": "o3jzQ0Vy5OMo",
        "colab_type": "code",
        "colab": {}
      },
      "cell_type": "code",
      "source": [
        "#For body using question bod\n",
        "vc_body_tag = CountVectorizer() #TfidfVectorizer()\n",
        "vec_body = vc_body_tag.fit_transform(body_corpus_main)\n",
        "q_title1 = vc_body_tag.transform(preprocess(pd.DataFrame([query_body])[0]))"
      ],
      "execution_count": 0,
      "outputs": []
    },
    {
      "metadata": {
        "id": "tknwGHbp5OMr",
        "colab_type": "code",
        "colab": {}
      },
      "cell_type": "code",
      "source": [
        ""
      ],
      "execution_count": 0,
      "outputs": []
    },
    {
      "metadata": {
        "id": "c96jOESG5OMt",
        "colab_type": "code",
        "colab": {}
      },
      "cell_type": "code",
      "source": [
        ""
      ],
      "execution_count": 0,
      "outputs": []
    },
    {
      "metadata": {
        "id": "0rq7rDDX5OMv",
        "colab_type": "code",
        "colab": {}
      },
      "cell_type": "code",
      "source": [
        ""
      ],
      "execution_count": 0,
      "outputs": []
    },
    {
      "metadata": {
        "id": "Wv8vxqQV5OMy",
        "colab_type": "code",
        "outputId": "6ff57c83-d518-4d84-b26f-de2286efc1b0",
        "colab": {}
      },
      "cell_type": "code",
      "source": [
        "#For body title of tagslist in which I have the body, tiltle and code for each tags at one place.\n",
        "tokenizer = RegexpTokenizer(r'\\w+')\n",
        "similarity_body=[]\n",
        "similarity_title=[]\n",
        "similarity_code=[]\n",
        "tag_similar=[]\n",
        "counter=0\n",
        "for i in tag_list.keys():\n",
        "    counter+=1\n",
        "    if counter%2000==0:\n",
        "        print(\"Counter : \",counter)\n",
        "    a=[]\n",
        "    a.append(tag_list[i]['body'])\n",
        "    sim1=vc_body_tag.transform(a)\n",
        "    similarity_body.append(pairwise_distances(sim1, q_title1)[0][0])\n",
        "    a=[]\n",
        "    a.append(tag_list[i]['title'])\n",
        "    sim1=vc_title_tag.transform(a)\n",
        "    similarity_title.append(pairwise_distances(sim1, q_title)[0][0])    \n",
        "    tag_similar.append(i)\n",
        "#     sim1=matchCode(tag_list[i]['code'],query_code)\n"
      ],
      "execution_count": 0,
      "outputs": [
        {
          "output_type": "stream",
          "text": [
            "Counter :  2000\n",
            "Counter :  4000\n",
            "Counter :  6000\n",
            "Counter :  8000\n",
            "Counter :  10000\n"
          ],
          "name": "stdout"
        }
      ]
    },
    {
      "metadata": {
        "id": "UfEoKsJx5OM_",
        "colab_type": "code",
        "colab": {}
      },
      "cell_type": "code",
      "source": [
        ""
      ],
      "execution_count": 0,
      "outputs": []
    },
    {
      "metadata": {
        "id": "yEg1_9-95ONA",
        "colab_type": "code",
        "outputId": "473247b5-0035-4f8d-a2db-955dfefe96ed",
        "colab": {}
      },
      "cell_type": "code",
      "source": [
        "rel=int(input(\"Enter the number of relevant tags : \"))\n",
        "main_score=[]\n",
        "for i in range(len(similarity_body)):\n",
        "    main_score.append(similarity_body[i]*weight_body+similarity_title[i]*weight_title)\n",
        "a=copy.deepcopy(np.array(main_score))\n"
      ],
      "execution_count": 0,
      "outputs": [
        {
          "output_type": "stream",
          "text": [
            "Enter the number of relevant tags : 30\n"
          ],
          "name": "stdout"
        }
      ]
    },
    {
      "metadata": {
        "id": "2SsMpZbB5ONE",
        "colab_type": "code",
        "colab": {}
      },
      "cell_type": "code",
      "source": [
        ""
      ],
      "execution_count": 0,
      "outputs": []
    },
    {
      "metadata": {
        "id": "p27UcMmL5ONK",
        "colab_type": "code",
        "colab": {}
      },
      "cell_type": "code",
      "source": [
        "rel_opt=find_tags(list(a),rel)"
      ],
      "execution_count": 0,
      "outputs": []
    },
    {
      "metadata": {
        "id": "T_GTCiBy5ONM",
        "colab_type": "code",
        "colab": {}
      },
      "cell_type": "code",
      "source": [
        ""
      ],
      "execution_count": 0,
      "outputs": []
    },
    {
      "metadata": {
        "id": "ElXD-N_b5ONU",
        "colab_type": "code",
        "colab": {}
      },
      "cell_type": "code",
      "source": [
        "#Another approach to take top relevant tags\n",
        "list_top=heapq.nlargest(rel_opt, range(len(a)), a.take)"
      ],
      "execution_count": 0,
      "outputs": []
    },
    {
      "metadata": {
        "id": "lnfXpSFn5ONa",
        "colab_type": "code",
        "outputId": "b8967fdb-9a37-41c0-9664-d5782417398f",
        "colab": {}
      },
      "cell_type": "code",
      "source": [
        "print(\"More Similar tags for give Question are : \",list_top)"
      ],
      "execution_count": 0,
      "outputs": [
        {
          "output_type": "stream",
          "text": [
            "More Similar tags for give Question are :  [10, 98, 44, 21, 33, 63, 91, 32]\n"
          ],
          "name": "stdout"
        }
      ]
    },
    {
      "metadata": {
        "id": "VzHT-S9B5ONk",
        "colab_type": "code",
        "outputId": "6c70474a-f1e0-4327-e495-978df1287bc8",
        "colab": {}
      },
      "cell_type": "code",
      "source": [
        "tags1=[]\n",
        "for i in range(len(list_top)):\n",
        "    tags1.append(tag_similar[list_top[i]])\n",
        "    print(tag_similar[list_top[i]])"
      ],
      "execution_count": 0,
      "outputs": [
        {
          "output_type": "stream",
          "text": [
            "django\n",
            "pandas\n",
            "numpy\n",
            "python-3.x\n",
            "list\n",
            "matplotlib\n",
            "dictionary\n",
            "regex\n"
          ],
          "name": "stdout"
        }
      ]
    },
    {
      "metadata": {
        "id": "LGzYPzTT5ONs",
        "colab_type": "code",
        "colab": {}
      },
      "cell_type": "code",
      "source": [
        ""
      ],
      "execution_count": 0,
      "outputs": []
    },
    {
      "metadata": {
        "id": "mnO-mbDZ5ONv",
        "colab_type": "code",
        "colab": {}
      },
      "cell_type": "code",
      "source": [
        ""
      ],
      "execution_count": 0,
      "outputs": []
    },
    {
      "metadata": {
        "id": "AwEUpdNp5ONx",
        "colab_type": "code",
        "colab": {}
      },
      "cell_type": "code",
      "source": [
        "#List of Question IDs most relevant to user questions\n",
        "ques_id=[]\n",
        "for i in range(len(tags1)):\n",
        "    ques_id+=quesid_invertedindex[tags1[i]]\n"
      ],
      "execution_count": 0,
      "outputs": []
    },
    {
      "metadata": {
        "id": "n0D8wfWx5ONy",
        "colab_type": "code",
        "outputId": "d977b17a-fe4d-4acd-eca8-3b3460fe2e86",
        "colab": {}
      },
      "cell_type": "code",
      "source": [
        "print(\"Questions ID are : \")\n",
        "print(ques_id)"
      ],
      "execution_count": 0,
      "outputs": [
        {
          "output_type": "stream",
          "text": [
            "Questions ID are : \n",
            "[26719088, 16985054, 14643654, 39237058, 12625050, 39676866, 23300065, 21750153, 30941527, 39902092, 12572342, 1689122, 30545392, 36205162, 23989874, 29739940, 32506633, 26912294, 29546760, 36538215, 32443471, 38357279, 36463401, 20279489, 7311203, 26884233, 986594, 32315498, 24748883, 21534239, 21818417, 27702532, 20542953, 5612390, 27525510, 32540327, 38268097, 37264511, 32988472, 20557903, 14473010, 25160064, 27427795, 5911223, 23470877, 32958610, 7614940, 18612594, 13014411, 25337937, 34020291, 13995724, 26653010, 28034588, 31699070, 10691113, 27801465, 15897155, 15445629, 39505586, 20395691, 1852693, 32520430, 35672111, 38922969, 15321812, 22085963, 38924271, 25820894, 20910461, 18450858, 38096940, 18191387, 20430031, 15029666, 29840382, 27203277, 25625529, 4013536, 4107534, 26754378, 26959136, 9302995, 18530083, 392784, 10826342, 12988973, 16375884, 34534578, 39540328, 8244272, 18977761, 22060182, 13494989, 15735157, 22498948, 27375391, 4513676, 38577308, 2540298, 11069140, 29815799, 29739626, 12339608, 27573710, 33907386, 22689886, 13835736, 21138218, 14679224, 20852744, 26259459, 39886690, 40115565, 33052553, 21378559, 18926888, 23707143, 14763654, 27765605, 30726624, 26367325, 11514970, 15099923, 10622828, 3546382, 5079734, 18217027, 16738414, 33972587, 7613616, 19925264, 39345346, 20934922, 35072169, 24630362, 30405350, 32161516, 37368511, 23436321, 13600005, 26801486, 23107890, 3315362, 27879950, 31829801, 39855488, 18277911, 38267814, 26672337, 27932502, 32484797, 36078625, 37473108, 21512785, 24685529, 39243933, 11084688, 13095999, 31418350, 33282992, 39537463, 2981630, 32227824, 11406906, 22990690, 36468727, 18350598, 39977328, 34190091, 35541209, 6462404, 31929985, 34985726, 22013492, 34421136, 25610546, 19179621, 11445143, 1920053, 26799498, 39847663, 9846854, 38927355, 32578977, 28440718, 23034361, 7197929, 13313230, 31802249, 13551492, 21641584, 14766753, 23346194, 38267489, 20828111, 30671808, 29590459, 33698207, 24804377, 23512735, 29372708, 36413391, 6292817, 14450645, 22579184, 35473272, 39856025, 36521017, 3390722, 33058479, 13313609, 17015152, 30151567, 35539778, 11249901, 39156132, 39632403, 35436404, 25908254, 4325058, 21049248, 22936995, 14214928, 38040240, 1745919, 29392647, 26869823, 2490759, 26493254, 20646758, 13482004, 37152307, 6585951, 7480896, 2526172, 6024340, 6128921, 20666856, 22022163, 4068210, 36926446, 5816142, 14367670, 22496752, 14076691, 36338291, 38815932, 12353389, 16685804, 2337825, 9674688, 37934630, 32723228, 35602345, 26588396, 6382065, 24331420, 8822439, 29283425, 10449514, 22700286, 20256597, 12252198, 13857007, 4399986, 38683217, 24425298, 19940774, 36016716, 28045586, 38606989, 13518222, 39114502, 33445313, 18755909, 11619693, 16404339, 13821959, 30210101, 19961860, 35373245, 37177683, 31195183, 25318198, 18038180, 4302404, 20466158, 37308246, 36155846, 39537095, 5069495, 14962780, 6051043, 39088151, 32833154, 36147643, 30624086, 17189115, 5037556, 22735721, 29864653, 35627214, 35988760, 22083218, 33813004, 25759532, 4604814, 26924236, 11549835, 24620414, 17635998, 38480133, 16288407, 29460797, 7733002, 36152913, 29803608, 6468397, 32567808, 14677104, 27115871, 31102519, 28330412, 33053349, 30835442, 27390566, 5179198, 15578416, 23831816, 26919169, 31224860, 22574066, 22350754, 31808852, 39757225, 4356989, 1818224, 739191, 25770812, 37750109, 20462310, 25065276, 7622262, 25457680, 7868205, 34194246, 34427964, 994281, 19651514, 34473978, 9695798, 20379246, 35096607, 38268062, 29593014, 17756761, 24566444, 38336079, 18114576, 16135681, 29251915, 30037301, 20754806, 1628676, 21370673, 8798924, 4131120, 17480934, 37618263, 28468048, 25030656, 33857960, 18014728, 2876494, 25504868, 36293061, 4812253, 17960311, 17452889, 38307523, 24585666, 21830654, 36485025, 36866544, 3517928, 20385597, 8071586, 12958702, 11041886, 4520219, 35257759, 26238976, 36438619, 36605866, 13491756, 33385880, 31432397, 39974796, 25070051, 36932742, 15300422, 24844121, 1555060, 35268725, 11474742, 31845439, 31876213, 8936711, 9648390, 26986014, 8788277, 37251024, 34703487, 33965746, 32196844, 32207605, 34627516, 6644987, 39413987, 40062810, 30203323, 5637365, 18073717, 23501810, 20515726, 38735842, 29867010, 27401896, 2474609, 28027566, 31913880, 3641138, 13276086, 20995602, 23839886, 2624686, 12164453, 25220561, 14188348, 32780983, 32179779, 25052248, 32500454, 14719355, 38934600, 9853786, 10940291, 3659561, 39354500, 4686736, 32473348, 3547699, 35030152, 8575781, 20342619, 23474940, 25965162, 30180380, 6005026, 20875455, 39573710, 11478146, 37799182, 39285232, 20116901, 10957743, 2902800, 4313932, 36327573, 15800243, 32727485, 17165797, 24722374, 38841118, 3442376, 1885292, 27351512, 21948139, 7795463, 37603486, 3219576, 4258277, 13636064, 35717768, 26125154, 26429970, 4999577, 26653721, 23567814, 8232434, 19358431, 34836507, 38171998, 28151621, 36508811, 29538388, 34246749, 15529252, 26475588, 36877796, 25900814, 31272632, 2565484, 952216, 35072711, 27686639, 32452458, 9690369, 35249347, 34885381, 33348277, 23259484, 31203713, 32634259, 37579442, 20180297, 10223743, 36145119, 18188403, 37519550, 37905598, 29567488, 35188286, 7182165, 32050331, 33315436, 32370950, 33282564, 25898216, 33765328, 16630725, 9247669, 8006872, 2180847, 32528224, 37958296, 11281734, 21037386, 24937131, 20298124, 27174058, 23593670, 27541433, 32820137, 35450152, 31192798, 27493508, 33959577, 11942014, 4598877, 27084889, 39559280, 31109307, 14170439, 28110678, 35386726, 34283205, 27279526, 25851183, 24746098, 20839820, 16215110, 18369234, 21693342, 8897807, 24243744, 35746279, 13350427, 27350084, 18191765, 1818236, 20707381, 29334673, 9298159, 21687637, 36192440, 17685355, 37640184, 16301806, 38936674, 29290479, 12835464, 5227682, 33961965, 6425535, 19707734, 39066199, 4005347, 26495728, 25876084, 39123396, 11960916, 28801413, 38903297, 22816452, 24482218, 34972012, 23047766, 37881916, 2495985, 13481352, 37389728, 34153570, 6108474, 30030757, 8702772, 19459264, 31394529, 37802030, 30106298, 36856301, 38923306, 20130926, 14241642, 40124519, 39478510, 11922543, 33974715, 38294394, 23265970, 37679106, 1493874, 29352145, 10439654, 5494962, 39547220, 35357798, 33626144, 10668655, 34689962, 18914951, 18379291, 38673401, 36668797, 20548688, 36434404, 31414924, 5994921, 16497025, 36101233, 18065405, 37902128, 6095888, 2459246, 2899178, 26647535, 18757462, 26917922, 27903816, 21779424, 2690971, 3110166, 979371, 32838922, 10585174, 35716640, 37700060, 37540744, 37773364, 15000030, 7464941, 23639412, 21119812, 2264833, 33465218, 32510015, 4093872, 16427312, 31736738, 35257406, 9121785, 22415489, 12458170, 8783569, 38023545, 39860583, 11969258, 25732990, 39453137, 39982277, 4812106, 21301781, 35056833, 18987654, 23415753, 10613932, 33504543, 15340772, 36551800, 30459974, 3041077, 28072987, 34174874, 3250463, 4611410, 23136122, 6810742, 14746236, 10637996, 17684616, 14046785, 29440014, 30896863, 13516708, 5375742, 28618221, 36135100, 9559733, 27209474, 21400382, 31664828, 17361380, 29915865, 28794015, 26926929, 31975662, 12352859, 2861770, 26486328, 9240190, 1173798, 33516939, 21896685, 29335382, 2416677, 1643332, 15043248, 32619110, 3367371, 21340479, 39534564, 30054481, 19655886, 35505324, 26497259, 29068275, 22083090, 39315684, 32176872, 9245424, 29196352, 6578986, 39800137, 34642686, 21096170, 28377265, 33530224, 9486699, 1835658, 8190894, 15693006, 26900727, 24287684, 31100311, 4644317, 3988165, 38209529, 23881352, 7621984, 36983393, 35948, 26146164, 32822850, 24434727, 5420650, 22802177, 22937995, 26665979, 34294296, 25221730, 2437468, 17004431, 34261033, 32856564, 21328963, 17585275, 9812305, 32207944, 28664308, 23520786, 30544220, 19672035, 25961800, 29295818, 38774792, 36678264, 22656725, 22907873, 500650, 4596817, 36312192, 16813894, 37368078, 30252726, 38359656, 31436613, 8654680, 30693145, 11348611, 37748882, 18856964, 27974876, 9088560, 11061345, 11507015, 31575896, 31202665, 9564662, 9475957, 2964790, 37405896, 21157067, 4346318, 38959478, 6102114, 39352334, 10887760, 5463769, 22455548, 8177609, 30243217, 29716877, 38979332, 10219533, 11661503, 34113305, 10184286, 37474080, 26782867, 32091496, 35520592, 37663906, 24463587, 38495633, 33323880, 2539109, 13720566, 20265748, 32785902, 25644474, 34810125, 14864416, 19645543, 26489043, 21854517, 30942117, 38050609, 27192420, 38200284, 28537503, 20185290, 24337111, 22766031, 32552551, 16772085, 29120556, 18291291, 16045917, 37777923, 2201598, 36212891, 24179020, 8281455, 6853800, 9757748, 22149, 37519025, 23355310, 39755826, 8289672, 1750806, 24684821, 26253545, 32018339, 5016864, 18553354, 16300008, 26500474, 24284470, 38583947, 1396985, 364358, 12174494, 33547023, 35605563, 12337472, 12668833, 33062568, 39805624, 28106756, 4880307, 22580344, 9920273, 2927031, 32509923, 33899030, 26251094, 3481131, 5665101, 28399120, 37363393, 36502774, 21619774, 33709433, 35736449, 26626272, 39560120, 5458938, 16161187, 30592225, 763485, 34418549, 6246360, 20968033, 39675149, 8258833, 18638765, 21076940, 31246949, 33768564, 17286798, 35523277, 25280463, 20480006, 28997418, 34629515, 32774796, 20227552, 6381225, 20601199, 32092468, 37222347, 21035273, 28157195, 36356872, 26349912, 7477211, 19444929, 30138370, 15889794, 20992334, 11641435, 38729081, 34082261, 27021246, 28051379, 759850, 4852695, 29852439, 16741011, 12589140, 23514260, 11434239, 26653360, 2221247, 31172032, 21609985, 29506194, 36918216, 8500455, 24445635, 30045688, 3116871, 36675988, 23022552, 1208067, 10172350, 21452352, 8069029, 3200004, 16633952, 27346793, 29698327, 20808353, 39192846, 26510142, 31571361, 4192409, 26500456, 20057704, 24725724, 30758423, 31565781, 14764921, 3128256, 19720785, 2920158, 26926742, 38865279, 31780029, 14690461, 8287883, 29654155, 22534854, 36387384, 17256445, 32384915, 18836547, 33601083, 32391943, 9845952, 11651789, 16110534, 34379880, 11360566, 36174749, 11459176, 13183416, 14400463, 7376102, 29158165, 30610831, 24590760, 17911728, 8950276, 31187440, 37670206, 10879767, 39512498, 11260600, 22768200, 11174225, 758466, 28648489, 9255069, 35925391, 38162034, 38830937, 33367415, 4456591, 28722101, 39064980, 5318640, 22172915, 18549137, 33939886, 30846363, 31220410, 15397024, 15853582, 34159005, 34922293, 35239638, 5986388, 17703737, 21286034, 35158530, 30006639, 442355, 4576290, 32924176, 24562961, 24147391, 25074787, 2678411, 10911416, 35864849, 24761230, 8958159, 32214518, 19358144, 5741885, 22226551, 6374584, 28072738, 30275650, 6558559, 24367783, 806835, 27082310, 37340923, 39753285, 22341183, 34679687, 31930369, 39427407, 19473304, 35920078, 14027209, 38672691, 22291811, 10741201, 10031945, 38511709, 29413741, 12335488, 4470105, 30538718, 29164630, 2871809, 32545905, 19365358, 10103639, 38167348, 17634330, 2271190, 16805017, 21925339, 30762213, 28247674, 29309498, 27803603, 35040161, 34097448, 20097811, 36373795, 16838388, 13791225, 24595223, 1108881, 476394, 1962323, 35719705, 20627718, 31910941, 23459802, 38471739, 22556137, 21710985, 28505732, 7262384, 36136063, 23841775, 35119942, 34662754, 31117476, 1309366, 2814450, 28360266, 34660419, 3346124, 37768369, 19445696, 39051142, 34518265, 27819091, 21538859, 22668225, 30077272, 21861062, 24610532, 36352721, 24954094, 6346600, 36239092, 37502351, 11975077, 23651777, 4982346, 39500404, 38758617, 39481577, 26663225, 20998538, 35238582, 6695100, 34667511, 37705956, 6962266, 9547069, 37723519, 25990957, 11857530, 7565812, 35732798, 33496005, 1593306, 18832299, 33473097, 33634059, 32168005, 14748027, 15641474, 6505651, 763103, 39552324, 19759218, 35377288, 422140, 12803171, 17709120, 5175009, 23638580, 35521456, 32127874, 5019070, 19851207, 26333009, 33887882, 24898037, 34087406, 30303837, 30076699, 13032830, 9015837, 34411331, 35893298, 31201763, 3345076, 10679458, 35572912, 31154499, 29973820, 29101317, 21022626, 23828200, 16451849, 11060516, 20750509, 6038616, 39328384, 11491529, 39066431, 6088275, 28139569, 34472545, 21814262, 17914427, 10567845, 33717561, 27248506, 27972120, 1633684, 24770369, 27893885, 28966972, 11855431, 33728694, 38777196, 39091108, 33490449, 29374818, 12793491, 22326618, 35711460, 3305903, 10595058, 25470452, 34712233, 38094344, 27835268, 7932224, 27213222, 38406892, 31652240, 35122006, 32374784, 37036521, 28407029, 24582364, 19799941, 39580881, 37943522, 30739823, 20273609, 35086572, 37083006, 34895218, 6385964, 28977263, 30054834, 34310013, 4731978, 30334184, 10962358, 15957766, 34635387, 7747687, 33889875, 37499806, 5719296, 33091667, 21236369, 5450359, 10947972, 4390227, 8706674, 1211363, 872065, 20741772, 32917933, 2307219, 36230154, 25798719, 28692356, 30967302, 30974172, 6617333, 21497883, 34305805, 29917008, 10499258, 36888675, 8047947, 35999123, 27724445, 23131193, 30527086, 25835424, 32779943, 9150222, 36940007, 5321186, 25892509, 19216440, 30999957, 2036202, 27375729, 8823273, 35496542, 32986271, 36184938, 7442510, 13564731, 30488327, 23554922, 11862917, 36821980, 8828338, 19750453, 18885838, 29069426, 16171036, 4973723, 19714463, 11129187, 28141719, 2553088, 853755, 13179647, 29720006, 7050945, 29651611, 4941125, 39265013, 18851167, 29619278, 38400889, 32440251, 27343504, 5332578, 25380662, 30876690, 37235431, 27437270, 8850535, 20567279, 39046624, 33400538, 36186001, 38845737, 5495452, 14574111, 22540260, 9579729, 28912626, 12987445, 35191707, 27120895, 33971987, 4359840, 34138187, 23232770, 21897508, 27114947, 33910811, 11369842, 6159671, 16148287, 14274562, 26942926, 23024861, 9059993, 32497902, 6488029, 29674792, 9454235, 31187359, 7718328, 6935938, 39413701, 24862524, 34512136, 4702549, 39380874, 2431276, 36832317, 17279907, 36266226, 19493999, 3030593, 22500427, 7624997, 19693402, 17153505, 29393408, 22636838, 30370869, 38933309, 4935227, 22507746, 18113560, 24995823, 13180876, 25870481, 22236561, 22249446, 21368391, 7331398, 17910094, 9371378, 26582904, 18648017, 38538615, 36831272, 3750181, 38710688, 5533268, 8341797, 23468453, 16014719, 35280545, 33534213, 32446165, 16602969, 5516051, 7888885, 28402165, 8475553, 3921619, 8780558, 35460943, 30052840, 31593972, 32703137, 3614594, 23109719, 6011596, 10162743, 12174793, 26373992, 5110829, 3130494, 20939889, 10842416, 17932357, 11038801, 10600372, 20710370, 35520736, 26528432, 25167336, 31712322, 7412762, 30836593, 8477530, 2759503, 27337108, 36000794, 28445438, 8986831, 17972893, 8442778, 8343620, 32745728, 32623645, 27233216, 28135050, 14487690, 22339166, 30500814, 17549319, 22911903, 21639733, 36148272, 21445292, 34191392, 36153713, 31216774, 23326827, 5058833, 6494350, 21260407, 29026766, 22920841, 26018372, 33729289, 17114466, 5875950, 16799580, 28399874, 2529497, 10933831, 27306984, 37692966, 28607727, 34131385, 36837832, 31931174, 23191611, 27367959, 38999203, 14881969, 22880762, 21251272, 18464546, 35355665, 38267877, 11170822, 24101806, 36242469, 816272, 20257970, 18370444, 14650989, 36457085, 18555196, 13748166, 37815648, 2746818, 11620224, 33998660, 38337342, 8052478, 36617145, 17166901, 18772602, 35566678, 34768825, 18507246, 1095250, 10050824, 4638703, 1618728, 38104747, 39905946, 1678848, 28400250, 31538288, 24778055, 33896021, 23589751, 36413601, 37420354, 21318111, 6358335, 6173753, 30802137, 34432307, 30407204, 15661465, 3050063, 17615570, 30430500, 14027009, 13956280, 1510215, 8441840, 20256909, 32458574, 30872606, 38484192, 33848928, 30749620, 38197235, 39506717, 1161618, 31038542, 37165051, 31816175, 20847927, 10466562, 30069621, 30034406, 930641, 1683144, 23757382, 8295013, 13662753, 30929557, 16756302, 27075344, 36063647, 19580364, 34442202, 35713539, 369305, 26862366, 28545553, 33159752, 8696681, 32508406, 26999375, 39993714, 31842433, 32673036, 25708412, 20623680, 17332117, 1790176, 14381423, 19476997, 9621388, 5839987, 37548503, 23662342, 2828343, 32908804, 15523262, 34030599, 19650752, 18643754, 33025278, 31937749, 10824523, 26653332, 19163840, 2287387, 39964989, 34828207, 24963118, 17837814, 10582407, 25347441, 20060096, 8774902, 35945065, 3513769, 24960437, 26046691, 4341206, 7941623, 29166148, 2555629, 13558176, 39660409, 24209546, 5401890, 25670553, 16789988, 929029, 31369466, 38836795, 8650957, 18312934, 15298257, 2642613, 36653544, 2687704, 31643756, 9463115, 12811266, 31842049, 37698058, 11378318, 29056477, 32298063, 35363982, 32485757, 13357110, 34667558, 25044236, 28809220, 2534943, 38903691, 22675700, 11107277, 36022173, 10066397, 35522768, 3026274, 30674060, 24521702, 4298415, 22266587, 23060538, 13011701, 9419660, 38981700, 29635189, 11435253, 37550402, 14566757, 23632693, 37747551, 39551379, 20916997, 23397044, 31737650, 22528001, 33003173, 20561084, 37487346, 9076584, 31777828, 17361743, 35419299, 2821122, 32868401, 30509969, 12148265, 29615527, 26552019, 33902355, 14295483, 12679277, 3123801, 8276740, 35852468, 40022819, 33960487, 2842336, 35158576, 14345613, 6509455, 36543661, 19555571, 24401004, 15644616, 14468185, 10583778, 29748167, 34717688, 12413170, 38729587, 39620374, 5682436, 4951513, 14024223, 26802520, 11545577, 10963234, 25945410, 14000518, 7571534, 29155158, 17903245, 28000234, 28443747, 37224980, 5586209, 20396912, 11684659, 31396217, 14902023, 10790853, 13830746, 2780893, 21850822, 3532574, 31459874, 7483490, 39612799, 30682137, 37225906, 24779487, 21016024, 20301834, 22424070, 18969428, 5363679, 26371528, 18411767, 30669568, 22563958, 14356405, 22119411, 13688191, 36253828, 32739749, 9423620, 22733754, 32298481, 25632003, 4707136, 32462091, 33554379, 32627498, 10977468, 29265333, 5103056, 19068452, 32689104, 26221153, 11371859, 39923394, 28091931, 13449705, 35077299, 6525010, 28569967, 14376391, 276345, 21265271, 7334498, 10837863, 21532639, 35861031, 19221028, 4223070, 21370600, 1563457, 8903128, 38672401, 40140733, 35243584, 16328367, 29657312, 15773676, 32047686, 27585308, 1208802, 36508126, 38711947, 3838833, 8887837, 20877106, 32842022, 21414273, 19356124, 21836606, 5218597, 21981072, 36039746, 39949434, 14560475, 33152869, 39026831, 15348829, 29079906, 22417767, 2187273, 40034300, 38065828, 9375796, 3174174, 30074733, 23290403, 18919003, 36980877, 35024515, 32499151, 7656939, 19031695, 20669363, 28270317, 36636629, 28544120, 2711737, 28890301, 2381535, 29775956, 2016516, 32737630, 33997678, 30775322, 35641085, 14092447, 17620172, 9458937, 37581630, 24569059, 35534879, 2073962, 33302991, 1717715, 24529618, 12341016, 20893077, 17310507, 30228609, 30945554, 411761, 21833239, 13261377, 1212864, 28568016, 25785667, 28285822, 15899074, 20586008, 17999299, 11333662, 2485274, 13523931, 34065910, 15584988, 8798684, 15471103, 33904838, 31916958, 11853725, 732190, 39960921, 38606028, 29730055, 12022057, 14016064, 32185945, 6207958, 26349500, 26665601, 30465013, 1121488, 34960516, 5583077, 13033716, 5720287, 2423162, 19358991, 2772990, 13885492, 1748130, 6849116, 18261478, 38329999, 35415506, 12735472, 26990928, 1549442, 25805481, 26181741, 10145583, 30144209, 23909734, 21350365, 31933772, 27849412, 37998675, 32343775, 35762300, 2962666, 16370973, 31507308, 20252595, 2146363, 13924985, 25875936, 23361810, 14015308, 34894964, 23845324, 32715175, 9609334, 13683289, 14224382, 33951347, 32251712, 30763148, 1760421, 12269933, 31829195, 32603451, 5302206, 34596942, 32421214, 22909483, 25375448, 35587048, 23891876, 6376671, 7042530, 19616817, 29390750, 34896533, 9612393, 21153082, 34854979, 9164936, 20817170, 32338109, 37743602, 1734147, 23673523, 27162982, 31359165, 36016722, 12636499, 13013018, 33212092, 39214117, 18013100, 28145763, 19085182, 39242799, 17828552, 2606283, 32570526, 15754122, 31504190, 38729729, 37018099, 27303033, 30861458, 35921126, 18810449, 16116776, 38136962, 39060020, 35437656, 37551693, 34845551, 19595044, 16131976, 12149114, 16221771, 21728951, 37248822, 22667683, 4891625, 35468042, 18367521, 24385285, 29776269, 37829082, 34251298, 36564973, 8879694, 34308221, 25328484, 7590198, 35330786, 35623515, 15024538, 32944223, 19729531, 27115459, 10562294, 26512274, 13912453, 23251740, 5618739, 13972218, 17973629, 36221414, 1541891, 3450903, 5152026, 22354530, 20038148, 38896056, 7116464, 17713199, 26966705, 25044066, 15006511, 39515155, 8186843, 32312356, 18321026, 22383501, 26109085, 18240549, 6083104, 5596900, 35277060, 36647766, 15023071, 38789013, 10561930, 10368549, 24343014, 25422951, 30665721, 39457321, 5657235, 25342159, 30140940, 24337088, 29562716, 6667061, 18924869, 6683936, 34782083, 12626808, 29941159, 23400544, 35523173, 25114497, 9968272, 18192087, 35347357, 29188882, 23507492, 2771676, 34452324, 39217362, 30561289, 39435322, 17893360, 34289872, 21157820, 37172606, 32598721, 9191117, 35750847, 5257434, 27546689, 38728128, 38423125, 27014760, 30074072, 35341773, 39414365, 38291952, 8561112, 15980302, 5171296, 10904848, 18706979, 12301731, 15001875, 32983085, 28868944, 40078164, 26274021, 35368572, 10252095, 34951345, 29777464, 27311883, 7544081, 33652945, 26359686, 27682574, 20202082, 39832988, 34999717, 1556040, 19495407, 37820234, 31633253, 37498267, 3094498, 32552013, 6243762, 23903081, 39078451, 4596888, 38793258, 39182679, 25948818, 39891167, 8037103, 7553306, 16566620, 8825249, 18588157, 29293096, 15583305, 35500527, 25392172, 36331753, 30287967, 24071241, 4571376, 4286112, 21358919, 23774585, 10749411, 13248593, 4405259, 34916321, 23257123, 17308194, 21265087, 26139824, 2353205, 20060277, 25557612, 34830740, 23361375, 16021260, 32410629, 30917282, 32716897, 16081724, 35811592, 39792837, 29632729, 2170228, 10216827, 36013858, 742974, 17446678, 23207670, 30662134, 25292426, 6727952, 15408090, 14104707, 34083461, 22890560, 1639451, 28625485, 17831700, 3136423, 37674883, 10575580, 1979986, 27820723, 13563475, 2375365, 33151728, 39679542, 30940158, 33632231, 2543672, 35553138, 33484476, 27582265, 27711191, 14674109, 37054213, 30944678, 33634051, 35439426, 15860228, 24844345, 1801165, 26324598, 18566790, 3010920, 30634805, 37351300, 4694988, 11869383, 37317133, 1059831, 21666057, 18795245, 11253414, 34909026, 37809400, 39185034, 24007092, 7894963, 21439031, 15234679, 37225399, 24870318, 32756711, 31122733, 32925334, 13440097, 14189772, 38198066, 27740350, 18575217, 16156899, 33375347, 38109857, 30493018, 25054976, 29804131, 31560103, 22957218, 20217348, 39932936, 37825758, 21174332, 12671944, 27504159, 20597880, 39377048, 31848552, 32951516, 12166537, 27452039, 21447401, 39903959, 32558567, 34101780, 21195821, 33288221, 31335508, 34097558, 38672454, 26027388, 23985594, 18580231, 26408964, 33775692, 5483827, 37415936, 22830671, 1129344, 8553970, 5034850, 5615343, 21628323, 31583445, 28808160, 13930888, 34776441, 32941771, 36397533, 6300896, 26153933, 12582206, 22258904, 39193073, 26436092, 21977927, 38748038, 19390329, 19862568, 15943649, 15173907, 26406943, 36671147, 5075620, 38774133, 23943516, 3298176, 19368118, 28077180, 28849747, 30368062, 38670916, 28439394, 32284513, 30289423, 12599586, 35915641, 24642806, 38033259, 34400108, 23593919, 30367194, 9753778, 26843987, 20493575, 25599568, 17914715, 34097436, 9916571, 9078685, 18509053, 8737269, 33862135, 10691359, 39840896, 39461170, 23218125, 3079368, 24225112, 4029807, 7307549, 27490712, 27221223, 34985441, 36798407, 16390764, 10389594, 6906385, 29760817, 32070197, 40108833, 14256170, 4941497, 26453916, 4011500, 12070031, 3068827, 36114511, 40117162, 4915178, 8235513, 24127780, 8470786, 32430689, 11904665, 8901756, 34954825, 15233928, 13238780, 2557710, 11536468, 14820579, 20260513, 20942238, 12357043, 31167604, 34406212, 2449115, 14425894, 1366943, 22960735, 10736404, 35208566, 3925935, 21380803, 38443317, 21052282, 18302818, 29657282, 36074091, 14078762, 3585919, 12186424, 1937682, 18008538, 3517388, 30176718, 33067212, 33721174, 8408046, 17045708, 30066046, 23377296, 21370889, 11770065, 36339177, 39286917, 25561467, 19782288, 30748200, 38342618, 37471010, 30694286, 26941402, 17670107, 34348647, 11554892, 9935000, 16664155, 18902911, 35679821, 24374380, 25087998, 33844645, 32491388, 8074588, 32020137, 32496537, 25802342, 7999032, 27344355, 23719993, 33183346, 13160419, 23319456, 34962499, 28943133, 12130254, 34408504, 1655509, 9540154, 21630979, 17461802, 3749033, 35925944, 15706383, 24295467, 32551167, 9542637, 23582104, 1546556, 8857340, 26443542, 33827250, 22319266, 9970352, 31593811, 22324385, 11176625, 32288264, 2823783, 11604045, 35026338, 35241720, 36672021, 27440489, 20863495, 16619971, 27774797, 29516408, 28355037, 28030098, 21693357, 34781622, 19610240, 24760050, 30472653, 19463882, 24895675, 12237765, 9296222, 15673500, 2104033, 35516680, 25942291, 20579234, 39829354, 8916028, 13085946, 21492176, 10262131, 34123069, 12078928, 29363408, 38333994, 35637516, 35160121, 33650528, 12145219, 11748971, 29221057, 18481229, 7543452, 27244754, 5251868, 30904942, 29650714, 12322429, 1531065, 36001615, 18122458, 34021890, 24942103, 22098443, 35226184, 4934864, 29976003, 5728451, 38503189, 29877601, 12831129, 39046498, 12718159, 20328905, 29638779, 8168102, 16504172, 8793877, 5231171, 27497676, 36393307, 27501910, 15900883, 27042492, 12272268, 16830126, 18901724, 3067452, 12663575, 12965553, 34792336, 11001090, 36197425, 29467478, 19612640, 11380214, 39165670, 34243790, 31542372, 37150098, 32075868, 16783060, 29435173, 27653962, 27453217, 23696324, 15229873, 23564316, 38392873, 30685059, 36092955, 39926768, 7781204, 28909781, 34680367, 16325607, 27642356, 13634809, 18143396, 39838439, 33602123, 17191251, 31304283, 9655124, 4909891, 13311898, 36491255, 27113466, 9696668, 39907411, 38700051, 33349846, 32847747, 8679634, 38513686, 11170133, 23859418, 22696708, 15553513, 32626704, 24550084, 17700550, 4836394, 34193902, 34742833, 5137126, 14152284, 38460927, 36057757, 38452260, 24307257, 1102254, 30268680, 31363436, 24585469, 13606845, 30018339, 12400402, 10377642, 39196790, 23946043, 31596837, 5947475, 32979790, 23110929, 36267025, 21346466, 8962743, 15705874, 23204090, 22572101, 35051466, 26435764, 36811062, 21870430, 29326585, 40109400, 35952511, 22932587, 27264259, 38929708, 25293480, 18666243, 4121486, 35043432, 13909741, 30792073, 18146905, 32282518, 17078330, 29334282, 32868207, 19538349, 18055334, 17469461, 1934188, 20268757, 1095663, 12225520, 7880180, 37913141, 11057762, 39924647, 23194989, 10258725, 6780827, 39388335, 21123559, 4041543, 28705300, 23637258, 20616705, 5059718, 23271788, 18775012, 24913227, 25890097, 1445971, 23686558, 23348092, 32022424, 38349947, 15857008, 4196673, 34012517, 13863733, 5759037, 32726010, 2144451, 11719149, 17540087, 11149603, 4900003, 21136619, 29725132, 38232364, 25792652, 21602043, 17108248, 34679802, 36660983, 17393841, 27470230, 3611827, 24269433, 11889874, 25736198, 20662579, 34810106, 888550, 18936784, 25276703, 4588155, 32056615, 17204891, 3224083, 11311267, 30340304, 32863931, 4013733, 9421136, 2825435, 1902338, 27807204, 5043993, 23160288, 28818661, 39890923, 21112775, 20179213, 23395065, 33273074, 6132181, 28743843, 35121517, 14067311, 34492787, 28837511, 26236856, 18703889, 28078036, 39644629, 26716092, 5542359, 15404580, 24079069, 22786788, 8077127, 11136259, 7020135, 19892641, 7920128, 18037458, 33047308, 20118322, 10066891, 22833046, 12840340, 30736422, 12571654, 885172, 17194888, 21209182, 28567221, 38077600, 31314603, 7114591, 3334777, 38942506, 10395106, 38377967, 8523963, 17527785, 24950999, 34757445, 30482966, 21524316, 7090773, 14213400, 27612958, 5243778, 39097148, 28485685, 18409533, 26716280, 14753208, 34752812, 12839566, 15841155, 27226242, 23456542, 10542280, 38140686, 4488793, 4107070, 17933701, 15304593, 11957124, 25195309, 29853085, 8511159, 24098733, 37930553, 37647816, 28720756, 11377856, 24789149, 28169345, 14715051, 26950583, 12553586, 2520144, 2771850, 18709407, 22211750, 32818523, 33423550, 5940755, 20956545, 12468707, 23184013, 26168985, 32471826, 34372234, 33660936, 23175978, 36046665, 8005948, 34946454, 36017465, 34790580, 11705873, 21543081, 8173128, 23406243, 5198336, 25717208, 16166293, 36253714, 8075052, 2534783, 21072026, 19751806, 13135190, 37959466, 16252949, 35314290, 3464758, 23523533, 35554140, 24446830, 18764967, 33231245, 27755457, 11683748, 15035761, 11960602, 35226795, 31455433, 6004590, 26905059, 23598384, 25066580, 15572513, 4350028, 25733910, 27882368, 38600514, 28202440, 17432157, 15552297, 36235686, 24647307, 7983711, 19542798, 28704739, 21881321, 27307546, 11569855, 25064904, 14105629, 25118854, 8764646, 11032434, 17410125, 37397358, 36277815, 11430003, 26104353, 21982788, 32103068, 30821412, 32880120, 12703337, 20913085, 3344630, 14310020, 26725669, 24708960, 28753526, 11345236, 23078194, 33390886, 24099503, 18265679, 10672567, 23752021, 2894914, 37143393, 30913609, 2074900, 18690759, 19079560, 12309788, 27129658, 34117869, 11889073, 32510740, 39951030, 13746286, 25947608, 7407671, 32765038, 1333189, 37614840, 37083251, 8758025, 35480117, 28757736, 27550458, 36871250, 3170329, 8171225, 12423006, 2176172, 6646659, 17821400, 19600219, 12795987, 39339221, 15734876, 27728021, 26032836, 16348447, 31354931, 37007933, 35664432, 20858682, 6147152, 25090573, 26350851, 5785348, 36628037, 19695172, 22666139, 2893198, 31148172, 2143805, 32752715, 39282911, 27733516, 33600160, 12163898, 16015713, 38673512, 8348148, 19626178, 30430131, 25614029, 18459387, 3905548, 33327178, 19475607, 6898260, 38448640, 1975700, 27698202, 12702032, 25349504, 5561630, 40143267, 38338135, 37078186, 36498417, 39405071, 18390092, 11875026, 22157169, 13949242, 7451246, 37183202, 8839761, 12683367, 9644523, 5986340, 21455812, 14196112, 3316736, 32406153, 22358307, 14158844, 28398105, 12672585, 34661853, 10757063, 11407481, 28001545, 35579680, 1274047, 1269625, 34600057, 10527762, 35681659, 27813034, 19770662, 23226414, 26546277, 30088787, 13914983, 19866182, 38410146, 27107460, 22598727, 36280901, 32415268, 37837674, 11230979, 25606788, 2152652, 29823612, 21803452, 4718580, 8811895, 38670510, 660898, 26287902, 26846952, 37828926, 34532252, 31125870, 34767172, 205136, 36085878, 25329813, 31345180, 35203789, 34447198, 32659944, 16805765, 37979398, 38955756, 17300707, 10263686, 28592243, 19769186, 19588160, 24023257, 35570058, 14225601, 32480835, 37406983, 39733082, 25262139, 5722767, 2348943, 30594244, 16683964, 31406106, 12736886, 39781666, 21143885, 32180981, 32999054, 20254921, 35297883, 38788819, 18559640, 23645938, 23726411, 35928303, 3411131, 30204404, 9549059, 4250065, 1230392, 17476345, 1998967, 12174119, 39165686, 34291656, 26534672, 40016025, 39837386, 19545083, 29077509, 26105267, 36936358, 27501911, 32197345, 18270859, 18887745, 3049199, 18191954, 32707499, 19853175, 31369130, 21784182, 5674931, 4928672, 13202845, 2052114, 38054246, 38251183, 3708074, 4329549, 30498018, 29606745, 35766252, 27895055, 37732091, 18421672, 36501534, 39139442, 36970571, 36131744, 9678642, 25299155, 14842393, 1823372, 37411800, 36704246, 4906861, 25170412, 19804773, 5815775, 38019688, 28117918, 19231458, 19849489, 7731859, 32294950, 28361293, 36631201, 39795481, 35613311, 31770864, 37156928, 4020060, 9103257, 37493855, 22936078, 38016202, 38035636, 31925009, 38472015, 1081340, 34361681, 24595179, 31860974, 36463448, 17747847, 31693215, 35487375, 18637652, 17406126, 36327762, 36572555, 33945808, 8486180, 30621455, 35112451, 20004580, 3826822, 21811851, 9746405, 673936, 15898829, 29699999, 34014270, 36363869, 37496871, 27164129, 32229943, 17445795, 22430534, 36909950, 39279310, 17198075, 6688312, 3344747, 34431594, 27519924, 8933151, 33117387, 30735669, 35999644, 7924929, 29287966, 10762170, 7128868, 36111657, 39296421, 16681712, 30988085, 36557413, 39022273, 21748810, 35009014, 20101528, 35226223, 5746624, 29489195, 32498373, 38776267, 11762629, 29346531, 6539687, 2938519, 34604660, 35199454, 33293380, 10386856, 33072458, 4073352, 1916953, 25880884, 35205881, 30593778, 14175568, 31066930, 29498644, 35121845, 32950860, 12430666, 34385989, 9279428, 3032783, 30902164, 15040584, 38758580, 22191879, 30977132, 1465734, 37380311, 10975362, 29313316, 19778691, 28369862, 32975134, 36435836, 37232436, 15502395, 14949492, 2214705, 20816130, 24631585, 31649427, 28125037, 24136075, 18062031, 35326476, 13096855, 35473454, 17328829, 13830335, 12409429, 28961825, 31445316, 24278903, 32346446, 39897013, 20862295, 23005490, 35897375, 17254124, 31128690, 1722111, 16156574, 12547872, 31681751, 35531334, 9826322, 25324948, 30625587, 37368305, 36176557, 25429321, 4455219, 39793640, 34110807, 34355617, 35122115, 9803784, 35553040, 33879530, 23560658, 30148744, 38435832, 32545893, 29983189, 15187978, 586517, 30905303, 10781796, 7975140, 38431484, 34391488, 33255258, 25372587, 13271254, 19516636, 18911410, 29109320, 27594625, 29076343, 36688843, 6320686, 18963494, 15405007, 26538668, 38543513, 16674129, 9540311, 26944908, 20136189, 33621159, 18103917, 29086423, 32222977, 11843747, 18986296, 9370878, 18083851, 20708539, 796466, 36535264, 11828230, 31410061, 23373090, 7712212, 6837347, 10444317, 35193461, 17561725, 35558120, 38730753, 35072664, 12468915, 38427285, 21410175, 21889141, 15770850, 26029153, 1979692, 28062433, 23303901, 13595076, 22264793, 27732772, 19976202, 28283656, 39139248, 22375573, 2475215, 24430817, 38795292, 35528897, 21463006, 21522148, 32795354, 22639902, 8500115, 22925645, 31952824, 5552095, 18691597, 19232385, 15542289, 30271750, 40046168, 37704061, 18537002, 20359968, 11397171, 36358720, 28224737, 10817728, 15709014, 32824655, 14521991, 5597166, 10944482, 30679389, 39098008, 7052578, 15562521, 35463870, 28652584, 31460788, 20206959, 33679299, 8317478, 33918780, 28865813, 25884534, 39459290, 38209831, 18785261, 5231556, 17777728, 39979371, 15758216, 17654291, 24954324, 30328157, 7517055, 23502794, 16042762, 25011298, 22511568, 8835869, 24679348, 25019276, 18201625, 2887041, 14949605, 34575487, 30657364, 12390381, 34892420, 35721483, 20168698, 29795087, 34819155, 23677336, 35380684, 23331689, 18442057, 38857108, 34846916, 34522466, 5653172, 37467213, 33898475, 27015931, 33822115, 13022238, 35957310, 21285914, 34140639, 16722163, 20673100, 37539132, 39325296, 25693224, 37034291, 7792287, 35732150, 35566349, 17040395, 3065002, 8571960, 26800958, 34936509, 38938409, 3812462, 22656318, 3183133, 11831565, 28379336, 12532465, 6889156, 31632613, 22044007, 36950416, 17961320, 15327097, 31984175, 33420918, 39693126, 16355662, 7295395, 11982638, 26111833, 29035713, 12248014, 10877249, 15556269, 18741403, 18427090, 27900218, 21715298, 28335202, 2915609, 30518576, 17222613, 5959553, 34859729, 36451870, 3580849, 19369355, 19703121, 32286365, 35123356, 2888179, 33722053, 18229875, 34149274, 30580536, 29862272, 35429876, 30305182, 24547763, 5453375, 37775959, 15117605, 26597809, 2599203, 37159197, 15645734, 27505861, 33953176, 26984796, 16831159, 24109680, 24601953, 32259519, 638647, 39182516, 310833, 3613385, 24794696, 5943907, 11172958, 11158630, 37916195, 24336534, 33271923, 38238069, 6874296, 17479330, 1310495, 32323367, 32540036, 5438642, 4821297, 21407279, 36040073, 34840354, 10132266, 5831994, 19598213, 27111006, 24343660, 16219587, 25954142, 30520783, 22740244, 9138732, 37791021, 9707002, 4764110, 19087398, 23981903, 26361113, 19444175, 35970970, 32313719, 32889914, 32879226, 36517794, 23162090, 18074043, 35766088, 27276603, 29935972, 39339962, 3202186, 23094025, 31486224, 30851061, 15157071, 28118863, 27977438, 36465791, 5989293, 6987804, 32682293, 25778697, 31598076, 4941974, 3350958, 20976051, 23405610, 21660451, 24812795, 36124578, 17619116, 27248617, 19271590, 39143221, 1645310, 31056789, 1791818, 621121, 15596157, 30405598, 8105803, 31049324, 30528418, 26333364, 17377452, 34489136, 38804644, 2677649, 39647977, 8155937, 38330432, 2249489, 7365372, 32444518, 20421017, 32258531, 9372149, 20691871, 36090335, 15388749, 30816341, 40111431, 24137457, 3384119, 24531476, 2681169, 1905885, 34879482, 34911638, 32068949, 3290054, 7461706, 26403685, 1286176, 28153817, 26642134, 6942106, 13592433, 16702416, 33134892, 38874228, 24752717, 10846133, 21526497, 28804958, 31077717, 5595917, 39948719, 38256845, 36606534, 20398396, 18011339, 38534228, 14351879, 25443889, 22948730, 37890690, 36557771, 8857247, 30690080, 12286036, 15944350, 3198916, 38556461, 27723949, 5227440, 35248952, 4042286, 37586229, 33199525, 25352007, 11485416, 38168856, 37711512, 37711850, 8706408, 17382318, 18936279, 17564811, 7532972, 36843614, 36518679, 39604282, 17922198, 18178310, 9947343, 28538903, 30786242, 5035348, 1145524, 17651031, 18641114, 10867238, 18215190, 9626359, 19195732, 9891924, 11044607, 32947888, 12625571, 30324918, 28597116, 4109088, 21597709, 13746821, 8544953, 2988981, 24958564, 21919500, 33321901, 30949358, 31548112, 23374274, 35704779, 39951355, 33219787, 37026535, 23533011, 33086243, 7830632, 5894989, 24801209, 32786046, 23445506, 19573747, 12682322, 37122372, 11999840, 3157875, 24157533, 5074537, 36534184, 28354303, 20088902, 38298684, 13746683, 26241381, 30911612, 17589846, 34242157, 10952359, 8272523, 23108730, 38558902, 19186368, 3907240, 37909116, 959985, 26101497, 14653056, 5071654, 20230817, 33513207, 23481235, 22548344, 5672606, 35110034, 6768738, 27771000, 9490258, 14321291, 37636300, 37478046, 8222887, 20528798, 30287068, 30624319, 39787700, 26773008, 15506198, 6058803, 14012340, 18420699, 22899109, 37528922, 17225688, 37032474, 12347420, 34665261, 27748283, 39037351, 27719092, 22171979, 16967285, 36499076, 28054324, 33552552, 3801379, 30741677, 33101738, 34730515, 12470646, 34925690, 35412445, 11735932, 19799354, 36230066, 35809398, 31953802, 2914380, 21433790, 13308995, 16807303, 34472087, 9404142, 12549719, 10876029, 30206916, 33356942, 34876555, 27005924, 26412331, 28151742, 8951024, 31570998, 4526971, 34591102, 32238897, 1275270, 17917717, 12773100, 33563876, 39093338, 29370384, 38491977, 35442035, 17641508, 28690634, 11982341, 10200972, 22398026, 3047549, 28979689, 15616295, 30110879, 17369293, 29481507, 19354376, 37386447, 36938414, 13180419, 39004754, 26862810, 1056675, 7486233, 24122137, 30888487, 6589873, 6512966, 1126811, 2995648, 24748781, 4856172, 2511321, 29956163, 38442683, 5021889, 11212150, 32404398, 36755755, 32775586, 25036054, 36948353, 14162388, 27469018, 2288720, 32652222, 1873806, 35085077, 22603322, 3395863, 21468097, 8713656, 9137401, 3327152, 37669209, 38006200, 18669354, 8371632, 22978432, 13737210, 34512697, 32840824, 25294202, 28461653, 24036546, 32091122, 2629889, 3169589, 15675672, 27576351, 24702202, 35787706, 24924599, 37562130, 31055094, 1646468, 26264405, 20235386, 23120595, 35610661, 39697797, 33047014, 29977343, 20248724, 21438096, 26863364, 31687143, 29829021, 33755552, 6940987, 32816142, 35466475, 2197919, 2386541, 21817399, 32756637, 30331879, 31105696, 31215051, 15121266, 16943319, 31662825, 27509198, 33656356, 38822342, 13014226, 10881729, 29724696, 9857385, 32972838, 19216424, 17158963, 30351446, 3405626, 32604481, 11739011, 40071344, 11803056, 23045978, 11279570, 25446832, 6698355, 35831162, 28657462, 7880051, 31855863, 34696412, 33050190, 30963683, 34863647, 26305762, 34021823, 27449684, 6419083, 32016191, 26550004, 25141236, 12362231, 26399877, 11569967, 16125352, 898426, 29433199, 5091914, 32276782, 23785945, 37234002, 19720579, 19529418, 8613935, 14163239, 2915045, 32995545, 36065800, 4040656, 27563697, 24533283, 2741662, 37132767, 33087292, 39756106, 2727355, 8728501, 3057039, 26966824, 2576060, 31455935, 34382316, 1424392, 17560053, 36775975, 16108704, 24541083, 3503484, 1304608, 33543443, 20883639, 21590549, 14701711, 12812716, 1444222, 34339172, 30865074, 38987854, 27742457, 21487831, 31945632, 39059129, 6331377, 38190229, 34864336, 5764182, 19980162, 39643436, 16219955, 1005187, 37120750, 13809689, 23818702, 33017744, 35737090, 4416756, 22623856, 38349635, 24366690, 1806449, 15795036, 12556643, 35267870, 6181391, 39095793, 21742122, 28251893, 23024421, 25566721, 25518414, 37795296, 39339569, 33007593, 18683289, 38593444, 15923631, 13115138, 34429582, 23236727, 27589162, 6717135, 1000444, 16596261, 4877457, 20119924, 1927887, 7581975, 3958750, 30181457, 8660472, 26201370, 20874828, 34532250, 37230377, 36417772, 29192423, 23861157, 6958871, 35115875, 33440961, 19838939, 20394947, 37238002, 17278811, 24936919, 15098526, 22631726, 13704344, 124108, 2469640, 39142584, 21468287, 31716285, 15034509, 1925898, 26513557, 25455124, 34864961, 21753573, 33961632, 34257149, 27034307, 29851997, 16346430, 31781490, 20801229, 4377567, 18600573, 7800094, 34715129, 3040659, 5688053, 33031155, 19579539, 1827817, 27158763, 28192455, 38448603, 34340920, 39733402, 17133748, 39971084, 30984334, 647257, 36782992, 14025940, 26124195, 3731632, 38422368, 39183491, 1318744, 17302233, 23311483, 34487610, 19170745, 25631346, 8787813, 27369930, 2760783, 39047744, 12498977, 36536581, 34004133, 13318128, 39522936, 13256238, 13601693, 17679717, 23012521, 22438665, 30424394, 33955487, 35724208, 28466141, 6393879, 32763487, 17493458, 14392750, 15314468, 15623532, 21889808, 31783790, 2604747, 30562754, 16638414, 9577757, 36076662, 28785067, 39465465, 27570423, 39603192, 4601148, 7532294, 37400325, 39048912, 26201082, 2984751, 19869123, 21909346, 4488965, 5455053, 13410519, 35274552, 33511250, 28462245, 29462872, 21037212, 26189557, 34878245, 24209181, 1167434, 27189354, 14176497, 14217872, 10741339, 19235535, 13781417, 2628755, 38504953, 35766966, 19594563, 37916077, 34232172, 26648710, 33702434, 25937042, 30747908, 17517758, 25975814, 17553240, 24031906, 40044801, 25341332, 27964625, 32105645, 22473820, 1404259, 25063093, 23125471, 35364082, 39164394, 34440825, 2567046, 30098766, 14347686, 8008115, 35323036, 22034961, 31100540, 11002787, 5891045, 25127612, 40051602, 12233016, 19711304, 9331627, 35311100, 19475955, 36998520, 39408715, 19188209, 32299017, 34569381, 8667705, 36750815, 3772495, 31190808, 39877927, 31955468, 4689561, 5694626, 4194934, 35135669, 38648946, 7042031, 29912777, 3124922, 22731507, 4068052, 32905341, 27077125, 22115547, 7415138, 17775258, 27100961, 35434295, 34353551, 38888858, 6085829, 14327455, 3862008, 36377066, 25353959, 38122870, 36368734, 6790006, 38932939, 4010507, 13387446, 37149858, 22869875, 18085081, 21128424, 32787455, 15250219, 3203119, 16374147, 24101474, 32912519, 24288320, 29554595, 28800814, 32396300, 23586660, 15240518, 39472867, 26515587, 19328172, 34602931, 17964993, 19919547, 37833243, 10205591, 36738176, 15793990, 29248165, 8648913, 2525026, 17695601, 9608859, 37171077, 25259737, 34294614, 2080186, 20287213, 16495206, 37339393, 37193948, 17281623, 33759354, 26406895, 29614190, 15682703, 21682168, 32505978, 31324005, 37841993, 20833527, 31650997, 7354212, 20203557, 36011333, 38887735, 31128763, 30820406, 4010071, 20480984, 21690718, 23543241, 34239877, 38867167, 32976281, 14824935, 34683177, 29661309, 32365527, 19559880, 4129439, 34962513, 22563745, 2296542, 35053825, 31144876, 26795430, 15338649, 36015299, 9835878, 31774869, 9612296, 39843825, 30986982, 13281392, 11946849, 31421322, 40015616, 26481088, 22292927, 19399339, 2398721, 20586497, 39634969, 19776468, 33802686, 37231032, 35228665, 33254172, 25024278, 1023417, 9817187, 27936656, 8013042, 18998618, 425990, 32046424, 14342151, 27585670, 29230333, 30840514, 33853255, 32485038, 22366865, 33947459, 28201859, 31915625, 7939273, 27668356, 23339461, 29452292, 7643941, 18535803, 35314232, 20790711, 21782460, 12796644, 25773827, 6579467, 37449532, 28394798, 34404706, 1821632, 20574073, 32513828, 7520460, 9410647, 26315425, 33957742, 38233970, 26192978, 30375788, 39989335, 21546972, 23744791, 3684488, 39504485, 18654467, 33638378, 20711350, 32588318, 6112956, 18215250, 21551880, 22039204, 35876194, 319923, 19375222, 22595916, 13528813, 39185570, 4322966, 5066337, 17207652, 36116516, 35574100, 11938458, 37499392, 17968781, 19362501, 16958751, 20438897, 36024147, 15545829, 24917217, 8049240, 19857406, 4461909, 28974976, 13020816, 30651387, 15008149, 10689625, 5468225, 20951303, 36809775, 28920606, 5566121, 22700561, 37497789, 32435981, 19440005, 8886828, 2376797, 21924526, 37455301, 27902199, 27342124, 25929165, 30685910, 32046049, 25010103, 39711484, 19511368, 36140238, 1186753, 26989431, 24972827, 34323843, 7652149, 18609012, 9245900, 31373746, 28126880, 18896178, 37404478, 39540566, 36793955, 32708749, 23302695, 28435761, 21412324, 28412435, 27415042, 9121439, 33357541, 9320588, 15606808, 23635504, 19417650, 36993105, 26002766, 34876936, 22030696, 15175545, 3406049, 23667867, 33083921, 32183326, 10035167, 7279852, 22409214, 39886028, 1473888, 29982556, 2647685, 14812029, 12018340, 20523795, 34836295, 16077768, 40040913, 26266847, 33785042, 5759826, 25383247, 2964244, 27559330, 38266087, 4918575, 29132875, 10203737, 38567641, 17918184, 3327695, 23924449, 9047378, 34222191, 33740281, 16386766, 28727049, 33454113, 13491356, 22428077, 26973420, 4597185, 22223365, 31740039, 6083433, 1000448, 1882469, 29304852, 26698929, 15117182, 19686743, 30665089, 3590510, 32230490, 30102471, 9812830, 35566182, 4850311, 19643385, 22488693, 19469883, 33213292, 31738172, 37915029, 20052885, 18115070, 31734854, 25604537, 37991213, 26568161, 30361449, 31514756, 32678675, 35858348, 29245184, 11684626, 3482637, 28387939, 39067834, 32191430, 36935085, 34796211, 8460575, 39688351, 34989025, 36484241, 1793957, 1735240, 24225546, 21137821, 20863295, 33205392, 18269366, 18133534, 33091710, 6374031, 20418227, 33899788, 30676715, 8530085, 37942110, 39714214, 37976380, 995970, 39437207, 30311302, 14872061, 6510416, 23493816, 38794348, 3120202, 24368883, 12567341, 36338206, 31249631, 3357457, 15969323, 25375469, 24231320, 17191768, 37923682, 12604995, 38948892, 34739680, 25864557, 33147130, 17937431, 35913155, 5775178, 10562081, 20180948, 17015841, 30951187, 992621, 31418625, 33903202, 6467663, 20884091, 26385497, 21269318, 25551216, 1542878, 11258291, 2268417, 20688966, 7561920, 28254142, 27649444, 19247675, 34457120, 38006933, 12953801, 32073830, 28218027, 38987895, 31865900, 33804525, 29625692, 27041779, 27954127, 30036268, 24035964, 5425582, 39896285, 29267725, 17396474, 37229138, 5505319, 16005245, 33043274, 19535382, 4380879, 32177079, 33195585, 37339383, 30901719, 25866753, 17244046, 32367744, 26329343, 33577671, 34164624, 27599292, 32871409, 39381593, 37447091, 15704812, 20958666, 1608975, 33289052, 38428481, 164427, 29219417, 36050089, 27085690, 31983919, 5032956, 21437037, 881536, 36608849, 10175976, 24502942, 31749331, 27640285, 3506393, 6720623, 8332443, 12305313, 9139272, 30953473, 22158131, 18676838, 498630, 24174811, 4570666, 34067969, 33325353, 38598732, 37426237, 13652797, 31680048, 22676891, 26627374, 6109890, 14170473, 19688047, 34778159, 24114223, 32422470, 19899067, 23160545, 22004281, 25432614, 25208154, 30493289, 31181935, 7130985, 12488909, 39431386, 3055650, 34540644, 25672180, 23999608, 14341465, 36564016, 11924414, 20830065, 17018698, 13198198, 11947001, 16128232, 19222714, 32690125, 27813037, 25822757, 7386512, 9116941, 12111983, 37371307, 5325837, 3620198, 3192764, 26979579, 4543588, 12839326, 11891362, 1387044, 12151988, 9554705, 3046398, 33368172, 39961453, 39756579, 787262, 16407760, 3879177, 17704864, 8127012, 25497558, 35443179, 18963691, 28213049, 36794954, 22117232, 15862506, 12194070, 11613620, 9705852, 22993699, 11397203, 4708380, 18155617, 33072375, 20510417, 22060571, 38051145, 21734754, 39622971, 31848015, 34747681, 1884801, 17739027, 31933268, 19697257, 36067379, 28365331, 15675660, 17128740, 29001904, 7444493, 3698964, 3383693, 31333152, 28867393, 26827595, 16627935, 28624489, 24021512, 31516085, 6500262, 36087664, 38558901, 19794979, 33943396, 14368395, 34247164, 34023270, 7841864, 32125200, 34364891, 38423201, 33053477, 4477006, 37347007, 19911087, 24189472, 16922231, 26739969, 24462481, 38314005, 25139344, 29042787, 13366312, 28041325, 28366281, 3224307, 13900081, 36817229, 9593881, 9880576, 32371604, 24285536, 16395391, 33733428, 6338106, 37908448, 37631110, 20989872, 4251647, 32015837, 37469021, 35202568, 16469380, 36978680, 12018785, 26989078, 3625641, 20785034, 33735942, 19598993, 25411504, 31381089, 12284276, 13324072, 35575085, 33157768, 29926524, 29503565, 17627601, 21386692, 35932666, 34308893, 12316259, 29547545, 12906933, 22282264, 25386868, 30214551, 39396328, 35821730, 24644954, 8772499, 16859581, 4615530, 3110944, 17251702, 16951526, 18935387, 31553467, 32809595, 33267390, 17562444, 26330606, 38144455, 3336059, 25783481, 20271688, 36325938, 27411376, 38633110, 31033031, 5348595, 16025671, 26097343, 38963822, 15202045, 17812345, 22166387, 34991818, 37422959, 4888676, 37766018, 5326727, 38314115, 35354694, 2906790, 15751976, 20159298, 32670603, 36844410, 35897395, 23190026, 16036802, 1336980, 36981074, 37896144, 10731382, 28436673, 14890152, 2575859, 29742461, 32034152, 6367614, 36766114, 38904147, 35037141, 33534190, 18683810, 8369172, 20715606, 30146894, 26268705, 3705124, 10539128, 28773700, 21948671, 533125, 9662414, 10127169, 10591828, 21194383, 30158452, 28747487, 33677974, 10342074, 38014377, 12448878, 11007818, 20056077, 32673457, 31617838, 12678159, 2145282, 25076128, 16582186, 5170663, 2856403, 31500540, 25308453, 37579042, 39180100, 28691771, 30686181, 27855731, 22656526, 8845732, 27591907, 28088655, 22506955, 38304355, 30625671, 11842361, 7878605, 7560574, 36674909, 39743993, 12344014, 35812144, 30879154, 36460759, 7386849, 10466522, 37508188, 25366405, 15018772, 25341966, 871163, 22399507, 24269427, 37848883, 30653331, 35002133, 22883909, 2528867, 32196511, 24191682, 13785535, 37784538, 38708729, 37289112, 29855081, 32956351, 5877658, 28627414, 27714695, 5202726, 25876395, 2161723, 12251274, 2480862, 17140019, 27948612, 2016292, 38322618, 36527443, 7033846, 19578499, 24321308, 39923108, 39176735, 22352960, 3681258, 21231187, 10162725, 11182063, 1291167, 28421662, 36126334, 37992079, 14776015, 7408380, 10378223, 27145247, 25597497, 38255194, 27944155, 35257171, 20580179, 39044909, 10635212, 17658641, 20194847, 31018237, 1414130, 20361444, 36498820, 8991977, 25669179, 9834038, 20178050, 15233601, 38364998, 14886385, 17445677, 24770424, 27793751, 12993609, 21486362, 33317521, 14857856, 34361687, 12682399, 3132953, 2107456, 35405348, 13975251, 9594081, 30764803, 8951879, 33898929, 12892742, 38983663, 19624484, 14721400, 1737424, 11150501, 39513405, 38157576, 38340262, 24798049, 14704939, 31688469, 33238570, 14209848, 27558097, 18851409, 29346647, 30256213, 34303584, 20838241, 27224457, 19652162, 17957426, 31941249, 6232218, 19030556, 30406376, 21066832, 37375117, 12795522, 32710729, 20386530, 22753974, 19920418, 13835906, 27743685, 14329219, 14150778, 28088959, 2353136, 29460380, 3190735, 39244969, 32356319, 12614482, 11616994, 22135589, 10453744, 12495791, 2934867, 26460151, 30012259, 8670389, 27759407, 26842899, 21471264, 2237355, 21415262, 35439621, 36895306, 29293457, 32097040, 32920197, 28041708, 30229867, 23803255, 18805778, 15983203, 33433810, 17222649, 2610727, 31949687, 9363128, 36650170, 18355894, 30659698, 20363982, 6863144, 13259216, 15944172, 12536709, 11665411, 14467848, 15820617, 13856886, 22003171, 33780334, 35570088, 21276583, 9730442, 16539673, 17902300, 32759082, 14695974, 33876028, 12328709, 17979833, 39085760, 14111016, 27834928, 39904216, 24066735, 18705567, 10686161, 5113761, 36381919, 12052033, 17777581, 32107047, 30528048, 7132903, 9262634, 28014057, 18818307, 34013633, 16705249, 10819446, 34791769, 36170101, 29219462, 26988552, 27402969, 15241371, 35715539, 7688980, 18923430, 24359915, 23202170, 34085402, 27342557, 1750676, 8843340, 17349060, 31767540, 24890049, 29805347, 38902561, 32761436, 38870797, 34381844, 28967747, 31508515, 1941511, 38697257, 16532664, 23167625, 991926, 30297275, 26580700, 27071932, 16005401, 39797090, 10920672, 3266048, 7400156, 1645962, 31069521, 5149327, 29056176, 27238292, 36782291, 33731203, 25049016, 5030984, 17200128, 36370769, 23230816, 36834075, 32927925, 34379905, 6480211, 9759934, 37503378, 35583181, 34777396, 34096300, 28573053, 31930039, 38714607, 8901581, 16048395, 26130279, 17909482, 36057310, 37144726, 4868299, 32387499, 36339417, 35087008, 32637532, 35813207, 23547358, 3551599, 38800338, 7875404, 39661962, 29456194, 31235653, 36658102, 20190748, 38966114, 25256289, 11516002, 38315986, 28186135, 21294750, 36521619, 25297339, 36744309, 10574545, 23222104, 6732363, 31909923, 23202069, 24079026, 13347034, 38583471, 5072066, 29142227, 28240664, 33637977, 22004042, 13821085, 23110761, 9976182, 31514186, 4578352, 34237451, 34213644, 37830640, 38085445, 10121646, 4476430, 38213767, 30029035, 19523075, 17703839, 32701483, 734255, 7902739, 5406393, 8188638, 29652748, 4357176, 23948048, 31778758, 17975863, 35348009, 10090629, 36163367, 4675103, 23451959, 35857910, 22029706, 5314404, 4007434, 4796331, 28156422, 1910131, 35137105, 21631942, 39685262, 39776136, 24261644, 16599658, 30957244, 6494921, 12342683, 6500561, 14317375, 28939894, 13001747, 22184974, 20024331, 16174022, 3947102, 36329019, 29193586, 24191668, 34952360, 12024145, 2900057, 6479504, 2964334, 805072, 35534701, 25638014, 28654923, 13421063, 29221703, 38840502, 31032120, 38071106, 35408721, 24639300, 37963510, 21477859, 16348003, 39866858, 19228086, 37255567, 20068158, 3448806, 27820479, 20424521, 39416230, 20252547, 37167866, 38501187, 18434920, 1371280, 33099163, 39252462, 4353385, 2640072, 36624908, 172040, 30486047, 33901162, 31142734, 33358908, 17214896, 32993359, 24694771, 20381509, 36896814, 20650173, 18931873, 29716465, 632046, 20319955, 17957619, 21058406, 37597735, 28702215, 5481977, 6337811, 31965004, 13972201, 6365416, 30114243, 9652124, 30362482, 37598155, 35760479, 2572201, 4588476, 18582945, 10275971, 26541469, 9258926, 25852415, 21610106, 22560259, 18988066, 13316180, 20347188, 26359658, 25897149, 37659644, 38035850, 3483307, 32409095, 28092948, 20554534, 5140615, 3411845, 39858241, 13728694, 8481734, 24451956, 18213762, 13168099, 33645899, 22689007, 24776692, 32326305, 37586720, 29956781, 33879190, 16123825, 38302206, 31759133, 14537052, 32553750, 24993167, 8174987, 25288176, 18729819, 33459501, 24022971, 37807657, 36001784, 34055813, 39071525, 31577926, 10371618, 20328494, 22394900, 39627869, 38462844, 17155379, 11183292, 38359900, 40049048, 5152984, 34097285, 29831794, 26388262, 32796026, 24723840, 32633882, 10665569, 32733264, 38884887, 5848061, 4538810, 20986798, 33177520, 1344824, 9722281, 21174844, 4034434, 9524704, 3414778, 39779617, 38216135, 10948537, 23384406, 10212493, 14700724, 25371959, 17118939, 39317681, 33779263, 21337095, 32062301, 35896522, 26135870, 13027880, 35591773, 22976981, 12040370, 28791438, 40095460, 22951145, 39651897, 5209684, 1817286, 16465387, 36584627, 37324113, 18092739, 26027290, 33695009, 33066540, 26338823, 25570910, 10101127, 28307178, 39794852, 37313485, 20732179, 21243167, 29102745, 21480160, 8492649, 39989487, 2462962, 28076169, 34932300, 35732753, 27578027, 27998297, 29247307, 21588001, 39530081, 39356580, 26871044, 35588846, 31579035, 16783544, 13676092, 23282710, 32786482, 5865696, 21578382, 6572203, 31455892, 22980448, 38661222, 39890020, 6569721, 38148954, 39188070, 2254398, 22171074, 35187721, 16824490, 8524077, 4672531, 12488183, 32848156, 37047754, 9815078, 38984044, 39500513, 13761510, 3920909, 39738946, 11716121, 38046733, 35502121, 4789780, 25522823, 22734695, 10288444, 24088825, 29312685, 37459135, 26211820, 31753685, 17544986, 34964426, 14327998, 19796962, 14657124, 12500780, 29683082, 24330068, 35745570, 30591734, 6852028, 9457986, 24322199, 22856902, 24582184, 34189670, 22291291, 27573992, 18090731, 7020108, 35847600, 31399628, 13996622, 35502355, 29740098, 18575143, 38336493, 30849366, 18628478, 33923858, 19228024, 17580123, 29872078, 23628936, 16131232, 8836372, 8958796, 5236936, 5627868, 32620416, 15619045, 32210556, 31260389, 9656741, 24326491, 26648261, 33892583, 33309071, 37687655, 34018222, 18955750, 25745496, 35104611, 5374818, 32124500, 28129991, 19093685, 35584199, 3095725, 24643307, 24572623, 3673833, 34467657, 26580652, 18048232, 21690040, 34225737, 29055700, 34850303, 35115098, 39939156, 15188564, 13152236, 11071231, 3753359, 14725467, 30434106, 24244692, 39785980, 31818659, 31220868, 19829799, 10206663, 21316959, 36240034, 39679030, 39992420, 32171572, 2599937, 896848, 14106920, 28257502, 10268597, 33388723, 27146834, 6678912, 28605828, 5901127, 7006862, 36102225, 9605759, 33656347, 2920469, 25739703, 18279865, 1037388, 38649915, 20895510, 28870263, 6507747, 34245514, 38698591, 13859327, 31603797, 1650314, 11754804, 14948830, 24299248, 27222384, 28961177, 29959294, 24044544, 9806936, 27268940, 6339476, 13368545, 28850943, 7937130, 38125346, 26313748, 34075299, 15918982, 5871788, 15161515, 23092380, 37921144, 1500121, 22120478, 32225149, 27535954, 18094799, 26014902, 27508669, 20502003, 26118483, 25116562, 30942732, 16254748, 5628084, 37286768, 21102584, 6315723, 29298511, 21088975, 31338133, 1493479, 35037302, 16946938, 19911969, 4654914, 35621502, 26417160, 34010838, 4882146, 14614577, 15365519, 8904027, 16322297, 40014528, 22938527, 22586897, 12567037, 37425429, 18473850, 11324723, 38075176, 17148792, 7645119, 6704774, 3681907, 37954994, 15295809, 2002357, 40094823, 18727347, 25962692, 27416879, 22259521, 35446607, 28655047, 17469128, 6772676, 5670612, 7648607, 19883297, 32311702, 32268262, 12655347, 37270953, 31592142, 8604427, 21824867, 1117451, 36769033, 32401802, 34812532, 18431320, 36137462, 336753, 37297878, 20022095, 21051731, 12465682, 35530902, 31921717, 2128740, 21689965, 24302045, 25221549, 20238317, 38375716, 27365584, 32378379, 33295976, 17056458, 32111038, 18140991, 2107888, 2078160, 21837422, 4719103, 34221820, 22885938, 8649253, 21178931, 28614203, 2978530, 36212815, 37291936, 9903208, 25153203, 25496710, 26505644, 12429270, 22706443, 31513981, 38318573, 25564748, 12574459, 25523446, 13848938, 6318482, 546753, 28880252, 39303484, 13618321, 11570443, 38514919, 35453079, 4487666, 7919968, 4412748, 29590986, 10327646, 31456035, 5154479, 15199563, 6447723, 37350672, 6270904, 37927765, 27089461, 38448270, 14027185, 27442298, 5328301, 27258223, 15170013, 24117481, 14994784, 12257081, 9966287, 6565008, 15378349, 32385881, 5331474, 29081960, 39173717, 33875998, 34196545, 34533492, 21571217, 34930059, 31254415, 30401290, 18897777, 4192339, 37623629, 20444621, 35338547, 37888459, 25300072, 27647871, 33933712, 35864307, 9939604, 22892651, 13049863, 18548710, 5250419, 24432214, 35236771, 20165650, 12755023, 32260538, 31060110, 34855440, 30761470, 21929936, 28061862, 24018315, 30816687, 1967438, 34482815, 27386738, 21372712, 21607719, 34881933, 8098312, 24949074, 13330145, 32491885, 4042407, 2181002, 28472098, 18429829, 27587549, 36359321, 34550741, 30168176, 35377934, 34105080, 26632784, 9919007, 29290123, 9827682, 24829769, 20183920, 34681144, 26910914, 39724387, 1959375, 24807196, 4965519, 4581370, 11545759, 37187598, 17151657, 9523781, 2736065, 29941127, 5688276, 22159305, 13029012, 39352019, 34054765, 19857578, 21453137, 37951143, 10996353, 12880158, 19119999, 35158334, 36021291, 28846664, 26478712, 35364644, 19026518, 38459780, 10028113, 4822248, 39181655, 10978695, 14895981, 14066531, 26965678, 26113260, 29001695, 34822875, 30591514, 29514136, 1834610, 18735480, 9436954, 32953660, 29483872, 19962129, 16304582, 23295220, 20784391, 35677876, 33589033, 10144475, 18631669, 31884573, 21957043, 30407479, 4514198, 18329941, 30927963, 35525528, 647005, 31843550, 20115202, 33259229, 38733763, 28171380, 36084948, 39940520, 10242494, 16927507, 17242409, 26336723, 6580635, 36688815, 24937822, 11390522, 31174442, 37747312, 38380430, 5437323, 26866806, 4862290, 35645941, 34827566, 39241820, 15960876, 16272564, 35830915, 25871261, 38476563, 13905731, 9583096, 37030429, 8823164, 32217045, 31502778, 2513027, 29713802, 21512886, 25483003, 18173057, 16573174, 18474783, 24197799, 20616645, 40027694, 27509064, 39919053, 19478442, 6590521, 34267406, 34152261, 8906972, 25345272, 32018286, 24337507, 32497973, 26317114, 8369443, 7432142, 24348016, 14124011, 2775751, 20421988, 22383499, 22845201, 39186161, 5725667, 670442, 31737045, 5258326, 15101870, 31685788, 29986264, 39573772, 36870081, 6034047, 27410032, 33493185, 25561655, 6865356, 3443313, 11748488, 11939066, 27636880, 1929109, 34267461, 38798411, 7165656, 16243023, 4179338, 23946883, 18521457, 18102089, 13168146, 6822655, 14799835, 27400202, 28006808, 18216975, 13620867, 19539035, 16085410, 32053863, 21588029, 14327001, 37803947, 23376190, 23257872, 35731685, 20259642, 17769389, 15325183, 31205347, 15674601, 26160540, 28612386, 27592513, 30985579, 37154883, 12707364, 6832268, 28253681, 19073476, 35576312, 38931987, 11100997, 26425013, 7939010, 19558994, 16396896, 34405097, 18238171, 23941930, 14508496, 809210, 7832021, 29349399, 18163301, 5091596, 19320568, 23252754, 35898980, 38253679, 31186908, 26777440, 12375857, 37057991, 30753548, 25185345, 16591947, 8528264, 25209885, 38703873, 6318127, 29199318, 24630368, 17584973, 33041756, 34360912, 28753566, 34541431, 29125310, 18858425, 34063602, 30417851, 24762475, 2288725, 17044661, 14918291, 27384916, 28052872, 34759983, 21337810, 33616844, 7071829, 17240112, 36249627, 39702138, 39717356, 21816205, 38402760, 22696010, 27771166, 3827861, 34928649, 4581723, 9244497, 33379651, 7778602, 20675138, 23107717, 11197715, 20619846, 29440201, 22896199, 3453897, 16335590, 22132477, 29964518, 19125642, 5771965, 18482627, 37329034, 5065455, 15369987, 40021380, 14549451, 7022807, 10468646, 14451442, 36097541, 28908551, 35975327, 10459041, 16914604, 11393060, 6324575, 3424939, 26782993, 26202726, 39461889, 26823467, 39916348, 21496186, 33266785, 30981541, 35201075, 31508143, 17014825, 30512962, 11388283, 17093488, 34446721, 34600142, 10683650, 19220598, 26804088, 17519210, 36724155, 36698387, 23262859, 5308895, 16210101, 4477413, 22756618, 19457561, 4000482, 8114192, 25610053, 38791442, 38063014, 38960926, 31853435, 3419997, 12479206, 6692035, 23822029, 30658141, 11994139, 29367677, 36720551, 22324752, 1492866, 26114109, 38080190, 30802282, 24042439, 21184276, 38385156, 11093204, 26943004, 30716305, 32491023, 26362867, 30588956, 26773983, 31944124, 30681152, 22114625, 12320143, 30010165, 28100160, 7990068, 38711457, 7844962, 3177772, 36383203, 37588432, 19699136, 31797828, 35779091, 35740893, 14063261, 21479783, 21134473, 39826859, 10640720, 36539012, 3460910, 30195390, 34585617, 16285549, 11461647, 29333158, 2017112, 1138106, 13832861, 6256039, 28108600, 29734705, 4170403, 33584882, 25126694, 25105146, 12222196, 33041879, 24373341, 28644374, 37120236, 26458911, 28747456, 18222421, 12750731, 27637523, 29276668, 38877881, 2805914, 18159079, 12549319, 35480045, 28605338, 10798767, 5242230, 9206373, 8352350, 33012402, 24437727, 38323390, 11497286, 15294124, 9777418, 3566772, 30831636, 33982774, 18784714, 18236282, 9887165, 2190075, 20166638, 36111352, 14677548, 36049768, 31181189, 38928254, 36163542, 12176607, 35383426, 13048596, 34226224, 17125205, 37032341, 31029849, 36355647, 17750159, 41547, 10883846, 27993494, 34878869, 5849973, 35671994, 30435192, 11940038, 26046368, 13122656, 33513857, 23707666, 24512542, 20691707, 11963179, 35896806, 15560769, 24654209, 14065801, 39660927, 36147597, 17868049, 35955349, 14617447, 40019769, 37780072, 1948052, 10798606, 35773995, 2869909, 12515060, 35661986, 31661379, 20692242, 14551892, 16327808, 4884730, 35810749, 30817746, 14460042, 36521704, 33207673, 33950322, 9634800, 37818492, 11371504, 9636955, 4452208, 2149782, 634857, 31389006, 727917, 18301839, 29562223, 3346504, 6152129, 29952053, 3258511, 31044631, 7622129, 18060705, 29652511, 39388764, 12409555, 35115767, 13170367, 33934282, 18243149, 10693379, 38662514, 9791947, 2888142, 28393443, 15507709, 35811969, 37641233, 26489723, 37973779, 29612442, 16792698, 34169478, 23004038, 8849747, 30597940, 156951, 36898560, 36142217, 32952432, 34079023, 3057916, 38772498, 17528351, 35868293, 22082005, 30642404, 15402446, 23448628, 22613468, 20350802, 26080808, 26687001, 12674884, 38042314, 34438290, 2191116, 13920869, 36055460, 454944, 15622354, 35248797, 28892378, 13257188, 28488936, 33567331, 39875057, 27934822, 34644180, 38108688, 16090233, 18425817, 9822681, 19983165, 27953351, 350799, 8568526, 20005801, 20779284, 36818609, 7825581, 5233841, 35967439, 39817945, 30403806, 24047194, 33185447, 18750121, 18579279, 24963965, 6549290, 6124485, 11353586, 34853453, 6085452, 14251610, 27400887, 1352678, 30392889, 3617041, 10399077, 35491221, 24210436, 4349220, 3891880, 20223456, 3254381, 26538176, 32383575, 36213769, 22352231, 24438244, 37701875, 28178767, 21000248, 1880753, 34381485, 32511731, 1290891, 23978839, 12361018, 7409666, 37102418, 8182942, 39035543, 16457522, 21621463, 10283102, 1931008, 15351622, 38961126, 10866410, 20632194, 2011823, 1469770, 17922022, 18660365, 19214242, 9537326, 39652109, 30329984, 16493623, 13524334, 34606134, 26509633, 21449563, 25614109, 14621937, 2245612, 3806574, 4907013, 30771415, 20840983, 17204640, 12877011, 8780756, 37699186, 20059778, 18781822, 35567435, 28003038, 18455587, 37840839, 22384473, 5341998, 8613005, 4259831, 36235086, 2317818, 20991887, 34049130, 15914373, 24321000, 9310360, 2147695, 28528956, 34347859, 38337810, 29104622, 19989397, 25877446, 40118704, 19788841, 34733917, 25385706, 7059285, 8314847, 2894802, 11198183, 7871488, 25353339, 35779239, 4214680, 17762159, 35830868, 5223048, 22346178, 8408231, 15621904, 20146208, 24749762, 31352496, 6230679, 37774264, 39295659, 32251886, 7134756, 12494926, 35607753, 24487288, 17844563, 39894047, 16689873, 26698415, 23084236, 31344488, 30900514, 33552558, 30326532, 34971098, 21389741, 38403350, 30315465, 27110807, 13042257, 30105884, 28419912, 10357675, 38432468, 30983243, 40109185, 33276126, 11575267, 12726176, 24169611, 25814895, 21525886, 30800970, 17212836, 36196533, 35002504, 30993040, 23224034, 34647423, 33907328, 4446971, 22850012, 10695860, 2038160, 21478548, 38585719, 36177127, 13851235, 5975175, 37580566, 31536017, 6726796, 13932814, 39801298, 36952954, 27273583, 17485241, 24092053, 26759049, 26323155, 4922619, 10735998, 23114790, 32567402, 33376840, 8575895, 11807565, 36527992, 37182308, 27883469, 9163014, 38108887, 14180952, 13855033, 18759476, 38318574, 32035075, 3264101, 15799874, 27331717, 20466864, 17054281, 34405936, 14130576, 5178215, 22260985, 20153936, 18247190, 9228992, 33859347, 37446282, 38951920, 414543, 22105163, 31911496, 4778685, 36353016, 24451677, 5636938, 37627327, 30456958, 40113921, 29035055, 10165638, 36210588, 2584141, 33852035, 31766235, 36778926, 14369740, 34593061, 28651371, 32791851, 14336507, 39329196, 20016091, 14174371, 30228874, 11703327, 1435438, 32429113, 27774405, 38991164, 25427210, 34371672, 14722439, 17441115, 21262158, 20728764, 34065392, 19208614, 26475420, 26687218, 25000633, 28211480, 20741952, 27607988, 34741146, 10603882, 34129826, 30524805, 17063374, 11786964, 31024152, 31145711, 5895716, 21747765, 18656747, 34153949, 30471375, 37098504, 30758907, 2735828, 11439874, 956820, 39471280, 27486446, 36428687, 27960884, 1902332, 20332266, 6589207, 1214453, 22553679, 5162874, 37911283, 38938649, 11590409, 36217189, 16732813, 6064121, 12257116, 36270786, 33289481, 18005809, 18986354, 13931189, 24267029, 35165156, 16537490, 24136953, 28258423, 4534740, 37662074, 7864536, 27808719, 20019166, 17978593, 26178633, 6278940, 39195262, 4572995, 37736021, 37795745, 4186099, 7202953, 4007240, 34346154, 39525754, 33480187, 17438629, 7753357, 19978817, 30039002, 1239246, 17660485, 13349794, 19386309, 26309363, 32393897, 17421787, 39903798, 39283729, 39526848, 31215058, 6845401, 8880652, 34835700, 35803298, 39867672, 33370067, 6408399, 36740456, 3487484, 22115355, 523356, 35928614, 3029561, 32231381, 28383280, 32371562, 17265247, 28958563, 13592477, 22896702, 38897320, 25566799, 29871133, 21220080, 39324619, 22716902, 17093874, 6777732, 12970932, 23568402, 28453615, 23515911, 34473323, 16992134, 2339857, 40117632, 16904988, 29592644, 38486794, 29249384, 35191193, 2982708, 14113459, 32190323, 1411417, 15327894, 32248620, 275541, 31525423, 8504157, 33280135, 7111149, 36146933, 17130026, 36565611, 38996580, 36791091, 31787678, 33176948, 39398625, 31618758, 15805561, 9664050, 33767565, 5575782, 13041581, 24083288, 20378647, 34281659, 28425980, 29461368, 28731407, 14635156, 25446380, 13254409, 23571648, 9475688, 1285977, 147627, 12935030, 30406157, 36101267, 30502266, 35927256, 8258623, 27751148, 23520619, 22079147, 32102245, 19967390, 29256490, 29140604, 24135975, 31591545, 39123052, 36023962, 38131563, 35760704, 35934814, 11969847, 13189115, 5415199, 32790449, 18585160, 1664636, 36091549, 26695792, 6062655, 23766191, 20648128, 17374467, 12203340, 33422645, 32735511, 38580881, 35080944, 23469629, 660836, 33966970, 11175412, 29315215, 38158192, 2094783, 39757922, 36817029, 19477208, 1233709, 37546059, 25122951, 23426515, 19707400, 4915647, 22989689, 17136914, 19434451, 38082810, 32185232, 18550702, 32743668, 6927054, 19613089, 25080645, 12548659, 16075502, 12591040, 36768690, 8267428, 5085794, 39409225, 24226133, 34544077, 8401379, 15013380, 9620997, 34488496, 39088813, 18122703, 4777317, 7585027, 19848110, 28310286, 34897243, 22602390, 13538591, 2578540, 26585556, 35049080, 16640321, 30147716, 33411791, 17467425, 1641393, 23739965, 24106921, 2887464, 22259600, 36552600, 2719128, 33200369, 39218872, 24061320, 36479551, 36779471, 11161671, 27178184, 35878217, 12568725, 16864718, 38862775, 12520278, 4782438, 29463808, 28986446, 19203067, 27151680, 37899692, 35508169, 21127099, 25064271, 5429478, 1738466, 37849071, 27180528, 30668053, 962619, 29132210, 33479504, 36231511, 784124, 25368597, 31112864, 22620864, 22732290, 28355112, 33595926, 4886845, 29740206, 29157001, 4572984, 19459437, 33470339, 40025208, 11314130, 15787592, 38597764, 34054412, 35696719, 23053968, 10219352, 22411823, 32064106, 24618440, 5086730, 8590958, 19342896, 940089, 27857190, 13151482, 4863301, 27403675, 20731943, 32106876, 36357378, 36353097, 12545418, 21951528, 8952542, 2641780, 6854133, 20287111, 11629582, 16872788, 26013379, 24505763, 30621259, 14289887, 25871268, 34563401, 21055466, 31676861, 33064366, 8768255, 38494603, 11823586, 11141897, 16371593, 24580356, 24713807, 21688485, 30155147, 33339052, 5397985, 21541047, 30550721, 19477304, 33262825, 34727484, 1674530, 23167712, 17255897, 13858555, 34309786, 37543137, 14057826, 24430621, 14671388, 27411582, 32937097, 27152673, 35920691, 18993181, 2720414, 34049393, 12811210, 25792226, 14037269, 34224947, 27169833, 34529651, 4909577, 14589244, 27332371, 36780756, 16720154, 15043864, 25851866, 23125856, 16071344, 17427686, 25586223, 26952393, 21733614, 24334392, 20233005, 32239936, 39223172, 33524786, 9749607, 33607083, 31845109, 18939085, 565034, 38402247, 7302249, 35516130, 9124374, 20796264, 36952178, 19773869, 26008398, 33119170, 7910583, 28740338, 36823380, 38531078, 23475171, 11316735, 39681798, 29067045, 8152729, 39042393, 38786036, 30887731, 24581614, 13441539, 28006366, 27158369, 25611709, 32834761, 6287268, 17986721, 32484919, 37329758, 26895437, 10552188, 33633374, 2554127, 21564481, 19752971, 20223106, 14618303, 33479319, 14661827, 23521345, 36998620, 36118563, 40028433, 19857266, 39614037, 33396184, 20499896, 38876493, 36083945, 27249872, 19069615, 14680195, 4454278, 32248826, 31056124, 31967031, 27637027, 32850643, 2322069, 12839509, 39266233, 18387167, 7435986, 17510261, 34202439, 3582414, 20362617, 14576777, 14412178, 4536276, 19036476, 4486173, 38230548, 27227492, 32057997, 25127025, 16986931, 30694858, 12423796, 24160264, 23273921, 39063340, 29738075, 31047754, 38566799, 6328849, 2058261, 2007908, 26699051, 19921705, 32044341, 21291978, 24484275, 22549404, 11745133, 13939337, 11213481, 38706953, 5651101, 25673271, 34209, 28094173, 38829138, 38252311, 27929969, 33182517, 20513066, 18085898, 27305616, 9286852, 31296209, 34798319, 32168728, 30173137, 22357856, 8198573, 20682954, 8164996, 35342798, 32186916, 12779397, 17169713, 35233820, 31467100, 11436467, 16214846, 11263807, 6470722, 38750667, 24166620, 30817334, 39817737, 24289003, 21036868, 8718137, 14757611, 36847510, 17415784, 15885030, 18484846, 12777648, 3362034, 35117752, 30791681, 15843500, 5576089, 24737777, 35328589, 22866049, 10642625, 28471404, 5817182, 14343515, 18679859, 36520337, 17408134, 13520618, 30658779, 25683549, 29440102, 11645757, 33882411, 32857857, 39478845, 39736053, 34171047, 30016242, 31153889, 12360830, 9509194, 31604542, 38447104, 9874959, 33471710, 39127783, 13301696, 34289828, 35485085, 25022283, 4540089, 5414853, 9195206, 33319343, 26062234, 26574071, 31429038, 5097864, 16129927, 35557733, 38222375, 13285976, 36158505, 2267242, 1823852, 28177481, 33911297, 26566130, 27885464, 25637930, 22217314, 7019028, 39564589, 33049797, 10684685, 29155153, 31170712, 36379497, 34956673, 19647817, 36631419, 8804193, 27468914, 20208562, 1871252, 232435, 34510613, 4847913, 5031711, 2600212, 12654290, 4688500, 7438681, 18250279, 30373238, 26000700, 32735536, 20768197, 20186426, 36179539, 5049675, 9060506, 26792615, 31657898, 21228282, 20981483, 20689240, 39701466, 34893351, 20874901, 29691116, 20447446, 39371156, 33966136, 23790009, 21353999, 20406340, 30877388, 8599336, 35610974, 3641483, 36075262, 32569067, 34274419, 38817221, 3051208, 33424379, 17593436, 38228642, 10890910, 572009, 18356154, 21340698, 1783431, 35838989, 37098578, 2039653, 10273880, 12150607, 27789918, 35818750, 25737075, 34194572, 35075595, 3056461, 36161455, 34058428, 8589636, 25741033, 36373541, 34669312, 14491443, 20662075, 28068168, 15111311, 16461282, 39270030, 25842624, 8365090, 37398585, 23433643, 6589684, 31581470, 37025676, 29992831, 18454644, 33360631, 15756007, 10054387, 13141138, 39142963, 17662232, 28160010, 24190685, 18790301, 23784484, 27432136, 14213333, 2878245, 35619135, 38428734, 12671799, 32668910, 19998094, 14090008, 32409750, 35585890, 12413317, 34460363, 32079877, 6543905, 35017752, 23580432, 25207697, 16322479, 32299189, 26095040, 14792245, 9935876, 19522563, 14475108, 18344373, 33034721, 8863724, 3943598, 36206961, 38213486, 16440163, 23541447, 25292561, 21709511, 33703866, 14993766, 37040154, 28159070, 29462558, 15015902, 3368158, 5025216, 10798740, 20758104, 12209163, 35108741, 33120748, 25228484, 39923814, 11876530, 22130226, 30911343, 36399438, 17405047, 26914136, 18771603, 31216502, 20243803, 34306603, 14856097, 19566314, 28249276, 17226779, 39780715, 32962650, 24486428, 15450060, 34940024, 19597411, 4170031, 23894138, 34755434, 19811188, 19076965, 32348146, 23821352, 32928663, 16503669, 17623898, 29031862, 25471978, 32449122, 7593574, 30313044, 34271039, 18118673, 108193, 18983032, 39929472, 24878417, 11081999, 33118444, 31166955, 15367557, 33186938, 6706825, 26528269, 23370266, 18837777, 11936056, 26793186, 25481366, 29111372, 32343208, 27829631, 4411049, 32415312, 19904629, 16900215, 30935583, 3930512, 16152197, 39097545, 34915480, 25538666, 20562487, 33357505, 19029041, 21249055, 37576442, 11058839, 6326226, 22255537, 3253235, 12374932, 34253034, 10006752, 38220926, 22736575, 29937861, 1223763, 30033296, 36772992, 3267081, 18177698, 6916849, 32944869, 13051544, 2333360, 15108056, 30513581, 22851898, 4115541, 15338103, 28258886, 23600123, 26695475, 20490769, 15446809, 31994682, 33593434, 22844305, 35484558, 27479430, 13728843, 34097667, 21417978, 2291176, 26056496, 26180766, 33901158, 12423581, 16438282, 19784745, 26448733, 37759520, 21152677, 35945817, 38938387, 33519193, 37277850, 2630680, 32719835, 10438668, 6787629, 14449770, 24535708, 5468449, 38471856, 388233, 29035897, 34293603, 16161727, 23348514, 12345400, 39708559, 38686887, 17455982, 9105177, 35681742, 36102879, 39538841, 21473532, 3213284, 38794192, 16469248, 20361235, 15534064, 39735803, 16947227, 30343212, 6976205, 1518286, 15450079, 13747886, 22140426, 39308850, 28158344, 33159072, 29920992, 2861024, 25952145, 35534170, 17257827, 8235249, 38788754, 35385701, 22427388, 39710972, 26412983, 10442755, 13118362, 8402898, 9282259, 2570193, 12608919, 27603283, 20170062, 699462, 5045970, 39543946, 25584670, 24872369, 14554837, 14355183, 7213934, 21137530, 23335170, 26515638, 27946600, 25642134, 1658265, 27316231, 29935200, 16953343, 27696295, 23282226, 9117590, 23805230, 15149555, 12233787, 38293498, 10640789, 33894571, 30458605, 8387336, 38310346, 20860829, 34863714, 19409994, 38301838, 16043196, 34759823, 13822582, 38863224, 24958931, 36763244, 2313573, 11091910, 932255, 37781537, 26705688, 18938044, 33358120, 3462294, 21358528, 30661704, 37972516, 39096973, 9643975, 3680779, 23961470, 10804137, 23621644, 39470102, 38725955, 38797175, 13756926, 3664817, 4214354, 24074089, 25272500, 29834507, 3207049, 30612803, 10727429, 23663420, 27392117, 34952124, 18412955, 39840736, 15246661, 19337952, 7917604, 11656117, 21917540, 29898680, 35279767, 20579763, 6508497, 8592680, 31579082, 28837217, 31468333, 35163218, 10975140, 6953930, 30552513, 13860065, 9861386, 7352121, 706405, 10742099, 35769013, 4305948, 7196059, 25863302, 11321220, 8133312, 25822319, 39597172, 22571181, 35571256, 18446922, 39061107, 26228224, 15737547, 34832570, 33179902, 35623982, 11249243, 28074495, 27204405, 4643545, 11779246, 28583117, 26668834, 7700743, 25417908, 32331467, 26229243, 19544168, 8681298, 39600309, 31689545, 1598248, 32213796, 15842629, 39291553, 31791595, 33486185, 26687383, 13332162, 21579005, 15593087, 20380145, 28465355, 38610962, 19254854, 34154130, 4414394, 24643034, 7496455, 39489126, 7132900, 3618856, 3983872, 26302417, 28267870, 11978640, 25576203, 38336324, 35406659, 34258449, 39210136, 36422860, 32408429, 9926994, 23487652, 33402093, 32464065, 18242518, 28525851, 28361166, 15124567, 36006878, 27796352, 13904946, 34935846, 2460014, 14444167, 38723055, 22599231, 34823688, 35229184, 17076904, 14673547, 13759547, 22515611, 28090636, 35773628, 19989306, 3757951, 25439167, 36886361, 17427098, 15169001, 28803561, 36697088, 24792480, 38409730, 20346189, 35065199, 34840462, 3849835, 910169, 38512331, 18769216, 18637963, 37020937, 31941779, 21630646, 28652295, 3636286, 17898994, 12257618, 35445029, 22776989, 6950486, 18203948, 14043080, 28291597, 27043515, 38753345, 20934510, 34767720, 28308917, 32739055, 34092171, 36203723, 33862427, 17240885, 39645410, 20937030, 36092348, 25960754, 3575867, 12181938, 3012863, 30705659, 2900088, 26193408, 25108362, 6185103, 38312387, 13454978, 32390479, 37151641, 33763993, 24118664, 16768710, 13334370, 1553564, 2147701, 19030519, 33273773, 5988597, 38923002, 33998283, 30158158, 6879991, 38339815, 24480945, 32636307, 29396211, 10122992, 23871519, 19529065, 21600148, 30939443, 38840366, 36211999, 24923505, 38782075, 23424877, 25629092, 13818120, 26305962, 14012218, 32518021, 34880608, 14026614, 27457501, 12720481, 18547468, 443920, 13379538, 24815775, 20080747, 35044879, 36291715, 31695322, 8150078, 32856361, 8904338, 39885401, 8540923, 18620424, 25865669, 35506479, 31949523, 26583411, 10753841, 19218887, 6953132, 925456, 8367609, 3915888, 16680112, 39571245, 38184103, 24725182, 4911305, 26081897, 32029602, 29404887, 1745743, 21830882, 33058591, 29932845, 14552778, 29253390, 18435279, 34406824, 17935082, 20794901, 3176731, 15618119, 20192144, 9473303, 7502566, 19832942, 15271402, 10599593, 33770633, 26588923, 35651169, 31433393, 12232771, 477820, 39872363, 25381024, 29459207, 11634807, 35800558, 16914494, 24808972, 4431922, 30031483, 32591770, 13975720, 27174524, 38260369, 38022035, 12384460, 18451100, 3958566, 1995561, 18921059, 35586714, 6726385, 34983092, 9279777, 33517138, 39407414, 13501432, 28656960, 25106720, 39691785, 30367345, 23773294, 27518373, 24032237, 23440154, 21051132, 31374992, 21832952, 22490379, 21125508, 18851033, 31011569, 2259844, 24081012, 21135033, 5575009, 19827342, 21135568, 11747625, 9164610, 22926466, 1629800, 39482332, 4621726, 4180120, 23815379, 10613315, 20252039, 27860411, 4498338, 23995936, 25571074, 13638326, 18950144, 33511864, 11173056, 39054611, 3506809, 22370415, 38414153, 35773401, 27793184, 31156809, 14699598, 4065806, 12550447, 22324052, 34355933, 38295686, 6614793, 32461225, 10178736, 38622248, 13817525, 19071977, 37926346, 24665259, 14670990, 25068961, 36082136, 25991081, 39951088, 25980802, 33326999, 25362511, 11996536, 39216301, 33683343, 18258321, 23673786, 6279725, 23363749, 35287620, 24066914, 35410041, 30505269, 19310083, 2672975, 25975939, 16776888, 30798735, 39630218, 7405333, 31576819, 6479084, 29073432, 37408715, 9622266, 11245031, 11268763, 35040092, 36112257, 3303336, 25569115, 27160587, 4816676, 17500424, 29725369, 34196181, 14738104, 35191614, 35365750, 30915662, 34482171, 12615689, 31231083, 2574540, 31066919, 10995888, 34393149, 20931318, 33093160, 12539603, 29228967, 9390310, 11754802, 13799844, 39611973, 30550240, 22155828, 31482212, 35558410, 3658944, 21033087, 34286973, 33127901, 10692235, 17379272, 38953962, 24901539, 36706451, 2988978, 6359333, 10410268, 2569982, 36204575, 24183008, 19821420, 3605936, 25728345, 23202805, 27829413, 25283797, 32817152, 35588202, 19624035, 13030972, 26464412, 10533864, 6547743, 34375799, 27937959, 13455052, 25292536, 17650913, 15099476, 2099037, 5471312, 11418522, 29440881, 22717373, 20754085, 32983875, 18753369, 24517223, 28529705, 4524445, 31442049, 16907186, 32538245, 37996304, 35676293, 21062560, 12251687, 9595497, 26476206, 32002079, 22492432, 1538994, 11692538, 16453539, 14334976, 35610140, 11002018, 36127065, 24901002, 1447961, 16804196, 310931, 28623094, 32035411, 9587237, 16016039, 39423531, 32295767, 34990468, 5170702, 30132459, 35770857, 4794425, 1914881, 28991053, 16435944, 20402997, 28316896, 25672829, 7511405, 21464995, 13297746, 35005647, 3782945, 2928255, 5995674, 20800018, 14392121, 32573337, 2822599, 39146334, 23346857, 36676308, 9395106, 26053342, 38206406, 4019328, 16403737, 23359827, 40051274, 1151879, 14970389, 34474910, 34815138, 8965179, 21414665, 37051411, 39086342, 39156076, 39751412, 16196735, 29781169, 21989775, 1558896, 32026461, 25241752, 17940669, 37868084, 789902, 9528816, 21068144, 793095, 14498926, 10463487, 11729954, 29563852, 34505908, 3801103, 31629785, 22218334, 35534210, 1980600, 23899779, 28775293, 15006119, 24876462, 4565814, 24144386, 4313160, 22022017, 37376289, 4540013, 25790526, 7565277, 34379034, 30262193, 4483020, 23689235, 20414711, 11254464, 32998592, 35214409, 22510701, 34782417, 24968898, 4375838, 21512628, 7772378, 11393257, 10263354, 9341880, 35341357, 27418377, 31540221, 21975666, 31252155, 27979784, 31832635, 25848979, 16629533, 10148407, 34392139, 3695794, 34914268, 26098509, 24669195, 29331560, 3809242, 13434975, 29718673, 26833825, 32827257, 7822827, 28545297, 24133302, 39929707, 33716750, 27852521, 14652430, 25934025, 37519709, 25108781, 14940031, 36749932, 18339849, 20939416, 6893946, 16651882, 28733271, 33087707, 15454008, 3699968, 10708374, 24337652, 29862881, 24494726, 23205254, 30219792, 30071766, 8600837, 10053981, 8038303, 529890, 33549266, 16759430, 1624782, 31822545, 22549371, 39716881, 10126955, 35911134, 3982443, 20121735, 16336271, 25058928, 34485937, 10361511, 39322967, 9554610, 36503868, 6318518, 26519828, 16158327, 1302040, 16198701, 21358106, 23348777, 39772762, 24834927, 15802157, 843580, 33094243, 28128823, 2937245, 16493163, 20397233, 6808730, 33246828, 22954767, 20853551, 36893222, 35991070, 9337149, 13513213, 22802360, 30890809, 20766116, 11050770, 21741366, 28650802, 32481602, 2535379, 34983468, 4807725, 17618052, 4157605, 31376234, 4136785, 19742688, 22977285, 32109570, 35802385, 5833218, 23129967, 16015064, 4183702, 20821282, 33483465, 22514186, 30190073, 18648927, 7028091, 31964676, 5433897, 22676798, 30215568, 33013228, 15680129, 12720052, 26570395, 34074957, 28122433, 34384799, 29035857, 30768303, 29602219, 11279467, 4250019, 30444863, 6836852, 6287456, 4531805, 13388897, 474203, 35260978, 1700577, 25269041, 39151875, 25696120, 33439750, 35882745, 24319833, 9822774, 28582730, 10890368, 34328634, 38920133, 22238663, 38731104, 36457217, 20929068, 5383332, 3463698, 31683133, 11183704, 6504182, 20510640, 3692357, 17127485, 23228126, 26849687, 11099083, 35355697, 37166188, 27726790, 35668628, 28489863, 4274707, 12894426, 22354602, 34161991, 39911741, 31123230, 30858169, 34893330, 38386787, 37898559, 19903756, 39798172, 39634342, 36225534, 38841285, 32337071, 18602563, 31718849, 33784609, 31198036, 19492557, 21128206, 25219911, 30835484, 1767848, 21936529, 36782029, 6363728, 23410802, 34366131, 20915779, 27982400, 23489199, 32510123, 20570946, 39621174, 31427649, 3083309, 28762703, 20832594, 4307677, 39374281, 32170975, 13496765, 33164960, 31844230, 9220657, 22001460, 32991341, 32606304, 34437906, 24016320, 2615042, 21455847, 12546859, 21156163, 37694971, 28272915, 24505293, 35244292, 32850585, 21392513, 20298471, 4304837, 550300, 14187356, 35781081, 14944652, 5119964, 20324660, 1472974, 3323591, 19893263, 32328795, 33894209, 18704777, 37274782, 23390885, 14922828, 9407127, 28436875, 32351618, 38282547, 28809924, 31633259, 27440526, 12170962, 28940098, 19999664, 4270281, 5942759, 27757332, 14572865, 14497022, 28035698, 23471342, 39811987, 39497266, 32396493, 20004427, 15387354, 19862519, 354755, 35077921, 6687114, 7322578, 25409151, 18444819, 20154766, 36264769, 15418887, 12874839, 26622830, 35463735, 10219548, 30600041, 23588930, 23016406, 39615860, 13718343, 22221198, 19683145, 31930149, 18951040, 38572844, 35780808, 39185272, 4643897, 7615505, 32859337, 30356239, 23477871, 28188804, 22335636, 33102837, 19193718, 26881344, 1784076, 28837198, 4409133, 17906075, 25990479, 27007927, 25101132, 14077799, 29243722, 36007466, 18602249, 21089507, 13168523, 15628861, 6186746, 28623969, 29742845, 28395482, 36442713, 33887206, 33337013, 36393538, 28346179, 36884703, 32794615, 24898132, 13276361, 34956749, 36515187, 19078792, 13004606, 4027508, 34971188, 11321906, 4176194, 39476572, 10524871, 7894436, 5452931, 3471035, 20319398, 32899014, 17198901, 25802486, 36751739, 11630478, 27573237, 38941138, 17096732, 5269585, 20969426, 16151050, 39054509, 38571334, 19101308, 33594479, 9822312, 14429500, 20486213, 25859438, 30453979, 919990, 1352073, 35836879, 26710994, 11026979, 35327634, 5955032, 971660, 30261882, 26485962, 35019030, 6369054, 21260139, 19966309, 35054392, 3293951, 16003566, 28205282, 20481482, 8788847, 35228902, 11338098, 36738074, 20156105, 39785934, 31069449, 7987196, 23298925, 33414651, 38128140, 12855534, 16144431, 34244217, 35096871, 26416462, 35353555, 38107980, 29517774, 32000340, 4854911, 32291530, 21512695, 34279652, 36901151, 10686931, 31014073, 38222360, 11269287, 30434323, 27930334, 24233036, 39972580, 1150898, 36950520, 27619974, 29930401, 17601602, 16295005, 29482853, 37930311, 20380652, 25350199, 17475250, 2396294, 2657149, 27751147, 4015229, 24937138, 1285372, 28294061, 38588878, 22747952, 24154890, 14560561, 20779068, 38251597, 35317813, 12444496, 27894935, 26327497, 18150492, 17697057, 8191976, 32342141, 7193478, 39800229, 18993149, 34605549, 39425217, 4810530, 22001565, 33655553, 30662731, 22515672, 26773001, 24194245, 23793102, 33659994, 16096528, 4411213, 23748835, 22493529, 11441968, 4643884, 35787424, 31985771, 5073903, 14737257, 39564141, 32409883, 33400386, 4196770, 110774, 19623885, 7623841, 14989934, 10414264, 30768860, 38590316, 38035553, 24372368, 18692245, 32464432, 33049619, 4526211, 2738120, 26131265, 35805047, 608789, 23205673, 34727527, 32837192, 25333255, 5016589, 28357646, 22768314, 12170258, 24939467, 23107550, 1760963, 17537827, 29075485, 25736956, 5155395, 1267810, 17187564, 28148908, 29526511, 39809641, 34244563, 14002907, 30275780, 22495894, 36920145, 16773428, 6181531, 23363210, 4298622, 16970176, 22178977, 33304227, 23763365, 33958261, 24518054, 23849733, 11824950, 34503947, 35682804, 11262215, 39252705, 22783840, 32324296, 35501568, 10582958, 21957069, 19666462, 33402216, 24478643, 22315846, 7043846, 36598926, 28247118, 35206855, 25322869, 31425440, 24505946, 28561458, 31305792, 23621799, 16938179, 20766224, 26922185, 18638164, 20171736, 22947328, 39408722, 6473340, 13469906, 13998607, 1904978, 13285973, 27056529, 24527926, 38876827, 39306599, 5532572, 3177759, 7299547, 29081798, 14534422, 29654110, 30575552, 26407296, 14176773, 38144622, 36210686, 3010492, 1064520, 21544355, 21999518, 40028497, 18554023, 23875857, 24437539, 21304025, 6642829, 30238250, 39431318, 20600043, 29428573, 32770289, 19217691, 39551927, 22014500, 16349052, 23634894, 18052402, 2002460, 5179834, 26431250, 8125980, 23637144, 31416140, 21708113, 18786900, 6419890, 10495164, 4483526, 35443566, 24765006, 38964420, 27525377, 18091022, 19264372, 12139100, 20979485, 17687674, 37930651, 33312737, 33911270, 18819181, 38714680, 37666950, 8201185, 25113990, 29675103, 35178562, 37123648, 35040403, 10135342, 30271118, 20897462, 5349378, 2220351, 22186968, 1993826, 32379100, 31344097, 1191105, 11385976, 4730716, 5393074, 25857400, 33357172, 31275447, 13797082, 25816906, 15663051, 24665700, 36244124, 32353819, 28730106, 36703016, 35849820, 1641444, 23350910, 11275973, 18469715, 38605374, 38833866, 39983237, 13089163, 24887929, 2013736, 23982288, 12577446, 28369418, 21871213, 14874585, 25388439, 16164784, 37389855, 24392907, 34890689, 3780737, 27994725, 23811964, 17849978, 25817024, 24711650, 24420095, 24388297, 1691207, 6153652, 30457225, 7409602, 19080211, 4565935, 26456663, 37528183, 29557374, 2422055, 29672292, 18460701, 39156154, 26939698, 31606372, 14348909, 4648030, 28185537, 10367968, 22052799, 4494071, 1422674, 38437727, 3179940, 6989965, 33742930, 18435787, 18335222, 36954472, 34150295, 5942031, 39007892, 28007770, 29725167, 2209125, 5368345, 26021152, 6642762, 25961701, 39630773, 13786270, 2302433, 15296126, 25470878, 21478249, 16694788, 23202088, 1911652, 20012533, 38428560, 36474515, 34591729, 35256384, 2678991, 23256054, 33431989, 22947767, 20966770, 4389439, 39632143, 21131920, 2483761, 28167521, 19506316, 29941693, 27685621, 39644875, 37769388, 15199668, 39196091, 16759007, 27904922, 8655938, 785987, 37226711, 34399755, 469200, 31587462, 36825630, 16430280, 37319079, 25923934, 4363033, 39560237, 8687507, 30776953, 33619101, 19339855, 25247564, 2100198, 25453791, 26672240, 24167840, 37133972, 34223727, 7531310, 25151175, 28108246, 36981356, 1635638, 35915667, 35691459, 6765825, 36820134, 30904744, 14661714, 15490478, 5323749, 15870130, 6842049, 15192808, 28707605, 35376967, 10548507, 30620394, 10242424, 25168975, 31142456, 4341576, 38049932, 38131255, 29198909, 8129632, 22513466, 34880593, 34783050, 20327788, 31675803, 10733057, 18042125, 35277569, 4441539, 15014810, 32914722, 22892313, 22646267, 33403931, 37796097, 33763039, 29513235, 26973926, 30432440, 21207628, 25304641, 30597964, 39241385, 36172227, 24508847, 13465711, 2608017, 10149058, 3794428, 12020028, 31439810, 27858345, 5063658, 21639529, 27114125, 21183807, 39704623, 39371747, 32580482, 18742697, 18592785, 8563482, 4664646, 26388955, 12874313, 29566034, 22467700, 30189429, 27079152, 37875090, 16670614, 28278261, 21538900, 34348307, 31155976, 3827542, 35218853, 10446361, 22701748, 18287739, 39815638, 29176795, 5562954, 27606198, 8308599, 23847233, 30256027, 20209594, 15982080, 20531918, 6829794, 27703587, 4800650, 32717795, 18424495, 1235851, 4475012, 17238004, 18762711, 11238514, 1163113, 5163637, 33802435, 25068191, 14861726, 34364597, 34981468, 476731, 27137541, 20306981, 17007379, 13770781, 10421408, 22141991, 17875474, 37304927, 35246528, 10057182, 27068114, 11630374, 29260307, 15899701, 37914425, 23727792, 16551651, 10609976, 38906576, 20541493, 12348423, 6725080, 34861382, 8364948, 21087657, 18208346, 15160762, 1046150, 16546678, 36234465, 37629225, 31045821, 36479878, 17232747, 37218145, 32531938, 28580691, 7546751, 23709721, 20573224, 9610052, 23773215, 20984789, 32303091, 18647236, 8573944, 23142571, 15642004, 11485149, 32100116, 25473369, 34283570, 16391272, 38963751, 21369212, 9617927, 9773550, 30258643, 15244153, 26512873, 15122057, 19019338, 38724203, 37179144, 23871863, 16096060, 17312074, 30672614, 8545748, 30126589, 21512494, 11633523, 24857011, 31055399, 14819933, 19965528, 10689397, 39146292, 20960586, 37833593, 32946157, 33799748, 27089760, 28610946, 27906250, 30783574, 4775375, 7942185, 3817694, 25722594, 20912533, 33830799, 28429358, 23654896, 6214509, 20256846, 11190070, 27897307, 27353584, 31314540, 1962559, 27527601, 40012394, 35656933, 38842862, 36647243, 12213665, 5537268, 25214643, 17150348, 3457685, 33785402, 25268399, 18051604, 25334758, 34832263, 30689156, 17638733, 25784965, 33619304, 33219207, 39936494, 28898536, 34469891, 24076893, 33960662, 40139674, 25968752, 29067604, 35740129, 38251059, 7931025, 3472811, 38038256, 5867614, 3617886, 12814120, 27578434, 25599503, 12167316, 31934892, 15638468, 10379081, 8159414, 1850463, 5229253, 3939830, 2717704, 31143698, 23824266, 27341763, 32230193, 17840654, 10594587, 20109918, 5925613, 27438498, 11853995, 35311393, 29364227, 31253727, 22735428, 38666559, 34373551, 34700363, 20520434, 38570535, 4117898, 13618552, 32218076, 20332059, 12375923, 29255812, 2802782, 20730563, 26791266, 18929263, 19875789, 35849184, 3126969, 5918582, 15269788, 36079600, 39458189, 29782466, 3651648, 35771408, 30154364, 40096197, 17134290, 13693888, 36626174, 8188421, 29811006, 8310522, 31539694, 22261110, 30968970, 39955232, 23144313, 33973493, 31389457, 1118761, 12203149, 11519562, 17114217, 24839413, 31601529, 35155476, 38745067, 14916403, 34284778, 26452103, 21909699, 21193710, 30044271, 31021684, 34001052, 13619780, 28951648, 21061404, 23674337, 17266491, 5997126, 39933538, 17318765, 28475332, 4929009, 32584369, 3302307, 37445485, 37616885, 25638447, 13726890, 19854566, 29360114, 40141828, 33772947, 38315188, 3929903, 6587164, 3593902, 33173862, 5032139, 38601591, 23187453, 25473209, 16723744, 35758515, 3558795, 12017692, 17278478, 4803061, 25409169, 17826629, 17919556, 33644075, 29009035, 1207333, 4598460, 16471108, 30942339, 36366418, 25287818, 24169158, 31557851, 26883263, 23317880, 19905920, 26797910, 4083040, 16404879, 18358217, 39533387, 27280778, 3542723, 12763846, 27152577, 24515693, 36008732, 30518628, 37471472, 27112426, 27324280, 6461406, 24403075, 4731572, 6447605, 20308654, 17258095, 10457191, 20807777, 24450049, 38849246, 13343384, 37287364, 13873119, 1958540, 38064755, 10326293, 24466281, 18477408, 35462566, 31409997, 8021712, 3083583, 39644287, 24738133, 7961216, 23144547, 24603465, 6390310, 26749042, 16308455, 26311345, 4875426, 1203494, 33983925, 27305137, 34544491, 20025633, 30313134, 23345482, 36675029, 24134870, 26988652, 36094342, 32730399, 16525067, 10774650, 40094156, 34340809, 33516277, 38247979, 7730715, 3811674, 38293647, 16214070, 32689486, 28664535, 28184803, 33202644, 36748842, 39635266, 7604218, 21725345, 258296, 27147300, 37846721, 27400882, 26509791, 36463068, 10886833, 18197039, 7070693, 32104950, 26891401, 27664466, 36050291, 7814826, 12067086, 38096251, 34116626, 33570870, 30699999, 26909469, 37070837, 12285058, 12115073, 4746121, 11426006, 37104193, 11187753, 33010213, 22685142, 5726440, 35648055, 27371527, 21070332, 5050396, 29197775, 30370234, 4552854, 22205584, 24394712, 37067039, 23895291, 4698972, 9574810, 33248809, 22445183, 26666831, 29123114, 39071093, 3966490, 33572916, 17820980, 26896722, 18443803, 8274739, 25326747, 7987845, 8124243, 27448284, 36184135, 6955527, 40061330, 31323778, 4893768, 27206439, 39193716, 31828533, 19583461, 25807189, 18987701, 36389351, 21805857, 39855652, 3782484, 6474422, 33957188, 1056934, 29082743, 29957122, 31084063, 37011086, 3631941, 21414202, 10029905, 3590306, 25282642, 19587861, 13678933, 32043837, 34370463, 40001574, 30404401, 7938112, 31790722, 29159680, 14998153, 29390718, 27674865, 17228568, 3614237, 34174230, 40053515, 38711624, 29447503, 4474953, 26293770, 24160697, 12150973, 37619749, 23754014, 17214373, 23863409, 15865779, 11990081, 32162675, 36093221, 24741712, 17537771, 919927, 36591565, 36407754, 21264848, 13145675, 40040670, 26242174, 25413599, 172066, 33907663, 27135428, 31548207, 11800016, 39678012, 38172359, 1744203, 34466452, 35338234, 39590818, 14323450, 29008903, 39643343, 30728824, 33089792, 38163456, 28114213, 28608702, 23118387, 5687136, 10183280, 24386028, 25631218, 12595466, 2104235, 40066199, 33273099, 35898806, 31200611, 11803452, 5994420, 6467588, 4937762, 36977373, 7865457, 20803018, 18342754, 38470553, 4463490, 34101379, 11414410, 28412898, 32638205, 29291087, 25779379, 11112515, 29980209, 6866893, 8542158, 7853070, 11703407, 6509571, 20616702, 30810028, 39301791, 6018995, 19530147, 16159448, 32650483, 36525092, 31421606, 17233724, 31168331, 11829075, 39583157, 5616774, 13964113, 25956974, 15116483, 8205789, 33552875, 6000353, 36409021, 30394929, 21434772, 21812105, 25164243, 24194477, 34137968, 27748556, 38643071, 38538773, 25654090, 9818455, 28105364, 25472409, 8633762, 37652556, 3217556, 19274854, 21210921, 36190179, 39120263, 29060378, 33408408, 21946864, 21493290, 26651413, 37983971, 30358440, 14400035, 7320705, 15795416, 39849875, 38128666, 17595065, 38120853, 34767400, 31762873, 34412266, 4644770, 39492393, 39991320, 5100338, 34064314, 38247536, 11921345, 16893696, 1708915, 39505184, 13864937, 26518138, 12610109, 24220906, 7118544, 4269617, 32554317, 2645516, 25861304, 10035010, 19480988, 14891190, 32239819, 29654514, 25461492, 3981267, 12448638, 19097518, 19519157, 11971231, 28730591, 11593556, 31879265, 39051206, 35271327, 33243915, 22064757, 19279579, 39623443, 19266206, 34164257, 26120177, 10718010, 17298850, 9548295, 10890620, 20640070, 5124975, 11470078, 18579192, 18630091, 39087870, 36658105, 21616906, 38549312, 37487078, 1855184, 23099868, 33612906, 38267543, 36382607, 32719475, 28279519, 18943717, 1417825, 36327383, 38000670, 12089722, 15393778, 6354301, 39709671, 22866658, 33954690, 19592998, 11146221, 24502658, 2348443, 36884872, 34360117, 27577943, 4023448, 24003562, 23321347, 22354459, 1063228, 9580436, 5586803, 25759363, 30607292, 28076639, 39114969, 17038951, 36137792, 8770403, 39281017, 14986129, 31207760, 9865974, 16195624, 25699076, 29892918, 27383596, 35353783, 14755357, 5373906, 23747387, 4557716, 7982441, 36560949, 29991871, 10040143, 22800561, 33485294, 31780887, 28620114, 19024127, 34361563, 29144972, 25906799, 21972594, 21604087, 7106967, 15990152, 32254464, 37741672, 8577201, 38591935, 14993612, 7877678, 33640564, 27459822, 32125732, 3012481, 6183633, 38080723, 38341254, 9578204, 19635218, 35780445, 33962201, 36551600, 28004520, 24423645, 1365279, 6688550, 33334766, 17964198, 32954294, 22763316, 21438142, 18771758, 6312906, 29052152, 31468565, 29118590, 31878137, 26018692, 4576940, 39458820, 38687974, 39208967, 2397324, 13063274, 9851982, 36688248, 33508587, 22309914, 39101715, 33830807, 28676481, 25320476, 17533631, 28547005, 24048595, 38385026, 6356020, 35389997, 15596589, 23973119, 20099211, 27735999, 22556607, 10493611, 29455057, 22573383, 26891638, 17171260, 5867313, 19486423, 12132112, 34599408, 30389330, 28955739, 26135226, 8203883, 20788574, 13286075, 35276916, 37183410, 24639424, 18473656, 31742396, 24417138, 25694111, 18871513, 21574395, 37832983, 28335418, 1786543, 7281306, 27582146, 20081980, 34069734, 23712447, 28678769, 37303038, 7004887, 34141595, 1280379, 14442951, 39953873, 26708353, 30322208, 15054372, 40141193, 7686750, 15372361, 29152245, 22781903, 2326472, 20258986, 4874907, 14230802, 14820184, 6523183, 6297149, 13192994, 31981974, 168113, 37395334, 7693157, 39282352, 34564721, 30683581, 29090172, 33065100, 34762150, 27645627, 465065, 8065679, 31923807, 37661551, 23719816, 24758666, 36758202, 17651146, 12943587, 10086668, 36733737, 18198954, 33496331, 20055732, 16838939, 39530458, 36519750, 19561593, 25211195, 38142137, 24359940, 34968434, 21662943, 37735781, 3341120, 5592756, 35113104, 20029420, 36773503, 30675956, 18398929, 13659934, 647888, 16723654, 17050643, 1636923, 24750433, 13532182, 7158837, 20189918, 20596156, 35962581, 36780849, 32488329, 31236234, 37660682, 12100577, 23089010, 26337574, 19069446, 37268788, 38479063, 26432103, 33110597, 25634852, 30146571, 2038031, 30049015, 34730370, 11426524, 27802385, 4930414, 21926089, 14299785, 8918933, 39694928, 24692764, 37978208, 22682319, 5943846, 31399011, 13310936, 24409560, 30708658, 35467684, 11136962, 27705009, 18436960, 23256924, 36835504, 7077091, 31290609, 39319117, 25322469, 19069722, 3861027, 22097082, 35390843, 30455066, 22998992, 28612607, 28629558, 32485017, 1550180, 33583298, 9950805, 38203867, 14046024, 13899530, 25604178, 19505640, 11029103, 31160070, 22366536, 13264534, 35829962, 22355137, 32198224, 36258990, 39371393, 28106854, 26248608, 11014138, 15687528, 2051575, 35497073, 32808669, 3259899, 35601569, 9068504, 14615145, 3220280, 30367153, 6960090, 22376095, 27447086, 32295458, 9320331, 777778, 27644181, 15526660, 30753463, 24117616, 1268209, 4979950, 10968984, 39762490, 38079574, 29294079, 34965749, 34653061, 11040637, 11660627, 4332781, 4221070, 35405856, 5264414, 4103741, 38862786, 14783344, 34050266, 25974553, 13976625, 38126052, 16538079, 36084299, 22654702, 27572459, 31268494, 6217383, 32274943, 1568058, 8948763, 33707120, 14447224, 14543860, 16816987, 8086779, 39707471, 31055174, 25850263, 36320261, 31049365, 14185064, 18172680, 33353491, 25733372, 32044, 14019152, 30902188, 30240836, 4552388, 10564215, 16638489, 31870685, 22518244, 39410954, 32739192, 23437475, 17154126, 1972096, 274361, 38379685, 20922622, 28562968, 11820566, 1880619, 28434058, 32472485, 27505745, 29164563, 33726209, 14659855, 39597771, 27717893, 24792968, 32006581, 20679845, 5583401, 31009216, 35581675, 39161806, 27560368, 31165511, 27985598, 24514527, 34144009, 6510333, 29353833, 20339520, 34420075, 24044930, 15920131, 39685833, 38929433, 21710596, 35157190, 29249834, 22488245, 25204299, 16108560, 29534410, 31193900, 38684050, 14550363, 19357957, 35628797, 33373513, 22163906, 37794336, 33834874, 31658777, 23902754, 22708084, 28007294, 3728617, 40091704, 15419617, 26710168, 22518156, 22430271, 27970182, 13137894, 2316802, 9660282, 14898827, 11724725, 29974156, 28578619, 17586998, 11982692, 40008788, 35267361, 36369712, 6141026, 21059326, 38954210, 27809685, 34373107, 28433536, 31358568, 18273966, 14178517, 25695904, 39684554, 7366363, 1185084, 36975564, 32072438, 36597538, 34140604, 3884247, 20178047, 28815678, 30920188, 11205319, 28226675, 37369691, 29579871, 27434355, 39928879, 2107327, 20872946, 20941701, 39512081, 19375281, 39165779, 12169267, 12216821, 17080950, 39818386, 22575585, 38778587, 33545019, 39701507, 30296037, 6258781, 39100526, 38599174, 36774001, 34691591, 34214908, 24081664, 31014998, 38034414, 21324050, 33005973, 33356335, 38276360, 6251428, 33066074, 27558721, 23855409, 17836416, 29265042, 19901981, 35091030, 23372192, 28384491, 35362803, 17714144, 1829489, 34233614, 21208328, 11866322, 15162177, 23003928, 10668585, 14397469, 19344157, 14266533, 39966691, 20780228, 19371849, 22473390, 27643687, 32884474, 29615858, 30271827, 37356288, 31182812, 35768685, 23021576, 9509191, 3043868, 18637548, 39153790, 27493297, 11425187, 34838703, 346426, 17724281, 11629814, 15726294, 26726500, 18292798, 18970749, 14750964, 5648279, 20168198, 23718484, 25098731, 20851367, 15517745, 27163661, 33770821, 29429214, 34742821, 35981480, 39541722, 14926780, 30845526, 39055156, 27063803, 15265928, 10680192, 35256802, 29533107, 37188319, 2269508, 14417515, 24793351, 9371348, 13149791, 33522857, 15328632, 29715520, 30410462, 25637973, 33357633, 35468263, 11962730, 34103847, 21048268, 28054894, 23192441, 28321205, 33806259, 40075189, 10135656, 39256511, 37880262, 22112244, 19943319, 29290637, 24011428, 27775261, 38633484, 2840467, 30609549, 37639236, 36978487, 3595884, 38787889, 33855038, 39650974, 1928087, 13906127, 21490703, 11472897, 21575078, 24147143, 585006, 25669290, 20955293, 34586114, 21087482, 39331739, 27716167, 13655234, 34477574, 14552986, 30018847, 17490231, 28252853, 10987778, 4716017, 11779205, 11357873, 30534320, 38338137, 9422735, 36341237, 27363076, 25816749, 20827241, 23817844, 19777368, 36388921, 26389820, 29418117, 34801454, 23083599, 8834961, 35473950, 36573706, 21221494, 33410653, 25511870, 32499568, 22217408, 969211, 14872256, 30501569, 19718786, 30511211, 29409448, 12523999, 20686877, 20899894, 12429232, 21464612, 25591807, 23398811, 29688775, 27239783, 24111528, 32001521, 38755622, 38643178, 15826598, 28247614, 37232808, 21579058, 15767007, 24635394, 347812, 26230632, 37455488, 16213318, 30353381, 38031772, 11816988, 18052380, 32009115, 2531364, 3890525, 8007864, 10455438, 37364585, 13655625, 33459919, 9939248, 38678623, 17883238, 12401962, 33431563, 2149697, 28562753, 35524642, 12510458, 9324554, 39003458, 34995299, 38372256, 21860629, 17695200, 820778, 402217, 1727564, 12352637, 37887690, 35106890, 39232362, 39707524, 12553671, 32307965, 32622307, 13025618, 28055495, 8664588, 30223904, 37419608, 22034688, 27073115, 28651288, 36627775, 9089382, 28155717, 32287729, 21560403, 23101646, 7163640, 23402177, 16715927, 5969246, 24456526, 33502904, 12760257, 34201196, 28860105, 21853079, 1241813, 37161513, 24251204, 25749130, 8036807, 1107598, 39518350, 38592103, 37896785, 17176759, 12442739, 19990694, 19330415, 26387114, 39898182, 35914750, 29333020, 13905989, 24562590, 26671380, 7466158, 14715758, 34314380, 38473545, 23980863, 770904, 24808213, 35186417, 2247508, 27396127, 35567667, 37460639, 38855543, 3770067, 25686297, 26346875, 4076285, 20615540, 21100538, 30719117, 32177366, 8304375, 19915973, 39479907, 30478111, 35160261, 24037136, 27208317, 11453014, 23964886, 853184, 22553751, 8638966, 28508317, 4477819, 24907337, 34904177, 29666710, 30246188, 10407288, 32899769, 12231283, 35474259, 7493220, 32109206, 31419216, 31722157, 33479126, 22818646, 11359151, 13975014, 38932757, 32039468, 39728303, 28372435, 24938907, 35464041, 37765904, 12815928, 34643170, 2394778, 23240119, 18724863, 14781992, 33081934, 3038459, 38703468, 4946258, 15785882, 25707765, 39330692, 29499577, 13882601, 20329521, 4594522, 27710495, 6608611, 10069881, 9148837, 11823240, 32958776, 31205374, 290896, 2836969, 23295997, 30698033, 25353614, 30875743, 6720121, 882215, 21275395, 28910245, 27287294, 36532415, 26812204, 20017780, 18531970, 37112548, 12850550, 1054249, 8954270, 10551960, 20816586, 35051263, 39533035, 9095398, 21590591, 6006882, 26247293, 1970218, 19300625, 39055728, 36333018, 9734918, 25614718, 19591743, 33110228, 15157997, 39619133, 36291231, 1301887, 35548720, 24764549, 31048318, 9825682, 8052151, 24752786, 39191094, 27798344, 39201967, 11996963, 32584686, 27280975, 3751000, 31412936, 25493872, 32801101, 23188191, 38567969, 34181555, 34822002, 22673009, 4479781, 7066666, 3909639, 18603782, 1878096, 18392079, 23071996, 30303697, 39176832, 9950745, 33934916, 22198724, 37787435, 28472968, 21539464, 24613505, 36781414, 34558694, 4301824, 6277665, 34481689, 3773956, 6767509, 12633618, 32023228, 17831894, 7734939, 32429635, 11730152, 16965942, 37378565, 5808840, 14573323, 31466058, 3383197, 14005904, 7199256, 10846475, 12685432, 33231156, 8958607, 11278074, 28422520, 27989177, 32914803, 33835287, 36274353, 30384328, 24270700, 28703400, 30711036, 14975582, 31800038, 5935447, 9943928, 8613522, 18638817, 30928847, 1910953, 35823829, 30505082, 36248113, 27012353, 24484733, 31189049, 23263841, 28125839, 14170540, 5712221, 21145221, 23974693, 25349123, 21310400, 11810826, 35950231, 8967789, 39476334, 37054682, 18496941, 24491001, 38849878, 24097575, 18137954, 39018951, 35920996, 23695397, 8601470, 28159111, 39015704, 33718453, 34539216, 17188974, 10899082, 12555646, 21789862, 37328044, 39283760, 36851280, 1687530, 6559420, 29112847, 1398606, 23494604, 36726160, 12634674, 33092680, 13566335, 20722465, 33357685, 34843240, 26225472, 32665653, 17566083, 3562036, 31367394, 20895526, 29572071, 38212321, 29263408, 33117385, 37530019, 28928054, 6014834, 18434253, 31639229, 35804760, 33801903, 12098319, 39866056, 4353147, 34818799, 20034718, 20962073, 16824134, 11206008, 22207625, 23325583, 37975156, 22541339, 25349670, 14806976, 37263743, 23428717, 30961005, 29192339, 35025604, 26385692, 40117842, 39112555, 17535674, 31901217, 28397270, 5660762, 23256764, 27874674, 16549738, 30682400, 10199540, 10252012, 37683749, 15276382, 14181738, 5747188, 18492159, 12576196, 18145114, 16573752, 23062254, 27568106, 17903883, 32857400, 12309952, 19290514, 26147650, 35836106, 20335249, 33217845, 37240621, 20081343, 24371192, 21382601, 6285327, 36100984, 39750421, 33473982, 30348370, 33482985, 13397215, 7619328, 33466150, 29039509, 10191735, 36983549, 35153131, 16987392, 18198458, 17994057, 13135469, 18044651, 16329946, 12919328, 17257668, 6135367, 18149594, 20016135, 37423668, 19106763, 28313978, 22490872, 27572846, 27532007, 22080469, 35614924, 12140634, 7936378, 37850927, 34117602, 4093999, 21826580, 37592872, 28233164, 15372971, 35564784, 20600073, 36305573, 20123561, 34853531, 4133988, 33977077, 28232062, 21271754, 2213716, 38791857, 10866617, 13145013, 32561290, 8603469, 26416222, 33765886, 22288311, 29951843, 25794562, 25641395, 16040493, 25826212, 8459353, 27736718, 17704669, 8389109, 17062346, 25559075, 37189449, 36462937, 30603388, 33882385, 18723680, 29489107, 6248239, 31853530, 37159602, 13867242, 8212050, 12534967, 5904673, 6627611, 32386185, 5643358, 28794684, 37824936, 34391299, 25857655, 37300349, 33208805, 8138618, 16257233, 20936693, 32018693, 1393202, 17356617, 35101850, 24215789, 34244021, 34603203, 25163177, 39366349, 35087579, 4791116, 39200314, 1836861, 25607373, 2120332, 13570584, 12799772, 17403346, 17174646, 5250003, 23634878, 10545049, 26918115, 11659119, 34598661, 13769381, 11204002, 7415029, 34899411, 6021982, 16343022, 23587298, 7656175, 9528989, 5507264, 23449808, 13461134, 3176695, 23203754, 14392423, 10821597, 14321515, 28171574, 16627407, 28810995, 36217678, 34198065, 31746605, 15215295, 39998758, 19288919, 13797952, 34168598, 35392596, 23036136, 34713182, 38781248, 19815840, 40088442, 29469279, 26966645, 20870059, 14142534, 27225405, 16320010, 17529971, 37304844, 5718853, 20074883, 15781757, 30727894, 39078490, 1648214, 32956517, 19866085, 35318764, 32933591, 19273337, 32541223, 6678314, 8944225, 36429685, 9776908, 4192675, 19866980, 26701818, 13070424, 39582087, 10557105, 22842225, 39898662, 38891669, 2640066, 28331114, 23051581, 28991532, 36125622, 25730440, 20689741, 9369310, 34626775, 22665380, 31264138, 28149965, 5002402, 39617817, 16608203, 30711544, 31220695, 19738251, 30730250, 644081, 36800994, 18811283, 19475651, 9957223, 32534687, 26547473, 844142, 36675198, 16263219, 37940524, 13608887, 14909152, 9505247, 2377627, 9070075, 4907924, 34385066, 21815863, 32585854, 36342558, 29306337, 7067887, 35278168, 7034958, 12656739, 16585525, 37369225, 38861446, 26071668, 32724947, 32686919, 17767192, 28897220, 22825156, 11841506, 37165211, 8826146, 7595965, 13822975, 26298674, 31369771, 31344189, 33946592, 37715373, 36141949, 26380712, 21860138, 327807, 35079503, 7430502, 21483003, 21054636, 27718429, 38537464, 39888608, 14909200, 23733106, 8163667, 21962658, 30490848, 34751366, 21800753, 21931472, 27488497, 25735219, 39986317, 18544642, 30141704, 2488142, 16121901, 36422847, 19657370, 20207882, 15608697, 10677927, 38377583, 26545032, 7045874, 9976612, 34186395, 16948932, 10809879, 30864385, 28524907, 33081993, 22843550, 24133876, 19756154, 39435836, 27728707, 1596054, 12535157, 28632344, 39242871, 50568, 10981054, 25106649, 6714375, 33805785, 4340112, 30952681, 36256324, 31975874, 18796117, 10307173, 27239626, 25100572, 2151966, 32693362, 3937635, 38684753, 19378387, 28786385, 8381920, 26347866, 23366773, 30776662, 35210327, 5118697, 20933055, 24427128, 35519796, 6641719, 16018439, 18516210, 12264900, 19913553, 29133291, 26609517, 16081930, 32546143, 28235039, 38875530, 39763119, 34315810, 36703456, 23254361, 30562054, 9982249, 24769756, 35717660, 1697045, 13722228, 5895707, 31627895, 34815406, 35603669, 14433359, 35360651, 26464002, 15010512, 24364666, 25177500, 37080758, 14567744, 4634577, 20503389, 9148391, 18396172, 34949544, 37131820, 38281824, 26626238, 10635733, 2747094, 24623457, 875543, 2328493, 24102735, 4575030, 1931708, 26865192, 37682337, 2208551, 12643460, 31223301, 36006625, 17972691, 36142610, 11674444, 23815434, 38674668, 20308788, 35452652, 30265376, 17910043, 10829750, 27233850, 24884895, 19954414, 2339436, 34563454, 10970817, 9272710, 7778622, 11123957, 39187382, 11951549, 4241757, 27148065, 38115201, 9736067, 10969703, 19548619, 31779456, 28169829, 36765184, 21458387, 35581967, 37504561, 20886012, 9100896, 5216162, 5470210, 26137774, 15992225, 30677414, 3727118, 28788819, 31200020, 35709567, 9631050, 35738389, 10396121, 29829032, 20407614, 33625173, 12184022, 23885036, 29036344, 1933299, 3227180, 38473441, 948493, 32495377, 37705914, 9515083, 32516026, 34465544, 27387675, 11378136, 24100523, 3145246, 28518720, 35735009, 1642779, 38956640, 16800375, 21408834, 39767586, 23914733, 21440230, 31344931, 6515096, 8111706, 26058602, 17540399, 39643527, 12288376, 21960423, 35092024, 28178240, 39214247, 38790872, 34117970, 15660347, 22101078, 35288793, 16426121, 11773393, 13541656, 12771659, 539116, 38152602, 39078772, 30528268, 12470054, 3310419, 24618959, 39705370, 33847382, 10964982, 27981937, 12646730, 1609775, 32963469, 33081512, 11075076, 26208328, 10018571, 29613312, 32537125, 310732, 10787158, 37645426, 34318173, 24976077, 5296449, 31266521, 35694846, 34410963, 11177330, 27934918, 37946663, 7093744, 6669446, 14114506, 35118178, 29926167, 37010300, 20415051, 39494896, 20602170, 15020656, 16171503, 16823513, 35600886, 15203211, 24579806, 19124993, 13476982, 36374616, 35041265, 26061101, 38436041, 23934922, 4133600, 19743017, 33404293, 23664812, 31589130, 26270355, 3247625, 2373348, 29959590, 24915017, 864433, 27655548, 27560432, 984412, 4774128, 18541886, 18795081, 36699128, 8223136, 22244978, 21172855, 31714866, 28787233, 5014044, 2810996, 19101922, 20091637, 31651184, 1946281, 31373028, 20204260, 36383712, 25516401, 11688109, 29087641, 34155241, 19846967, 23563308, 30067299, 35411007, 13550011, 7905106, 39969151, 30685428, 26164829, 36163412, 14351045, 25134761, 32207257, 22061178, 5164221, 23725294, 36665560, 10134822, 29588178, 3268999, 21597469, 36687024, 37650068, 37480968, 10256148, 21046057, 36087752, 18933127, 36460747, 14169277, 11402756, 36683206, 12124726, 35447087, 1592331, 9581820, 39202520, 36123877, 34675040, 7909527, 30204129, 21648310, 35669918, 31461491, 32989163, 36926166, 38340083, 27258175, 18225257, 30089671, 37581343, 25650906, 21877327, 23898213, 35378965, 8670867, 33398445, 28780520, 36074804, 3699268, 25595594, 5062456, 37253534, 34679755, 37424416, 39940182, 4597401, 39549873, 11075856, 18991447, 25701088, 37547294, 35780230, 15416662, 11933548, 14780653, 14092685, 36068281, 16112166, 32967460, 33088295, 33609013, 27234301, 39526462, 37644138, 29784912, 33787745, 35326662, 20777715, 8353370, 16065233, 13743324, 10461705, 31724747, 38210458, 7068057, 24170801, 27747249, 788192, 39336870, 38288214, 10570647, 39777888, 12896739, 23254525, 30285042, 38962391, 24587800, 34979608, 24563416, 26139206, 31475560, 31911083, 13282644, 25237824, 7337304, 24546736, 35825903, 24586334, 32459852, 31223928, 10066573, 20075915, 2229427, 22468631, 32480624, 14817782, 35570473, 39174657, 21545889, 26730367, 12474344, 28960520, 34702482, 9546705, 35909778, 19070188, 39253195, 17237700, 21774458, 14596627, 16509160, 7819730, 8820113, 31866308, 12449172, 33786453, 13434347, 13873972, 38625337, 36286742, 19016210, 36590575, 31665029, 31507158, 37401741, 11556045, 36527956, 22308945, 860169, 23732156, 38125208, 24475425, 9983001, 39984508, 30445731, 21178660, 36876403, 34449420, 20399517, 10888844, 36860961, 17168351, 36479359, 17035414, 11294022, 40010040, 28010663, 30110999, 33779371, 30380522, 29336520, 38589830, 31393079, 22531136, 13444181, 16076894, 24927195, 27514589, 16072333, 18678561, 39081321, 23720110, 6453652, 5597378, 16146966, 4754485, 1036506, 22966323, 6148629, 34285985, 6568151, 22777091, 16972593, 30130398, 22497881, 28333905, 2840329, 30295246, 39804399, 28505669, 38512107, 39254128, 9039837, 31117972, 39489453, 11949571, 19439133, 35334863, 20453392, 2321771, 36139693, 19547714, 8488689, 24205671, 32385002, 21657225, 27527187, 24877976, 12993951, 7376932, 9863999, 26716140, 32333700, 22499218, 4963834, 16426977, 22060840, 29785949, 12395472, 6763489, 36322192, 35789487, 24916139, 14317974, 19755613, 17723648, 27788456, 13858069, 12447907, 31612544, 20314721, 25948687, 9381301, 20940486, 36674504, 19910290, 24375165, 9305011, 30264615, 9980408, 39841216, 35423218, 9295978, 23503135, 39196601, 5236013, 30606650, 21922697, 26638953, 39418167, 5532961, 29847752, 27975251, 37488731, 25459319, 31564925, 21182677, 38105369, 21079820, 5904552, 17933070, 8092254, 39608377, 33410144, 15800421, 20779243, 5882585, 2674400, 27029750, 23293068, 1210099, 27338822, 29629532, 24735434, 29241900, 29935983, 26806179, 9889963, 20508181, 36297179, 21173296, 5141586, 21817747, 38518800, 35836041, 24402217, 36763849, 11442882, 28812092, 37446551, 23051056, 22875474, 26002045, 4457955, 37521454, 29783849, 23560728, 31565640, 38740421, 11604556, 4500742, 28108631, 20967083, 32604222, 32798426, 27315230, 28028272, 33752955, 11054578, 38960008, 34011177, 23779714, 33846300, 37534469, 16157566, 31102686, 27412135, 24108167, 23574711, 12026010, 11106326, 22282834, 31004415, 13780732, 26083328, 25839946, 17290262, 20849254, 1504255, 39673383, 26847210, 16421574, 32316755, 38169985, 22533081, 25901052, 35323652, 29140353, 4000995, 26464739, 16188279, 17352689, 8723639, 34452557, 18364324, 22304576, 29335099, 34983886, 19175707, 4477316, 7366528, 24296730, 2739225, 19761330, 11166014, 6871457, 21468345, 13624946, 15124308, 29484204, 36016485, 25416092, 38038604, 23125137, 7573798, 20755358, 25790669, 37249879, 29762512, 16071985, 35069438, 15470167, 38252975, 2035733, 16418337, 27055892, 25658615, 24511223, 5972426, 11428763, 30529199, 34144400, 38159321, 18843624, 5082128, 20184866, 31865564, 1208698, 34369348, 25567842, 5431396, 8146792, 32989059, 31937208, 13937592, 13909304, 38725816, 24535152, 8432460, 21606885, 38398687, 37486286, 1222208, 36381526, 9990104, 33745457, 24224393, 1877940, 14772469, 36528628, 34606275, 36969244, 4274554, 35830067, 991611, 15810657, 37063912, 21505850, 28949815, 22603862, 17098462, 8949084, 3294855, 1970365, 38204719, 22181887, 38824339, 12847957, 3002728, 11188725, 7135583, 30118047, 35322354, 4848907, 35853898, 1824667, 2150644, 33847842, 24167168, 16020037, 2067036, 35193889, 39318363, 3242174, 39704752, 637160, 30532451, 11574025, 5413009, 28686999, 33096564, 12252540, 14416173, 31837892, 3582544, 28655381, 23311741, 23955280, 28237214, 1899110, 24226180, 5878689, 10434172, 4788388, 17551380, 1833275, 38058893, 23982057, 18444504, 29277713, 34345560, 29981938, 32466070, 32039423, 1930120, 22891915, 21730254, 27671546, 4700660, 5857516, 39760096, 18350477, 24657983, 24002657, 30082265, 1231943, 14984632, 23354662, 7199179, 7553809, 14650858, 1210711, 2708781, 33146245, 35097455, 9777787, 5173024, 13189141, 33182350, 34517808, 34425607, 31979392, 1905721, 30591965, 31390737, 39512467, 35776738, 24333959, 31040816, 2015740, 23133686, 8533461, 34080897, 6294123, 25332491, 21934773, 18304058, 12890131, 33195652, 34285461, 25009025, 19440271, 24165435, 12233038, 21558114, 38378224, 14490026, 25424928, 4209345, 4577514, 15806828, 16777900, 12416328, 16285730, 39756595, 22344408, 9914618, 27645340, 39941967, 25950491, 11923581, 31205110, 27057777, 24044340, 31939714, 24041748, 13665968, 21955718, 18603049, 32527347, 24761408, 20932796, 30507402, 17843630, 29355514, 4194243, 38885260, 39621594, 32991217, 17243574, 16328341, 677172, 16576941, 27887413, 20429610, 39569832, 17043163, 19472079, 22861160, 26561420, 1120139, 38805408, 33543149, 23040797, 35702015, 13186250, 27602153, 7474745, 36345664, 6673303, 31019164, 12112172, 22809854, 22198978, 3506112, 10891255, 27529452, 1747501, 34304263, 38938947, 38041879, 28940403, 26063111, 3755738, 16727755, 35914173, 35270111, 224796, 37382564, 31817350, 19151459, 23542821, 7749164, 35492617, 4897232, 37055906, 9238616, 3114326, 20183680, 3009760, 32518891, 10861511, 31364336, 11222675, 26969277, 38550864, 39698187, 3274492, 5886819, 16925468, 25871187, 36658616, 36045006, 27172960, 1206793, 26713606, 11394219, 34556383, 34648161, 31850849, 13950874, 39402920, 12139428, 5404458, 9255002, 35703873, 25622865, 19077743, 16982308, 31126147, 6740077, 17959855, 26080303, 24118616, 35129908, 7561815, 9824359, 25321702, 30823850, 2110238, 32199744, 35042835, 1872456, 31336912, 9973584, 21482352, 33928549, 7538707, 39168318, 16075798, 28323764, 2548791, 25876925, 33169283, 35377334, 23395617, 20108706, 7432422, 5419496, 3236890, 31122339, 6189029, 34981450, 34394114, 25350987, 21329723, 31474466, 14865617, 11144623, 34976940, 18208536, 9253116, 17320613, 16931757, 38487303, 28488351, 7410151, 19541978, 27287372, 33274874, 27213014, 30526410, 35961371, 21358284, 34612111, 22254974, 38446147, 28060015, 34742429, 2281881, 37315727, 39556939, 33533105, 33157120, 23106046, 31962638, 4573205, 4326989, 39672636, 1474135, 34257217, 22495767, 25891380, 39665105, 37049802, 27775433, 6053981, 1779464, 10690284, 21358556, 8203093, 39842386, 30779707, 3630822, 10253279, 15917116, 28297400, 36625780, 2148890, 32059391, 35898199, 20514455, 954478, 27835486, 3164699, 23807467, 5206254, 19668475, 22381938, 28500426, 11539152, 19710362, 30142177, 12774696, 34796349, 34164743, 20167145, 13965823, 11235325, 12599524, 8683009, 25726558, 39321342, 9857004, 34287867, 7550083, 37802041, 21081319, 36208424, 17062752, 29215376, 4779591, 35361542, 34557091, 18471530, 25118516, 19324154, 37848481, 24130248, 35197779, 7562406, 29192295, 22675761, 2283616, 7277938, 2141083, 27744382, 23297746, 1823588, 12451481, 36345397, 20753901, 32922500, 17642327, 15845971, 14612632, 20732660, 3109951, 12207013, 31819115, 20507089, 24337416, 15079176, 13403343, 36434549, 32812824, 12137870, 7399490, 37334396, 15736944, 32683134, 12676216, 14028363, 38586503, 26111868, 18351747, 8897983, 6484646, 21349687, 10912706, 27124123, 8763612, 18392405, 38414868, 12456117, 24287269, 27965672, 29840204, 5635320, 3181574, 14149210, 1362782, 27537779, 17688928, 34249298, 18281731, 34160768, 25599186, 14654691, 15847652, 27154448, 35623763, 19590543, 2278076, 31959134, 37600305, 6016430, 37449501, 14062951, 39879746, 29457615, 36331444, 27943552, 22185474, 34843668, 11785273, 27681881, 39948749, 32944375, 33743065, 23534170, 18156452, 25179386, 10063727, 32640029, 16272505, 23480516, 6915469, 21890405, 811167, 6306994, 6642707, 36476822, 35441341, 37758860, 13764912, 23974299, 7521704, 23439019, 36396930, 28084585, 33019919, 27402986, 23229108, 25835177, 10888484, 11720090, 36988563, 28614759, 8145962, 36813990, 29821515, 3142883, 39122541, 26188997, 13806609, 26701343, 35118745, 5150115, 39960259, 27196583, 30824723, 15686769, 31794983, 28560968, 25403995, 26057284, 33657061, 8770121, 31548408, 15996389, 22022313, 27565731, 38963941, 27572346, 12033861, 35895497, 16625646, 15913468, 28864307, 33193519, 21468280, 26617865, 39923384, 29199271, 15093216, 7028867, 33421360, 26154016, 15226226, 4421603, 11526767, 23185904, 34022177, 2156559, 803526, 35382014, 14962230, 6020928, 25614520, 2264959, 30024004, 32187319, 14845477, 35950275, 9317042, 9325292, 7835155, 19164482, 27719303, 30389598, 13236766, 24496843, 29768376, 21493118, 25290043, 17462861, 18013333, 28579224, 34007795, 30094967, 34751363, 38331941, 28745759, 25597531, 37298039, 24298119, 36081149, 21107144, 21244936, 28436832, 9665002, 34949528, 37137918, 26973849, 18414708, 17785451, 3431124, 21601920, 24439322, 7759218, 38276225, 20427718, 23744816, 35288530, 36292705, 8100336, 9723098, 6656034, 26006611, 27071148, 28894339, 1734814, 24511691, 38216165, 39434086, 25509712, 32410651, 6104768, 6127751, 2709893, 4558879, 23961626, 35524427, 25368885, 33624543, 39997139, 18854994, 34503928, 30400909, 4641503, 22956363, 36012651, 7260399, 38483943, 5210310, 19357763, 36757627, 12731293, 38308249, 21278915, 38586282, 21999004, 10810202, 15147415, 23562784, 33648801, 37670152, 17233684, 38420172, 26166693, 39723310, 27309318, 20895191, 38467184, 18391310, 34112922, 33869023, 29835350, 22861077, 12840964, 14928112, 38617166, 19361624, 31886022, 19143759, 13361144, 9529373, 18665714, 16861596, 38373400, 35196449, 14491284, 15063585, 21841038, 36692253, 25097090, 21495024, 38335811, 16232400, 20647205, 26369920, 33452953, 13098457, 12861863, 30045309, 21698041, 11807937, 5041678, 22214618, 22770640, 38909011, 27382346, 160009, 30821795, 14217466, 34863234, 3295343, 36456446, 31702386, 19997989, 31136860, 34382248, 3040214, 5102407, 22291919, 28266914, 8032047, 20918007, 33305688, 29855807, 18047990, 20779343, 1384246, 33009707, 25127443, 26818162, 39390859, 11486721, 34142637, 24958867, 38807296, 7527883, 13096539, 29642243, 17682705, 13781789, 37995384, 25703679, 20775529, 31682467, 9262036, 36764804, 33711407, 38938655, 38842053, 7877452, 2583829, 34584808, 38566704, 8038035, 1582708, 18260922, 3063911, 35104355, 22929579, 14026750, 22759733, 38035030, 9062345, 4123155, 28669040, 8178480, 1633109, 4138088, 24485164, 30993024, 30577642, 39711366, 38099162, 31131926, 13006151, 37055736, 14927015, 34678211, 8096247, 34792547, 19832384, 39309046, 35256126, 11612603, 8994241, 40051865, 35569520, 31744602, 39161736, 16848632, 16823233, 11137926, 40064010, 8484689, 5235479, 38618068, 25073861, 29948720, 1785637, 28358764, 33969478, 35767497, 20484838, 21872589, 35877198, 36501598, 38894573, 30088664, 38959099, 11039209, 19733782, 32247064, 32914286, 39700254, 16321896, 16203348, 25502790, 29736567, 6809180, 1634730, 18415276, 11171506, 25411402, 2738641, 29259543, 27588324, 12989576, 28369852, 6319893, 15432010, 12379647, 37072284, 8261462, 6194764, 14314456, 6726953, 38021138, 31795425, 36826909, 26959934, 21886977, 28569940, 11962749, 34112487, 32057205, 26442264, 10260828, 17688264, 22133224, 35043613, 25984514, 14849593, 36869072, 29889146, 34663752, 32483753, 33195043, 14226292, 3918735, 5810540, 37592484, 4358771, 6795708, 28362216, 35627471, 16217820, 36136872, 11976131, 33078188, 16514504, 30749684, 21293860, 23907606, 39637305, 19333029, 2534596, 25349690, 14044747, 27593274, 2262852, 30413611, 32568587, 38082128, 33689159, 20848649, 5495544, 31575924, 8060031, 10762900, 1631592, 24787673, 472392, 31918649, 17821028, 1114767, 4642596, 23557129, 39681337, 33223581, 34695693, 38619166, 14472805, 38557850, 39772798, 31601820, 19151795, 11924046, 27810205, 23916413, 22825136, 383073, 9120502, 12731534, 6016774, 29994755, 4933076, 1160598, 25475048, 10118737, 14790034, 35901451, 33950585, 1222508, 37425706, 37812419, 33410187, 38851352, 2136928, 27434593, 33013597, 30259452, 38004504, 4904230, 35424041, 12326504, 14558876, 17475295, 18211551, 35442072, 32467127, 28434741, 7011041, 38679577, 31517840, 36736354, 12640058, 22560396, 33903512, 31654301, 32576348, 21163709, 25028536, 26365050, 275109, 25495995, 15059610, 23686646, 17408947, 20150017, 39254698, 28865701, 22036059, 17261519, 23983030, 28168663, 12557542, 19952699, 10041351, 5349130, 1313989, 37991984, 34745609, 14276811, 17039668, 10451323, 4839194, 26246506, 21472360, 13768903, 40048470, 3037068, 24067791, 5798582, 37066146, 4074038, 4868375, 9875458, 11857375, 17171120, 16968655, 36993406, 39334071, 10156250, 18164983, 13111186, 15757843, 16412772, 25550071, 40003985, 26041902, 35699660, 24332241, 39708494, 22462672, 29479837, 21380645, 18873149, 27524494, 35565505, 9405399, 29144528, 8981065, 29196616, 9489720, 25335819, 6795204, 39465214, 17882233, 30539412, 9022157, 9265824, 15036487, 17698537, 16623901, 4766804, 1106849, 11439447, 16475982, 27995260, 3501588, 26435440, 10273744, 31775871, 6632955, 32903779, 14751042, 31510221, 34692370, 2216974, 1527710, 16365462, 36896716, 13243575, 16003661, 30252887, 29187878, 6575687, 23556752, 28303287, 31842149, 30961753, 32867875, 34495318, 34826265, 4016704, 25716043, 5015500, 35460816, 17486630, 2839145, 6740847, 9057880, 34307663, 32733794, 12185116, 6661592, 1497258, 10536139, 19117933, 39592670, 23521938, 6356705, 34106576, 21894246, 33837146, 39667191, 21438031, 1010349, 3623021, 4708802, 20053902, 11502243, 13639536, 31595418, 24862761, 5354061, 36782323, 7547449, 3385944, 22364936, 18894886, 24135178, 20387053, 33010905, 34925889, 16469229, 38936153, 22540271, 31582166, 12444258, 12943846, 39212384, 3680022, 22887117, 20638999, 31718742, 30670555, 1841903, 36806691, 35312334, 26995818, 13978266, 28683795, 27472074, 16993272, 37298350, 35067779, 11143844, 13663762, 4622827, 31812087, 24536111, 33317360, 4938491, 12669563, 7883196, 38498568, 32753006, 21934583, 27909536, 25779851, 4969530, 40100341, 3122962, 27448493, 20817436, 33966506, 33502166, 7683769, 12559947, 10393232, 39734334, 21180496, 34669524, 25297738, 29324996, 18859772, 24341427, 35609750, 18117113, 25763068, 12972021, 15815375, 24188532, 31185167, 25195238, 38667260, 17606424, 28858006, 25533463, 32121804, 37016266, 35659282, 39133537, 3854159, 16388887, 10920423, 18317133, 33707609, 35839098, 29808879, 17794564, 28830953, 19002678, 28624296, 29053309, 10085763, 12870479, 4771169, 24692430, 24426758, 18224199, 30684113, 3817199, 7253132, 37653929, 16514180, 14050356, 38536071, 6846316, 23693631, 25429601, 933500, 11334119, 25610555, 37754398, 18510858, 36206825, 29446401, 37196599, 35191209, 32831058, 3883497, 33616865, 4753633, 22702976, 15435760, 1175540, 2408514, 15867519, 11922851, 36763305, 29419396, 6781520, 11775441, 19589346, 17477580, 15648527, 31265143, 6861890, 17774547, 2514910, 20107117, 39411477, 4555034, 36074961, 36674556, 4579051, 33664957, 10390749, 16424228, 4056220, 38719567, 39993144, 6093656, 37948991, 4631096, 25384405, 32215165, 11452837, 14190045, 17548414, 17113600, 34250458, 11851267, 28403317, 18429417, 33838734, 22212226, 4825787, 27620284, 9502871, 26270042, 15842843, 4300286, 7321822, 18803112, 30786696, 39941604, 38691374, 1699126, 32709353, 4917243, 30379925, 6351826, 34948102, 38517142, 9058724, 11577993, 26411411, 16174027, 24391191, 26237248, 32421228, 36037286, 22107470, 12350124, 12061187, 9697424, 23572341, 30591982, 14431977, 14836913, 26800980, 2643612, 22889295, 14824241, 20457157, 6751607, 38702119, 25332433, 36713518, 21945052, 21036204, 15015253, 17308828, 4549829, 7912140, 24852866, 4542134, 6361873, 1895916, 36004976, 34460260, 16169406, 12760147, 34122394, 27731870, 10715617, 23830852, 37138464, 1372706, 36403632, 22621645, 38934414, 25713642, 5469783, 30618169, 15263396, 19249622, 37377591, 10388033, 28270626, 19940466, 28473923, 23093370, 8610967, 34484369, 21076983, 34899302, 22727441, 29930830, 13959808, 34142925, 32495397, 35343598, 6808985, 9739407, 19986410, 3327590, 19750286, 34704512, 22457996, 12119633, 37885944, 1718758, 22224623, 3071449, 38656947, 17244937, 30011378, 30365072, 25321119, 21578398, 20019671, 11506437, 8752773, 8208699, 4634146, 4124557, 29350295, 14497158, 18502785, 28074034, 3213881, 30797521, 22114788, 4266247, 6232187, 39861651, 24390488, 39273260, 13279930, 447117, 30575447, 25769915, 6162382, 9305287, 31249585, 2702554, 6218299, 30550453, 27188394, 20174136, 33196882, 14428565, 12039689, 38427865, 3975909, 37469284, 896166, 11763375, 17560471, 24215116, 32231639, 8782052, 3713352, 37234758, 12629034, 14588121, 20110853, 37996623, 31060944, 30615824, 3053923, 21652148, 15865049, 23867719, 17407889, 1046190, 33837322, 21238073, 32246413, 23297783, 20695781, 9838377, 9388827, 13616072, 7341722, 35065491, 4702044, 8647430, 33906329, 26483868, 24987488, 20548701, 15078795, 3701373, 26159672, 38923165, 39767240, 9724000, 15075315, 38297621, 28215865, 40015289, 32084156, 23075736, 31848766, 22291615, 31091000, 13529790, 8877344, 21993872, 10223891, 32974687, 22240261, 33403197, 12233210, 35246150, 27395826, 28004960, 30739675, 3025378, 17392015, 4162603, 16527780, 3777678, 16623132, 37213416, 24853525, 20821154, 11096617, 24127938, 22141050, 38307224, 24598940, 30100553, 38753183, 39339593, 32881674, 30079125, 31091865, 37404366, 36836029, 25615753, 38832122, 12804801, 15643300, 3032337, 7186065, 35845595, 1907610, 9449749, 33090581, 35023529, 36678067, 8968158, 21069950, 18897508, 22506064, 27649734, 15242671, 27169783, 25353126, 23169187, 24568747, 25153243, 4715544, 24783922, 39255696, 4357621, 3376565, 33809060, 17263780, 18631511, 36245322, 7130710, 32044184, 24478067, 16290172, 25306645, 3174694, 26770076, 6685768, 10854532, 26867269, 15024045, 33289915, 26454653, 24407574, 28650177, 4175611, 26428773, 15073007, 6695015, 18441247, 31771596, 3544449, 23756827, 26038169, 30844239, 11518252, 20874556, 27601864, 36871029, 19480667, 17116136, 9146890, 34240656, 36181531, 16126711, 29926123, 24462900, 7977673, 5535248, 30080499, 31371848, 39331091, 27790374, 35386758, 33971447, 30445591, 33405777, 24749129, 17580981, 32742205, 4669035, 30301595, 4437386, 5724928, 314234, 10564389, 33964278, 12164680, 5337939, 10299998, 31214934, 2110399, 37622073, 25233885, 30673419, 30675930, 35885238, 39804478, 34855619, 37271831, 35543200, 34583172, 28316765, 34465626, 35561347, 33961452, 37252477, 17901341, 24852846, 5170448, 39479069, 35294621, 38284661, 37702032, 1637229, 24838740, 12935980, 35484263, 17605704, 30473378, 12756703, 20772358, 10263495, 26600958, 37250127, 16158221, 11611729, 36556020, 36812221, 31331508, 39212965, 33068357, 31457732, 19646121, 35794022, 1408925, 32699585, 39984681, 3663713, 39416053, 11399549, 36878516, 22581056, 14093774, 1064152, 37264017, 21977014, 36899436, 39694670, 27462337, 4753159, 22783080, 6471354, 6498373, 32495197, 22611050, 26465647, 25335912, 1706989, 17077131, 11333261, 29783557, 38031692, 39216942, 17568769, 23518552, 38022573, 36498277, 17201114, 24156034, 17286022, 34257973, 25835069, 4456169, 3510374, 37882155, 26567216, 38393932, 20030576, 20311203, 4382875, 32485801, 23697130, 10727840, 39460892, 27425721, 31414002, 31193920, 24449565, 27563706, 24597668, 32931896, 35730518, 19886126, 2251696, 39863476, 32234040, 10710591, 20998057, 9149367, 28588205, 14351000, 27182774, 11099945, 31987828, 32367885, 32216494, 20255658, 10878764, 28873225, 17232529, 23093682, 26220841, 24917293, 17990319, 15178533, 4837591, 28974653, 35820328, 33682761, 37124483, 1143833, 10719456, 34954126, 18077827, 26444452, 13176728, 29143218, 21624859, 7128233, 24439055, 13421480, 35291167, 34576990, 38620608, 12604236, 31185911, 7373299, 19969294, 12312514, 38522355, 2052284, 11591560, 39778443, 30477272, 32662178, 25580790, 3277065, 32399480, 8170914, 36193114, 30603395, 31404136, 37123785, 24569687, 4851138, 30379731, 37689159, 2343286, 25007361, 28223235, 38057951, 33896156, 16696439, 38574562, 19162032, 22702125, 19922411, 26810400, 2766637, 4047900, 18040430, 4983873, 25767502, 33510474, 4662738, 28813346, 37888143, 26302528, 38611278, 8879292, 7804186, 12836517, 31581131, 38718454, 847904, 11923242, 35244407, 27507786, 38561207, 34215369, 5224896, 19239452, 32318664, 5365116, 8197317, 24289709, 25654988, 30879161, 25494788, 14075839, 26745700, 26063772, 37018485, 23770704, 29876200, 24734733, 29059323, 13210072, 9689515, 27302866, 18975231, 31613597, 27029216, 13598882, 16915678, 35880654, 36384962, 27330543, 7281234, 16988089, 14635114, 10845236, 36049997, 12983771, 39302175, 10874945, 26740020, 25294785, 31378025, 20704745, 14504774, 26191556, 31421997, 30443508, 10021749, 23852473, 17206742, 2070831, 4487319, 9976571, 29899921, 20272042, 29876874, 36687380, 10921568, 8909545, 33111182, 18383471, 34912918, 10405082, 30054927, 32983504, 10232994, 20095451, 34459254, 39725934, 15784098, 33778597, 12738983, 36052701, 10972627, 24310242, 11193109, 4207762, 38480007, 5745197, 7890810, 18487919, 5372010, 37089532, 36066697, 20903361, 30267460, 34341831, 19899954, 39537615, 24072139, 23706943, 27973167, 25137388, 16408079, 26530210, 36483330, 38815153, 34097096, 2104313, 28180425, 18425858, 764177, 25313190, 21015384, 31602536, 2447261, 21778454, 33023069, 24809138, 34185531, 26908572, 33392382, 39126810, 34201691, 32450315, 29175949, 9060587, 38527159, 10066380, 24689129, 8751445, 15086891, 18060753, 23197014, 34292116, 28275676, 5603298, 30713690, 28514686, 8974457, 29405835, 26673572, 33880318, 21980105, 681497, 11692111, 21460823, 4414767, 32426448, 37925449, 8989165, 7712762, 30295171, 11472387, 19776486, 32112825, 39326289, 34856078, 30789392, 25211317, 659832, 34831669, 22307781, 10060612, 16993821, 9035726, 4113749, 34000754, 19229316, 14678360, 27586259, 23730548, 33319560, 30620186, 34407329, 27975712, 33812913, 35325998, 36655197, 4482392, 18699258, 31702910, 12668348, 32883759, 27219871, 30333159, 26481965, 6532744, 37230759, 35158375, 11255136, 17869782, 37785719, 17071632, 28977630, 30753285, 39115743, 12150096, 29432341, 26334107, 37542233, 22869783, 21917974, 15366186, 4891506, 30103029, 1053344, 2064673, 35035571, 34294492, 5092336, 12960553, 26409621, 2239096, 32479813, 4165661, 26128061, 24631793, 28141576, 28307387, 21721064, 15607716, 37940106, 4633329, 9454212, 12258027, 26697565, 37947765, 30788634, 24942865, 22488724, 35675338, 12183268, 7873020, 36279027, 25797944, 26895623, 27690781, 9627143, 19459004, 39540522, 36984123, 10219903, 36040521, 25155955, 23803224, 35096454, 12169580, 32455737, 3046419, 24666809, 18476715, 28678239, 38714806, 4856527, 12048537, 20306175, 4557743, 35475094, 3783839, 25740599, 28923718, 4698955, 14823895, 33558896, 14516737, 19901410, 736413, 10253732, 12083081, 29366694, 39191238, 34076482, 24643074, 38593978, 39693892, 8582671, 40106858, 18110196, 36650944, 33956505, 16010406, 35042813, 35427946, 20219636, 38015891, 32383766, 29439183, 40061555, 16537566, 36608855, 35884639, 33199731, 11824137, 35625098, 25706639, 34183827, 32974575, 18555467, 29650187, 19520187, 15632132, 25331381, 38248233, 27473613, 27749350, 24118676, 21254135, 28447072, 542594, 29759239, 35575919, 19236568, 33518028, 6368794, 16468571, 11657682, 24249626, 39217637, 34766044, 6296584, 14123491, 15859262, 2689664, 3053442, 28862032, 38705590, 6091950, 14817181, 1498763, 2629070, 24160796, 21337142, 23927948, 34742734, 26913017, 16110968, 38921087, 21480934, 1157725, 38603924, 9012193, 32933550, 21234013, 11660476, 33538297, 5983100, 22303501, 38767383, 10049817, 37434479, 36635755, 35972888, 34589953, 32970170, 4816766, 15246317, 9917503, 20988372, 38004632, 25093306, 13765891, 6697090, 37061825, 29956042, 16477052, 25234691, 9647092, 37338018, 3354883, 28296285, 35082382, 6502803, 23927861, 27012204, 39951044, 7338865, 31145936, 21352750, 29548574, 12486130, 36543596, 33614967, 19670722, 37144282, 8381808, 12019661, 26358511, 39012390, 28486871, 14625679, 38566446, 21035700, 36096178, 4716301, 1586041, 30790303, 30768745, 28883356, 10422822, 37896634, 22774979, 24717266, 7657398, 33916379, 29826420, 32419610, 24981703, 21701475, 14015701, 10165046, 23917952, 9440010, 14611510, 13225890, 14761713, 7804305, 27510880, 22783687, 30603274, 39386513, 12360654, 30322490, 20421658, 31730609, 9681686, 30947927, 5889751, 26999827, 30479125, 38618867, 33139511, 27946571, 12543163, 23716948, 31353281, 28134164, 17839380, 17857444, 16586650, 36634525, 38768549, 29633004, 34089425, 9663762, 18217385, 24470446, 33322386, 18252421, 19168265, 28446667, 35804609, 21755736, 24640191, 7818002, 14472754, 15079603, 29691804, 31466705, 13184973, 23351796, 26475426, 16258065, 36897310, 35942217, 2104767, 32998591, 38555703, 27864786, 34278425, 12191625, 26696454, 28184455, 27035044, 24067012, 28792142, 19299344, 23074462, 4237805, 27308951, 25108442, 27196211, 13487966, 20315750, 26664977, 19764157, 35051052, 7196148, 37454726, 27136048, 22454987, 19461543, 7390456, 26190102, 15990772, 22043840, 34775932, 23665738, 6321205, 36787524, 32551992, 31931467, 16806688, 17504435, 11848588, 23903476, 38385591, 11873084, 9078035, 5785504, 33998177, 24201473, 33140052, 14078755, 2204696, 6006666, 7524213, 26801553, 8611651, 837828, 38898802, 36291727, 14526355, 2746255, 33215252, 18709708, 12022208, 24784161, 23510415, 36825463, 5208195, 10022226, 3386654, 4258605, 29482944, 11012945, 30044904, 22860742, 22122065, 26898726, 34757951, 31954139, 36034159, 23789623, 16002712, 27180353, 7732990, 16818522, 32341077, 34581886, 23296788, 21925975, 31261762, 22325659, 13093951, 24952559, 39152165, 15614643, 28315945, 3211976, 31478200, 38119532, 29985716, 30923705, 10212929, 23367037, 33454181, 8480090, 27996861, 34083023, 31368770, 21936993, 36672033, 39667031, 37729563, 37012345, 19617973, 19674736, 842831, 27872406, 39602579, 32370510, 30682264, 39833747, 32631698, 23825298, 25731727, 39902671, 26978584, 40053752, 24605633, 21490664, 17818376, 2959503, 37255886, 29572083, 35808157, 28100008, 35380256, 27645184, 2981450, 4555602, 21112302, 23429712, 14301390, 1365722, 12705577, 25597898, 6157101, 13798000, 15982648, 37958130, 18246123, 2843092, 4303324, 12204330, 38913164, 38993259, 33804241, 6608748, 17384353, 35693644, 25735516, 21316923, 1587282, 7090549, 31768866, 2763623, 25853779, 38380166, 31559887, 29161028, 32217883, 22759993, 29965211, 16924180, 14482730, 24967934, 25306527, 18895290, 15778422, 38259638, 8202279, 12701173, 18749361, 30407856, 30934541, 30079630, 12870110, 17429159, 36856610, 5061925, 8600843, 18300322, 39190599, 14688714, 36342722, 2256892, 15139890, 20291359, 31152551, 39003883, 19119358, 27674097, 30148831, 15826948, 30190041, 32176164, 12848669, 12299054, 16316384, 26608945, 37003418, 28629758, 30167409, 12610337, 38015942, 24022558, 19781398, 3001122, 24450330, 25908059, 14142144, 29739244, 3664708, 20866074, 31240840, 25008737, 2675439, 29198328, 5360271, 36897802, 7592239, 27887393, 33065039, 9656390, 20818588, 29213476, 30931128, 6484511, 37086905, 32703652, 36271784, 21600427, 18264851, 35956946, 37847799, 17476821, 1142378, 9100409, 17364120, 10627943, 36147484, 23849743, 36544004, 23285808, 26222311, 4362716, 31954846, 32219327, 27928118, 22280220, 22429365, 34845303, 10701834, 36299728, 27439856, 1453909, 13510957, 18208747, 8639084, 8742947, 37342571, 13160217, 4384275, 29254306, 32929146, 15622665, 29771070, 39600784, 39502452, 39727624, 6443037, 21732642, 5588895, 4703242, 30169457, 39758854, 37651068, 19183720, 4246363, 20492683, 11493963, 22807420, 38386971, 33124464, 37276093, 15007341, 12822847, 15314357, 37466616, 33617522, 24025317, 36014546, 13634391, 16725340, 4778607, 23849872, 35817126, 19277543, 39639604, 4500462, 37264326, 27322590, 20054150, 2322739, 35228217, 12147861, 4291516, 4376602, 20035462, 35494580, 33247200, 36282016, 38571076, 19179649, 34894559, 11900994, 27501513, 6584235, 1796198, 6862250, 35772699, 3757266, 35554461, 31173325, 27757279, 13680064, 20228584, 34301333, 35430899, 28366065, 21669420, 11382801, 35932889, 33475576, 28305567, 195101, 29543828, 25514869, 13538607, 33417253, 14083882, 20937375, 14506138, 25878113, 30263087, 4363899, 15976732, 38947480, 14428259, 40071295, 13522770, 23227026, 38174968, 31586733, 1875956, 27685070, 19030800, 32036166, 24108208, 11069704, 18070331, 26935056, 11142044, 5986472, 25019214, 32514892, 31172209, 35346334, 36724105, 18598361, 28694823, 30415419, 34381436, 24710086, 5584426, 8069859, 31644038, 26347720, 13795976, 1998362, 4170992, 31004171, 28952404, 31475283, 12281803, 39778657, 12449543, 21719065, 10069167, 30439010, 5150993, 33414210, 12472789, 24686658, 36901466, 35863540, 28200372, 16527308, 9197582, 36115723, 12572038, 35018726, 34163639, 16211089, 7859775, 24149964, 36173979, 34109547, 9168187, 30005454, 21562188, 16423454, 35939797, 24063057, 38770066, 10575779, 28360030, 13296185, 13202373, 19876300, 18457527, 24556154, 32097104, 34306456, 28063806, 15389126, 21916835, 13758774, 9144700, 21310993, 24211873, 3565166, 18802956, 5899868, 17583138, 34849328, 3512085, 19366373, 240659, 36143464, 17110734, 16599979, 20250155, 31683020, 31255484, 25242644, 37109865, 29045563, 8282852, 39690267, 16100651, 38726602, 34864591, 16905340, 24952605, 524147, 5455098, 39142436, 19079217, 29098042, 17752991, 29859128, 10880467, 37150723, 27368545, 26722141, 20718443, 22635598, 28113000, 23283638, 11774014, 32315278, 25214355, 37625678, 13643494, 28249491, 34183639, 13321398, 37793296, 39745965, 27504690, 9421345, 39229286, 36365326, 12681653, 35040278, 32339402, 28007634, 17052048, 22401722, 34599763, 14156525, 21588929, 890924, 35589700, 20784693, 36664439, 21401501, 17010636, 28348253, 9790936, 14399435, 26766141, 29636574, 19446580, 11543375, 22018013, 2038621, 27560613, 27946316, 38270161, 26615692, 38536692, 7620307, 38179597, 14095598, 39354430, 18123679, 19460066, 23989437, 2156585, 3187961, 35878537, 36729507, 19664108, 2837802, 17857628, 20466667, 6235146, 9074417, 32500637, 31087173, 12832891, 38422790, 19788248, 39449331, 13621855, 13801515, 22338198, 2677713, 34289460, 27402742, 11740647, 30429157, 33237274, 32454394, 27347293, 34708046, 39485505, 23902079, 31866431, 39569286, 36711480, 26227352, 36642973, 13476791, 36067381, 20656413, 27943114, 27056029, 24075564, 27401779, 30739981, 6929517, 5756205, 30840268, 12339583, 36759916, 6305673, 27212881, 38230354, 1383126, 35006544, 25783881, 35177925, 26104169, 25721591, 34524894, 29555704, 2755027, 29110247, 29942703, 12556268, 32099296, 35278353, 34634367, 37503697, 40136285, 36921774, 33906336, 35674778, 22872888, 2244749, 21001140, 35376268, 27702737, 20021514, 39682579, 29573009, 23221909, 33049472, 4499129, 1381346, 32284194, 37512100, 15188445, 23784415, 24706492, 18947158, 27496425, 16299376, 16547846, 39267386, 17306702, 33533088, 7218970, 23725029, 12521552, 4151788, 13637724, 33708908, 9518947, 8267085, 17691385, 36332295, 24987446, 35545184, 33347738, 29256247, 4906246, 3775755, 32190731, 7809286, 29164494, 19956475, 23596131, 18366205, 30439431, 30531308, 36033987, 17393831, 32821429, 36358204, 34637294, 34889585, 21891367, 15251902, 18695548, 33155709, 7617009, 21515605, 32558097, 37086509, 34939305, 39231917, 37812348, 10276868, 29703947, 34691300, 4256145, 30300876, 22419210, 39073308, 21072642, 12850567, 3917432, 20555023, 38315752, 38688198, 2878935, 21265616, 36886828, 31036969, 11802221, 6215042, 2164069, 34041507, 31691785, 11877934, 28554609, 29372066, 6886699, 30206794, 20768350, 35625430, 40100446, 1874642, 11868102, 13404814, 18471198, 14126730, 18430503, 20926653, 38558421, 4283433, 21191007, 18703328, 34406886, 36804552, 23743320, 3159747, 2400548, 12838015, 30879961, 23729206, 24516002, 35136437, 35516720, 26505270, 26133439, 22387451, 34537922, 40024322, 34740821, 5938125, 10646353, 32164536, 28642323, 33034975, 27535136, 38445372, 25085716, 37743784, 11484246, 25038964, 20403072, 36181044, 11477236, 12179022, 12246054, 16107447, 22787902, 2444656, 17730286, 33088768, 33752456, 16882751, 18742870, 35508354, 39369364, 7530207, 8327300, 39436853, 34946752, 34443417, 20947783, 36663459, 33392520, 33701146, 27150921, 40073348, 22645729, 12554991, 11770925, 11878454, 5875833, 15669397, 34275324, 3220957, 39688876, 33420036, 20710327, 22587736, 15707896, 31615014, 27098198, 37608938, 18829392, 28694144, 26386859, 23310198, 36960644, 5749563, 29753998, 36517205, 19727723, 32516443, 38005717, 21762222, 14015414, 9780119, 2199150, 14393281, 20712174, 36328770, 14332451, 7610457, 31585338, 22955488, 38290644, 36281738, 30113979, 35612759, 9446480, 30156586, 22182754, 37729042, 25158938, 7460695, 39461884, 36424032, 26590316, 21551718, 27275606, 33904532, 37090683, 31171909, 37055995, 37352793, 7381089, 35576615, 5695455, 33577252, 1209947, 27011086, 10143519, 7299976, 37945688, 27049642, 31222922, 29021545, 33601559, 13347287, 7894526, 34090521, 21093591, 26609824, 19415418, 15511145, 4523894, 20143810, 26962073, 28099106, 22649596, 8697146, 27460623, 29812987, 24319477, 32341937, 24986690, 20591877, 17507553, 8029835, 38428238, 31332282, 14111539, 18836636, 26376294, 34582454, 18634231, 13930388, 29322442, 35732809, 14346177, 25146489, 15292277, 14076261, 3103638, 24500114, 9294544, 37738030, 33053978, 19345937, 27935807, 39752716, 2115290, 16480489, 32366718, 8470077, 37147161, 36964603, 984460, 38926708, 11713588, 14215976, 35710173, 14144526, 30103974, 17637170, 22926932, 21063957, 20171527, 3274597, 30587418, 26949273, 18501431, 27149408, 3376479, 26559660, 38616568, 31951895, 6233762, 39727876, 18133122, 14603458, 7342368, 3889054, 38385567, 9207430, 37955984, 35551206, 10353184, 1450295, 8867389, 36253613, 3443157, 39018431, 19043853, 2603937, 25596725, 38169837, 30575543, 885103, 22609367, 22153863, 21897057, 19164890, 12697431, 21393183, 14292414, 29302432, 29504839, 37117559, 32935553, 29392995, 38145949, 22100457, 25754966, 21133863, 12518950, 25960953, 15760087, 28445912, 32304893, 34272186, 28110965, 29440083, 36285140, 3915024, 16309899, 37719347, 31736051, 6865896, 31211056, 32621962, 38297670, 10601520, 38185580, 30415562, 19729438, 17110113, 37138957, 33790147, 19407901, 12590415, 26976648, 947436, 39726850, 24724483, 9122106, 34965160, 39276874, 27215460, 9875993, 13209243, 26126222, 37938159, 21869564, 11069664, 31900156, 10550921, 9787621, 2080332, 24204338, 31929963, 30652387, 13084448, 1683362, 36641926, 38067430, 18415130, 12354189, 6133393, 28236148, 26727616, 33970752, 6876120, 31790699, 29349262, 21151544, 17857159, 26488492, 8912958, 8190620, 31001448, 12349004, 29285518, 19602963, 33022599, 30773492, 5166887, 23114327, 28350048, 11204492, 23714864, 24904574, 26900760, 39559635, 3676476, 33469213, 1025216, 15404199, 27218140, 15908176, 24136718, 2342031, 35317788, 36349646, 40064622, 31854394, 24919294, 31992728, 22713876, 25593152, 26989338, 30595392, 36708873, 16941750, 34601782, 25130020, 23073002, 32098797, 9501623, 3277307, 36377699, 25046954, 1789191, 32791147, 10199615, 15547335, 24005706, 2315187, 17421981, 32301631, 33334907, 22590108, 27846322, 6547863, 28453810, 26781954, 28539340, 30780035, 6577159, 32899301, 19471344, 28280557, 24594092, 13756537, 6454564, 16552989, 28954508, 2435125, 36585015, 24404362, 38611528, 34128527, 26143790, 3165037, 17910399, 29686126, 39331369, 36357004, 18486837, 15877950, 24330123, 27985596, 2922230, 37583355, 22552306, 13544504, 34510697, 9488874, 36315168, 2417572, 32725793, 36767760, 18059257, 16675490, 27782479, 25336383, 38836841, 12444689, 37682058, 39567072, 20847573, 4598982, 29633866, 2321172, 797773, 20170136, 18099681, 5930585, 6256402, 26072142, 34222673, 37034312, 12056977, 27613814, 32703316, 13444534, 8132893, 23257175, 16054395, 39149941, 11019229, 7227123, 4620474, 13321616, 3823280, 31928143, 8927906, 14745601, 24117453, 25008245, 25604133, 16866689, 7967476, 24413962, 19119857, 9300922, 33037941, 29229735, 4675957, 20081578, 16865986, 36889971, 5674822, 34880011, 19694360, 6184175, 25784027, 4606756, 4787731, 19008513, 17255388, 27034153, 32933230, 27705231, 33567265, 18856177, 15410262, 18511578, 36817289, 38070676, 9692908, 30926419, 34739370, 20010332, 4514360, 21230459, 30738390, 18775701, 28071862, 37087994, 20222457, 8216815, 4620830, 19923877, 10352532, 19422229, 23353113, 22966679, 11285630, 6617809, 38738151, 27762307, 6195424, 1214143, 6980547, 39063671, 35361176, 7507504, 29699857, 16389754, 21834973, 1361357, 31471861, 35531105, 31387762, 38531445, 23521491, 10155168, 28264024, 21456729, 4699047, 36877581, 35103482, 24602117, 21084280, 19698115, 35030386, 20366002, 5108625, 26258905, 8636897, 38279846, 35070361, 14554366, 16896488, 18155186, 37289293, 4881783, 25301691, 39461793, 5072190, 7485825, 30653798, 29262606, 770427, 31092019, 7927671, 22783387, 38348373, 31007782, 33471899, 6593282, 31662125, 37063476, 24723466, 15797432, 9091341, 39152669, 6986761, 37447338, 20303252, 4877335, 14969969, 10005910, 33027011, 699570, 10935265, 6791911, 32389142, 35184004, 31906322, 31585726, 36325534, 16521234, 38162293, 3096040, 23521133, 26287406, 26944257, 21117426, 26438169, 23639113, 30120196, 31197447, 23016621, 1725175, 37943339, 873419, 16256155, 3424098, 1145334, 14865204, 26003445, 8902714, 28741994, 10250599, 33970457, 30069189, 17817034, 16525436, 34684950, 2353732, 6299903, 28778586, 27771493, 36451956, 29310681, 15277428, 38512458, 26132021, 8069705, 29542347, 39639151, 22230462, 39247352, 36411943, 15411385, 21881749, 26791130, 34364226, 4283933, 4143113, 23885773, 14453129, 20450865, 8957961, 38119874, 39034499, 33300941, 22588058, 10157720, 18433341, 21053293, 3160798, 1516795, 26716001, 10203839, 3684011, 5356413, 31358209, 2076678, 31853371, 35062903, 4367520, 33624519, 14931865, 20329201, 16136758, 30438729, 38836111, 26268034, 27134080, 34428351, 23123044, 15274490, 26858252, 26235782, 35861275, 4788764, 35083133, 5537750, 11834174, 28012954, 10807601, 13797969, 12008569, 38481881, 16631199, 35179826, 609944, 34977739, 39625054, 31536405, 32020627, 14935576, 38882596, 28200041, 13585850, 3447553, 33939798, 37566267, 36307948, 32454421, 26584088, 26866684, 18953031, 2284495, 37515302, 21343776, 35576347, 14744365, 35631378, 27951678, 24562484, 18659912, 27920089, 32328374, 24788117, 31480418, 2795793, 36854533, 23722486, 10073836, 36515436, 37382719, 20065966, 28468428, 23310879, 29743830, 9574970, 3739266, 24971729, 8321078, 34280559, 2893924, 31232413, 29852397, 34213904, 15114828, 30299400, 11416219, 38233245, 21437487, 24066255, 22512608, 38930157, 5293544, 25708572, 16464075, 7526088, 17015297, 24871914, 33108055, 25482025, 37501055, 23492542, 6597259, 26548603, 22017461, 24020245, 20546447, 18944856, 6273695, 18420300, 33681158, 21261176, 27584508, 23804366, 15656675, 29888563, 38705451, 13410197, 20346092, 27124966, 35068807, 22896509, 13990828, 34822261, 27702217, 29586306, 31595642, 16376910, 29731013, 10042853, 11841594, 35181616, 11426038, 15398577, 8466768, 9381953, 19897225, 36667119, 18977637, 18452635, 37807094, 4693812, 39257379, 26154550, 6839116, 2707308, 24493096, 17578325, 28705745, 21094335, 34029671, 18083728, 28859289, 19540186, 36922535, 22213762, 16172451, 26964564, 21555338, 2175377, 9147260, 31334660, 21697496, 12594002, 35381868, 36142646, 28501006, 35633722, 20233319, 26651273, 12044598, 5934444, 31936243, 32069708, 30954398, 37231769, 28329757, 38868461, 35022244, 2415865, 12888144, 39619900, 32533478, 37818962, 24279636, 25975086, 22554969, 29305290, 33929213, 20906416, 36294062, 38415256, 4901483, 17423755, 20891370, 4506608, 14244067, 3172854, 34033108, 2674479, 14608925, 15853715, 20243735, 20264457, 39488991, 9544030, 7304248, 14604195, 26281010, 21666470, 36069351, 2100297, 72945, 20044428, 29267284, 16457429, 6383900, 17035091, 29847105, 39278499, 15689641, 38029204, 28579965, 25461756, 15589193, 9034624, 38531966, 29082693, 18594248, 23164270, 37425469, 2986659, 6190108, 3692853, 14115318, 27299825, 24485615, 35697252, 401025, 34726307, 33585554, 6785666, 15341834, 38962649, 16327048, 26554893, 7815756, 39006377, 30250790, 19501591, 24486526, 22229412, 13481307, 37798021, 23366110, 10309295, 32789103, 6866177, 5394331, 11282346, 36076073, 23544455, 27749815, 2683946, 11894387, 21968004, 1342679, 21740648, 32567045, 32461695, 22293876, 14273510, 25498012, 31092841, 31115567, 34338126, 24328706, 36335625, 17985361, 33506383, 32456999, 30004851, 19605871, 27899922, 4116402, 4503029, 33168099, 38952015, 2616610, 4628529, 5369609, 7728484, 20141512, 20146741, 27211396, 32063881, 16272819, 19445518, 33311403, 33775455, 3005080, 38111529, 8365255, 35086705, 12237473, 30153813, 17490615, 24724389, 39061405, 3690715, 39077959, 22997831, 10716159, 14763701, 31557800, 24370160, 34449382, 27849484, 33666487, 21325288, 33006166, 10812613, 27705818, 18730562, 5054169, 15055451, 22038762, 14944953, 25210592, 29555910, 35181133, 24479574, 20119209, 30672219, 13015828, 38455009, 37892707, 22899434, 22694966, 14085865, 29349137, 19336076, 22053179, 20960458, 32636290, 12397918, 27008510, 4694573, 11131447, 4368419, 38664410, 3995248, 34040069, 7654828, 36790711, 4576824, 28038453, 2868418, 34750151, 238081, 35748131, 19730153, 39537347, 14716530, 35781594, 39387983, 25555984, 29009175, 6582955, 12140732, 34133663, 38997237, 11916783, 30547167, 7204514, 21407032, 18822193, 17790564, 21024449, 15799905, 27235768, 2181186, 16834673, 35123871, 18807399, 32279111, 29469816, 7749726, 12217763, 20992564, 32095653, 34753025, 35181118, 19378949, 19032772, 30101678, 30106918, 26943894, 29048701, 20148446, 32410698, 38032203, 10066135, 25590991, 17977353, 7907424, 21479839, 36797981, 37814926, 2821702, 34964894, 36658202, 34478195, 34024161, 34560230, 13045625, 3406667, 35089050, 21059921, 11588924, 22738681, 2740837, 15965339, 34842726, 27715528, 6755870, 33596180, 21246453, 5688216, 18759561, 39706916, 30257709, 14562564, 34568325, 30944438, 30738270, 27641703, 26549606, 31112835, 28678992, 16622423, 28438993, 25791176, 37662450, 34899520, 24962201, 18449806, 13390315, 24126388, 7246865, 25954973, 25949015, 21512647, 2236886, 7612259, 17634459, 27131579, 19753160, 32859140, 5257128, 9307381, 13080544, 18902580, 1596552, 22125773, 17311154, 16849348, 24575742, 34971264, 34294182, 32577710, 16186612, 38919394, 17243138, 25195745, 33267685, 10091732, 30644411, 21039136, 23519254, 1553165, 24620867, 5299241, 17227554, 37281235, 10777486, 13391674, 4022551, 37735467, 39658476, 31746633, 23939670, 35790193, 38291894, 33273548, 37341037, 39208218, 1731346, 35077807, 32984744, 36895063, 28211348, 39620143, 14554873, 5534712, 33110271, 26916242, 19068402, 24564681, 11912042, 30203242, 20861882, 3567388, 29172342, 34369464, 35264085, 12522966, 26802182, 39190142, 30585074, 30624104, 37183360, 27323770, 26007415, 38633980, 1485103, 30089460, 16824004, 6364373, 29888261, 31719359, 14323208, 13186421, 12503298, 9827023, 13378318, 31808717, 24243248, 21333332, 39998392, 32549739, 29851015, 6361879, 26906630, 4800514, 9908604, 30721347, 33694614, 30944652, 26869744, 6407900, 18884089, 25140133, 29300853, 24277142, 25792396, 28629390, 33302186, 26294670, 14521301, 23695694, 25143621, 17380669, 26767840, 18320225, 27792465, 22246645, 31467489, 12230459, 28923324, 28520757, 19275623, 33425139, 39678649, 21812980, 12381756, 25459386, 10519299, 28807713, 24615481, 39736797, 20740221, 5433958, 38446656, 14885023, 22581598, 31725002, 33575574, 37669620, 14135274, 28916360, 2109281, 39148845, 4663694, 33407962, 30802431, 14958249, 28831539, 11391424, 27626821, 5568985, 24573175, 3176594, 28984560, 8688762, 30165674, 21508625, 18188471, 4485126, 37751775, 9107484, 31081137, 16622545, 39764739, 5607101, 8273452, 38398172, 1962368, 14723099, 30053045, 35825941, 37499510, 27232865, 21986175, 25565919, 30853775, 22182372, 26796371, 3933871, 8068180, 6142025, 10720049, 5275639, 33277537, 35585336, 15340134, 12331636, 24678849, 39297718, 7053735, 1178551, 32527806, 32936692, 31482178, 30452259, 21043846, 26051185, 4997366, 11945321, 8815837, 20094077, 23414303, 11375356, 32881622, 39038761, 18362421, 18663886, 6599716, 25634624, 11663945, 38601, 21173007, 8238319, 1462003, 24996986, 24194032, 29594330, 34073223, 2906312, 29651945, 35604845, 17158162, 39090298, 39674246, 23647241, 17210896, 29878402, 23623541, 14274249, 18790188, 27315592, 27919615, 13386481, 18950668, 30650662, 37293842, 2316028, 35333163, 27997483, 10175029, 22906148, 33307855, 19818355, 39921060, 26586186, 39950311, 37993600, 26708528, 2039762, 32770192, 39810236, 31171805, 10275646, 33131592, 21374269, 20752368, 26983288, 33066265, 4237541, 40139493, 35910350, 35041889, 21044015, 36138027, 9433414, 9517829, 18946364, 30323436, 26081810, 29416718, 5849925, 27603669, 20454664, 28919242, 18836089, 26621281, 37851053, 23553093, 15684335, 28742562, 2374224, 14344473, 5593549, 9140747, 29678189, 22569334, 5059401, 6374899, 37487624, 39601489, 37575862, 22769272, 28125932, 28986401, 24981148, 21937351, 36130781, 5343755, 20498317, 36225851, 13145254, 17635737, 4158337, 17263924, 26744380, 25537407, 11332235, 18698989, 24760455, 4589499, 18391405, 7755537, 35270192, 27764841, 35378896, 21268542, 1255976, 17797888, 38622832, 18539420, 18061737, 25725246, 17767275, 10823008, 886624, 3692159, 32371347, 31353553, 1349840, 34841008, 21843070, 762165, 28579730, 24182850, 37727504, 9864998, 36721741, 11814333, 33263678, 27364530, 5250223, 30045004, 2011629, 19954722, 26726939, 22460791, 23805121, 4107644, 3397599, 37892301, 9968532, 27444301, 10695862, 20946974, 13412924, 38076122, 31134698, 22784641, 20271383, 11686520, 39220205, 37942295, 10464724, 10475814, 2279917, 24746105, 35914051, 13101793, 12092935, 37158940, 19957646, 3972236, 35005184, 34977715, 25367628, 23315337, 8585848, 35316788, 37703734, 6326263, 32960798, 28329459, 28005765, 5465837, 37232149, 37632146, 21562815, 24560878, 12012899, 37812424, 26652666, 15033524, 39112408, 4314068, 36562507, 25964486, 7829384, 36153004, 22499236, 16394429, 26280390, 30127546, 2832997, 7627621, 5422464, 32297532, 10906353, 25423167, 11370913, 4771464, 31320268, 31506425, 16405187, 30286394, 5185808, 38787308, 30096501, 38109935, 24415265, 12215436, 2969640, 30489942, 12439320, 9095105, 1526191, 35996664, 34681501, 29531996, 28956767, 26013043, 3371164, 34092528, 10096425, 33478191, 21987231, 31061883, 13237060, 35771142, 2897609, 32709345, 34681391, 31751674, 19946771, 34986876, 15567052, 30322761, 22645633, 8827556, 31103161, 24782304, 36632745, 5417331, 25824596, 2635587, 35225712, 14209113, 38708794, 25693736, 37845130, 34050372, 21891554, 35741952, 4939737, 11661231, 2573803, 37954167, 27272051, 763087, 22304718, 5578579, 25467476, 36115180, 30720413, 8549582, 19493046, 36656364, 37142981, 12361809, 23098269, 2843613, 16637832, 25434942, 33114311, 18798370, 34991792, 13499468, 19156843, 22816209, 22612366, 39217201, 10509241, 25405270, 6810142, 7877816, 23526693, 21682725, 28540068, 32349635, 35642688, 15172903, 35363494, 1351227, 22866919, 23994371, 28940744, 19163283, 9643026, 8328763, 2086420, 35700482, 8116566, 6428400, 18467571, 22479940, 29276331, 24256843, 34849188, 32286397, 25069075, 34717936, 27855687, 20090447, 6687557, 37872611, 26436292, 33243661, 19675093, 31313142, 16684586, 21407960, 3843097, 9800551, 22077384, 18880353, 23989886, 31536359, 6247064, 8339572, 1906350, 21113071, 36352705, 29423734, 30576803, 20787978, 25277444, 17492800, 6674946, 39867259, 18447798, 9428962, 24622714, 22290749, 26673120, 26545296, 7768443, 12555831, 15085190, 25006976, 11856013, 25187660, 36773380, 19363636, 29679822, 30219016, 17503135, 28335050, 30696264, 38932266, 13537309, 39016171, 25587957, 9957271, 39303488, 25399534, 32546906, 34449473, 32533357, 33357586, 4435406, 35334102, 9145510, 24701974, 26682413, 38168976, 23534608, 2590632, 30488763, 33018028, 8447913, 32428577, 27912802, 1167903, 31349868, 33017275, 32759960, 38993326, 9678415, 13921373, 33846051, 33405698, 40002781, 28549835, 33207085, 1162142, 29528486, 32317006, 26820795, 7586999, 5838848, 24367254, 3642107, 22588205, 27712254, 21400265, 2670031, 26634739, 19889408, 28184667, 19817492, 22963697, 36911804, 37950936, 24283958, 31656915, 37076858, 17174559, 15209632, 34453627, 23622062, 26262147, 25757756, 12383272, 29560364, 18609120, 11820049, 7498623, 18039802, 5225849, 28325483, 30262438, 40044452, 16548081, 33701703, 29574641, 25009808, 9846990, 22788135, 28221554, 30775565, 20582707, 3874422, 39967532, 27732593, 37598028, 26252209, 26045594, 34005852, 23297594, 8544657, 35342141, 20243754, 9206802, 21967799, 4565256, 22317148, 32997659, 12507281, 24841178, 20642367, 13662409, 24946249, 12840981, 14096880, 20629195, 12286250, 38358977, 31029437, 8640809, 1174140, 31995906, 31169502, 16564179, 13944122, 2232852, 38114924, 26666454, 27353376, 10310027, 34283686, 37255751, 10257271, 22824956, 38863706, 10924437, 21594393, 26792995, 33501363, 27696216, 27769053, 29334765, 11388632, 9799767, 26369413, 11287001, 15866076, 23619669, 9255776, 27735266, 26585056, 14233764, 26528040, 6581109, 2435825, 34864038, 34112070, 24021332, 39640350, 2619129, 14166161, 275174, 9993939, 32630217, 38434914, 15225320, 7353555, 15070063, 30877018, 17106646, 24785627, 32521007, 16369193, 26470844, 2120870, 30015930, 13576347, 31691041, 20034338, 5067735, 21411159, 6923027, 26282821, 13179917, 7485545, 37511421, 38543752, 9572063, 12917270, 31580076, 15352315, 32701117, 3528783, 18614866, 17516424, 35222986, 3125198, 31939503, 33839979, 28380955, 15579629, 18638671, 12617811, 2571337, 39962290, 21839928, 26262871, 544597, 24801534, 29128589, 14335284, 10718227, 18707359, 28099933, 21455055, 33680184, 8429407, 24822314, 9516366, 32117920, 2966957, 19186152, 8834352, 37097910, 36852532, 22731175, 25196025, 32292769, 21911643, 37165297, 4630564, 17768563, 33905536, 20008951, 38362572, 37507458, 9350189, 10963224, 12810240, 34695639, 35299522, 14743809, 9989871, 19406170, 21521055, 40008219, 29926498, 20828551, 5515851, 21937072, 27472581, 8736377, 39237280, 38950526, 34038571, 37900037, 16687913, 36234037, 16342514, 12382232, 7514943, 38782869, 28669288, 3387680, 30267236, 30037924, 32390195, 10157173, 33707327, 28145636, 33528312, 21758003, 34485565, 7295030, 25933788, 19730036, 23844773, 31906285, 29892992, 29419615, 21786610, 36958162, 10271050, 11541541, 16824664, 38549163, 14071096, 13894435, 25722308, 3752607, 26081146, 30071257, 18246024, 15551092, 21885998, 35996912, 27889806, 33833185, 1352834, 35660607, 17187389, 30821274, 21600088, 6600184, 33776842, 21733894, 30337593, 22975936, 26330526, 25767485, 29395820, 18712685, 21154614, 24751701, 35752495, 38936355, 6133187, 29178839, 24452994, 38432955, 36279893, 28278368, 37979749, 33473431, 26585754, 10737546, 2402694, 15906675, 2207562, 4683883, 31412377, 26923034, 17514036, 18003178, 6673308, 8686112, 25540977, 30816683, 25462903, 29791051, 38873590, 12218163, 34476589, 27334355, 32493957, 26857686, 17623131, 6945251, 19001681, 33275261, 12664235, 34358278, 30691013, 10541588, 21654559, 39924596, 39256578, 22605108, 39084777, 15321584, 36323983, 27739668, 13889281, 13136057, 6461674, 19186540, 34165332, 30749840, 31085675, 6800752, 36751881, 9145896, 9941276, 8027011, 22048098, 4697009, 965082, 35082951, 30387877, 22503508, 23422392, 32075067, 26878380, 13052747, 17382696, 29706398, 39021159, 23502404, 38793547, 23069281, 3641152, 2696677, 9332638, 36511705, 37599233, 16088849, 22828997, 1419442, 37346173, 21974516, 13873861, 39868605, 7029652, 16554322, 30556465, 3978059, 30913357, 38402094, 32101737, 28305687, 28907667, 28867237, 20833089, 28789484, 30411634, 31513629, 10061609, 22988026, 10890425, 31490182, 38406833, 4795045, 33075804, 35096082, 9449404, 32359954, 18209772, 1095725, 31124525, 13368354, 33338662, 1332376, 30864941, 19479765, 37873568, 38222548, 11549309, 36547588, 24515430, 32951223, 16649134, 22976596, 23592930, 23876738, 35102192, 29797152, 7692487, 33984283, 19617085, 32519637, 30307362, 16220075, 13203315, 9279753, 602030, 38194371, 1308169, 29632821, 30258949, 28281024, 6036599, 36021162, 26243682, 13730107, 2206422, 1813637, 24452907, 10562911, 3052427, 19684824, 36314869, 11522443, 18745262, 6897730, 21427487, 12382016, 30903300, 10369524, 31969570, 35680839, 32561595, 24788901, 36067775, 14275821, 3644417, 10852739, 37655408, 3806346, 39424640, 33380836, 35850970, 7509962, 26949959, 22194695, 9729746, 14665266, 39718574, 10813651, 19720804, 8382690, 30497468, 1038542, 10532546, 9896125, 38949071, 9098976, 38589723, 2746512, 22793465, 35780443, 35313424, 30638596, 4050965, 30226977, 23352749, 38943658, 2343053, 30346936, 23287869, 20849397, 36466401, 34606196, 34428877, 33108606, 27903542, 32300395, 36299975, 28044947, 21451616, 26337907, 38378750, 37175011, 39767570, 3243241, 21193715, 11638071, 10059644, 28844370, 27364149, 4495173, 12875029, 33620793, 24154573, 29535410, 20826373, 16197808, 31505400, 38925323, 34441899, 23251999, 34765276, 34836024, 37635420, 10037447, 33012590, 13935864, 12453225, 19989822, 15284052, 34544318, 28233520, 21158880, 28653845, 3745724, 13688545, 38320336, 30331157, 21342438, 4968910, 26797478, 162808, 39091416, 39197418, 27981240, 22701077, 31295352, 12571674, 29682767, 7830091, 5161477, 34241332, 3861840, 32203928, 37263595, 26334133, 16099391, 23668513, 32115070, 40088902, 17228310, 37003872, 25530945, 18018872, 20412406, 18131689, 35561012, 12984803, 39317208, 17633783, 21770586, 23304860, 35911836, 24639777, 22675840, 16484024, 37367645, 4199249, 20695705, 30125678, 18966121, 14546999, 36107982, 28213294, 6383821, 15236556, 3856891, 34996613, 22390416, 6485005, 6067195, 7953031, 6760207, 24230147, 39768744, 26469741, 37418944, 16771391, 7642801, 34366849, 13910113, 17252375, 22164945, 20253410, 38514784, 17286452, 24486796, 28233816, 17075772, 14635955, 7169332, 472503, 16983040, 38206575, 30604985, 28401483, 37909800, 13181658, 19900279, 34096424, 5803547, 6485392, 19476996, 27287040, 19206354, 32351876, 37401256, 4171083, 32488029, 34095434, 23965172, 38438167, 22918095, 39267793, 7737615, 27360434, 19459300, 25807383, 19296657, 24704630, 16058063, 24771023, 493304, 12310755, 18118862, 37849236, 34988207, 27474637, 18212131, 38927979, 33655791, 38804535, 16225706, 36267609, 38748899, 28065001, 815606, 7006453, 31981441, 34229166, 31570564, 38574828, 32541203, 20628611, 22523519, 10481961, 29134642, 27817270, 14362414, 4470833, 39704298, 2781210, 35323274, 31520447, 38195237, 24521661, 2339941, 3529666, 14933246, 16503228, 31718385, 27561608, 11593995, 21903365, 38301233, 39123699, 31864105, 31477409, 15056653, 12399493, 32940228, 36834436, 21564878, 8551326, 36142142, 31502400, 2080296, 25119987, 30691006, 23834555, 22973714, 29268389, 23589932, 32957347, 20334029, 21275163, 27258596, 28453097, 39758386, 22051478, 11326405, 18662626, 16360205, 13830526, 28749903, 35978655, 38612655, 34157932, 26750682, 38043755, 24152330, 31163081, 12769804, 1744339, 37986979, 32344979, 31098880, 38624446, 38025811, 7568304, 31833769, 32742499, 20817212, 11854500, 4494842, 15770488, 3114731, 31751256, 14593926, 29896162, 33371422, 8085422, 32050361, 38902320, 32017119, 37918746, 9719662, 25651345, 21987134, 37246423, 21247976, 32511145, 4753338, 32125053, 16466945, 23762936, 25099716, 36115219, 34643195, 24844643, 19317482, 3202922, 32103513, 24157747, 35893289, 4335246, 19726485, 11770135, 18841171, 12521947, 14931276, 18496055, 7724265, 18202533, 37647549, 27559529, 2522774, 3032519, 10255952, 11842979, 5929696, 22619437, 22446617, 15004540, 36092593, 27026736, 29662595, 9126260, 28866429, 35483580, 18696200, 1879872, 23944969, 4978551, 40109368, 38118268, 28578184, 13043488, 26577893, 40124568, 32990767, 26920017, 27543641, 26196084, 1292081, 17270474, 4637480, 25161689, 35272890, 14431639, 27675027, 22820723, 10644674, 2636839, 30657205, 6734602, 14290517, 3546960, 6679916, 14874110, 30151833, 40116421, 13013838, 34421998, 17490260, 37445248, 3572032, 37292508, 7631080, 31523606, 33361057, 6804536, 17440732, 5356533, 32509570, 39796349, 30905621, 10421934, 36187899, 2753764, 17788615, 35698077, 37697686, 19331981, 18849981, 19217608, 34020089, 39951736, 20386751, 6399649, 30509154, 40051499, 21238703, 33495209, 18303214, 19839314, 34371409, 13604679, 15804966, 22219401, 26135842, 36550797, 39724358, 25691403, 29801490, 35786551, 7171955, 14853594, 6397094, 25696664, 24324784, 34743278, 16031684, 29417108, 35601155, 22867335, 39905713, 20037764, 24684854, 29734966, 14261104, 10827696, 37509441, 31321766, 24927430, 38778080, 30421325, 25398591, 35027389, 33905999, 25248607, 22669829, 29893430, 24884756, 25007078, 20098319, 12765684, 37567400, 22256281, 33971496, 27072659, 6734035, 27738941, 6056569, 967855, 38227302, 34283806, 28075061, 25732954, 29772603, 14625662, 29249041, 13713734, 38566228, 37980612, 21689192, 14439791, 7727866, 31377245, 34643976, 27460631, 29304947, 34373899, 3957489, 37610378, 25615107, 35215803, 33610018, 12042830, 31148485, 33153506, 35364191, 690856, 24319812, 22977234, 36925440, 38005285, 28335727, 22088771, 30992627, 36107479, 37648868, 18927443, 20928730, 4914775, 37804535, 11034136, 18798005, 35024007, 32062229, 24757923, 13246974, 12644766, 6655442, 33135342, 20114383, 31657223, 28142981, 39708111, 9303273, 3048357, 6056418, 26660023, 34751358, 18376683, 32231896, 1878306, 39860371, 33479855, 35677575, 20411131, 28073936, 11945798, 34456016, 9533507, 38095407, 10891588, 37750366, 24042081, 32619434, 26194127, 2608464, 23373395, 7076329, 27510684, 32641051, 17610413, 17749980, 2726476, 34463979, 20696092, 21788778, 33400176, 16444797, 38656975, 23794082, 36369888, 31414481, 33453164, 35283817, 13701035, 24267633, 21486963, 32604138, 39731395, 28818309, 12152716, 36201528, 34282196, 23544891, 22575617, 38996921, 33883268, 31786881, 23016700, 36134850, 36023948, 35391366, 38764766, 15795353, 27450194, 38334832, 35235778, 37606547, 38579532, 27307838, 39167518, 38438906, 37095161, 35180846, 30322581, 25495784, 39356279, 37220144, 36728531, 21744506, 32341797, 36316904, 39307435, 21342831, 29929639, 37962759, 37985786, 38901307, 38537399, 39151373, 39515086, 28096243, 36469308, 37447056, 20333435, 19548756, 38013618, 34932074, 40075106, 30646679, 22814143, 19618912, 28403628, 39342351, 31515819, 32828991, 39421433, 23270348, 30140499, 31275743, 33550312, 40004871, 32631445, 36949989, 40142686, 24543195, 34757703, 32826711, 34672581, 34027891, 38809506, 23401406, 39644866, 32380057, 27658648, 25676107, 23435270, 31647789, 30321932, 39511976, 39051292, 37381007, 36530293, 37047996, 19105976, 35974216, 36702117, 38893170, 38467455, 39193110, 33184452, 26268533, 21028808, 39965891, 39880920, 35700134, 22991567, 39109688, 31909771, 21774089, 22792740, 37496480, 36007950, 34315753, 14405544, 37821903, 38276374, 29885667, 35070562, 25455866, 30243053, 27672556, 35598249, 37755069, 29115114, 34233041, 21187699, 35403752, 15700128, 37756392, 38753750, 38572583, 35442924, 39799859, 35183669, 38441888, 25894931, 34488993, 24502838, 36021059, 21928814, 26220621, 38963331, 36750571, 32206661, 27390566, 39833456, 24595307, 37940026, 34228138, 22844222, 20868394, 26665021, 25847943, 32989124, 19944761, 37855286, 37865361, 35211774, 37210104, 18132006, 25196595, 17711934, 36500348, 29020298, 18677271, 16616141, 25798198, 18295751, 35989695, 31619880, 39052813, 21101284, 21021329, 34909034, 32851683, 30385975, 12522963, 20592110, 24768657, 24280390, 20637040, 37011734, 35918935, 32902832, 28095133, 24993831, 22975121, 34624883, 14859085, 27117307, 36401239, 19738169, 39676339, 35856095, 12168648, 20342608, 32897850, 35609555, 19570096, 34129949, 25792086, 35887218, 37161646, 35303674, 14181519, 31056477, 28952021, 39115825, 23068492, 35529565, 34545025, 39403580, 39852808, 39800997, 39691671, 34773317, 34944952, 27812650, 30833031, 38785382, 29541278, 37802466, 29039162, 25223423, 21170194, 38868269, 19461741, 36504721, 25228175, 25301728, 27596832, 28703873, 34318141, 13331698, 36734990, 29094065, 28001596, 12389898, 30406725, 33732697, 23384240, 39986053, 38753631, 40119050, 38109894, 38463019, 39735579, 14235984, 37502298, 38005372, 31649567, 28022227, 36155942, 30224626, 18371609, 24380791, 30274561, 34489206, 34501607, 29454229, 23378807, 31976263, 37501444, 36585934, 35027377, 18033796, 33454056, 30923882, 34120258, 21155518, 33292944, 37607228, 26245242, 22585489, 12877189, 28685230, 39018433, 20158597, 38702886, 22227303, 30808286, 24883503, 35604807, 15895837, 38729313, 38371418, 32892864, 26517125, 27930732, 34786023, 29468761, 28815630, 30080584, 25088483, 27880812, 17166601, 33098682, 26765863, 29504882, 22823559, 34667973, 37113531, 26618926, 34074584, 39523900, 36792779, 32751512, 27637281, 38703823, 35563351, 28468464, 24155040, 21415432, 39863487, 37151681, 39123750, 35515937, 30612104, 13062300, 34659096, 38356534, 35566229, 24709342, 39228916, 22272616, 39925423, 32827998, 39730737, 36938344, 35457651, 35239351, 22370429, 21343401, 19529825, 33576783, 32126699, 35385793, 33702855, 39352725, 29709921, 34705600, 26336251, 33342702, 25915541, 23191550, 33648986, 31663259, 16617394, 32914033, 38533320, 38646009, 33655288, 31996872, 36215148, 36095185, 37457505, 37847150, 21485212, 27849697, 22341883, 35092720, 11346283, 38644532, 40026020, 30109467, 31711336, 28174193, 30397874, 19980587, 35183921, 38404669, 34560999, 23899454, 39827273, 27048609, 27362816, 32560932, 28822011, 19360920, 31396801, 25898335, 17708643, 39775055, 23163508, 26764502, 27152987, 32834777, 28020009, 34845571, 37901827, 24339078, 24815847, 15011245, 7776679, 29248280, 34498112, 29656060, 36370607, 12604909, 34033835, 22884048, 30878265, 37216230, 26108181, 30686657, 37519618, 40134313, 30143911, 20654175, 35659982, 38577332, 33370289, 24511674, 35399647, 23481664, 39234843, 38354045, 35143783, 25159806, 19570693, 27868020, 34348113, 23719203, 38761357, 20223876, 18115741, 26578769, 31750540, 35347373, 38708020, 29981407, 35951786, 34098788, 32487519, 39890113, 36141772, 38965951, 25326649, 28896769, 15907869, 14881885, 31263242, 27778925, 22175241, 39879243, 35236880, 38391272, 27279714, 39663596, 36332147, 35274963, 24091385, 18922760, 24986116, 13226029, 35281237, 21147764, 37984934, 27735274, 39277163, 33442071, 27005833, 38725355, 39909011, 38484207, 28822345, 28928148, 34523319, 15557770, 31080383, 32677603, 21188504, 22900948, 34193870, 32419244, 38032524, 39154972, 30800081, 22301228, 19347770, 21838773, 22792603, 31145858, 31771619, 36329412, 35130990, 39277838, 33601010, 21745678, 25300582, 27515266, 33022675, 30410821, 26876549, 20298335, 15453237, 24224223, 33418174, 28777618, 27638743, 36700207, 31612800, 35491426, 34054234, 15985510, 37727379, 31051397, 22107897, 21741756, 20726661, 38299831, 38365363, 28948565, 24702069, 26616739, 33624966, 18978354, 34253959, 38000075, 35101195, 13505843, 22835671, 33337005, 32215392, 39783570, 31944671, 39807845, 33129252, 20641199, 18344887, 21538978, 32983309, 34505529, 17986792, 40024406, 32356868, 25056120, 19226488, 38358316, 33900323, 29153805, 34814849, 34446767, 33558706, 23906835, 34541165, 34844505, 34404900, 34935489, 38869372, 39658091, 38302075, 28002366, 29701242, 27158273, 31981443, 38985893, 38984043, 36438276, 27576099, 22845959, 26878476, 27630229, 19635048, 23655080, 35644003, 22540260, 38731491, 21524325, 10816994, 33134321, 34958526, 34243044, 31758864, 23103962, 34684468, 36376965, 27304587, 36441345, 38700694, 36307609, 39736078, 38980604, 39023511, 38540144, 38852273, 34252216, 31402734, 38165708, 23422238, 12383436, 38355647, 29371988, 34950171, 34259637, 22290793, 38975246, 18176933, 26370831, 38789717, 34260084, 20473271, 31693692, 23062698, 38622487, 32614357, 17416669, 40024666, 33702198, 28550339, 38317041, 13078751, 33050211, 27717776, 29354553, 37846945, 39771274, 36291437, 29407492, 29808355, 38468549, 32705457, 38853054, 33804658, 21390910, 35325850, 31811397, 36702904, 31455400, 37993040, 31532501, 37844014, 23289953, 37469998, 15247628, 22149584, 19911206, 17709270, 36515724, 28074054, 36511338, 17678499, 32261558, 29287847, 29960917, 36186528, 36725385, 38439070, 31524887, 35342843, 38559757, 24088795, 27978585, 38462920, 37964057, 21353977, 38338864, 25204642, 33945680, 32936764, 36015685, 30646786, 31900315, 10982089, 32430566, 37083836, 29907788, 26350723, 31929202, 26450021, 38601628, 28936713, 36840877, 38599952, 35665042, 35416665, 37157142, 37243551, 40097194, 31756243, 32340611, 28133679, 37982170, 26467696, 35109094, 29249749, 39796183, 28678317, 35586291, 36371671, 33488150, 18601282, 20903071, 34208735, 35565783, 26497271, 23772590, 37956088, 36992527, 27220602, 39876389, 36696613, 35473586, 32491116, 30551960, 40093971, 39308065, 21724122, 39150020, 33422356, 31387113, 19125680, 36827260, 17973877, 39722185, 34011324, 37954489, 26165068, 34046430, 22312247, 19961857, 33412236, 22972030, 35134911, 26302249, 38488120, 22909082, 37404392, 26442790, 35328979, 37416026, 38217156, 38149288, 36771245, 36730487, 20433031, 36611903, 26108879, 23315592, 36704397, 30046902, 37560548, 15778886, 37382168, 31933664, 38747468, 26915688, 19999986, 31762453, 25921287, 38579515, 30263923, 35085400, 38834788, 32776289, 24179963, 37909435, 17426292, 17891493, 26949755, 24680318, 38838764, 14020365, 24562816, 38078753, 35982489, 28255734, 22244383, 33767282, 39173897, 35001468, 38826531, 29731999, 10883805, 36104060, 29500778, 34212605, 33995060, 15817498, 31303417, 39257934, 36475783, 29730488, 26933467, 29290437, 37510348, 33046966, 26164163, 32517951, 32406935, 38492333, 36659820, 25753276, 39070409, 36768525, 35895466, 31194419, 24073371, 30984167, 34945803, 31776859, 31572427, 40127746, 38228611, 36123002, 31485361, 38316199, 23069651, 38242368, 34087903, 33225478, 18969034, 29320245, 36964417, 35167025, 29832753, 39711422, 38980138, 36670076, 29082412, 25859572, 12370349, 32755845, 22457880, 36505847, 39080995, 31627211, 15078382, 34812745, 28477799, 33444292, 33396948, 22740666, 30808824, 29917228, 33166524, 14125428, 39993921, 23921766, 39532978, 33869234, 30315708, 31132784, 39782391, 20664980, 36820549, 29976744, 34853397, 28221798, 24036502, 15528605, 27176289, 36132973, 24761662, 32927502, 37050056, 39333881, 31084942, 27621602, 38706359, 37289080, 37718183, 26427247, 23631745, 19039356, 20603925, 17314836, 21769162, 27107807, 34256548, 33926947, 14719018, 36436883, 35713931, 22338455, 36032956, 37680534, 22115671, 36870441, 28467538, 38284615, 33222051, 28886903, 37682921, 30506670, 37443296, 35442160, 38355931, 29836716, 37885000, 33875746, 37007912, 38891974, 30853541, 24738732, 30578303, 37960216, 17434162, 21767151, 27989120, 25324737, 30245891, 39952753, 30574740, 38095605, 19125091, 38575661, 39292275, 34564906, 28890379, 33620669, 22635110, 20978109, 36271617, 10027719, 31029770, 38781777, 34292387, 35513993, 37999079, 29580160, 16913556, 25487227, 30578705, 38006701, 34515720, 38308726, 15670482, 30834184, 24012909, 37798645, 28721756, 39213597, 12101113, 32190362, 37463184, 38379966, 35500982, 26387973, 28180894, 33302446, 38473205, 38815865, 38417647, 33705799, 34677734, 37086677, 34208273, 30752832, 27896214, 38054321, 17243214, 19605537, 38339753, 38537753, 29421376, 21801507, 22331630, 38927875, 36945602, 30652246, 30945748, 39623977, 7813132, 24610162, 37142896, 35566414, 36964155, 20614154, 36162451, 33157643, 15459675, 31434826, 16956460, 25331347, 19630265, 38881679, 26911973, 38440596, 14536747, 38209540, 9762193, 35581733, 26359520, 15365606, 31576198, 35558936, 18709289, 28820157, 36924149, 38062733, 19594562, 32724146, 31975886, 22480884, 28303972, 39246401, 32873267, 39854373, 35419778, 29576430, 27224563, 36391937, 25031210, 36222928, 26282434, 37044191, 38130233, 28226901, 20876307, 37577965, 33292657, 36075968, 29247229, 34682562, 26830088, 39344040, 38563999, 36146897, 17950835, 37231663, 21058254, 33835079, 39648855, 33179122, 39112973, 30447611, 17591765, 36164255, 34900285, 37159279, 26877128, 36030477, 27112755, 31334728, 38798115, 31013518, 39302498, 36656194, 22994204, 36872851, 19672088, 22150096, 38361022, 36662422, 23171574, 31017823, 39289387, 28612773, 23709811, 36785966, 23747451, 37510822, 27181108, 36706671, 13133458, 39823587, 40029071, 38442680, 36819661, 32897866, 38816646, 31888856, 21139043, 36687375, 19860389, 32568913, 34502254, 31077896, 20497783, 34549974, 34901550, 30834321, 24232884, 37792709, 19820280, 25694853, 18993013, 26791039, 31682624, 31357611, 17559885, 21804626, 37791073, 28888730, 21989286, 39412829, 28665361, 28356501, 39882767, 33590756, 29023124, 38360546, 31781860, 23008636, 38351758, 10393447, 22806065, 29752390, 38515433, 29604347, 28826478, 32791783, 28865860, 22401777, 10532501, 34549864, 35905531, 35373714, 38943902, 30019532, 28185765, 36731231, 33264389, 36032599, 27975699, 18788605, 39133121, 39222507, 39536229, 29337874, 35026458, 28986489, 34377811, 26767558, 26074974, 36397805, 38792122, 37435386, 18198942, 30521279, 18194975, 39512182, 25695986, 38117016, 30101369, 21615158, 27381974, 25631076, 21539260, 34772147, 31708145, 36535381, 12841827, 34801575, 27851188, 29778636, 39196053, 20688901, 35497403, 39226024, 39278042, 23057219, 27572897, 22717527, 36375939, 26639003, 33899621, 30969221, 37209908, 32786157, 39145795, 21252983, 26486501, 33014025, 18431821, 38353269, 39053226, 36685963, 37178312, 27348352, 38088200, 37084812, 36437986, 38286700, 22372495, 35456270, 32023587, 37893097, 36068059, 37342745, 28247529, 39189368, 35629694, 35990320, 25604115, 19797216, 37406187, 39562915, 34237462, 30623721, 20432278, 36226479, 31306519, 26790740, 30564172, 27443111, 38806021, 28198414, 32759307, 39028197, 37035082, 36188704, 30067051, 34159342, 34121903, 38148877, 36821092, 31862469, 34319417, 34396641, 21333832, 22468279, 29082001, 35137961, 37078472, 20480826, 38465520, 29334523, 28551463, 34077572, 31535865, 33000912, 35760223, 27810808, 31374768, 29532894, 22517167, 37866998, 36106179, 30339923, 37569461, 37897249, 30268279, 30192692, 17619460, 29079408, 33029505, 20613922, 31300333, 27185946, 36459132, 37017773, 23414161, 15462298, 32172678, 28384951, 31582114, 25522752, 32422416, 26385843, 31867183, 33717272, 25963961, 29380513, 36331369, 38570198, 37396187, 35029806, 31218624, 35090425, 14820124, 32968167, 38644073, 34926124, 37288301, 38801205, 18932254, 28728012, 39557313, 26327135, 28319714, 12525722, 36209712, 35433422, 37518901, 19213724, 36828977, 28503770, 31388307, 38472382, 37785112, 32316824, 36347587, 37679553, 30283217, 12307099, 30385883, 19503512, 25772841, 21140630, 12725417, 35215126, 33399989, 8451327, 20656663, 32530446, 15753916, 20910026, 39520283, 28977634, 31099781, 38287696, 39991471, 28137142, 36465339, 32608047, 29785134, 21829065, 37972224, 23768963, 38118999, 24641179, 15874608, 30957101, 31866802, 37708201, 29314424, 25939987, 35222716, 37213556, 14298433, 17116115, 23839465, 32456962, 16140174, 35330724, 12007406, 36856428, 31299897, 35881832, 34278043, 35939269, 32643649, 14940743, 33828475, 23999989, 39340103, 21738566, 12066550, 39964558, 35493517, 33784146, 30414739, 21518260, 39027281, 19551336, 34828701, 32204319, 29516084, 32967201, 34149512, 32662821, 26572664, 39394901, 38688502, 29926940, 31569549, 28819508, 29442370, 33530688, 32802232, 17645688, 15806414, 36921159, 18016037, 29309302, 31769047, 34138940, 32357982, 23450800, 36153944, 39398821, 23842475, 27700895, 26490124, 33169701, 36667548, 27261382, 29939456, 26706090, 38575629, 33700363, 24256511, 39452097, 17287933, 33174178, 38662509, 39240820, 26427188, 38516668, 38849639, 26760962, 37483500, 40043182, 27113978, 19202093, 25444932, 28049127, 22543501, 10215259, 26059969, 25305155, 33288420, 33925015, 22051994, 39666308, 26442798, 34181505, 35674987, 36401422, 29185264, 36818899, 36565115, 23366016, 23753476, 34137628, 36533017, 35178812, 37833338, 38915917, 37079940, 17196203, 38856583, 34122395, 38128353, 16194831, 27141286, 34070539, 38331568, 34304482, 33871858, 39255292, 33826611, 31989017, 33048384, 21917198, 35618865, 39428505, 24640399, 19414880, 19968671, 39103144, 39030075, 38601386, 31611606, 28526531, 10445549, 19961490, 34803759, 24312939, 27228701, 17456473, 15408156, 16017034, 22391433, 38453939, 13914077, 32953680, 38992866, 29060166, 27486737, 36231323, 39749653, 28031346, 35722187, 16653815, 13370525, 18107953, 36517311, 39843279, 31697286, 28758388, 25586500, 22311707, 39579875, 23346905, 37769337, 38616125, 37328986, 36412453, 17998284, 21247203, 31024821, 33643843, 22093006, 31641967, 30338212, 32547440, 37003929, 20439980, 29795225, 40107657, 30507524, 36082749, 37835676, 18673420, 35394803, 26611956, 39191111, 34978694, 22208562, 35888824, 35563841, 31010276, 25842596, 37646501, 28533684, 38955564, 32003123, 31167839, 39217985, 39294132, 37696630, 29677832, 35992259, 33475406, 39390616, 39787204, 27455979, 28728417, 29374147, 36926562, 36483556, 22407798, 34804458, 36159689, 26170788, 19035536, 34030474, 31752715, 36247216, 17789907, 38817686, 27929472, 34212251, 38275802, 40075924, 38663573, 38855222, 33321901, 27905269, 24785016, 32201222, 39297523, 33199193, 38812304, 34272630, 21648244, 29539589, 39827897, 25134185, 19214922, 36988123, 35893176, 38671448, 32625729, 22360140, 38395789, 22929982, 39593569, 26283233, 39339560, 30983966, 30081216, 35159296, 30142735, 39644197, 35176293, 29623309, 34827235, 28172458, 29395240, 40034378, 39109971, 35074359, 39520101, 19267029, 33024342, 38716165, 34759318, 33701403, 19993518, 35833252, 19288194, 27958557, 37685517, 25815491, 32301388, 34630340, 34187460, 31569590, 28247778, 37465333, 22992579, 27248884, 35592675, 32594460, 31069018, 32511150, 37365824, 33724641, 24877480, 38309881, 35991704, 18495947, 36797020, 26595819, 24709557, 29138819, 27504479, 30228082, 28613911, 34621207, 33354576, 20502822, 21172271, 21420165, 27832100, 37994791, 31789160, 39497487, 14729082, 36849151, 32750123, 20728557, 33307993, 36924852, 35256876, 31733294, 39357882, 37451483, 19319432, 34052001, 17521344, 39703734, 37029054, 20394091, 29394730, 22769047, 26660286, 38466682, 39516055, 28611008, 21998590, 20541772, 22945636, 32118749, 37489960, 22720349, 31278579, 34942286, 36698525, 30923200, 38569851, 26068598, 39805961, 34796896, 30070548, 39254704, 38721498, 35352463, 38476260, 38118183, 31389370, 18147230, 34238455, 39659146, 35093496, 25796983, 35649613, 37796702, 37477224, 33657041, 24813876, 35764172, 30337402, 27114885, 35665135, 30558917, 26518802, 36654797, 34653259, 25872575, 17173524, 38734510, 38104558, 37257733, 37607112, 37697195, 36737664, 20584627, 31233040, 29781341, 35154804, 35033218, 37294760, 36015409, 34505606, 36989148, 39353072, 38284638, 29357785, 34093798, 38640800, 38874907, 36888945, 23101869, 32535321, 38562616, 39125668, 23377995, 24461494, 33076706, 32482628, 14105774, 23212180, 36841631, 35095949, 27089715, 35125683, 20277576, 19188217, 24988809, 31599003, 31161195, 37677020, 36685247, 39661759, 39199343, 33000454, 38728366, 29548179, 39352554, 19328485, 25016847, 36756618, 35069876, 35558990, 29639973, 36193768, 33565643, 16958513, 37420042, 21004221, 35230524, 33296568, 23660275, 36799390, 37575008, 39049202, 29879035, 21475202, 25294297, 19638014, 32019437, 37451844, 32496062, 13030402, 37313271, 12576151, 37564617, 26093737, 23002762, 30355308, 37352843, 38934415, 27408716, 36021465, 38001612, 28989191, 36214806, 35269765, 37690119, 35757897, 19455100, 25269329, 12255179, 18191773, 29088646, 38212484, 34523122, 26184248, 34394228, 17818695, 36457910, 25037721, 19508042, 33303644, 32567270, 26768344, 38474807, 33604931, 35901038, 28601835, 27744276, 34376896, 26973803, 39220660, 38448147, 32560943, 29941384, 38994458, 39247591, 36275522, 31367672, 22622236, 39635993, 37149358, 39418504, 24273857, 38563263, 23572620, 40111546, 24416140, 27744908, 26601001, 36933710, 35211305, 35807599, 30602240, 37417090, 38118942, 37548944, 35519478, 32097746, 36023521, 36916948, 25144262, 24259131, 31054074, 18945384, 37764518, 37598212, 25372877, 21541584, 28908686, 33086270, 29598149, 29867012, 35464774, 27772420, 25493149, 36088474, 36923292, 34339218, 36404374, 32576380, 28507898, 30987055, 23857756, 21269399, 30028149, 31489619, 35785109, 38881326, 24525421, 30944577, 39458148, 33178328, 37598383, 30090511, 39931941, 28754658, 22557150, 35448242, 27988847, 31737939, 37579374, 28643567, 20082432, 36874246, 21640048, 33713592, 34756004, 31837621, 29713517, 38641235, 37247161, 34904465, 29217682, 39790041, 37497569, 39640936, 39678806, 34099484, 23856373, 35559160, 15736325, 24237211, 29882965, 25816778, 34859900, 38809796, 33113455, 33149428, 32958526, 31486389, 38605916, 36262509, 35718653, 38164453, 35206865, 25734454, 39584916, 28377955, 22342568, 38449806, 37063350, 38114174, 30753807, 38034585, 33792467, 35201562, 38357078, 39807604, 20472413, 24121983, 29565973, 35678874, 33391854, 38280695, 38946206, 29084365, 40076806, 37800383, 37444523, 23250333, 38657341, 20903865, 39886556, 32239093, 26371325, 17826001, 29993721, 23602061, 23809614, 27115531, 39559805, 26319108, 35994450, 21489945, 35029731, 31084019, 39893986, 31424591, 23123625, 37627520, 32893509, 38689743, 22086116, 31417053, 17543570, 39409544, 34059323, 32933444, 18787635, 29133315, 34426321, 39500899, 14745022, 29349890, 26841908, 39074991, 35405704, 36839602, 9588331, 31464382, 26434123, 21266637, 33134804, 31802152, 24276487, 37578160, 31131575, 35751724, 35129266, 20618129, 25907936, 16689514, 39323225, 19748000, 38374347, 39472712, 37620975, 26924904, 18273741, 26473681, 31707809, 39322773, 37372247, 35702337, 36674047, 38935005, 26999331, 19022218, 19762538, 37577470, 35085130, 30878789, 26034425, 26766387, 39463692, 21008801, 38495355, 37662254, 33952142, 35946315, 32120949, 35209168, 24642156, 13156660, 39688290, 38461901, 22672108, 37842651, 37530618, 33256341, 33872299, 23108818, 32464295, 35428032, 36772987, 31459600, 36351403, 19483991, 34049995, 34662986, 18180763, 36534959, 33544831, 29975033, 29376392, 24998923, 38076377, 29813137, 38036084, 39638801, 28143694, 25788313, 32215084, 33206297, 35241717, 36914892, 25385374, 36799700, 37445466, 17051395, 39397897, 22638099, 28908867, 22676170, 39101933, 31003586, 37780473, 35869187, 29134635, 39513332, 22798608, 39209240, 38960221, 33750326, 35202981, 34818211, 29685887, 24098588, 34685398, 40117874, 39332665, 31837594, 35366924, 32657226, 39395252, 34935329, 30249741, 25205561, 22805824, 32243917, 36960086, 37600711, 36841377, 34803818, 38926031, 34984623, 33161739, 37579516, 37197958, 35122184, 38540016, 21682086, 38467716, 24215315, 28307607, 23519135, 39256717, 19599578, 29615870, 22277047, 14916358, 38524821, 32778730, 26371509, 39390160, 33157319, 39842623, 38251974, 25128028, 29293369, 33828841, 29688579, 36792806, 27831483, 28679026, 25154056, 37000231, 38668814, 30201096, 38589901, 38243318, 32373542, 31171651, 36489576, 40000718, 29775226, 29925303, 36523861, 38663764, 37968730, 38022511, 38134012, 22026181, 26069235, 39622639, 22621226, 36038927, 18118221, 23536082, 24875096, 32944365, 38297526, 31383398, 30056617, 27143478, 24417951, 35625201, 39402154, 25171097, 28184367, 29900655, 38022309, 27738398, 35414625, 22410417, 39376070, 40049456, 37734733, 18411662, 31665071, 38935735, 15350764, 38105743, 38361336, 27430173, 17480884, 36118744, 31267174, 17448592, 25621658, 25456335, 35069936, 39518141, 12193253, 29093792, 37557174, 39443887, 21567842, 20838395, 19683026, 35040121, 28057233, 26607609, 17870476, 17774271, 13250046, 34476579, 37833210, 38861415, 38276186, 34238391, 34197519, 37124433, 21149920, 31768613, 37208895, 39479563, 32368078, 31916255, 39564433, 36316837, 17091769, 30246735, 29672674, 28774310, 31324310, 30986404, 25797245, 36286803, 38968585, 31172783, 29960733, 28225265, 40120931, 37215320, 33837092, 17134716, 20990863, 22644591, 30251571, 25421691, 25768283, 26923962, 38747804, 13295735, 11350770, 11361985, 29266205, 11106823, 23944930, 39801726, 37639383, 24685999, 35720234, 33018594, 30626307, 32261619, 26343252, 14455746, 26556752, 37196559, 33559875, 28874556, 37576552, 32646675, 23817958, 18158250, 38927844, 24397131, 33062704, 25122754, 39812575, 30808670, 25084739, 18382632, 38302718, 37800541, 35758620, 29852342, 38709017, 21767172, 25453385, 38704949, 38376272, 39936247, 26066126, 29024632, 23863553, 33247374, 36661846, 23024815, 21784294, 18453442, 34162869, 15541440, 17591104, 25351968, 38386725, 36877811, 38374709, 30212079, 28542686, 28739059, 37601017, 25517690, 22802617, 20012132, 36243015, 38704692, 15081858, 36395931, 29964238, 38860712, 38753823, 34454683, 21262929, 37156478, 36578035, 20776865, 19433864, 25714549, 19779015, 36224733, 24195432, 24534325, 35164964, 37753255, 26536327, 20995196, 25193715, 31583982, 23283111, 27225636, 38749305, 12490657, 39299703, 39420373, 37802972, 30328776, 37306364, 33698027, 23942094, 18935698, 31302007, 27999918, 34978703, 31565365, 38021656, 31649669, 32346516, 36167381, 31747475, 25254847, 39782108, 40089042, 35465774, 39715950, 35436905, 25570147, 30629326, 33575566, 33041845, 37025686, 26323926, 38139306, 28359134, 36377972, 17414130, 24091399, 29493387, 39462522, 35057791, 35784126, 18078298, 37855604, 34324897, 39090442, 39662790, 40126853, 14552482, 20625982, 35495543, 34428678, 32460802, 32633944, 33085184, 28229002, 34054394, 24840789, 34502662, 35422156, 25363368, 37260738, 32340689, 13013351, 38700194, 37417889, 20636322, 33225562, 34237396, 27772560, 35779836, 24074481, 26965246, 37423966, 38974446, 34184841, 37575192, 38900981, 10065051, 39595327, 37822220, 19191832, 37169637, 36954651, 28836550, 19553128, 28129674, 31162064, 35352126, 27883234, 22337900, 17108250, 34670679, 39349711, 33443897, 33241904, 21558999, 34209918, 37386958, 31350416, 23344687, 37146319, 36572960, 37151851, 36526282, 36761902, 38423234, 14744068, 38098472, 33499568, 30951570, 18173753, 31018283, 30743832, 37482540, 39773480, 36212815, 19138505, 37755374, 33088000, 32612044, 24922315, 28182053, 36971661, 32911675, 21575869, 25249422, 39032204, 36785204, 35898269, 39478853, 21884555, 38570228, 36972593, 31828240, 23717206, 13550940, 13261737, 31998780, 37051318, 31887781, 32444138, 28640911, 38879552, 23296282, 29414337, 38753515, 35236393, 29536848, 21082671, 31103926, 20625582, 36837663, 17884693, 37320979, 18464428, 31270635, 38162539, 32141759, 31806512, 30039334, 24697258, 39597409, 19255145, 16860172, 32014966, 36979227, 25560473, 28466772, 19155625, 13385860, 24988873, 27895503, 36276074, 31380737, 39450030, 31373134, 37918586, 27020707, 30863777, 35566771, 39693431, 18470927, 38523193, 37078623, 15214248, 39437485, 28144361, 39766218, 27324115, 39315923, 38918623, 32147224, 18411110, 36499967, 34706273, 38361582, 35786645, 39567528, 38684026, 37505577, 31616695, 39630928, 39118708, 36231020, 31116356, 38761192, 22724965, 40071096, 34857829, 39589558, 36882895, 39474667, 40019905, 40059994, 33088841, 31673163, 32334385, 31445314, 33092422, 12250475, 31173379, 33106507, 34567798, 34163694, 25839397, 39847973, 32698963, 34542861, 27237820, 17544649, 38523920, 18933065, 39043832, 38227855, 32700387, 38688784, 17839973, 38904348, 32316244, 33756117, 27357907, 10565282, 12167634, 31341622, 12047193, 37493165, 37246448, 38017946, 24189150, 40073279, 32484372, 31488212, 37890845, 12576313, 39143640, 23392820, 31820438, 40011943, 37001787, 15016187, 34152405, 38239617, 21296945, 34479375, 38715899, 36714075, 24209839, 15887191, 31444836, 31256930, 32805456, 25941979, 34352197, 19235264, 22423872, 29854616, 31303728, 13148429, 34417964, 36148501, 28942577, 28647626, 20975600, 30498656, 36000677, 29848060, 36084694, 24810665, 27630335, 34810358, 27793925, 19363144, 39723061, 23326651, 28885927, 26540922, 32314890, 17945247, 32718639, 22492042, 28952118, 39479185, 27296645, 37259417, 24295451, 30620323, 37779286, 32841581, 31014331, 33446953, 39208305, 33248518, 14405975, 29717076, 34191746, 37277498, 32480288, 20791618, 18242988, 24553921, 17929658, 27201357, 34523111, 30444444, 33217702, 35830199, 27464394, 33557022, 21723830, 38193426, 19295634, 34470969, 33357186, 26982467, 33003886, 35731201, 32821459, 19480496, 37107399, 32727762, 8914992, 39025674, 21308112, 32117848, 33629335, 38163321, 31201986, 21228976, 39128620, 26645646, 37439787, 15552606, 15003828, 31394711, 16937332, 25177232, 32167327, 7837722, 35085131, 34634230, 15413680, 37910057, 26097916, 27972182, 17194581, 17215682, 39044434, 19823824, 36665156, 37794874, 28916543, 38208389, 21487329, 33503368, 37997300, 35386242, 37765690, 35236213, 32012546, 35439723, 40085300, 38917945, 38502084, 34029608, 32977563, 23377546, 24681272, 22767374, 36848866, 27503851, 36460368, 30820878, 37191807, 27006048, 34799408, 39307945, 24110345, 28819982, 27426541, 40043386, 28042957, 25009214, 21416122, 33587119, 36526804, 28165578, 36270040, 36923322, 33617987, 20055257, 39680147, 22467590, 23309049, 32845385, 17600430, 29799043, 21716394, 22491298, 39310559, 12698764, 22787602, 38574375, 25186148, 38400755, 39386957, 29370057, 27790222, 21494030, 30754926, 34692978, 39429671, 21121174, 36291706, 34840680, 24593694, 34997174, 20444593, 24815720, 34734254, 35518308, 22701346, 29712334, 19231871, 34798078, 29008989, 29393833, 29289143, 32839397, 25536016, 31657362, 21591091, 29037335, 12091967, 39734836, 19594003, 26974060, 20351997, 33011421, 37797093, 37076455, 25513008, 26014025, 30808703, 35350905, 22970857, 38490142, 35332493, 15045582, 32470977, 37971322, 35785547, 20001757, 35220309, 38531670, 39023921, 39390060, 37098773, 38543026, 33400842, 33449335, 16574466, 19578736, 38748191, 31901821, 25607385, 21295329, 35648420, 39223638, 37258406, 17678439, 30718231, 30809457, 33218856, 31609600, 23838115, 34988040, 26081300, 30601382, 36588171, 25796744, 30998597, 38160249, 17886985, 32801806, 20986379, 30372068, 36983360, 39234697, 28465633, 29230396, 35380870, 33771195, 29838788, 24890737, 25479607, 38101915, 40006276, 32897414, 34119935, 22817438, 34621575, 26952975, 39002942, 38041607, 34661318, 34983440, 37712284, 15681802, 39252170, 20982165, 28997367, 35458738, 16406611, 29357379, 16185652, 28464950, 39014353, 31521027, 37576661, 28907321, 18237453, 25071554, 38212221, 34328126, 33201877, 19010774, 38444271, 23317239, 36809129, 34619724, 30669137, 29624785, 29278903, 22470690, 23003486, 39862053, 29541892, 36199719, 32587183, 18044434, 31521526, 38328397, 33642388, 14341805, 28664103, 17960511, 38548978, 25276372, 17542524, 33438283, 36904067, 28965110, 36191785, 39662149, 20234891, 26055556, 19463985, 26024520, 24830894, 23261911, 36343456, 31325372, 39600816, 26335732, 22947353, 37377264, 29044545, 29154396, 30147716, 18280652, 38242910, 29898063, 36345113, 38344626, 40069001, 37074279, 34982468, 29703388, 18554920, 35992270, 30668053, 22079449, 33408403, 39529253, 39962217, 11360675, 28869818, 19064092, 33039327, 27728695, 32117403, 40033693, 22015363, 25571882, 30920339, 23438862, 35930784, 34035337, 30256682, 28507383, 30374028, 28347321, 25151443, 36996785, 37292872, 39006663, 36714597, 23199796, 21655025, 32715931, 27088893, 31593201, 37267811, 19484344, 25129144, 37736730, 38840319, 39174810, 30904189, 37415068, 31902591, 40058133, 36545340, 39988903, 36800292, 35228472, 25852041, 27513890, 39603567, 29886609, 36897378, 37333165, 39975812, 39085326, 39030164, 25725055, 22504329, 37150372, 33385238, 27512843, 40069845, 34203605, 38330298, 38610723, 23060383, 33088679, 23597844, 24911925, 28379607, 31547432, 30091012, 28135436, 18084662, 38530787, 38575672, 39011022, 19776546, 18553503, 24143719, 37065200, 31237715, 32463111, 32617033, 39375026, 12962765, 25254908, 21491291, 40099924, 19913659, 19672508, 21089154, 38634120, 34589555, 37820981, 32842303, 38451407, 35700972, 12483121, 36655263, 38073550, 36110090, 36242735, 35049831, 27567937, 38978594, 32480380, 33532216, 32519377, 33144354, 35274700, 37479756, 31881166, 38918507, 32173681, 35204716, 34035674, 38316290, 17818783, 25550217, 30490147, 28708233, 33484751, 35531963, 36121309, 38468859, 34022110, 38499546, 36578088, 18187313, 18662475, 31469811, 30171748, 26103729, 37047420, 26988041, 37226368, 36037945, 38061876, 36337924, 36251349, 39689145, 17666075, 31678874, 39489909, 28289440, 31632607, 39518534, 26881477, 25840398, 33062762, 31690493, 21986436, 25262054, 26986655, 14837844, 31267148, 40088710, 16982370, 34509641, 39259089, 15026908, 25376658, 24424465, 31976210, 28442285, 36436953, 31161296, 31347952, 19758836, 37934969, 15123591, 39514202, 25196528, 24084127, 37417283, 23522023, 35423073, 24142977, 29458674, 32252821, 12569730, 36090056, 14695637, 38421170, 33747933, 18171079, 26872337, 16959051, 31071952, 31663678, 29633859, 28442991, 11253390, 39298235, 32978575, 17954314, 22292059, 19126612, 35929186, 39682124, 24370711, 36465525, 18574342, 38764956, 39593821, 33112324, 33813419, 29592306, 39201526, 22093471, 39883656, 37890649, 21465096, 25457999, 32281529, 18062135, 24852074, 33573408, 31460146, 34314502, 32641460, 37150248, 31727737, 38235992, 31671160, 21367541, 38729856, 34659316, 32529217, 38852904, 38416836, 36182237, 36998540, 32223989, 33695437, 28156666, 34401244, 26837998, 38695947, 18925852, 18458661, 31018622, 30156470, 30836032, 37469792, 28410347, 35367882, 35176398, 26761057, 21876200, 36701689, 34221863, 32672675, 26897078, 27506985, 32968747, 36589619, 30786284, 39549889, 30284415, 37634786, 32102897, 11925827, 28877691, 38176655, 21293983, 26326350, 16320205, 23402150, 34653215, 19070194, 38522513, 31974942, 33544148, 35466247, 22554339, 21005566, 39470221, 12711551, 38060172, 11334098, 28483955, 35346837, 39796519, 38387062, 15989281, 39727271, 37121049, 28017807, 27047880, 22648387, 23323974, 19736080, 29422129, 37424923, 38743888, 30857773, 36272763, 33283249, 39840377, 24004229, 13584149, 22752443, 17797384, 36729302, 20162926, 24576786, 34833165, 39317436, 34947982, 28495905, 33420300, 36901163, 38570175, 38246426, 30948100, 38042698, 38609339, 33561586, 33461135, 37445855, 14897833, 31708516, 20316920, 23663623, 32803739, 33746099, 30353913, 37115369, 37859014, 30247397, 33440640, 39378552, 29658274, 34556427, 38078029, 17471682, 31911801, 36487801, 35618115, 35214878, 36527370, 38728705, 37954195, 18089667, 24546073, 32400223, 29351831, 39901550, 36733895, 36612039, 33274628, 38233046, 37223393, 36497285, 38728425, 34901708, 39174694, 32918506, 20724919, 33307100, 20557550, 32831446, 28049842, 34858698, 39664550, 35167347, 39812493, 25253523, 40035276, 30471119, 34277500, 18115222, 29402342, 31679635, 29474644, 34253838, 20413264, 24166658, 37257737, 14892748, 34654469, 26962131, 39775828, 16426195, 23386260, 37904176, 29748702, 37883476, 38596519, 19123545, 36281882, 21938374, 32577149, 21690623, 36952760, 35586414, 31979554, 36503074, 38033001, 22857654, 34614959, 30473920, 19756108, 29942167, 19373759, 26789935, 28845558, 37900988, 17266129, 35368581, 18475651, 28216881, 37549938, 15485793, 25531856, 37526889, 32993340, 35863289, 21415661, 22891523, 27614282, 32481961, 37448922, 38752653, 27428954, 17902818, 15162605, 40088441, 24337753, 36360828, 27642179, 39173813, 28289025, 26499612, 38311120, 38538976, 34174071, 31883134, 38133085, 37575608, 32491339, 13250499, 24065547, 25701494, 35705920, 30540139, 12662223, 37607822, 34771256, 39083294, 32976477, 27416031, 15929861, 21439449, 24293745, 34368887, 36344941, 24510898, 33446876, 26812763, 31384177, 38561705, 34036280, 37821653, 36192019, 35551786, 38038383, 32030341, 28389300, 31520951, 29791785, 36874199, 37766353, 31929655, 31762069, 24195825, 25413700, 28336882, 35717926, 35937579, 29069602, 38376876, 30603190, 28085426, 39584228, 29840775, 37140274, 33264676, 23818450, 30994707, 37228565, 36514175, 34890207, 39597785, 34227254, 33580273, 24357035, 25920932, 37630054, 39876504, 37642193, 37174371, 24089409, 31555834, 28748088, 31573399, 32363341, 36264068, 38458822, 17348670, 22309819, 34122196, 29441243, 23270893, 30908789, 24977208, 37206649, 37768741, 36487459, 30940773, 38741288, 23142933, 38357632, 25210819, 40105090, 34377683, 39605156, 33362697, 35747137, 36484575, 33850718, 39762576, 35448516, 26500435, 18196811, 18900108, 25050015, 29307784, 31255865, 37877822, 11881165, 31587170, 30521994, 35047384, 33270486, 36314144, 39404740, 19844985, 39647978, 29826245, 34439437, 37998243, 32670187, 38222743, 36102348, 35711588, 39491225, 36225950, 36247002, 28567156, 40140933, 28551353, 39779832, 27109798, 38339485, 24054495, 30682601, 38572534, 28112848, 23704622, 32729701, 25968118, 15800675, 37224002, 31148758, 38228090, 37938502, 36924127, 39555127, 37713729, 16067144, 31709651, 39339047, 38241835, 25516477, 36627601, 30146532, 34015185, 26216087, 24657661, 27219828, 15349795, 38041043, 16714069, 28815867, 37596120, 38575481, 38139258, 35813200, 31586162, 34926546, 37009788, 32556178, 34096505, 25634489, 33388595, 33189607, 25772977, 30978550, 22995762, 36620256, 36099873, 24153278, 13703720, 32929927, 35747533, 36928852, 33966608, 25139255, 32386791, 36060828, 23436345, 37382643, 33124117, 39094651, 20335180, 37502463, 24620616, 37060385, 33929507, 33979735, 21055319, 23071918, 28421211, 34457281, 35135701, 25726168, 18065948, 34968223, 37715273, 33226158, 27166375, 37610140, 18138693, 33815944, 39880953, 38898744, 30782551, 34163478, 38252423, 31747832, 37053065, 38677615, 26602888, 30311211, 17152719, 36180695, 21421556, 29793762, 34762494, 32350114, 38886698, 25029822, 36114027, 39418892, 29870083, 34193688, 15545980, 35611786, 39477397, 32927574, 39646728, 38616916, 21117876, 39606534, 23630380, 31070641, 39521461, 33608708, 25121839, 38220418, 31011971, 34533237, 33747484, 29759734, 27857842, 33761432, 29437001, 37332995, 17079885, 22728902, 23434365, 23644100, 32371571, 15888648, 39221996, 38733477, 32487464, 17997634, 35530577, 26601576, 25825112, 39981934, 31304063, 15496454, 29936563, 36545531, 40057128, 32250200, 39084152, 32360641, 37197576, 33422245, 37890389, 38044866, 28212435, 21664701, 29246858, 32261817, 26205922, 30511893, 31330825, 22361408, 18291713, 38823331, 20413313, 38187919, 31912968, 35347285, 16822066, 25344799, 25393155, 26484854, 30986989, 35268817, 36509822, 37630354, 39890417, 39781262, 38873458, 22124318, 17315737, 30098482, 38586488, 33995707, 36290660, 39653812, 30942755, 39089693, 37418743, 38533882, 37349227, 25983831, 36281716, 31434285, 35014116, 31820821, 37596596, 38929737, 38902553, 31946709, 15741759, 35612931, 35485629, 27161245, 21030067, 36044890, 24053576, 27047504, 27358594, 36411724, 22111753, 33831395, 30677815, 38594027, 28140771, 39834749, 40013975, 39967540, 28271082, 38208095, 29688899, 29806330, 38925559, 32517422, 29096381, 37418470, 33607563, 27986268, 32487776, 30822047, 37266512, 25046252, 34698458, 40099777, 36024809, 19564444, 26571085, 35109893, 28840036, 20997082, 19864028, 36495903, 23760604, 36081217, 35075320, 36189217, 17228215, 19786040, 37885882, 38743551, 33635676, 38383672, 34680713, 39798256, 33004929, 24124418, 22385238, 23680681, 30059350, 28114630, 32000987, 33857132, 34070159, 39604461, 38827835, 37235477, 14380371, 39451385, 30223758, 14144867, 38833837, 35510143, 24798571, 30111036, 33021542, 30381396, 37307616, 36188073, 30125515, 37462537, 29906127, 29901993, 35321812, 36994987, 32118309, 37661437, 25586085, 38455278, 30538915, 36249891, 20480774, 34342325, 36802453, 14077355, 27424178, 26972961, 27989737, 34754353, 27250900, 40028497, 39291475, 35762600, 24355388, 28401612, 31337791, 37307403, 32106092, 29605352, 40082844, 37950516, 26869574, 28976433, 39993460, 34495817, 29678154, 31374928, 33448661, 26342713, 39447644, 39767718, 28413400, 30634418, 31665383, 39590152, 37633306, 33699680, 26147933, 29707002, 29876105, 33425495, 17328655, 36878064, 14125172, 31239174, 39799712, 34344442, 33466259, 31605979, 35208874, 26044839, 31618211, 35635870, 30978516, 32112636, 39147379, 31374835, 37123279, 39261932, 24689047, 31710454, 12269158, 38560126, 28637321, 35416188, 38885214, 29530355, 37166111, 33585928, 22995677, 38830611, 28726839, 23924888, 35561046, 32314215, 30989328, 28067933, 29087284, 17661578, 30870072, 38470875, 38818626, 39239506, 34598582, 32978536, 25388745, 32204631, 33538637, 21071199, 35510289, 28709447, 35722267, 21259874, 39004736, 36399447, 33783072, 27462227, 29524360, 38300461, 28909034, 26511109, 37332302, 34274692, 30289631, 27291950, 30808430, 33448001, 26855617, 17380304, 22359962, 19962228, 33379439, 38462214, 35582482, 17820260, 38854437, 22639921, 35523171, 33617439, 37309902, 27370731, 36585563, 34727968, 24327836, 16004266, 35655671, 33662786, 33939643, 23952352, 21457917, 31050714, 31247460, 33996512, 35591993, 39370879, 21182759, 27866176, 33999024, 38378966, 14813289, 26593908, 34847494, 27479800, 38916188, 30604893, 34038924, 39378331, 36875978, 24382078, 23892443, 36898433, 18495846, 20206835, 31617597, 39437504, 23780575, 36566822, 32488290, 27423644, 29180287, 38963102, 27474921, 36188208, 15390280, 32746248, 16303467, 30311776, 33391983, 37538631, 36180477, 34180881, 29747850, 26703674, 12436895, 24442236, 39494152, 20683491, 31730370, 31612253, 34982316, 29550414, 36000993, 26130442, 15322632, 39189794, 36157774, 32152173, 35504093, 20533619, 37534316, 32490929, 37410614, 33444875, 39173560, 38014604, 36900648, 32260044, 15952291, 31976669, 39000115, 26559858, 25144146, 12844529, 34016210, 34802972, 27715195, 38876816, 37396264, 39415195, 27908868, 21066464, 18915941, 35990721, 12324162, 38658752, 34161337, 38656625, 30515204, 33027951, 38255066, 39563507, 36926119, 30501455, 31300406, 32785721, 29571949, 37906939, 29687406, 35919907, 33900892, 26617227, 39477393, 36314175, 12053003, 34516010, 35295741, 37275017, 35867062, 34846146, 30930541, 22901553, 30152214, 22901957, 28283442, 31973895, 29516616, 26900940, 30293881, 39348317, 27497687, 26795627, 34093917, 12227483, 37104740, 36971174, 39061643, 32866925, 28741546, 36723702, 30196689, 33692532, 25536133, 35424567, 22681615, 22299014, 28398271, 26679380, 27574563, 37845617, 36577606, 27637825, 19453994, 25928359, 36756738, 39154230, 20711180, 20765682, 38199537, 38274014, 40009022, 27569126, 21361409, 22247389, 30587026, 21104592, 31054445, 37370942, 28009732, 32104222, 31039829, 25670760, 25224961, 38545544, 16852911, 30749022, 37700808, 33203746, 19692113, 5515021, 27335092, 37857689, 34404495, 35488908, 35434387, 29351619, 22749007, 31073889, 29907747, 35090498, 36122268, 36968665, 20942533, 32001596, 29446844, 26033358, 34026705, 30978022, 32247643, 33556050, 39358661, 31407463, 26412193, 30582086, 15112677, 35917818, 22067205, 39441484, 38942790, 36421148, 38861323, 12133075, 25468181, 31663165, 38904340, 32138627, 25272133, 33182329, 25697026, 28694760, 39965632, 37200157, 24158748, 39913543, 22144959, 18806875, 22095860, 27095568, 39625302, 34128232, 30354637, 34116626, 26596101, 25977385, 39197606, 33524000, 37021063, 38891000, 37719833, 33885780, 13354725, 23272529, 33694602, 24746628, 30782011, 40123689, 34964534, 35640455, 34610364, 37521354, 29782851, 38184886, 21654635, 34278235, 28663005, 39522333, 25234782, 27305663, 32544774, 11040626, 33226017, 33542977, 23093664, 32737666, 31995175, 26475406, 30811622, 38836154, 12373840, 27541290, 39287534, 36284770, 22364943, 38019397, 39475566, 36731813, 29065097, 37078548, 36674150, 31520952, 33994316, 37910231, 14665828, 37865007, 35330387, 37975694, 23457513, 20149544, 12497402, 35543966, 24439715, 35344564, 21938440, 18643030, 39377195, 38487074, 25753406, 26860590, 11973741, 33292220, 38905812, 18346673, 39892399, 23895408, 31259075, 37106828, 34466919, 35484458, 27468892, 22395187, 35145773, 34197198, 29973999, 15118131, 29869559, 30530681, 25963431, 39761488, 26897098, 36213908, 32883104, 38707242, 39619295, 38006786, 15856213, 35082943, 39746316, 24618862, 39118521, 33659417, 19436789, 38508294, 29396596, 39757188, 32137318, 39802038, 38778266, 30332683, 34986276, 27563213, 35439726, 23134911, 36678611, 36881326, 24234215, 36141380, 30318229, 37146810, 22785142, 39353758, 36533490, 28482553, 38972934, 36149655, 38619904, 25298405, 29177656, 28748402, 37742085, 39517013, 36631163, 34313081, 39156506, 36376276, 19275808, 29973328, 16840577, 11773862, 28254225, 31161843, 31748061, 27003711, 28275681, 33833030, 33676133, 26920815, 22173872, 31774835, 32353732, 37470503, 20888226, 31894238, 31842810, 18082398, 32768331, 35746847, 39581893, 25447208, 27914036, 27296380, 38604953, 30470479, 39749592, 19696047, 38353453, 23706412, 14412181, 20104874, 24525270, 28266329, 23236187, 31162701, 22822434, 24869924, 31764183, 36047634, 24214972, 21435176, 24577022, 26020480, 35799709, 33093934, 30381427, 34246784, 25011444, 30682918, 18593427, 22914023, 26301868, 24769858, 32195880, 27656824, 37175719, 39601251, 21040766, 28373416, 31547071, 21412280, 33089726, 21257067, 33376306, 37464656, 38577126, 22093962, 30340277, 35834927, 35077901, 38237005, 35373808, 35066166, 26788854, 35180179, 25927272, 38983427, 20985092, 38129027, 38774134, 32952542, 32617811, 35549931, 26121009, 37359790, 34662606, 13728208, 20455163, 35947561, 25517342, 30314153, 29507846, 21307832, 37757844, 9944436, 31159927, 27420263, 18744212, 33436763, 21280755, 13736988, 33767216, 36571460, 38374897, 28398345, 22323697, 37409920, 34701974, 32855432, 36551457, 33466486, 10009468, 35247687, 38947522, 35121810, 36729392, 33267670, 15581829, 13027147, 25792619, 36318527, 30833312, 36459105, 29140555, 31613018, 17398216, 27069003, 13592618, 14941366, 27937037, 36467186, 34767635, 34339111, 35137952, 11586068, 37633523, 33873404, 33544910, 29643620, 39831410, 21977965, 20444087, 31213303, 35394564, 14897100, 31502191, 22077328, 23591254, 32725271, 33696951, 36945237, 28639551, 36495079, 39835069, 25788740, 29908874, 38405153, 35386022, 38862832, 39284989, 19507088, 29673396, 15617496, 33655127, 30539352, 29627143, 31979955, 26870712, 36774602, 35017599, 37125130, 29474195, 20711838, 38505250, 31363908, 23014027, 25917460, 38646853, 25830588, 32425334, 22233303, 37801272, 15125343, 35098606, 36160573, 40092294, 26789639, 24129200, 37036186, 29454432, 22169783, 17938468, 33509961, 24826368, 39549338, 32868177, 31879298, 31637289, 39076360, 36637789, 35512347, 39125695, 34483122, 20262290, 20331449, 22419071, 24188060, 37086391, 24645153, 28863779, 39235712, 33413155, 24716752, 34518141, 16800824, 37878332, 24917910, 21859501, 28910089, 15630302, 37431232, 37146119, 36532389, 34089087, 22412033, 35264267, 30369632, 27793600, 20391888, 35980705, 37435752, 17838752, 29394905, 36439057, 19696017, 30503321, 20028560, 31171679, 19129005, 37735898, 28579535, 39504351, 24066782, 39998850, 27711078, 33649553, 16504234, 38600508, 27242061, 30745160, 38841315, 30519487, 38676968, 38848222, 33299988, 37363596, 32896387, 35492624, 36928444, 38978461, 32028995, 29424154, 30616872, 32744997, 28713281, 34189520, 35924534, 35581528, 37585293, 18199288, 31578062, 32805267, 38060486, 34879145, 36804008, 39232953, 19330327, 35288801, 38985888, 33248887, 34794957, 23190799, 38512205, 22190120, 33880052, 26390005, 33621975, 32660583, 26723038, 20639631, 36918664, 29438471, 38634290, 33346206, 21201618, 34616217, 31365852, 27453024, 32685243, 38433934, 34251068, 39089609, 34095310, 31989381, 33193792, 20253971, 37926571, 30759680, 17698975, 39981943, 31817434, 39729258, 39880627, 31518937, 19530708, 38668737, 35790998, 38250323, 37685743, 37593550, 26085760, 34641056, 20063796, 30592868, 20600526, 31149424, 36314747, 38935541, 30256774, 39396200, 38305519, 20702716, 37123868, 31239071, 29903025, 21635915, 39970703, 21574882, 35376575, 21469494, 29742975, 29803480, 39245437, 39317373, 32231210, 8957175, 19847930, 34476705, 34269098, 34968238, 24912880, 22674747, 33863063, 38104350, 18212247, 29325458, 32316558, 28979794, 34057641, 17001389, 40040364, 21726275, 24973913, 34014122, 30943580, 32315071, 40002355, 34489141, 29712416, 36494297, 31280122, 36041410, 30967885, 19184833, 38054160, 37666731, 35015533, 39945178, 29043340, 27430045, 18056473, 33356885, 36402578, 36439198, 33934261, 32375165, 33662863, 31830773, 17325878, 25513211, 31439314, 26265819, 39202874, 36407436, 16741448, 16989946, 27905683, 38386835, 35251118, 36723538, 36589020, 20710479, 27673337, 33833502, 26110801, 27383773, 32651860, 38018975, 36185509, 37098025, 36272123, 33867408, 35641101, 36067894, 22736014, 26042883, 30266899, 35187444, 34319011, 36973618, 24069213, 33528394, 39491956, 39335149, 36909457, 38699581, 29127376, 34498930, 22800079, 40102285, 38553919, 29360128, 39766886, 39535777, 26884621, 39479732, 39426428, 33660905, 21276105, 35057984, 35532237, 23408591, 37594294, 32418216, 28771365, 16005883, 39387954, 20868232, 18617854, 20121712, 37000569, 31003229, 22921952, 39398251, 30229044, 31689147, 33470130, 32911426, 30405420, 31211674, 22616888, 30268875, 39953068, 26794086, 18946452, 18949925, 35776259, 34846060, 35723472, 28506130, 38101702, 21725612, 20651045, 15522310, 28377277, 23308582, 21633580, 28751887, 36088671, 31660972, 11194610, 32842728, 17530563, 40051567, 18732264, 39907981, 35100075, 16168371, 33714050, 35434092, 24032282, 17432944, 26842550, 31620667, 26163563, 38271612, 32713450, 38829702, 25506823, 37843135, 25252200, 39481516, 36218971, 35600064, 32740556, 22255696, 24809125, 34983826, 29245142, 33344359, 36621778, 31260686, 39969549, 38623368, 26062553, 22234070, 25247276, 33922664, 39667277, 34378419, 38402906, 19988811, 37684151, 26593344, 30948308, 35181517, 17578115, 38490479, 30801630, 37462473, 25271660, 29671726, 35769055, 21022692, 38571306, 34071227, 29169310, 33004573, 38853916, 31449938, 37241130, 33817842, 36706334, 37053186, 33074132, 38270216, 26318159, 39057333, 26917840, 31132453, 22526849, 37304563, 30564704, 27878780, 33609913, 33113947, 26108387, 36785817, 24920873, 31807945, 33442332, 38210933, 22235245, 37949434, 25998334, 22405252, 28341387, 39584544, 26200256, 32824343, 31296285, 28736726, 33668675, 39648163, 36197842, 31685295, 33649930, 39351168, 38151013, 28266403, 25785813, 34045245, 21001041, 13187778, 18382619, 26879082, 33299458, 39698097, 37157370, 36370247, 26268191, 27674501, 17841149, 33475690, 37259200, 25952790, 18905057, 27472548, 37492705, 33458959, 34169307, 21469661, 28652276, 32744558, 40041076, 37572611, 17609540, 28562721, 25981251, 36156284, 31701732, 30418959, 36532714, 37706623, 39730906, 36401596, 23471527, 16923281, 32946908, 34173859, 20889337, 30607272, 21167478, 36723625, 23508577, 39084244, 23205005, 29501102, 16928339, 39860219, 27673654, 39992771, 39818559, 36130078, 30585502, 27421256, 30647247, 21919877, 18973404, 39104113, 34556180, 29370211, 31513207, 37260778, 20461004, 29390738, 28696213, 34268418, 35611874, 37849642, 30924140, 34990179, 39040544, 12504951, 34304649, 29298789, 16533421, 22394598, 30452826, 27524139, 33456364, 32246922, 33203943, 30183326, 27163830, 35138903, 24829681, 34590037, 36159354, 24719730, 33960407, 30744308, 32319460, 39559603, 23021807, 32230656, 35656927, 31650913, 32951597, 37853623, 36573051, 34073280, 26823556, 32163063, 39501303, 30657137, 35318700, 37070759, 25430995, 28733490, 29188578, 37327748, 34474285, 11762815, 20751334, 29039705, 34133174, 12945971, 34872855, 21514191, 36062558, 34532954, 38922952, 38859397, 38956660, 24265998, 33553765, 40113979, 26645515, 36114619, 33595230, 38461103, 36337111, 39678854, 17712163, 39153266, 27080967, 26760975, 16583668, 38733732, 21701661, 37823571, 33404272, 36230571, 37090026, 36488999, 39282355, 24274085, 28626594, 33098176, 38419286, 28928435, 39426976, 36749543, 38574596, 30016101, 24976274, 37242273, 30781698, 37767030, 33806084, 25677929, 25671440, 30958670, 35203484, 34091877, 38558763, 27304538, 29147443, 39649649, 32574222, 37497559, 30605909, 36394194, 35388785, 36483780, 27986447, 36388687, 36462828, 35245869, 24473905, 30413714, 36578176, 17748570, 23497512, 29012223, 35002871, 31229499, 27857475, 37911483, 9927711, 37304449, 37447347, 39126941, 39669824, 35572306, 15125407, 36458401, 39103972, 35071403, 27112591, 30641450, 33175702, 26786960, 20589302, 34564022, 25041905, 26469470, 39458598, 38338028, 37666431, 36457905, 38645562, 38704545, 39246615, 9941288, 39312917, 23156640, 28078118, 34507583, 24676462, 38582579, 32043042, 32384241, 29566603, 39561248, 18721547, 38780269, 35741182, 28142420, 37345879, 29770914, 14688306, 23190156, 39000429, 33168062, 37572827, 26948169, 24650612, 38834031, 31013680, 34730216, 32749211, 24037507, 31702254, 27934979, 30202348, 32237898, 31751230, 18954752, 28433559, 24596207, 38435975, 37196010, 39351036, 35016666, 19990182, 39309385, 39670027, 33417991, 38152389, 26790050, 36195485, 40082726, 24475094, 37529587, 38031657, 24410243, 30539679, 37997627, 35884743, 22727901, 24813173, 36388419, 38576864, 33330862, 39851416, 30311513, 24829860, 22481271, 25778680, 29311659, 39292624, 32253798, 19790790, 31785980, 37044923, 19744527, 39669101, 23770260, 32213219, 26907305, 24002820, 24795665, 35400861, 29114189, 25289326, 20209600, 34127339, 39503301, 36558954, 38297266, 35687215, 32437166, 34425607, 20024584, 31121803, 39845028, 35182755, 36333402, 36365323, 27950891, 33422452, 31942886, 36358688, 23302688, 38858664, 32052325, 14092798, 12589481, 36692861, 27617078, 18955250, 35383388, 33666817, 25152470, 39686957, 22258491, 36620029, 13611065, 39189416, 32960520, 39703962, 38696227, 39080555, 34685294, 21650809, 36311011, 31954393, 27693117, 23917144, 33342592, 38652881, 25249033, 30788061, 32317330, 38353567, 27218543, 39620523, 26600055, 31427971, 19632075, 24462706, 32342707, 28364136, 39761916, 38295231, 20500441, 17778394, 37812416, 32067054, 20053801, 38895856, 31699776, 26435668, 27813019, 24574031, 23853423, 29502328, 37326441, 36981873, 34199707, 34806058, 36695757, 23106931, 37865686, 38368759, 16952632, 34752611, 36097341, 38771946, 29972946, 30991532, 26227392, 40095632, 38875752, 34243214, 37949852, 37253302, 33314109, 33917039, 34464577, 34105125, 35651372, 26475384, 25896654, 20914544, 35716635, 20277886, 21264291, 36333491, 22963345, 26601326, 34176835, 22996257, 23688430, 39575947, 20179393, 27627397, 20477190, 22665261, 39937650, 36213383, 34807461, 16050358, 38949320, 35138740, 36717416, 27061268, 30722711, 33804410, 10797734, 31892550, 35612984, 27566571, 38582411, 32155903, 36863081, 21271581, 34932862, 32806711, 37510139, 21908375, 38887666, 17557074, 17626224, 26354329, 37787289, 31588453, 27238066, 31562706, 28664121, 39301691, 29477397, 25072059, 18970643, 31969357, 25738158, 22162391, 12190874, 32368895, 28714469, 38255796, 30261160, 36955185, 26243432, 30107738, 35036124, 36422725, 25272468, 37333614, 36730939, 32683083, 28876243, 31437256, 33729242, 39879857, 19852558, 36595475, 19641786, 15489011, 20691508, 38836465, 25264510, 36624473, 27300070, 27451591, 39187788, 24718730, 38297428, 37238334, 38175724, 32757194, 29597857, 21046740, 29700700, 37483238, 21304492, 29820294, 35725770, 39303710, 37155800, 21342658, 28997009, 37733225, 22382023, 36514888, 24876906, 31706013, 34734694, 31141292, 24859981, 36028421, 30215612, 27747410, 35332177, 31632050, 22308688, 39922633, 31258686, 21584434, 28457149, 37504564, 10706533, 21546739, 32849355, 34004922, 31831519, 13279690, 33998740, 39668193, 32360505, 32078737, 36518092, 17921010, 38067726, 35754638, 30099454, 39067831, 27817718, 36861380, 32533944, 27208413, 37662816, 40101519, 37380694, 36945942, 24305044, 38144056, 37289426, 38775494, 37649829, 35465741, 33021073, 39086440, 39615506, 31552270, 37784660, 29785797, 35096483, 30290595, 30063051, 25209357, 39532673, 35959692, 27222271, 25125031, 36586015, 39081044, 35420533, 24102330, 32385909, 19667927, 36452077, 33183292, 14286807, 31941292, 35653544, 34832312, 37245898, 33789876, 29874734, 28028557, 32865978, 24225914, 27626013, 24058865, 38114654, 34328702, 15859961, 36927013, 25605518, 28231398, 27557658, 39878426, 26481285, 38294332, 37968785, 13478597, 30146203, 35840458, 27241253, 35384358, 30098729, 29886466, 12393387, 37466159, 34089548, 37121515, 34228204, 31112619, 30876193, 33066722, 38265821, 38441760, 32446698, 34329583, 21977483, 23547770, 34195014, 38917604, 12219771, 33271442, 21467429, 29392235, 16968313, 37538080, 35156662, 31994714, 39110470, 30953299, 31760941, 35817303, 30710481, 13298633, 35182717, 34280094, 38140910, 38752135, 37481563, 36646923, 39354031, 36383821, 30178254, 23718154, 35136041, 38401023, 27660583, 35733129, 33129861, 38616263, 23512339, 39212620, 33151463, 33385475, 33129328, 28174580, 28804883, 35808465, 33026003, 29256979, 24761998, 15972264, 37862141, 30419040, 28569548, 21003346, 37974475, 29077188, 32679481, 39459541, 37232494, 38883465, 38637665, 34663895, 22190638, 38243556, 39272271, 20363777, 34504033, 33673876, 31863702, 39302945, 14525942, 35107780, 40117702, 30486141, 32589829, 38764425, 32124557, 37666575, 32387012, 27996070, 39960728, 32750970, 29042276, 38894418, 28940835, 38562435, 22449049, 36284913, 35804742, 26042266, 24484774, 34997761, 37705957, 29749725, 34589332, 28309828, 33140496, 20571923, 33184341, 23997281, 34982928, 38333954, 33113479, 15392856, 26678467, 37977118, 23158447, 36209830, 39905822, 32617067, 33448807, 35661968, 24112729, 31783392, 37416924, 36243222, 22569984, 25529730, 29279293, 35402074, 32730584, 38218063, 36776318, 38100153, 39937810, 39564956, 32994879, 36083857, 39421350, 38087790, 28667154, 25705379, 32989376, 38459901, 38278580, 38737561, 34950066, 38560748, 13691485, 38190472, 22201514, 29356076, 31702962, 10972410, 36304843, 33720754, 34391282, 22290000, 31210078, 40052904, 21403398, 34781380, 23539832, 13354866, 35868460, 40121350, 26618877, 38731858, 38258594, 39207134, 38930932, 37449584, 38278603, 37669335, 26120553, 17046122, 27176562, 38838519, 21277887, 39949897, 29402688, 39560578, 35014784, 35327450, 39859975, 24977952, 34069474, 38958639, 39054413, 30788526, 39623187, 38354213, 33135459, 35682719, 32341785, 24737722, 32051012, 19630328, 37080132, 37442993, 37715246, 31997560, 39577617, 15102158, 30829270, 33313733, 19567179, 21834676, 38487334, 28161356, 36092889, 34070646, 20180324, 26854091, 19615760, 39315053, 37642946, 15242746, 34994832, 28847494, 36792281, 17046823, 36004976, 34854856, 24044734, 22342285, 39485848, 38647716, 27260339, 36046638, 39840108, 40018755, 37586550, 36434867, 37232415, 36851845, 21462876, 30835379, 22862273, 28906473, 26646191, 22621716, 32974272, 33812656, 27640202, 24343585, 33289664, 27070316, 17933282, 22830634, 33614041, 16637271, 36255281, 36744368, 31146338, 39301465, 31567218, 23430950, 36925354, 37039878, 20017708, 18746244, 18295314, 38470124, 31885333, 34726569, 30876047, 21366232, 26911426, 38798058, 28377574, 38721087, 36051259, 29892707, 35177768, 38277852, 36454339, 39942693, 37490717, 28218698, 16474443, 25387551, 36280646, 25625100, 27823013, 27778342, 27325652, 15124439, 32440716, 34974615, 22369020, 37416405, 24036066, 25699669, 37381862, 33162320, 12322869, 20853179, 31331358, 35329206, 23573052, 12047418, 30734731, 33628865, 35763048, 30025088, 30312566, 24807588, 38374677, 40138573, 34535081, 30308838, 21782642, 33061302, 39401709, 24745879, 30486417, 21763660, 38095436, 18079563, 36285590, 34983707, 37596714, 40090619, 30523521, 35607556, 38241933, 37479532, 37331127, 36891203, 35924630, 25366364, 35450755, 14808945, 16158795, 20291783, 38584710, 28565398, 25545050, 33599156, 37026109, 37423716, 37057187, 14197088, 39372252, 16591869, 35287780, 33294502, 37781415, 19799893, 36331562, 25951581, 35068548, 37623713, 23898631, 28820270, 31750161, 38676558, 20805299, 20149413, 39173028, 33921795, 31702964, 39931782, 30924143, 33019879, 40001325, 32552843, 30272708, 36410287, 26053849, 37686052, 39534941, 27462337, 35971951, 22522551, 35658085, 30621663, 14755116, 37847521, 27180423, 29909472, 27012296, 34406604, 37009287, 22199589, 34878948, 36142959, 24851685, 38711147, 28294803, 22253632, 15705111, 33882642, 33384734, 37815612, 23342108, 16626082, 29496153, 34872982, 29229600, 25852504, 19214301, 25289132, 30249859, 37318892, 33411055, 19852670, 36071525, 27801379, 30521503, 20062684, 32748910, 38690358, 29267556, 23855648, 32216874, 24701217, 22346552, 35164193, 21018654, 33044175, 33111299, 22699184, 32401054, 39247527, 23587699, 35703320, 30766640, 31188748, 29070423, 38369638, 36671519, 17128302, 28990226, 30464454, 37787915, 36370642, 17644100, 26128802, 29100599, 39988589, 37794151, 28320850, 19804241, 21396110, 35971335, 37348409, 33823091, 39598618, 25793709, 38402890, 33638377, 21480041, 35584195, 39374020, 31135831, 32249960, 22030104, 35964689, 22823673, 24661392, 20296056, 30821316, 18203915, 29085544, 22493394, 33727621, 25746147, 30222533, 17913754, 38520482, 17018638, 36666441, 33942067, 33907729, 33575902, 35415039, 35124521, 35926349, 24232618, 37921237, 34866643, 14430263, 20422296, 37533200, 29086067, 29930340, 28725763, 13261175, 17328186, 39592295, 27362176, 15997379, 31510379, 16711716, 35332634, 29583312, 24020202, 32676027, 29149667, 36225517, 34666001, 31141826, 10867028, 39475978, 39931243, 32998355, 34361892, 30818341, 34812753, 23195250, 24887337, 33223527, 26650850, 28892244, 38517334, 34362939, 15713427, 19371692, 20648346, 38599987, 32122300, 32250892, 25530142, 33708734, 20080186, 38884164, 33851603, 39272470, 36009555, 34515714, 29972144, 23340950, 29778745, 36491546, 28318398, 27931410, 33940808, 34830921, 36599518, 17020987, 34929886, 28798504, 35300343, 34353606, 37422388, 33376937, 39626818, 21482546, 40061493, 33447988, 31610889, 29280480, 39248331, 33117876, 33068007, 39697349, 12520727, 20225110, 36927910, 38968811, 29039488, 14060111, 31846081, 31419106, 36226197, 22361666, 25128537, 37647961, 36909107, 34469237, 25062046, 35145472, 22914367, 38061426, 37021686, 33876756, 35427161, 38345767, 36459148, 31184231, 18825412, 33173429, 23760223, 39102563, 32138205, 38672018, 40081709, 36750358, 17197834, 25979133, 25694893, 29504573, 19293316, 26886653, 29592042, 24128167, 30465551, 33676113, 39081327, 22579019, 32115944, 23956390, 23574614, 17142304, 30717415, 31813994, 37874936, 20490274, 33763963, 31816216, 25265961, 30230548, 25250784, 28778124, 37524704, 24562869, 33042633, 30326423, 25126805, 37535139, 26200695, 36493668, 21081042, 30379789, 25997078, 33467596, 32639805, 37756265, 39075173, 29229018, 37354472, 26963654, 25119524, 37707617, 22798749, 28967219, 32786832, 35708920, 39434733, 34597767, 34704156, 32034689, 18280940, 24412510, 35779047, 17093090, 20303323, 18996714, 27863595, 39366878, 30487369, 31140545, 29395086, 32025102, 36957996, 37855450, 22798934, 37127354, 39132712, 39952715, 30346833, 33990495, 35281801, 38857941, 39994686, 39366558, 29233283, 37234475, 15461771, 38809705, 38018877, 34296292, 23353248, 39049148, 32119198, 25017963, 39913479, 25661754, 37972647, 26207566, 37287938, 24634428, 37919725, 15557242, 39684548, 35473028, 21500596, 26530640, 30304887, 32663272, 39850550, 37845306, 11668446, 33991750, 35329464, 26977476, 17929426, 16049307, 39089382, 39665074, 39844967, 26410210, 29173350, 32189806, 23232463, 34720539, 23690284, 37231914, 36896968, 37504605, 33011475, 38144825, 38423676, 39797979, 38582356, 17476732, 37739621, 40139184, 17618981, 26342228, 28587377, 38884538, 34568874, 35243575, 28901948, 38701573, 37217956, 34259133, 36435916, 29856638, 18882501, 25611220, 31313980, 27097925, 35272145, 40059195, 33366496, 38601014, 31207295, 31705142, 39104730, 32238554, 18433142, 34275371, 32174535, 34187739, 36911075, 37312889, 25386870, 39034351, 23843107, 23279238, 39374871, 37801768, 24442832, 26998780, 37761238, 34668109, 29568110, 30608645, 31436561, 21011571, 31060885, 36269323, 35498313, 36758077, 36024071, 12619215, 25393062, 38068814, 33818388, 23767376, 38555215, 39462978, 36311169, 16968433, 22211737, 30900134, 39701779, 37765140, 38656609, 34363696, 17705796, 24747399, 24922398, 35960511, 19567525, 38778498, 17344836, 36752448, 13924801, 34673581, 27070933, 38018186, 36182734, 39565307, 22545191, 31524102, 14778042, 14390224, 35075913, 16384332, 28438931, 16159145, 33968068, 40020566, 24909906, 30851991, 39569791, 28180301, 21513659, 27305324, 39166546, 27553685, 27660011, 33044340, 32627384, 33672451, 37637983, 37758768, 34866856, 34819837, 22490285, 27534402, 27873190, 38679614, 39303287, 24883586, 22593198, 33376754, 34888058, 36602743, 35939558, 29382398, 25087370, 15751348, 35936215, 35910441, 36439620, 20087713, 33461664, 36599020, 22847304, 32007056, 39386825, 15794710, 37894807, 35184681, 32488570, 27916597, 30598562, 39887382, 26801538, 36701253, 29165601, 32342879, 36613747, 31436253, 37416942, 31184329, 36201337, 36401496, 22542312, 29725495, 38243071, 39065904, 39078282, 39125665, 35366623, 39745627, 33312706, 38619427, 39358024, 36319573, 10015284, 28091290, 39492004, 22273242, 38443402, 24385360, 25506269, 26479860, 34391644, 28023384, 33420961, 35577092, 39254012, 21057397, 38886080, 24353147, 39186067, 33809547, 35853170, 23619433, 38596056, 37888850, 28124187, 33116343, 31993186, 15982536, 36457683, 38532978, 29949638, 39158699, 36338857, 23932479, 32931816, 37622551, 17141828, 21838181, 25647546, 27711001, 10715965, 38217462, 31925572, 39172403, 33839980, 25168058, 24374062, 13956564, 27770681, 39092584, 23497953, 28837057, 38638565, 32124294, 31360578, 36960519, 20249046, 37564977, 24959358, 17806649, 38776699, 35444052, 38117868, 23255003, 36371567, 18209851, 35439613, 38944673, 38593801, 26402860, 39316910, 37900781, 16729483, 38545828, 35892330, 19413016, 39737545, 14089039, 34580859, 17002186, 38564498, 20129598, 37340391, 35781933, 23436681, 35402439, 38565592, 34026089, 40101925, 23249610, 30562678, 36389196, 33111727, 14558387, 21643938, 16938441, 32059911, 38570268, 34266196, 39050539, 34217715, 39339935, 23755146, 31907571, 21902080, 25633830, 36489711, 28328636, 39668202, 35942709, 37226816, 26880989, 25383397, 23869905, 21028819, 31410388, 34332863, 35563826, 39349216, 38807890, 31891423, 25649412, 32190009, 30689236, 26754072, 23800080, 30810620, 37922653, 23344498, 22797923, 13779308, 22052337, 39135472, 38003927, 34288822, 38359124, 38263994, 35657516, 29972894, 38827141, 20016360, 37857531, 31304499, 38477990, 36509763, 40131360, 39624252, 32501347, 23528025, 38151373, 16456751, 31484897, 34753873, 19758322, 23000418, 29832455, 33487402, 33736220, 32894747, 35298349, 17820071, 35283198, 19945091, 11295147, 22317443, 35158160, 22407203, 38314674, 37146823, 29489712, 38259953, 36109010, 35798862, 28915901, 34365564, 26257762, 26629095, 38014984, 35499377, 31269216, 38992275, 36342872, 25668977, 24060890, 39173540, 38153136, 25559745, 37013066, 32770216, 17827763, 31080167, 31332038, 31520033, 33127173, 19804282, 12147392, 32783333, 33059254, 23880138, 34023918, 39777531, 38493795, 28475454, 21051681, 39380738, 38595578, 28256714, 37094954, 23391652, 36488564, 21939691, 22870314, 29461185, 35960494, 26753524, 23393397, 34026362, 35181761, 31707560, 35901258, 38575789, 34344358, 35098297, 38510059, 33686399, 36652925, 38230044, 12734320, 35949412, 34667463, 23731564, 38612154, 18279873, 37194685, 34882764, 19026431, 19608868, 23180480, 22359750, 35192246, 33898225, 37612366, 38059130, 37229106, 19846984, 30308855, 27804729, 22106136, 39031418, 33411222, 31893152, 34740768, 33620940, 31543959, 31679108, 38142129, 33221655, 38246155, 18274973, 37906724, 30255308, 34152325, 19826013, 22137723, 23794707, 27370084, 23692419, 39724586, 22686703, 35631660, 37371841, 17193850, 22546425, 23600582, 37693677, 30233982, 38985053, 29802961, 22819666, 5486226, 35044137, 19257716, 19914937, 28590663, 26510634, 32137330, 38663296, 40084589, 25791053, 33672810, 34798232, 38328213, 25204504, 36820136, 36462852, 30857512, 16710999, 37888116, 29271257, 14016247, 40134664, 37909508, 19155718, 24122717, 32546731, 39587451, 33367210, 32765533, 24190917, 38676323, 20894525, 8966871, 22309807, 33618398, 20851225, 33524230, 38725032, 18366797, 28196024, 29886078, 30060616, 34106509, 14361634, 13937022, 30568304, 28841347, 31757057, 26006547, 37879842, 37917378, 13999850, 35329681, 12974404, 31719805, 34157811, 32996137, 38814873, 12498809, 12521909, 25144651, 28865352, 35837121, 27907902, 39358602, 25440008, 39323071, 29355105, 39469643, 37310530, 34095874, 37078580, 31572535, 32747501, 38599912, 40008455, 30384581, 30939124, 38770771, 35994475, 39227519, 38608970, 38774805, 13941472, 38133909, 29263099, 38574222, 26671931, 12519103, 29368634, 34377548, 40137140, 29573441, 21226031, 29816637, 32979793, 16288320, 24413550, 37744312, 30235591, 39049204, 18965026, 26493365, 29148189, 18358938, 25028113, 30751686, 36831400, 27188111, 39391597, 16982453, 19614400, 33091794, 34345609, 17998285, 26600352, 38236730, 37092187, 38773087, 15825981, 21055468, 39660651, 35959542, 29042013, 16466670, 38277928, 32739136, 39715910, 29094291, 37175022, 22977601, 17408896, 30586292, 25527241, 32892418, 16755450, 34049618, 28933537, 30673209, 36187684, 39138299, 27324803, 25565679, 37417865, 26773373, 39205200, 31742545, 11586989, 35891534, 28200404, 38269303, 28492174, 27939643, 36400473, 35849994, 38867901, 17454647, 38486144, 38451029, 31129267, 37219617, 20423974, 33781932, 35021477, 22888434, 39105282, 24613166, 22425313, 29386286, 28862412, 34561942, 36211836, 39910677, 27764378, 35651553, 39919704, 30782594, 35624258, 38101009, 33874043, 25459624, 34225611, 28828973, 38856904, 23840797, 38765585, 18172851, 37464054, 32655904, 19391713, 39002122, 36451918, 36792567, 36060881, 39271859, 18262900, 36937051, 35314887, 33748031, 39553271, 39690742, 28910851, 10449663, 32042116, 20107958, 16740887, 25746866, 21839103, 37394657, 29690701, 21426788, 14218728, 35879989, 37457827, 33346591, 29369568, 19670904, 31485526, 36525863, 37233732, 38407056, 38599012, 28190383, 20369978, 19365513, 31828321, 34696649, 33552454, 38437413, 35723023, 34466827, 10665889, 32039958, 32158990, 22782435, 36872386, 33575758, 36489343, 39028903, 35472254, 37754165, 39903090, 31614804, 23806863, 20063603, 39927141, 22048632, 38731480, 14349055, 37234438, 36095973, 35894576, 38852207, 20378041, 30811301, 21659944, 25517830, 26295422, 34004352, 11004088, 32608199, 31027362, 16269376, 22208218, 38136516, 23591267, 29588701, 40049523, 40007866, 34494780, 24236252, 38835643, 38681821, 33059190, 34725701, 33121180, 37233869, 37724225, 28412066, 31357896, 38278157, 37573863, 37811420, 28909986, 30789985, 32091810, 16301546, 18411012, 30295848, 23642406, 11794584, 28999433, 29113413, 27718358, 25543797, 26611343, 31258134, 39838367, 29014618, 19448153, 26845727, 39359272, 31332981, 28922119, 16074392, 37887560, 25508510, 26343815, 23800807, 38556574, 35484250, 37518590, 33238352, 26874921, 17729853, 38876511, 18939668, 32571417, 34814289, 35973782, 18290123, 31521971, 27581942, 24563108, 25247363, 38920257, 38383222, 37528762, 36192670, 39519167, 35974982, 19941963, 39714267, 35892452, 12645216, 39567712, 30905495, 38275373, 24536734, 27466290, 35932060, 13976491, 23646785, 24590142, 39373820, 32207474, 22952039, 38963734, 34483518, 26721353, 38297292, 34625318, 30960338, 40141895, 18318867, 30480076, 18926135, 30354425, 22451240, 38223461, 20033111, 32920127, 24954117, 38567358, 35072501, 34106574, 34564249, 29829427, 38606912, 35940880, 36630473, 39515589, 29440568, 39502345, 24230835, 21685093, 35295491, 31743105, 37593994, 33744934, 29425519, 19912611, 24203136, 22553797, 25909984, 36776893, 34782348, 31517728, 34502052, 27365601, 21205065, 26221819, 25449784, 38142399, 35209282, 34253633, 37891125, 33216180, 32121381, 19553464, 28759048, 37461082, 35971638, 23599077, 30903522, 11012981, 39429189, 36719812, 39922377, 37533170, 39291261, 35436331, 34638037, 22987015, 34371465, 24007762, 38678246, 29313788, 33979885, 38640664, 39887219, 29706740, 31470683, 26130538, 14867512, 33061620, 26932682, 33646808, 11197690, 38307489, 32913759, 32211724, 38447815, 21454209, 25288271, 34987632, 37724208, 38382872, 24741559, 37425819, 38961217, 33112048, 31930607, 34796178, 39246197, 39838026, 39123636, 38000199, 38943008, 19423414, 35921771, 24142642, 35678910, 36897233, 28901444, 25082679, 33274716, 40050491, 40039776, 37690859, 32245135, 39195043, 21961360, 37085656, 24089922, 35612918, 34804436, 37091587, 31750474, 39948757, 21805472, 25884570, 24266866, 35932896, 33967686, 38777782, 39050318, 28694208, 16820797, 32900014, 33479149, 33350575, 25413946, 23767883, 31122427, 37048494, 14416660, 29954263, 30214328, 34747517, 35167624, 37535037, 20772005, 38022220, 40063339, 38025341, 38020429, 27973890, 16220263, 37681119, 19322506, 38576674, 24593691, 38885649, 28397855, 31260534, 37843864, 21637477, 39098970, 17194290, 26221300, 37990019, 31450672, 19472566, 13261855, 30985858, 12907231, 29934083, 35678035, 39801241, 29926274, 29243328, 36583515, 27279154, 17431108, 24786209, 31425836, 27439023, 36515319, 38899630, 32640717, 22797324, 31348265, 37215876, 22650833, 34184502, 39730468, 35778891, 39412123, 39639794, 15210520, 22362010, 23577020, 20619851, 34618229, 33290070, 21666066, 33541960, 30653986, 39377164, 34782063, 38459794, 29803291, 23940181, 39238639, 36655075, 31590184, 31690076, 22537079, 32582851, 33989517, 34467795, 22534225, 38503106, 36291876, 38047366, 30500434, 23067771, 32897046, 16734621, 25043639, 33424203, 36685347, 31295740, 35585601, 34743650, 39354531, 39128856, 24574976, 29761484, 29243323, 31955882, 15771472, 28304881, 31747269, 36018827, 38304691, 24101525, 29308660, 39582209, 21381989, 38543952, 31969365, 39108690, 23458055, 29010597, 18362212, 28318491, 13000427, 31569814, 39748963, 35251190, 39002454, 39992653, 24884513, 38644511, 27151425, 31571830, 34301438, 33735874, 21790505, 24922663, 36042117, 18951414, 15016980, 19988124, 24908447, 33413082, 38799704, 33611776, 17261678, 27712482, 33285769, 33206745, 20764486, 36481587, 40000784, 13348640, 33182945, 39254203, 36145803, 33243749, 39151545, 29986826, 34013001, 12514590, 39549856, 38918596, 23691133, 32439853, 33707195, 24437166, 37486502, 29686046, 25145317, 35766357, 38768129, 34595601, 19157575, 30494167, 38775794, 28245138, 33164684, 33113600, 38605182, 38695811, 36972113, 39732661, 23117627, 32461305, 39147492, 36407629, 39936434, 40023661, 31420175, 36107366, 22231438, 19248234, 38088652, 23271444, 35040839, 26103676, 36406372, 37708710, 39926716, 31226102, 23656546, 16128116, 22536179, 27452352, 38405192, 32941009, 26637671, 27411142, 39078078, 22897243, 34910891, 37382270, 36596691, 34878573, 29383307, 35466979, 24762583, 33293045, 14035148, 29621560, 38706932, 27965295, 39371325, 38134643, 32620584, 24748990, 25813441, 25851501, 27356002, 39398986, 35780973, 30258120, 27505764, 39594080, 31708959, 34894909, 29247960, 33715766, 20003290, 26456125, 38405568, 26689894, 13089789, 24129567, 23304733, 36709837, 39099008, 39880209, 24229031, 23792033, 39415554, 37920480, 40065703, 21792397, 26516628, 35072351, 28754603, 37865865, 39550212, 33244818, 37680196, 37867880, 37726780, 38604963, 28836172, 28294446, 36238101, 29712223, 32239558, 24246440, 35020815, 29919306, 21240021, 32278728, 38566430, 31551412, 36748120, 17333644, 39645404, 38504885, 24807644, 38562027, 36790948, 20955969, 24684441, 32411615, 34342370, 23871464, 24383776, 34426231, 14586608, 33288061, 24790484, 27713922, 17052123, 21625850, 19737194, 30067356, 38171072, 38064098, 28223385, 16682190, 16241402, 27304567, 9962114, 35771740, 33582358, 29345093, 34502846, 27467730, 25328663, 37676413, 39309435, 23641556, 27809284, 27432384, 31404165, 39872755, 34403365, 27473093, 39215617, 36797696, 40005854, 34444269, 33691590, 34119503, 33748199, 27741564, 21714516, 19330561, 25478773, 23226491, 36171510, 39477328, 12720159, 38119954, 17903035, 35873443, 39553883, 29020070, 38234251, 36420908, 33218113, 29439457, 23222442, 24790676, 37267390, 34710123, 39321914, 36377049, 39006270, 36039278, 26137946, 36425234, 38575213, 32745446, 11105728, 32813042, 27193186, 30840856, 37849343, 37969561, 23909249, 18142041, 24212659, 33281361, 37238235, 35735264, 25671380, 24347012, 14241993, 38740423, 38557139, 33468716, 34137875, 14868329, 24391111, 25245293, 37373055, 39440140, 33792915, 34788118, 37221147, 34392125, 31272726, 27024385, 39195179, 38515783, 32805038, 37767719, 24829874, 37804840, 39176190, 23672414, 23638919, 30941640, 36812114, 30990389, 32787074, 30097549, 37706182, 32868351, 32016703, 22002060, 28683498, 32317479, 37290219, 22029167, 31147477, 32279013, 38941735, 26975089, 31385127, 38022230, 37922736, 25025621, 35274888, 33036804, 19343016, 38101124, 37194501, 38846642, 37127395, 36709914, 31722226, 17297550, 29089839, 39589834, 21486963, 36197670, 24616079, 35095252, 22184995, 35856844, 20333128, 33898120, 27649503, 23000260, 35932101, 17845689, 25346882, 20348312, 14364551, 23193266, 36023948, 17028329, 15795353, 23762019, 17520711, 34601770, 27450194, 35106041, 14912046, 30586797, 37606547, 14204406, 19524383, 33878179, 29711211, 15735337, 38579532, 35401094, 19834597, 39693925, 35639131, 27803740, 32057007, 19477378, 36522517, 7900261, 20338663, 21342831, 13300984, 12059357, 8903798, 23567252, 32130410, 28096243, 25650376, 1767865, 26991637, 29375166, 39421433, 39623883, 31275743, 34401709, 16578068, 39105846, 39495417, 17755764, 36949989, 12056165, 38809506, 971678, 5276061, 37572393, 33668125, 32380057, 34909077, 24589621, 23827530, 25254023, 27094438, 3046305, 37252153, 23692502, 32655686, 13745265, 35976215, 35184151, 39703527, 20819989, 22889146, 18696122, 36185816, 37775232, 36001038, 21671040, 36292566, 11027137, 33758868, 35700134, 28915399, 13237522, 1066758, 22575699, 29719986, 39694357, 15969708, 20516762, 7676314, 26860250, 28142839, 35300485, 33794750, 25729044, 12555107, 26698190, 34745717, 13041898, 39556910, 30510453, 34770389, 49926, 9491907, 36386713, 29035815, 38441888, 26420911, 36108585, 16925596, 22392497, 36750571, 33196102, 26521365, 27390566, 9390592, 30243609, 12932637, 14487491, 18920125, 31381939, 28567001, 37855286, 33677183, 11856493, 22357622, 5265275, 31014131, 14115246, 26654855, 32994196, 17942036, 31638651, 37232872, 30019605, 30109297, 9413216, 38774135, 36880200, 22214975, 34374839, 15542430, 39960320, 31619880, 25869152, 34909034, 32217532, 22431937, 39552458, 7824188, 7922487, 37251992, 17112550, 25828785, 20720836, 21944869, 29938028, 33351160, 10685654, 38678057, 20713757, 16212109, 39676339, 36076241, 30809866, 37593013, 37277904, 37287980, 38508116, 9700699, 29277991, 26048299, 34347904, 16346506, 36451392, 31921290, 6514856, 36931732, 17789049, 33883758, 24519013, 30833031, 29541278, 19461741, 17756617, 36504721, 38228794, 34129589, 25410283, 35398057, 19577673, 25301728, 16364412, 3890621, 14346364, 31329781, 28721722, 37372254, 36671641, 25102013, 32853124, 36319482, 26302745, 37776984, 18131408, 4355132, 5642203, 37068981, 8285175, 24965720, 37339067, 28356962, 37019062, 35797708, 32679849, 29999763, 25357326, 26963189, 21678165, 38109894, 39054539, 29846372, 33658423, 37127483, 39505153, 31060566, 24380791, 4750141, 2540059, 26403721, 33723771, 36943186, 20232714, 37354171, 35544233, 26269893, 26245242, 12877189, 24883503, 11283683, 1599754, 34778650, 6081008, 30821071, 22291589, 26222066, 24400012, 32733156, 16006237, 15340650, 34389927, 7342637, 14672739, 28573549, 24624866, 31026169, 39301122, 33098682, 33549175, 33111796, 17525454, 16995071, 27787101, 36791490, 21201506, 34074584, 38263794, 39523900, 35974826, 27196672, 23113318, 19388152, 25043169, 38287797, 36995289, 22617538, 21415432, 39004937, 26471889, 37623438, 33928471, 22448088, 30006353, 19821425, 19693302, 39730737, 3818523, 24123659, 39381727, 29563788, 25012948, 33784968, 34343630, 9325312, 4150909, 25002469, 24738578, 17881489, 23223291, 12785834, 21988714, 28621596, 25915541, 31496352, 34531076, 39465157, 27628765, 24333451, 9318641, 18321727, 28337085, 23407253, 24834613, 29517392, 29615939, 35328941, 29662432, 37165815, 35503718, 5286531, 27183727, 25682128, 28769017, 31092323, 30109467, 14060894, 26942148, 35323590, 29499815, 38986718, 22590327, 38316225, 16553660, 39239758, 30889042, 29114427, 23899454, 26917380, 5663262, 28122488, 31396801, 33385898, 17743870, 24063646, 32501951, 17198898, 28702416, 31575675, 27152987, 34754368, 37062565, 39620767, 7559595, 30530694, 27751072, 26057607, 34874982, 24412396, 28099401, 24339078, 21612677, 15668380, 28862334, 20775633, 7644597, 20799403, 12227869, 20512101, 32095943, 26486752, 1236695, 36370607, 9964809, 36354118, 30442397, 19274082, 15112964, 28026014, 39332868, 22775154, 16787485, 27956289, 24791619, 15707215, 37844596, 34382913, 4801259, 10867994, 37164347, 7697169, 29043848, 25191071, 24130630, 39103052, 16131208, 24563698, 21087534, 34560203, 35347373, 39749807, 37662180, 21135279, 31048970, 23983748, 8251541, 26379631, 31638508, 31458262, 28967463, 38622386, 33531553, 25478428, 16243955, 14681250, 25326649, 25003211, 31877420, 18716655, 9998625, 29286480, 21218135, 26195879, 35556799, 27708002, 14314501, 21323431, 28896769, 17882139, 33471219, 24214364, 24066589, 20838970, 32258654, 7948510, 30099823, 20055067, 30250164, 38332917, 13390497, 39036089, 26423961, 31273522, 31118089, 4133327, 15214430, 35281237, 18691084, 34820159, 29102132, 37411633, 27735274, 37137144, 25631904, 25494858, 39480634, 37417793, 32760999, 28909973, 33882582, 19486283, 32898478, 33487117, 21635914, 31983448, 21025774, 39140490, 24004487, 15036205, 32561332, 22364769, 36341436, 33030195, 33973471, 39990274, 28176369, 33705180, 36964875, 36961445, 35932223, 18001592, 39804629, 33837125, 24706372, 19368414, 21382194, 36638331, 26876549, 16346464, 32918978, 15969518, 20298335, 15453237, 28621131, 9013354, 29550686, 24413804, 28789014, 29089881, 18054759, 31051397, 17485858, 22107897, 29758662, 21122818, 32735684, 28948565, 38885130, 16043299, 38022873, 13682604, 29476807, 36082521, 22095000, 17642576, 14933569, 25435710, 21418022, 19297410, 20641199, 31122699, 23797368, 13960307, 29847082, 27500193, 27708977, 37499806, 8356745, 35381551, 38981847, 34754605, 33569119, 9775297, 6902740, 39840882, 33256475, 34541165, 34935489, 34581021, 16329218, 38755571, 29314985, 30363501, 33154164, 11329035, 32740592, 16747624, 19530826, 16089737, 29268630, 26823312, 17395516, 35517771, 37994521, 16063191, 34542181, 23655080, 33569374, 35507059, 30589640, 34750829, 32242446, 36189809, 25766831, 1939228, 28167429, 32283815, 7088625, 21139538, 27580028, 38655983, 39013159, 34865791, 36441345, 36307609, 35878796, 35322847, 17043393, 25518445, 38540144, 39907437, 34768958, 24915057, 21871618, 26548135, 7218918, 27996785, 25001753, 4964101, 25991666, 33161030, 37604747, 26484848, 25749215, 7942643, 2762009, 26370831, 31463617, 38828143, 36561974, 19222020, 25320684, 36668750, 18283984, 19691865, 23349128, 35859367, 33050211, 17558388, 21765647, 26043994, 29745968, 25882030, 38066785, 23479288, 33341972, 26107685, 3833717, 27993153, 13432129, 32705457, 29660088, 5414638, 29636723, 33093333, 23766009, 3938042, 19211116, 32425883, 34026319, 38228088, 7960761, 39875674, 33478933, 37271654, 38013224, 37571622, 39309327, 29626576, 34670464, 12052520, 16845063, 29493183, 38054970, 31688667, 34581605, 35581337, 32531143, 14689926, 37492650, 38620174, 38358184, 31900526, 31929202, 18275033, 6756616, 26450021, 15579657, 38601628, 29381271, 28936713, 26390895, 29864176, 28521429, 27344591, 28732235, 12138782, 38845097, 11668031, 14790822, 37542436, 35109094, 29249749, 17257056, 26453080, 18032548, 24429822, 18601282, 12299124, 8529827, 35034389, 20634368, 11319693, 39384998, 11469216, 35125688, 26862208, 9403191, 37956088, 32643321, 35709928, 29119417, 7919265, 17907623, 23519099, 27464955, 32590039, 31793912, 38568699, 36696613, 17151210, 30865121, 36827544, 25334845, 5396768, 13589390, 35724648, 11501214, 4090981, 36260537, 30712611, 33422356, 37140692, 39601165, 22430429, 18938065, 37412510, 16094099, 27794380, 36943700, 14981648, 36827260, 25388144, 27545780, 20011122, 2518730, 14255675, 25349693, 36847840, 36844704, 20171216, 20585983, 21997615, 25355626, 26554211, 39880189, 36006224, 18066363, 19476426, 39540102, 18352973, 27507928, 2318667, 37416026, 13053412, 32622170, 30313769, 1949225, 17784587, 39566474, 23315592, 37993135, 19862587, 6974034, 16201303, 39339357, 25921287, 14551451, 27744963, 28974190, 28597383, 25534440, 24616671, 26902283, 25693870, 15026519, 24179963, 30387280, 39474254, 16436705, 13336288, 30427081, 24562816, 34159669, 40016519, 13476450, 38635580, 29734660, 37738401, 22849823, 35001468, 24890558, 32858126, 34977252, 38050643, 39053195, 4877624, 23860029, 38141192, 38157810, 12453675, 15078002, 7465445, 33046966, 21209741, 35689088, 30921360, 25753276, 4859198, 19875549, 22400652, 29160422, 22124664, 13431621, 27809511, 524930, 26384129, 20968060, 29077821, 36376908, 36251452, 33225478, 7901853, 39195429, 29832753, 38076878, 33815891, 11879268, 31081067, 37190779, 12370349, 35160471, 19835956, 38858363, 21174556, 17756791, 29987168, 8486294, 28665443, 37120704, 27947763, 18802850, 39532978, 25332065, 31132784, 18962993, 21965347, 29976744, 34496409, 9966767, 30339214, 25654748, 22333568, 31163690, 38535008, 3433486, 18750826, 13375957, 39968466, 27621602, 12484310, 33695157, 24923046, 34729227, 32553914, 36700914, 26732680, 33115590, 34704280, 27193185, 29991380, 14046874, 39381930, 36914776, 21838278, 25493500, 34097020, 33654959, 34161588, 37973772, 31705158, 17385131, 28150707, 28563711, 25437213, 12504632, 38684619, 11247888, 34931160, 26385482, 18582544, 33457867, 37271524, 22287039, 26792937, 34986475, 10686847, 37960216, 33713472, 21050710, 27989120, 27880744, 34173101, 33521891, 24793374, 32845601, 36016026, 9280653, 28867092, 38361148, 10222812, 31808760, 25702241, 31814078, 6991471, 33625236, 39042214, 38781777, 34292387, 35262294, 5036653, 15670482, 35233641, 5073995, 19750970, 10093293, 34824110, 37117779, 29180159, 15622421, 32658322, 27287867, 5089030, 20157040, 35757580, 37958128, 26579036, 28617870, 37516731, 12414043, 7821518, 37791134, 20771788, 31791821, 24439316, 14986697, 28348106, 7813132, 24749140, 38138722, 12518043, 30449421, 13278560, 29738116, 27967858, 34180333, 35602892, 38160637, 32189190, 25333204, 23990217, 21345012, 7701429, 19630265, 37348711, 14536747, 33612432, 16000574, 39378363, 30082300, 31576198, 33499908, 15297206, 39497038, 39708568, 30698188, 18446804, 32656712, 11885503, 5567519, 14714881, 10984471, 6946544, 36535673, 21382521, 28193438, 28439040, 35419778, 14509626, 26742818, 15557715, 23316526, 23100603, 23733948, 36391937, 25981180, 15884440, 16864192, 27824230, 31650674, 13919386, 26663314, 22404169, 24613131, 31016267, 26830088, 34761977, 7133885, 23454008, 15294903, 34472883, 31595704, 30447611, 34900285, 37038056, 19711999, 38798115, 17152837, 16844494, 27087139, 37168789, 30717752, 16739065, 27608884, 19838579, 35806681, 38361022, 29689040, 35066029, 38314820, 9505952, 22963468, 36785966, 39627852, 6163334, 16096143, 14477448, 27589504, 37370369, 30437947, 33745102, 37876366, 35811446, 13397761, 23859379, 38816548, 35141303, 9482643, 10004439, 2485669, 34502254, 23670178, 28892987, 37919094, 7700193, 13593514, 39433019, 35387629, 7538382, 37515461, 26791039, 25049385, 37367034, 13741569, 21989286, 33472192, 11633874, 24502360, 5134932, 14585693, 39547397, 30809327, 34182755, 17908586, 34658565, 24864672, 27519094, 35905531, 30019532, 25522931, 12873975, 19111450, 38855748, 38930191, 18439733, 25553781, 20628976, 39492405, 20511350, 27623803, 39179812, 8325089, 32736542, 33620852, 18788605, 1704823, 26325412, 22676374, 33712943, 28292228, 27826526, 31191192, 18544396, 22461504, 29321712, 26061063, 32682928, 5016186, 20927397, 18198942, 30721703, 10152787, 34013345, 21295261, 25695986, 30635131, 38186869, 27753490, 21036348, 21924203, 6789814, 25631076, 21364064, 31708145, 19424147, 36603963, 22590811, 28138021, 29778636, 27736753, 20094664, 40072572, 35038803, 37603764, 29644721, 32357699, 9344973, 15017408, 15825773, 10726540, 23207283, 15068169, 37354456, 22906394, 1208118, 20713266, 35834913, 39145795, 28124971, 35606712, 33724157, 34076079, 18334472, 38353269, 36685963, 18881741, 29440319, 35074921, 30324167, 21857153, 29816117, 16654083, 33391624, 38686344, 21527770, 19180502, 35568605, 25230541, 36958732, 19358984, 35938292, 39648054, 3582601, 35425094, 29286465, 9922801, 24345735, 3165379, 1398822, 34656689, 20432278, 36226479, 33962717, 27000328, 22981845, 31728644, 23096417, 21161033, 28337513, 27443111, 33831687, 21385673, 29456962, 25342899, 14250051, 33156541, 37035082, 30067051, 39580110, 8977936, 13275494, 22166996, 28270693, 36590502, 26765427, 31507019, 35328168, 36002422, 36782588, 24560298, 31397940, 29082001, 26690480, 26442543, 16346075, 28906298, 39584263, 21824846, 38945093, 26422869, 24287231, 34607371, 31535865, 26278241, 36799992, 27650527, 39964254, 30917753, 7406554, 9982335, 25070086, 23037830, 15709933, 23073255, 27760584, 9371446, 36627362, 32379895, 2620722, 27098529, 37271660, 11799511, 36459132, 14611250, 9119139, 31365736, 17666437, 33363494, 36239800, 32109668, 23414161, 15462298, 31794539, 13241724, 1550130, 12373894, 36353262, 38647225, 32817017, 33538929, 35478526, 29920114, 35184258, 34926124, 28552322, 7900171, 38426385, 36815115, 12525722, 16602716, 3257619, 35807189, 22082881, 13648318, 30461231, 9566592, 19612340, 36828977, 27252209, 18048646, 9332662, 3248542, 24293444, 5666056, 21447595, 21444148, 37785112, 25291152, 16303949, 15162925, 9924135, 32474115, 19799197, 40118055, 39071630, 35776615, 39441563, 24764966, 23893625, 12856017, 24755632, 24085711, 28977634, 10833289, 3302459, 22759784, 17393007, 30967888, 22277982, 31866802, 27340042, 22425921, 4873665, 32063014, 12654093, 29056156, 38729912, 37721064, 32701977, 7561017, 35330724, 18691889, 33303348, 20202710, 35881832, 21113384, 35939269, 38242716, 17423730, 29906912, 36015578, 1903462, 10905272, 37237453, 13150020, 23901943, 28056195, 28065633, 13370570, 2745329, 21870955, 21518260, 24032332, 15057744, 23413313, 25470010, 27716824, 32211904, 35409545, 20045535, 29636173, 23553245, 31931798, 8174278, 38920043, 28886439, 25996240, 38482091, 34920903, 20306297, 36293721, 30802269, 31769047, 39087402, 7285612, 16027625, 33713032, 36153944, 5946034, 26264579, 25460993, 39673833, 16300809, 39122955, 39749447, 39452097, 20617223, 17287933, 38849639, 17156125, 25660792, 26222674, 30648143, 39999590, 21957667, 25305155, 9200727, 17904783, 27261278, 14403966, 6999617, 15514641, 11387158, 35850866, 15474159, 35000899, 35041020, 25018678, 4624129, 30036182, 37764566, 10060174, 39014324, 28015281, 28894756, 14112235, 27387556, 3518778, 39187149, 13260617, 34836343, 11297030, 38026834, 22656285, 31457937, 28917414, 39255292, 37262333, 4110059, 36193225, 30525931, 35434114, 35277725, 31678254, 36091686, 9876172, 6375343, 30520528, 15912505, 36001473, 34307463, 34787320, 34199823, 19414880, 27731458, 31149953, 38156265, 40006169, 31076556, 38102566, 24312939, 18050765, 18168400, 37751231, 32113288, 15965040, 24229804, 16017034, 33189971, 29187671, 29633788, 28413824, 29852481, 23165371, 33760374, 36115472, 20938586, 18134564, 8964736, 9414122, 29212385, 28730582, 39749653, 29641541, 34261460, 27260799, 11232844, 14462303, 37006542, 17913330, 39579875, 29970901, 29705225, 31807843, 38616125, 38452379, 14232588, 17811168, 29748121, 10236786, 11563295, 38114261, 31613444, 39588008, 37413147, 30338212, 32547440, 20113206, 5235617, 19705200, 16223483, 25749285, 36781698, 28446555, 14561012, 35394803, 21918161, 37147552, 38073791, 33617822, 26462617, 28725972, 30446268, 11067916, 27494855, 16199875, 26281204, 29731726, 28165726, 6301400, 23963997, 31167839, 13583027, 8280871, 27778432, 10512026, 21658676, 19578626, 33575087, 32612363, 36158328, 15867663, 24636139, 40096826, 38192456, 32488623, 32236312, 23909266, 31714597, 27929472, 40099111, 31630193, 30404756, 6299770, 29120997, 24785016, 26269512, 36197272, 18374983, 31812147, 13329552, 32046317, 35623776, 16343752, 39623001, 22894076, 36270082, 31361377, 25650066, 36726384, 34915783, 35956649, 18115955, 24345547, 22425670, 29689972, 15792465, 39570335, 17777482, 10395691, 39201783, 18336001, 21036568, 36521402, 24108482, 13170435, 25284229, 37431599, 24173250, 33332895, 21789771, 40034378, 9503510, 19790261, 28409386, 25539428, 13891225, 25180567, 38064016, 13301109, 35530122, 34708364, 4535374, 18262000, 37871625, 32301388, 39134956, 27806577, 2442799, 36423112, 22992579, 35893894, 30735728, 38498477, 39776890, 26439107, 35068114, 25220975, 23101625, 33742406, 18495947, 7037938, 38659217, 22411210, 33102891, 25327541, 17051107, 27969774, 21993304, 36768889, 21528045, 20517575, 29357914, 28770038, 28970883, 36840299, 31789160, 29699888, 38665776, 23477681, 38310086, 30428745, 36168742, 16679770, 40067790, 19802174, 5768597, 38155014, 23369859, 20889809, 4831220, 11956458, 20677810, 31329390, 33513987, 39703734, 33642151, 37029054, 27054368, 33937500, 5586719, 3372444, 28752126, 36773053, 36755940, 11650324, 15784588, 31082904, 12811631, 31278579, 14639496, 24829866, 25343266, 19555680, 15660885, 30885342, 29663764, 34486381, 36070040, 17235240, 38118183, 31104619, 21444876, 8245817, 22309946, 39024791, 20197990, 35093496, 22385801, 22077977, 39613884, 37477224, 39900543, 36830942, 28086161, 37779161, 11838352, 19891502, 24195673, 10116624, 34653259, 37262966, 17643950, 30731241, 18326524, 20195435, 6802367, 38104558, 37934038, 17419051, 28506137, 11405673, 24266648, 39023818, 17960147, 35301262, 14970260, 29853322, 33975639, 38148024, 21640028, 38483062, 22356612, 38258842, 24802121, 31518201, 12794856, 26109590, 16199172, 28949249, 13272453, 19182466, 30605724, 18461623, 16660771, 30960716, 35125683, 22078005, 6256583, 37610275, 14615355, 33293795, 39661759, 26609475, 21658356, 34023665, 39738417, 35228990, 10272304, 34287449, 33049153, 39196057, 37344240, 28349143, 38515782, 1530960, 30213671, 32827269, 39059371, 22231347, 26525366, 26148813, 37771153, 12576151, 16292279, 37564617, 12981383, 32965411, 16815928, 37228439, 33753655, 13221368, 27408716, 7341557, 21605143, 27045848, 35234643, 38937017, 21856047, 21351164, 19090070, 27996481, 34480630, 33731725, 39784911, 30652760, 30466656, 19455100, 33980973, 35525001, 16306484, 12255179, 33948659, 29088646, 35994254, 35053894, 37467358, 38143991, 24579942, 35591429, 30031920, 19062926, 37847760, 22704802, 27744276, 31899305, 24835199, 8637475, 35495512, 20425724, 20901968, 29941384, 21443859, 17456086, 22145108, 22355026, 37031367, 13841296, 32302666, 21961260, 16099488, 12200580, 24175446, 30585085, 27385077, 36297078, 20111698, 21713683, 7382764, 39627787, 36916948, 17085197, 38709570, 29130087, 33368261, 20862702, 35775631, 24259131, 15915446, 7116751, 24486837, 31679708, 21921185, 35464774, 16860820, 25690729, 28687087, 18581404, 36404374, 24025902, 28786354, 30670991, 38163054, 28507898, 32723993, 27447373, 33241021, 29972836, 36783921, 34051737, 27100799, 16066273, 25935801, 26503491, 7740243, 33178328, 13714790, 14089453, 30090511, 30532419, 38113159, 27156381, 24435069, 5508352, 30486236, 34415608, 39978611, 30920839, 7891586, 34812372, 11963067, 36746961, 24700281, 31348617, 35786506, 29807087, 37247161, 31728704, 25141838, 18785063, 34099484, 34000660, 11654340, 5267261, 37061001, 36528711, 37141235, 37141866, 22465066, 4523432, 25335440, 13746955, 11210677, 36773892, 25089885, 36894896, 39718129, 16711277, 10418325, 22612903, 26526291, 32192143, 35432918, 21248886, 37063350, 39045797, 38114174, 17588821, 30081779, 17704605, 19277244, 37101110, 13595945, 12283973, 20272275, 29261882, 33391854, 38946206, 7315747, 28683320, 20617424, 14844737, 21269038, 20903865, 17826001, 5713524, 29086773, 27117423, 17473979, 27904001, 35184815, 35041266, 23913743, 33845626, 39016638, 35015105, 31683098, 35153246, 29347987, 38643151, 12008249, 32557791, 34009397, 22983070, 31560850, 37827613, 22029271, 40054872, 21283684, 28035236, 39429058, 36244077, 16873441, 38936349, 14669006, 7883646, 40139167, 35405704, 38201151, 38242851, 38499475, 22111396, 27993475, 40016287, 26509319, 22283494, 18808750, 31304006, 19748000, 22099246, 32454613, 29216087, 35829364, 27499139, 10654862, 28403241, 39312677, 26473681, 14604344, 10132086, 18893731, 24011910, 27892167, 26999331, 36334665, 21290373, 34793070, 23081913, 31056419, 20055493, 24988800, 21939401, 12223892, 21190864, 37636017, 39304977, 25143066, 13567345, 23675930, 36217926, 32998000, 22614760, 15907484, 34662986, 31106958, 34556031, 33431286, 18113088, 33544831, 38802258, 18344364, 31705810, 11145499, 29742289, 34050192, 27259842, 21199497, 39256365, 12701659, 32848973, 28707521, 18079029, 7935729, 13128647, 39397897, 32428313, 22638099, 39925592, 31419269, 31774416, 26226354, 35239438, 6219734, 7891697, 13706624, 29808982, 16519290, 24913232, 23839688, 21237833, 26950914, 10319448, 6766838, 32969491, 38772644, 30180566, 16039852, 20409177, 12691368, 32542689, 39209240, 28916835, 28840121, 39158300, 17372786, 33163043, 36342969, 13749943, 29192025, 29272160, 37036980, 36528141, 22421110, 28728522, 14664333, 26013010, 35957179, 22616432, 26714048, 26873415, 36454782, 18574132, 37900693, 3977581, 10843171, 31550059, 25563454, 38926031, 5160339, 29461245, 33603846, 38540016, 29828612, 22478240, 40017986, 6573166, 32218712, 22119877, 34241043, 14916358, 35932636, 26371509, 26175900, 33157319, 11755555, 38886641, 20050761, 1200644, 1711865, 4624970, 22802708, 37625628, 34956806, 5587839, 23360854, 39590575, 14944368, 28679026, 4190817, 14245094, 23768982, 25126898, 36744372, 38668814, 22336269, 35324836, 28092976, 37491830, 27855953, 33870862, 12167439, 40000718, 38003528, 40056209, 39428496, 27678583, 37210087, 23272616, 25224311, 28254715, 30644870, 17395298, 17864474, 38522389, 29890508, 26069235, 39622639, 25565220, 19770361, 20071729, 16037824, 26130085, 18118221, 25826046, 8794610, 34864656, 33587610, 26839243, 25297203, 21811607, 14569287, 24417951, 5477359, 28255351, 39402154, 39376070, 14563728, 40049456, 36636926, 16607221, 20101851, 19689036, 26471571, 11067368, 32315411, 13828246, 39944453, 27211835, 15481523, 32647493, 36267936, 39379556, 36222998, 16445187, 39130288, 39518141, 28430904, 21567842, 35252397, 27266338, 32301287, 34537068, 21344310, 7667799, 19683026, 32249554, 37638274, 25430583, 3877209, 26736438, 10739978, 17448636, 38776418, 28354615, 29097917, 38276186, 13590484, 34882940, 22840900, 36403383, 39159548, 34330660, 26790476, 37325718, 39564433, 31529545, 16352962, 28170603, 36506618, 37015278, 34579089, 38027432, 37464737, 27583780, 30145229, 28225265, 16478930, 10558377, 23885973, 39620547, 24813145, 33248158, 29403312, 22779437, 9475800, 28825219, 37012244, 18034688, 23569485, 11361985, 34639529, 38106342, 38617083, 3556613, 32374945, 35713891, 5347065, 36130025, 35684318, 12223167, 24224138, 30550212, 13125447, 18626709, 28874556, 33980613, 20110590, 39629139, 4664502, 26383354, 22014496, 38255103, 37000075, 23329663, 24148483, 13535439, 18382632, 37202463, 11017347, 19666989, 39578974, 13404150, 29649280, 36341774, 31382012, 38704949, 21220942, 34472814, 37790839, 29569114, 26954327, 23019638, 38415354, 19212451, 16415480, 14836335, 18453442, 4278182, 29415185, 26591143, 18998981, 7540808, 26310897, 31468724, 36715067, 31046918, 32561598, 10740056, 28269123, 35025339, 17416418, 39426690, 29680312, 25359447, 16269101, 29507928, 21539950, 38189143, 36224733, 18756034, 17128116, 37473697, 29247040, 11113649, 37602106, 15638053, 7770870, 7256198, 39176308, 6645895, 30832308, 12561568, 10492535, 26121770, 29026888, 4341405, 9689173, 37834881, 39824469, 21647044, 28927821, 18935698, 37929011, 33594457, 37951631, 28974348, 26551825, 36546689, 19349410, 16230848, 7656665, 17599878, 30789938, 38305946, 27888835, 21171095, 37738483, 21430938, 12715828, 35372065, 28258497, 32202249, 15959819, 34141430, 32301546, 30924008, 36532682, 29988773, 25160641, 37936527, 30279315, 26855362, 40126853, 40104730, 32237252, 14552482, 16750618, 3904983, 23252036, 6389629, 32982474, 24150553, 31719440, 6616391, 6200910, 32633944, 39536288, 36892996, 34557898, 19258229, 3459611, 28229002, 35510973, 22459870, 26065673, 27744767, 39313232, 34565006, 34054394, 35422156, 2111163, 27125959, 34714547, 33115093, 19179677, 9422759, 26568194, 2829772, 34182307, 32979836, 37575192, 15420442, 33907750, 39595327, 32243062, 28727103, 13861372, 28836550, 37977608, 20703383, 35809913, 29694087, 35847581, 17108250, 27363024, 38169851, 27193899, 32030750, 32544636, 37386958, 7825543, 9950255, 39923085, 36556494, 13055717, 19686434, 21143062, 38619143, 28767642, 39848991, 7739900, 20010651, 23584157, 39773480, 19138505, 39649761, 39634375, 24895067, 26939931, 16548560, 34640779, 7529786, 32224620, 32083997, 39530157, 37500804, 35057847, 24121674, 31290738, 34557428, 1987694, 31405793, 8554409, 29136351, 34709738, 26169335, 26606358, 31770408, 34716376, 23717206, 27164580, 28160341, 13550940, 26038778, 36489684, 6589985, 27652328, 34672044, 27573332, 26548740, 18958048, 25634684, 38865377, 37366196, 35690983, 31103926, 1803054, 19120480, 21679878, 20974640, 18577072, 30039334, 31589497, 19812717, 1025379, 35181499, 9205803, 37468869, 30459167, 40054473, 19849635, 26034805, 23240884, 35408667, 17882205, 33964138, 36276074, 14466950, 18895919, 39450030, 10053905, 25328818, 25896857, 36168497, 31373134, 31344892, 5490723, 31685486, 36616834, 35566771, 21973126, 29978764, 27570130, 11585793, 17729434, 28332217, 26362010, 19584143, 35120516, 11124578, 26463349, 26523874, 8802916, 18417906, 24993993, 24895976, 33695220, 26486898, 12942153, 38929531, 34249847, 32337064, 14493026, 22847179, 30826224, 39738231, 12237604, 7247959, 27856335, 39474667, 18572083, 32531377, 17928452, 38021111, 30678737, 16682672, 40065378, 29426357, 33088268, 9389629, 5330368, 19257498, 35162437, 31819002, 21285058, 32179058, 21275678, 24279428, 16717951, 31038367, 29204361, 34120662, 33336427, 20685871, 25060379, 39231600, 22079338, 26337189, 37694199, 29156532, 35049081, 23794361, 13491731, 38504907, 38555120, 36952419, 37493165, 16591696, 29158760, 28047963, 38401014, 38722073, 38483570, 16229982, 17218841, 11253495, 15866355, 31155735, 35619770, 40059979, 17387219, 37643451, 21020449, 30418072, 38461464, 39301247, 29079535, 8741445, 28014735, 37836311, 17736210, 15887191, 33507282, 36771525, 17872722, 37619374, 32930449, 20062909, 30028103, 21639167, 36678832, 14878110, 38975743, 20293099, 18529657, 20461271, 36000677, 26445153, 17989751, 33641038, 28069867, 38337804, 37691217, 36165878, 19363144, 5422009, 23872946, 16902282, 26366978, 38011905, 15989384, 33507257, 26787477, 16746974, 30306409, 33913868, 24295451, 10525921, 25767242, 16382893, 26009861, 6794221, 36242860, 27550106, 23527825, 23239016, 36893789, 34982423, 28643126, 30491333, 3061761, 36155061, 14553331, 4867918, 36718569, 12785836, 1894981, 39446199, 19480496, 15254556, 8914992, 23656920, 16793672, 30983268, 26180127, 28746360, 21228976, 24537791, 19105261, 30003543, 38453249, 27128688, 8792430, 35432378, 37037581, 23058560, 2104643, 33216543, 12245859, 23129407, 23961648, 37943699, 19268937, 7433142, 21690785, 35673095, 37093463, 21307420, 18404077, 36491435, 31364856, 13775722, 31276585, 11692909, 37143466, 25796404, 10664199, 23277947, 19156472, 12606027, 11611953, 31268175, 30026047, 20929805, 35631722, 34909446, 34799408, 21416122, 19701094, 1519956, 26296555, 5320324, 10181151, 34482072, 21607907, 26309635, 4651683, 30485355, 30800863, 30291183, 26309911, 24826575, 40034623, 2350110, 20251684, 36593963, 35490753, 30294042, 37671432, 39900208, 35276004, 15089310, 25378739, 15864522, 4227538, 31572212, 12713486, 34997174, 1322380, 37505619, 12226783, 20182986, 24815720, 24144753, 30378902, 38749037, 29681527, 6150375, 29259808, 19417649, 16652663, 18092984, 30536984, 6620979, 17882122, 37602680, 32679540, 17049321, 28393680, 23201647, 37719889, 33467477, 33824617, 12926349, 26014025, 35774261, 36079811, 20102330, 33811576, 19700645, 36014469, 36813255, 30211336, 16755482, 36298996, 31896768, 12756885, 15045582, 40067593, 34692403, 21476785, 9448915, 17813108, 27068035, 5251127, 15001633, 19793937, 23769007, 28614239, 11593382, 33613380, 18241359, 16574466, 40142688, 26319996, 31618828, 23026267, 22362653, 19624997, 8057810, 19839488, 30718231, 9779751, 5656821, 30782913, 22939180, 37267399, 37408791, 9823037, 11351264, 39172450, 33510773, 24871246, 21046417, 10409674, 34859391, 13057022, 11561932, 29699057, 28872862, 23359886, 19191536, 30936779, 13773687, 36504001, 33771195, 32512513, 28905659, 29838788, 24890737, 19639311, 36797420, 12217385, 31369084, 15188292, 39626432, 21885135, 18441779, 35466455, 12647471, 24477270, 13597629, 13805476, 21531759, 34562923, 14091718, 22634265, 32146269, 31864188, 2345518, 34730880, 34619724, 9854964, 16274954, 25812905, 35661677, 17769341, 37222989, 15401411, 38460314, 33847481, 22376341, 33681911, 36252814, 36441311, 33468343, 14741061, 5021921, 16483990, 8712332, 26024520, 1759208, 36417506, 17027513, 12421770, 29504938, 39600816, 10268061, 27321950, 31428974, 21828202, 36266295, 30147716, 38242910, 30644225, 32665755, 38344626, 11155223, 19886584, 12265751, 16330831, 16276268, 9027266, 33190042, 28712734, 36243456, 25066978, 22079449, 19329367, 33864419, 32403740, 9776073, 17259949, 34955618, 19064092, 34597093, 27728695, 22241149, 39889689, 33720656, 32133597, 32539106, 17115193, 21132758, 37007195, 38054955, 9759864, 25151443, 24797311, 8944045, 20501658, 37552924, 29408081, 30307305, 33714474, 10937735, 36463791, 28695089, 29980334, 14325844, 38177549, 28991309, 19484344, 19721838, 17796953, 21778118, 17490761, 38840319, 39174810, 19502506, 5559888, 37227085, 37960419, 40091727, 30544472, 30722591, 34252914, 28402747, 36412762, 26571373, 29637117, 25870923, 4716647, 23248808, 15349726, 36535435, 20021051, 38959944, 37057473, 40087573, 29907228, 11928557, 22837305, 28006366, 24935230, 30695248, 11856293, 15879845, 11910584, 30091012, 8743320, 3662361, 38651839, 29800749, 3551242, 24822209, 37198024, 33746598, 39416492, 35146858, 4048011, 30609734, 27420711, 27414908, 32842303, 14201284, 25059936, 38451407, 15915719, 36896202, 36110090, 20198538, 32272693, 16375784, 23793472, 18581542, 23669199, 32519377, 25816744, 18788938, 37330843, 9829348, 26103675, 35710041, 30057046, 17818783, 30490147, 16401373, 25575356, 34022110, 11299212, 37678316, 4258106, 23648676, 26103729, 35976770, 37676091, 26064061, 38061876, 36411483, 32920920, 36337924, 20655246, 22539732, 21172482, 38276860, 16429373, 24575869, 17009774, 2356779, 26558278, 16798771, 30650237, 32052594, 36922856, 15026908, 35978611, 17437523, 25795472, 35516276, 35234571, 26403884, 34503807, 15626375, 15956309, 25871161, 32896987, 37559092, 23146422, 13500105, 25826500, 37356835, 18737657, 21124061, 30527902, 37549789, 33617982, 24460966, 28794002, 32978575, 38218395, 22292059, 31151202, 6527641, 33240475, 33967513, 38455548, 24370711, 18574342, 39575721, 11265497, 27331916, 37713484, 40006499, 12254898, 25330183, 35736586, 32281529, 15756007, 37758740, 3425439, 33573408, 33173262, 1100100, 36965876, 23978598, 37117427, 38852904, 14679582, 20331056, 24899579, 4641200, 11507575, 11647306, 21888854, 25528148, 3330137, 24999708, 26194389, 29081378, 32357823, 29862139, 38228413, 33646462, 30836032, 24243673, 34710673, 11114566, 25080189, 36045075, 6966358, 30930481, 20987390, 33072769, 26000987, 31479642, 15636796, 22075963, 10133386, 22277031, 12501219, 33436698, 23478158, 6649839, 26325652, 21226610, 39470221, 27572958, 39027023, 33966926, 2670112, 20089007, 36960320, 38199487, 17982050, 39183471, 35509857, 26198477, 34755244, 29132417, 28531896, 21251515, 9431611, 34468436, 21336803, 9723530, 33029129, 16902557, 38743888, 38138417, 12332392, 37126108, 15852579, 32179040, 26850355, 27929780, 19956152, 22431018, 30676313, 26349815, 15144352, 30696862, 30446510, 5178009, 10202279, 20250480, 22872061, 29018270, 36226660, 37115369, 29570947, 21720489, 24354096, 36162662, 12324176, 13629245, 38295501, 36487801, 35618115, 2674046, 2751058, 22469867, 28278075, 38233046, 38907993, 36665746, 24875024, 28198710, 27770906, 32739828, 38840465, 34858698, 37662897, 36643549, 38494738, 32751054, 25700400, 28013583, 1708775, 34236252, 21750012, 12360348, 35244546, 36810503, 37741131, 37135967, 34065853, 35903506, 4527338, 35712659, 34141310, 27943093, 21003272, 23046279, 16448656, 31145413, 20419611, 33487441, 35092493, 11885060, 34667026, 30111771, 21968643, 24407406, 19039674, 30800436, 16400979, 23577505, 34236458, 22461307, 34614959, 7469803, 36455809, 35416195, 20845330, 28730805, 22346684, 2695598, 28865953, 31972572, 32993340, 16423774, 13537361, 34945360, 32001767, 4894312, 10261740, 37382250, 22996507, 19139994, 24752393, 2194357, 39173813, 17467433, 33792040, 36449328, 38538976, 31919765, 30910270, 22893703, 37575608, 29754080, 15690985, 22381427, 37423234, 39150369, 18488936, 34042039, 35244321, 25701494, 35430060, 23369438, 35194974, 24398708, 37420933, 38060450, 22413561, 35632402, 23077061, 17541449, 26621879, 11866204, 37737368, 33036475, 20001509, 28586238, 36241608, 7597525, 19556826, 32577394, 39919181, 17508010, 32014215, 36797677, 13063642, 33508110, 33789485, 15382076, 22441823, 34110493, 36643216, 32783350, 35717926, 9005659, 29497372, 37393515, 32557133, 39128145, 27011742, 20780017, 25409751, 34172007, 29620809, 29991414, 31131925, 38497845, 21162657, 24421411, 22101408, 14364203, 19945334, 32921596, 35086431, 26369520, 18465377, 12534029, 21269833, 18536820, 34836341, 31404778, 35128279, 23597700, 20818241, 39471954, 15165170, 38625448, 22851944, 22180497, 20751058, 28898902, 37897025, 33836715, 26644762, 36617649, 16028518, 36939681, 17400963, 9492501, 21876585, 20503468, 26928382, 34377683, 23597051, 36317664, 18456383, 21637414, 34434319, 37148487, 20161175, 36864728, 18196811, 11494599, 9470760, 36520393, 6792395, 21470950, 31954245, 37877822, 11128686, 31767173, 30384615, 12041982, 2978323, 36383101, 34896398, 9853529, 29149854, 39200644, 23995778, 31572871, 38222743, 2464871, 36225950, 11106536, 25956916, 34087911, 17438461, 38883281, 27112148, 28802395, 27101286, 29029509, 22287194, 16520101, 18977884, 21459758, 2199940, 18479367, 36905288, 26472653, 37480504, 37938502, 3024353, 1058434, 30074670, 26795616, 15951711, 30988015, 25516477, 20528328, 33490816, 26107877, 38900475, 25997867, 26645296, 6086289, 12864673, 11033573, 21668281, 36910768, 6179156, 22643189, 32046254, 22712292, 30339458, 37142135, 33848595, 38806830, 35244855, 13772227, 24479999, 37117878, 25772977, 16560226, 31454415, 36620256, 33496175, 26832866, 27519822, 9841900, 38146985, 13703720, 28782487, 39835794, 30360147, 25139255, 32255516, 27478705, 5873072, 16743861, 23824758, 26810112, 34862571, 28525281, 33938488, 32046822, 19831413, 23292940, 27175400, 20450431, 23420775, 18511283, 35257280, 34968223, 23472206, 36656736, 13627576, 39950522, 31157315, 31836067, 36969886, 38679215, 36938633, 33579522, 38002108, 21738383, 18991814, 39645853, 31043011, 26810171, 33716509, 18172653, 13032684, 36676576, 13575724, 30603349, 31945758, 28975275, 31070641, 33707095, 34493821, 13877063, 10655142, 34222272, 16180681, 33944808, 14897587, 20987437, 39014085, 39035983, 3443234, 22049140, 7091544, 26601576, 34671771, 30535442, 12750560, 27554805, 16855537, 21924303, 16846977, 26799467, 601477, 33697615, 30233109, 38816251, 4296603, 25201438, 32250200, 19618802, 24179696, 23767809, 36239056, 35910577, 9684254, 36434251, 39668301, 31528375, 33422245, 23650449, 29640262, 39060353, 38100402, 32707560, 24500484, 9889636, 26205922, 35646908, 31877353, 22144348, 34837655, 26218339, 35347285, 10351450, 30068191, 31120811, 20444148, 22948264, 13143184, 6070542, 30013706, 26858192, 32903833, 10127284, 26514070, 22124318, 38250074, 5674960, 35027980, 36587198, 36345324, 34683720, 15339212, 35537882, 2483100, 18691142, 38960001, 33544509, 4456477, 30016044, 22391462, 20640396, 31492836, 9763471, 29933046, 6126233, 39604918, 7837099, 13428310, 22612256, 28948898, 33071740, 8851215, 16848650, 27838603, 30679192, 29277080, 38038393, 37150054, 38542548, 26739044, 28277248, 32669916, 32534339, 27781394, 22993124, 14088092, 3379301, 35022178, 33698592, 20314333, 19028550, 28258165, 29451779, 34881240, 37839361, 2828059, 38340663, 35842357, 12356859, 38257706, 14691029, 36878943, 30073373, 22903114, 17379479, 35235758, 22641620, 27407034, 30617939, 16982949, 4823223, 7284538, 19391149, 33635676, 28752790, 36828543, 37698834, 28649802, 33348939, 23771444, 17846613, 39424776, 39507118, 37235477, 22881850, 37616593, 16697683, 18191867, 34375579, 15561887, 13593911, 23293011, 310459, 23716904, 29115126, 29809988, 11146106, 4423515, 30988033, 25194842, 34240481, 29906127, 34142485, 28515965, 16437311, 30538915, 25102461, 9754034, 26349116, 10604780, 36249891, 17610072, 8134609, 32407309, 28816559, 21624653, 27989737, 27250900, 34177648, 34982863, 21923120, 31930025, 37950516, 37911669, 14506505, 29678154, 28856507, 32784047, 19482527, 36652117, 3767409, 18916483, 39590152, 37633306, 19511504, 35777537, 11851549, 35803441, 29876105, 28617271, 20647221, 36878064, 23884864, 32724870, 15399455, 16928271, 25460028, 39147379, 39681725, 35392162, 39299726, 39764773, 21025957, 20423598, 39246725, 24689047, 39173947, 39254339, 39068259, 38191930, 36595427, 29112408, 26796985, 35738174, 28378959, 17420929, 23632024, 29530355, 37381154, 367565, 21638895, 38830611, 18827310, 20694809, 27982254, 37822722, 15920070, 14559687, 38328987, 25690202, 10907917, 28067933, 29087284, 39002918, 17661578, 38553967, 38033389, 25441046, 38936171, 19791581, 15708461, 21259874, 38767154, 36612617, 37129754, 23056069, 30588477, 38444245, 33186777, 27269476, 21869465, 35974227, 35078548, 39908504, 33448001, 31425809, 27673496, 8188726, 18111444, 15851869, 15719519, 24114026, 16111309, 16528204, 39686055, 27140783, 22445929, 33286510, 23761604, 20984767, 26778079, 33533210, 25965329, 14296136, 18632320, 19274813, 15039006, 14418013, 35013147, 38378966, 35496704, 26932492, 32985905, 26983187, 27082191, 9817995, 36898433, 13437934, 35724279, 10568069, 37856680, 38254991, 30576797, 29845318, 29217072, 36925390, 32488290, 29345513, 39002549, 34947102, 18804040, 36144028, 38955168, 32746248, 22534918, 28769943, 35834932, 12193709, 38659742, 39928227, 23774619, 31734868, 22071987, 15953337, 39530054, 24943882, 24812942, 36180477, 24675689, 16406814, 39432152, 26703674, 2338260, 37260478, 31226276, 12090345, 38848759, 38871147, 29004804, 16402787, 39581300, 31612253, 33760643, 29550414, 2723790, 36000993, 19387138, 20373880, 26130442, 36505699, 33516674, 13643363, 26462338, 24272937, 32722843, 40042573, 20057306, 12551009, 39173560, 33198193, 37791680, 38259087, 34536264, 12216191, 29711612, 12324162, 13091504, 26864238, 25295159, 20577586, 36926119, 2853051, 21162207, 26617227, 31918777, 13901197, 4236566, 38351778, 30930541, 34093613, 26545198, 32991417, 23560617, 7429118, 38266259, 15833190, 30152214, 36851362, 25200817, 35947366, 30314671, 36324209, 24883091, 13030396, 26900940, 30293881, 34828577, 26531909, 39436719, 31070563, 15840614, 28964453, 13240176, 11007169, 21981594, 28398271, 39395576, 20548148, 24274158, 22197929, 12497545, 31009953, 33398096, 35338566, 33720438, 32594456, 25709918, 38274014, 16312520, 25049335, 16600397, 36196335, 27381876, 32371560, 37212981, 25569941, 32154475, 32768609, 23075305, 4958652, 18391426, 39196147, 16589791, 14954354, 17882862, 36603824, 2641691, 24591346, 27335092, 37857689, 37051857, 31624283, 36589998, 37996883, 24171075, 32707208, 36714570, 27659237, 35510668, 27940848, 18856364, 12799269, 21637078, 22594400, 38813310, 20384036, 19712225, 31407463, 36421148, 14695367, 31314426, 24563303, 37856463, 25468181, 31663165, 8887544, 37589142, 27089448, 39898576, 21887754, 35629229, 9541004, 23266740, 24899289, 39153448, 2978286, 18806875, 28054958, 22588836, 24832715, 25211684, 24792690, 25651556, 38188619, 38689028, 12216717, 36297764, 11779633, 20058733, 13354725, 31887286, 11021623, 28483359, 38184886, 33901326, 39522333, 8898471, 11304988, 39992256, 28067574, 27630715, 29985701, 28228496, 30750782, 21858655, 11078122, 33424330, 8216088, 39756479, 21287013, 6710684, 33994316, 31256252, 26318995, 20409334, 17339494, 20249593, 35330387, 19622407, 22472101, 23983035, 35375061, 17793041, 9886303, 5891410, 35664741, 39371021, 7941591, 35562576, 20020445, 5640761, 37754948, 22144748, 37860136, 18346673, 35955293, 38254802, 5961932, 34567991, 40142804, 38825304, 37009411, 29734530, 18777873, 14790130, 35236352, 28877391, 13068257, 20585306, 34598020, 33748619, 34381847, 5657444, 18560319, 9958846, 39711867, 31458925, 26897098, 21864962, 20718744, 2610184, 35082943, 22232311, 15788290, 36230152, 15951488, 27300402, 13091251, 21174961, 35966857, 29546866, 25248290, 24636650, 33593165, 13663661, 18569408, 36881326, 16774148, 14916407, 14179941, 3738269, 16024055, 40102711, 37702825, 22122856, 39619718, 39353758, 38955074, 36733557, 21976675, 30311809, 15104340, 38992445, 8304897, 19755815, 28730649, 29807662, 39156506, 38425399, 33898665, 37824321, 28899920, 8083943, 33205260, 27924819, 39960415, 32101765, 26253947, 27003711, 33676133, 24664566, 22173872, 31774835, 21473865, 31886826, 15204070, 19143667, 19737605, 20384291, 31894238, 28885867, 11975146, 16419685, 31957364, 28364708, 18452633, 29267419, 22333601, 39197421, 28088483, 25985120, 30470479, 28913704, 19696047, 16039092, 33338286, 35916201, 40109379, 3310681, 24525270, 39561090, 38257306, 7890306, 27864753, 36207809, 28869104, 6674338, 21367595, 30072562, 7891247, 35799709, 27585355, 3138669, 27288682, 18204134, 38986074, 39192878, 32974858, 15390858, 15841708, 35356933, 28373416, 24630155, 28067744, 19570577, 21257067, 31943391, 26463273, 20844391, 38927266, 33872304, 34223207, 39395921, 29278848, 20619734, 27040475, 27276927, 37354574, 33390465, 33704124, 19346276, 14820843, 39224764, 40068308, 17621520, 36310002, 35954990, 17194214, 22215554, 18407307, 39872152, 18049793, 25836734, 22509854, 14391504, 26127252, 12355416, 33101410, 36069510, 17889065, 28011142, 3910301, 36535053, 17392424, 28531875, 9534408, 21030391, 26691097, 32989114, 9376898, 23050944, 29013646, 36432325, 33436763, 22600509, 27555359, 35057027, 22498128, 39475275, 29752377, 33576792, 27572219, 21743871, 36802062, 19391646, 37949409, 15581829, 27404498, 27169063, 30979351, 36215360, 34614422, 19161512, 35227120, 37585698, 37014266, 12582875, 12787650, 32313987, 33148714, 18582127, 34123568, 39238340, 20057831, 34100783, 26678132, 38578754, 19860262, 36758114, 37096055, 5898617, 28657018, 37633523, 13713710, 33767491, 36474710, 13827670, 17774480, 36519642, 37552035, 36537811, 31622102, 7038939, 23082342, 31411330, 21856907, 40097086, 20529037, 31456800, 20347252, 38272191, 29526701, 28431747, 11427878, 37391906, 31243002, 39141466, 23555683, 32643388, 37681020, 34945569, 34073761, 31126698, 32622977, 12813445, 32159642, 39688318, 19507088, 29673396, 3376018, 33655127, 26635870, 17759314, 22760307, 9793731, 14201192, 29597295, 38904598, 36739687, 19359462, 32231547, 23328264, 38060887, 22363566, 34896728, 28843834, 5033799, 28697773, 21012484, 4227990, 31764579, 35098606, 35811400, 39420430, 40143044, 27914065, 25354311, 24740249, 38509654, 13391449, 25778874, 13751688, 32805549, 16966031, 18850907, 18196932, 20331449, 15020417, 14901317, 24555811, 29171435, 39822219, 6061720, 20139929, 20832304, 11886255, 1846836, 12288773, 36732532, 20439491, 33413155, 25584459, 37146164, 38341495, 25148639, 35833414, 32102203, 37213750, 35344827, 39654212, 38966082, 11891057, 6193538, 35350542, 34089087, 38830856, 14445830, 36748184, 17785275, 17068832, 29057159, 17657749, 26506204, 5938459, 39197733, 28143523, 4431481, 10675198, 30503321, 37853559, 34272351, 16601049, 25748810, 28570174, 9984373, 13257167, 13476669, 36180659, 35888413, 34257436, 34914905, 34637875, 27462951, 4998587, 17776136, 34155457, 37660876, 39605399, 31255562, 32896387, 35492624, 39599512, 23930172, 38673531, 16009050, 6800534, 32841010, 38313400, 34189520, 24215421, 15415858, 39929113, 31922088, 5541324, 13034318, 31202448, 18199288, 37980417, 20462542, 25063167, 20903867, 27092768, 25115675, 5178055, 24090889, 23473895, 8466014, 27213390, 36869897, 17739543, 22883149, 2703310, 38772900, 34753492, 16641432, 31171277, 28420504, 35414252, 6909247, 35498852, 17602796, 33880052, 26958233, 16266720, 27006176, 14890216, 39045976, 35247778, 23117490, 36339882, 35357069, 28785879, 26867859, 4455076, 39089609, 20492419, 31527016, 22878854, 35781311, 28804526, 31566508, 35661496, 36522791, 22580781, 14966236, 18458734, 39059714, 37593550, 19586392, 22835914, 15528696, 37540782, 16312006, 40040379, 23906324, 13513950, 28292542, 29175384, 30569889, 34290732, 35036622, 40021914, 9041236, 29803480, 37839928, 39317373, 10925671, 23923090, 21124891, 5260232, 20917076, 28986967, 23679373, 13913572, 24467709, 37707359, 31662528, 21254048, 19036565, 27970134, 1358977, 31603657, 31751210, 31462265, 17013100, 31104428, 32944377, 36486120, 28659212, 34489141, 33483912, 15145287, 24806854, 7497328, 38054160, 35015533, 18326900, 3107991, 34947578, 34963248, 8647024, 18573502, 17662600, 14372613, 3680262, 10679523, 33662863, 38110408, 16646456, 36127436, 39768373, 18792339, 4674473, 12699228, 36721936, 35229713, 30021390, 38709313, 18969143, 17043986, 27568462, 22044756, 14611703, 29316955, 18850057, 29857945, 20225613, 34600456, 30964055, 25446144, 24232181, 22845247, 31321260, 28856137, 22211101, 28892469, 32900854, 25441544, 23841646, 35271594, 18817021, 33867408, 15332388, 39177438, 16795612, 13003839, 19329667, 33473272, 32314470, 20990538, 39348937, 27281031, 18149594, 38927294, 29102955, 28663508, 27346232, 29360128, 5172412, 23200085, 25421381, 7824934, 35532237, 15412061, 39389741, 23480110, 37594294, 33781367, 32741031, 26924677, 15512276, 27963577, 23025920, 36523593, 36993422, 35953794, 35582612, 17930473, 21229773, 39650504, 24835345, 27334539, 34755599, 35658519, 30193089, 35237364, 24795027, 36748369, 21566379, 3725394, 35592385, 14246983, 26242037, 10377096, 21516621, 35723472, 37567777, 4135293, 25900762, 19165649, 24163673, 21917914, 1636929, 21291451, 24615542, 28723916, 16782381, 38072175, 22207061, 32167542, 38201406, 14515315, 38671630, 22258454, 25104733, 20522156, 25898685, 31820671, 36969436, 2907919, 20103779, 36348445, 17396873, 34430454, 500328, 24746237, 21939135, 37081288, 11767139, 37843135, 15284213, 38214032, 33484700, 18227957, 29245142, 25100309, 39840030, 5497216, 22247568, 36467328, 9537543, 23098146, 1632673, 11718852, 33669846, 5446365, 23312675, 34877314, 27384489, 37111604, 5795700, 2912485, 32571821, 24498178, 36499431, 17578115, 37304309, 24967453, 18612922, 25820838, 39234553, 25583428, 9091374, 32397347, 33405219, 29112602, 36319118, 18282867, 14089910, 16986317, 21920712, 29616764, 31043534, 21388026, 37241130, 17893022, 37597920, 36706334, 33404908, 36930546, 14655584, 32121228, 3035028, 7101404, 28592415, 31899270, 24900630, 30437547, 26318159, 38053016, 18133185, 15026696, 6931985, 4116658, 14876165, 32256841, 26108387, 31078160, 39387435, 39882632, 16499636, 24920873, 15973827, 27994660, 25766460, 19286657, 37498612, 39693808, 15906591, 36137980, 28092456, 39331320, 28404352, 38447016, 16782712, 31296285, 29236148, 13731405, 3518574, 32726081, 34833634, 28266403, 35340223, 34372160, 32666520, 29745593, 13187778, 36240905, 30130089, 15697350, 34455152, 33299458, 37398875, 11800544, 10112745, 19827706, 36370247, 33571111, 26455778, 33675624, 23533144, 28652276, 12820028, 24130730, 6022359, 25149698, 28904411, 11020160, 31237091, 28827282, 14918357, 27903980, 19798387, 22994189, 4753738, 17674523, 39627634, 22592163, 26571199, 32312199, 37951806, 28790989, 17477042, 39818559, 35151182, 19530383, 15957071, 34208400, 22562739, 34556180, 39797822, 20171043, 36409489, 29390738, 16800355, 8918773, 25996097, 28139405, 28910285, 17046093, 29298789, 17235231, 35042510, 4387878, 35737178, 39007847, 35091188, 33456364, 10475457, 35224264, 33559946, 37756963, 32811230, 25664682, 22388519, 22421430, 27900831, 22991318, 38855058, 11209646, 31034557, 35005310, 29046162, 10806790, 39149251, 17191598, 3477649, 35656927, 25169236, 26823556, 9655773, 32789331, 18989481, 16720645, 25096600, 19171136, 20813725, 16482895, 31443131, 16445311, 21664915, 29188578, 5803015, 22409678, 5989909, 36312253, 29692875, 25717686, 12265658, 20577133, 32532665, 26898226, 39864564, 23582489, 31325025, 39039474, 1029207, 19369787, 36037586, 19646135, 2859674, 8865481, 31745934, 32553377, 36326576, 21882069, 24838311, 40093776, 22138855, 36511371, 24812760, 39252860, 18702105, 20359157, 21701661, 38917173, 30041011, 25226084, 35212245, 31383658, 35961944, 33802221, 26284644, 38347664, 8632033, 32357087, 36274002, 7470288, 21022542, 28647172, 28162922, 35990775, 37692618, 10717653, 14206938, 35224880, 6936344, 13402393, 13692801, 37592935, 39164786, 11237527, 27511305, 31113538, 9830620, 13332934, 21553999, 35388785, 28073044, 39769958, 24473905, 29223179, 10492283, 13547423, 33282368, 27504531, 34814904, 17748570, 25875253, 24219745, 34667493, 20889501, 8527952, 39686084, 29714221, 18723364, 37121393, 38399401, 30742755, 21642748, 17396164, 25150409, 16216078, 33804380, 22962240, 27515135, 9927711, 37447347, 30039564, 15125407, 9243004, 22418634, 26433835, 37419586, 31476793, 36764485, 18702271, 30065905, 11232597, 38558428, 35837111, 35846055, 38117094, 22258923, 36549512, 37483463, 37995000, 14633376, 37664950, 32521982, 22282834, 12754971, 37884465, 34133037, 22732142, 19623150, 28719547, 16944445, 31541437, 22582691, 28028265, 26948169, 34098968, 21963058, 39729508, 22971669, 25471457, 20042478, 35727956, 12307854, 15330521, 27661975, 39393652, 23663626, 30287950, 28943887, 39670027, 39190567, 20108444, 25125168, 40082726, 24475094, 15989701, 29430866, 20521873, 35220464, 30487825, 13921629, 28437448, 29522874, 37913906, 19191080, 36805221, 35394425, 26633490, 14222110, 32301698, 5415113, 34602971, 34821574, 30352109, 38740885, 21196363, 2144443, 35583496, 11770142, 31305622, 24002820, 39888346, 34307166, 12740022, 12514890, 13065172, 36522120, 26542615, 26764632, 38297266, 24122783, 38062147, 28138093, 25098636, 17558484, 23742005, 35284780, 30705011, 36358688, 25113814, 30507361, 34914680, 27010220, 27617078, 22821460, 18955250, 15873350, 9026331, 38559676, 27268854, 20086032, 12362703, 38443808, 33934255, 12978518, 28366147, 21752566, 28933596, 39612739, 20291594, 35806305, 28628264, 27736600, 31567882, 15603931, 30132036, 10625096, 19731022, 35567511, 27028226, 36733207, 27218543, 34086204, 29997024, 38777890, 26189570, 37820918, 13944844, 33346712, 14002480, 19662102, 36190757, 33406545, 21890689, 37359192, 32214890, 20928136, 38062590, 30079740, 24973961, 35437216, 11580727, 31809425, 25683678, 23106931, 22325211, 25254541, 17276008, 20793312, 30042348, 33193171, 16236157, 27974495, 35766037, 26303583, 20753288, 23520952, 37064881, 31398435, 23793721, 22457897, 24767962, 3051024, 39308835, 28843429, 33314109, 36397707, 37543093, 35405796, 25347022, 6397495, 26475384, 8024750, 25896654, 20428541, 35797433, 16000637, 20277886, 2250403, 33410556, 21667161, 26558846, 20179393, 28650469, 1761419, 20298402, 16585083, 8830124, 31546490, 36348423, 38377107, 17801198, 6392719, 35412235, 38876647, 39255523, 27061268, 38154903, 20841914, 21356171, 10797734, 19890041, 17663433, 17659308, 33470621, 4568959, 17528764, 22387736, 19328537, 32155903, 34712969, 39010539, 39611122, 12890797, 23544889, 32576876, 23981227, 14009741, 22158922, 34597102, 14549286, 33676327, 33719975, 17266989, 36156336, 11584856, 10325197, 35830231, 40121953, 39260616, 38646127, 32941345, 32368895, 35875617, 25432523, 26755352, 11367191, 31481708, 17648584, 38268907, 36955185, 27541421, 14503660, 21266607, 36781326, 16239165, 31863250, 29879918, 33168871, 36867114, 29647326, 27469031, 28709810, 24024809, 38401845, 19852558, 35067349, 26964169, 13247735, 19058249, 34550289, 32126758, 13659401, 16835729, 38800532, 11827100, 32389249, 20710409, 36611043, 9296658, 31841820, 24089973, 20441224, 10799573, 3798333, 35870473, 16040277, 37923403, 29595085, 32744205, 19544911, 37733225, 20158579, 30065437, 7235785, 36166103, 15845303, 26497723, 32191756, 33394238, 37881420, 25213603, 22892922, 35546740, 9661909, 31013125, 21380585, 39169268, 32755768, 39931382, 30310926, 39187374, 29592634, 30662065, 20647435, 15569429, 26285337, 27918247, 30056577, 30099454, 39541991, 30720760, 36503828, 16060356, 27208413, 25229659, 19086229, 16733459, 30269235, 28283816, 37649829, 13809485, 29289500, 32544925, 24756969, 12078298, 31552270, 32615280, 7561969, 20533401, 35974688, 31308504, 29785797, 29791119, 38588490, 16512227, 26645233, 39153408, 25365744, 28863737, 31332347, 19432096, 16251490, 32967052, 35967907, 21554885, 17129290, 7347101, 12351837, 39639806, 19667927, 30964409, 40063034, 28296756, 38860095, 22799477, 32609158, 34024479, 29083158, 39164636, 12169611, 1721802, 25125300, 19361712, 20917703, 19465012, 11483863, 35328286, 39878426, 36398847, 35316728, 33192753, 31304932, 24860747, 35208553, 17455302, 9560207, 37738350, 28143564, 36202888, 12393387, 11809612, 33521078, 35205905, 10761769, 26968847, 34089548, 28005531, 29607116, 22709612, 37245461, 23500843, 6877008, 34696179, 31226696, 39520060, 36239953, 38265821, 26143629, 15959411, 13752988, 36062203, 12219771, 28773186, 38886394, 19963253, 33728413, 33964825, 21616537, 17026496, 11615664, 10502991, 27500875, 28885279, 36216084, 36532390, 8739227, 38921975, 35152636, 11797688, 29420737, 37714320, 35762857, 39585131, 15627312, 13543291, 6567724, 31975205, 17828782, 14408122, 16511156, 30535467, 22752486, 13064795, 39130629, 37931104, 30006246, 33129328, 22879200, 31400149, 19016144, 14677306, 34073904, 20348931, 34491973, 28569548, 32114215, 23612699, 18927217, 38637665, 20458568, 6835531, 11765452, 5489732, 19312562, 36632404, 31034068, 29484408, 32589829, 16520838, 12653120, 12087127, 39642721, 38894418, 18705331, 21613646, 33200360, 20355311, 23527301, 28949293, 944863, 25923027, 39281310, 23120621, 37133699, 38748345, 24102884, 38331562, 8024305, 32483772, 32138549, 20802016, 29556746, 14416130, 38721200, 23186008, 16495298, 31952560, 16246538, 13146542, 37747886, 22906167, 19199871, 31687906, 39434302, 32241085, 28838910, 31886674, 34113000, 37337883, 39447041, 23517307, 33112194, 37298710, 26058792, 25529730, 33863133, 29447164, 38218063, 18943678, 25515808, 38100153, 28111437, 17711100, 34838019, 5596022, 34759585, 32082961, 20142545, 21287592, 17753398, 18412806, 26019315, 23549092, 21316056, 36304843, 36050578, 2678425, 8827338, 35709622, 8373197, 40126029, 39431085, 32799076, 39639953, 38258594, 17729376, 37820251, 18499108, 17951672, 19676538, 38841587, 9244397, 24762435, 26634875, 30465635, 39991590, 39054413, 34585335, 24332428, 24587433, 38220127, 7256283, 33552193, 21432023, 38354213, 23905817, 23419193, 11830474, 33135459, 34720896, 24737722, 32051012, 35843519, 26208325, 18211783, 39884769, 34956406, 24840028, 31037617, 28926813, 25828478, 30498396, 38553238, 24867747, 12923586, 34994832, 36792281, 30669839, 25218465, 28900602, 34854856, 36041752, 16569613, 35717056, 32807267, 33532249, 16229823, 26393545, 33661428, 31796980, 37665781, 26718222, 37192957, 30835379, 35976556, 8216975, 15598867, 17459984, 21843513, 32024361, 17933282, 32351310, 38404793, 31794158, 35923492, 24978052, 24023492, 29017733, 20470198, 13802967, 33614041, 30234779, 36847325, 25693225, 28884344, 1836966, 33200010, 16068118, 37632550, 33645566, 38791685, 17150974, 39064851, 34228259, 21366232, 22231267, 34370063, 25277092, 30225633, 32929725, 30915373, 25610907, 34531479, 38817357, 25888255, 38820079, 21862777, 33756995, 6086621, 23802725, 8688203, 31609681, 37310434, 27293830, 3315894, 18757742, 32793228, 17109410, 32599719, 22791333, 21825206, 36071334, 25942293, 32440716, 33573991, 20403968, 18879267, 25107806, 29717269, 38222167, 23231698, 34007632, 29909780, 21560815, 31458983, 15511499, 23313260, 10699715, 6518811, 12322869, 37091870, 23794039, 20036663, 26742388, 23006939, 6238250, 12931569, 30308838, 12269741, 17273242, 39401709, 39084059, 22862105, 25574178, 34983707, 38507672, 21287160, 38385626, 28758643, 27872239, 21945781, 10602500, 33324270, 28586700, 11300650, 26019437, 3880761, 16158795, 6726297, 38127529, 38183432, 14197088, 10922231, 30562409, 36527870, 37468069, 15740137, 24923163, 37623713, 27192972, 16970982, 37027513, 27557406, 16642022, 24777820, 37689281, 33921795, 15922203, 26429409, 22943987, 37275921, 15573482, 25903913, 7326924, 21539751, 34952651, 26611536, 14755116, 27012296, 37522050, 15450192, 32408428, 7343782, 9482550, 36738531, 15758538, 39133279, 39795280, 24851685, 35760298, 16091995, 36722931, 38516694, 36240558, 31288566, 2146031, 39337082, 37207626, 17626168, 30182076, 30376055, 28357897, 33768719, 31270971, 35439570, 25289132, 27391495, 2550650, 22481034, 38486528, 30521503, 10511646, 18818292, 24981936, 30233289, 5228634, 30247301, 5340739, 4407984, 35703320, 14799775, 26964812, 12616821, 39947903, 5838994, 10647500, 21275018, 8477122, 32504143, 15381653, 19756242, 21799554, 1530598, 27612469, 38953369, 31818097, 32039004, 35983232, 38097034, 14475922, 30407130, 39885113, 34635864, 25750807, 5822452, 10148818, 33681793, 21555419, 9561025, 27261015, 34421565, 31276000, 38402890, 33638377, 17393592, 39475641, 22030104, 7910591, 16890553, 25267939, 30329673, 36361006, 31358765, 25539311, 22916855, 35211932, 9470604, 15397284, 16423078, 26279903, 39336727, 31164731, 25632072, 13522470, 10753528, 23857894, 30879482, 37921237, 33359411, 8070349, 33549589, 11331854, 33707060, 23874295, 27111569, 8565104, 29300835, 39592295, 14564656, 26318070, 30691797, 34365673, 35327104, 9245466, 24609639, 36411207, 32850818, 32325410, 23482308, 18720633, 15976369, 33356461, 20388071, 23593295, 24910694, 27830164, 10750894, 15414027, 19027975, 34361892, 6684238, 38573577, 38777914, 37489148, 35068388, 29324735, 27891448, 30818367, 36853770, 11198860, 36892637, 38341594, 23190017, 28646336, 25831023, 18178504, 38863775, 30341227, 39800223, 23611619, 19206990, 32847605, 32992782, 39178550, 38546651, 15559799, 31681946, 35016092, 32747516, 14386822, 29972144, 36241961, 37749900, 35788558, 33926000, 16642078, 31907924, 34929886, 36941294, 10466730, 18582178, 35097837, 34205659, 28727704, 29197698, 30561617, 38908500, 26207080, 39798259, 18163477, 18658205, 29039488, 35493275, 29026976, 39834321, 35514976, 22361666, 12028638, 14229029, 34002427, 6811749, 15920413, 35911456, 21216510, 11885298, 35955750, 40063401, 26218770, 28897885, 33285545, 22072911, 27263776, 36839515, 34620038, 18526270, 38506044, 26689647, 39152282, 19004772, 21650905, 22852479, 11115538, 35978630, 26886653, 24128167, 18771236, 11851297, 26789664, 29806080, 31977175, 8940802, 16325258, 5762906, 29924590, 28778124, 29208688, 26998204, 25126805, 14032225, 37010837, 7471474, 38433774, 16661880, 21216208, 27803128, 22970716, 38662999, 8385602, 35266161, 38945499, 7776907, 30014819, 39593672, 37174074, 34913483, 28243559, 8623047, 39079458, 20932361, 26609317, 16505670, 36889880, 15094346, 21525460, 12799454, 32887894, 17172472, 13024357, 38683638, 40018125, 31039632, 31908314, 18527612, 39230757, 24601405, 39691152, 36466280, 32302654, 38124433, 20709855, 37127354, 39132712, 39925464, 7820809, 32659556, 17982628, 11725573, 20994569, 8908312, 20771694, 30997176, 8423051, 39040924, 36595280, 24834094, 33053344, 10016352, 14508531, 21032798, 33145595, 12128646, 18714587, 35800823, 37216138, 39913479, 8317022, 37287938, 21397375, 37819829, 28178763, 32877168, 35925869, 38130008, 25133313, 29509578, 39232625, 3069820, 40094938, 38270861, 34118895, 21915948, 15976697, 30895093, 30551987, 39115166, 11668446, 33991750, 26890477, 23688414, 27310325, 15966335, 35274840, 31514051, 32456808, 17384826, 20448741, 11637045, 21193145, 28572731, 35203047, 33011475, 36530015, 17273312, 34750543, 17619669, 34965197, 5127991, 17476732, 30820962, 27638523, 27769626, 4680525, 28587377, 22736593, 16230045, 7733969, 12513355, 10126125, 31498784, 27323848, 5064822, 5359235, 40029618, 12243803, 35649603, 38947916, 25481058, 26228059, 36658082, 6416688, 4082298, 36712578, 11595740, 34598632, 20860977, 22461342, 19722919, 19862686, 4065737, 31631094, 17246609, 37810671, 16869990, 13934959, 16470123, 15858435, 17273022, 38443703, 37801768, 28652976, 29568110, 37964100, 21011571, 38620429, 31618336, 17348214, 15473377, 27907866, 29040276, 24406937, 7757461, 22048281, 25773817, 31544129, 31163133, 37519830, 34619752, 16968433, 18680211, 17426742, 39701779, 38656609, 34826371, 19416773, 21542194, 36137122, 31076701, 22618850, 29155671, 18898694, 30055500, 17177426, 5852495, 27488651, 12249089, 34537254, 19915673, 21281328, 14390224, 27415231, 5807047, 26871083, 29133530, 34424691, 27046533, 33893319, 36381356, 14671013, 34666751, 7394760, 13021249, 32764738, 39646480, 26351519, 32929254, 22516059, 35978165, 21955116, 31599284, 27873190, 28272041, 24659278, 13040548, 22068148, 28925267, 32639826, 23244443, 26228138, 14517114, 11898736, 10887212, 24428449, 33334630, 9406185, 11979734, 13663721, 5902108, 21685019, 16862459, 35184681, 21165751, 26104455, 21912804, 18111442, 19795705, 9958506, 34097281, 21153865, 34266417, 35459065, 10100380, 7761859, 22542312, 23650796, 12079465, 36650957, 37996295, 23847843, 17582160, 38619427, 32784764, 10015284, 37016380, 31516319, 22273242, 39641596, 10996769, 11064454, 25226872, 32207420, 13493450, 35815542, 3491802, 23228244, 16246324, 36233918, 8226923, 28554078, 36363238, 37366285, 36243532, 17530372, 25534321, 29537556, 2669427, 33002876, 28653985, 26130447, 38470103, 9236926, 29140233, 31993186, 37902509, 28327123, 2461303, 35788379, 18836959, 16826049, 30627128, 17805785, 23312244, 20802890, 23932479, 28800198, 36106546, 19420171, 34668931, 23870113, 23794744, 8546309, 36055830, 38217462, 36223564, 22240327, 39339463, 38448321, 35803431, 12747319, 22776195, 13956564, 23530187, 35937602, 38558349, 31303462, 21821467, 8373375, 31360578, 30549755, 11198889, 33660362, 19311353, 15079186, 26242438, 29092770, 15527666, 39398933, 10542263, 37564977, 11789363, 29083702, 39415988, 22121385, 27600640, 25342072, 35341297, 14956683, 19281271, 38609599, 22718860, 36371567, 35698648, 26648724, 24761690, 31964727, 15730368, 15349904, 18767523, 34157574, 31721404, 36681781, 32838802, 19413016, 9002715, 10179929, 10485892, 30548699, 1735263, 32312206, 34580859, 5843085, 4037262, 29213575, 35880257, 27680024, 7445769, 36209310, 25754145, 22105529, 21664922, 6256249, 39277113, 34503471, 26381511, 30014144, 31280040, 28452716, 20301967, 18310799, 14558387, 13774064, 23246125, 9794019, 5393205, 11508010, 16581070, 34217715, 34628543, 38931631, 34003895, 38495471, 11421879, 24439137, 31799611, 28935851, 30618399, 26155720, 14468158, 18173407, 32921268, 12496885, 34045672, 23038067, 32424604, 38220143, 25649412, 6681284, 27852581, 27683916, 11332205, 1829340, 35547853, 32511114, 25004564, 34813605, 39135472, 12623835, 35657516, 36457130, 10307313, 21654474, 6101694, 15792552, 5963485, 30385868, 29832455, 27505708, 21888695, 38523385, 33848599, 36008510, 31398113, 29442225, 28180413, 39241282, 2148110, 39178344, 33945334, 38872659, 26444938, 29489712, 37015551, 20434978, 28915901, 33657768, 25514312, 34365564, 18538790, 19575943, 17966392, 14058426, 14715791, 13061379, 30049253, 20540892, 4495127, 19948253, 12268526, 14106912, 18166507, 39626431, 34356682, 33083408, 17137390, 34167603, 31791728, 38153136, 32238751, 31111368, 11726484, 22048792, 26171484, 17827763, 25032843, 5701811, 39777531, 39500356, 38493795, 33799057, 33847736, 38082936, 15167615, 16355273, 31690062, 24167661, 13876789, 9226408, 30066324, 14426691, 26171078, 6451514, 36488564, 25799502, 39597490, 19006024, 18172944, 31697873, 34168399, 27971782, 118370, 19122690, 23208640, 35095257, 7186958, 27258693, 25948316, 27251451, 39465812, 37103663, 22442559, 20235070, 26770996, 15226755, 34667463, 9481295, 25345155, 23887683, 15366053, 33825531, 22192448, 12395420, 17001461, 32316530, 39615436, 30947328, 5693116, 19957516, 26598132, 37380912, 24794666, 20223452, 21532667, 40138031, 39806259, 25821596, 14087545, 10678682, 39145284, 36489615, 11064908, 27174771, 12366607, 30587076, 21627787, 10188652, 23794707, 27370084, 38507936, 15192847, 36793705, 36372924, 9525398, 37371841, 14986693, 25545465, 37501227, 37508559, 16410827, 20350730, 37615932, 24764131, 35619668, 25633992, 33766831, 26089893, 19402069, 34498834, 20292995, 30898562, 36000668, 32137330, 35668472, 14739555, 25108014, 12229972, 35340877, 33451800, 34540301, 39372037, 29956196, 22047786, 30799581, 38704648, 30996934, 25133718, 33631577, 37909508, 25982638, 29748229, 22895972, 24518034, 24190917, 15489708, 30090306, 5602155, 22555056, 37542853, 29190970, 19613048, 8966871, 17453922, 37424981, 10278004, 38627780, 36904051, 34279307, 36968382, 13981122, 33333743, 14224003, 21806129, 38043140, 35689033, 12577179, 16997880, 10302923, 20400641, 29779501, 35815093, 20230384, 34436137, 30665454, 10881612, 25440008, 28272040, 33757155, 32210173, 26628878, 5642457, 27727762, 24780697, 31789187, 32657959, 18216546, 23848328, 27515366, 25409248, 9062562, 32071339, 14190425, 38795183, 38133909, 23049463, 16149187, 29263099, 27034723, 32074161, 28506414, 26671931, 795570, 33578124, 19608875, 19412197, 16288320, 18849707, 27657349, 35232406, 29536711, 21309816, 29080184, 24419164, 18759931, 37300974, 13736115, 21894847, 38708621, 11650956, 37861171, 36265930, 39439279, 37092187, 28227340, 15825981, 36318018, 39660651, 22795994, 11723779, 39965592, 25704797, 31442826, 24641731, 25992927, 33825189, 35057244, 36178631, 38277928, 23965039, 26965916, 32975263, 26906333, 1589706, 23626009, 28547566, 39463019, 8921507, 36187684, 21725464, 28441146, 13215836, 1579218, 37502610, 29256582, 22277476, 13311471, 36024434, 23189506, 39677462, 23698850, 37143011, 7811387, 23400810, 21891043, 29872577, 34830050, 28398220, 32192571, 558216, 10032809, 4565685, 31392899, 36968418, 30782594, 17165776, 34192959, 25372947, 22882588, 14135946, 18478024, 30881428, 37309910, 23840797, 23141960, 38765585, 35073829, 37443565, 5359880, 8475498, 39973073, 35736993, 39233231, 27241473, 18067123, 13246694, 39690742, 36279904, 28910851, 36008941, 36485619, 15337939, 16598286, 36284100, 30487383, 23086451, 36896855, 11730952, 37555827, 23917424, 29534504, 36516905, 31321428, 37377340, 8194739, 33680750, 29767235, 24098205, 33346591, 11373192, 33374140, 20615574, 24947322, 33745614, 28774642, 29637894, 35260514, 28269379, 26901319, 32491783, 20462171, 25962838, 37624798, 36096298, 37566639, 10665889, 38105390, 26175570, 33365373, 25561718, 36787401, 10099458, 28649481, 35954065, 39277687, 24233099, 6791159, 20778667, 30118305, 4155888, 21913009, 25430866, 31278829, 36268156, 35415247, 31475077, 38817525, 25997532, 38327610, 38500090, 36774551, 39926473, 34004352, 23115733, 38208416, 29588701, 31062273, 8406107, 21208420, 37358016, 38809852, 15012309, 12323959, 38712173, 24503145, 34435571, 36261388, 21005656, 22081954, 30762832, 37724225, 27064196, 34028107, 13598646, 36590107, 35769536, 37811420, 28909986, 24801002, 39802232, 28972243, 14635172, 17800703, 27987422, 17763961, 14349084, 38427615, 2473983, 38556574, 38208555, 26547121, 29710045, 20911147, 12579162, 12755717, 29451057, 29201404, 32867018, 22153744, 27732543, 39602650, 29871128, 12212068, 31271039, 31498746, 19941963, 15484998, 39627187, 20636155, 40030448, 23646785, 33781848, 10346336, 36318145, 38608881, 24590142, 35613173, 34890861, 24601014, 32074753, 32207474, 27431141, 38107553, 34569186, 35281193, 23413310, 19263948, 33555496, 21729328, 35372557, 31501362, 5798364, 35567460, 21863162, 40141895, 33543822, 36772082, 2956459, 24343220, 29877508, 28464963, 9195506, 5162073, 34232160, 16633612, 33687079, 13871340, 40109915, 16992713, 34255576, 38232497, 9349434, 2048577, 9376531, 25909984, 36776893, 33768309, 11309384, 38673878, 9858860, 31093986, 29820207, 34932288, 35735497, 2326786, 38575786, 24223682, 15316376, 16996541, 35517954, 18794390, 36944089, 37415269, 30903522, 23264404, 19314402, 24753613, 6783088, 15665385, 32039933, 33305914, 14817034, 36755280, 29704880, 24482656, 28187569, 31573291, 37845839, 21540467, 10198747, 32507117, 31470683, 31439331, 31702856, 22211486, 29356825, 38338335, 22410803, 12063262, 38494982, 25119564, 30679339, 11927484, 27967914, 19141432, 13693751, 33558092, 12816293, 11071490, 31322599, 22413454, 111983, 36675489, 37690440, 13321042, 31519302, 33849411, 10158269, 25404564, 37416978, 21911588, 38909243, 36808752, 6709387, 36530726, 20491028, 39307268, 30517513, 34116024, 25082679, 17027487, 17301795, 29639819, 38508556, 13688784, 18113379, 34123589, 37408685, 21655112, 35941117, 40002694, 23327372, 37662092, 11917779, 29375516, 21322564, 35932896, 38340477, 19942995, 30639656, 33479149, 34977529, 24759209, 36278590, 29438367, 36169400, 31864160, 36502847, 40069562, 22863784, 13308639, 2848099, 29954263, 39327934, 29865785, 34822442, 20338536, 39297284, 14904743, 40063339, 17675268, 37218550, 20615094, 37978336, 22664065, 31079457, 26514153, 39739913, 3761103, 7755684, 36073937, 29257110, 21203907, 28159125, 11892491, 30147765, 17982931, 35528291, 17226252, 9565426, 7452195, 27615838, 19801978, 5163974, 26472409, 28548180, 28959135, 30468454, 12501487, 24173301, 8453501, 36583515, 10422504, 30687493, 20873750, 28447800, 17836880, 37215876, 31305686, 19865974, 34184502, 36623603, 26458807, 35212192, 38977344, 21852572, 14550440, 18543452, 28279438, 33290070, 21666066, 15463057, 36483797, 32080382, 19849167, 25965270, 39328205, 37012673, 19117277, 5124376, 37230844, 17411851, 39676294, 8895120, 25071305, 6200069, 27184976, 33575928, 27625318, 28484484, 24694736, 14545602, 23004374, 16396141, 22622916, 14800892, 40095686, 28304881, 15841730, 13055090, 38251216, 21899555, 37953090, 30428094, 38663380, 30138026, 34901968, 9873720, 23598022, 23945764, 24641860, 39153343, 38134811, 32530393, 37470835, 33743651, 14138899, 16426534, 34562893, 35251190, 36440557, 9546022, 12322999, 27061168, 24581692, 30865933, 21790505, 29777368, 36967920, 36924613, 28389890, 29686547, 24908447, 9418614, 22636499, 26290643, 38120381, 39949887, 39254203, 16260806, 19743525, 39377866, 39237399, 38527405, 35549082, 37486502, 22083660, 12137018, 38768129, 38383477, 30494167, 16028224, 28991643, 36108213, 36530446, 33856436, 31891484, 21323032, 39796422, 18538363, 1783369, 32403223, 27678568, 33483704, 32150385, 37367688, 17514377, 18282568, 35234680, 23271444, 18935037, 35040839, 1565731, 22225057, 17481672, 24286439, 29265888, 39926716, 27452352, 5984806, 35220302, 35575118, 27411142, 36766045, 37711817, 27268448, 31739103, 6226409, 18991408, 34878573, 16500426, 18982418, 37328781, 36190533, 24973762, 34871483, 25493052, 2952119, 20731233, 35226115, 36951577, 24748990, 21579927, 34750362, 38059796, 30258120, 27505764, 31208831, 24015404, 3920175, 13464123, 19073455, 38163257, 24121385, 39049716, 11342647, 20003290, 34796147, 11543991, 26689894, 37467486, 36668771, 39614825, 22103572, 39771934, 1827489, 37680196, 16076237, 39319812, 38604963, 18555486, 9423984, 38248677, 32239558, 9775765, 14493531, 26634579, 25937385, 33830349, 29832121, 20104270, 20849755, 21255215, 31550565, 29594936, 14880766, 31102197, 7741383, 28913065, 19477264, 19720370, 26002815, 34342370, 36874776, 31703327, 17454116, 15454285, 38907079, 35648051, 2311578, 32319036, 24500792, 21920233, 39257652, 16420097, 30067356, 35330282, 25126132, 7193870, 39797454, 38171072, 25710356, 34138094, 12699625, 34182910, 33582358, 30626909, 30236481, 19930749, 38927004, 1329105, 22459636, 23583315, 19710366, 38705094, 28679949, 1870871, 36960830, 36413086, 25206316, 37358293, 39837495, 18795489, 25243693, 13336218, 35700389, 29500095, 19330561, 34915812, 29308274, 23628861, 39376892, 33434032, 39553883, 29020070, 21365094, 36470728, 38067292, 34710123, 7332841, 32932866, 31855249, 29236097, 36927432, 38110034, 40010237, 38755506, 16613733, 33987451, 37820345, 34979689, 15317822, 26290180, 21690113, 37846676, 22161675, 22859293, 25682600, 23317781, 17737748, 24436063, 33792915, 35047068, 9448029, 33246141, 7438438, 36019125, 19902183, 32422845, 32641961, 35656186, 17487606, 39176190, 29629157, 19334254, 39711838, 23638638, 33065785, 30378999, 17437817, 34122064, 27606209, 28546563, 22124332, 19824106, 34027261, 32248706, 26068088, 22315468, 32731604, 25848716, 36161010, 35604447, 30429772, 33073652, 38357279, 27377147, 16140684, 32604138, 31738724, 26197234, 37110881, 5374829, 31234689, 24095382, 20607678, 35364708, 38282684, 38681940, 38526271, 23193266, 38712462, 25513508, 16936414, 34267241, 16511872, 9665558, 27196715, 37534046, 39320068, 15029666, 13590707, 1602919, 17911188, 37622906, 14214508, 33862956, 19346323, 34570816, 39066220, 22459847, 2930792, 36190452, 30179676, 38577308, 39443222, 33291027, 39037782, 27573710, 40011678, 37412742, 33074236, 24534755, 29022377, 35261830, 38002686, 12749246, 30792757, 37829553, 22075369, 40038618, 37948283, 24088109, 35116304, 35135324, 35795275, 37368511, 1837874, 37075975, 5048217, 16125421, 28995735, 31100111, 12947599, 24594420, 29811547, 39834556, 33616230, 34007704, 23229961, 6598726, 23594465, 26037592, 29306092, 39274814, 36572993, 39909919, 39229053, 38987955, 37308000, 26698246, 30048991, 23071213, 38041284, 20638223, 28344109, 13787258, 32045725, 27414726, 36394337, 27869933, 39344596, 17682127, 3270891, 19479390, 38858407, 26666249, 39691830, 37451338, 37808864, 33226512, 34078382, 19963111, 29444914, 32808893, 24291448, 27286639, 26543349, 31497208, 40094120, 38830236, 13721808, 29822007, 6024212, 8582177, 19473770, 31355376, 38596983, 19122636, 10305130, 34187667, 13942698, 30158245, 25815155, 36001327, 24679559, 25625364, 19557403, 29800104, 33813279, 15336869, 36489670, 32576730, 38746561, 12572734, 39235937, 32284846, 18243513, 24376898, 30647219, 8712659, 27052836, 35232316, 6319207, 20510578, 24297257, 33438753, 26935652, 40049016, 39647566, 39587719, 31617829, 16845559, 22053279, 28897444, 35683790, 21031372, 26539316, 31240305, 10788219, 399326, 32195199, 36902948, 36809368, 22077593, 33724228, 27092337, 29995034, 33270693, 39810199, 24647851, 32417338, 26963319, 35498929, 22838574, 27278755, 28140924, 24757242, 37126265, 25835539, 37737955, 14859858, 34466625, 37061859, 35688758, 25367441, 39765903, 18813257, 37838508, 23233983, 33178216, 19511440, 21567614, 17300506, 33323661, 37423353, 20377429, 31386791, 1708315, 18521536, 32342663, 35182236, 19684697, 39648718, 30881811, 4395683, 34418423, 14375165, 28795573, 23189227, 24784669, 35163277, 34782047, 23619930, 27336106, 19657037, 19964857, 23607525, 35986551, 35417282, 28264548, 16224200, 36592043, 9952891, 27449825, 29566816, 33746562, 17934083, 37216408, 34885381, 38803050, 35626998, 35866847, 32458659, 20773377, 38764891, 19992263, 25599533, 33181245, 29427730, 30179293, 29765993, 32318506, 34140169, 37378560, 33533148, 38150289, 12218848, 13650293, 14530014, 37300650, 17251803, 40076147, 32645549, 40003598, 33004582, 31531588, 24231957, 13327659, 20749819, 23551858, 8276788, 36973766, 28201364, 37024334, 13126727, 31817573, 40119050, 33961965, 39066199, 12403386, 7165916, 36965864, 28363845, 24299988, 21566689, 38903297, 39106834, 37342667, 38931142, 35982922, 22865162, 34999726, 29288552, 37646360, 37389728, 12878175, 28969229, 31995973, 31232354, 38661908, 32960310, 33974715, 36164217, 26223761, 24335448, 35795452, 33227002, 37764489, 13720983, 34737446, 18692564, 22389320, 35094234, 38729313, 20650279, 30324204, 27875539, 34431840, 38308519, 33426601, 35282474, 17711598, 38819951, 30961598, 39650318, 38442244, 31463753, 39815852, 29693846, 19578976, 35253097, 24057885, 14438259, 14980333, 16875940, 38159555, 40053490, 30721485, 26872202, 40091472, 25651128, 33710565, 14344351, 26833220, 34449869, 33928471, 19730216, 18445859, 35129157, 18872624, 22120330, 19584671, 25415186, 26696695, 36300850, 34499682, 28465173, 36893105, 26363637, 35003123, 16612507, 11423225, 38146756, 28881695, 35724250, 28757868, 31496352, 27292061, 36462497, 32334746, 27592381, 38359656, 38920677, 14802224, 33219985, 5286799, 33496176, 37748882, 24537058, 34404866, 38646009, 14089802, 34275053, 17584187, 31996872, 37971246, 33613579, 34894515, 28112089, 18937994, 18196187, 14477615, 11476071, 3010225, 27817250, 32900201, 13433817, 38644532, 34400986, 24575272, 40026020, 25073584, 38245852, 38495633, 35889696, 29641042, 38869155, 32944233, 4703983, 12311348, 14779798, 11282655, 35978794, 40000495, 35358846, 26540418, 33270673, 35439578, 29661069, 24161936, 32108392, 39884279, 28747976, 40046864, 36562933, 31304491, 31685548, 28573820, 34303826, 36666054, 33709433, 39560120, 28236516, 36113591, 22984339, 35543902, 37658968, 23482357, 36630290, 39949783, 31351960, 38132755, 38708322, 29736381, 26600885, 39332868, 38801448, 30675261, 27643505, 38553242, 30721677, 36675988, 35077336, 22384099, 17281356, 20482027, 27587108, 33641919, 28436812, 29757557, 15327457, 27757678, 11452981, 16363387, 12439417, 37595458, 33161734, 13012159, 31638508, 11514414, 17186253, 27361462, 33428350, 34828804, 21731043, 31877420, 37142837, 20591544, 35299569, 2527435, 21269481, 39743368, 31064981, 37372603, 37736612, 11164228, 37474809, 31606938, 26389487, 34906243, 35281679, 17501296, 38476906, 36424720, 17056775, 35930250, 35392123, 31921004, 24577876, 30478761, 37326490, 38640954, 29065579, 39478528, 36285502, 9866515, 30915912, 27395279, 17846934, 23119782, 31297434, 37596516, 39032416, 10568653, 34909391, 29796559, 27474228, 38361411, 36522205, 16270679, 36572234, 27723046, 28728321, 20625642, 39491132, 19666772, 10464301, 39059195, 29856614, 24616678, 28218466, 19929626, 12404330, 37848325, 31412252, 26299272, 17045816, 34367790, 29232535, 35491426, 29089881, 19735544, 37953631, 31888326, 34886638, 39800849, 2297026, 27726236, 27877878, 21122818, 33886389, 18024403, 385394, 39028548, 14271548, 36788678, 38371766, 35276199, 20079659, 33602796, 8576181, 13562546, 29098583, 14807598, 25839853, 38862891, 28856737, 1141047, 39881393, 39932488, 32569735, 37910294, 39014212, 37509699, 9355872, 16884747, 22773607, 16495121, 28920334, 32139162, 26589910, 11508897, 39312470, 36267232, 37647994, 37929294, 22937302, 30491766, 29314985, 16201240, 39424329, 33154164, 38985893, 26026790, 4293101, 26557914, 30229805, 37246527, 39885354, 19344789, 17676882, 23207870, 38538264, 33971987, 32026907, 32629715, 39381305, 26226251, 33977369, 28904602, 12460989, 28377690, 39813232, 7138686, 27327886, 32793249, 31662713, 28738826, 12640206, 10028910, 22753841, 18263004, 27862222, 38686610, 31927735, 27858657, 33181651, 37743358, 25921016, 39949766, 3522079, 27473205, 24028589, 35596577, 31223447, 36014916, 27591931, 17342899, 35314564, 10696239, 3986549, 33635115, 33147848, 39444472, 27733521, 34183469, 16469022, 39175891, 21579892, 34069702, 37945955, 12489737, 34318862, 34076020, 18307710, 9614417, 21142904, 29349694, 23766009, 31040875, 38537963, 30656707, 36511338, 20776189, 34459808, 16720726, 18527870, 33938079, 2951982, 38413327, 35853429, 9073699, 2530387, 22886836, 36004661, 32421197, 34376814, 32234928, 8124976, 27156780, 35241370, 31144781, 37287004, 33828822, 19188137, 28876440, 34862154, 24899193, 38747318, 22278993, 28463552, 36293836, 31530439, 15396302, 30140492, 32508406, 16575316, 37155049, 29000020, 33336135, 37891188, 26223347, 21780754, 31596352, 12538199, 35112035, 19590816, 28405110, 21911483, 30670264, 33105887, 32784875, 28591542, 30877552, 22626471, 22316522, 37769113, 19257497, 34517540, 28660287, 20047875, 34650421, 38836795, 9346622, 28360049, 15195880, 36371671, 34207745, 39036874, 40051902, 23015438, 35635818, 35047510, 23921781, 38417289, 2961150, 31506694, 36001966, 27248961, 34843603, 12392699, 27375518, 1238606, 17318778, 22462220, 12206706, 36392195, 14446499, 27363230, 34010827, 35021211, 27677769, 32037769, 39788251, 34236451, 18245681, 35372575, 6913023, 39683616, 30545655, 28650280, 38578773, 10886036, 38731252, 21493924, 19494933, 26414052, 29528077, 38813330, 39880189, 28628954, 28785610, 23152573, 22787235, 10555293, 38989032, 27536308, 35935467, 35291021, 35077299, 36191418, 36745932, 17749338, 28812004, 24754528, 37644046, 38732496, 15843136, 23454304, 13151333, 16180554, 22719760, 30263923, 38253757, 25852404, 20972093, 31582750, 27385633, 39111429, 23448867, 18045299, 24334362, 38318340, 18485160, 24529618, 35245202, 39801273, 29038533, 14095770, 29024931, 13342010, 14749568, 37629509, 36025113, 30047702, 34097472, 29060138, 34344025, 33191513, 26581397, 18175594, 7225234, 22914821, 35325828, 27476079, 36878525, 30543169, 10037279, 30408141, 34136434, 24159310, 9963155, 27352521, 34733090, 21350365, 31933772, 39858316, 27849412, 36635806, 6648394, 35328150, 38111340, 39418648, 37868391, 31458997, 36250468, 26121553, 40116025, 8843140, 24447455, 32251712, 21960514, 19612763, 11235932, 16847157, 39919459, 34191356, 28173567, 38622296, 14938716, 34236095, 22534959, 39087475, 27674827, 28012480, 6076164, 39352979, 40097366, 21791143, 32260332, 33962928, 35638128, 35868842, 3767014, 32981772, 35468042, 33979695, 20256939, 33319355, 28665356, 26173324, 23031149, 27818832, 34577083, 24732163, 39000296, 34823113, 35856264, 34593476, 25634057, 15978643, 32163218, 31179933, 27181363, 38838621, 13114246, 25266733, 22383501, 35750542, 20571122, 26984731, 35074294, 1609749, 32040463, 35477761, 13296369, 24244777, 13144880, 32738681, 35271830, 39582842, 17913894, 24741168, 15211100, 36397310, 38901929, 28792969, 39492402, 32731266, 32353019, 34517724, 21509114, 33053131, 31011200, 30564801, 23257123, 28917919, 36810104, 39659207, 40140432, 20994352, 28911290, 36962997, 19578832, 33601854, 38036540, 27081463, 20774975, 35384928, 37255038, 36867934, 20584882, 24844345, 39238437, 31920197, 36930970, 33267494, 19244710, 25694852, 38470123, 27176703, 39951199, 39010447, 35713848, 14029672, 25730769, 32485658, 38326753, 32957916, 28642695, 33397145, 25641387, 34373857, 19576948, 15286194, 38918246, 25942370, 11109499, 39932120, 32923557, 12752313, 26579670, 22632866, 10220550, 19909472, 35337067, 34208273, 38989619, 17290314, 28739421, 33450613, 32784263, 27390310, 24601722, 35386926, 7426127, 33726218, 11964720, 34307470, 35163569, 33820910, 27788529, 6945466, 23543202, 12471610, 38471119, 22913982, 19630265, 31954465, 14699983, 16094556, 38307222, 24830944, 26407274, 33649563, 20455606, 15886267, 36050887, 15316428, 37876636, 33470599, 27308383, 32697593, 39940204, 38112892, 15074348, 36513505, 35143222, 31902568, 16965447, 20135015, 20746226, 31778504, 36391937, 38091335, 22048686, 4182200, 37044191, 29734471, 38775178, 3589311, 17950835, 26185422, 37126206, 34251263, 29244022, 17835423, 22073229, 2573132, 36530444, 27955900, 39354036, 37159279, 29572302, 29516408, 32889881, 34222358, 34991244, 26300130, 33544463, 20517624, 25942291, 36679739, 38314820, 10237926, 16829471, 33594825, 19087189, 39988258, 37510822, 24905062, 19498447, 33576024, 18145194, 22757542, 14635411, 20331982, 39930022, 20723858, 34485990, 40143157, 37783878, 15365461, 26208807, 36797934, 28737359, 39720220, 9389098, 35387629, 19713655, 36103728, 14822352, 33827179, 26791794, 35137240, 12945785, 35507807, 38148445, 18543366, 26285114, 27851204, 37445370, 27390375, 33404058, 30988139, 33568797, 36267025, 39151056, 21637718, 31924419, 33564500, 38746003, 35751771, 39547397, 23928136, 27030785, 29604347, 26500332, 32421119, 28445881, 31257674, 32709116, 38704705, 36026784, 18176190, 10183453, 7130348, 16926766, 39122910, 25522931, 36491121, 35970099, 17610390, 26453401, 8109288, 11217458, 16528171, 38249215, 32010723, 21767529, 16038006, 11070527, 37871294, 19695454, 13780830, 34840273, 21444957, 33792702, 39611520, 35937366, 24185171, 37808448, 23350315, 33606320, 30429459, 21692304, 8120019, 37652205, 32313436, 39982053, 28837511, 32260238, 37583625, 33991968, 16119047, 35204562, 35314058, 36535381, 35207295, 19717769, 34961910, 20020548, 39278042, 34967869, 29050292, 39301149, 35434700, 37379328, 28009110, 12737286, 33642673, 29724350, 36616842, 25748325, 38736872, 17189051, 24902217, 37643585, 29760130, 8751653, 28868363, 28868295, 33028936, 35074921, 36666046, 34025326, 36437986, 37721780, 17072938, 39840625, 38488767, 39466009, 2351008, 35938292, 36193508, 20761132, 26576643, 31642073, 28057671, 37069557, 26228034, 26622956, 16503765, 5979861, 39287542, 39910968, 37614091, 17011935, 25066580, 37906790, 26223150, 21587809, 33995879, 28520907, 20307353, 36707886, 33163639, 14336724, 39441323, 38853776, 23032514, 36821092, 31862469, 20025280, 33854893, 38596877, 24027990, 19920526, 36782588, 21656058, 36394101, 27913034, 13167907, 25947608, 18900538, 32259074, 36519439, 28577852, 6963610, 19291535, 12519092, 25294349, 31954016, 28644265, 32293919, 39713374, 31767955, 35956686, 35006641, 29082954, 13001846, 33160102, 39132661, 17738833, 35983403, 12006741, 35487473, 35004162, 30398156, 38446651, 39687975, 22269475, 38847573, 32406153, 35266464, 26807082, 36280901, 38852155, 39506572, 38700412, 10409094, 31596979, 12399809, 37736760, 38801205, 35438908, 31486272, 34938799, 26537945, 40092890, 30339409, 20882870, 33032035, 20417459, 39718413, 17947250, 35647330, 34044140, 25528709, 32679180, 39811527, 38664651, 31885234, 35315873, 28151276, 17408703, 35025751, 13324064, 19553091, 21840754, 32958999, 34733183, 36895533, 18033832, 16740188, 23576110, 22468092, 4179044, 31607536, 19804773, 21617324, 37005843, 31363860, 32642785, 8441984, 39607437, 27300409, 17579357, 31925009, 32138416, 30363322, 33984402, 16456297, 38385089, 30621455, 34822055, 11449232, 29581319, 25701347, 17013089, 28899992, 38317400, 38393836, 36380765, 23246496, 36679118, 38416472, 21484160, 23932332, 39503846, 19044096, 36053084, 39064347, 33025149, 26689565, 33368552, 17747058, 32734066, 35383843, 28778340, 33945261, 19981996, 39666236, 35392702, 30454416, 34207059, 38731350, 25031026, 32829583, 30629735, 17713683, 21290224, 10812514, 26828226, 35718318, 32317739, 28862082, 33424531, 33810776, 37089641, 20207663, 24913217, 8026660, 18016037, 34655206, 32889703, 38617314, 30736132, 18412463, 25608450, 22436037, 39336283, 35122115, 13848472, 5497951, 33730341, 33514323, 4651344, 36931220, 36667548, 27786017, 25757794, 16291791, 33971401, 19902544, 39507305, 38987408, 39457607, 29904010, 36244590, 32620991, 33715923, 22209232, 35592797, 30932774, 35975748, 30722334, 29428515, 19824386, 39746191, 39908080, 2542171, 20224152, 37367112, 29461133, 22288604, 39995179, 28975742, 35349752, 38061578, 29858049, 30036443, 32366505, 32704485, 35041020, 40080675, 20332867, 36752914, 22549389, 36231904, 6278369, 31668308, 27940460, 25118472, 9367782, 4583274, 33891373, 27776026, 38361792, 35708963, 35728514, 17643486, 37857099, 38687032, 8290657, 29789603, 27147624, 16140265, 15232465, 18291268, 39049905, 34649532, 13871491, 18545178, 39075469, 28025864, 15820732, 27602290, 22223563, 36261335, 32498409, 37610209, 31795820, 19782044, 28841958, 34199823, 30862915, 28142642, 36662174, 37551722, 38488063, 31728132, 34939739, 34623392, 18372395, 38975025, 31438867, 40002178, 36294317, 26795518, 37564801, 27755792, 26577517, 24213228, 33212196, 3296044, 14152548, 35280708, 2961524, 40134421, 2774654, 17727993, 29563819, 20249406, 25586500, 24077704, 37750334, 40060556, 33144437, 11301138, 25911325, 16339900, 32617482, 9819476, 16885659, 30723265, 35797523, 29795225, 7048030, 17554245, 34696875, 26059804, 38804644, 6358481, 927584, 18872502, 31774548, 36949042, 14892977, 30139471, 35394803, 37238772, 29090275, 19757214, 28929058, 35187147, 4964721, 29333163, 26611956, 28471540, 10555909, 36598728, 15096941, 23435259, 39238847, 33375559, 35563841, 20252199, 32667888, 18811802, 22193282, 33616334, 34354395, 19098167, 33630905, 14056875, 17555759, 18239626, 38565110, 34804458, 40040304, 33926267, 14847243, 34379798, 37847297, 17812540, 16659944, 28183033, 21689669, 32421401, 33542222, 32488623, 35484826, 30828495, 39613113, 29017058, 31398036, 22140880, 40099111, 39403965, 39380425, 38719272, 35198804, 39110504, 38803987, 29475007, 20308357, 15795918, 32416748, 33090483, 22862683, 35440497, 28789769, 35623776, 26375004, 33542536, 15129569, 20062870, 19943654, 5632980, 22498038, 39734943, 37637829, 25713539, 39339560, 27120682, 16809198, 12964620, 32499351, 32458905, 33113967, 36098584, 25596507, 28914694, 26469366, 39212632, 39823303, 32661938, 39382078, 20593769, 30690213, 32100067, 31391203, 36246882, 38789057, 2374331, 37338199, 12073639, 33683650, 28798788, 27548477, 34908383, 12977441, 36678063, 30903813, 16296181, 15585493, 37465333, 37669222, 39176517, 40028755, 20650596, 36298064, 5189004, 4531147, 14458485, 25804647, 37258152, 2276512, 32839681, 33490121, 28100490, 27665894, 22454729, 22344471, 37814111, 12128948, 15136241, 31963124, 38664068, 30018977, 24094417, 4194245, 30655487, 33850106, 8217650, 20786478, 39902556, 37661383, 35335345, 19313317, 20041694, 34551750, 39369897, 39987852, 30845363, 35655892, 21909907, 22459532, 39959252, 29030725, 28077623, 39885496, 17179584, 19595557, 22119040, 29472454, 38970960, 29502677, 35121398, 37491076, 39984569, 31455935, 37517301, 40010631, 38764237, 9348034, 28069183, 34965217, 38527246, 27730993, 10509400, 33470336, 31389370, 34623034, 9882280, 33502890, 23765707, 32941375, 37359901, 37795296, 36466821, 32930452, 35392639, 28801843, 24134850, 24894969, 36520040, 22748668, 33423431, 33219979, 35370052, 17689346, 36168625, 36894947, 34144034, 22841944, 20338866, 22427970, 36762016, 33639658, 38711472, 36737664, 31081568, 37334655, 31177029, 35659848, 39547820, 21693984, 40074376, 25244220, 31955333, 37220563, 27197228, 12106989, 36240850, 33551425, 25823180, 8305246, 39948903, 40099459, 26417283, 31910364, 36793037, 27524253, 33601349, 19526422, 33677586, 16779464, 18650313, 39583611, 29714937, 11155957, 30669266, 34370560, 36950072, 15710515, 25215938, 33603416, 34911551, 28191432, 28569523, 23114264, 35543446, 27587838, 14615355, 31556501, 34232172, 36314815, 24205892, 28001286, 35808625, 5482546, 25876503, 28998817, 30098766, 17637072, 32148592, 37418991, 40052339, 25824010, 35069876, 28196047, 36193768, 24553301, 37778019, 32987536, 10281002, 33981857, 16638531, 35231492, 38751559, 22097151, 27520562, 28790041, 35560023, 26427279, 16307326, 20740480, 35515389, 25958019, 35348646, 29912777, 25084381, 23782114, 37432208, 17630650, 34276082, 31776023, 13809633, 32897215, 34884452, 21023423, 29256567, 6154069, 13315514, 39737820, 21348299, 28869442, 24111569, 29554595, 40113454, 39551648, 40073276, 28262295, 14782641, 21008288, 18868436, 22592213, 2458904, 37467358, 8202979, 36741356, 39443809, 23137383, 29327179, 27338061, 28286235, 16974570, 32560943, 19896239, 36275522, 17139067, 20310828, 31850845, 4697147, 28550474, 13100850, 28889993, 28349385, 38848820, 32767394, 35347844, 22288773, 22138312, 38842116, 34961671, 27744908, 10347178, 39527317, 28938354, 36284746, 38707588, 5015884, 12503171, 37612524, 24442532, 30775806, 19695075, 33510452, 1817771, 28499381, 39103164, 27067713, 14083111, 28256318, 33191873, 39657372, 35067902, 24768455, 16712612, 19868531, 38018338, 30193696, 30443836, 36589366, 34110105, 17904097, 8350694, 29178843, 29720430, 16473908, 34586127, 25822630, 20292569, 30049760, 38697037, 39854482, 26056316, 36581425, 19211466, 17120243, 31305427, 34856032, 36507466, 18040162, 11232230, 36746961, 33906539, 13888826, 33990318, 37265229, 31687808, 37776609, 14814211, 18808307, 29982556, 18205390, 36069835, 10166119, 27501067, 27678268, 35609582, 35022635, 29178539, 34450681, 20149546, 6318880, 23572835, 26242482, 39132566, 38727095, 13491571, 36059066, 38042704, 39718129, 34166566, 16780444, 25822497, 22491263, 23795576, 23542526, 39883517, 19034714, 35189851, 23879100, 17550447, 31799359, 25617129, 30046223, 19726106, 17226243, 39603364, 31047165, 22774666, 30136270, 11486922, 40020178, 39518205, 34379168, 27991467, 19357465, 28395727, 19678179, 33190779, 24371324, 38556387, 20863295, 25584922, 23514188, 33203515, 37122823, 33073485, 16458126, 21768079, 13528235, 36592982, 27465252, 16315673, 904170, 39651222, 36230720, 13886258, 28441564, 34078683, 38875931, 37604045, 20269330, 39792111, 22824449, 31562920, 27200535, 20708138, 15953296, 20746743, 12516811, 35139031, 25291164, 38006933, 15014276, 35041266, 26502848, 25728092, 37899978, 37047368, 32219994, 36011478, 19308177, 21024658, 38946373, 39997132, 39989636, 32177079, 19619702, 14927256, 11604653, 29201455, 9546273, 26692052, 34515514, 27599292, 33909101, 16861094, 20416051, 30484365, 32604631, 38681312, 33134804, 31093617, 12924009, 39106363, 17534270, 29564492, 27542418, 26311277, 27007260, 11654669, 36430566, 31325007, 32488872, 38921486, 20415598, 37642779, 36962378, 26662728, 39187327, 37830020, 32787319, 38281563, 39424853, 31147621, 18567640, 34960020, 17497323, 15014156, 15485468, 38087711, 34794634, 34067747, 34128225, 32863460, 35795682, 38495355, 16866562, 39106666, 26656164, 27977874, 3723183, 25555638, 39304977, 38413394, 39643748, 23030005, 38768238, 30015106, 18035595, 27881985, 2325237, 35936661, 22614760, 34777660, 7053424, 36223325, 36670797, 23402667, 27556454, 14928332, 24525588, 32813703, 20465342, 34027078, 37958793, 27340293, 32363919, 29787792, 27952021, 35622565, 37001733, 29717218, 38509704, 8711596, 38959849, 19267602, 39190815, 29129704, 33728522, 34632183, 37734752, 37989519, 35281360, 22768939, 30744195, 16448301, 27472458, 36911916, 37587377, 28640592, 39736000, 33271483, 16039269, 37710205, 37515943, 39908251, 31709032, 35777639, 34976122, 34324247, 33290969, 32855062, 39858707, 32590369, 26895676, 39283611, 38280947, 23148943, 25952915, 38099931, 37196374, 28105695, 18045461, 35379090, 21941613, 22717385, 27849807, 27694014, 23492676, 34273113, 38423926, 26826362, 29594798, 19267878, 40044814, 38209750, 36960086, 37269116, 35483135, 38926031, 20243637, 30167789, 21941191, 35809626, 21503289, 39773325, 38885891, 14742823, 36823199, 27537942, 28502043, 34968708, 32569507, 39471190, 26716520, 40062923, 34615693, 18804563, 14405401, 25877852, 12518594, 4915361, 39303685, 27391121, 38051662, 16449184, 30235927, 15801524, 22234830, 30936069, 34124918, 39259570, 31836538, 30441820, 40051790, 39817078, 35405348, 39016202, 31696747, 18799822, 26522997, 33617783, 34958559, 9132758, 34311752, 34163276, 18613839, 37088512, 13432103, 37491830, 35387367, 39549024, 35511425, 30491721, 25254820, 27342747, 36563631, 19094896, 17596851, 33673116, 22896229, 20311901, 5933313, 28817215, 13064593, 26184300, 19966290, 29171742, 16451514, 36893883, 31389267, 18036367, 29230725, 26949134, 34964473, 33620549, 34009232, 30943161, 38405553, 34020196, 16637670, 34810648, 28470388, 39078467, 23847943, 31750938, 36518426, 36170101, 38419011, 37648577, 34440787, 17143696, 32213362, 3849762, 39944453, 34600051, 35732851, 28439366, 32577606, 26870643, 31995815, 39348476, 33712594, 26854701, 37557174, 22387580, 38145048, 38908590, 37783060, 4948600, 24770498, 27892356, 28911626, 40094588, 26474717, 22129283, 29097917, 13274207, 21940866, 34828422, 31768613, 18116106, 36042319, 30090553, 36915341, 39109901, 29768592, 33718155, 38213767, 38731972, 26175336, 31392319, 34817731, 33658448, 34578665, 35561072, 28584992, 37821523, 15454221, 40064192, 33458789, 33837092, 35137105, 28643997, 32022910, 33678081, 35934735, 34145243, 21301684, 10978576, 32821156, 27532031, 35411930, 37055731, 36449872, 26003044, 902520, 29013373, 9153068, 35206372, 9444372, 35932560, 35816515, 39382509, 35459544, 35720234, 16816379, 36958130, 38445373, 39268831, 34485290, 15295940, 12223167, 8356336, 29573625, 13669544, 29804793, 39075601, 35972414, 38858650, 2983090, 26383354, 36969807, 28514425, 34671322, 35875298, 37840328, 34599784, 32312799, 11652679, 33321545, 39179320, 18319831, 28246107, 34458560, 38116369, 37844857, 29199695, 32555110, 17097786, 37102353, 39099608, 36537949, 37807657, 6571476, 28467073, 20328494, 39627869, 31117290, 33055760, 38081237, 33410650, 17807693, 37368786, 34080514, 31343157, 19802624, 10189160, 39713752, 8279514, 37743940, 29500262, 17731207, 36721352, 34045800, 39317681, 35728245, 5161095, 13627603, 20307726, 32215422, 36567217, 2306947, 37982117, 32803941, 34463966, 23280850, 17349316, 23507779, 29738282, 35093103, 29766767, 13893287, 39683221, 18946023, 38318370, 32805311, 21354298, 33747141, 21289868, 25327725, 39890020, 8776924, 17768182, 8248163, 21178424, 37937212, 1787497, 35242940, 31508274, 19902971, 21211628, 37822270, 4638698, 34978703, 36137970, 29459293, 29884765, 26154125, 35271318, 25254847, 31230939, 36536138, 33264897, 37025686, 36700551, 32170059, 33323643, 37302708, 6460541, 35590130, 32431272, 30813852, 38022622, 32994939, 33054011, 22508028, 36787603, 20091251, 24572623, 35546627, 36057308, 34219333, 39220215, 35024475, 25055539, 36483599, 22930262, 18745757, 25639169, 19532357, 33706579, 29297214, 38033375, 27586744, 19867754, 15346463, 34375363, 31769863, 33157403, 18552001, 34826516, 18670852, 27994842, 14553178, 30442702, 39371588, 34312257, 23339565, 29179381, 35569447, 17390367, 37423966, 37662019, 28228565, 37490100, 36514817, 29144153, 39679159, 22999092, 36667032, 18751705, 514448, 27571305, 37681549, 35334473, 19143155, 33248009, 13552535, 39732835, 19854201, 36531226, 37931703, 37630714, 8249312, 36143501, 33585707, 25944273, 39471344, 39080372, 39994010, 34551173, 39738423, 21554086, 38029411, 33822793, 36549841, 28767642, 33884680, 40047607, 39136176, 36179386, 38024676, 30002648, 38809821, 37210175, 26484369, 33547825, 35705130, 37848896, 38687078, 34257364, 35127821, 25590649, 36961812, 31546628, 28102695, 11865490, 29154562, 39478853, 36506916, 39673901, 27647871, 39733302, 37638586, 35181323, 36783299, 1687357, 35444352, 16982099, 3603978, 31351344, 39219957, 32385081, 39489848, 36125536, 27587989, 32090058, 39109180, 14763430, 18500305, 34022992, 17665124, 18541697, 15594096, 34203977, 35213176, 22958365, 37823962, 39541973, 27549842, 24249729, 18383610, 19472748, 23995445, 34419582, 39926911, 38406472, 35459996, 32467535, 36021291, 21354777, 39198489, 38689653, 19249283, 20250738, 35547823, 27327430, 31502788, 11742600, 38676297, 38149120, 18436048, 33464125, 21488161, 2649513, 35144721, 6892573, 15468358, 31378517, 11811559, 25726527, 38777818, 13767273, 39176982, 36922947, 16256032, 36831909, 38288540, 16364165, 39450030, 34578383, 36835782, 25896857, 33259229, 32238374, 36730372, 33778307, 38373881, 30034284, 32508267, 25462576, 34827566, 28311754, 28412496, 36782154, 31192996, 15457084, 29640593, 17690585, 7624840, 14924795, 22121108, 40118471, 1650627, 17696682, 21515428, 13239445, 39630928, 35469123, 36231020, 35781650, 30332064, 34729308, 38761192, 24796772, 1775954, 20055643, 21415696, 31685788, 35445254, 28587164, 38789141, 27735009, 16243023, 40003821, 37056505, 36021430, 17821952, 38021111, 17499287, 21662881, 13386230, 39132087, 32526650, 37053379, 25930619, 38908575, 28496958, 30598784, 36485064, 14299708, 39604903, 25464446, 39597774, 40110816, 22053760, 39857223, 16388380, 37547800, 5237733, 27213127, 16353858, 6345235, 38270838, 17833228, 20539483, 30146891, 34009992, 5656866, 35415167, 37599818, 4202017, 34463087, 25085649, 39061875, 35490866, 26314143, 30717183, 39443815, 26919373, 40011943, 27629524, 13102552, 20774607, 36513028, 37442928, 36578876, 22075588, 39796864, 25960824, 27204602, 9461065, 8748036, 18679289, 31352031, 39760601, 15408371, 27907373, 27345332, 36606771, 11365909, 38960926, 25941979, 35095894, 36382166, 34174060, 33806022, 28264026, 28002093, 36635344, 34640478, 39628539, 23395201, 38360729, 39070729, 35987472, 30195390, 23650582, 34720860, 22392823, 28622235, 26366978, 21471488, 29317803, 39811192, 24823592, 8078197, 23938059, 30306409, 36387995, 32342339, 36602406, 13523789, 17453626, 31416352, 16849828, 17043894, 38135888, 33091426, 28247374, 38726087, 31774349, 27777939, 22212374, 26749252, 27443627, 35679338, 35212654, 37193229, 28585526, 31089340, 39446199, 30268059, 35731201, 31450723, 33764071, 26976025, 37617033, 39828425, 39025674, 23730279, 32874547, 29593835, 40065702, 35115767, 39403153, 24459886, 18065379, 39213688, 34765920, 37171890, 35804303, 25946450, 34898057, 25293252, 21762517, 32766954, 22268627, 33674033, 27478998, 25402699, 18267132, 34979694, 39184654, 20077468, 37794874, 37761173, 39295642, 33916940, 35244736, 30895667, 35963286, 36384951, 6911999, 39188001, 34958518, 34109418, 39654153, 33293518, 40064660, 37865041, 22592038, 20941545, 35439723, 17109608, 29299855, 30005514, 22004551, 34338341, 4545114, 38253316, 8652102, 36585517, 7266809, 18332099, 39073213, 23144481, 38691009, 27661776, 29553655, 39914531, 26740520, 37955277, 39022584, 38415577, 38416226, 39934909, 29700419, 29223626, 1303347, 26697462, 38179618, 31652371, 16405242, 33452954, 39032311, 39646760, 15624209, 30012881, 29852498, 34122164, 38462288, 15980142, 17986978, 13575493, 39560406, 35525639, 20323688, 35975555, 17380411, 34652694, 36703060, 16359207, 17610269, 37262289, 29930711, 31223626, 31086725, 20072797, 34544258, 15846017, 22868973, 39235795, 18935686, 19129231, 37167518, 31701993, 39738285, 12221420, 19390158, 6650943, 39883332, 36636004, 35978761, 21563744, 34971098, 3127715, 3870282, 30315465, 36906043, 36532057, 4870534, 36579733, 38282132, 34863942, 21231293, 39288464, 27450995, 29033259, 14584958, 8047750, 35922844, 11553063, 28393680, 33838843, 16447635, 18568309, 33945547, 35431898, 24438310, 18005172, 25934172, 22631946, 26009471, 32620924, 39749594, 38951920, 14021900, 31465214, 29227028, 38490142, 23054350, 24291779, 30228874, 17852815, 16426150, 35926755, 33661893, 6583573, 37016105, 15669051, 9652857, 25152108, 20082935, 32086558, 16446988, 37217947, 30524805, 34246336, 34581845, 31083798, 33757316, 39471280, 32590362, 36517014, 38325117, 28725378, 27583552, 37842114, 32360366, 28311758, 17727096, 36055259, 38925115, 26456817, 34274670, 10150041, 3541203, 17295325, 15603410, 36765414, 31660980, 25194490, 29709748, 24517055, 26304992, 19817747, 30372068, 34054315, 5950652, 38656958, 32553589, 28686541, 5604441, 39645268, 22530081, 37165476, 39669822, 38514485, 29838788, 37327653, 31131530, 17305858, 6876518, 34713524, 32795460, 22199661, 9770710, 22615320, 22669645, 18634136, 36565611, 27575954, 24570503, 34104435, 35143145, 35809316, 16480898, 35083057, 28347411, 25152302, 34617958, 38487701, 37572837, 36956362, 30839297, 38288041, 18389946, 35738408, 34645990, 26414117, 33984941, 35871850, 35051115, 31548753, 27093089, 38874118, 13979764, 34739777, 39088813, 31636095, 27222515, 31489623, 37377264, 38669669, 10474774, 38384617, 30387211, 16803149, 30186391, 35512177, 33011049, 22751788, 30539548, 35933703, 36546945, 18453719, 23068025, 39529253, 20535342, 39179022, 12585212, 37629142, 7994461, 34666387, 36125589, 39560623, 1844034, 34492422, 34755256, 33273454, 38965126, 19472530, 14467933, 36163040, 20169754, 13096701, 27967441, 32986366, 22641720, 32662689, 36806261, 27055112, 32656216, 38851819, 32035520, 31635921, 8253095, 8758768, 39218880, 29095070, 36471962, 17365820, 29246602, 33915028, 32787554, 24880147, 16351108, 28352419, 13873429, 34752892, 39174810, 33070901, 29011194, 5281799, 14324248, 17643596, 35679012, 19624038, 10768571, 35928914, 37010508, 15121717, 12016719, 25874769, 39030164, 5856963, 34830226, 28249597, 27512843, 34460372, 28386612, 39645290, 33096795, 34315152, 38406992, 15937713, 36664484, 40101631, 28864985, 19839216, 35330424, 31953430, 38194034, 7891277, 32590746, 18284623, 38659806, 36317333, 8026050, 13820124, 34076233, 25939981, 31512507, 29315885, 22436765, 30913664, 34949896, 39058965, 39303338, 28659710, 22275027, 21352315, 38417677, 31774976, 29024963, 20643184, 35418439, 31049027, 34595795, 28732929, 36803737, 38330562, 38471306, 23116383, 32703714, 8883000, 21701968, 28832900, 36242735, 38134086, 37974565, 8818146, 6439962, 39544890, 39136040, 34622353, 30850409, 28596952, 39962794, 19883868, 4451585, 17411362, 35541374, 37258913, 11982568, 9241251, 24181045, 16860792, 33003688, 23052637, 37479524, 29899076, 27591642, 25056907, 38300080, 4202301, 16798880, 30139243, 4067463, 33663562, 30540109, 36148502, 33701570, 37365099, 37625866, 27727117, 23020139, 33846066, 35078644, 39296387, 32495713, 36933564, 36840296, 7775062, 18802553, 38158672, 34001974, 26919310, 35879842, 13554126, 34070037, 34562568, 22296391, 40002373, 31922016, 38902469, 22154227, 36811479, 28097301, 18389831, 32540173, 16257587, 32055768, 31390582, 30726724, 9336323, 11006354, 15639475, 29098955, 16157290, 35425998, 30587961, 38473538, 39828136, 39201526, 18742630, 31027773, 38286001, 37025676, 36827962, 33370256, 36065646, 39142963, 31828604, 32492702, 13994975, 16396471, 31013670, 26095040, 31858959, 18876569, 29738568, 37869779, 21888854, 32416372, 36766039, 37731895, 33787308, 34702197, 25040262, 32808030, 38855641, 16927229, 28364676, 39565379, 5520286, 38228413, 28830625, 22586268, 40069621, 36820605, 25126282, 33382024, 28094146, 26732891, 18829936, 34903061, 39336204, 21886101, 32649827, 38957961, 35363916, 14421133, 36874773, 34116952, 33763451, 22920856, 26735590, 32564312, 24352235, 15761489, 20716676, 37123971, 4881248, 16943265, 31930351, 24285508, 33460396, 35673458, 35977446, 36026798, 37391147, 34710633, 34164319, 30088857, 28700173, 36719385, 24534412, 33406313, 26787309, 39033565, 13794777, 34138333, 38665704, 40001326, 12915877, 31417437, 36186624, 11072145, 34069975, 39215272, 19637379, 37155666, 2033242, 35361087, 10357236, 32816084, 26155776, 34028214, 30995868, 38396337, 28970334, 32403833, 34036449, 31445728, 23234242, 39294317, 34865335, 34839060, 29162113, 3772049, 34955253, 1843422, 31457264, 8869574, 32903902, 31826272, 14996844, 17059155, 14230925, 34947982, 36901163, 30949405, 14945575, 26124716, 34011461, 35256996, 26306721, 34359762, 25171522, 36787513, 38081936, 21863249, 21174596, 24148477, 33505366, 35417803, 36990970, 37030431, 19431783, 22593354, 37706479, 33440640, 29550124, 34128994, 6485678, 36447551, 36086399, 28311990, 18815588, 17093927, 40003923, 36678196, 37003862, 15828916, 11269473, 32737989, 36582679, 25956888, 35428278, 36692123, 27577466, 38485605, 29774938, 34975225, 23051245, 38797175, 31776579, 36665746, 36695422, 20361676, 29399161, 39194477, 29323559, 22800258, 37768760, 23281719, 10025584, 40028690, 16176742, 28126372, 34603628, 38453990, 34145566, 35321826, 27308560, 35020625, 35036504, 27303685, 19980907, 22976485, 5000138, 36301811, 17591202, 39337736, 5022083, 36762106, 28031311, 37162941, 35107264, 34133976, 21114510, 36092518, 19140990, 36772593, 26940591, 37653784, 27084460, 22902617, 28056801, 28976920, 38162337, 35064627, 32428825, 23002587, 39952982, 27365728, 37244655, 20208031, 34741333, 33115782, 11857216, 23153187, 4894312, 22703798, 23747211, 38219553, 30939443, 38840366, 37763235, 32118249, 2911042, 14866395, 27439219, 31485660, 21010347, 30128493, 39909065, 19837935, 29413014, 30910270, 13535779, 35280883, 28497731, 28449803, 22321423, 35754242, 27511724, 30179309, 35709484, 10577772, 34368887, 31433393, 27629804, 36360109, 19359978, 31772620, 18598012, 37757810, 22930895, 23318854, 24653598, 16072167, 38156858, 33011328, 22584372, 39961007, 22255939, 38914151, 20739767, 29920581, 37140274, 29873602, 37228565, 33566843, 36514175, 33466425, 32757463, 20096977, 31157231, 31592063, 39644604, 39673640, 32383040, 29252338, 38253719, 20412518, 39951088, 33489801, 32336287, 32909474, 37373711, 39422699, 40047414, 21344131, 29046955, 33774508, 38557849, 40022499, 22569051, 39192798, 33574251, 36349625, 13516357, 38884579, 1736228, 35663130, 2451467, 38878741, 23320148, 18502876, 26622745, 21800704, 40073381, 33919658, 34643927, 32927254, 31227536, 31767261, 25494733, 19849709, 35018559, 25302084, 22853161, 28294278, 36513045, 33727914, 17507951, 36864728, 14873970, 28840908, 33599752, 29800100, 36953810, 17943992, 28004237, 30384615, 22556449, 36780089, 39067759, 18709152, 25121142, 40141540, 32131058, 37739756, 9449511, 20105081, 38941840, 18261898, 38277014, 28291612, 31234674, 31052887, 35991852, 13593500, 32895858, 34535264, 22519755, 24339083, 9090915, 22548755, 39781887, 28876323, 31127555, 34245656, 23106358, 22908158, 35803297, 35492733, 37161275, 36898041, 28829047, 36181476, 36706842, 36605898, 16629533, 38853966, 38959396, 39762565, 22233979, 34668729, 6273381, 34945959, 35296659, 39495160, 28612401, 10061752, 36415475, 37380957, 19871160, 33368996, 30446291, 39465864, 24922211, 16570141, 32430606, 26692611, 21219140, 38380001, 40139135, 38780801, 37942498, 36555067, 34218937, 36146398, 26981704, 13228939, 33308538, 17214664, 31854021, 33616606, 6034621, 32882728, 30170340, 33770934, 17959627, 27006209, 23186724, 39950522, 16368068, 20806630, 23879365, 34267637, 17139627, 31714826, 17913377, 39210636, 27870087, 5253206, 39179799, 30679447, 37273924, 28803642, 37270857, 24809779, 33468009, 33417651, 13799371, 13400811, 33058482, 15443138, 23252377, 38616916, 35260978, 36962754, 18543447, 25314463, 36271825, 38891843, 3692357, 31234918, 35355697, 23949408, 26515589, 35426385, 25036498, 29454544, 33448232, 36719792, 31942030, 37002798, 36341035, 18747555, 34288260, 22563882, 33090766, 35715433, 25839481, 38822484, 23346298, 37704014, 29175185, 37609772, 33320218, 25735930, 37632704, 35580253, 13431139, 17058243, 29326371, 16842955, 12185006, 34287893, 8908287, 34750721, 30470938, 30420013, 25756081, 28035698, 14068152, 34888131, 34056864, 39050046, 33503743, 33766881, 34939810, 33200590, 25299887, 26025273, 36250321, 33444434, 38905118, 36389090, 35027980, 23329489, 18924763, 37822131, 38217688, 38341174, 35667815, 39477394, 36464283, 20486213, 33663684, 38677037, 23079554, 13003439, 25202007, 27889408, 24584025, 9988819, 32822046, 29182546, 33910736, 14596694, 17411046, 7507492, 22403871, 34670076, 36738074, 3512159, 26225529, 38826710, 38594027, 33714678, 39329829, 32795680, 6561482, 28029760, 13278186, 35540404, 36907242, 35373643, 36402254, 28766136, 25517355, 40099866, 10081060, 7260370, 16241831, 39083109, 2105611, 33607563, 39680265, 35317813, 8549205, 35348179, 33272814, 25046252, 35264111, 39459716, 38397285, 38340663, 37074468, 16830540, 21058230, 25142511, 34701978, 18290507, 33556455, 39793857, 36417829, 33270232, 37846301, 30220736, 33004929, 28861064, 37056398, 3316961, 15622887, 36137093, 19746215, 14537477, 17330139, 31530912, 20473347, 15973064, 26522724, 38112129, 7543275, 32197618, 6624651, 37680730, 37682208, 33653086, 31186974, 30829844, 31788730, 28864308, 24169893, 36198239, 36188073, 17764266, 15687263, 28370991, 15032108, 38238778, 18463173, 28647881, 37780653, 24587994, 27114738, 38144640, 34257856, 33470182, 35655749, 36003273, 33580207, 18809828, 38234084, 17630931, 25411052, 38379327, 497704, 15595224, 35428416, 7740796, 35298387, 32317347, 29777630, 33767817, 20805418, 10789568, 37791782, 37091676, 2864305, 31433104, 8307809, 35432123, 28094590, 33387042, 39575982, 39917557, 30317400, 39412387, 28110542, 10044386, 12308036, 22332937, 21416733, 16204484, 36219212, 38298652, 23257984, 30656388, 39126532, 36137602, 32353819, 14115132, 4469125, 15217451, 26224110, 13180554, 18579678, 26008093, 36332916, 39312316, 29011466, 26724714, 39711674, 15041876, 22430729, 29613383, 33514142, 12144877, 35724820, 39948626, 36888123, 7755082, 7546050, 35115417, 36825015, 11139038, 27181573, 26830834, 39284842, 38147259, 40049513, 36914102, 29080596, 37031356, 36950290, 33045331, 27206939, 32526825, 31768395, 37400583, 36452052, 12962421, 39938100, 17395872, 12411395, 38198304, 34238187, 25211105, 23281456, 31885491, 20443168, 39553301, 33770129, 27015507, 36032911, 13092267, 13200797, 35738737, 23259267, 38176302, 22385799, 22278457, 22634996, 21206869, 37379627, 39351139, 7225073, 17929269, 33850812, 37633550, 28437565, 39492631, 27213336, 35134231, 26200463, 31687690, 16037478, 31734230, 4374006, 14150823, 23021580, 32461630, 38916188, 29111184, 7888222, 35110653, 25693649, 39574732, 36904671, 28622862, 40074994, 13773269, 36994326, 15366579, 30034205, 21367257, 34893164, 38959269, 28898735, 28294826, 38130252, 15073933, 13206314, 36170480, 34000530, 39650355, 13603179, 5235887, 16064409, 38161447, 39963669, 16822798, 30907007, 37062341, 33095377, 8386972, 34223557, 33354343, 28376186, 39987596, 21609911, 27995971, 37977302, 36826156, 12394669, 25180559, 36520230, 16832750, 16242782, 21690376, 28946076, 37606964, 37724426, 36556146, 12971631, 17105992, 17010948, 25902373, 35779773, 13221042, 20894305, 33984790, 12551009, 33898292, 4456581, 32064220, 37473861, 36376284, 21932895, 38404800, 19150831, 22424429, 22199741, 38793633, 37497815, 34519246, 8704728, 36704745, 35847261, 22745186, 21959542, 34131184, 24495886, 25678127, 34161337, 2678710, 7583780, 33990736, 17899093, 25828864, 38958640, 33698810, 27098922, 39605747, 19042112, 40090659, 25270885, 33591726, 6258813, 17979028, 19346484, 16072685, 37074068, 38807310, 10329627, 39067585, 35673809, 36483483, 34345337, 36812550, 36181753, 37220055, 37260713, 39862440, 26259441, 31797063, 19479644, 12880068, 21800940, 30101060, 37722565, 24021579, 39876060, 32606703, 13643615, 36975247, 35248543, 27362907, 36600993, 34001052, 12663367, 32075135, 39816636, 26204060, 34659286, 27392515, 31076841, 30973049, 25107105, 23819413, 13426156, 39821911, 25847807, 35164666, 37276711, 36074843, 11588934, 24109627, 29385919, 34262923, 39291618, 19387412, 39549429, 30580386, 18819012, 31385154, 34561397, 38281076, 30423701, 29351619, 28518120, 39938694, 20436755, 28235581, 38328338, 13105558, 14620632, 26607268, 37789330, 33747968, 37287364, 19886171, 32041759, 29963968, 37141290, 38780764, 38748472, 22594400, 30871988, 17984084, 34841870, 31201706, 35600285, 13177679, 32052062, 36571811, 31314426, 18296405, 30845735, 27040117, 23714025, 36035248, 39707602, 18948611, 31418317, 2596771, 27164630, 39187438, 37846721, 38052577, 35352086, 28279934, 18087498, 24771389, 33591154, 20843225, 34500870, 33088991, 16678363, 22587229, 35549070, 38337736, 34471618, 32757362, 27301324, 33694602, 23882836, 33288004, 14989024, 29903338, 37625326, 38966576, 35806823, 12613142, 15836675, 35758359, 28851033, 16305985, 30422942, 16072722, 21799156, 31837574, 36831137, 40077881, 30165572, 22967446, 22364943, 26169229, 16141065, 14554289, 24170882, 29425858, 12548481, 26435546, 40120151, 34994192, 32573926, 17339494, 19622407, 39593035, 36098852, 38163456, 29041177, 19624348, 37848527, 37639089, 30055199, 29354038, 33769353, 37303270, 11555468, 19060181, 36615892, 28010255, 25611704, 39730701, 31134128, 8779409, 36701958, 37710848, 17286870, 35046292, 34197198, 33193076, 37238557, 28253282, 30880334, 25109287, 38902376, 31361096, 31246674, 31105167, 18069716, 30855314, 27748556, 22134300, 25430463, 12687187, 10111212, 26235221, 23595596, 39345829, 7495105, 24314545, 28950136, 37742086, 39505184, 30327909, 25360377, 12787108, 11198098, 31917915, 19870293, 12290703, 39354567, 27563213, 35909029, 36707027, 8036182, 37649529, 36663600, 19029634, 20589275, 26471007, 30712020, 37727531, 35866866, 37299089, 32030363, 38379091, 436198, 36533490, 35834054, 28331638, 36526497, 31260935, 34480726, 33486513, 39186692, 26264847, 29177656, 27208340, 39117304, 32258572, 26205379, 28929619, 25803455, 21292854, 8326192, 39369557, 36493966, 31748061, 15653966, 31100783, 30444019, 20434470, 29046704, 32641937, 38964323, 38341665, 27701508, 19858377, 39000286, 37351508, 38687974, 40059298, 33180083, 6326370, 14120208, 29088259, 39057167, 13322691, 38834770, 26177419, 37011402, 40109379, 36226786, 23161604, 21052068, 35635156, 26543337, 34377319, 28122725, 4097461, 28990440, 27610988, 38789345, 38123197, 37968848, 21618351, 22558959, 27131340, 16351409, 12353682, 26596535, 22411131, 33557621, 9531220, 32922265, 26196696, 40013946, 27384936, 32740319, 21957653, 22710154, 36439384, 34468257, 12028664, 16238322, 36983359, 23861253, 38795628, 16650680, 39224764, 20693936, 18458259, 27268359, 29934449, 29358744, 27215462, 24369666, 35463711, 24859877, 38774134, 37299003, 40110468, 26121009, 29694455, 26493252, 33192676, 24537908, 22302215, 38662656, 13212173, 32342761, 29747458, 37087685, 17418817, 23187567, 37202873, 14780414, 38974075, 12576724, 39962420, 24556584, 38392794, 12397506, 25942400, 38211267, 6690220, 26796416, 15134640, 7535236, 39507106, 36624470, 19355986, 19105974, 20360293, 7768598, 18542008, 26929770, 27404498, 22139588, 13677270, 16885272, 33631652, 39248898, 3541274, 37582177, 39047406, 32996433, 32331882, 38688254, 29594289, 29558121, 27237120, 4605929, 10321965, 6845869, 37106449, 31598022, 38148460, 35634300, 33001611, 35603414, 29235459, 18787579, 18776434, 22886306, 37622979, 770845, 38144461, 36803952, 35272878, 30278687, 30402936, 17852737, 33544910, 26957830, 27296812, 24234297, 31937158, 27092685, 9539156, 7601823, 28762723, 5434288, 7192391, 38011334, 23290216, 8627493, 34601210, 19102997, 29496589, 11974395, 35430659, 37327473, 39141466, 34677301, 31126698, 25498838, 14981810, 14109746, 27030933, 38977285, 13736489, 25823053, 17759314, 6924519, 35696126, 21093086, 21345017, 29596993, 35756527, 40067822, 23458046, 38862685, 27055084, 11205319, 27947531, 14607328, 20455977, 33770780, 13259691, 33905337, 39345995, 23925295, 26644840, 38504605, 28307671, 14472767, 38599174, 34691591, 23354395, 39592507, 33061646, 32868177, 29196537, 35730892, 15019982, 28658839, 38920876, 37561294, 34307748, 27658849, 23074783, 31909058, 26964058, 35972960, 25348581, 26260827, 26139342, 37013869, 35263440, 2495290, 1523706, 9876059, 25949506, 8695495, 8015225, 25000222, 36453867, 14799514, 15444945, 24027965, 24771462, 6101709, 24011428, 35779821, 33669804, 16918637, 37351453, 32041448, 11173945, 32779768, 32620927, 39177278, 40060691, 18245110, 30165465, 38681912, 38318710, 38439026, 28362633, 16046211, 25480433, 25709110, 34441790, 30513903, 36439057, 35923222, 20565026, 30229117, 26798628, 31248197, 23429978, 36682468, 14499466, 37833964, 39504351, 30270467, 36893253, 35614667, 28371558, 29913282, 36517706, 30501569, 25111193, 33799422, 32979525, 34202554, 38676968, 26332591, 31255562, 19873673, 25210197, 30792509, 32009115, 12012243, 16009050, 8348557, 29855988, 26762133, 15793715, 28826762, 39310239, 34189520, 13867808, 25775867, 37370578, 22147757, 33251009, 36047792, 16226257, 25601215, 35449752, 28651288, 37644550, 21511102, 30068807, 27537530, 38273916, 17377719, 38267630, 38993146, 37334355, 16641432, 29835266, 39281912, 13015956, 30569625, 26195173, 36174723, 21969241, 39576673, 28334603, 28555246, 39056914, 13927889, 2316368, 21858473, 36117544, 341184, 30478111, 36873485, 38921815, 21786214, 20445126, 30511341, 35625347, 33479126, 25607436, 38932757, 16207820, 38019823, 26269906, 34724879, 17155480, 39053286, 19473085, 28555873, 18750886, 5341606, 35905207, 37540782, 28555295, 34020760, 39446881, 38244247, 36314747, 37011441, 29102924, 35310752, 20774302, 9771316, 12693690, 23032591, 38380335, 28189819, 28733478, 38379365, 35809706, 29209384, 18623842, 35142260, 11081951, 35222497, 27725039, 38160147, 36518639, 7800283, 17264773, 35310892, 27200441, 14947922, 35762150, 24345356, 22856334, 38644175, 35461061, 33333571, 37170466, 27750104, 39276925, 32023228, 14441670, 29446215, 33073929, 33379295, 22347880, 30604401, 31187774, 34313908, 29043340, 34951731, 36977439, 28112952, 14544587, 38066025, 31800038, 25394014, 27361427, 33051704, 14170540, 20296449, 18052155, 38840590, 21069393, 37646910, 31216142, 34041908, 20095874, 31568404, 23695397, 16199613, 37825637, 37328044, 31496461, 14288369, 33600133, 34292668, 16497063, 5074124, 34561971, 34863279, 8726238, 38739714, 35987306, 26110801, 14421733, 29291626, 19328650, 38679784, 33423910, 39913740, 13905741, 35112588, 37900976, 35271594, 30904118, 33423207, 37442541, 22736014, 33520423, 39396707, 33648556, 29639712, 38900788, 2755573, 10311602, 38484117, 13546205, 30348370, 32002492, 38801188, 26984189, 40015183, 8628317, 27239134, 28794177, 35693089, 38288412, 25488184, 38081541, 12845389, 25732776, 38236622, 23114754, 27925955, 37869703, 34417279, 38622646, 37132955, 20791602, 32107341, 36077420, 14544085, 33931379, 24532126, 35860888, 32248882, 34081037, 18430765, 28155028, 36816282, 30145830, 31003229, 35431172, 23793207, 23594836, 22426374, 38285654, 16410852, 36637564, 29334544, 33978834, 20286705, 39810556, 38614429, 27382384, 21390472, 32798359, 16245576, 33628701, 24792732, 27116728, 33313183, 33461349, 31062225, 14527558, 23302942, 38440371, 12112200, 28325973, 21725612, 19165649, 38293879, 28442191, 29872296, 29702481, 27001419, 36646042, 3851224, 24181704, 35100075, 4591157, 7894653, 34305003, 37911853, 21866537, 12286655, 22406800, 35915302, 38355189, 30797937, 17122209, 12943297, 10787084, 39025511, 29584465, 36848859, 24250934, 35593028, 30687984, 40052616, 8626554, 20339377, 37369225, 35542043, 29405175, 27690938, 12730961, 33056547, 25676073, 38995718, 23844779, 36700330, 39874541, 35294303, 22963526, 36654871, 37126295, 19296253, 26520822, 14092123, 30000857, 39752394, 17877870, 34970889, 23748610, 30888347, 29796541, 29637461, 36618209, 38400416, 36068119, 12503273, 19614427, 37698661, 19872253, 28653312, 35818975, 25695030, 25971883, 33788785, 22204727, 37235634, 29885091, 39531917, 37937571, 35435978, 34420866, 37232128, 29211492, 36325685, 24200154, 17681547, 15049333, 30694928, 38982784, 38813388, 39217787, 21956956, 7571509, 33321296, 38176865, 31658171, 33182960, 31222321, 39406491, 38750174, 20335292, 39780612, 39706074, 36283831, 34002568, 35813773, 29109685, 38662296, 22832825, 3748635, 39092992, 23899154, 28736726, 18296181, 31779456, 34316819, 29442774, 39970857, 32914812, 21599853, 35452843, 33484244, 25690123, 26005274, 16467490, 39112522, 19466220, 28934675, 33426841, 35203728, 19892792, 33326983, 33061177, 36313853, 31258598, 30525364, 38395421, 8959704, 32774530, 26209042, 27472548, 23359932, 33598608, 35924078, 33172209, 26182754, 33191074, 33375650, 19622169, 31393631, 38377346, 31138701, 24976077, 1969041, 39347180, 4293364, 26948665, 38029622, 18356559, 3686244, 31122454, 36364479, 24423003, 14077599, 22592163, 19967188, 14063195, 34219139, 39767528, 20064576, 31713117, 26188763, 21609227, 21587916, 38987628, 20551042, 33485780, 17381252, 38967678, 4786208, 33114074, 29690663, 10853688, 24975287, 19937238, 4081002, 7200606, 31608457, 39954667, 39600833, 23766689, 3432506, 30181596, 18940458, 18914468, 33678606, 37145470, 30981750, 39673262, 36798992, 4558183, 27015186, 28423964, 23785522, 17943802, 16351186, 37775984, 31834227, 37288234, 38682909, 25846182, 14112179, 35422292, 22451472, 38565022, 27762547, 33438952, 34820657, 23569001, 13330974, 17948232, 39336870, 19884364, 17231053, 29551297, 29157813, 32674679, 30682846, 37281553, 12633179, 31282949, 27954504, 26136137, 37866104, 36849455, 27033679, 36878937, 36144024, 29470958, 22650879, 31050040, 38625337, 36590575, 3038033, 27092032, 36114619, 31038176, 31346375, 20377775, 17168811, 36464556, 23587448, 18950842, 33868753, 40006438, 29951754, 33176579, 31998761, 33397107, 39392004, 21704459, 37090026, 37624960, 32981567, 33108925, 34054039, 36167674, 14888941, 38696070, 21342192, 17454183, 37031232, 28665759, 35262579, 14549545, 31980778, 29870041, 37988680, 38788073, 18555311, 35871815, 12616182, 13266732, 29318565, 33806084, 34188785, 27511305, 20965754, 34270469, 25593428, 28261466, 15045323, 29341472, 3031045, 908331, 36873940, 38417904, 37856569, 23652131, 34163166, 39435359, 28258061, 11465117, 37220389, 38487441, 31963471, 10116650, 30815236, 31521357, 27758297, 23145051, 26539904, 29672351, 38096689, 35426270, 19214528, 36524431, 39823879, 39669824, 2121481, 29511332, 16450152, 38856565, 21832584, 38405419, 36488153, 13011652, 35262272, 33982834, 17435554, 6404797, 36368237, 20463929, 15964879, 17824261, 11232597, 37840142, 34015141, 4083401, 25273063, 7032212, 38381119, 32599391, 18579650, 29135650, 39458598, 39337729, 36481830, 33263378, 23019782, 29082540, 36464982, 26213917, 26970251, 31062442, 32014889, 31732177, 32384241, 31906083, 22533081, 10032788, 24656444, 29335099, 8993305, 34877889, 19940662, 3038618, 31663775, 37249879, 36141205, 35258104, 24467462, 38789670, 33668886, 17157272, 34269763, 28994507, 36528348, 9938082, 30697089, 34572776, 30180626, 32615243, 26948784, 34547792, 16095922, 23106491, 32195878, 28433559, 34027359, 39012081, 34062502, 28844491, 20449506, 38000992, 39859835, 26979519, 8656469, 39050359, 22147749, 36233643, 39922553, 26311030, 37063912, 35062126, 39133741, 29651000, 27337697, 28707240, 28001067, 34252625, 37098824, 16159228, 23440402, 36769614, 34451910, 36195592, 13318447, 20426725, 4625108, 7983243, 22254610, 15390374, 38058893, 11770142, 28679361, 34345560, 20485192, 39347857, 35450752, 38348073, 35785407, 35700373, 36522120, 24974591, 38794344, 38908624, 22664491, 11443000, 38655738, 22750303, 31536578, 23343767, 20858991, 38937123, 30119578, 38066836, 12234676, 14678959, 28261876, 33783007, 37108147, 25098581, 10077471, 31240479, 35383388, 21814567, 20714910, 36558436, 33274234, 39600379, 24519844, 38307982, 31317198, 35225382, 33401321, 38772204, 39080555, 34566528, 9204616, 38457455, 22891134, 39569832, 28063424, 38333785, 36593462, 7488926, 32061871, 30548505, 38752689, 28936140, 38745269, 23446381, 20555517, 35033985, 38152173, 12989695, 38341186, 21602233, 37532076, 18102958, 37055906, 30152411, 27374953, 14900894, 2848711, 37361204, 39698187, 29861653, 37468787, 34676565, 25023076, 11910481, 18909408, 19371358, 20716631, 27408310, 36826839, 30337835, 8637254, 31013641, 23294658, 30967943, 35135244, 27953895, 21031015, 39642102, 35926917, 39013061, 19201290, 39561925, 39729424, 25574997, 34595225, 39846889, 34930888, 20437756, 37284077, 35459250, 19321816, 17626453, 28099065, 21868427, 22380816, 29203304, 26963877, 23767615, 24426131, 25194991, 27973719, 35651372, 1982442, 40002196, 23113231, 8087761, 36075676, 37432165, 34329061, 21919589, 19619858, 39575947, 36364783, 35813667, 21504669, 34821732, 25965557, 34568353, 14142509, 11531275, 11121124, 19755788, 13203868, 39820036, 34187448, 9772854, 29958744, 35612984, 37262887, 36174660, 35405367, 32826555, 25475074, 39689134, 34055463, 29630737, 33901095, 27234022, 23645618, 34867467, 9250118, 16915067, 21748910, 34145604, 15705678, 34706113, 23458771, 33080165, 38586503, 10054937, 16828248, 28510586, 35329541, 4775146, 18263374, 31250550, 33175457, 32246149, 27161587, 23605141, 38593744, 33316246, 30442226, 28927811, 19809869, 15819362, 34680228, 20022115, 31017196, 21266607, 34829092, 20081615, 12204784, 33743065, 35805649, 18240964, 32833178, 22736474, 39447741, 29897808, 21220176, 37908557, 6400538, 27637197, 33273785, 20481759, 25535983, 19641786, 28297391, 35370406, 34699948, 31935714, 38326297, 38942756, 33041621, 19057808, 30737075, 37973999, 18610519, 35077320, 36777090, 38919003, 39113605, 19679937, 34180573, 28864307, 37560427, 39923384, 28335832, 35654781, 28786659, 38378090, 30362895, 30102260, 39803878, 27815518, 36066242, 20645967, 25039643, 23481032, 33184193, 33040032, 31379081, 35338481, 15173715, 31190802, 35074461, 28654956, 39112742, 22892922, 14716338, 36098728, 37358711, 20339558, 32410651, 26388996, 38729810, 33472778, 21005548, 18348376, 33355137, 21831492, 5689142, 36056648, 35251952, 38170189, 26781937, 38586282, 38022926, 21194612, 37685796, 28247607, 28441112, 35324276, 7015487, 29893608, 17613128, 18312968, 37765789, 38106158, 26178163, 31886022, 20920987, 6757898, 27261511, 35752996, 39352614, 40008800, 35464100, 22075851, 39861740, 25902525, 24295174, 33263838, 5690733, 8334875, 40140202, 15411252, 8555491, 34378557, 19433833, 17094135, 33007218, 30416298, 21309406, 18966564, 33966143, 30192033, 19129106, 33469015, 11669379, 36666225, 28843536, 18366554, 28565182, 32144173, 22239029, 19465012, 31304932, 32059634, 17125842, 17859132, 29370413, 25741810, 30492623, 33690800, 38959099, 13369738, 10722990, 8865509, 21483897, 33203140, 38195458, 39079477, 29917210, 24240967, 12813233, 15678794, 34005451, 19891076, 34262645, 3746876, 10334310, 20306726, 22758469, 13716081, 39883768, 29842268, 33862535, 17033329, 34319455, 12084677, 30601374, 39666221, 19735768, 36843684, 28876791, 21242617, 23218165, 36893822, 19796883, 37967815, 36039101, 30420264, 34992662, 16727093, 22594283, 31575924, 20500037, 37642662, 13004034, 22117908, 25567709, 13301339, 36614260, 33974468, 26918331, 31760941, 33190390, 37355843, 15743893, 26524919, 37367937, 25182685, 24047526, 13824109, 17368841, 32300451, 31026374, 14409454, 31527909, 34402443, 24757191, 33122671, 31766411, 27658108, 27586663, 11763976, 21952811, 15315461, 22220285, 18623755, 26084740, 22560342, 36061887, 40009559, 19946947, 9937905, 19080685, 22242872, 40137134, 34745609, 34319523, 27666120, 36318992, 21144845, 39212894, 34348813, 33186651, 14468353, 35613032, 36897662, 34885855, 23953227, 27312618, 34844624, 28611496, 29173241, 27580640, 36944403, 30081702, 35165790, 29770412, 39698190, 28949293, 20380716, 39056356, 36143963, 18325332, 33044269, 28380844, 22822549, 6446568, 37085979, 26183031, 39930642, 33715086, 26680567, 38263289, 20608617, 37175864, 38265320, 38579081, 37977118, 23575267, 22173961, 32711502, 36781299, 31965943, 38842396, 35933829, 38175391, 35851972, 37682482, 35857209, 31794291, 36085354, 27203335, 18005198, 16369982, 17496261, 38146448, 27435284, 28235256, 25524639, 2830953, 21419964, 34412739, 28133758, 14896039, 11398928, 36727503, 36578794, 35520579, 17111255, 38296696, 34425085, 34391282, 39953134, 39948588, 22701760, 31621818, 24633446, 25533463, 25083943, 35833129, 33995227, 38233145, 34402349, 14566467, 13856319, 39156809, 26589980, 24692430, 25337803, 35662828, 37199318, 38536071, 40067900, 15050607, 35556476, 23991015, 36590963, 18994302, 33977121, 34069474, 36632264, 17749058, 35834662, 37590875, 7256283, 31954580, 38019401, 25307698, 14956313, 23772772, 33162133, 31012724, 33305346, 39604004, 29854114, 20569203, 31048613, 39927162, 10182366, 4787723, 39353599, 25828478, 35072925, 38060858, 14355733, 39905837, 31883364, 36170866, 38211588, 38533756, 35111441, 36524320, 33425084, 18200308, 28327779, 34769332, 36549666, 22974899, 27080520, 22301932, 28716527, 34711006, 36683653, 38407553, 22560224, 38968943, 34494247, 36453319, 37100944, 38562285, 35508089, 40030623, 17244937, 38166949, 34179772, 21462804, 28644706, 32074682, 30728008, 31435562, 38117824, 39842762, 36744368, 27188394, 36709470, 31150589, 25924720, 32160745, 35385601, 25162959, 39323893, 30350144, 13823207, 36298231, 27278524, 26474354, 34848432, 37810339, 24271752, 34822515, 18716564, 35953512, 35139788, 5659923, 32793228, 9436738, 1863571, 16851167, 31421379, 34957453, 23902540, 34981128, 4232111, 34442810, 27198448, 37628359, 29552959, 25690423, 7060836, 32545613, 23313260, 14922909, 37091870, 16084117, 15418900, 20020077, 30731220, 38029284, 17520292, 22381711, 9954183, 37842108, 28387780, 32855559, 37557700, 26603216, 32173077, 33603468, 30339140, 28376031, 12447549, 10253855, 21950848, 34199710, 38806603, 33467868, 34206986, 3195067, 30523521, 39008318, 31684364, 14664928, 26162078, 25153300, 26567667, 36390687, 39904647, 39851196, 16090786, 35609006, 22314398, 35140296, 29756603, 38209718, 10922231, 20303934, 34499453, 29201982, 32254270, 29419846, 22162381, 36639342, 18457529, 31079460, 39561593, 38291313, 35682971, 39338851, 27132003, 39771024, 40001325, 31591914, 19322284, 22194366, 37974962, 32249762, 20423034, 25003198, 29114975, 27479767, 32001909, 19920572, 34952651, 26655818, 29813679, 35782600, 28235219, 33080794, 7133977, 33003397, 33070848, 17914865, 39140632, 33248866, 39740155, 33852639, 24972098, 33768460, 38932818, 25036757, 28800663, 22817220, 25228798, 19414672, 36523155, 39672209, 35523633, 37908806, 6737417, 36958482, 32509043, 15350021, 32767480, 30472752, 20029559, 35687976, 26169537, 39437745, 29710195, 35757034, 28162585, 38574562, 16602719, 33483913, 37528103, 34776312, 39872099, 32504143, 1861555, 25266620, 32735490, 39829233, 37685084, 33316068, 39117991, 17828487, 33507286, 18556499, 37011194, 20614485, 31613597, 39988589, 25517937, 38097034, 12748926, 37616746, 31141369, 25040984, 38423360, 32125695, 31888884, 39884856, 37636461, 31633635, 36512521, 34716876, 31545946, 33359120, 28222248, 30267460, 38434182, 29247034, 35114821, 21650319, 35280379, 24894905, 13717117, 13782269, 22779609, 34309339, 21300996, 17537071, 13000121, 33766487, 28605255, 34123881, 32432486, 29549748, 38880759, 39548836, 22738796, 29909330, 13861594, 27631243, 12993037, 37904743, 16363726, 18363839, 39605896, 38971898, 40031792, 39931243, 33392359, 39908390, 9124547, 39329141, 28412502, 32782006, 30868143, 32298602, 34812753, 26563208, 23207971, 30712898, 16257893, 4693352, 32358767, 31827012, 36343494, 15844714, 39006982, 15487416, 35048015, 36608022, 31530880, 28751537, 38133850, 23350486, 27559131, 38213409, 14730989, 31848136, 34975115, 37685599, 36050192, 3424292, 5286573, 34602999, 39842134, 31846091, 36796508, 34739788, 35605576, 35024598, 34026077, 39067088, 18727282, 17915628, 26260209, 13424598, 10779187, 30765463, 30411208, 37216623, 33046829, 38924348, 34607521, 38854440, 36941294, 38595362, 34424019, 34353606, 24177956, 31068030, 14730479, 27731094, 38637637, 11660476, 20323084, 32541120, 38042446, 39752005, 30786212, 35762183, 11443633, 11060600, 36049678, 7668724, 34531499, 22895618, 39554981, 28877227, 16899866, 30820371, 36528247, 25337490, 17652642, 31547202, 28257851, 35427161, 30224573, 18252804, 16085679, 32599910, 39880075, 19797958, 37172522, 25820325, 1057496, 19578330, 38794109, 32406511, 24046459, 39553483, 28417602, 38909173, 29290556, 31927201, 20926076, 39832125, 37312465, 34753711, 26789664, 17010442, 30851887, 38251245, 39862062, 26248264, 14608239, 17515835, 22173814, 30868788, 21115580, 39265582, 38259484, 35783418, 24249519, 38855160, 16603066, 14267452, 26444557, 36552767, 34799818, 39975898, 40015439, 22409430, 20591831, 37586218, 39172880, 35426084, 17583865, 32767491, 34892074, 33323308, 16503487, 19765139, 4772830, 38657578, 25906308, 17799527, 31995472, 34994683, 26702022, 35696505, 34936798, 3340712, 31118332, 35277455, 36877016, 37327372, 40029623, 38660528, 19504749, 13215873, 21085250, 4305518, 28431269, 33643930, 38311465, 33830288, 27262266, 20794532, 19385372, 26691784, 31756845, 23018306, 20302685, 29539910, 36424774, 30470628, 37486551, 34296292, 39343894, 18836064, 38066894, 22971553, 37832781, 30934541, 17948102, 34991721, 22951504, 33784183, 4846438, 16370263, 31347044, 36664948, 39003883, 36639563, 5061874, 37287938, 37003418, 36273655, 19280488, 26156787, 31602831, 19336353, 37126307, 34187316, 32577801, 3447093, 37974353, 29398336, 18425661, 20415384, 37889628, 37510918, 37501966, 35436844, 33522848, 31514051, 31212258, 39412892, 5764642, 27889175, 32109261, 13872049, 21193145, 9074311, 29052393, 29471240, 16248546, 31468049, 34958863, 34923246, 35959627, 39832820, 36706734, 19876992, 22160074, 29569603, 26665599, 15965940, 31731568, 18808729, 35430899, 24553439, 38212206, 29543828, 26699363, 7201397, 27002217, 30589069, 17516168, 34884683, 33926348, 39468535, 22461342, 16902325, 17080417, 26566236, 31148305, 25062435, 30034492, 32683912, 11858960, 33619691, 30879608, 37549754, 29081884, 16040635, 33679930, 33298281, 31635153, 39632738, 36383554, 27884205, 22609124, 22976642, 35463358, 34168651, 21877516, 23343923, 13795758, 39859208, 31301773, 28619260, 23800972, 36955812, 24715649, 27828999, 24300952, 39572398, 8076349, 31367153, 15956169, 37394529, 37970564, 24651093, 39195925, 33857412, 39187192, 33605189, 32209343, 23591987, 32302629, 17544247, 36599004, 30750830, 40074315, 35820684, 30544508, 35783033, 20268195, 23030645, 19718062, 35295676, 37337657, 31707278, 39839033, 39530414, 38702627, 29938159, 18095549, 25718949, 36381356, 38394413, 40120085, 36333986, 29844367, 18364372, 21718998, 32533851, 32550839, 39851566, 39797210, 39133009, 32717137, 36485679, 21214088, 36631143, 35225050, 37575070, 18910410, 26520912, 36561280, 31326709, 32433005, 25391731, 23144803, 27841569, 36212775, 22364996, 38757462, 37871358, 36212029, 18179388, 23108413, 36247539, 13837848, 32580145, 24464535, 15549339, 20284254, 9236198, 33549529, 39697570, 35242559, 32284194, 31613927, 28731655, 23721983, 34398801, 35657210, 17983205, 36167612, 28631217, 36368426, 957773, 39679649, 30490113, 30295350, 35409779, 26952030, 38256281, 22273242, 17243620, 13554512, 32207420, 27041264, 30309906, 28738962, 24704520, 28255056, 7971744, 17904848, 26451381, 32196391, 31421900, 16075058, 40065101, 26787018, 37328511, 38532978, 20502307, 39821918, 28639694, 9893645, 35731710, 36106546, 38713967, 19932831, 24516002, 30704214, 34899952, 37900521, 23990241, 33859157, 39196886, 35803431, 19202665, 40078158, 34714268, 20973546, 34707030, 17599297, 16330103, 16065372, 37511712, 36881296, 16929878, 38383182, 29755144, 35387680, 26105065, 39561806, 39846207, 33401522, 12153650, 39672626, 19691680, 38132854, 34167711, 39336356, 15902608, 28341086, 13737692, 10704292, 38290644, 17336943, 35821015, 38726986, 23962319, 21649002, 36098061, 35976382, 28921689, 27011086, 36672528, 36433448, 31680451, 22835551, 31478344, 10485892, 35201087, 36380277, 24986690, 36674712, 29358200, 36590743, 22230200, 26064684, 38868130, 5671318, 22444393, 28029716, 36162181, 15282651, 31341443, 29715249, 27323865, 19175311, 40051914, 36274410, 32378913, 25808477, 33961298, 21911880, 38235829, 31407053, 10757689, 34077201, 29213894, 28933204, 36832300, 16581070, 39432057, 18210003, 25036218, 33885975, 34130918, 32160061, 27601784, 30961173, 16681264, 18591208, 11421879, 26497013, 38633319, 38363747, 37151414, 6367280, 21071889, 19692003, 39523798, 34514644, 20996117, 26914462, 38916901, 37535313, 25883596, 33795083, 21121846, 28796854, 35547853, 26581465, 29336616, 12657733, 33596082, 21540873, 38417783, 38466367, 9917178, 29349262, 16186778, 21189294, 14751840, 12240614, 20105875, 35946922, 29292254, 31487198, 33428201, 8456401, 30974427, 17417282, 29133770, 19746471, 39125177, 20218239, 16518590, 33883794, 22281844, 16736661, 36612627, 23332393, 16803686, 31518664, 7073679, 36970221, 38310519, 27783318, 39514657, 17934916, 18022428, 32364127, 21544727, 32264830, 39066982, 2823211, 29686126, 16833440, 15575658, 38334883, 38477263, 34405850, 22219717, 37553007, 30188158, 26690365, 9884188, 28903998, 5930585, 30245073, 21707363, 30098370, 26329055, 27788093, 39234059, 36552288, 37230289, 34032628, 37519920, 31791728, 37127031, 19418632, 19852548, 16258519, 9458480, 17494739, 31332038, 37385865, 25829902, 27180877, 33620373, 39874143, 28392810, 24429489, 36774411, 30043755, 39500356, 15766767, 30897932, 37821996, 36879376, 34468717, 37106776, 35706198, 20452189, 31266046, 34168399, 20015639, 18630621, 10729909, 34691339, 34370574, 31963963, 16509361, 35672625, 23646367, 32778583, 38349822, 34545301, 25818130, 38443208, 17426283, 30109178, 38019266, 33235048, 36968162, 15732032, 38612154, 34147515, 28792371, 36758933, 24419579, 35523986, 38266686, 24634764, 33119021, 35816230, 36846260, 38051648, 12752348, 10019268, 38795935, 27804729, 33568428, 10656771, 1838170, 31162350, 8966785, 39426149, 37380912, 17766607, 14611657, 31901425, 27237322, 29495911, 33852146, 33469131, 35141856, 20602495, 35224578, 8551162, 10114146, 17783708, 28183521, 16905982, 6849399, 31995185, 15776387, 19414742, 28544813, 39898133, 20910653, 33118404, 10020589, 34519461, 22783174, 36958530, 27898789, 38297150, 26463224, 19338191, 36800557, 17930520, 34247458, 34577523, 35639357, 21801387, 12899747, 9403109, 27169750, 20570647, 32292062, 20024426, 33363745, 6320415, 28083003, 34798232, 14990907, 28988072, 28414635, 30661112, 28448241, 33641756, 33168798, 29543323, 38152898, 25237557, 23156496, 37807094, 39257379, 36968440, 30056960, 28705745, 13189498, 37779845, 39840845, 36165440, 36250593, 34443629, 38906437, 33486953, 39927318, 34288938, 4046021, 39898784, 22205790, 32805264, 38959089, 17756711, 7801586, 13981122, 39924510, 37101952, 34308139, 18130289, 13787739, 38487043, 17092520, 14583761, 31277207, 770657, 5850536, 1510084, 39185360, 39278499, 25065998, 39929258, 24780599, 28995412, 39323071, 23453133, 5535206, 16595525, 25814240, 34146981, 5277174, 8077099, 38536466, 32419968, 25028623, 31909094, 18804958, 21195549, 31215507, 32071339, 7899232, 34290134, 38863540, 39231476, 39560887, 22835289, 38580702, 31572196, 40058513, 38111529, 2398661, 17880820, 31620957, 38304945, 18757116, 12427532, 32663030, 25065616, 36695039, 27235746, 33174804, 14949644, 19696973, 27516608, 34821877, 22475117, 35510805, 27803206, 39813435, 17479563, 33709541, 31012360, 37576161, 31320657, 39677814, 8763124, 34750151, 27629347, 27557203, 33438620, 27192702, 23637204, 39562929, 27214184, 22282101, 39327767, 14569551, 27743586, 37669952, 23483349, 35830999, 38774071, 39009349, 35516332, 39584021, 35231514, 4440791, 20906790, 39028505, 39510830, 24911071, 35953620, 19908591, 31508832, 19758958, 35011168, 34141439, 38486144, 39880964, 33579409, 28865564, 21661693, 38710801, 24126388, 31016564, 30763586, 19416779, 33243454, 31731647, 34096364, 5079779, 13282184, 39934700, 34440211, 29923877, 35098035, 15981789, 19376923, 33537436, 26251030, 33791057, 38507426, 33738720, 21342188, 20161692, 30947140, 38935169, 17611947, 39953159, 28460719, 32051082, 25575824, 39862745, 27336095, 36153585, 34284749, 8953627, 38965624, 39919699, 25140922, 6540992, 39337208, 29800323, 38888609, 32293981, 25140422, 35232778, 26083115, 27130513, 35533344, 28528105, 39829827, 37199379, 28845514, 20177653, 18648154, 6409644, 25922124, 14608603, 39133820, 27323770, 36713096, 13782540, 17665442, 30157079, 31075591, 17664556, 16423176, 36831573, 19395365, 9433118, 23853575, 39119681, 17085527, 34037094, 18046804, 22673668, 22992177, 29584323, 36338535, 27230615, 39442102, 15236365, 38266711, 28357622, 27643484, 8102471, 38037541, 39551157, 17002445, 33227556, 26822622, 22730761, 38664035, 23577084, 33043719, 29872283, 28205540, 6097278, 33758086, 31480327, 20107509, 16524217, 28258991, 30880667, 36982665, 19847275, 28682152, 18532678, 25782727, 33896784, 9857104, 16108503, 11804497, 29990366, 37774466, 15035082, 19656326, 33893893, 39784499, 37083908, 23766703, 21269227, 28812502, 37521724, 29099679, 12474694, 26978245, 29289945, 38171111, 31029343, 36156448, 9204209, 35562234, 18111755, 25469869, 39012618, 33213592, 21953541, 34932809, 8700920, 5945289, 12293262, 21585509, 22794538, 37870641, 38029456, 35692544, 21262037, 36918376, 33721231, 11853646, 17366941, 37312500, 28120576, 30904126, 33022157, 33422170, 29201404, 21879657, 35162121, 32577526, 38743349, 17936029, 31507339, 28267884, 37055383, 37998077, 38545225, 35978469, 18501150, 34811676, 22651732, 19891908, 15987715, 39362394, 8566901, 19985560, 12434654, 27017338, 31161243, 34286884, 37214844, 6999565, 29907639, 37913208, 36371047, 8358236, 29138986, 37158940, 36085607, 37333633, 30778626, 31383478, 26681779, 22319994, 37243765, 6102311, 11680656, 15164493, 26071943, 35613639, 35774376, 17960207, 3235486, 30121041, 11099963, 24704564, 7123521, 28827656, 39407737, 27519306, 28896314, 18610646, 35470171, 38790913, 31632738, 40070289, 22441578, 36147224, 14852948, 35771142, 30801462, 33845105, 20518897, 35251749, 34551872, 39981438, 35288138, 27313970, 31103161, 39529655, 16212300, 16248012, 14585597, 26221850, 22782447, 39826016, 17875037, 23599803, 22438523, 27068265, 33933886, 17555763, 29832184, 25634975, 36212905, 38661695, 27954892, 32286397, 26616191, 24660206, 31382442, 28017881, 35334903, 39887219, 22843192, 28652121, 32913834, 29065229, 37047267, 22799351, 12794610, 32900273, 33030377, 29828734, 29539591, 21751449, 38073503, 37553102, 35398422, 29036668, 35470733, 19760995, 31146355, 28335050, 24565966, 37760238, 21529447, 31736595, 36110966, 38383003, 27210351, 39621148, 31869455, 39219509, 39687713, 23888685, 14424842, 27129497, 28054864, 35529462, 2388414, 28204523, 36214058, 21868944, 14711669, 20202805, 12742806, 27164086, 22742014, 39095435, 37517684, 35814131, 13401296, 32653654, 24541167, 34345613, 34606040, 16549332, 37849980, 39946770, 36751889, 36965778, 28950166, 23463081, 27396289, 4894069, 30017405, 34943836, 35620823, 28272060, 21591244, 29686484, 38657337, 21514902, 34838443, 34747517, 4340873, 39875855, 24197437, 34864038, 29092778, 28447538, 15065284, 25879558, 22996468, 6981594, 16220263, 22988663, 31086204, 34365371, 207763, 27489781, 24277853, 27109176, 25588446, 37881300, 27148298, 28597625, 11946706, 30992228, 5245336, 35945473, 22674083, 33337564, 27716217, 9128805, 39824110, 35678035, 35877916, 35473434, 31331357, 1887506, 20732918, 39962808, 1358101, 31336417, 33960983, 37059815, 26927571, 25966044, 34116026, 37424717, 39272920, 36234988, 36234037, 39966909, 29759632, 35494756, 8408373, 37110596, 35241643, 16512627, 28252985, 33528312, 18607866, 33457532, 34242410, 12788816, 29173189, 26513684, 36016348, 35341050, 38883396, 13793973, 6963931, 35752495, 6338188, 32916271, 37485530, 37669517, 39821762, 33158472, 22967718, 33104401, 19841506, 17028722, 39207316, 37397769, 36605874, 7300506, 32633096, 14800892, 15328728, 35050524, 30942765, 37481882, 36085294, 25997307, 5847152, 12213178, 39623222, 34756145, 23158000, 22579936, 19571693, 38543952, 20131229, 33073650, 31017171, 32075067, 15329223, 13839288, 30815768, 32788992, 35390331, 13337552, 34562893, 37733889, 38602185, 16546467, 15692105, 25749621, 22563763, 8959741, 29854872, 39537303, 15011965, 21778885, 39675984, 34420181, 29716828, 37833441, 34558846, 36481587, 36411344, 21690051, 30833914, 26728720, 39257631, 17110929, 16841081, 13323140, 15870053, 18745743, 31770724, 22084852, 25318498, 34501986, 22273879, 17250660, 40010322, 28886107, 13151696, 39424640, 39718574, 36833425, 28905589, 39521451, 30032078, 8547035, 6959558, 39743916, 37336788, 8601414, 22459850, 19129279, 38488712, 13222738, 12102749, 29564293, 18806553, 34982987, 29311509, 33620793, 36932129, 17479525, 36655529, 14753930, 32567445, 35546862, 31410282, 34563179, 22332010, 37090650, 17637312, 31039022, 37416028, 13106175, 36113938, 37443989, 31984306, 14379753, 5253397, 21101070, 27597473, 36037006, 29841257, 22925802, 39363462, 33558448, 37310994, 39736863, 20227831, 35231488, 39284599, 26978573, 30920656, 33893529, 21488969, 23319925, 24770849, 33496350, 16322031, 27104456, 36154927, 39028103, 19524346, 37853099, 26100912, 35469611, 38639573, 36965675, 34298710, 18040964, 37778589, 29523067, 37981271, 29879504, 16109271, 19739674, 26312872, 36444934, 37010740, 38001410, 17752043, 22119586, 9562834, 36634469, 23482280, 11208103, 30691006, 33709391, 34818806, 17777219, 36748120, 33491758, 37532479, 21764604, 36662150, 12998926, 12351465, 13209778, 38011331, 31964810, 39689099, 33088055, 34453876, 35976820, 33936089, 23612560, 16741313, 32177308, 26290720, 13258462, 39311292, 33768758, 35393264, 38643756, 36732249, 38171072, 34047286, 418835, 22994255, 39301086, 27670032, 38959621, 21709014, 13443593, 22974024, 4717956, 14250658, 36047557, 15732608, 37036470, 32765566, 28334107, 17821743, 28679949, 35567724, 36316120, 27713007, 32906259, 22750907, 34279783, 9215817, 16084605, 20863045, 39455388, 38606265, 35102796, 11769607, 19262490, 35441241, 33054910, 22871810, 17261433, 37697686, 35412026, 39321914, 28193025, 39062403, 33005842, 24777775, 29236097, 25100720, 36675895, 20820798, 10398957, 37633927, 38884715, 40023568, 31036098, 14195546, 16932831, 16914665, 25502253, 39519978, 37156248, 25738602, 28499870, 15625602, 22387692, 32797010, 33792915, 28069901, 37221147, 22360242, 34006683, 39195179, 30401482, 33015417, 26633561, 30471166, 27226756, 29721670, 37625208, 24725954, 35763883, 2728346, 14310298, 34203362, 34468530, 31006360, 30632226, 30811601, 5810101, 38081511, 35605836, 28863440, 27468091, 40064012, 36134879, 35958472, 16567713, 38100541, 26736171, 22835309, 12329949, 30438402, 7561498, 11511080, 22773327, 14309598, 25290379, 11328940, 25848716, 21900165, 30248360, 33718469, 33235134, 15762408, 21054748, 13031721, 17845689, 9348627, 34009869, 8356907, 34110537, 11403132, 24476961, 10031834, 39426003, 16511872, 26363879, 35238473, 23745796, 27454109, 15909688, 25925259, 21238181, 22140277, 25200512, 18164598, 11079825, 40108906, 35464241, 36762017, 17630252, 24985965, 26723923, 37072953, 27196863, 34166337, 3356548, 29112689, 31437478, 25344505, 34075147, 23910595, 20017267, 31996310, 26706358, 38778257, 11838744, 29811547, 4482878, 29478086, 6598726, 30338416, 39277387, 6889785, 22671980, 14093510, 19417498, 26328667, 38111975, 32334390, 19668202, 25791892, 20278941, 20638223, 36111005, 8372399, 38800133, 29427131, 4675895, 38876963, 36394337, 26347496, 15342146, 9256013, 26666249, 35894609, 7535889, 32383841, 10460286, 1726925, 37102408, 18498580, 14307496, 24291448, 32929662, 25586333, 23789840, 18371697, 3685805, 13788466, 39833927, 26290612, 37330978, 4422174, 28258944, 16172268, 7654247, 17295776, 11960397, 29269520, 20398242, 6319207, 31744935, 19775036, 24004106, 31366737, 18175503, 19647845, 10872516, 19145512, 12631052, 19352672, 18440231, 4729420, 9039961, 31303026, 24813982, 18825824, 23934075, 26341520, 26084263, 35618634, 20642859, 11883319, 33122554, 21740406, 15838399, 23233983, 22388641, 24108149, 30041247, 16212109, 36240666, 10542051, 19614723, 22890598, 2896752, 38764161, 1419470, 30364909, 15843419, 21196165, 16974514, 29360236, 10875121, 37979037, 27336106, 19657037, 13218290, 36759961, 16683972, 27494701, 27819228, 23056097, 29589062, 8221507, 19762750, 35157442, 28288722, 8230969, 21781271, 2092757, 31329781, 27215429, 21552686, 22255929, 36130335, 39693346, 4062858, 23799533, 31008237, 15640083, 13499100, 13283689, 21093845, 29995280, 9576027, 31429365, 34253422, 35538285, 17698612, 15302386, 16518103, 33744440, 33934109, 32707057, 19757063, 3945940, 24224110, 10106901, 29712962, 32473343, 7668534, 26155852, 21424241, 3462143, 18843561, 27802704, 34961117, 26951406, 29711762, 22389320, 35094234, 26917922, 36097074, 9769811, 23419931, 38703403, 17711598, 33266456, 25150897, 38054392, 12415586, 26622995, 37403098, 19163015, 21371533, 16614861, 20509723, 9106065, 29585289, 31553507, 17901924, 31175223, 3229626, 35568543, 35288549, 35600580, 21735859, 35430036, 25651128, 13219981, 35979255, 17764179, 34449869, 15136693, 38360980, 167120, 22113668, 35129157, 34034075, 26914447, 19178305, 40002581, 18795455, 14974003, 29998456, 21264133, 28757868, 33156633, 27292061, 30902558, 8784813, 37860016, 34840514, 15489824, 34658050, 33219985, 19392786, 33708547, 25733955, 9301678, 34601474, 3941517, 36191351, 34922704, 27080117, 29963686, 1720421, 7054249, 23292620, 28520427, 38862203, 38982776, 30031598, 19963744, 2674647, 36393790, 38986718, 32732556, 37501808, 28973147, 29057895, 19263551, 22927046, 23163508, 30315333, 34434468, 16850949, 21297429, 27751072, 21959282, 33046670, 5626164, 22760918, 20775633, 38859823, 1236695, 13677682, 39949783, 19749822, 33829408, 25413117, 26940904, 37093625, 19805402, 16251506, 33016615, 17281356, 15911096, 29703150, 39338520, 28513896, 9694066, 33229348, 16928414, 29965333, 20189051, 39400977, 26238263, 20675108, 27361462, 3451157, 33245770, 26854566, 1553275, 28657053, 9598499, 27451270, 22597966, 13052686, 29942550, 31704066, 22888894, 30076825, 19724146, 33525058, 17517700, 33135500, 4176980, 22209779, 25718954, 26718614, 15311242, 28544849, 30993182, 31061651, 6509647, 23140529, 349175, 34663493, 4288696, 24770406, 13046313, 23888241, 27308221, 28326372, 38291372, 15770282, 35304631, 19258457, 22678141, 36642397, 36329412, 13844162, 32950347, 19666772, 10368565, 14215338, 27368457, 24840797, 10474475, 35691367, 38240963, 33173486, 27084312, 37848325, 9269173, 28454279, 13135017, 12959442, 19652781, 22589624, 8866586, 38775048, 32893774, 18440706, 12001115, 3105215, 10788934, 34070388, 20079659, 4610114, 12701428, 13259179, 15655341, 28869420, 32994245, 39624778, 16152667, 17522480, 27100845, 32487333, 39932488, 21830755, 37822872, 26454800, 32569735, 30419730, 9355872, 15487857, 28864971, 15356186, 37230805, 36269636, 23564373, 29314985, 15223594, 16201240, 29107641, 28342048, 23460741, 36020818, 25395480, 9739255, 19246854, 28491431, 8808045, 1285468, 28312482, 38538264, 35421940, 11089435, 29567239, 18547640, 21230156, 23146392, 33551866, 15926358, 25096074, 35389287, 6975573, 18263004, 22273818, 37604747, 30025873, 22489602, 23814376, 10941521, 30506809, 28654360, 13638807, 39569405, 36668750, 13304176, 39128698, 31278412, 36945763, 20137931, 8569818, 36686097, 24526425, 33005024, 28205504, 9487389, 6713463, 36699199, 12572225, 28610568, 8380699, 14416596, 26577675, 29035143, 13663718, 35851172, 27492185, 13989912, 18261419, 32744735, 23350348, 24660610, 13618643, 16221880, 3394687, 626759, 17283238, 38358184, 19774581, 30923927, 21561025, 28909181, 12834865, 16695328, 33523795, 24120448, 15233839, 15619289, 28591542, 15124833, 40137536, 22790277, 2612802, 12999930, 35112918, 24050966, 39329368, 5632704, 40051902, 26611665, 2464333, 20955254, 30358269, 23015438, 3675148, 3850791, 15637784, 27388872, 16392205, 39748249, 3271478, 39964625, 31737650, 27429729, 11629570, 21221510, 25291902, 34170433, 33586996, 20037009, 13941585, 29329650, 26064662, 21567664, 16259925, 38924829, 8194156, 1933919, 7529691, 36980412, 23152573, 28954408, 12082872, 22005273, 28174299, 28775271, 29609120, 19185762, 30274234, 33704114, 17950950, 25239163, 28454566, 23454304, 28954422, 22719760, 18016827, 31635501, 36551393, 27731380, 2029795, 13443006, 18944101, 36346305, 35330088, 28706209, 33249350, 29391812, 30387280, 35416096, 30265968, 29482724, 34709457, 29409856, 15845205, 17314220, 4425954, 17858879, 34802804, 15752492, 6574692, 37629509, 12768504, 20508991, 18244375, 29060138, 38516973, 26581397, 18175594, 30633765, 19577475, 13697929, 34733090, 33552886, 27890207, 16986859, 15397630, 28322016, 25835094, 2493920, 21045800, 40064589, 25727293, 26384129, 23231842, 39026090, 20691976, 24002815, 21811204, 3375375, 13037915, 9708374, 13372450, 25849031, 7301110, 35280784, 15806413, 36094778, 7273164, 10124751, 6824212, 30429062, 22306519, 35519871, 29825174, 24654954, 26383634, 33166524, 23535715, 38048464, 34593476, 15978643, 16875701, 22592179, 39471284, 17607126, 27181363, 15585460, 10538153, 16306814, 34214029, 14196534, 36119322, 15736259, 3058457, 16048206, 18699414, 20954125, 18641272, 27276448, 19483909, 33489302, 15473835, 37115079, 10857358, 3200120, 35566996, 16659789, 3947337, 26770354, 29239118, 16780504, 30536550, 27567346, 27357321, 13076560, 28411880, 13435059, 13445362, 35203437, 10300162, 23851744, 6329499, 38417161, 11095759, 18276105, 34698199, 27081463, 33868632, 33619188, 32073213, 34648564, 33160054, 4170238, 36022674, 25926458, 19469672, 13442050, 36015888, 948032, 31625081, 27696342, 34793349, 22402124, 14792241, 33397145, 23943033, 28444623, 34784558, 37979641, 18747220, 4743409, 11039459, 27487541, 33450613, 37981029, 19913544, 7142227, 1774616, 20503423, 30870933, 37542738, 39251386, 126524, 18533620, 9432719, 24998530, 27221223, 5215268, 26200109, 20479207, 23193980, 26371079, 32368129, 33134205, 20554326, 6326620, 35641116, 1931380, 34111725, 30338452, 31625792, 29247229, 33249276, 12023775, 12809751, 24736638, 38136668, 34956599, 8429794, 25047053, 27955900, 31343983, 11916625, 35186220, 30007571, 26852566, 29322142, 9458545, 11109961, 20078739, 36872851, 28570985, 20509691, 22624727, 19042441, 31160749, 9540380, 11772038, 13379243, 4152376, 32766825, 2509706, 30676333, 22526345, 34485990, 39246218, 15365461, 2092380, 36480329, 18017132, 34960823, 23840948, 2170900, 33402331, 19106502, 35248091, 31992149, 37378836, 14705905, 18543366, 22816888, 27658877, 8286128, 38909976, 33136347, 23198499, 4508478, 35306993, 27030785, 13749017, 12080552, 38704705, 27138747, 33468613, 38983333, 11774751, 26401544, 24577171, 28949771, 10982746, 12500234, 27828877, 19885444, 23378711, 26453401, 29407073, 7984169, 33136687, 28137242, 32010723, 22439066, 24413486, 6117737, 39283491, 23448808, 23993218, 27760095, 28936351, 21217630, 4123266, 19753592, 32773514, 7354047, 10196386, 11746443, 21682129, 30627051, 2958029, 23917807, 7318968, 23852828, 30197376, 27303986, 33172203, 33991968, 37255372, 16119047, 31758565, 15918939, 5242798, 15999455, 13274110, 35976300, 33971483, 8618777, 36620766, 1464028, 21287601, 13289506, 5389507, 37415915, 18839206, 6886757, 26191140, 27572897, 26320841, 25234216, 21450565, 34795757, 15974391, 25670730, 16632124, 23719287, 31375491, 14029177, 22430548, 21808958, 22549206, 29760130, 28868295, 16801025, 35074921, 36381843, 33179255, 35642761, 26706396, 38686344, 3673337, 2169838, 39840625, 14430454, 25934883, 20761132, 35282170, 31738363, 37197615, 33838381, 16684595, 7042780, 32399681, 25188968, 32879491, 33191982, 24600564, 24777957, 36468886, 14902483, 26774913, 7172933, 18936018, 39046121, 33465900, 28270693, 36707886, 34769801, 15355413, 33349774, 31048706, 36179296, 32485572, 6495813, 31143248, 15232898, 10116996, 28577852, 27612626, 19885214, 10145059, 31767955, 34845779, 15137554, 26262410, 32503110, 39104917, 5246605, 21023523, 29079408, 34274214, 21537078, 28359500, 27089833, 16877831, 29715120, 20906245, 11219949, 28548328, 32851393, 35434713, 8269722, 26305216, 8909230, 21871483, 39988379, 15423227, 28543072, 39000718, 17403826, 34049820, 17320565, 31734042, 34866781, 21735234, 31458840, 27040974, 5722767, 3465417, 25711307, 22314328, 2098695, 20540521, 22923240, 36991366, 32164361, 5534500, 29715501, 33399989, 364621, 35846382, 35610717, 28922392, 17596387, 4326553, 16903906, 36465339, 37005843, 29785134, 36973533, 5245872, 39607437, 38133014, 20967794, 13384841, 31272198, 38874387, 30383154, 29811082, 13252333, 6877528, 21619501, 8757690, 3055644, 35222716, 19283419, 4892563, 17143321, 16019624, 33116880, 18254350, 27239307, 29809805, 28460021, 31734613, 36561096, 24211027, 33425371, 37851403, 36560982, 31389106, 646644, 32503636, 38898586, 33458302, 35718318, 9703088, 21861431, 33288340, 6889726, 27027885, 28626989, 37105743, 12874336, 15071411, 14593421, 8026660, 35719560, 2488306, 18140921, 21542482, 38110665, 25957497, 24548944, 33971401, 39936092, 35930980, 11892909, 33060806, 39617160, 34443844, 29763006, 32246477, 17734068, 40119661, 23104938, 26697334, 30386422, 38938688, 22604282, 36139227, 38510140, 29972065, 19142491, 4624129, 25740726, 26496905, 28376796, 608951, 21463344, 26378195, 9659494, 29958845, 18168408, 35775640, 30316042, 21450874, 33227306, 21070790, 20036823, 6561653, 29861668, 13544819, 29103951, 15820732, 30584795, 39830781, 28706251, 32498409, 31795820, 34307463, 39908314, 20347476, 28037061, 26541031, 20708000, 28049793, 1480406, 39760971, 40046268, 13169456, 24502167, 36614053, 18749066, 30856831, 33115996, 7900282, 7241329, 33309903, 39594249, 32793690, 23599650, 21442117, 5820392, 15017358, 27153473, 11790311, 31211345, 19211018, 35797523, 36186416, 28310338, 30088361, 3989016, 38333848, 34920101, 1109804, 29244309, 3321676, 18668288, 22856319, 22257249, 2235556, 20463204, 33717259, 40009897, 27674145, 17333450, 13907696, 34109592, 27882417, 32451676, 11729670, 31751232, 5788470, 33575087, 34804458, 11047999, 16723980, 30365563, 34379798, 8067096, 37232884, 34109741, 25520090, 923553, 28673073, 20889244, 28599559, 10294310, 20156449, 9987483, 1801668, 37764302, 21692675, 39827897, 28616469, 31130984, 20691829, 10889837, 13499145, 36543738, 17647277, 14679431, 9691422, 35834997, 7091730, 38717651, 25713539, 33030795, 29513126, 23648075, 23665439, 33113967, 5378231, 27279941, 6172351, 13297595, 27350249, 20354067, 20476947, 37395147, 26540556, 34048210, 35237814, 20314890, 29414885, 37706539, 24845329, 19434026, 35799225, 21245447, 25404421, 23796445, 17528657, 20296311, 22677994, 35122079, 25215967, 15180767, 7296716, 17172532, 36829878, 9230005, 39451485, 27758507, 25936696, 29876580, 22337789, 27415052, 16254281, 30504292, 18352048, 35319174, 6797164, 29562894, 28720099, 34891527, 26219734, 35320869, 22277041, 13773568, 34845065, 20320238, 650340, 15415237, 20105753, 24533786, 35121398, 23201070, 7802160, 1014352, 23473723, 22110831, 38442067, 14570217, 33991854, 34298613, 29413531, 12920413, 23056946, 3508051, 28094517, 33175214, 31125029, 5177919, 30763233, 37802675, 10879867, 33413528, 30901140, 15042591, 39276740, 19555229, 3483807, 4909878, 34844742, 22520344, 38525085, 36466821, 24643791, 2414201, 7891201, 22957606, 37833260, 39521715, 26558158, 36168625, 17687453, 24304133, 3030790, 34116907, 36265283, 17704244, 27454390, 28697115, 38342908, 35990084, 30303053, 33723734, 4534134, 29542554, 28755053, 9935010, 27313711, 13834971, 19067228, 38198606, 17243129, 30688676, 33066592, 17097483, 20819225, 22209311, 22104920, 20394711, 16415254, 20771989, 19363670, 33205921, 34207234, 20145968, 33090546, 5482546, 28122542, 17139782, 29109355, 38493899, 35558990, 14413684, 33920572, 6935068, 26016485, 21004221, 34287449, 20296902, 22498237, 27924579, 25958019, 35348646, 33539739, 14616990, 7042031, 28701085, 4432067, 9144602, 37432208, 17732288, 32897215, 28564381, 17867931, 34464275, 33058124, 23844828, 39438446, 33490355, 17037054, 39734016, 32829853, 2458904, 37267880, 15711282, 11841102, 39811720, 27769990, 23569341, 4697779, 35312323, 9475982, 14615846, 18696264, 32192163, 24112274, 19994958, 33901023, 27408635, 6737798, 27218185, 11841256, 33578749, 26508970, 36983172, 5085910, 17777802, 14549860, 21565978, 16646062, 38833937, 28136061, 33455959, 37774012, 33510452, 1198512, 27765160, 399067, 5876998, 20038649, 11964130, 29998873, 18238235, 11934108, 23857756, 34586127, 25630127, 29234153, 11963726, 34734933, 24435069, 8984593, 25998078, 33960871, 22596671, 39381017, 18349028, 33990318, 32382447, 36862342, 28269083, 31359553, 23303934, 12118777, 40002416, 18993230, 30756987, 39794074, 20929468, 6446887, 14258984, 26197821, 39005831, 28131906, 38922333, 23255038, 17038639, 24237211, 33952565, 20752152, 15469188, 19470862, 13746955, 26242482, 14042177, 17626625, 5112019, 16528958, 23542526, 17853282, 24520069, 26526291, 7625024, 37797279, 39603364, 11486922, 32250035, 17889814, 38727418, 27480805, 16429738, 29261882, 28934346, 752308, 28877360, 39015623, 35523872, 18503163, 18023972, 15725849, 30299508, 1639772, 29620150, 22833893, 25756720, 17473979, 34138343, 37326915, 33068875, 36638218, 36011478, 16540587, 39409544, 20338425, 40101544, 32675350, 39058952, 29701159, 33382338, 31775633, 38499475, 2461169, 39106363, 37578160, 22539159, 23596702, 36627218, 16031535, 28972231, 7681665, 15964452, 38428304, 4338732, 31149356, 16878886, 15052820, 26702846, 14217667, 34962694, 7386512, 39424853, 11844074, 16705496, 11770604, 31731644, 17497323, 22296373, 16105547, 25110626, 27028064, 22586889, 17049794, 4842956, 22581383, 2723432, 21178563, 15510542, 19866315, 33621392, 19895124, 35787449, 7053424, 35140637, 25902588, 23402667, 30511565, 17513714, 31006020, 29710249, 31627141, 37468245, 25732270, 8623395, 9396302, 25493082, 12409457, 34616281, 25372500, 7655847, 30317177, 28707521, 33610820, 19845258, 27725835, 16138015, 29260982, 39935226, 16053968, 31745808, 15631221, 15111815, 27465514, 12738781, 26323162, 11255035, 22399656, 14057357, 37845819, 21870225, 30661645, 34113519, 22619147, 33102991, 19189834, 10592662, 11773836, 38230209, 33735914, 40129447, 14664333, 21941613, 23996118, 5019927, 40007864, 39349281, 31423127, 35160710, 27137086, 36367288, 24831236, 19747574, 34678158, 16907099, 3357984, 27194550, 25090697, 28502043, 22119877, 32469591, 34241043, 10469282, 36616328, 25328448, 16449184, 21907738, 33312584, 36382361, 9692496, 20732029, 26908315, 28426832, 36412143, 12698646, 34384078, 6300461, 37662954, 26771786, 30308686, 13522773, 10442276, 9903180, 39091279, 29882428, 22653671, 30691320, 28121158, 30722981, 3485475, 27199238, 17329217, 13535539, 19011124, 39999581, 39507943, 26819620, 14548087, 30690134, 15155476, 29573904, 3830727, 28538422, 19860509, 14510303, 29171742, 15850028, 26839243, 23852927, 16766587, 34148195, 36101858, 32332833, 3589667, 32405853, 10688006, 30236112, 18114879, 15741287, 27219759, 22112525, 18733728, 17479561, 33291771, 26877613, 1516249, 39944453, 22895791, 23747487, 21493545, 7717011, 24829495, 32505484, 30213181, 15751330, 18155682, 14616519, 33864061, 15772371, 33575904, 22364231, 25295204, 19348598, 32978012, 25149667, 21714400, 36307329, 25979438, 24496662, 36726129, 32770762, 16012242, 34273488, 33189630, 31595496, 40008526, 6913084, 33892153, 33161697, 29700724, 12733243, 27323078, 30556404, 28225265, 30241218, 17557301, 6759415, 16490869, 16776751, 27046430, 5396447, 13151690, 38256231, 33587907, 39583352, 32855996, 26599684, 4888174, 35638527, 19132231, 11850425, 22831318, 72899, 7623715, 37242802, 23209056, 21349020, 38536214, 29274891, 4854341, 34405409, 26020134, 26940612, 37524883, 33623314, 22061087, 19042028, 34721320, 36124212, 9987012, 11017347, 18319831, 8419817, 15396893, 25032940, 5230274, 26133587, 5172916, 34119386, 17346411, 2261826, 23916245, 13616608, 27472704, 29243915, 34831955, 22673924, 21336634, 38921985, 18938276, 21539950, 26835407, 29619263, 18756034, 16530710, 29738282, 39177332, 30518376, 39226215, 18417194, 13672529, 23474507, 26601053, 13590647, 31608321, 39513256, 38646432, 30656045, 39824469, 23942081, 33466542, 38379679, 27663924, 14127584, 29459293, 23651560, 19223877, 15405643, 27430677, 22466039, 35372065, 20391201, 38761141, 34185277, 14993629, 35590130, 5090418, 22684969, 31231030, 26823998, 14189927, 24422364, 35809764, 25658715, 26580652, 26333649, 34219333, 24726508, 39220215, 25559793, 30542214, 8622493, 16774559, 35373391, 7474717, 37572698, 33705475, 33157403, 27994842, 12991962, 33115093, 8024571, 31237690, 17242305, 40073167, 7097049, 4088092, 14189114, 39251223, 35475962, 33533881, 17640534, 18656526, 35108294, 31105276, 20511581, 38397557, 37207353, 17767574, 15451018, 30538673, 30337715, 28767642, 38653450, 29692493, 33807240, 4662091, 27202670, 16531580, 33535146, 30350464, 14214464, 17202444, 21975671, 24121674, 38455468, 39178715, 29873004, 34874888, 36972593, 13893961, 27647871, 27263913, 32364824, 18548710, 25231582, 29599188, 21020547, 34777313, 34672044, 27587989, 25381994, 11401692, 36972070, 30809930, 18619205, 33360863, 23426708, 25741992, 35961513, 25568172, 31928591, 10646645, 27549842, 36553634, 3308102, 25106363, 27860921, 5821714, 2569578, 21363052, 33464125, 31720070, 17520726, 39819303, 15468358, 25726527, 27804600, 19664790, 36922947, 32831301, 26558236, 19868075, 28776653, 16677816, 14881971, 19172746, 37216669, 6699592, 13298338, 31491379, 37191908, 37649919, 14538346, 28430946, 17911091, 15886751, 13667626, 17175329, 35566625, 22521383, 19263534, 11732329, 27443164, 6509062, 10661905, 9414399, 1815528, 24683314, 16000380, 21349115, 23645279, 29586633, 13277695, 32348300, 18172810, 22995342, 35051070, 34684405, 39378551, 2655956, 11661070, 30598784, 38862164, 25469245, 5062166, 29000628, 38822843, 20184765, 39934750, 27965998, 30427854, 22216292, 27882943, 15416016, 35141206, 30841262, 23643041, 28079670, 22233613, 18233666, 26380306, 29113084, 17766668, 37398796, 4791567, 13743195, 25749076, 13959510, 35503249, 26906177, 26072454, 20774607, 16679424, 6890065, 24264644, 7882997, 27725703, 39331381, 27802293, 29992707, 36655993, 22048806, 19622174, 28122423, 7442902, 25346019, 11999174, 22964733, 21226316, 7475101, 40061884, 35162989, 24638781, 30202249, 17624053, 15150458, 17144889, 33936017, 33622099, 39730477, 36982348, 22444225, 11765061, 9317025, 32382791, 31352978, 39802166, 36939426, 22093706, 25552972, 28511133, 18252880, 21376604, 27443627, 24065946, 7079241, 8033408, 40074884, 22034197, 16782646, 12565617, 16826545, 33045083, 11280287, 17553615, 21057988, 40088930, 33501198, 16151105, 13638424, 38152345, 11843091, 36958317, 36435514, 26574800, 30046679, 39184654, 13518815, 9937435, 35098006, 37498669, 39083060, 6052635, 26979082, 27286547, 21838473, 4504510, 35508164, 32417954, 3873654, 9153634, 38422481, 20457638, 15819105, 17044508, 29223626, 13426721, 1303347, 17286252, 33857483, 22680116, 17493135, 27256750, 7949366, 37575130, 9595302, 32081494, 35975555, 28726865, 4663306, 4009304, 16999017, 38457391, 19129231, 27694229, 26615930, 24427870, 15532651, 27574989, 12226783, 13129281, 24087435, 29691388, 33730065, 13915542, 27447953, 13999403, 11571357, 24990122, 3965507, 33511434, 16685384, 28045709, 21667459, 16253271, 32769070, 39076314, 35703896, 35659578, 29506604, 8236823, 38991478, 31465214, 11666283, 14613062, 24790659, 23268899, 13538205, 16564512, 25567133, 39748916, 35926755, 33661893, 26582136, 39255870, 20329746, 11465158, 11786964, 28490427, 956820, 15860655, 34264683, 17500333, 29476054, 6780048, 19935713, 15461022, 21078138, 25374190, 23438647, 32528617, 32121528, 22585494, 22962447, 34249016, 29397156, 31670723, 27191433, 20360553, 16992134, 24091396, 2729135, 24410420, 38220117, 30709538, 28752076, 23838822, 24570503, 35851241, 33383573, 10592674, 6171916, 15832421, 28732676, 31455053, 13218865, 29775293, 26871919, 18938548, 25805769, 14692690, 17767646, 28875256, 16665856, 37081452, 33422645, 16784819, 35820453, 28589583, 33642264, 34196489, 13420710, 34734287, 14992519, 35553412, 26182566, 38980459, 33141041, 9884057, 30306970, 20866063, 2184955, 12384751, 13800114, 35466165, 19886584, 23169224, 10938434, 37084526, 18453719, 33904638, 20411239, 38506210, 29593507, 11895768, 26599689, 17175576, 24174852, 6588056, 22584652, 29322656, 35980844, 20886955, 10563288, 17449447, 9936178, 9986780, 14550370, 27159252, 25094944, 22813819, 25491867, 28549387, 29246602, 22163038, 8133347, 20004340, 17703970, 10372984, 27862538, 252703, 28163784, 13891559, 23078756, 30948402, 26612737, 6200288, 33829535, 17306697, 12970204, 39645290, 34869212, 32722628, 27239825, 34294340, 28566041, 20320445, 28794811, 15906497, 39978853, 33754348, 18618964, 32254783, 32564117, 18233045, 17723840, 15595620, 29976077, 15838392, 35753016, 30905483, 9104011, 13821577, 34100571, 14776980, 16657816, 19790275, 39006474, 34530615, 25654025, 20460160, 22429548, 36098698, 12411987, 36056073, 9366340, 18118119, 16724563, 9902321, 15022596, 26478834, 2637480, 23385875, 15148684, 34680591, 21187131, 1442097, 37518097, 18662475, 30475195, 35976770, 15759827, 6668401, 17135483, 23219400, 37479524, 20254638, 19437079, 20029048, 11336541, 39654646, 2053492, 23323186, 23365832, 33859340, 27727117, 13018211, 19601369, 5719006, 13457713, 24252934, 37161908, 37070940, 20891141, 30271555, 12359169, 34503807, 4342176, 36107284, 14262439, 40115654, 27871742, 36041067, 30699059, 33581305, 37573373, 20355208, 13513637, 20663981, 39603514, 25849252, 493367, 35826534, 2894733, 4081672, 25869697, 13968598, 33350543, 25403249, 32055768, 23025601, 28794002, 25887782, 26550721, 34419293, 9833392, 1868857, 9553638, 22003273, 17049308, 24725946, 35167751, 19824042, 31027773, 17937616, 34572779, 19290762, 14629678, 27615872, 33336815, 30489878, 28990334, 37333414, 30392187, 22739971, 33734119, 29738568, 10308919, 31076649, 35772843, 38380436, 14765250, 19941504, 22800996, 32357823, 35650575, 18015236, 7347063, 18067766, 23181052, 26452170, 9934479, 32118122, 19530703, 3416401, 3941486, 23009999, 19192524, 33954576, 9559057, 16626013, 17526659, 39147612, 21640276, 36719385, 31167228, 35711747, 2593496, 25649367, 36186624, 25508441, 24356125, 18408540, 11684803, 36281219, 11932851, 21319936, 30900263, 32078850, 37469790, 1105101, 29162113, 8015603, 39100856, 18669698, 26306721, 9959881, 30959744, 34088416, 35417803, 15017497, 13186671, 23249269, 5230522, 38078029, 18815588, 18688908, 9789301, 20413080, 20185898, 6480908, 13905936, 33947632, 8907925, 27447671, 16873631, 33997336, 12305356, 30239372, 16125425, 29055148, 14189458, 31273185, 24847731, 4643545, 25399169, 36958110, 10632111, 35020625, 19439472, 31879408, 31769642, 34165444, 35923591, 28744733, 39503277, 32239741, 30853227, 25964191, 22688691, 19162812, 2460014, 18237759, 29124293, 23911033, 19073473, 1815316, 30350572, 27738632, 40139345, 5993621, 29577870, 29809819, 19413994, 10299720, 39952982, 20208031, 33278800, 27046864, 37364280, 29330792, 26861779, 39602512, 26878371, 31278037, 32889677, 30083947, 33707006, 32941786, 1403674, 16836531, 14532875, 35194974, 21862484, 33258558, 1992659, 20945565, 39919181, 34494607, 14032521, 34006169, 31411523, 30782877, 35227988, 13015304, 31181597, 31585007, 24195825, 16102777, 29855458, 13402607, 6387776, 37792200, 39135756, 15325773, 36284111, 19968014, 37350450, 34095885, 31436392, 35688876, 27466193, 30036833, 29929458, 10531264, 2412562, 38645099, 38800497, 22163327, 29269781, 22298702, 5058084, 11900632, 16295736, 35372561, 22400097, 25019920, 22095098, 36365051, 21915070, 9812768, 23035346, 36349625, 27208819, 32013244, 39732970, 33534226, 23550532, 38861457, 15226519, 20310848, 32927254, 31767261, 21924416, 34982425, 23690880, 37876857, 7575779, 35905918, 38943315, 28814196, 35937788, 9456944, 24226329, 36024225, 28377331, 32554527, 32000610, 36953810, 29630499, 2134539, 21925061, 30631967, 35580061, 36780089, 29053163, 12792694, 8849351, 19624665, 35123449, 19648959, 22037771, 9795031, 18155927, 24970609, 29135392, 30042451, 34894176, 23803384, 25232918, 23072798, 27787493, 31508473, 1541797, 32681493, 17792837, 35027108, 34822395, 17132580, 21806214, 11726305, 17073288, 27972326, 18304835, 26661556, 23959593, 37619348, 22040476, 38840017, 8032245, 18997696, 36706842, 14114621, 37675341, 24120455, 33619421, 29761800, 33577965, 33082553, 34096505, 10598003, 28897274, 27802172, 21360462, 1319338, 36242316, 1401650, 29497327, 11791613, 39782641, 12090793, 28476249, 24768082, 20450431, 12675938, 18117075, 18769760, 36684328, 30170340, 28996806, 21723417, 17959627, 23753040, 34195106, 27801368, 20271769, 11477811, 28150965, 36938633, 35927022, 10681744, 35456083, 22337063, 19334374, 28270875, 33716693, 1567669, 24584219, 36921296, 5657297, 27136832, 17634036, 33417651, 20462382, 22729802, 33472343, 23051576, 15036694, 24506485, 12808420, 29853511, 15310348, 29544471, 34569005, 36300564, 33935768, 29773989, 34835951, 1757698, 26898770, 5625013, 17379035, 34120595, 13263454, 12946815, 28574601, 7844118, 26563746, 35037536, 35072311, 34853769, 38002069, 29949848, 33651492, 33731485, 23211369, 19414161, 14414316, 34244943, 24659834, 26897354, 40062783, 35332878, 32312248, 36010987, 18291713, 21968721, 35030662, 39865185, 17014379, 32764118, 6457692, 16827344, 31630971, 3621826, 30530131, 32406568, 26990922, 10760019, 25040875, 14402557, 33352169, 15822924, 31003486, 5461571, 20042281, 22844868, 37659960, 30016044, 23725958, 11824112, 32198861, 5553518, 36560317, 1221775, 22176780, 17411046, 27345481, 27838603, 36738074, 24764162, 6289600, 9694020, 2452093, 2360205, 26571491, 17906949, 13333676, 17292001, 28145319, 26922648, 9742832, 16204549, 39803457, 21338603, 13465723, 12814667, 19188981, 15616139, 15188637, 9876927, 34381564, 13434080, 6228375, 23796745, 23771444, 35577801, 33579858, 1128924, 31229181, 37013848, 39067732, 34060415, 35953685, 14747448, 37682208, 31253312, 23547848, 31447266, 8622769, 13436552, 36943120, 13862383, 17589203, 39891501, 30028414, 27639853, 4014982, 4721045, 35726627, 25689363, 33806742, 20711321, 10118032, 23637144, 23183513, 23087542, 19223821, 26694902, 23167466, 26003010, 10569853, 10510341, 5253773, 20411201, 14888215, 39412387, 28110542, 28429000, 19661201, 20861086, 2323147, 22180885, 5162494, 24704454, 39681725, 24439069, 31710454, 35270766, 5333106, 27468423, 2739051, 34119434, 9244768, 15037226, 30624340, 16269777, 14510259, 33166349, 33501335, 33130279, 23663098, 18730299, 33958158, 37509902, 34061854, 31842602, 26256239, 23524934, 25939220, 4368812, 29789437, 34074357, 24666121, 38467187, 2574636, 36647654, 14380482, 23396504, 38170173, 33381840, 8024218, 12962421, 15571140, 31287760, 26910708, 39869423, 39885472, 18951833, 26921294, 37082319, 16154640, 35517360, 33357065, 39737941, 22278457, 36023728, 1296042, 20797599, 23156445, 38606293, 35756727, 12414361, 15039006, 12429774, 11650346, 37643755, 40087556, 35288016, 24592718, 13773269, 37724235, 33061013, 38130252, 33546935, 28173170, 29910379, 36762673, 33419496, 20911139, 22136266, 14914615, 38161447, 12500317, 23109198, 22793714, 18161263, 8802327, 18967518, 34795899, 13666887, 15207794, 3773666, 2492087, 27120973, 24489235, 37645370, 38152350, 7539146, 3289822, 30955317, 39498211, 28999098, 36538310, 39350364, 33659118, 26328878, 15403590, 25491265, 34323983, 24278534, 33990736, 20012778, 13439503, 25730600, 29784265, 2281263, 21205074, 9915339, 35438785, 2707413, 33591726, 14416652, 31213869, 29835278, 4838504, 28799339, 30834232, 38033248, 33461102, 32046876, 17670457, 12141150, 26941037, 26957898, 31152680, 21981594, 16406772, 37722565, 20392942, 19655407, 8034436, 21662543, 34073052, 15322708, 33162553, 9443318, 35175595, 15321119, 24018882, 14628346, 32151089, 33131778, 14250422, 11501859, 21573533, 27192187, 11246693, 20436755, 18937203, 15722222, 19579084, 36714570, 2011583, 34425768, 22162074, 4601346, 39260914, 33556050, 17984084, 30865076, 28870344, 21630747, 27040117, 37659782, 25693815, 20587218, 37486938, 1665176, 37144666, 13381213, 11490469, 25577672, 34784379, 34940941, 13274208, 38687935, 3764858, 12923733, 34482044, 21385292, 36959828, 36297764, 13643761, 33577790, 9777122, 14989024, 9145034, 34981243, 26174086, 3021641, 34033444, 28413417, 28721874, 38558511, 19962045, 7641955, 37754054, 16108735, 38859472, 36865378, 27443038, 26435546, 25148611, 36121832, 11302477, 20019547, 34521801, 38256750, 10784959, 34170688, 21918244, 39427378, 21270006, 19363881, 16200363, 19525154, 20344505, 33660054, 31105167, 743248, 28553548, 1235618, 26766347, 4446380, 26920124, 31742167, 36547067, 36535720, 3264271, 33659417, 34570067, 30714340, 27217091, 29982902, 19824805, 40111271, 4172131, 28096920, 38379453, 18694869, 6120818, 38555034, 37775356, 2600191, 36969176, 29806568, 15833059, 31863707, 33631987, 39166292, 16874141, 19688330, 28144350, 27208340, 38627930, 14327247, 39093546, 22773052, 20258249, 21030613, 26848007, 4167217, 27376327, 14055799, 18383570, 23711279, 32546564, 12738536, 34697086, 30866217, 24496667, 28194910, 20434470, 5598570, 30129109, 27559679, 19514112, 21125433, 34554565, 4830052, 29613026, 16643514, 19085713, 5398260, 4034599, 29589389, 12666897, 2920619, 22818694, 9529428, 16533653, 1603696, 33964800, 28721397, 33678884, 7944355, 23000547, 11111071, 15524030, 9174483, 30949890, 4632334, 36844279, 11421382, 37770311, 1451390, 26451046, 17804681, 23289547, 35373808, 19346276, 29179422, 37300914, 27149118, 37799938, 17621520, 29694217, 28597748, 7488240, 12653385, 37969280, 22688027, 11459435, 38918947, 19861392, 34831224, 33767216, 25942400, 20932298, 21835236, 18606381, 28961443, 16006974, 28282829, 24145829, 20146368, 7443286, 21251927, 35515474, 37162190, 32303298, 20368804, 39208488, 30979351, 39801516, 38688254, 926946, 22316261, 40066439, 28400439, 31598022, 12624623, 7442124, 26523776, 15457784, 18776434, 28657018, 9714210, 33578411, 36039723, 25191504, 10970821, 16223176, 28762723, 22744576, 33718724, 638360, 31760452, 7012553, 39110235, 11365252, 24191889, 2222189, 31040017, 21681282, 17616310, 29504581, 24718237, 26953113, 15294473, 35549933, 29438454, 8703999, 25954258, 38460918, 35582766, 33758756, 6776888, 40067822, 23458046, 15994124, 22363566, 12917686, 19252301, 36903229, 28867156, 24969391, 21361604, 33413537, 29854130, 5897254, 21220036, 33061646, 39549338, 31823616, 18497810, 38568687, 36948318, 37834417, 30025502, 18196932, 33622204, 11339487, 35048193, 14901317, 26140889, 29171435, 16209366, 26498124, 19349018, 21642726, 18626639, 8358101, 17342589, 35972960, 24235268, 35615113, 29755585, 24739461, 32813835, 30992683, 28114492, 16670658, 39216533, 13588028, 28080165, 4815792, 12461361, 11478889, 3942825, 8517246, 1673729, 38723695, 26618688, 28862849, 33661954, 22183034, 36458029, 33463904, 7624468, 34873322, 34775276, 33799422, 22394864, 17139608, 33238115, 40121961, 28691406, 37660876, 17604815, 30792509, 26316756, 18295827, 33394347, 25479088, 37833892, 6709780, 39452531, 13434608, 30429829, 2210581, 20959964, 4782272, 32029833, 27322496, 15668184, 6925551, 29068477, 37720728, 13918652, 10905758, 26922840, 39519289, 9921976, 16612476, 38338969, 4456700, 13015956, 21770263, 20906683, 4026080, 28401904, 28393071, 9969099, 32897707, 7714287, 33150821, 26526096, 22482062, 20445126, 33368106, 31372603, 21668569, 19111814, 31566508, 6522446, 26269906, 1290717, 12134764, 34904819, 31369111, 28458315, 88613, 37685743, 32611511, 30216000, 21791482, 25684740, 23368477, 25783460, 28622144, 13031655, 19870875, 33838638, 33157955, 14420231, 28733478, 32541487, 11064075, 36518639, 17774659, 35359802, 3225712, 18772487, 26923580, 30043709, 26469235, 5694101, 17328209, 16540746, 22267145, 29199543, 4963957, 36081132, 8625351, 22856334, 36377253, 31923896, 9174970, 12556584, 26612077, 24027656, 27136006, 6655255, 11178061, 31459584, 518679, 33211824, 17343010, 26457418, 28792837, 1818763, 20296449, 27278353, 29447717, 13592174, 33733114, 33204047, 14849293, 30321337, 14818593, 13011394, 27087690, 27049159, 3682537, 21572175, 29038159, 16497063, 24515991, 14024544, 36956520, 21197932, 10406130, 34998694, 34673285, 27746685, 14334586, 14241636, 19650945, 21342571, 653765, 31925474, 22507197, 21368872, 18464367, 23755450, 15240357, 32284940, 17003784, 38758884, 38575371, 32475696, 18582026, 3917574, 33512818, 35428846, 27208360, 24532126, 12521683, 35431172, 33628967, 16909434, 25590522, 32773158, 14719654, 13244466, 21875406, 15788504, 36748369, 8913026, 30957509, 25041952, 16810652, 31565142, 3172173, 10309328, 26608728, 36116738, 30854440, 31949651, 17104710, 39585833, 27547916, 39868437, 12234211, 14310579, 16214053, 20291175, 25452915, 29200029, 33973224, 10671972, 36530480, 19759845, 3398589, 36663834, 10436976, 29067425, 22095242, 37618674, 18793894, 16095865, 29487093, 38011855, 21447870, 17016379, 7177285, 33744917, 33770059, 33779693, 3723251, 38578574, 19825937, 31537435, 37019677, 16200014, 34117842, 25101605, 27781506, 25240040, 23421220, 36981925, 24921440, 6632188, 27240287, 19456559, 6714375, 14661229, 1530161, 34759699, 24951751, 39410308, 6486450, 30657325, 2739800, 16756615, 35435978, 18948389, 12325608, 37888218, 22871251, 30047328, 26335848, 24547641, 7630273, 22255015, 19286657, 35977910, 13475248, 23446277, 36283831, 11247682, 35398671, 34271179, 34316819, 15992225, 39970857, 21081438, 16952805, 32914812, 16976812, 33175116, 4983258, 20158576, 32273596, 28767755, 20560795, 23818919, 36269248, 19827706, 23177700, 33712607, 12737932, 34005742, 22072746, 25775183, 32774530, 23102021, 32127602, 35924078, 27003550, 18660581, 17797973, 23353954, 17950045, 30398558, 28496801, 9220372, 36076026, 11446652, 21187124, 20158781, 8605189, 19390634, 7627116, 39391007, 29069410, 16351453, 33969409, 24568395, 3399210, 21081806, 19483031, 17381252, 37370843, 36188429, 17390601, 17791371, 34055395, 14149082, 22421430, 11954561, 16380575, 17238781, 30327955, 38163173, 898773, 28346976, 27310633, 12892698, 19322456, 29480288, 21492479, 36956892, 32676986, 27808420, 16581695, 8790132, 17074714, 32314426, 21664915, 11040604, 13258312, 20082507, 27033679, 39357414, 10630259, 12833512, 31541674, 33643757, 33149179, 21921703, 2865278, 13961888, 34450064, 28927951, 20359157, 11312558, 39392004, 9493498, 39592237, 9543935, 20447592, 32908010, 21802749, 19387006, 39841265, 15801027, 27932167, 37474609, 5072628, 35203484, 18502748, 25593428, 2282300, 11862576, 38882641, 39769958, 33531706, 29223179, 35092582, 23148868, 6181304, 30281763, 32280120, 36673938, 13203974, 33188904, 16455568, 38752696, 32647143, 29736291, 25648212, 24316470, 27095354, 5581719, 34860098, 29778526, 18440762, 37891172, 35836041, 13773149, 36852709, 25804181, 11903325, 25938080, 15726618, 36313515, 20005341, 30882329, 29525596, 24942648, 22339545, 10682955, 35324785, 28745755, 31362897, 31705656, 14792291, 35548839, 36918438, 25899676, 33238537, 19848693, 20066696, 24467462, 4841929, 36529788, 37604618, 22623602, 33602157, 35213231, 23523887, 38463099, 1762446, 750093, 20804001, 35727956, 10130845, 29899410, 13478974, 20449506, 1934344, 30159224, 36622674, 32890089, 32151084, 32792223, 10656607, 24528464, 18375098, 21025133, 38006467, 7909794, 12987178, 33622626, 30760698, 28819272, 3467704, 32056001, 24655110, 33221020, 21773068, 5118249, 38785836, 36444143, 32037594, 7896008, 38115182, 36953452, 7656754, 8775558, 19606562, 26525239, 4006794, 21752566, 13779886, 38359160, 11352740, 28063424, 18489514, 6145710, 14878538, 36233330, 19719700, 39823593, 19150208, 16298549, 20110627, 39757426, 22131888, 33741622, 20667919, 26538060, 21769042, 16329601, 13900106, 26532321, 37708370, 13708025, 38895856, 17139954, 17596825, 19883181, 32214890, 33191861, 22588650, 22925227, 23633605, 21202130, 35459250, 17626453, 26204801, 1675321, 131449, 2527405, 2629198, 34586484, 39925262, 27075711, 34721838, 29316966, 27973719, 29183955, 6490560, 24659048, 25388034, 24638872, 5387436, 27365587, 29418281, 22154818, 18591813, 6504287, 39585179, 36837857, 22421298, 9678763, 26315326, 4974604, 21375132, 3899782, 37933539, 6747921, 39255523, 33378259, 29425336, 25368337, 20296303, 15973420, 27090538, 23255838, 28791065, 34014761, 28199936, 13631720, 18713321, 35650743, 9121962, 28400741, 35701199, 20807425, 26971042, 9847601, 39220365, 36716801, 4007880, 27541421, 21845487, 14503660, 35401189, 22926122, 28742628, 28709810, 29179881, 37215981, 36089901, 18264471, 2452321, 11943980, 15593104, 19424363, 6197197, 8767779, 22076427, 16341057, 14101980, 7087841, 13180861, 12433695, 37179280, 31725269, 29485882, 16350202, 39599085, 19679937, 21869984, 20365878, 26277046, 32960303, 803526, 6727623, 20158579, 39312969, 27258332, 38886472, 11118486, 38643867, 19079734, 32554932, 35838163, 35332177, 30042611, 22364801, 16794267, 20339558, 26788299, 31356164, 13023983, 9729778, 36276783, 24180492, 20508261, 24227748, 14015336, 11930096, 33758990, 39339703, 17137559, 21023482, 6949562, 28476166, 38821445, 2732994, 10082926, 3019909, 35520660, 37266282, 32314769, 1384246, 38622868, 7255383, 31524308, 26624193, 26447466, 33007218, 29320776, 25381462, 12088089, 21105207, 36839998, 10296460, 3956206, 34319725, 29891371, 32309510, 2262509, 17227781, 39950042, 23159254, 23151097, 25674096, 8865509, 20457271, 18504898, 10977405, 28586840, 36912073, 8900166, 32240081, 4813061, 33121911, 1596390, 9658628, 32997395, 18046570, 16139896, 29960889, 2116286, 30201119, 1835018, 34219007, 33963721, 9665586, 28502508, 16100033, 16030891, 24056722, 34659368, 32280871, 26116703, 10730350, 32082116, 32667320, 37242455, 23201351, 34011225, 18774811, 30540138, 26803882, 39757126, 18776420, 31766411, 38520884, 14885527, 12902950, 16680773, 22980977, 38482479, 10132529, 38745327, 21040108, 17172241, 27057101, 36829495, 13489294, 7323782, 35009963, 29945719, 4364214, 29117913, 24835362, 19312562, 36233656, 15090039, 19965232, 14399007, 29642750, 31202231, 27312618, 20830375, 37737000, 28273669, 29205120, 34142182, 18494435, 11303285, 18272160, 28949293, 36271286, 23866378, 26643043, 25223513, 5452475, 35503922, 38237548, 29194991, 39877498, 5284183, 20449003, 32733794, 3680379, 38168922, 7539579, 9858739, 14685807, 17050819, 39817702, 34622236, 25799508, 15107541, 15017319, 20554020, 32290060, 23183781, 18093619, 14275986, 22365318, 27676340, 29398597, 12710476, 31480866, 28883549, 19769886, 20182893, 26951819, 176918, 33181128, 29475707, 37199318, 33932030, 4446823, 21655526, 25480096, 39617956, 1175540, 38723011, 16146033, 37590875, 36596111, 4794850, 32384312, 17318142, 36085632, 33734263, 31846691, 22853100, 13132838, 36164980, 36525890, 35853975, 30498396, 12293208, 18809667, 35915232, 30785567, 35687476, 21282941, 2072936, 26305936, 19860256, 36046638, 11895710, 27605834, 32654888, 28711527, 22560224, 27770771, 15123701, 31258858, 38274955, 30017711, 31769963, 2424411, 26411390, 28720659, 19753535, 19894820, 32494851, 27432812, 36922816, 25693225, 33014726, 674690, 19367003, 18669641, 20900800, 19922163, 37306141, 37039878, 30056672, 3944655, 26123082, 13823207, 25796947, 15720095, 26474354, 31307594, 36772065, 25325151, 33040960, 29609416, 32401790, 21537768, 34097321, 23317542, 29051196, 6133434, 20462664, 27985009, 27823013, 2846431, 37438550, 38114282, 17225287, 20558699, 27915209, 34981128, 17632751, 38407195, 9294772, 17742690, 4845932, 35339484, 32545613, 10259961, 38378983, 9954183, 9833739, 20815565, 8697150, 1020722, 23402973, 6612769, 26352978, 16843775, 28799929, 10608960, 16052973, 34515139, 37065253, 25453712, 34444477, 35450755, 27413501, 20640430, 20208257, 976882, 15183931, 38278313, 28804120, 25357136, 25735389, 24938898, 9339213, 30147165, 38463887, 12805944, 28031813, 12557299, 32983227, 31443384, 28519836, 37974962, 29114975, 11795026, 22902052, 14411633, 37791622, 12386256, 2233388, 11505791, 25631917, 16514443, 37088291, 37377124, 15554255, 5262347, 9952593, 37207626, 21467700, 24461679, 9255440, 33136719, 28800663, 30109030, 40092254, 25060091, 14008233, 31147908, 4196329, 26169537, 19806745, 15889131, 35757034, 13662719, 33459742, 17794882, 15569529, 33709917, 20254553, 34360039, 26725636, 39699418, 35497386, 10385647, 31668414, 22333896, 19756242, 27910902, 23722473, 19853235, 27276872, 32996293, 24160507, 39602093, 33507286, 20001549, 24921774, 16830745, 17375248, 23183443, 8528825, 38510374, 8741997, 263457, 2059564, 10857654, 2688079, 21323275, 27329532, 10748158, 11597901, 9277479, 39785299, 33628876, 9960555, 9554166, 4788445, 23529205, 15380073, 39806706, 21713357, 31349596, 23581753, 29244076, 12576734, 36735221, 36939122, 29855699, 39626819, 10615249, 26278196, 8176862, 18239705, 27781585, 34401628, 36892189, 34676651, 29336773, 11111138, 28097930, 25875398, 19027975, 19734892, 27264281, 32352884, 19353638, 23207971, 29812366, 20164668, 7351270, 26189153, 33509305, 23818053, 22447402, 26738419, 6576199, 23350486, 22995636, 22493506, 36247784, 29070667, 30942238, 25572401, 3940128, 9136880, 31642017, 20198796, 35994755, 2218238, 27876861, 29047319, 20130476, 38595362, 26579406, 18360641, 21431052, 34383336, 36686114, 28802318, 15800961, 23040784, 12986166, 32541120, 18163477, 28752146, 16899866, 25934586, 37534655, 26940635, 18741633, 28040688, 35344707, 34307385, 33955225, 35056135, 16325456, 19811418, 17370855, 17340335, 24940338, 6828722, 36406077, 30141986, 33591672, 8081545, 30851887, 38251245, 12788087, 15256569, 33842584, 17685199, 6009589, 15721079, 39541531, 29270992, 33877915, 39839067, 20591831, 7848391, 15589694, 32752181, 23706152, 9851610, 29202838, 3313590, 23247969, 34561324, 35263267, 11483439, 9897676, 33587404, 15002290, 4406389, 27435359, 4741537, 33775213, 36777694, 38399078, 35052016, 38341104, 23107793, 998938, 34261438, 23145591, 1218793, 4818392, 29464976, 33643930, 38835206, 23374437, 18449449, 27609567, 30978584, 34125648, 22159721, 28753569, 23115688, 36844484, 26411614, 8067389, 22303613, 12683576, 30787056, 21072356, 17632801, 15366078, 32296933, 6801370, 31272969, 19960674, 20733827, 34572964, 383623, 21373210, 39232625, 28709296, 14813396, 34011388, 2432402, 21391763, 39850550, 28601613, 2407398, 28042388, 15769246, 17614949, 25371309, 27877898, 30695040, 11483085, 16027491, 22670097, 17615306, 17206616, 28800634, 14472795, 31842479, 16775623, 39925817, 8506239, 27916228, 6130438, 35027935, 29820975, 28677036, 29471240, 23515779, 5946648, 24410836, 29262485, 38779723, 30595941, 6044645, 16841793, 33208315, 34568874, 5630186, 18808729, 34254591, 31173325, 952914, 23679840, 12681753, 8360538, 8516669, 36395253, 12721676, 4687739, 23025975, 21893416, 9206964, 11098836, 4065737, 25341076, 20080851, 30879608, 37894096, 26884775, 36777198, 22402335, 22609124, 21337331, 38620429, 24759240, 37514289, 21658232, 33116546, 20374011, 22883814, 29179919, 26081928, 21289500, 10990548, 34363696, 32852400, 14872562, 6438318, 23112712, 16113680, 25667356, 26291841, 14533201, 2243690, 22978044, 29080660, 18623871, 13521125, 27488651, 23374368, 12493909, 26861851, 21420800, 27869754, 21679127, 27360537, 22202871, 39229286, 33968068, 16745132, 16867929, 3938062, 6764909, 14126726, 4636300, 24849324, 31602630, 21770448, 31738633, 10042851, 24168662, 16916013, 7703130, 21233784, 11653917, 36109165, 13071053, 21248502, 16082954, 38482682, 26322855, 20106519, 9835762, 23150632, 27128212, 1239509, 20531168, 36958922, 17013381, 28061152, 24351632, 39584181, 26222071, 18179388, 19779278, 19927859, 11076107, 31605945, 36533960, 39697570, 27452338, 6031667, 36335351, 29324295, 4547315, 25184287, 28893762, 15526684, 23113447, 38256281, 23317739, 30540746, 16770066, 37626614, 34462599, 17496460, 31432112, 39089005, 14734604, 29739531, 25782174, 33002876, 2982992, 31425528, 6591166, 31973863, 10178573, 6507431, 19932831, 5149417, 34018683, 24662006, 18636957, 22240327, 17247824, 13369236, 28102562, 25955659, 21446935, 2675965, 28778242, 37917615, 11198889, 39561806, 32905860, 39730199, 10448122, 6510437, 22121385, 36203932, 35841325, 13737692, 36983967, 33008016, 22590583, 33260780, 21649002, 16727925, 22616901, 35113547, 37034404, 13374933, 4644091, 22230200, 32310087, 16746609, 18041604, 8747500, 22943773, 39263076, 37494021, 21276636, 27388765, 30035260, 26036239, 2909395, 38235829, 3852780, 21643938, 2154249, 35362301, 21368813, 39934679, 39432057, 9177674, 7609335, 28176483, 38785669, 25511912, 16667120, 23528948, 22713150, 15535586, 19339, 26905759, 25878826, 15990237, 112532, 27170274, 31707828, 20016366, 31759407, 11904832, 509211, 6294179, 696874, 12623835, 29350552, 13292800, 5166887, 33428201, 33089832, 18795926, 37158448, 33480414, 7687374, 1418912, 31388514, 15521631, 6670093, 32574029, 13906645, 20971558, 37403460, 21466281, 17606618, 32776979, 32223074, 24355328, 5526754, 36313182, 13472479, 38838147, 28290856, 18546456, 16573306, 9631777, 6844067, 23976951, 21762018, 37127031, 37419627, 19615595, 17255388, 31226819, 24847352, 27180877, 14535619, 24109015, 10542661, 9692908, 30043755, 9241372, 37831698, 30729735, 27802820, 36398839, 34541419, 31487947, 26171078, 19643099, 37475846, 24375075, 35619831, 39597490, 34582729, 25464647, 37692504, 20015639, 37447338, 28464253, 30969241, 4632040, 4027103, 19851754, 35286451, 13610348, 7271362, 18000278, 26003445, 38703273, 24653780, 14581447, 17305468, 26363579, 16591654, 29884102, 22950997, 16878715, 15470346, 34207120, 24486228, 26307985, 29988188, 20291176, 31433377, 30558309, 34795658, 39187018, 27162032, 32018520, 23409477, 33816432, 12366607, 31773727, 28668364, 1656059, 21716783, 9782389, 20576627, 13818992, 27063692, 6683449, 4811379, 39444360, 9688290, 26600404, 17545553, 24066255, 30791974, 24096800, 33010861, 37913231, 24500887, 29696641, 17912894, 5846004, 9523869, 33641756, 7458249, 20459075, 18332801, 9270857, 39840845, 37128004, 33808011, 34093863, 15815706, 2936834, 22480526, 39927318, 36256373, 22610297, 4091680, 27234071, 40092102, 35613024, 19618135, 5850536, 20861203, 24856773, 7183200, 25440008, 18990069, 38334230, 27361330, 13225254, 18153173, 36503327, 18994973, 34139424, 12081145, 440541, 28469222, 28815854, 36483470, 37436125, 258390, 30584286, 15980230, 12543837, 11941817, 15662840, 17348332, 14303905, 11519787, 12590358, 7346770, 30347026, 22872065, 14790782, 25695118, 27425621, 20039342, 28894753, 21866927, 21766379, 17381776, 22049897, 24502932, 27192702, 2507090, 23637204, 28478222, 11692613, 33064875, 10271334, 26554102, 11966231, 32689306, 36899561, 21949539, 10210039, 26363598, 4989049, 29635772, 33682727, 25650335, 29088837, 19758958, 26818296, 33602510, 19502293, 7754257, 27537230, 12902656, 15170551, 39459677, 26210146, 29640080, 15371576, 16679349, 32558527, 11364045, 29286562, 15697041, 29271274, 24329561, 32718552, 24853002, 4455079, 24452145, 4383082, 35247659, 17624407, 36204133, 18918940, 24540992, 19162285, 39862745, 4901220, 21037608, 16664755, 8763653, 39337208, 21856709, 19450186, 15146417, 15349709, 28528105, 38926579, 25922124, 29193127, 17665442, 22105741, 21789981, 34522588, 28467922, 36511510, 17049534, 19646294, 25416819, 4210938, 13138978, 27790754, 3054013, 26979266, 16787261, 16977031, 14035022, 9896852, 24083935, 17259367, 24123705, 22438025, 40016359, 15275944, 18499509, 9816993, 33611450, 22741088, 26624882, 28826528, 20531074, 31027362, 13285088, 26428109, 22075448, 32849225, 12929196, 7988310, 27475974, 22081954, 14879666, 26316309, 36138495, 26539178, 7948058, 16441201, 33458607, 28516615, 30150714, 35879523, 23557240, 29001222, 38553410, 29014618, 29618844, 33379351, 38029456, 23422550, 33721231, 2572313, 30618267, 35233714, 31826950, 31196978, 3231352, 35978469, 37500623, 3856016, 28274871, 27585888, 40097711, 15987715, 29272973, 29984916, 30036057, 10346336, 26199343, 37335915, 19985560, 10695862, 33572800, 24689149, 17092095, 28929262, 38542526, 8358236, 18729038, 22841469, 39006647, 23058028, 36085607, 28792480, 30107612, 17212208, 28877560, 33104374, 14668882, 11353338, 18018680, 20024966, 35072501, 3633288, 39611916, 15830663, 29399880, 5683739, 11385718, 36179098, 10987777, 29186808, 39407737, 34341833, 497426, 15102052, 22714537, 36972607, 4117123, 36147224, 13899921, 27955064, 31607873, 26875537, 22317436, 23666442, 17770750, 15194061, 14209113, 17875037, 18552326, 17482944, 17573949, 34194530, 20244242, 5938786, 34638037, 14651433, 21174416, 33168733, 29157310, 32464570, 15751979, 30950363, 14150993, 38307489, 34958688, 15994480, 27083910, 21529447, 15800634, 16264816, 24076832, 30960625, 33094679, 34834762, 22154206, 26204479, 3055330, 31941020, 10639185, 27129497, 29145248, 38380237, 13115435, 23565837, 7106614, 22958480, 26547163, 30879151, 37517684, 20760280, 28176321, 32653654, 37085656, 16799518, 29521746, 34052958, 29577120, 20414830, 18860462, 15884738, 4767078, 5863629, 27464991, 9983254, 26702790, 25856896, 30791062, 30017405, 27160600, 29034225, 30172975, 24016924, 27351590, 25837937, 10714262, 24078927, 38269929, 30385929, 31907010, 20385105, 39720995, 25580809, 27638519, 26894227, 9143354, 4883860, 3715039, 27118708, 17624754, 17036346, 13571107, 13481703, 20249793, 39071610, 19127175, 31347689, 26639532, 26147539, 33947005, 26935861, 4301634, 25956830, 25966044, 30422970, 35062395, 22584483, 35794485, 18543452, 33677229, 16512627, 11660236, 29268915, 23171482, 34237276, 7630237, 38227277, 39922701, 25272586, 24216538, 17887942, 38377215, 31729552, 31105328, 39165577, 27912111, 26404262, 23416381, 38406937, 9808111, 9801291, 23083256, 23601939, 9892478, 19587408, 5382188, 3868675, 23158000, 12333628, 37374947, 14042291, 11587588, 11273504, 28277150, 19687047, 25531367, 13003575, 14892014, 34297250, 34966996, 26349302, 23166772, 29787575, 30551955, 38553983, 14206623, 28594919, 34226419, 19062576, 31490160, 18393047, 18643653, 2280881, 31419594, 35078342, 6405208, 31770724, 6828636, 5932328, 28744822, 20766406, 29906389, 15204510, 1460512, 39012938, 22534056, 16492851, 31429215, 32320589, 14536524, 15572282, 29564293, 36521380, 24813882, 17316231, 17679780, 17006788, 31407792, 22414447, 31250765, 23583791, 26166935, 33202248, 13637774, 36579629, 21816639, 15953560, 12800836, 35112595, 9724650, 17595545, 12217203, 18160906, 39663866, 33893529, 21566957, 33780665, 40070584, 22545475, 19017301, 37206685, 24607064, 3842856, 22288286, 23102072, 4915920, 23614042, 30198235, 25944023, 5944708, 19122408, 32114257, 8111737, 39645404, 5511715, 17495652, 38011331, 31255950, 39689099, 23612560, 33768758, 28206323, 1820357, 35880149, 32708488, 22221878, 23030106, 15684662, 34056544, 33382474, 33440624, 36518800, 6968382, 23667731, 17821743, 32322953, 32906259, 33193934, 36960830, 5003229, 25211652, 39478281, 39192442, 23312379, 11738181, 8651110, 33507134, 25222275, 8305646, 19114053, 14418015, 35154377, 20149966, 18765464, 7381021, 35186420, 19731624, 37228300, 19820990, 38110034, 5390362, 16613733, 32071724, 20031138, 39054533, 30465995, 13006154, 38702682, 34215192, 28162128, 15625602, 32206918, 11657209, 32312147, 35763883, 21442304, 38097829, 29886850, 15335795, 493819, 27142838, 36115719, 14229433, 29328765, 21838944, 7648878, 24582055, 22835309, 31722226, 9997869, 38981257, 21461155, 11797480, 3584805, 9217121, 34161851, 30776515, 10665163, 8187996, 2513786, 27879082, 16252231, 39693925, 34224936, 26241880, 29008232, 20573108, 11370783, 26341363, 35728665, 39886690, 37447056, 33664944, 39623883, 27321404, 23489560, 10439961, 35162798, 28997533, 21120611, 40090383, 31360360, 19728026, 17573746, 16744275, 34007704, 6093504, 35760335, 25810321, 35976215, 32167608, 19717645, 37871683, 18696122, 5655314, 24680981, 36185816, 21061710, 10939391, 31174497, 34387249, 39965891, 6283061, 38858407, 1066758, 33653846, 33926630, 17861750, 36677575, 39694357, 32723228, 22845266, 34210302, 26768255, 23101977, 34745717, 36680785, 8462506, 39414573, 37967940, 27817912, 34403787, 27239844, 30250509, 18987098, 25315106, 27275669, 39235937, 38727874, 24434559, 26521365, 19038655, 27390566, 9581837, 10712323, 38907221, 20954242, 38237614, 4119473, 27289900, 12858806, 23186804, 8500700, 19944761, 5955226, 34742225, 35899139, 32512118, 5982774, 24590284, 17942036, 35970654, 28239359, 37384325, 34374839, 2465146, 19352672, 15582956, 28377834, 33587540, 30385975, 30793329, 10218102, 21944869, 39698905, 37127747, 35609555, 35932145, 23880338, 11670154, 29277991, 31393769, 22122511, 39403580, 34561166, 31864103, 16676265, 7906365, 36759961, 9475403, 30833031, 39164953, 8359383, 19577673, 27961341, 36000814, 7904306, 23876588, 31453422, 20224922, 29109695, 34955160, 18836615, 12803883, 22291381, 4622057, 32322051, 13347190, 30739322, 31193976, 18716530, 35797708, 13369888, 22816480, 28022227, 38705359, 22198222, 12938568, 30677110, 19382382, 28496686, 37235336, 35544233, 14589642, 34778650, 29435769, 35821271, 32470137, 34786023, 24400012, 6786894, 22940448, 8429693, 37244645, 38223687, 31026169, 38442244, 39621390, 34074584, 5089994, 38414434, 23113318, 12075001, 20051355, 33417764, 16874752, 17665748, 39209465, 39103877, 32428845, 18872624, 24123659, 31726801, 26958899, 17640592, 34052526, 24738578, 37079573, 15668454, 38754107, 10762454, 33555611, 18254414, 13555069, 30677151, 23407253, 34068618, 30437381, 32241076, 28910466, 29662432, 22341883, 32162724, 15224687, 14060894, 14324270, 39239758, 39059732, 39827273, 32560932, 33485978, 14557149, 32501951, 32415838, 39074422, 14632729, 17051131, 5016864, 22676403, 25454532, 26057607, 7147210, 40028330, 27286765, 7303423, 25256937, 32095943, 5948412, 9473459, 18663746, 27623866, 27038547, 34422244, 39332868, 34234293, 35992038, 35661671, 33370289, 26763927, 30721677, 30992200, 7855229, 23552636, 14326338, 39884482, 19865892, 36754398, 23311466, 31638508, 31724055, 24753064, 26676708, 28774199, 20014581, 21564297, 29286480, 8663778, 4668432, 31807853, 20838970, 32258654, 13070961, 23337306, 31241702, 29628114, 22174572, 7948510, 29545908, 36789304, 15214430, 30739146, 21147764, 7020380, 32446827, 34728327, 7785958, 20753782, 18402355, 1108881, 36098468, 33882582, 32966142, 32720781, 37249255, 24950537, 13381685, 11343987, 27604320, 14324477, 16111529, 38340731, 15649887, 33547926, 36961445, 12755569, 3279560, 18094928, 5873823, 16346464, 22599444, 5678950, 35072400, 18054759, 10898919, 23684928, 16317499, 20094099, 29755023, 19592422, 35404365, 24702069, 5794708, 18903750, 36184507, 18013580, 38987290, 911655, 33014351, 23797368, 15342408, 25365208, 38624967, 33900323, 31095772, 30849424, 10189590, 39840882, 20022673, 38961093, 27622007, 30760559, 22447370, 25439243, 11329035, 39362991, 36318425, 20209651, 25934279, 30841038, 27630229, 36300118, 34859628, 32242446, 32918806, 15497968, 31910830, 18803960, 19862011, 38003876, 27996785, 33341749, 11774970, 38448660, 2815455, 21363357, 23731663, 37478460, 8066844, 17212641, 37846945, 3833717, 24304934, 22172565, 33804658, 21390910, 23412974, 30304936, 29636723, 27850959, 14907062, 11972096, 11479065, 27558559, 10453770, 39500265, 21353977, 24899193, 19761335, 27486931, 18275033, 34275827, 40026116, 39844823, 35929016, 29864176, 25536515, 22106366, 38468857, 39071050, 39000269, 26768773, 34212624, 10171618, 8650957, 35308812, 20634368, 32842155, 22159215, 14896010, 3208803, 39131025, 17907623, 21728273, 21705441, 37412510, 9726153, 24961003, 14981648, 13632800, 6508769, 24869249, 35728467, 18734851, 20011122, 8110107, 12159912, 34011324, 25349693, 32587375, 20171216, 12499706, 8154511, 10777009, 17201172, 30632092, 34955759, 34057208, 37950740, 38338029, 19353576, 6681975, 18785933, 7586384, 37416026, 32622170, 28545302, 21910986, 17833544, 36434543, 19862587, 23572714, 29703990, 24067233, 35085400, 27744963, 19483461, 38263313, 25210723, 29760821, 17891493, 32503752, 37462003, 17020649, 9946887, 38190679, 37276954, 28147890, 7225234, 33462873, 23856990, 30408141, 25346345, 38492333, 36635025, 24813311, 39147350, 34834543, 19875549, 19060607, 3805000, 40127746, 33990710, 15824947, 37280557, 37472398, 38316199, 26323143, 36431301, 31679369, 23528477, 19835956, 23214707, 35330635, 39580582, 36184953, 39968585, 30584289, 31787381, 33869234, 39470003, 39782391, 32238862, 28475808, 21599004, 22333568, 32443015, 20130227, 13375957, 27387923, 4152396, 28619802, 6328138, 34079169, 34704280, 34048883, 29973952, 31128488, 22338455, 22003924, 31705158, 24768662, 38684619, 40134745, 33768115, 29807551, 21144385, 22287039, 11054126, 26792937, 24002402, 36399381, 20525000, 19394505, 12494887, 4079795, 18808304, 29743696, 29980644, 22635110, 31808760, 24873124, 34970217, 33330097, 26433169, 31336664, 35856319, 23644020, 36224816, 14465463, 37798645, 39892366, 3886255, 37463184, 6647225, 30816028, 27246058, 26218704, 39783277, 28530133, 27163432, 35429984, 25174644, 12290983, 36032103, 30763437, 7821518, 18643417, 27231719, 18861075, 38339753, 38927875, 13376662, 35736219, 27831350, 11750276, 3732787, 15139198, 21933187, 22242032, 37906174, 36162451, 16057869, 7016038, 2801882, 20104408, 16372514, 25333204, 31387938, 23825019, 20098386, 9762193, 20105364, 33023036, 17464399, 39497038, 36119500, 36924149, 23899032, 37074113, 24218648, 19518352, 36812749, 31729720, 32555743, 31902568, 34538762, 39057822, 28226901, 24083236, 7224155, 35111351, 26357363, 34761977, 26830028, 15294903, 32161921, 37127417, 33179122, 21875356, 36685562, 14947694, 36164255, 32613108, 30465080, 31792582, 10199514, 37657485, 37168789, 38130168, 2282239, 31463703, 34824864, 21525579, 17557221, 32113210, 32637665, 30689391, 11421534, 26896925, 24657273, 9482643, 23670178, 37687785, 30834321, 35387629, 8057801, 38546853, 26600766, 15936698, 18993013, 38341323, 31357611, 22158460, 37367034, 14492083, 31482751, 30089868, 35876227, 1924323, 33590756, 1712276, 24809757, 33874006, 37619363, 31700348, 25839094, 33759099, 15053575, 31777594, 22494621, 34549864, 35373714, 38855748, 23927345, 25608074, 35225307, 15382887, 33074772, 20737128, 5484922, 34041212, 25375359, 35720709, 39583802, 31293974, 7290370, 29615955, 36385044, 33856894, 17146625, 18596410, 19945525, 16999586, 33623263, 38786831, 24416096, 36281695, 29397126, 36048622, 30307579, 23943761, 9284877, 3274200, 22211981, 30311750, 9344973, 26100508, 23184857, 27535122, 37426416, 34881538, 31556424, 28657361, 35082091, 24318161, 35606712, 18016390, 32507903, 39053226, 36943170, 36209363, 36984164, 26431800, 30612261, 31896581, 21300820, 21857153, 39189368, 21026925, 10960463, 35116892, 30623721, 35013819, 29671704, 31102467, 28201811, 35705120, 28190549, 22231506, 31734232, 34825014, 13275494, 33157540, 28463510, 15307519, 13500841, 31457213, 34396641, 33012025, 26690480, 35137961, 16241651, 12105680, 15032638, 28388250, 27513437, 31015755, 39511404, 39689609, 39004963, 29532894, 33726819, 28339078, 9982335, 28739608, 26132693, 9371446, 36627362, 38076682, 24500065, 13831549, 11298909, 28794390, 9119139, 36239800, 28384951, 21108171, 32422416, 38647225, 29380513, 3390568, 23486088, 14690363, 10049248, 37175000, 14820124, 34049820, 28678862, 34395251, 22128909, 16469996, 21352580, 34979424, 29368636, 23747756, 36900889, 5014609, 22493604, 5666056, 23086674, 37361376, 36347587, 31121198, 6774086, 37419661, 20656663, 24755632, 25022661, 18897511, 33654782, 17543505, 6130341, 29588468, 20765014, 9120749, 24641179, 29279043, 39077240, 17285163, 32467566, 36370046, 22819296, 29906912, 29895754, 35995999, 39427467, 15789802, 38776267, 6066091, 24032332, 34828701, 18391977, 32113409, 10812514, 15617207, 13305743, 40039112, 29737806, 39666246, 28646167, 34138940, 34855705, 39005461, 16300809, 27573333, 27219621, 40038470, 37910191, 18386106, 22543501, 19824386, 37224199, 29690488, 30757487, 18704308, 19390622, 17676373, 39995179, 18460922, 30809316, 37060445, 15554939, 37734512, 37812525, 25859762, 7517055, 38629830, 37891101, 33094509, 23408942, 30265224, 36204081, 13302780, 24513644, 13637662, 37833338, 36162799, 34836343, 11297030, 18231205, 38771317, 27913674, 39149829, 13739963, 33871858, 27312067, 26161790, 14691510, 14694501, 7045729, 3472088, 24124738, 27059935, 28796878, 24086584, 38406869, 24659005, 33695975, 30558087, 7608099, 32513719, 38601386, 31742820, 33939098, 26506253, 35510155, 21810823, 5453375, 35878064, 39157903, 17800576, 3439639, 32785997, 33675747, 6019776, 28445050, 11421838, 12557368, 33944603, 38992866, 38667565, 39618881, 18603959, 27341801, 16653815, 24791709, 39372762, 26610389, 22740244, 26752464, 37969866, 25538467, 33086816, 29209155, 14462303, 15103724, 29705225, 23227129, 18299523, 31952987, 32996940, 11563295, 38901858, 20944775, 33387231, 20439980, 36250761, 15514005, 36884016, 32718510, 26846637, 38190799, 11035805, 32720042, 29347936, 35394803, 37497214, 24277857, 10101141, 15557608, 6301400, 28204021, 36035694, 19130991, 39166924, 26999166, 37847297, 16334824, 14306986, 38592358, 34812843, 38947330, 35589263, 30826836, 20476583, 39228121, 37571682, 18374983, 13925251, 8538296, 15343923, 25810971, 36726384, 34915783, 34042123, 23247154, 34765236, 28153861, 15087303, 18795172, 23484872, 38349562, 37431599, 24173250, 33273556, 29395240, 18748328, 27593402, 32769706, 40034378, 7275646, 32966885, 25023075, 30167516, 27248884, 1487463, 36874215, 35991704, 15031136, 7054541, 28642360, 14901822, 32137396, 1985856, 32075791, 30137509, 22569492, 23696388, 38816908, 26816571, 27474322, 28034586, 15740682, 40067790, 9085113, 19802174, 25274689, 34375345, 4831220, 26131607, 38849258, 23198846, 32652428, 18044485, 20394091, 36773053, 10837296, 31567808, 26068598, 39108139, 25343266, 19555680, 30371717, 18808218, 31774662, 40090082, 25804095, 26627122, 18944561, 12872336, 33009717, 34238455, 35093496, 37807841, 37779161, 27320549, 34653259, 37867005, 33174301, 35502110, 35012041, 33244836, 22331760, 18179928, 31215172, 33247109, 14392149, 19746272, 36346183, 12091471, 4761623, 24505362, 35498450, 39375227, 31426166, 36927880, 19215739, 27497196, 29667135, 26943638, 30376637, 20277576, 28594094, 23766924, 12848581, 20556561, 6256583, 4156908, 37764085, 33293795, 35372993, 23485742, 6319155, 14197334, 36343928, 29639973, 17190017, 19503395, 39658717, 10062954, 37344240, 14104228, 35751730, 21420845, 27473107, 23660275, 38599255, 12957801, 25294297, 35567516, 37952564, 13221368, 27045848, 36021465, 19090070, 37848627, 37765197, 32852169, 31143854, 28947151, 35781612, 36269746, 35680593, 17682216, 33454206, 25062175, 35591429, 20292766, 19062926, 31167764, 32630818, 36104251, 32491646, 26743185, 23228703, 28692608, 36801717, 38082532, 33707103, 21942031, 2369492, 34026122, 21309735, 27724003, 35847130, 37548944, 10081100, 20954925, 27019199, 13240642, 29130087, 23286050, 21619347, 29179411, 28373558, 20517295, 21921185, 16860820, 34963863, 26597513, 33283601, 25790062, 26717977, 38237574, 5515278, 26859151, 30049760, 16066273, 36398542, 13390993, 17558096, 22276066, 27156381, 39978611, 24543651, 16120481, 3554241, 34125358, 21195551, 38535459, 21077477, 33713592, 33456280, 18585256, 33126126, 16226639, 32884796, 21262613, 17581483, 15589643, 10858717, 34450681, 33975758, 5195466, 7537967, 18198824, 32892468, 6832001, 28418545, 33113455, 33149428, 37686113, 25365124, 8738239, 20021797, 35432918, 11983024, 3392687, 19480292, 33458566, 13920403, 2441906, 33203991, 16315673, 24535848, 33078580, 32320945, 14869145, 23913743, 34039396, 28372614, 21309551, 37910684, 16152052, 27984527, 39893986, 35275897, 22642511, 32557791, 33008161, 13395594, 35873273, 16748577, 38624495, 38061267, 35949984, 5792728, 23094774, 37020842, 33337601, 29573581, 13130703, 39086029, 36458666, 33884910, 6028675, 18808750, 36770423, 31660085, 31605522, 19504483, 17452638, 9814380, 38961709, 23404175, 8921763, 31749448, 38622082, 21372995, 15312170, 36624379, 34849348, 36334665, 9103166, 31708539, 37698928, 37457359, 24988800, 35946315, 36074455, 26398644, 21190864, 17665764, 16661790, 33872299, 36000698, 4937163, 19483991, 27531290, 18113088, 37835591, 14957742, 28324545, 38904461, 31705810, 38415424, 11145499, 21818783, 11459672, 26589987, 32215084, 24765188, 7935729, 22191827, 37089403, 13128647, 27871206, 22509856, 35286540, 38908486, 30180566, 36724667, 7904199, 12841847, 32590369, 6475082, 9170838, 3497578, 29685887, 26084231, 39395252, 20052024, 25525446, 36437584, 39687486, 24922847, 37900693, 32256586, 30364771, 33819260, 17489689, 23519135, 37813267, 3331443, 29615870, 39219767, 26294360, 38051662, 2512225, 29436147, 10755937, 36607742, 20580179, 28200439, 26984763, 17111859, 2247757, 22802708, 30986810, 25154056, 34805207, 22623294, 28092976, 12050393, 38466096, 19764214, 35136503, 38461638, 33464191, 26685452, 38330493, 23771370, 2107754, 27256620, 27932449, 29293088, 24840634, 20523752, 37527616, 28635270, 30570355, 38022309, 38318011, 19531012, 11067368, 13828246, 25171656, 24142964, 31267174, 36222998, 26324700, 37783060, 22653956, 37004693, 15053686, 15900133, 34555428, 32629121, 35879414, 36956939, 25183650, 28500422, 31768613, 37208895, 35539471, 39665712, 29522447, 31172783, 14449753, 24813145, 28491314, 25265688, 33828260, 9933105, 35209504, 29951746, 25882079, 29282601, 24028218, 10069680, 37639383, 37852708, 20002687, 35684318, 32261619, 26342928, 13874344, 19036016, 39629139, 4664502, 35113434, 24148483, 2934878, 9215658, 31459396, 33900967, 21767172, 13098574, 34855481, 332289, 28542686, 33728911, 19640305, 33576886, 34045800, 30154926, 28093265, 14647735, 27785061, 34188248, 39688423, 33481735, 38674784, 1735370, 36224733, 23141452, 38364435, 16595138, 39356580, 28507087, 33514601, 33974891, 31583982, 12490657, 30328776, 37834881, 38964381, 36463965, 27456185, 29318725, 31366991, 35630305, 39338053, 30789938, 36181167, 22639346, 27888835, 36179559, 35406911, 31812469, 32220870, 11957371, 37574734, 28053633, 40104730, 36633107, 20254031, 24149556, 34901441, 25669628, 35469885, 35510973, 21021119, 34565006, 11086724, 9754224, 19748351, 31214214, 30436144, 32612916, 23115287, 19370289, 37029128, 36771090, 29694087, 38316528, 2797525, 31189665, 23616993, 6004669, 35469716, 14844223, 18645772, 37789543, 23534369, 21368921, 29723943, 18596628, 13055717, 22322546, 15538668, 22490630, 31451619, 36144765, 19138505, 39649761, 36940846, 31058605, 31006971, 38023705, 14139793, 22174135, 19966996, 24174747, 34557428, 37755326, 8548199, 40033948, 11564273, 29712994, 38402293, 27749664, 21652631, 36259409, 38111724, 12767109, 39857054, 37320979, 31757033, 13784201, 34706845, 15167928, 9205803, 34572133, 37357487, 36276074, 31380737, 25328818, 33766830, 26752954, 25896857, 35484402, 2194299, 19868548, 36017320, 2464863, 4694478, 14441754, 34145488, 26981934, 39755216, 33680962, 30813134, 24807726, 35403127, 39630928, 31036097, 34631939, 26759813, 38761192, 17230163, 40071096, 32181847, 34249847, 32539831, 38168292, 36843727, 22441577, 33679190, 28416662, 32942501, 34582327, 40065378, 21839756, 38082602, 19092612, 22582988, 22540141, 7352900, 8409498, 8117719, 25689499, 18709870, 24497830, 28544555, 34931864, 25169320, 2964009, 30605870, 24085489, 5320205, 28269157, 21215361, 35583053, 15201386, 30997590, 18266642, 37710235, 33119505, 28232879, 15408371, 12311127, 35321720, 25829345, 26331050, 37619374, 29172472, 39055416, 28929275, 28647626, 36744892, 38620828, 10391391, 37787632, 3436755, 38975743, 18529657, 16147827, 31170369, 17117074, 25453926, 5422009, 15449045, 9932072, 14957567, 30413789, 22492042, 5873106, 20137739, 29399248, 26659918, 34481837, 38691900, 29394305, 30786472, 35065204, 9295026, 36893789, 11764293, 19184484, 27201357, 36018953, 38726087, 12274529, 38667728, 35558160, 21941899, 14145955, 22380409, 30339450, 30311535, 33003886, 37664304, 33151403, 32737144, 23365040, 23808022, 8094374, 12487145, 38163321, 16672530, 30646152, 34000261, 39914370, 37621273, 35541804, 12980919, 25946450, 11800181, 37037581, 23058560, 36834637, 21439489, 32686425, 25359296, 24678413, 23620188, 18619880, 4860417, 31601371, 28413336, 7486178, 37093463, 7110897, 25487873, 29447352, 37466897, 21487329, 14675002, 25081192, 8095134, 30336017, 29921611, 36803538, 17109608, 33652272, 40085300, 22676657, 38693563, 34648017, 11611953, 32446925, 32336054, 37159466, 34909446, 35689067, 28475407, 34799408, 31372953, 34702067, 35705222, 26935701, 27953340, 34693991, 31731003, 40053660, 24412292, 21647242, 20519241, 23100704, 2967858, 30228069, 37457680, 37041512, 27972524, 32224917, 36525825, 18409444, 34659147, 6230457, 26802569, 36356292, 6723527, 36438857, 32818888, 21284912, 19110942, 30004009, 6620979, 17882122, 34098022, 3526389, 27489534, 33744472, 34162346, 40081489, 33657688, 34159719, 38971929, 11140618, 9954072, 17572472, 35068396, 21661579, 12756885, 21476785, 21191519, 5251127, 8945699, 29762988, 15175254, 35561178, 11779315, 24626583, 35951076, 36085704, 23026267, 17949475, 11086256, 22362193, 10109700, 33056222, 34934328, 18736978, 28398660, 19905792, 29284192, 21308611, 37036990, 25793731, 36341236, 21477465, 40094642, 26846837, 20885913, 10919051, 10359691, 12322738, 39288210, 35458738, 37725931, 36813396, 21863219, 21977837, 21531759, 28904397, 18237453, 14898355, 27064939, 39779347, 23517445, 32926581, 34730880, 36756187, 15815862, 25812905, 33642388, 38460314, 31101987, 25072301, 39726248, 33681911, 36191785, 37266903, 33902595, 31605494, 40102311, 24061296, 37767026, 38977994, 27321950, 29044545, 3478320, 31891413, 16514570, 9027266, 34099518, 30827627, 29703388, 21680518, 38837958, 13196757, 37668967, 33837879, 34955618, 34666387, 33720656, 39084813, 39614011, 31988553, 36996785, 25128018, 27140503, 16608162, 31933459, 37322326, 11882184, 32715931, 27190405, 13013781, 22187244, 16529892, 29980334, 14325844, 29647145, 14171021, 37960419, 36472805, 10768571, 28402747, 25865975, 30701945, 33763328, 37219655, 29637117, 31628505, 30969533, 31484273, 29356269, 37996806, 22901365, 24581406, 37231934, 17599179, 31217225, 16068883, 20361372, 39274002, 29800749, 24822209, 33121045, 27989434, 38674287, 26819939, 37147972, 14201284, 25059936, 38451407, 11413460, 14441493, 38901901, 23669199, 25845465, 25839795, 32519377, 35650098, 26103675, 26064425, 12396610, 18318763, 36121309, 22666937, 11299212, 34022870, 26103729, 20051160, 18213888, 22568922, 20655246, 31415825, 15866862, 38330426, 32037157, 24575869, 18359357, 25262054, 31594929, 31993747, 27452923, 4090383, 36763853, 24120023, 12953221, 26327485, 19442772, 16753689, 15298444, 37795874, 31922016, 23146422, 35423073, 14819315, 38534398, 33747933, 39786714, 18171079, 26872337, 22721060, 31390582, 14088687, 21321670, 28706385, 26303293, 27229152, 36700083, 38903935, 28001862, 21585980, 114597, 36721420, 35736586, 25209920, 35751695, 35809811, 31991007, 26554064, 24834560, 35229136, 31727737, 34865510, 21367541, 30108923, 30505407, 21658865, 32034200, 31659862, 9036298, 32223989, 11507575, 34401244, 37173883, 3330137, 25607504, 38228413, 19337487, 24068746, 32157809, 34710673, 32589904, 6966358, 36327501, 38396008, 18824368, 38042987, 12078646, 34530520, 37289617, 23144726, 36217090, 23478158, 19468923, 23396271, 34126136, 29607550, 35977326, 38326983, 24903573, 37863657, 17107838, 33380243, 20048352, 10357236, 32816084, 26155776, 9431611, 33029129, 39670470, 39925420, 10308721, 25295480, 38138417, 24107679, 27826064, 22944652, 32955851, 33535475, 37214786, 24380718, 31159842, 22872061, 29018270, 13583153, 12324176, 28117734, 32496432, 30910653, 25395330, 37594841, 36665746, 39174694, 33831525, 9089991, 38676071, 37662897, 36643549, 35167347, 13860065, 25700400, 31094436, 30110530, 38014571, 34428627, 31679635, 27948126, 32213889, 39702152, 9759363, 21130576, 38453990, 10070793, 34141310, 32726992, 11885060, 34667026, 13515471, 34474569, 21391526, 37422962, 17961037, 31303912, 23577505, 26677690, 4289891, 36455809, 39622759, 32453225, 21285885, 37307299, 37244655, 38463369, 30186415, 26218794, 39289483, 8467583, 34185912, 33121022, 15144168, 24337753, 19642052, 29836749, 31485660, 38623611, 36449328, 32764028, 34701854, 31919765, 33788580, 23696898, 15253897, 24390874, 26869977, 25943171, 31474790, 35430060, 30540139, 34945094, 26899310, 21629299, 11866204, 33036475, 34660734, 13063642, 28389300, 36502443, 24442309, 8102063, 30935746, 39839721, 34083848, 19418901, 37429468, 29497372, 37240376, 37393515, 18215531, 13747860, 23695598, 5047325, 24421411, 12742161, 31555834, 24523670, 34836341, 10118523, 23597700, 39471954, 22851944, 29214290, 22376437, 32177718, 21767526, 31556446, 38751865, 35991149, 36617649, 19613493, 30961229, 39192887, 6768946, 38357632, 30684679, 26928382, 28757348, 4747051, 12957582, 34770694, 24664542, 25505674, 22597089, 20161175, 38118510, 5318639, 39786253, 31587170, 26887876, 31976640, 34683864, 9853529, 25453141, 28761432, 16484528, 27294234, 34087382, 18773662, 34087911, 27109798, 35512861, 27524474, 38572534, 25621628, 36534263, 34922648, 36852772, 38228090, 33459359, 30074670, 22567533, 29983059, 30988015, 33748347, 36670567, 33490816, 24525111, 23702364, 20148901, 38900475, 17982746, 32072866, 7082345, 38806830, 39489572, 20998083, 34356497, 39627490, 38433584, 38438220, 35860433, 13413112, 30081846, 32318643, 18260425, 35596128, 13015070, 36650885, 29332501, 39803385, 17668837, 20288842, 21925007, 38319872, 35760076, 32720993, 31876194, 39950522, 38004491, 25347965, 11331517, 38443649, 15003353, 31699875, 13032684, 15305737, 34193688, 24614847, 25896964, 17990845, 25614506, 37876846, 32595854, 16999337, 30464351, 34771191, 20626375, 16178085, 29900902, 19058485, 2186240, 39014085, 20144529, 32371571, 17295589, 20930488, 29104485, 30535442, 35838828, 35933481, 36417481, 22636560, 39691102, 29748716, 4296603, 23767809, 27019799, 15035409, 38044866, 19170511, 31877353, 39961147, 31580491, 38187919, 33641551, 37375840, 5081798, 34026512, 29258650, 17091597, 19929792, 10127284, 35027980, 29086662, 38586488, 33995707, 14487363, 15171974, 1661479, 26576135, 29933046, 30461963, 29805201, 22612256, 12026711, 39141205, 16917836, 35158707, 25954420, 18034311, 29277080, 37842064, 10291221, 27986268, 20886875, 20405047, 18428823, 26571085, 22903114, 25457188, 28439251, 10404759, 34073414, 28700302, 40120605, 7284538, 32371542, 21869279, 27667641, 20732347, 21822415, 38793456, 30223758, 15408447, 33940108, 18191867, 20924441, 28348300, 33021542, 23293011, 17264777, 4423515, 39101203, 13795990, 29737927, 37661437, 39748477, 13623301, 37745979, 11158988, 35998981, 14222635, 37947218, 25207432, 31998271, 38379327, 25998493, 32972371, 24355388, 9148927, 19184500, 34495817, 12219873, 23567963, 37423997, 34887328, 3767409, 30634418, 3136800, 38246282, 24743468, 36139202, 38246168, 17549713, 26146780, 37604289, 36039598, 33281642, 22043037, 32444626, 1560424, 24807770, 36243043, 27761707, 33392358, 40042683, 29530355, 39079562, 33712461, 37956351, 12144877, 14559687, 30792123, 37162707, 10290194, 9207351, 31800597, 32978536, 20460420, 9455420, 20396697, 36472578, 38921871, 37174857, 37031356, 36917483, 19932553, 34007883, 31981035, 33605217, 10988881, 38318416, 35078548, 28787572, 21315215, 28962587, 23349626, 35328916, 17972996, 18220506, 37309902, 20571836, 34693305, 27117025, 11957798, 36585563, 16528204, 33691464, 35655671, 14573173, 27342751, 8161144, 35605732, 20254289, 9689586, 20752491, 37312855, 29397356, 35182088, 33942210, 11604175, 22639274, 37462130, 29821177, 9817995, 13437934, 28887464, 39574732, 10138085, 16961285, 37856680, 16153369, 20972033, 18678982, 25960937, 33117863, 30196503, 39963669, 19556123, 12193709, 39928227, 29413746, 32229607, 36012314, 31720714, 30642824, 28399366, 36180477, 31513691, 19236995, 16402787, 26914145, 24117522, 40115725, 24436383, 28706966, 20873079, 28204898, 33516674, 40109850, 22799308, 34261336, 37410614, 18186047, 32342276, 39000115, 23542871, 9896130, 25144146, 19167479, 24927487, 19775755, 29711612, 27564375, 13091504, 24896361, 15261851, 22739592, 24277770, 28240529, 11820065, 15930727, 15833190, 37235777, 37211064, 37636435, 12094107, 36338693, 25069528, 36405290, 34828577, 21129007, 22923024, 24899159, 28964453, 25354084, 37099026, 25769282, 27565939, 18478240, 24718690, 22546431, 23030841, 1340338, 38777641, 27089220, 19343402, 20548148, 36577606, 32317247, 19453994, 36255964, 27169899, 36470745, 33548065, 17630020, 38380036, 20058931, 12161559, 34262923, 39196147, 38019467, 15034996, 34404495, 26985594, 24696303, 27659237, 29321835, 28011062, 32715476, 12799269, 36945546, 36259350, 22538988, 17756925, 29881872, 30582086, 12152257, 37945258, 27943731, 8887544, 9541004, 34584000, 27147300, 2978286, 26935977, 38208700, 34128232, 34116626, 23406677, 37864160, 37021063, 19592363, 28355763, 33154268, 38927272, 35549070, 21321764, 37850444, 18001485, 28671056, 21654635, 19280818, 11304988, 28807169, 38836154, 27541290, 22364943, 28403675, 30129476, 18795030, 5748076, 33994316, 34278016, 36626663, 11782094, 17339494, 5102838, 27027562, 26667902, 21238480, 35657421, 37243444, 32465397, 22144748, 18527242, 5986780, 31259075, 37106828, 25891614, 38906374, 35484458, 28452254, 39666721, 27921073, 25702118, 30622358, 24532725, 37513999, 35877018, 3972158, 18560319, 12756729, 2030970, 18853563, 22232311, 26306000, 22792779, 39757188, 32739535, 18619422, 25140826, 9063419, 30740144, 33593165, 35505753, 15058621, 39715601, 33773933, 19134175, 10628566, 31317765, 38978651, 22794312, 28589931, 35445424, 28126678, 36675269, 26261494, 31947184, 21853240, 30311809, 27534350, 33121898, 12358312, 10727368, 14750015, 12625048, 34568284, 27070737, 33151163, 39001152, 38075821, 39369557, 35896795, 35033782, 33488039, 26253947, 34302150, 28275681, 37034612, 30668290, 5424145, 37324419, 28885867, 4788748, 18661925, 36448733, 20376771, 35516426, 25447208, 27003336, 21519935, 28473328, 20454066, 39561090, 33281821, 31162701, 26583620, 26459291, 22540449, 19176396, 24121883, 28681266, 29987387, 26597105, 39924612, 24630155, 39739644, 37099600, 27302055, 39541655, 20494204, 16787909, 12397657, 27276927, 23703105, 32488772, 25933579, 26970002, 18407307, 21615681, 23306807, 34741805, 14526074, 5923168, 36535053, 28531875, 30496666, 38927417, 12220470, 38970515, 10831882, 36432325, 21988854, 19073683, 36085978, 38374897, 9401857, 38947522, 647443, 23897118, 21393588, 37342557, 21222458, 31148401, 29865712, 34614422, 29725525, 21688420, 23997920, 25441252, 13772673, 21028377, 13827670, 28615887, 7544112, 33544910, 20269203, 9152958, 6147387, 10773010, 5854515, 28732845, 38011334, 40097086, 35394564, 19322768, 23591254, 27744699, 23555683, 11873683, 36495079, 4895455, 16143493, 29908874, 31933393, 26635870, 39934861, 39342833, 32992773, 28517400, 33625375, 17051754, 35127920, 25830588, 21614974, 32853787, 35204835, 28694702, 30551341, 40092294, 29016137, 15365228, 19323166, 26789639, 37748566, 22121239, 32341764, 35084588, 29750876, 13751688, 29639669, 21348767, 24990468, 22299551, 36728708, 15020417, 29590342, 16795556, 8733558, 20139929, 39391589, 35445584, 39731630, 19682166, 13387031, 37752926, 35444858, 30330606, 37146119, 34247582, 36532389, 27325149, 1661565, 37166827, 38002752, 19621521, 5938459, 37414916, 27367246, 38721519, 25748810, 25864695, 29379502, 27711078, 32736888, 15709391, 27702679, 29809238, 39905702, 32344747, 17292721, 36481413, 25131075, 21111642, 16009050, 10632694, 28521828, 14005584, 13847099, 23238041, 29147984, 11192991, 28171288, 24663545, 27092768, 38731903, 37173726, 5611805, 5178055, 19639637, 28420504, 37212257, 34645414, 28122013, 33967906, 36619095, 6159437, 30503419, 28779559, 27696854, 31365852, 21706075, 6616005, 16796255, 38779941, 26893729, 23219179, 30810743, 16400241, 9740806, 34490250, 18458734, 40131556, 36720935, 31835547, 19769262, 37337465, 15528696, 32190307, 16427867, 17149253, 33737427, 30569889, 34271906, 35658004, 18344939, 29803480, 18434492, 21124891, 13359951, 14845336, 39208147, 36495061, 15571267, 24461836, 20657771, 38213610, 19732270, 23093339, 21494838, 33569626, 1358977, 30713838, 32012259, 29967115, 17013100, 39276925, 35557099, 30108372, 33822239, 15145287, 27952338, 4092994, 35015533, 26382867, 33227473, 18748929, 37899364, 33741544, 14560477, 21720949, 30706919, 15282189, 6387693, 36780948, 4723271, 7574748, 20637113, 26257945, 12326940, 33371939, 27809837, 31305809, 31987279, 33697185, 7799156, 10374930, 31862419, 30964055, 28595302, 37356414, 36610207, 34450629, 37424303, 38049691, 26744235, 16750829, 37435369, 38923909, 32314470, 14928097, 33319060, 27281031, 18149594, 33742264, 33936134, 37945708, 29499100, 8182124, 32741031, 34852926, 32190428, 36523593, 24540832, 23964856, 35000251, 35953794, 17930473, 17857730, 32018693, 36155764, 18899648, 26647757, 32228374, 31057114, 35088087, 21958393, 24145348, 17539257, 14872835, 37890412, 12755657, 11379910, 17547747, 6333345, 16782381, 30975241, 36184521, 38201406, 31258102, 1679126, 32001125, 26519474, 22106321, 33714050, 31820671, 36969436, 31790451, 13796315, 24032282, 39623523, 17598565, 22328907, 17191630, 21367713, 35539010, 33092493, 24563513, 39481516, 24460036, 30687984, 17984253, 33484700, 34184508, 32724947, 29245142, 17718827, 21918380, 38492135, 29587374, 35240557, 25898370, 25676073, 37581602, 37870771, 34028921, 16334588, 20289091, 40085589, 27384489, 13178293, 36343439, 19203592, 26665518, 21137178, 24967453, 10318143, 25271660, 30209573, 6871369, 24327704, 13940838, 17632151, 29616764, 36350771, 20122747, 22436400, 38187898, 12434426, 20868613, 38098026, 15114139, 3035028, 34883614, 7101404, 32895876, 28740234, 39267981, 26065811, 17698170, 37304563, 18622393, 28417604, 32256841, 25731897, 23994020, 30163149, 8553573, 29871064, 32619562, 11942936, 25833195, 30689441, 38798176, 36137980, 34638040, 35047106, 38479863, 17171122, 5993206, 29080559, 38041126, 26767186, 39380761, 22455694, 18171521, 24302091, 8642837, 15502161, 18951558, 9170994, 38469404, 19915288, 38559270, 27472548, 22365923, 36832055, 11020160, 27910125, 25873681, 11766536, 24164797, 33443334, 23508577, 2979512, 20071785, 22898074, 32316063, 37669117, 35160437, 13185471, 35506181, 38614677, 29012671, 34139513, 40088157, 18973404, 19926246, 34556180, 24655513, 20171043, 16466674, 25427127, 21570007, 22753695, 17786785, 14347630, 33678606, 22874382, 34362274, 3448350, 27000097, 34375245, 11209646, 31034557, 7740832, 26535938, 23021807, 18970900, 20707720, 31504569, 32163063, 39501303, 18989481, 35932492, 24718879, 31709437, 37522788, 28733490, 19276954, 5803015, 39394433, 24003176, 37973589, 12945971, 29000419, 21123797, 26378005, 38093004, 20295646, 34731398, 30553585, 13873972, 20057260, 24838311, 39553030, 12702055, 39395616, 20986784, 37493498, 25476875, 10545330, 38644375, 33712873, 22484393, 37619952, 15148058, 4143502, 5072387, 14705062, 7470288, 6577807, 33796771, 23250584, 25066907, 38371626, 32434607, 7988473, 11237527, 34053392, 27642237, 13332934, 29166664, 10508360, 36462991, 33262433, 21936374, 20305168, 15605926, 33282368, 10896054, 34814904, 17748570, 27779845, 30251048, 36643212, 17663304, 22472643, 33899855, 31229499, 4363857, 36871060, 22915185, 9985038, 13714454, 16915966, 32501743, 8935442, 15237580, 16199286, 37017617, 25041905, 36481830, 10104700, 30050943, 34244163, 23802207, 36464982, 33475838, 39856867, 36507716, 8753835, 35142472, 33069295, 37664950, 39561248, 31803817, 15701952, 19308658, 39729508, 20042478, 24827634, 12307854, 30202348, 24596207, 40024824, 30072367, 33371927, 19301590, 21489111, 5821125, 28964353, 33965538, 4073660, 18256233, 39948495, 39533369, 26723499, 15548506, 34821574, 31407982, 38772363, 14845350, 26915457, 36784684, 21196363, 24801308, 35821904, 33807128, 34307166, 16107832, 13088458, 9405192, 36935481, 22068513, 28323257, 21940922, 18946163, 24811059, 22001756, 28731188, 21073377, 4181294, 27736600, 38797934, 25540259, 40032800, 36440462, 14002480, 1620927, 39761916, 14912967, 28461979, 32154009, 22250380, 37211632, 38090455, 35928486, 39142435, 34675439, 20793312, 27898830, 26071144, 20151665, 25269222, 10437689, 35766037, 22380816, 29682104, 36228395, 37064881, 33344265, 33381644, 24767962, 13812697, 15655207, 33056859, 37355204, 3323185, 19019506, 39937650, 22568256, 6129356, 12035657, 36348423, 13294673, 24806069, 25467661, 39820036, 29777017, 19890041, 17663433, 17528764, 29630737, 32576876, 37531809, 23981227, 16990004, 14549286, 16443859, 20936817, 36156336, 37204198, 30992316, 37790385, 39929071, 32902093, 30583738, 14824822, 25072059, 37737538, 37912973, 25047343, 27663489, 22899723, 36033095, 18358657, 39272675, 33729242, 22432391, 13247735, 23319367, 38800532, 36220829, 34889316, 6665771, 31328671, 36512890, 10799573, 10965336, 16040277, 25755589, 28001532, 22222141, 33678433, 35206282, 26896333, 28952059, 11765529, 33925857, 36928032, 9258534, 12461033, 21244936, 32191756, 3994066, 18270086, 17072716, 26455398, 34632802, 37441212, 13622909, 22543776, 29733721, 27577668, 34966541, 32971785, 35673880, 32480988, 39883478, 32774976, 12577110, 20440341, 25229659, 37380694, 36330970, 28476166, 32544925, 14542232, 33287156, 13794350, 35486820, 9567528, 29791119, 29049729, 35959692, 25082560, 16702479, 39460617, 15931583, 39719709, 25590609, 26133157, 32448939, 32040304, 30583641, 21271913, 22127769, 30737715, 35236953, 26434785, 13493340, 24960910, 24089264, 34222449, 25391617, 26842581, 39325283, 29886466, 18988855, 18229563, 16183679, 30261054, 31502456, 26510405, 33779748, 28048647, 27267305, 18989414, 6748184, 19335900, 30466805, 23547770, 31586501, 13261122, 29392235, 29452535, 28885279, 33291428, 36532390, 11797688, 25295871, 17027068, 35923911, 31760941, 6567724, 21473600, 33786676, 38338177, 19237614, 31851805, 34398188, 15059610, 29765357, 11835500, 10984085, 32679481, 31395593, 37232494, 5489732, 37809836, 13125321, 30121773, 35003499, 21565445, 34979781, 27388403, 21275538, 29042276, 33457731, 39028934, 26999145, 17431441, 14952401, 25868534, 36284913, 33980642, 35038255, 19335057, 20802016, 20725694, 18238330, 38721200, 34407974, 14503423, 13146542, 34197327, 19383475, 22906167, 19199871, 14003572, 18829472, 32190889, 37970424, 25455883, 35163303, 39969452, 17753398, 21094646, 36727503, 35421329, 8126151, 18962063, 30008322, 6707964, 36579763, 11688318, 34799488, 30763684, 22732690, 30080195, 38706857, 31066496, 15882395, 24790498, 37714315, 17951672, 19238231, 37029757, 11877571, 33135459, 37555313, 18513842, 33407991, 38148362, 20465197, 35843519, 2176424, 19069971, 8342549, 5276303, 27762000, 21222794, 20553037, 21259078, 19716231, 30596834, 35528546, 37360568, 34985134, 30260221, 24764384, 26393545, 4930524, 22175533, 32803790, 33286021, 16279978, 25902919, 25627257, 14630864, 37648266, 25829736, 35642201, 32351310, 33489465, 10975491, 32362139, 30428983, 31544489, 28884344, 24659800, 37447276, 33200010, 37536478, 28112217, 20017708, 36608197, 7513262, 37810339, 35753250, 29827807, 20175506, 33892702, 31313606, 24127938, 37416405, 31329657, 36267705, 18879267, 1844467, 29475611, 20853179, 29832055, 28711376, 35992492, 12931569, 18602660, 38440513, 37596714, 35521545, 39495298, 28758643, 36498539, 11300650, 27699414, 34112435, 36442023, 16341332, 35972380, 22562089, 38668189, 9818279, 39420805, 11623056, 3479887, 23028725, 37937007, 36364812, 39305810, 38501822, 38598116, 38978920, 33019879, 22010586, 31334716, 6390393, 30883933, 21131404, 21319581, 23205990, 36767697, 27180423, 34878948, 20577680, 13608416, 35760298, 16091995, 5133871, 12904912, 516935, 21688409, 16219281, 36073663, 28663980, 24620831, 34412636, 21973249, 35200094, 18502018, 24423298, 19444428, 30380687, 38690358, 38662667, 18387017, 7196461, 26964812, 19916295, 10647500, 22236263, 9424086, 32035243, 24116318, 38953369, 24542610, 32039004, 31651773, 10635537, 23481755, 24921774, 32827131, 38863613, 22940283, 25750807, 25516325, 16312481, 10488355, 37709386, 26174120, 38402890, 32051408, 11458146, 21551810, 19451906, 35584195, 28908003, 22024060, 32072198, 36423362, 30329673, 29364943, 22916855, 20350503, 8225460, 34011050, 22942855, 31249027, 5777576, 33573497, 23256758, 29930340, 34546137, 24163237, 29285571, 38746889, 24269281, 22169569, 34255328, 24020202, 2564362, 26727277, 24663876, 24893775, 31653968, 32698501, 35029678, 23324706, 24635725, 27052103, 37876397, 28756034, 16588730, 18246061, 22891332, 37893241, 8555652, 15365268, 30357507, 37707432, 20080186, 16088676, 32120365, 27353818, 39259225, 34482714, 22458441, 15961979, 36776125, 34830921, 36421002, 14373884, 28876100, 14775040, 5091993, 10466730, 8718885, 40061493, 5948770, 14664143, 29760064, 35493275, 3354883, 31419106, 33524976, 35911456, 35999020, 34125852, 35950455, 16886679, 37986084, 33805307, 7778954, 7156058, 33173429, 26413185, 29215909, 25385216, 31814378, 34001751, 12880254, 22852479, 25762533, 24128167, 24064657, 39081327, 11851297, 30263135, 22579019, 34774822, 33850052, 17532111, 22491502, 25265961, 28778124, 19656964, 24833685, 24104990, 38813331, 22100222, 39975898, 30086804, 18772950, 37891257, 31483376, 16415305, 37408664, 17428435, 36889880, 21330096, 24869755, 19566931, 18970281, 38683638, 31642150, 21072836, 35779047, 34098921, 31039632, 27425974, 30714754, 37641557, 25911807, 37495589, 39691152, 32980633, 31103784, 21999433, 15538099, 23996246, 6077017, 37766612, 17910130, 36392980, 21832808, 33490790, 38194247, 28719895, 7601334, 36595280, 31712939, 8028115, 14508531, 10630921, 15616768, 14004243, 35067296, 37488379, 35919807, 27428294, 33940405, 38270861, 38563948, 17518997, 7802085, 35436844, 30040476, 22968267, 35972733, 31127991, 39200165, 4680525, 17552009, 35938891, 37056900, 40128684, 15965940, 26772456, 24471137, 27723534, 35649603, 13223412, 22241240, 14921056, 34112898, 4082298, 30589069, 35856079, 31488489, 4924917, 28991527, 30649329, 25386870, 19414632, 27569306, 39666591, 29568110, 37964100, 31340207, 36024071, 20460485, 39936869, 34606601, 30900134, 39649111, 22789112, 5572500, 31128904, 20488765, 34682463, 19612419, 29155671, 38981915, 39182249, 15985187, 36182734, 30828650, 21676950, 39502761, 26989131, 34898146, 5040412, 23042482, 33619030, 39296229, 1401102, 37220685, 35229650, 38648770, 28868094, 26055408, 24883586, 6473826, 31872881, 34888058, 23244443, 11384391, 35052449, 15909293, 23345165, 23622741, 33231120, 13663721, 32007056, 39783567, 17623451, 40037070, 38647370, 39664741, 29435501, 23248435, 23726564, 19795705, 34902321, 22538230, 32813002, 33837331, 36401496, 35760980, 33854934, 31767876, 3039088, 30154888, 10015213, 37668094, 28517276, 13652780, 29969956, 7655323, 39006248, 28091290, 24707566, 39402109, 36385970, 28787069, 13488249, 26532327, 5911439, 11190735, 10557614, 37366285, 8143439, 24628717, 20979274, 31421900, 35933543, 31373388, 14016217, 24662157, 1874642, 27591883, 9280885, 24777641, 36684366, 38748835, 6082126, 30858138, 35803431, 35400047, 12663205, 11156828, 39475664, 31281566, 37668874, 34660617, 6341716, 39473636, 36960519, 31991355, 36872557, 37000459, 26242438, 18176674, 11410445, 33596336, 38426448, 34167711, 29146662, 35230506, 20288926, 25778597, 21887491, 36026149, 22028064, 37482977, 19413016, 39655621, 16592222, 15527288, 20903622, 32763356, 20454759, 4957968, 19576495, 33335601, 25347701, 16305256, 23246125, 38698277, 5393205, 21519203, 11049038, 27699999, 35244254, 24769716, 4098131, 26430742, 19736374, 32771520, 38722679, 25812255, 31410388, 17193628, 16399279, 24376200, 23855910, 31921313, 20754205, 22942755, 37186773, 4590516, 33181699, 16527149, 39135472, 32014832, 34906728, 38595612, 39624252, 29480554, 37751107, 16456751, 39894896, 23000418, 27505708, 21888695, 19058239, 24997925, 17747321, 19756043, 15326069, 37043257, 10977005, 22407203, 40089988, 7164017, 31380697, 2265319, 34226395, 13471949, 19349904, 29325576, 23312886, 14032763, 31805560, 37143643, 14106912, 22617439, 39108035, 39489150, 27864245, 27929348, 39370731, 22048792, 14305337, 35805809, 18944752, 12386718, 39211707, 21731221, 22923402, 23880138, 21490179, 34737933, 12131160, 18007022, 23147906, 27216812, 21997897, 20053840, 39380738, 38553764, 458209, 29763360, 19122690, 15253028, 7898076, 36823880, 31632637, 7339761, 28984757, 31981376, 17426283, 19442224, 17879301, 22778043, 30039260, 30864449, 33935758, 37929465, 19917587, 36896305, 20011080, 21896299, 31829604, 39663311, 33620940, 26819143, 7949384, 37380912, 5355901, 30423812, 34241535, 16818733, 36489615, 8247973, 13850179, 27511684, 28544813, 21624818, 26255876, 17251569, 14942481, 28854513, 11062417, 22926253, 24134894, 38450205, 24878741, 17428159, 27190858, 23616025, 33923093, 12301071, 26486944, 36846927, 30661112, 38649501, 29148725, 40002617, 23404978, 22895972, 28374345, 25635022, 29387110, 14966395, 15477059, 19613048, 29201604, 36313410, 34106509, 22097377, 8641901, 20400641, 37879842, 34935298, 19778294, 14387668, 5780265, 30869775, 29334828, 36368971, 36108172, 23637219, 23555218, 36725388, 18178851, 12073306, 34095874, 37078580, 2497449, 38594706, 7375858, 35032142, 19948732, 2546475, 15418234, 1273472, 32781762, 38774805, 20951673, 23049463, 21661526, 38918971, 38950173, 32979793, 39431453, 19412197, 21638546, 38328005, 40080248, 28862324, 13726587, 30751686, 29735743, 26618152, 13437284, 37861171, 28227340, 26870320, 40085850, 25992927, 35336757, 18791722, 7204514, 23965039, 38967474, 13939558, 39376888, 32280490, 39521166, 28758592, 24084386, 11586989, 27174425, 25412954, 17421312, 38840686, 23379459, 30901908, 14094727, 19054923, 23698850, 30493425, 24613166, 22425313, 14506544, 38243506, 11815538, 21343364, 32297197, 29098281, 8461605, 23204320, 39049951, 31652596, 5028374, 28820303, 39169913, 37025715, 24581194, 34212402, 30881428, 17366140, 20795316, 37464054, 28712123, 30508850, 38854940, 37585863, 27241473, 39321385, 36816246, 30505616, 34926501, 29637150, 39133820, 37555827, 29534504, 23800755, 38316746, 18745391, 34979919, 24769258, 21868763, 21418277, 38121176, 7672068, 32401898, 26901890, 33371374, 35954065, 11016050, 39320927, 25396786, 6983671, 16594554, 34569037, 21912670, 31441247, 23532036, 37939801, 29988241, 22048632, 14349055, 38817525, 35614053, 33288830, 32608199, 24666127, 36198933, 39733448, 27087140, 15012309, 35738199, 34725701, 29781101, 37978471, 19505454, 2310851, 19312833, 21179971, 31258134, 27987422, 20069545, 16636722, 26845727, 16074392, 38985423, 23800807, 14280312, 12755717, 39947079, 33287620, 29451057, 9878200, 23206100, 3899980, 31373163, 38960460, 31621431, 23963869, 16087203, 27475211, 26812116, 20636155, 26068491, 3120265, 25634689, 37196264, 24590142, 27972995, 33768117, 23413310, 25075023, 28652834, 13524675, 34952818, 27930413, 26137222, 16633612, 39927263, 38854739, 14987049, 13871340, 37593994, 12127635, 38220653, 32669997, 34611188, 17812938, 27365601, 25666371, 2326786, 39529655, 30893413, 31457781, 27822958, 4581504, 13110403, 15423726, 34427715, 23599077, 19314402, 14817034, 34371465, 24482656, 33826967, 28398200, 37358214, 33382771, 20862885, 23014011, 21254472, 32894223, 35851201, 11082105, 39379499, 38162542, 18176591, 25781676, 35157634, 20247145, 21833348, 15747437, 34445869, 9953466, 25236377, 18764814, 33849411, 10158269, 34217590, 34377350, 21911588, 32970610, 31283429, 6709387, 20095088, 25271623, 15624070, 1746312, 29306906, 7122268, 36955549, 26556842, 25831355, 36306996, 10784652, 30511340, 2842123, 24867363, 38508556, 21961360, 24931444, 11373610, 20806141, 18195758, 23128626, 25121739, 36086921, 11917779, 36824433, 10238991, 33457040, 24266866, 8977114, 34943836, 34353182, 37948836, 22439232, 29865785, 20050413, 37535037, 25166882, 22354320, 38172370, 40063339, 36661876, 17675268, 17889063, 36697721, 24465152, 14320159, 20524888, 33740571, 11892491, 31688624, 33696524, 11898073, 35678035, 38765173, 35721549, 19322534, 7819498, 29243328, 11995148, 33083809, 10422504, 11914021, 39639794, 15210520, 20123829, 28252985, 22964196, 28681782, 36483797, 4999014, 28990125, 25068384, 33479876, 19849167, 9230389, 31590184, 35664183, 14558843, 7058494, 33989517, 22043549, 33382619, 39895737, 37230844, 27299793, 33158472, 23121291, 22622916, 24574976, 23560583, 28295416, 6146778, 30138026, 29927243, 37470835, 18362212, 22753738, 9808344, 18956105, 14138899, 35950559, 37733889, 9767241, 36795424, 28389890, 16037494, 17381277, 20134737, 39739291, 8750203, 35178698, 31280498, 4913306, 29317602, 23839468, 40000784, 13348640, 20472981, 33634522, 22981359, 28902863, 39231282, 34376656, 39237399, 39371372, 37770860, 30674862, 38084163, 28944915, 36462833, 32231707, 38768129, 31324445, 32889646, 17989917, 21323032, 36747416, 18216829, 39147492, 39038228, 14908576, 39681620, 21189806, 13734199, 22536179, 36655529, 14910963, 15724747, 15895314, 27083051, 34530699, 29383307, 18982418, 3783217, 26348354, 39428656, 33625813, 25493052, 37981665, 31291553, 7947673, 27131643, 14710221, 26461575, 31341540, 12372380, 37286844, 37331258, 22104785, 30770316, 38824201, 34464204, 13089789, 29547687, 35184799, 32421858, 14946265, 39415554, 30786274, 38851009, 32622230, 3529666, 20555654, 35881290, 30159390, 27707951, 25937385, 18526485, 17285154, 14880766, 22053274, 24103389, 13079797, 17512826, 17495652, 36482463, 25638866, 31703327, 27796266, 28956622, 34183870, 36544086, 37151365, 32334516, 27229416, 21920233, 20821557, 37721851, 17149646, 38869277, 39974576, 1329105, 38200293, 28499580, 9528014, 29772322, 31318098, 36413086, 39837495, 36397058, 21345922, 39571393, 19330561, 24308049, 21746491, 12861422, 34502701, 32905262, 30099586, 8263769, 17897714, 4320021, 7355497, 36383193, 35091100, 16267143, 35492954, 33987451, 27260871, 16968007, 34717077, 23909249, 37968489, 22161675, 25755134, 24325232, 14863123, 29249041, 21736185, 21207513, 31219338, 12052379, 36878159, 17748180, 31841289, 1877360, 21827515, 6516822, 35666761, 37376358, 30378999, 27606209, 14733499, 20929856, 34027261, 38101124, 32248706, 31446640, 25853237, 19184587, 38656975, 32225886, 39442207, 35676300, 29392380, 27338596, 17845689, 34110537, 23420275, 24476961, 31352311, 36326860, 4534687, 38987, 8858958, 24985965, 14077452, 31047606, 21131601, 28407076, 40115565, 40075106, 39535522, 31795092, 25344505, 23910595, 28220327, 38778257, 31421638, 36066544, 30656610, 38441098, 10446839, 34530392, 35584587, 38111975, 1056151, 28877512, 7327344, 4675895, 20694681, 1726925, 29848351, 3900762, 9623836, 11214120, 17952638, 26543349, 19177150, 16113161, 15279049, 39833927, 26290612, 37330978, 9807634, 18968909, 35442924, 26420911, 5113000, 22001394, 17203272, 20817747, 25901990, 6663490, 35028971, 23208519, 29269520, 28391928, 17180193, 24735354, 24004106, 1760495, 29142579, 7053351, 32094525, 33179706, 36117253, 35588766, 35663013, 12631052, 32302086, 35400641, 18669500, 37397867, 35429635, 31661752, 22678427, 30077438, 34624883, 16212109, 23772174, 36093223, 36035725, 13280899, 25867475, 35612666, 36278966, 39115825, 13851438, 35322324, 25057200, 27494701, 16745529, 27334508, 28970505, 39164953, 34828174, 16949735, 20291392, 38944084, 18079087, 26366053, 1233539, 17251803, 23799533, 28039608, 21360937, 30488061, 33544821, 22548485, 4080304, 34253422, 36909256, 35538285, 38748420, 16518103, 33934109, 25192554, 36030392, 7034755, 37354338, 36117533, 34053223, 22485399, 23750270, 29264274, 24224110, 29712962, 23333020, 30418481, 14706931, 35716640, 17786728, 38030383, 9456233, 23419931, 31181830, 38308519, 27164000, 33088219, 31445505, 16350563, 26412212, 36792779, 11313050, 34735426, 35568543, 21255442, 9184497, 14344351, 3167143, 37679642, 37270480, 11268092, 29364428, 16948283, 24399254, 37839709, 18795455, 39062671, 40069059, 29998456, 3419147, 21830566, 27255713, 33156633, 37860016, 28080142, 32993373, 29245270, 20001045, 25733955, 27080117, 19963647, 23292620, 22738313, 38937227, 30268576, 1661621, 29057895, 30360456, 4326658, 31575675, 34434468, 5476351, 21297429, 34987005, 16766611, 40112545, 8968260, 19181434, 28518331, 28016879, 10609399, 26708470, 16110151, 24612198, 25172625, 39340074, 27643505, 5478049, 16251506, 5384914, 33016615, 34300699, 26342421, 40037998, 20735896, 35978455, 29965333, 23418707, 34180344, 9474522, 29464469, 9179225, 1553275, 19850256, 18817789, 35618798, 38085367, 28023372, 29942550, 13060602, 25718954, 25056387, 15311242, 21237354, 2871809, 12381236, 21875228, 33886373, 3410452, 16344677, 34663493, 25630386, 14022864, 13046313, 36270320, 6885335, 30449952, 9329537, 36329412, 29312482, 19216940, 26649395, 10758095, 31693708, 36067699, 34172259, 25016713, 35857456, 24840797, 38547662, 21382194, 27455359, 24732554, 39335188, 10600746, 12959442, 4865325, 37727379, 3105215, 10788934, 10595058, 29366542, 3279011, 28722869, 27137454, 28869420, 8694832, 39624778, 39599642, 17914096, 30419730, 37653474, 24346391, 15487857, 23069908, 9358983, 24494167, 26557914, 13282095, 8281739, 26725603, 27910621, 11089435, 18862870, 20332563, 32497902, 34243044, 15926358, 30470676, 36858485, 17153505, 17773989, 38003876, 39680317, 36680631, 33811508, 39949766, 39164114, 25343089, 26663322, 28654360, 33940439, 863446, 13304176, 3986549, 31712322, 31593830, 27588724, 33147848, 30606077, 22849405, 25605076, 25851686, 5614104, 24526425, 34069702, 12572225, 21614615, 26952264, 37465087, 24821146, 26363099, 33191091, 35197854, 30672929, 6358335, 17312127, 5615489, 3698620, 23771424, 13164218, 19457228, 23733922, 29689081, 4331892, 27363859, 40066532, 35713539, 26530023, 11119556, 6753812, 17703956, 34650421, 20955254, 20041520, 19748489, 31506694, 17426634, 36903764, 21728080, 31737650, 33086380, 22030044, 25892133, 18404220, 4878881, 36275198, 27794380, 10488784, 16086719, 13645339, 38073843, 27682069, 3653690, 28628954, 34183439, 28954408, 23145982, 22005273, 10465670, 16602205, 9951116, 39134183, 24185486, 39582616, 22741167, 37590340, 18447283, 8047067, 17396058, 9210804, 17426292, 30265968, 29482724, 28065806, 29409856, 14761453, 18581186, 17314220, 8117441, 18485160, 35805293, 17652909, 5530619, 27366896, 29239128, 29849222, 23943024, 38510815, 33567034, 38338688, 25595654, 15397630, 2563088, 35022884, 25835094, 25727293, 39026090, 11385683, 22203295, 7042530, 21719842, 29576310, 31367935, 30217882, 21584601, 40097366, 27568501, 27573800, 13372450, 25859572, 25109248, 35638128, 23937992, 24753119, 30748670, 11216001, 24204087, 34326081, 11058268, 23535715, 38048464, 29078573, 3743532, 16875701, 38091525, 5071212, 34214029, 19255628, 15871821, 39333881, 26275715, 29953942, 27093816, 36821225, 32287529, 7145224, 19235687, 31270787, 35719446, 13745870, 38506857, 18241967, 31643635, 27357321, 21487854, 24168136, 37271524, 33117415, 33575346, 36192767, 34648564, 7789090, 29925224, 39985479, 5320774, 25926458, 19214099, 17220029, 30741274, 11228812, 25498311, 37084818, 39452721, 35372569, 23943033, 28444623, 37979641, 35056446, 21918667, 10220550, 19909472, 28284437, 9633664, 39838489, 11276473, 38824205, 3405715, 10237121, 38881679, 29908049, 2108293, 26141183, 29690027, 20554326, 33242439, 11485636, 14061249, 24924854, 38487894, 35873048, 33422405, 30338452, 32604010, 23284994, 3067494, 4900308, 33249276, 14992577, 34956599, 33441777, 25047053, 33681511, 10857907, 8072025, 30250633, 26798385, 26033350, 34991244, 31405932, 18847758, 35391086, 19042441, 33046265, 28830053, 27334535, 31502230, 27019015, 15400165, 33455717, 36322636, 39246218, 21886531, 33416804, 2092380, 33575382, 28544769, 30793154, 6103907, 34960823, 36169473, 33852656, 40010727, 13224487, 32960889, 31819798, 35306993, 6899101, 12442830, 25416748, 20400523, 27138747, 26401544, 28949771, 5653088, 26324897, 23066556, 19885444, 36871150, 28137242, 35240168, 6117737, 32085643, 16519385, 4123266, 36182371, 22700711, 24185171, 33606320, 27937804, 36931963, 22514178, 25451679, 11571310, 30197376, 15751058, 27303986, 35121517, 33991968, 37255372, 35617543, 35446421, 38170651, 26226056, 8618777, 17513890, 24531931, 20732296, 23057219, 4258782, 38363913, 16848367, 10097211, 17189051, 38703907, 20577503, 35074921, 16377051, 36381843, 35642761, 26706396, 31351537, 14383333, 28678530, 34129391, 6741478, 38664781, 21660875, 11907770, 2299454, 2028723, 23619568, 39178366, 27723286, 34998592, 37509086, 5233020, 29257702, 34660803, 17053685, 25430417, 26055036, 35809755, 14986218, 25422771, 31048706, 36179296, 38298825, 35759993, 23345326, 22134544, 10116996, 27612626, 9508776, 34077572, 28644265, 39305356, 25726924, 18790951, 11939207, 29082954, 4900747, 27047032, 39711363, 18572266, 31036407, 37199798, 27089833, 16877831, 26663032, 28548328, 28261089, 29973301, 35029806, 39982612, 28710060, 31570827, 12284913, 28985845, 37743656, 12342412, 29874441, 28391370, 32679180, 30878657, 25194061, 38287392, 37336080, 21560433, 36497008, 23570299, 7684333, 8331469, 38853553, 38729912, 10342092, 19283419, 24326772, 35707656, 22397213, 14147369, 27255776, 39218060, 17656031, 24190677, 35718318, 31258073, 30404491, 20207663, 28398758, 16734440, 31494356, 39087402, 16099112, 27111608, 33318183, 33659052, 25957497, 24508726, 8219838, 37383987, 16264834, 34958340, 29250622, 28049127, 38427285, 38069136, 18309060, 34857020, 29404722, 36139227, 11387158, 26553825, 35463870, 29972065, 32839174, 33077274, 31011651, 20914486, 24565378, 15179597, 38771317, 22740951, 36086470, 32483319, 27312067, 6579757, 28534878, 6561653, 13871491, 30614755, 5451261, 9620804, 17758854, 26698324, 34199823, 22253055, 3029600, 28142642, 16091926, 35287110, 2600790, 20347476, 28037061, 13984473, 5977165, 3481414, 39760971, 35903366, 24502167, 15457072, 23372291, 18749066, 28537325, 31092518, 36488918, 19541711, 36465791, 27327901, 29125760, 27676869, 40041547, 28310338, 17268851, 25146891, 38625608, 6358481, 26777579, 15388749, 21782132, 16040287, 27674145, 27025828, 19098167, 32451676, 31093078, 11729670, 24312966, 25455350, 17308695, 34544634, 31781178, 40040304, 30365563, 4656329, 26393762, 35934510, 36899719, 40096826, 28183033, 4999238, 32421401, 28599559, 15471311, 29980234, 36198540, 21692675, 13750824, 5352546, 14769024, 13499145, 17647277, 37094083, 35461144, 9745909, 36942776, 37651455, 17977520, 33837290, 40005203, 34251328, 34164856, 19838115, 5378231, 33603021, 27188920, 23384676, 22878743, 37395147, 27405329, 19990896, 29899504, 20314890, 29414885, 15777998, 27186379, 35799225, 13963943, 23796445, 33614290, 30008163, 25036054, 22436678, 23353336, 29245882, 25207133, 14131970, 25215967, 37089511, 7296716, 17172532, 37866845, 3294889, 31263156, 15988563, 30504292, 35319174, 25539762, 30082669, 25924443, 26694034, 19720579, 23049773, 35356529, 39499409, 18677540, 33835111, 14374096, 37427673, 24815113, 38189722, 24391031, 34298613, 23549419, 38337955, 34965217, 31125029, 27080202, 30763233, 33413528, 24763464, 39659146, 19555229, 32941375, 2853269, 2414201, 7891201, 33728290, 24358580, 6712816, 2942375, 36096585, 17687453, 24304133, 22843211, 29638361, 31177029, 13777986, 32805215, 31620180, 6354436, 21962763, 2974022, 39948903, 27313711, 26417283, 33239474, 20496679, 26355800, 8979193, 21619391, 17539367, 21667752, 28725891, 34988822, 32774022, 18099743, 4490855, 31642869, 33205921, 36149414, 39625962, 33000454, 38839765, 17139782, 12854904, 39164394, 28034506, 30228015, 29109355, 25248920, 16197554, 30648813, 33299961, 36799390, 25958019, 21444398, 4432067, 7276511, 29308912, 28923518, 19648019, 30223703, 39541577, 34463422, 17037054, 5175344, 39734016, 35463428, 18624292, 18255068, 13304776, 33157980, 20833527, 32959737, 22537548, 14615846, 32726543, 33050654, 32365527, 19994958, 11841256, 27139092, 31362529, 380734, 37774012, 30929275, 38067809, 37248726, 33110973, 18318901, 18330411, 35074357, 32023452, 24419422, 36859178, 30963604, 5642987, 36827233, 11963726, 7224510, 8995611, 14505898, 39277724, 21978061, 10572901, 39800762, 38354297, 36862342, 31359553, 33595664, 39640936, 18993230, 30756987, 6446887, 14258984, 28131906, 19993841, 28528786, 16878315, 11052223, 29050223, 22799050, 26242482, 34805166, 13491571, 38304572, 14125142, 30128924, 31451268, 114830, 30777911, 22774666, 33190779, 39852686, 3364279, 39503039, 35978244, 39015623, 34138844, 18023972, 34078683, 25660543, 1639772, 24102659, 16401355, 36348335, 35029731, 16067264, 33234999, 23183958, 29094458, 3427198, 29701159, 33906561, 32569722, 10566701, 24125238, 27007260, 38145331, 40088576, 23474857, 10042578, 12776400, 28709182, 33656206, 31731644, 25110626, 36154563, 17049794, 3296499, 24228161, 6517793, 26891223, 15510542, 35787449, 1911273, 35140637, 15720793, 27583042, 8214932, 31233788, 12589976, 35993078, 31627141, 8623395, 25493082, 11902665, 39538409, 25372500, 12189184, 25445483, 19845258, 35173169, 22801881, 6405992, 16859581, 38313293, 16053968, 26916496, 17748851, 19821690, 15631221, 26658883, 31709032, 25652500, 23039334, 5147292, 28652696, 22399656, 14057357, 26322961, 4164303, 20811102, 14108162, 20455477, 5019927, 12907142, 22656526, 3934133, 31423127, 38423926, 36921137, 37269116, 29596694, 18362386, 38467716, 22479640, 33181503, 24216198, 32546245, 15801524, 39044909, 36870201, 14925624, 28099715, 35329582, 18536549, 6329347, 40034846, 9936374, 30947037, 18037798, 19011124, 39999581, 34968502, 6988213, 26888134, 37604019, 28921031, 30690134, 32036125, 26835186, 26184300, 14510303, 39881062, 26130085, 2389816, 15850028, 36101858, 28470388, 32405853, 31750938, 30236112, 18114879, 35943484, 19826842, 22112525, 14062379, 30633788, 26877613, 21103732, 33442912, 38547555, 26749178, 32505484, 22346987, 30662860, 39291613, 1608040, 26640801, 33001194, 36207318, 31182931, 38607202, 36915341, 22770317, 25247195, 31324310, 127606, 8624455, 16723453, 26888114, 30935693, 20577840, 28039728, 29793638, 30701466, 15681054, 29771830, 39583352, 17728711, 38201041, 14308618, 39111798, 72899, 23599843, 27833393, 23303439, 32257783, 32095031, 23762675, 25415877, 33003211, 36124212, 34046609, 9987012, 25689154, 21167650, 6870501, 6882075, 38371351, 37087457, 29199695, 39380501, 17906862, 35187165, 39099608, 35224934, 2649221, 5011859, 13616608, 34831955, 15347414, 10183946, 32016427, 6887095, 28532657, 16753918, 21336634, 36567217, 32030424, 16530710, 4414435, 26984491, 22680866, 23791207, 20109768, 18417194, 23474507, 4474690, 38646432, 31530869, 23942081, 34145353, 19325096, 38215604, 11753660, 39782108, 15405643, 34185277, 26823998, 22892216, 27351687, 25938674, 17443033, 35809764, 17639305, 32521350, 34219333, 38318129, 30964577, 29297214, 20213981, 34964788, 18552001, 6701286, 14224067, 39251223, 18675958, 16889441, 32243062, 5752802, 34773871, 34832869, 23327553, 34141416, 15078519, 38397557, 37376026, 36464704, 30447708, 8331909, 32175577, 22890673, 29260443, 16264515, 32017095, 27170304, 13761244, 1410087, 30350464, 16797029, 38539381, 6870103, 36971661, 14214464, 38640365, 35606657, 28830672, 11015535, 39178715, 15488901, 17653954, 37005406, 23134559, 33706777, 37753680, 22004893, 22887341, 35961513, 31173956, 27549842, 37129341, 5821714, 2569578, 39198489, 3162166, 28658817, 16332705, 27582998, 34959781, 15892524, 38373881, 483666, 11191243, 4299492, 14538346, 16748308, 26948464, 27494628, 2671211, 6027225, 38704520, 12630988, 39279782, 30685462, 7954338, 29517486, 19652057, 30699512, 14824153, 5062166, 20184765, 39934750, 36843317, 28502734, 30841262, 35415167, 2315520, 26473683, 33722662, 13001010, 18112680, 30871623, 4178249, 26314143, 35960201, 13743195, 35503249, 37015123, 5243967, 31583454, 32428535, 38943339, 27802293, 13822386, 29992707, 7442902, 35425476, 26964886, 20768783, 28322978, 26700990, 28902742, 8954746, 16600174, 29547766, 17144889, 18653191, 24065393, 18405618, 25552972, 40016192, 21767502, 39618732, 5714231, 7079241, 9630459, 10798606, 36651719, 30469313, 9132424, 13870245, 32759757, 12024356, 36958317, 27587706, 18419372, 15402446, 36435514, 33674033, 27324936, 39184654, 39640556, 31390542, 13375301, 40014231, 35835992, 34560802, 20929805, 17053730, 3873654, 29223626, 38990054, 22792319, 31390549, 33857483, 31941214, 30314718, 30203658, 37378874, 17380411, 24636934, 8788153, 15923766, 13544393, 19335883, 34840680, 22468401, 27574989, 23084236, 29958147, 20431052, 38972011, 33730065, 28741421, 13999403, 21152689, 23044093, 29033259, 39566390, 16132370, 36904749, 21869953, 40116054, 12118695, 39076314, 36807870, 36896236, 28838291, 37971322, 23268899, 32581067, 33661893, 35506424, 26582136, 36445710, 33840996, 38425775, 26022042, 1514457, 30832828, 4572995, 6589814, 34249016, 29397156, 34539772, 38514485, 17800444, 31670723, 24659690, 2729135, 15188292, 33972287, 35851241, 24129445, 12053218, 10222957, 10592674, 33019469, 31652812, 11505910, 34400166, 20276949, 36783486, 14692690, 38050407, 28875256, 28253515, 16784819, 13665861, 21722646, 16260792, 18103775, 15530873, 23759974, 23169224, 32208487, 24922162, 19854442, 19757412, 27469902, 16850913, 9054610, 6588056, 32415188, 35980844, 31604531, 3217487, 1690517, 23378816, 29108979, 7274058, 12959780, 11619135, 4147707, 37382156, 37014073, 34708372, 15602107, 17083244, 31666034, 22327968, 11918852, 39011022, 26486670, 29976077, 10702363, 37866450, 15620216, 9252367, 19951768, 36098698, 39448604, 36510412, 23669199, 9366340, 37479756, 39782190, 39436055, 19883868, 12819209, 26183703, 18662475, 19344046, 31663383, 33003688, 38691111, 10002897, 20258632, 19328982, 20014534, 32368616, 35001340, 37581550, 29574200, 23686229, 23365832, 26462461, 39296387, 35335717, 33920400, 14666157, 20891141, 24063273, 38858684, 15785719, 4342176, 37471488, 33085774, 19740389, 29525900, 19471534, 37934969, 38689526, 20355208, 7701437, 13204246, 35826534, 2894733, 36442146, 13968598, 23228352, 18647444, 25887782, 21835233, 39574337, 30338793, 29119433, 24878279, 35591668, 33092272, 23048430, 31027773, 27005813, 4596994, 18226817, 29644066, 37333414, 36049599, 31176442, 39376563, 22890826, 29741700, 16244843, 14765250, 35650575, 32215965, 40067814, 36874773, 35307556, 26131850, 18766265, 24913780, 21472430, 9934479, 34306603, 38739689, 10924884, 5422911, 34710633, 31167228, 7726729, 18408540, 7208955, 38646190, 34359282, 39100856, 18925715, 22752443, 33908245, 15283578, 12022229, 20472484, 40083438, 9959881, 21780927, 38740300, 33663332, 324643, 20543791, 39896807, 32960015, 21944875, 24523838, 38828697, 34869135, 28311990, 27925496, 22439345, 35214878, 23024749, 17504995, 28812007, 31863804, 25878006, 26445190, 33035169, 19984477, 18412955, 38947841, 23254988, 26308148, 11321220, 38973433, 34048013, 27084211, 3274889, 19439472, 7423428, 24999654, 35237160, 15647690, 4143698, 39503277, 32281041, 29011441, 35916618, 31303912, 9182516, 4812402, 29809819, 39952982, 24666744, 39798560, 35041949, 33278800, 39595820, 34436158, 14374568, 20787140, 32889677, 37852393, 19914371, 16531382, 31718961, 22173055, 34064961, 34052125, 13535779, 11548302, 17881253, 35315196, 34280553, 36286687, 14552778, 21591641, 27511724, 29414272, 33258558, 34079714, 22569981, 38558068, 3738381, 31411523, 13015304, 31585007, 24195825, 16102777, 22584372, 3199171, 40113977, 33097709, 37350450, 31006448, 35641483, 37468485, 2412562, 31681471, 39055550, 31592063, 8917068, 33016645, 10507864, 31626171, 38253719, 34406198, 36365051, 38295926, 18121802, 37335170, 31157225, 9285086, 34707280, 39732970, 19849853, 23238278, 4023207, 19528520, 13712111, 15226519, 12902473, 38943315, 23956353, 28084511, 1290030, 16761873, 30512483, 38387671, 29630499, 30631967, 32199115, 29053163, 18834756, 12597058, 35123449, 22037771, 13811863, 16554224, 33046828, 32895858, 27558357, 26664685, 6403259, 29969091, 34747233, 19873620, 11726305, 17073288, 39555127, 10182841, 37675341, 33577965, 37683572, 10598003, 28897274, 27033651, 7008511, 34125613, 34823078, 20305410, 23824758, 36871412, 29497327, 3283990, 17214664, 17225739, 21925007, 9594324, 21723417, 17959627, 20992742, 21854141, 22834387, 36938633, 32258706, 25991932, 16004277, 39179799, 16741057, 15933516, 30603349, 20335018, 1232904, 26942689, 25919214, 12785235, 22578809, 31011971, 15310348, 29544471, 16842915, 31942030, 15538215, 11783384, 5625013, 28749143, 40057128, 34853769, 32604426, 33651492, 31495208, 19244779, 13095303, 30420013, 34248145, 10719075, 18625265, 27138586, 26218339, 37660718, 37230668, 30681566, 31799878, 27892802, 39050046, 33503743, 18553298, 38491461, 32406568, 29133629, 4485509, 22259318, 25040875, 33887206, 30636279, 37164127, 16747125, 31627248, 37866736, 39844041, 31966636, 29810114, 36464283, 10788771, 37841315, 31187170, 21038885, 16121387, 29930401, 34183004, 39083109, 27482500, 37418470, 33607563, 26922648, 26468750, 7878341, 19188981, 34381564, 33336977, 29978236, 4413976, 21970340, 17330139, 38885375, 22646090, 39604461, 34326900, 39067732, 26979046, 37980248, 15020211, 35785375, 23396069, 31788730, 9881431, 15605836, 30621838, 18148953, 35501568, 13735422, 39891501, 10000917, 37908747, 14509996, 4721045, 27447684, 35298387, 36460637, 32195377, 10569853, 6332691, 5253773, 39245557, 20861086, 35706336, 11107750, 35381080, 35635870, 32112636, 24439069, 25778761, 18177900, 27468423, 30057207, 18625609, 21297044, 33501335, 5333898, 33958158, 16159766, 27982254, 13115214, 30788122, 26256239, 25939220, 29789437, 34074357, 38119543, 20072870, 15153876, 11139038, 2678991, 39284842, 16920700, 31768395, 10675136, 38826426, 26910708, 39869423, 35800256, 37082319, 3009686, 12573198, 1296042, 2853683, 7225073, 6805371, 6968856, 29986185, 26200463, 26515595, 35967169, 32397172, 31526627, 29111184, 39378331, 17544424, 17600823, 22925285, 28622862, 37724235, 30024695, 33061013, 28173170, 24496320, 37347767, 12684112, 31972071, 29241228, 31433989, 22675221, 38445138, 15777621, 19492409, 19303678, 20140420, 17368790, 38152350, 27207394, 23485114, 33023715, 31865576, 39498211, 39350364, 15403590, 25491265, 35888617, 24278534, 22646452, 28090321, 18244214, 29687406, 33900892, 25777957, 15977128, 10590126, 11641493, 33460369, 20786895, 21516860, 31974544, 31035015, 32046876, 25999825, 29358399, 26941037, 33181560, 16516623, 35119368, 39974474, 22635675, 18134889, 34972010, 23556937, 28248765, 39876060, 28854431, 2328235, 32552659, 34073052, 38405389, 29962014, 28463015, 21877550, 19402595, 33970373, 28195810, 16567249, 11563890, 37150360, 33627886, 34137388, 16243437, 13262006, 29461813, 13523070, 16977385, 34133931, 21056028, 25038218, 2955412, 21630747, 30845735, 29823338, 28314847, 37659782, 33591154, 33990751, 7378212, 25658540, 23544788, 29339859, 7225518, 33203614, 39334638, 28413417, 35242055, 27972102, 38558511, 33210107, 36831137, 37703220, 25728889, 33651471, 27221600, 34970154, 29425858, 26884031, 25148611, 36121832, 33755361, 2509260, 22362806, 27070272, 39316241, 20344505, 5485795, 33748619, 31526693, 28553548, 1235618, 10844282, 23531421, 12689601, 10111212, 29020839, 30772588, 39802429, 40111271, 32773671, 35024512, 25234076, 30383868, 11883634, 31675756, 33578496, 24975310, 30627899, 16874141, 36446781, 28144350, 38113585, 10806866, 14327247, 15078683, 21030613, 27157654, 27376327, 31793569, 32727964, 14770917, 15653966, 27498925, 39706256, 24603219, 20754434, 24934604, 34321351, 33829485, 19937210, 5529672, 28554658, 29115026, 37820584, 39957954, 28721397, 38986074, 16925661, 25105609, 7856296, 10831865, 19024674, 18414677, 11111071, 15524030, 9174483, 7986371, 36844279, 39633231, 17313381, 29179422, 37300914, 4697043, 23028999, 31318245, 14425133, 37456821, 12994178, 40110468, 35790913, 17219490, 29747458, 434353, 9367994, 29230842, 20109911, 21835236, 18552587, 28961443, 27902345, 21251927, 35515474, 8814250, 1260649, 37582177, 3723314, 32602019, 40066439, 38648220, 6072470, 15209386, 25139235, 34939247, 14692029, 25819307, 35272878, 36039723, 5372007, 39761767, 36139883, 2463196, 21105803, 29332568, 13237941, 638360, 13504885, 32686828, 22542866, 9001509, 4875285, 11076438, 37825743, 35977103, 21728565, 25533315, 22760307, 38460918, 38665404, 7353973, 34847005, 39375912, 15453608, 29544571, 23328588, 38504605, 38568687, 37834417, 30851825, 35161225, 39084289, 16209366, 23074783, 14233996, 33485079, 20479951, 39563672, 32367180, 10052912, 35972960, 38491717, 32813835, 25949506, 8695495, 36850417, 16935894, 28114492, 19646562, 7147785, 39216533, 33309895, 22354484, 28080165, 1753460, 13276218, 21807483, 33861219, 23912373, 24290832, 27068570, 23591507, 23675484, 29565452, 30844089, 33661954, 33463904, 31124492, 17776136, 32582458, 32098479, 34650919, 14527011, 13114571, 35444075, 32744997, 28844727, 10082352, 22147757, 26062064, 33442684, 15596432, 30956306, 2210581, 20718718, 37421539, 27288583, 15668184, 29068477, 27254776, 15440785, 17444608, 38668066, 31236938, 2522651, 21770263, 22389989, 10003751, 4026080, 28401904, 36174723, 7771318, 20253656, 26526096, 14187155, 34131784, 3387691, 33368106, 31372603, 6522446, 1290717, 37772551, 38957159, 37368005, 32611511, 35928812, 20917289, 38599741, 3977408, 25684740, 23594517, 9354101, 1731971, 16879640, 24960867, 29742975, 31499367, 11373122, 27725039, 26699113, 27118687, 29325458, 38515977, 35671713, 27238212, 21809914, 32446888, 2060972, 21875900, 34938825, 37007234, 35557099, 6655255, 17241270, 35547803, 33410911, 33718453, 19176483, 35754203, 12717716, 21572175, 17346434, 3490738, 16641844, 16560840, 14241636, 653765, 31925474, 25817387, 8639378, 5235916, 20929878, 32528162, 27285359, 9806058, 32437705, 12521683, 29844788, 33628967, 38222868, 14719654, 9892658, 21348956, 24045816, 16810652, 29779487, 2928686, 39332792, 27382384, 33461349, 15277417, 17769286, 39868437, 14310579, 24958010, 27929285, 14765173, 23087874, 8039422, 34305003, 35472392, 12286655, 38947650, 3982095, 17396873, 34430454, 5985832, 18793894, 2869586, 19415456, 38011855, 11977730, 38704936, 37914320, 11718852, 39585570, 39375250, 40037615, 25101605, 15198411, 19456559, 25378481, 18480630, 10693940, 7592592, 34180843, 5670637, 7996286, 13241391, 30945763, 12790725, 16756615, 26424452, 12325608, 24200154, 35717660, 21833579, 25247895, 39646403, 31807945, 19861024, 22464900, 18106206, 32109777, 29709951, 13165479, 4084385, 36000305, 17763079, 2550980, 29196839, 32273596, 23177700, 34005742, 26040223, 27407485, 23102021, 37492705, 33945175, 34929399, 29933732, 26182754, 33375650, 25981251, 24019850, 30418959, 22467845, 28496801, 36352998, 39964791, 9118739, 30842788, 39860219, 19965680, 27259504, 16710112, 29979274, 20059427, 34703936, 21587916, 37370843, 39849584, 17625554, 11751315, 14149082, 39258783, 27900831, 31656572, 19458996, 30327955, 5355121, 898773, 33490506, 36533315, 27767713, 25891771, 38288214, 4874446, 39496096, 19103785, 12829889, 11040604, 27033679, 37803723, 1338714, 32686248, 34380106, 20446526, 17441769, 31541674, 32411915, 39678854, 33215643, 15163762, 34849651, 39153266, 27100315, 4014621, 28927951, 15210148, 37823571, 27022074, 17323678, 3409856, 25186358, 36457613, 21802749, 15801027, 26672980, 38862949, 30958670, 35691061, 37913915, 26286464, 3401123, 22331578, 27435614, 34156822, 33531706, 14139258, 39459121, 28302449, 21976556, 13858069, 6975808, 35227584, 39834047, 35511631, 36389508, 38704774, 31521357, 10756427, 35259423, 18066269, 34860098, 29778526, 39567653, 33285891, 40007212, 17435554, 11903325, 15726618, 16437245, 36313515, 37079894, 26469470, 38117094, 39573845, 30882329, 29525596, 30289153, 36605010, 39464626, 36312504, 31362897, 20034319, 10832956, 35548839, 5431185, 28595630, 33238537, 33602157, 26948784, 4110665, 28950844, 29330851, 37532099, 36195485, 37668587, 17547618, 35994855, 12023488, 37279474, 30159224, 4274554, 37552701, 28060980, 27682174, 30343156, 12987178, 34451910, 28295155, 30760698, 16333539, 18203641, 28523553, 39948458, 19046243, 32056001, 29481069, 6906132, 23268615, 33221020, 30761207, 27093870, 9610959, 23930302, 37800255, 8246484, 36444143, 27842428, 29832751, 2199303, 27025051, 30855559, 23327161, 20148691, 18232524, 25602790, 20110627, 34953802, 27027680, 6245382, 3009760, 20667919, 13708025, 17139954, 19201290, 32199744, 38460244, 31922682, 36008229, 26204801, 34559654, 25350987, 36683197, 33797126, 11978037, 36532911, 24554747, 23113231, 21211193, 24638872, 20249004, 35731069, 21203142, 37220804, 38115589, 32873378, 9219094, 21504669, 36837385, 39585179, 22421298, 37933539, 5946236, 17634177, 34758804, 38793694, 6108999, 613183, 28199936, 9363670, 38946697, 20807425, 33748340, 14204912, 15024356, 32763500, 27541421, 36618799, 32723011, 36089901, 34239341, 36780377, 11943980, 36155642, 31437509, 10920082, 11089655, 31022297, 22520739, 19876687, 21915013, 35799501, 9367451, 31725269, 11118152, 20365878, 29199271, 32960303, 30164330, 28902308, 3863753, 32623405, 14156473, 1485660, 39312969, 33670903, 23481032, 38886472, 4484690, 26973849, 36420502, 22892922, 36098728, 24009145, 26388996, 40100856, 37375115, 31356164, 13023983, 15880765, 30489554, 39067831, 3437708, 17137559, 24895868, 25944853, 29795486, 6949562, 10264618, 37515153, 32781090, 23841922, 37784660, 27428008, 2799064, 33062001, 1277881, 39605919, 1384246, 24526338, 26447466, 36772211, 36586015, 32385909, 1055646, 30168730, 5369346, 23203332, 3956206, 22239029, 34328702, 32243619, 32813466, 40064010, 39714855, 34951158, 29394224, 37093750, 23560062, 22030397, 32361043, 37317868, 35392886, 6194764, 25656238, 21852066, 12957921, 9380579, 34927378, 8305518, 33121911, 17963252, 28140247, 27358280, 37817967, 38886394, 19666783, 34622806, 21616537, 22594283, 17933168, 29116443, 8060031, 37642662, 38921975, 17671875, 28122678, 3368613, 31723719, 36614260, 30903153, 18800328, 23201351, 37367937, 11435720, 35080413, 32490436, 32467127, 32149910, 22980977, 10132529, 33738355, 32658279, 28220199, 35397473, 28136983, 23428272, 17837353, 8532146, 19252904, 26807369, 26330176, 22462672, 35613032, 27751629, 25179233, 21677964, 20388130, 32759951, 38290401, 20862153, 9323749, 14416084, 19954436, 20357210, 7974959, 31131598, 39817702, 34622236, 35805573, 8410249, 30162121, 33743204, 32864393, 28802000, 33261955, 38459901, 3977310, 7456300, 19433600, 34851595, 29398597, 22340754, 25473668, 9675050, 31480866, 30767108, 35357582, 23792323, 33181128, 27673169, 17735250, 19022868, 30471376, 21655526, 21277887, 35898270, 39054413, 11998589, 37590875, 14956313, 38787618, 10369537, 36085632, 38424004, 26803442, 33955079, 36949120, 2285874, 33493895, 4911070, 30521824, 27855690, 20412806, 29653602, 28474275, 33245420, 10902987, 38060858, 18190607, 19370618, 5710391, 39206342, 34004185, 1747817, 20155526, 16571420, 31963147, 4425131, 19321776, 3213881, 31015224, 33709331, 19500357, 9205081, 36987522, 35297782, 10458437, 38117824, 11461799, 25593335, 11879784, 32251441, 35144532, 36777655, 31307594, 39918972, 24880327, 29609416, 38616544, 21537768, 23405330, 29051196, 15987208, 33278514, 37438550, 20558699, 34253156, 12270492, 9080416, 32018401, 16878574, 4845932, 37091870, 18775727, 30312566, 12225159, 1020722, 27239501, 6612769, 26352978, 11534733, 33577485, 25118698, 1491037, 27413501, 14920259, 20640430, 33783532, 16485247, 39579265, 21979059, 16767541, 30110910, 21950547, 25357136, 35491223, 12226071, 38463887, 34752817, 28031813, 30015592, 12848345, 31497843, 36426067, 23518552, 25631917, 28345539, 32084579, 15758538, 29042625, 17914865, 32485801, 37088291, 5262347, 16635623, 37532111, 21467700, 36073663, 10168944, 25650776, 15244022, 7128233, 35466199, 24597661, 29507851, 22288748, 29903519, 10371085, 20664803, 25214705, 18291204, 25266620, 25990584, 30006745, 8598769, 26128802, 38354357, 18505831, 19164913, 28942946, 18010431, 17375248, 23183443, 19953095, 28650264, 33681793, 3933478, 26707231, 8749158, 27393804, 38025955, 13500186, 38080975, 29932225, 33754288, 27329532, 16755546, 19454970, 9277479, 37824624, 39350527, 20409059, 21650319, 34292116, 2815664, 15380073, 3037500, 39524183, 31875140, 36939122, 3411025, 14802641, 34706731, 39193519, 30206666, 32782006, 27264281, 22648455, 25167093, 21718307, 27891448, 32404028, 13566747, 20164668, 18178504, 39901640, 26692902, 31587846, 10105796, 26251742, 11594304, 25572401, 8286344, 26342180, 24360435, 20746594, 26853069, 32630098, 34164070, 13302347, 9986188, 27809001, 39253073, 31642390, 15800961, 26712533, 22700457, 19967004, 19185818, 16003408, 20630393, 27365561, 26446303, 36454056, 38573405, 22296878, 20692710, 1600591, 34256687, 1367883, 33955225, 8720038, 10514403, 32509257, 8321525, 36042206, 33591672, 17040989, 29395516, 30851887, 36937198, 7208931, 33765862, 38914461, 33716072, 29131569, 20544411, 17129554, 14983184, 24201473, 30990695, 33291513, 19212556, 25393077, 15483107, 16475384, 20411685, 327311, 35914056, 20309031, 16340653, 34261438, 38975722, 14669086, 39381286, 4275132, 20436673, 4303324, 22159721, 38809705, 8067389, 17441435, 30787056, 39092224, 22951504, 11294535, 25547406, 28926912, 27674097, 36639563, 24482444, 34653936, 5904969, 39651527, 26732505, 14813396, 16943269, 25371309, 21503446, 19304591, 1853093, 24009165, 31460943, 34720539, 12966139, 39925817, 20597353, 35027935, 35490371, 22876576, 23515779, 20359021, 2212433, 37466616, 29262485, 39509837, 16367753, 22160074, 29900550, 7215850, 21671001, 31173325, 25514869, 36395253, 32566254, 21893416, 11858960, 20080851, 36129512, 19470364, 31635153, 28228345, 36777198, 22609124, 6165559, 6190331, 39358092, 21601984, 38628054, 29179919, 33659139, 23209918, 35560046, 25667356, 26291841, 32209343, 6083531, 35475012, 12936415, 8101430, 23030645, 29779013, 21679127, 27360537, 16867929, 25718949, 14126726, 19440407, 14419925, 29276349, 23323993, 4893972, 22771429, 33306681, 20198073, 26322855, 5453331, 16805371, 25480089, 39672602, 27128212, 35334841, 13674544, 20256053, 24351632, 37894807, 23983798, 4213245, 20151490, 30634285, 27452338, 6528263, 19528436, 34221739, 31018651, 30980961, 39679649, 31625270, 32103802, 28813532, 37626614, 30089637, 31432112, 18962207, 14734604, 39639035, 10264883, 35125546, 31922711, 31672584, 21892307, 37622551, 28819566, 31551012, 27117954, 19893957, 34018683, 30416805, 5222600, 21446935, 33660362, 6510437, 35444052, 32625881, 36971720, 36983967, 30661691, 33008016, 33187121, 18967687, 29019014, 38118560, 7498070, 31710124, 22616901, 36978149, 35113547, 31683724, 39676159, 7280644, 32139770, 37494021, 30855665, 34628423, 33801811, 37860941, 32290069, 23981553, 24810406, 21393183, 17930814, 25902107, 11807601, 13761994, 1752730, 15950333, 31850450, 112532, 27170274, 38382190, 35514214, 23855165, 33795083, 31929963, 30714056, 29350552, 26471457, 7797930, 8571966, 16911834, 37806475, 15713345, 6418580, 9701782, 26568791, 13602431, 26444938, 22940747, 26303233, 22941633, 32779086, 36913576, 18224822, 39903222, 29128189, 6341823, 21555064, 16772071, 17888331, 35690308, 23734030, 38938001, 5674822, 17255388, 19395007, 15350698, 33620373, 10542661, 32536725, 9692908, 39777531, 23709218, 37475846, 39488675, 25464647, 19894992, 25295828, 28015044, 22327464, 32779642, 22172822, 30413099, 24368084, 25981185, 25534150, 1229068, 30648059, 33054956, 20646821, 31930997, 3722527, 31433377, 31893152, 13816195, 32807509, 28965323, 36931754, 29596704, 1656059, 30313835, 39054836, 9783983, 38050928, 29938422, 25571684, 17545553, 24769600, 20024426, 33325859, 34810222, 29292526, 28448241, 18180145, 7458249, 37459446, 28658895, 26712708, 29955120, 38509239, 28759572, 39927318, 38959089, 4091680, 13281377, 28614549, 19203684, 35329681, 31277207, 25981771, 18558865, 36381020, 39469643, 13225254, 12055297, 12641029, 30384581, 21794282, 14542795, 30097420, 38568998, 38863540, 22163797, 37436125, 35608703, 39970213, 25631416, 12543837, 32980908, 11941817, 40103514, 24089383, 19822869, 16745881, 12590358, 20314714, 32571913, 30347026, 27803206, 37898714, 1180846, 34208887, 39734360, 28894753, 31360351, 19594910, 22049897, 38049743, 24502932, 30047992, 28478222, 11692613, 32689306, 4989049, 31955922, 9302846, 33097036, 38486144, 33646537, 29640080, 11364045, 34413751, 28325519, 39812178, 24329561, 9142050, 7963694, 16344683, 24703018, 5010536, 11940913, 8957750, 25613565, 36998986, 37951229, 8953627, 32560773, 14473297, 14554873, 15099889, 29465413, 28528105, 37199379, 29754129, 20177653, 16901604, 19286722, 26675498, 34522588, 30874459, 31033549, 36338535, 28357622, 38446656, 24083935, 27088040, 38285190, 24123705, 38978769, 29872283, 24644162, 20107509, 26191183, 11340684, 19847275, 39423635, 26428109, 21729196, 35836688, 38341400, 24682449, 26539178, 34210784, 14762269, 4237541, 29732686, 5177249, 25193482, 29113413, 26845067, 37357082, 33801514, 15863047, 28508733, 18042419, 31459883, 23158664, 18817634, 3231352, 6739355, 37500623, 29272973, 27659164, 19431468, 27921384, 38798987, 8358236, 21225238, 39571859, 28877560, 8611592, 18018680, 17690272, 32740897, 14993567, 35072501, 26443072, 36179098, 14887795, 34341833, 13294461, 12194658, 27677798, 15491861, 631463, 4117123, 35366130, 26549426, 14052396, 32634531, 34273544, 15194061, 14209113, 38758378, 22387728, 9728243, 25247520, 7468541, 2196969, 35533002, 12608747, 24973502, 15751979, 31322285, 32459962, 28348205, 17244821, 15156576, 27083910, 35716545, 29720232, 11831216, 24076832, 31757432, 35500918, 19889408, 11183750, 38380237, 36036914, 4897935, 23565837, 26547163, 9495950, 12077315, 20760280, 22511298, 34345613, 37085656, 20118022, 2819627, 15392623, 11087683, 27396289, 13662409, 8031221, 24294896, 27160600, 34304066, 19728214, 30172975, 4736475, 40060568, 25331972, 16251534, 31907010, 16093247, 39033946, 13486203, 31690430, 25588446, 25580809, 30568752, 27790893, 19348718, 35945473, 22674083, 30213063, 36313651, 672172, 20249793, 34169410, 28157199, 27973985, 28637763, 15885937, 17431108, 29771895, 18879667, 17462011, 39730468, 35062395, 35253971, 35561625, 35794485, 10816241, 28378070, 19730036, 16993408, 7630237, 24216538, 9590902, 37891608, 31686899, 22318717, 21433084, 35143749, 31729552, 35447057, 19841506, 25694411, 30020707, 3424741, 18025411, 34753981, 11518168, 10941952, 10859502, 35423667, 5382188, 26232936, 36702370, 21480411, 33049397, 11587588, 19145101, 21566437, 29659578, 11273504, 17422401, 14676260, 2298723, 30116696, 31197478, 13003575, 14892014, 7266747, 30546889, 19062576, 16256913, 22079786, 13063691, 35078342, 24843573, 28701878, 30494167, 31194038, 13318136, 17737857, 16868192, 32150385, 35444603, 25049523, 25148829, 33040582, 15572282, 11638071, 31501999, 10442542, 39078078, 20531424, 24558573, 28329409, 39099591, 24238918, 33711549, 38271768, 32280588, 9919342, 23515425, 33506528, 12800836, 5227719, 27621407, 18160906, 39663866, 39497583, 33863813, 3842856, 40065703, 10022405, 29852419, 29820705, 23614042, 17217225, 23877419, 23636454, 24833549, 35961523, 27068098, 8111737, 2033150, 21903619, 28701573, 4587553, 34453876, 25130717, 32411615, 33269105, 39380403, 33260607, 20434932, 13684192, 38072738, 32708488, 2544055, 23030106, 33928864, 21735028, 27424678, 33440624, 38402938, 5003229, 39478281, 39192442, 35773956, 6256183, 11738181, 25222275, 35784900, 11769607, 37242148, 11475858, 35918831, 17903035, 31416388, 28565296, 2858880, 29860139, 33123004, 19461747, 7592097, 32939039, 5390362, 24065603, 8409225, 10601373, 25282685, 13006154, 14818667, 38702682, 30388022, 38970840, 32312147, 33425068, 36697274, 14348288, 8303993, 36522020, 7282905, 34145556, 33317791, 38838407, 22981392, 7907303, 25290379, 33434169, 32698614, 18045565, 22751134, 17788850, 13751014, 7795345, 18043537, 21186031, 16903388, 10165102, 32422248, 20909576, 9866178, 25625529, 23917550, 30609467, 10826342, 24808900, 14981110, 33291027, 18253589, 39037782, 35942067, 18953188, 24035815, 3200467, 33074236, 24371106, 28804957, 39674898, 34056217, 33485717, 30646679, 25006027, 31437478, 18772636, 36489254, 8552578, 17498541, 2529978, 16620172, 22671980, 39619973, 18396051, 12410617, 25705507, 5060659, 32334390, 21625329, 35044115, 32501215, 21716858, 24588555, 10159537, 30688593, 12746458, 22936995, 25167525, 32383841, 27906068, 19891381, 38336518, 38683217, 23686479, 26597009, 36535334, 2446056, 18540028, 28353897, 27248818, 4542941, 30013362, 29457679, 20369840, 5843518, 28644333, 25348077, 15336869, 24691695, 30963705, 36686255, 4111096, 33635342, 31066604, 37098313, 38387310, 33129985, 22268175, 16426550, 18625778, 25231192, 34789938, 5946905, 37783760, 11842816, 29946424, 6207962, 4549459, 32196844, 16802180, 22388641, 17300506, 10558875, 22616288, 12237399, 21023901, 32305857, 31818482, 14139140, 21657407, 33945215, 22223017, 34828174, 20695097, 30323505, 13624573, 31995810, 11234040, 25702483, 17031869, 18493677, 33960334, 22326305, 19025623, 10729920, 23030639, 32473343, 23581480, 4925371, 33145399, 20882202, 13434059, 24564354, 16787248, 23727276, 3392947, 35173116, 24354084, 20085955, 4839972, 32733156, 9121785, 28904134, 31091954, 39170944, 28349213, 33314155, 21843971, 31323639, 25930981, 19711739, 8396361, 21642488, 35430036, 2051552, 30003412, 31838288, 10227359, 39892170, 13106368, 12608152, 315381, 29502515, 22574770, 31012533, 26437929, 5364357, 24310407, 40141572, 30922736, 28467446, 15641502, 14856385, 28639121, 18602733, 39906048, 31346169, 3658215, 25530807, 23420655, 18851515, 25732446, 18459568, 20609128, 17580162, 24209497, 19039475, 25186491, 22426586, 11264005, 24337111, 18877417, 24722484, 8541783, 19407330, 20970413, 7098530, 16818293, 16246826, 26167132, 18350913, 16803760, 29520189, 5761090, 8731454, 28400803, 18086183, 37586572, 19212314, 18109020, 29766300, 29175659, 292167, 13611591, 35369046, 31808826, 23514260, 5478049, 23896773, 22384099, 3706856, 26260262, 10324922, 31069689, 10543480, 7017193, 28334871, 35397208, 40071919, 35347373, 25864955, 25576963, 34445692, 39429089, 889045, 27361462, 10082436, 38152799, 3996391, 20951933, 7559692, 1549716, 18734194, 26247639, 12756075, 12345047, 26389487, 3141032, 38476906, 37421299, 26287047, 18733903, 21439861, 36790980, 1648537, 38640954, 17862432, 37150810, 24111102, 16193521, 18069192, 34304665, 16992256, 12117035, 28313298, 39038371, 37694908, 35005323, 39733358, 39301366, 9952237, 3328995, 35845472, 20189150, 31894213, 25839581, 39135065, 16736010, 9525679, 12001115, 38014994, 10398682, 30263531, 27064341, 28295085, 38112451, 28783146, 30446981, 37813152, 30919794, 31385457, 20666203, 21538978, 16360432, 35999123, 26641765, 16267926, 24659151, 26588327, 5599296, 22071517, 37929294, 37838023, 15672457, 38888377, 36706229, 23952072, 38996646, 26022975, 25735506, 33663616, 11350214, 16686442, 33551866, 39754222, 8006551, 18340576, 3024331, 9857362, 15961166, 35811624, 28502698, 30005027, 34342341, 39597065, 32614357, 11237295, 25959548, 22868190, 14448310, 8843410, 33021805, 19549207, 33363527, 37497894, 39938210, 33093333, 37197191, 32959463, 12461814, 7838290, 31365168, 26524968, 8630125, 23395170, 32080257, 11792258, 27830916, 20456240, 18303401, 35261773, 35689153, 27156780, 17983289, 35205551, 17768466, 398560, 22333148, 29449680, 13539339, 844681, 22267480, 18243607, 32795500, 38904253, 23224483, 5697585, 25530998, 29480411, 13030459, 12999930, 5888213, 10182664, 34155452, 8609597, 26588945, 4698341, 17285178, 24829843, 5598340, 12206706, 18093183, 25291902, 21705441, 31387113, 38154673, 13205712, 25945410, 3519074, 23689266, 29134165, 35737992, 5812942, 8207860, 14443104, 18616734, 3801576, 26644810, 35737883, 26901361, 10068246, 1168517, 29818101, 7769144, 32726226, 18040752, 30237604, 21855764, 9124883, 20240239, 31327131, 24747191, 7950497, 39111429, 22928284, 20893077, 10199507, 28396120, 38852589, 16365889, 1279087, 39043801, 10661573, 1423260, 21105463, 34454889, 27890207, 19817767, 35481804, 25991637, 39418648, 13761723, 29432098, 35662258, 8177261, 38780964, 31548553, 3019564, 26559372, 31963351, 21993713, 34915072, 19660224, 22247359, 24282229, 26476890, 10219705, 30257131, 37351690, 39029811, 36580237, 9525993, 5682772, 39993921, 37627222, 26677607, 22447986, 28248603, 30015318, 39621578, 27380017, 27460728, 31915346, 32596236, 16449551, 35370755, 39234709, 30121163, 15663104, 23806951, 12409023, 33978569, 6430135, 2421396, 12306842, 38754038, 19098216, 11294235, 8465335, 26517743, 24024817, 5906464, 28798321, 27916847, 33702003, 21119628, 3197013, 31017960, 10487494, 22649534, 23361375, 34217236, 13537275, 28092806, 9675654, 11416572, 37874448, 17846767, 33110512, 9820706, 25024163, 33160054, 39103676, 38335634, 28267836, 38781777, 38862349, 11958728, 36240044, 36253506, 29620660, 32485658, 34586851, 33985482, 26263274, 1885314, 10133808, 35509257, 28752331, 31713644, 11903362, 34393116, 29205966, 17960952, 29476240, 22595382, 26436092, 31089387, 17372334, 23943516, 28476243, 37708327, 19097647, 23696240, 34655254, 5423811, 38647357, 14951181, 12141206, 36831257, 19486097, 25584748, 36641767, 36169614, 20521180, 18645654, 6716214, 30116010, 23573430, 3037932, 11988702, 39168866, 19855118, 26282434, 13527329, 17830198, 33990011, 4242555, 7051749, 3519565, 9958102, 6987356, 28061464, 31011649, 37324428, 17380267, 13197068, 24597126, 36508694, 23788884, 25986042, 31300392, 12940389, 31320067, 7679624, 25883609, 18579159, 32318006, 30256969, 36481969, 36411444, 29877601, 35705582, 18597703, 35005695, 36785211, 3941125, 26191328, 33190096, 15124990, 8817296, 25911882, 36945790, 35226659, 18176190, 36328446, 16541723, 3731341, 30748057, 20268757, 34928906, 17492512, 29472853, 32182614, 19844390, 11335790, 37406032, 60685, 3885653, 36696404, 27153759, 4634376, 8389593, 13021093, 25087072, 7679970, 13025791, 26821226, 34090734, 32260238, 22730956, 10066891, 38329480, 12260758, 15211284, 9897007, 35516298, 32148801, 19778271, 10491223, 15866068, 25044644, 37854605, 34460970, 29144111, 14616359, 33415983, 3962241, 11205844, 21543081, 36384247, 18419204, 10774089, 19660875, 33186354, 28198414, 9360268, 36671761, 14336724, 33782211, 26318806, 7596667, 27623849, 19027521, 2713060, 27698616, 17821400, 21662474, 37523543, 19492236, 11821264, 15423658, 28406350, 22269475, 13963683, 15826383, 7715820, 4697882, 29508505, 8909230, 23848218, 13462587, 26287902, 34966355, 32535483, 20248419, 34447198, 38835193, 36962606, 31458840, 37150958, 29357643, 33747048, 24316433, 20254921, 39042969, 18154824, 36033021, 12800027, 2003461, 38218740, 8917252, 21109585, 28750413, 27691566, 24455319, 37142663, 9412455, 20082168, 8441984, 29022950, 20967794, 8010005, 36988268, 28710793, 13951343, 30957101, 15778747, 3826822, 20891981, 25229592, 6350883, 26196691, 16019624, 12345125, 31661182, 25055497, 40079232, 26689565, 22364727, 24613229, 33747372, 39316072, 24393172, 32204319, 33622011, 27938765, 27137153, 20983459, 37105743, 11626793, 1875676, 28303255, 18687015, 30736132, 38739589, 37328332, 24166569, 14153104, 28720174, 27187789, 38934445, 38662509, 9903036, 4695143, 20981039, 4771096, 21360099, 13152085, 34643138, 7302445, 24747496, 19979272, 26832524, 17848520, 25901644, 18691597, 36401422, 24514100, 38253890, 36565115, 32011613, 30699005, 4659201, 25577802, 4394526, 33976539, 31955363, 11335656, 17488836, 13042592, 23469380, 34637925, 3100580, 22892293, 24637917, 15508442, 1832893, 38725013, 39777806, 30304854, 5226057, 14526275, 36408838, 6715322, 5402900, 9526390, 2270634, 36839666, 28498698, 33634232, 22294067, 7440175, 7718081, 24936632, 20940176, 29720239, 2697828, 34819682, 22985263, 21452555, 34317742, 22093006, 17293956, 31056789, 28074599, 6576962, 36353125, 8530203, 17057453, 29020866, 3611573, 27627597, 25181459, 38565110, 22858658, 34842089, 23184688, 2755950, 14969501, 15848770, 4109088, 3374456, 17239249, 2491196, 38143814, 32308981, 32151172, 22903863, 34780253, 32367074, 12044811, 31447810, 27339124, 29290955, 30336264, 14427863, 6523893, 30364874, 28505808, 22292425, 39698935, 35151243, 11795498, 28510996, 24049174, 7182469, 27828759, 13930458, 27128389, 34261346, 39257759, 9470142, 1698217, 39231204, 22992579, 17477730, 24102980, 20384553, 17942834, 39183538, 31963124, 24094417, 27322586, 18549236, 19216424, 37107967, 36852306, 38452625, 22370676, 29405344, 21261330, 13409093, 30321551, 37519105, 13743437, 21773824, 29983298, 32959072, 29539629, 28204362, 32673459, 2127188, 37359901, 26210449, 18472262, 21972863, 3728292, 15171649, 9015293, 18771354, 34260750, 38212340, 10444305, 26547659, 21638433, 3712445, 29380285, 13425580, 2039140, 38145894, 26867730, 25963199, 19973274, 9474395, 6973847, 16580665, 35231285, 35990084, 33295985, 22822897, 4094382, 36240850, 33128147, 16468330, 12487415, 36552516, 33441296, 6276115, 38198606, 18796972, 30834159, 40019664, 3159524, 11993606, 27622591, 26717524, 30170556, 9490379, 3468881, 4295591, 14907618, 22931539, 32987536, 524548, 13035963, 39168177, 32719806, 29884909, 6512027, 9241858, 39536390, 26414617, 34464275, 32848053, 1936837, 6393620, 17834650, 17563226, 34457837, 32233150, 13866696, 7865958, 36268843, 27860309, 23601790, 30139340, 31833380, 38391633, 37691988, 10852873, 35902103, 11095430, 36983172, 36010903, 15619823, 31367466, 25327773, 21356122, 30775806, 29300364, 19598454, 8236020, 31329425, 12749065, 26406467, 20711350, 7520622, 31740323, 14631157, 35974139, 30963604, 31915018, 31084400, 19458601, 19021240, 10463898, 11563615, 34788438, 33246669, 2143235, 22078396, 33290283, 22937418, 21824167, 10042971, 27484165, 25830741, 36944943, 37023556, 3936566, 34685325, 32348435, 39211458, 17550447, 36248147, 31096500, 37797279, 10067891, 31091555, 26094958, 17090691, 28593502, 3879534, 35736783, 35839435, 40091243, 29415599, 40059284, 19254974, 23858773, 2019005, 27032764, 37273096, 7812524, 37615003, 34078683, 31418625, 6402980, 4112337, 8012320, 34481482, 28253996, 33153317, 30276448, 34912481, 9546273, 14417470, 29864225, 39570504, 32604631, 21266637, 27542418, 33816071, 19012710, 35135182, 31198518, 28190340, 31075881, 31503698, 33781478, 27913067, 15845693, 39550452, 23600976, 9748289, 31350962, 19750096, 25555638, 7754221, 31599730, 26878540, 10663175, 14012378, 2979703, 33155448, 31225304, 16440267, 27583042, 17068486, 37582263, 33629520, 30665864, 30317177, 39636439, 31276484, 26553020, 39397897, 16235770, 30516431, 34771725, 9059033, 10105358, 17407691, 17812345, 39904862, 7825673, 2591465, 21752077, 38505706, 26465299, 24413533, 23580225, 25170209, 21611512, 12683290, 7664483, 35574406, 12207991, 17621665, 9252653, 29970014, 11949499, 19286881, 12152144, 39594066, 11026322, 32026701, 34698955, 34231890, 37692683, 29437501, 39865885, 31544762, 39226455, 5829415, 33154665, 14687890, 39073067, 30441820, 36997502, 36637790, 19826016, 5482917, 21196466, 17329217, 21141143, 10059673, 14308265, 20705832, 19094896, 17857269, 16581025, 23222524, 9577856, 25303029, 27240757, 27137574, 18948542, 17095821, 15040882, 39054914, 31640086, 39402154, 19652897, 34543349, 15103484, 19826842, 36075384, 17746999, 21120422, 39216777, 30297275, 17242268, 31995815, 17785942, 19574090, 17567822, 22074049, 40094588, 21059203, 9268771, 23357924, 34700572, 37400690, 889143, 39479563, 36207318, 28311708, 9447695, 26960309, 34167957, 29090167, 40078607, 1541281, 5341849, 15266946, 39029801, 34627955, 24083923, 15954001, 31702653, 14308618, 16816379, 31272626, 7421068, 12790729, 38281928, 9623065, 37381249, 3351218, 28144969, 37182735, 36088385, 22061087, 32038152, 37455369, 27129454, 15477330, 15982746, 36537949, 20933703, 4651870, 1656859, 28145273, 34119386, 26109602, 16139471, 12043021, 35755755, 22222381, 35922714, 36288024, 13442431, 34888467, 32424555, 32215422, 10985490, 1622314, 27814857, 7848880, 34718938, 34870453, 39638172, 23385684, 33337245, 9378824, 20018637, 12127472, 21178424, 14800970, 39420373, 35632584, 34133309, 19902971, 12308306, 17277694, 25031008, 13863519, 33600087, 25865404, 39193133, 35494873, 14857102, 35802134, 28904325, 3630982, 5671409, 38801092, 16491026, 3687223, 29812013, 2610581, 24468436, 32887127, 39513262, 20449725, 36420553, 28795044, 39924181, 33333466, 31656414, 29447868, 31077559, 12876553, 29892954, 40014283, 4981977, 25154659, 6339476, 1907137, 27635248, 35194444, 29576396, 18780232, 15814855, 34315533, 16313840, 21511831, 31665775, 33914593, 31155153, 35108294, 31622013, 372102, 10785688, 28420051, 38908846, 33822793, 24548279, 36034216, 28439159, 38400373, 5649514, 27588522, 33265366, 21168270, 25564748, 33071878, 38436065, 33535146, 32680030, 25554263, 10471016, 28727241, 23055361, 24437293, 30091116, 11020636, 31981127, 27102235, 35320810, 8371858, 20893839, 34737417, 5110536, 5900683, 20453210, 5927031, 37823962, 23837696, 21366290, 21593816, 2465719, 29001695, 29273500, 36164433, 2202360, 36686732, 31843550, 31079444, 23138399, 34424605, 11150239, 23890361, 30019850, 13144539, 12448401, 5577425, 16794663, 17380390, 35092563, 31107132, 25797512, 12525453, 25799071, 5032626, 14732345, 36592224, 11502672, 11506018, 19775670, 19885328, 2960737, 11118473, 36619854, 38953278, 36524694, 18589845, 34405097, 31975921, 27448200, 6639522, 28028384, 23523544, 25300644, 33882402, 35977334, 4236243, 27965998, 5688776, 31719089, 3618193, 39431340, 16466209, 27012594, 24664250, 27994229, 17286068, 8323369, 13168761, 21773834, 17226119, 580993, 12907026, 2154116, 11999174, 34133573, 20768783, 38011333, 21992519, 38228461, 26297224, 17378697, 29030502, 26188295, 31249597, 3463650, 32842217, 21471488, 17152663, 36387995, 33837048, 8539092, 16774064, 24358280, 146607, 17896599, 35915739, 22716745, 10397296, 34676351, 26332238, 21456557, 28511343, 22544837, 330334, 39754352, 17158791, 5828560, 27327763, 13794804, 13177492, 5527223, 12846466, 21151224, 21484070, 26348597, 28823365, 30378482, 7807289, 40032632, 31100320, 29385745, 18579297, 30753672, 34817015, 6419478, 35828996, 34338341, 30665977, 11550763, 18307551, 25162891, 36884417, 17203604, 36182906, 35128562, 23112733, 31411625, 32598118, 26824435, 15575420, 24857005, 20695432, 18609153, 39938929, 25766472, 31087629, 32975407, 29433819, 28863863, 18702165, 21657269, 23911769, 23264172, 26915216, 34840680, 16928797, 29333208, 7543071, 4126249, 32392326, 13915542, 24596817, 17345278, 27273210, 29037335, 25103176, 2419147, 37615753, 25447791, 20947487, 33144904, 29243327, 18750680, 27216944, 9278950, 19957901, 28869150, 555344, 20831223, 5865898, 11990076, 35506424, 20487713, 10134622, 19650737, 34465869, 26455221, 31534559, 20729414, 10256340, 31916471, 38375234, 5518234, 33171025, 13205982, 24517055, 32382967, 26986432, 589833, 29675262, 22540410, 3070655, 21655607, 29353140, 33092948, 12663354, 21624047, 27191433, 29916065, 31659576, 33066075, 1870954, 26079117, 32248620, 21350703, 38845217, 24083288, 22095850, 36980341, 24919418, 6364688, 17684937, 29924868, 22444215, 15054503, 21730805, 14366401, 19993637, 190967, 22240724, 34380633, 22753371, 30073133, 26391805, 30278454, 15065436, 25533642, 36271549, 38506210, 15483115, 34713472, 24725498, 27469605, 23204424, 39527616, 20169754, 22912034, 27820353, 16383729, 38166490, 16109990, 39026120, 37404071, 18480610, 39332611, 33382806, 18801323, 3997525, 12016719, 36634003, 19715845, 4731104, 38079331, 24741081, 37162058, 37506804, 24877851, 13270514, 17373438, 18219341, 31307373, 16803787, 16395078, 34849277, 2058261, 35282765, 13114430, 10071295, 39983712, 15973373, 14624765, 39219302, 23554088, 25766861, 11902865, 4278313, 37794949, 32082285, 5287381, 32638956, 18484846, 20134900, 37032174, 2945364, 31014673, 15530399, 11897977, 27079869, 13248850, 1340162, 7367213, 23197775, 13566052, 29574200, 11370079, 26986655, 13883257, 29727339, 34954086, 28092233, 7797004, 22664851, 11212014, 23803861, 5558837, 29628820, 25357135, 23228352, 26394703, 30674845, 25393269, 37021625, 3595858, 27139157, 38251735, 11971696, 14887121, 30033161, 32492702, 4182331, 3524364, 16396471, 33658582, 1659759, 6992545, 34923554, 12409894, 20479098, 15301832, 13316644, 32765675, 36541550, 11287095, 39998520, 33907853, 24247605, 34472152, 36952283, 11995587, 8029633, 12533955, 6968346, 33406313, 31887092, 12949694, 31022749, 10305699, 23767159, 14550795, 2149898, 5302942, 2870444, 35457320, 17371058, 7045883, 15789343, 26262426, 20734011, 10438668, 22831909, 36594346, 12345400, 26508291, 26027044, 27926697, 17059155, 28907441, 32669924, 18459573, 18622681, 24748445, 2092956, 36609265, 37030431, 4911199, 23085725, 37115369, 6859763, 6737846, 37540405, 8375329, 13742447, 24885262, 40042524, 35913222, 39901550, 27447671, 35687531, 914913, 30797581, 37882805, 35485340, 13405223, 32441886, 31686187, 23281719, 29376604, 13947933, 34682922, 2439345, 9253652, 28465355, 37858345, 34967543, 15553516, 1249670, 23464619, 9324655, 29894778, 27613569, 16231765, 1407435, 32101943, 16225240, 6959955, 21853425, 40091435, 31584188, 26712796, 16093187, 28240391, 38752653, 23747211, 8143682, 10804345, 15337731, 6391699, 36360828, 32977318, 7864993, 2053937, 21891247, 5963225, 4054690, 29907990, 35280883, 26708951, 35070544, 14182339, 35754242, 40107690, 32964986, 29136734, 30087486, 23160913, 28591423, 10543226, 25158819, 29225197, 34006169, 16290237, 360600, 29197620, 29465599, 20306382, 17019235, 17118811, 37449199, 35995778, 11747625, 6704130, 25485847, 32469962, 36557903, 11834344, 40024643, 36407796, 1633181, 10491537, 35491409, 603199, 18772944, 18237403, 17218451, 23238278, 35651857, 17556792, 33013183, 14291681, 23385311, 11291089, 31390470, 28294278, 19641929, 9127782, 28840908, 40005479, 21201260, 14446449, 24041720, 7397879, 21955188, 39360329, 29526482, 17920366, 29263680, 8022530, 38693276, 5214177, 24472957, 10463487, 18933711, 4085121, 31296562, 22730523, 8063525, 6550230, 11357851, 24968898, 24490126, 5653118, 20809931, 16291217, 23966730, 10962983, 2536684, 17815186, 29406829, 40020173, 21288307, 20281946, 34424050, 14232858, 16158327, 1376835, 31793129, 11964540, 8640840, 25640360, 27395868, 35596628, 14993135, 11761521, 11063880, 38415176, 14033832, 35793699, 15702262, 38616916, 16357095, 18206284, 7728694, 30119564, 25555661, 30766052, 7000900, 16842915, 16460074, 20244096, 17753245, 32487464, 31688188, 19595110, 35922052, 38822484, 1998104, 24906723, 10042350, 32589692, 26281814, 33642522, 33731485, 26340703, 12841774, 35560987, 32981050, 31900701, 3549910, 29931580, 29195919, 24165945, 11818023, 36066624, 27812668, 32707334, 36498478, 23671560, 28623969, 14949090, 3826867, 39455366, 38941138, 18317317, 39477394, 24291432, 9726290, 31532290, 11268805, 1352073, 35890967, 24736291, 12425520, 21050890, 36535304, 14741965, 11191945, 10079962, 24233036, 16881577, 15929233, 10081060, 33919830, 2701063, 26920024, 21500736, 34632702, 38251597, 33273172, 10492180, 37416205, 10793504, 5177850, 37674605, 13886363, 16761652, 38436191, 29271718, 18000386, 27458476, 36519738, 14591328, 19167107, 29160807, 24767031, 34882719, 7679119, 36715931, 33029167, 17764266, 18882102, 32998929, 37444764, 14918122, 39957573, 23840614, 25403874, 11407879, 10889564, 8403856, 34339867, 32510891, 33197707, 37958897, 28699786, 22835039, 18533086, 24715787, 12674426, 29483584, 10118032, 26723712, 21290946, 39637955, 24918663, 28387503, 30349818, 1789009, 12949634, 39356631, 14133728, 31551902, 38169446, 17296318, 18177900, 33282095, 18136706, 3967153, 14788302, 24711650, 38991497, 26135859, 17144809, 39473595, 25199812, 20818541, 25356287, 4218502, 18314219, 19818372, 19726079, 9018045, 22457982, 3268198, 17395872, 37798808, 17428161, 2161519, 31287760, 25197944, 31924221, 14842177, 25620233, 38042750, 29837544, 27534022, 2654856, 16929149, 6051378, 23998929, 28599361, 31718706, 20338188, 6502592, 35457358, 31967105, 39595934, 923472, 9815414, 38523110, 33419496, 30240843, 27371724, 29731531, 27642306, 33095377, 29571649, 26933583, 31477495, 17013370, 23551988, 3833791, 19953197, 37033451, 37842552, 29186283, 671323, 30983522, 26736706, 30771108, 20538600, 29936568, 9549482, 2940909, 39189794, 13519894, 36297861, 26632739, 25518647, 24272937, 29145778, 37123594, 9779559, 23733003, 23550991, 27514758, 3320214, 34519246, 29583291, 12555534, 36079749, 5454322, 31412931, 31624429, 21496897, 2281263, 3905509, 25945274, 3100896, 14892933, 19823059, 25481716, 10423385, 12863188, 39067585, 33558972, 5629907, 18069615, 27113781, 34516418, 31254100, 11292648, 21506285, 36672419, 38688827, 30924509, 39291618, 12999419, 6017948, 3234114, 15623887, 3702910, 17595979, 24329919, 20308654, 35639658, 22239464, 26322449, 9981624, 35008677, 5797516, 23863632, 14064465, 23760446, 11874553, 2596771, 37044652, 22130847, 12610154, 15366282, 16945408, 28780727, 24771389, 33333268, 30666827, 27215466, 34205215, 14195248, 8370147, 16401817, 29903338, 35742243, 5834180, 35713900, 903562, 15533160, 27739407, 29906947, 18282099, 20386207, 22959474, 16485613, 25590527, 12714108, 37095205, 25251055, 19612822, 26824643, 38246360, 28608702, 24637118, 40003311, 21270006, 3166619, 34014783, 32574287, 36615892, 31348291, 20940074, 13144883, 31057845, 10260289, 40109204, 28260733, 32394604, 31294758, 9950559, 30855314, 31415431, 32973682, 4345361, 22384336, 27999037, 33838808, 25823119, 30327909, 19548868, 36537761, 33338308, 12908443, 28879765, 16808970, 25801215, 36526497, 430047, 19884919, 25542862, 25720623, 39517013, 22863947, 23112950, 35637317, 37150056, 2317134, 34523387, 28551097, 23280266, 29581638, 10840926, 6594220, 11693705, 10353826, 8116395, 11665582, 29426397, 22797225, 13322691, 33087560, 26147110, 21824220, 12610830, 7859816, 6309387, 26434715, 35022191, 29033262, 17164067, 31599682, 27257106, 25968886, 32235538, 26247443, 9618050, 12899758, 17763800, 40053653, 28037857, 30391657, 35350578, 32318717, 27268359, 37926542, 11375605, 17982935, 34774126, 28597748, 38857270, 12770221, 33409453, 33427989, 39363786, 14549217, 4513525, 27696013, 20108746, 5805293, 25200597, 33466486, 38181762, 15100064, 180986, 39668228, 38696855, 34965749, 650926, 20368804, 8730058, 38634788, 24975573, 28518340, 30543636, 40123779, 1897254, 22229255, 17386511, 32870159, 21731853, 38216055, 27348988, 24754410, 36635381, 16701013, 16321007, 4472458, 12800056, 13738148, 20451011, 38451529, 11601629, 21901491, 30630621, 26542036, 10898651, 32950915, 22122385, 29249834, 6792549, 22714288, 33927200, 39875620, 36068943, 21785004, 21681282, 15710793, 26669081, 547798, 21437225, 35008421, 11724725, 38064184, 24695092, 20450297, 38900564, 25700785, 38460918, 24134863, 34116913, 3964621, 38027747, 39467369, 35398777, 11693301, 36881848, 31499060, 20442948, 3142148, 23460443, 36516823, 36599494, 15428116, 11339487, 27805606, 23664011, 15175910, 29238637, 9347950, 20705035, 8815746, 28120128, 35825086, 14663618, 7342716, 30325792, 36169422, 27436584, 18761904, 34821368, 6624152, 13148480, 32404173, 34117839, 35702977, 36428888, 37275735, 7694637, 15250121, 30050343, 35205909, 23422168, 15578019, 6200108, 13189155, 37833964, 32629808, 21796436, 5628622, 28371558, 23182686, 31124492, 1608090, 25491219, 39713773, 10270407, 15831357, 31790259, 7037799, 8755284, 26283063, 25090119, 25553575, 9507819, 16759128, 23325185, 5983049, 32680744, 311763, 2758921, 15604043, 14919137, 21473665, 31195085, 39664058, 3762420, 33469428, 7506628, 23101646, 19620066, 39104792, 10658305, 28545066, 3532947, 5682775, 8304375, 13831308, 37142820, 33193792, 9241886, 18217156, 30211966, 30732696, 1553511, 23533311, 39380275, 19456942, 37918637, 19795873, 15317955, 4404492, 10842103, 20909563, 30981817, 33936124, 39531548, 25101885, 32036022, 13751596, 18933381, 31321640, 140182, 11979246, 525635, 22018088, 10939108, 6093844, 34522106, 27813744, 25472003, 27247687, 25778620, 19947555, 7752551, 6149464, 34938825, 16488850, 26310443, 34959540, 30613811, 37910557, 13941545, 17395326, 30837539, 16759896, 32571981, 31323783, 3527975, 13594578, 6788182, 36287903, 9003705, 19104767, 31568404, 11984013, 2118261, 29410633, 4003725, 18790672, 33600133, 38289273, 11870075, 32060992, 32464081, 11595048, 7033210, 22735440, 34065319, 21382601, 18989736, 30768061, 34920943, 27868730, 11876606, 23114754, 34358425, 15144200, 28638183, 26377848, 8054512, 15154857, 9806058, 36980579, 38161309, 38162444, 1484575, 38954311, 30592716, 24608774, 32039044, 10270331, 25335482, 21700591, 31077301, 2319019, 29702481, 28753493, 25384333, 15143556, 12106596, 8039422, 22438801, 36663834, 18811283, 38597979, 35617396, 29487093, 20946651, 13843196, 5866555, 3723251, 39874541, 36370978, 11230743, 36618209, 18962593, 27239626, 23569872, 39410308, 25510289, 24143225, 3674116, 19599300, 31254278, 32622825, 3087398, 31403194, 11330822, 6806224, 37440158, 26311724, 24629933, 20595735, 29644205, 12348834, 36977316, 30070079, 32691066, 29196839, 2673059, 23936962, 28664909, 36119167, 17406514, 21360489, 35456985, 36297368, 9623811, 6291038, 2999205, 12846815, 24710690, 32788020, 24423003, 19331391, 39404701, 2150205, 21779102, 2433648, 11993917, 11922584, 23906400, 36462944, 34172038, 27059926, 21641830, 16364589, 30593035, 23914526, 25134761, 21248920, 14055106, 37241739, 15944811, 20630647, 19577885, 37924545, 30183326, 18124254, 32122976, 19973484, 30414867, 15290375, 27383396, 15245752, 23855005, 8436142, 11294019, 29917127, 32339872, 30584338, 35762123, 14817782, 30650898, 21392956, 31462360, 21178660, 25223038, 22492270, 38733732, 5628786, 39334868, 9493498, 26533379, 2418312, 37738949, 27413870, 4397069, 17350752, 28619845, 11102829, 12452105, 27990258, 4014546, 23776227, 37424245, 20832127, 3734023, 12447907, 38487441, 10610074, 26496119, 16455568, 30815236, 28776796, 30356812, 16015163, 13871893, 8150745, 17557006, 28812092, 34502684, 2148700, 30382384, 13075973, 31950550, 18860759, 26306176, 6279305, 37668642, 29988566, 10032788, 35350439, 16315383, 30848110, 35520738, 6306098, 36528348, 11082604, 35971339, 19966386, 39050359, 35252743, 21434797, 31711122, 33133964, 29313873, 35884743, 24925836, 7090717, 25214586, 10989198, 32906522, 36504972, 38998547, 26108562, 24842883, 30318368, 27457970, 18987394, 24478369, 11961110, 19628241, 17696440, 3969519, 20118193, 24611784, 33004006, 3939053, 26141223, 11443000, 35182755, 29758460, 34492839, 11143243, 5331473, 19229070, 14470735, 15542956, 36291394, 28951774, 19816321, 15382773, 33193823, 19150208, 19825866, 18499084, 11280585, 6459755, 11454029, 10890261, 24368231, 12182368, 24195590, 23415609, 25417838, 33045027, 29852042, 31122339, 36603790, 13594946, 1584864, 27664878, 30529496, 3406771, 19750763, 33811368, 2734329, 5349783, 36727011, 8015214, 34179225, 20427267, 13648729, 35949562, 15481821, 32873378, 15239327, 36696895, 6018340, 38749676, 2613237, 4825509, 2806399, 21156273, 30376641, 34700076, 35714193, 8472318, 27050630, 13126505, 6264250, 3780722, 32639269, 32522898, 35654609, 32632399, 32070583, 35135451, 7309467, 14581449, 10484300, 23569192, 10091146, 33791279, 20946588, 36536227, 26233597, 12390997, 20729777, 19489040, 34867679, 24743567, 22896868, 8460240, 32918344, 15343228, 32544251, 34046377, 21865001, 27300070, 7087841, 21915013, 39419408, 15179362, 18177285, 21396048, 21071264, 23231330, 5414705, 11934812, 26057205, 2185229, 22784264, 10311827, 6584767, 23251198, 32389636, 31207361, 33456784, 22116081, 12123850, 32290949, 23172293, 23163110, 23480352, 25583256, 31327925, 26596297, 27261511, 22388001, 29069928, 23500421, 39521711, 28472082, 36122557, 35678025, 8032047, 4995892, 20779343, 16909701, 9334019, 8278422, 4427542, 33030072, 6614456, 31742756, 39401604, 14287743, 8496673, 4410450, 27685784, 28637928, 5235479, 28985620, 12830829, 21902569, 25070166, 22030397, 38616592, 28538802, 12351475, 3197765, 39527727, 29812170, 18414389, 22975308, 28519808, 39259751, 36610524, 37840433, 31326194, 27797090, 13352322, 10248963, 37442212, 3590629, 27094838, 32280871, 15936315, 27885442, 27228980, 19126342, 21564625, 29063192, 34329729, 9711664, 25539418, 15713712, 35246866, 32130029, 25149631, 29933917, 24513015, 587345, 34962109, 14734086, 25163162, 275109, 28865701, 14618160, 29343215, 27480685, 39726805, 15954291, 2796020, 37303391, 13111186, 33292510, 20415545, 3251511, 21931098, 14914804, 26492113, 30245984, 26187681, 21894457, 29403784, 35755153, 26821622, 25651471, 34875802, 31458857, 39141012, 23556752, 385558, 34666111, 21569922, 37447201, 35551205, 25423893, 31116818, 31965943, 35933829, 29521907, 3978480, 33283788, 25235215, 32275894, 21536332, 36851240, 39126870, 17308203, 23183781, 11116336, 15402721, 34689356, 11724699, 23817491, 33474616, 22561042, 12683201, 13030871, 27084617, 31244598, 22290000, 25496670, 18039775, 25083943, 37219879, 29445798, 16824156, 29134271, 32073244, 37068910, 31339001, 31713043, 14709557, 744885, 19547832, 34259083, 23866299, 14418679, 37219663, 13537031, 20569203, 13876256, 39315053, 4115585, 7427445, 13072512, 1322464, 27321355, 26683279, 31405409, 40018755, 29158336, 38253192, 3226202, 6691748, 38520570, 39164524, 15034423, 6363397, 2894902, 24307812, 8123131, 32170078, 37804658, 23658156, 7649065, 30051271, 20257655, 37509081, 6946550, 32863608, 28030520, 39787218, 24724098, 21664290, 16820042, 18432606, 26636983, 29482541, 38916664, 12375394, 36852295, 30536941, 20034394, 14216998, 10265210, 2925306, 18841384, 23457134, 29406032, 19145564, 37832701, 30994223, 9332222, 18775727, 26603216, 39798023, 31684364, 26843404, 10566859, 35843622, 21102648, 33228787, 35159846, 30097158, 33241284, 27299404, 34583172, 22275726, 16345984, 17588772, 31374442, 24221020, 22547433, 33622988, 7824230, 35677905, 34962306, 16931038, 17452925, 15097913, 6382430, 23402121, 21120378, 28527859, 14060743, 35602602, 15716336, 36025807, 4666527, 11057785, 33172341, 9031746, 12521575, 17301787, 16677925, 32364726, 19502269, 37605814, 10468618, 33483913, 7053780, 9810198, 28813346, 24893374, 22785243, 29014462, 38564927, 34616940, 21702905, 9155590, 15512624, 38540629, 30928443, 26128802, 10821585, 34169339, 14425629, 33588870, 7285980, 21383115, 26591834, 1455160, 22082255, 17902884, 32844218, 11036156, 20390836, 6741287, 14457596, 20977038, 22283487, 30743898, 11220230, 23165578, 39046564, 32026365, 21778454, 13180974, 35310343, 17765805, 38313784, 25108542, 21970878, 9676821, 15555035, 33307763, 32322670, 11159477, 33638327, 33479776, 26223161, 28919484, 32513158, 2762582, 36400748, 13854472, 23630632, 31812703, 12668348, 18258443, 26434613, 7931100, 1327369, 15768680, 19771750, 13725634, 15366186, 35620174, 33434623, 34536463, 28909876, 30930632, 21720025, 10875977, 20492581, 32505123, 19617287, 30155240, 37912762, 7775800, 11409236, 12595401, 11805159, 25555998, 34582776, 29865287, 9023837, 34602999, 11908870, 9795955, 10297882, 17927960, 33046829, 8920951, 17475563, 29031083, 30394046, 27774900, 15800961, 16878299, 20533951, 23363940, 29568451, 36049678, 39233526, 24299068, 2004691, 13179072, 18661747, 38624332, 38224480, 34307385, 29917384, 3122687, 35110533, 34688765, 19990870, 15784520, 33327877, 24470446, 28711689, 36508758, 27115212, 4234240, 4237805, 26334113, 7672432, 14335483, 10668618, 21329909, 23581287, 11103856, 20463843, 30471500, 13365460, 33094164, 27052690, 24014731, 10786118, 7757554, 25576220, 24274537, 26484951, 8569201, 26643163, 3933121, 36145275, 36736445, 22516622, 14677397, 36460472, 35797675, 30037326, 27810884, 11808644, 31663410, 27259476, 33458014, 7915812, 39493399, 26411614, 36431480, 38711686, 28453990, 28273620, 5213727, 16975166, 39699853, 10988025, 25624330, 3836335, 11610276, 25914002, 30767168, 36403332, 12679283, 9608347, 35496978, 21391763, 32630696, 36509890, 11805535, 22775185, 5823392, 11483085, 10712776, 39432754, 6226180, 2699417, 35976428, 34992740, 33881209, 38385555, 29549139, 5764642, 36896968, 30967765, 22876576, 17436761, 38517224, 39755930, 33464240, 30761312, 8961763, 30451774, 5753457, 12482228, 32036166, 15797670, 33500418, 39012690, 28857300, 31573495, 19452843, 23620423, 13849483, 37402550, 2899805, 10643674, 26266234, 33242945, 28097178, 1655745, 11275786, 3539758, 11870837, 14193369, 11331982, 37548652, 24922398, 24434690, 36430170, 25616264, 17180998, 39916674, 14165733, 12890652, 16755598, 4444923, 18041822, 18375396, 33980806, 28385673, 18364380, 31988825, 23791892, 2677713, 21987701, 15636114, 16821562, 10639450, 12374019, 33965526, 29364996, 17317351, 21484303, 21961206, 32857467, 25184823, 32891226, 20625436, 37319703, 10262838, 31724733, 9510352, 25186809, 25222789, 30506746, 28631217, 14746644, 35077867, 29551737, 39009967, 16943561, 24125674, 20938987, 36838894, 12041439, 24336852, 20644946, 38658041, 24393470, 37912620, 32679530, 34171221, 21221262, 5801945, 4816377, 30588515, 15340748, 38194992, 28666099, 30860211, 22585982, 17437564, 14417274, 21791447, 14808943, 27535136, 29974929, 28102562, 14508605, 16772173, 32981774, 22265437, 33693049, 39799096, 7372121, 16515707, 3152151, 24400630, 20927943, 12153650, 37244828, 37898679, 27034769, 17179355, 11819873, 13488570, 12523725, 2212933, 39144991, 2626995, 40052066, 8747500, 33929599, 17193989, 1996482, 10769560, 5984839, 4800665, 10236463, 20659528, 6023160, 10757689, 30733996, 34825139, 28810201, 6734459, 14283605, 33130925, 31339525, 924127, 24810406, 19964608, 25993554, 21614906, 30327595, 27963756, 19263333, 32891589, 26905759, 7279038, 33416500, 39859662, 16665356, 33220627, 27812502, 10091189, 32419837, 29907494, 30445683, 29719026, 21895526, 37744139, 22189062, 36944513, 12349004, 13292800, 25651737, 6051157, 25695044, 25501936, 22212893, 22645927, 29837065, 28426264, 27968380, 4289331, 24693054, 4862827, 35236120, 33334907, 14546646, 11472442, 24977438, 21862069, 35625475, 27133389, 32326438, 23182685, 17888331, 31419979, 22082938, 20727111, 33591303, 16559775, 3372332, 39906492, 28801195, 33587745, 35344159, 8266052, 5290508, 34820095, 34979541, 10052032, 31963963, 40077214, 8459726, 32165023, 25960536, 16036337, 20516178, 34954040, 17305468, 7864877, 27295807, 23925820, 33115111, 36062720, 17246123, 31930997, 23256340, 25177803, 18966928, 24613618, 10086980, 17783708, 34608394, 2956353, 24867342, 16810092, 30040434, 12100588, 2866783, 4182528, 18177863, 24657305, 3234194, 17553233, 11422647, 29991984, 28638477, 3803607, 6639820, 35740723, 29696641, 20282294, 6640019, 14945841, 21020288, 37091415, 37868003, 9775559, 16578990, 5807152, 38467552, 38408054, 38241211, 20894525, 6589226, 33973513, 14998399, 22930980, 29562943, 26618832, 9240882, 9102584, 22769085, 32636921, 32749057, 16510017, 19633281, 21369130, 3218283, 8096798, 12705293, 6377707, 17872188, 33466181, 19375666, 22307472, 31907906, 26513837, 17329613, 14545424, 27663065, 27120111, 27502599, 32663030, 36226565, 7906854, 29270437, 21536015, 21565655, 29484525, 34452240, 33090977, 26132316, 39730226, 24472512, 7654828, 29061479, 31170220, 33438620, 23177438, 39159131, 9850933, 21407032, 33010591, 35644293, 27739381, 1324949, 14781258, 18510807, 3495700, 4976278, 37171100, 22586688, 39565603, 39820551, 3847020, 11733262, 17476775, 23989707, 23506667, 378157, 27975951, 6442466, 19916810, 4383082, 35181751, 4963691, 17611947, 35038201, 22125782, 12211944, 25234921, 27844645, 28553012, 18924195, 27451797, 11644436, 18446136, 29132845, 37457827, 29678687, 5107223, 12829459, 6921363, 15686395, 8629433, 4331383, 25684225, 26594073, 39917569, 33787354, 13851794, 17453733, 20941453, 37378156, 3510846, 29864042, 26586186, 17413676, 38029456, 15821613, 21019923, 21307630, 28120576, 34088878, 34901756, 27368727, 2187931, 29684478, 9884168, 2710486, 8158345, 25578504, 30999922, 28822884, 33149215, 16071461, 34129811, 14557502, 33782765, 20509522, 4902509, 3356038, 30203747, 10384115, 29811121, 16405187, 25650774, 20894208, 13829920, 2480841, 38228223, 12223006, 19804175, 10844041, 36898579, 39981438, 30688650, 31979721, 2573803, 33317234, 17589579, 27987415, 34311537, 26791173, 30646697, 38661695, 25069075, 15401415, 37928771, 24937807, 17413239, 36845976, 27893953, 7588574, 21842505, 30484265, 3614075, 31554840, 19101596, 4388323, 21490597, 21593730, 30992999, 11907088, 24421111, 25152849, 25464141, 30630047, 18368086, 20110645, 1159690, 28097652, 37564027, 20286729, 22737979, 18974163, 29102400, 29924416, 26810021, 3957164, 39967532, 27770603, 39948757, 17218547, 13049840, 39475890, 4894069, 24841178, 34444319, 14754013, 29377795, 34607239, 30003263, 32477042, 25822749, 28288140, 35307232, 15676741, 10268918, 18782926, 33610069, 21339301, 15370464, 36443684, 32950627, 24778954, 14335284, 27312569, 35469491, 24132201, 6659981, 19527924, 29128577, 31171080, 31508276, 22428020, 22287972, 35658529, 9058867, 27245568, 33341000, 12803337, 11870399, 12534388, 1352834, 26497803, 20298641, 4883270, 19445789, 35088965, 23350933, 29648569, 27343419, 31025066, 25462903, 18754353, 17158184, 8797130, 37118017, 17829875, 23143036, 23419787, 11582158, 12333628, 18705128, 18805931, 31333479, 3852009, 29091829, 17060332, 28979383, 33455765, 15838278, 6746157, 23484180, 12718429, 20826104, 31140393, 4332628, 8959531, 35548779, 26755048, 31703430, 26696824, 16753013, 15329797, 18190697, 18509844, 37334428, 1653509, 9138471, 18481636, 15183685, 29284602, 37747101, 24444280, 30682810, 29000691, 32567445, 18793675, 34255107, 29111197, 5773463, 30928551, 23968446, 15908085, 23835417, 21146406, 29782866, 23025672, 16023468, 11909849, 16019295, 37450647, 7169332, 18883057, 18837267, 40017590, 29657384, 14646955, 30724715, 2300563, 23944798, 27578393, 33724111, 21792397, 1342589, 20586266, 26648027, 31256444, 15435726, 14650489, 26668152, 37499815, 23655963, 20517059, 5206345, 6283299, 31839944, 26616643, 38025811, 7950400, 24536887, 15799332, 19929124, 19372917, 19943113, 25522639, 32858197, 5668947, 27690305, 24422158, 18968020, 31267030, 26681604, 36316120, 23870764, 3376700, 30118046, 23030330, 12116127, 954989, 3413838, 1899412, 39725519, 21922990, 23744879, 25481229, 33861447, 17527432, 14838119, 30430783, 37999932, 16941577, 35726825, 15194347, 23836022, 16175803, 16494011, 15710596, 32147220, 2090303, 12210706, 21777313, 13713734, 5559349, 35162060, 39841200, 10853412, 13453999, 4495090, 6344709, 26640314, 33364955, 19618527, 14825899, 28729216, 12329949, 30438402, 20892960, 25311530]\n"
          ],
          "name": "stdout"
        }
      ]
    },
    {
      "metadata": {
        "id": "-dUsxSfl5ON3",
        "colab_type": "code",
        "outputId": "d01739e1-8a8d-4eb7-d0df-aa568e67205f",
        "colab": {}
      },
      "cell_type": "code",
      "source": [
        "quesid_invertedindex['numpy']"
      ],
      "execution_count": 0,
      "outputs": [
        {
          "output_type": "execute_result",
          "data": {
            "text/plain": [
              "[37127395,\n",
              " 36709914,\n",
              " 31722226,\n",
              " 17297550,\n",
              " 29089839,\n",
              " 39589834,\n",
              " 21486963,\n",
              " 36197670,\n",
              " 24616079,\n",
              " 35095252,\n",
              " 22184995,\n",
              " 35856844,\n",
              " 20333128,\n",
              " 33898120,\n",
              " 27649503,\n",
              " 23000260,\n",
              " 35932101,\n",
              " 17845689,\n",
              " 25346882,\n",
              " 20348312,\n",
              " 14364551,\n",
              " 23193266,\n",
              " 36023948,\n",
              " 17028329,\n",
              " 15795353,\n",
              " 23762019,\n",
              " 17520711,\n",
              " 34601770,\n",
              " 27450194,\n",
              " 35106041,\n",
              " 14912046,\n",
              " 30586797,\n",
              " 37606547,\n",
              " 14204406,\n",
              " 19524383,\n",
              " 33878179,\n",
              " 29711211,\n",
              " 15735337,\n",
              " 38579532,\n",
              " 35401094,\n",
              " 19834597,\n",
              " 39693925,\n",
              " 35639131,\n",
              " 27803740,\n",
              " 32057007,\n",
              " 19477378,\n",
              " 36522517,\n",
              " 7900261,\n",
              " 20338663,\n",
              " 21342831,\n",
              " 13300984,\n",
              " 12059357,\n",
              " 8903798,\n",
              " 23567252,\n",
              " 32130410,\n",
              " 28096243,\n",
              " 25650376,\n",
              " 1767865,\n",
              " 26991637,\n",
              " 29375166,\n",
              " 39421433,\n",
              " 39623883,\n",
              " 31275743,\n",
              " 34401709,\n",
              " 16578068,\n",
              " 39105846,\n",
              " 39495417,\n",
              " 17755764,\n",
              " 36949989,\n",
              " 12056165,\n",
              " 38809506,\n",
              " 971678,\n",
              " 5276061,\n",
              " 37572393,\n",
              " 33668125,\n",
              " 32380057,\n",
              " 34909077,\n",
              " 24589621,\n",
              " 23827530,\n",
              " 25254023,\n",
              " 27094438,\n",
              " 3046305,\n",
              " 37252153,\n",
              " 23692502,\n",
              " 32655686,\n",
              " 13745265,\n",
              " 35976215,\n",
              " 35184151,\n",
              " 39703527,\n",
              " 20819989,\n",
              " 22889146,\n",
              " 18696122,\n",
              " 36185816,\n",
              " 37775232,\n",
              " 36001038,\n",
              " 21671040,\n",
              " 36292566,\n",
              " 11027137,\n",
              " 33758868,\n",
              " 35700134,\n",
              " 28915399,\n",
              " 13237522,\n",
              " 1066758,\n",
              " 22575699,\n",
              " 29719986,\n",
              " 39694357,\n",
              " 15969708,\n",
              " 20516762,\n",
              " 7676314,\n",
              " 26860250,\n",
              " 28142839,\n",
              " 35300485,\n",
              " 33794750,\n",
              " 25729044,\n",
              " 12555107,\n",
              " 26698190,\n",
              " 34745717,\n",
              " 13041898,\n",
              " 39556910,\n",
              " 30510453,\n",
              " 34770389,\n",
              " 49926,\n",
              " 9491907,\n",
              " 36386713,\n",
              " 29035815,\n",
              " 38441888,\n",
              " 26420911,\n",
              " 36108585,\n",
              " 16925596,\n",
              " 22392497,\n",
              " 36750571,\n",
              " 33196102,\n",
              " 26521365,\n",
              " 27390566,\n",
              " 9390592,\n",
              " 30243609,\n",
              " 12932637,\n",
              " 14487491,\n",
              " 18920125,\n",
              " 31381939,\n",
              " 28567001,\n",
              " 37855286,\n",
              " 33677183,\n",
              " 11856493,\n",
              " 22357622,\n",
              " 5265275,\n",
              " 31014131,\n",
              " 14115246,\n",
              " 26654855,\n",
              " 32994196,\n",
              " 17942036,\n",
              " 31638651,\n",
              " 37232872,\n",
              " 30019605,\n",
              " 30109297,\n",
              " 9413216,\n",
              " 38774135,\n",
              " 36880200,\n",
              " 22214975,\n",
              " 34374839,\n",
              " 15542430,\n",
              " 39960320,\n",
              " 31619880,\n",
              " 25869152,\n",
              " 34909034,\n",
              " 32217532,\n",
              " 22431937,\n",
              " 39552458,\n",
              " 7824188,\n",
              " 7922487,\n",
              " 37251992,\n",
              " 17112550,\n",
              " 25828785,\n",
              " 20720836,\n",
              " 21944869,\n",
              " 29938028,\n",
              " 33351160,\n",
              " 10685654,\n",
              " 38678057,\n",
              " 20713757,\n",
              " 16212109,\n",
              " 39676339,\n",
              " 36076241,\n",
              " 30809866,\n",
              " 37593013,\n",
              " 37277904,\n",
              " 37287980,\n",
              " 38508116,\n",
              " 9700699,\n",
              " 29277991,\n",
              " 26048299,\n",
              " 34347904,\n",
              " 16346506,\n",
              " 36451392,\n",
              " 31921290,\n",
              " 6514856,\n",
              " 36931732,\n",
              " 17789049,\n",
              " 33883758,\n",
              " 24519013,\n",
              " 30833031,\n",
              " 29541278,\n",
              " 19461741,\n",
              " 17756617,\n",
              " 36504721,\n",
              " 38228794,\n",
              " 34129589,\n",
              " 25410283,\n",
              " 35398057,\n",
              " 19577673,\n",
              " 25301728,\n",
              " 16364412,\n",
              " 3890621,\n",
              " 14346364,\n",
              " 31329781,\n",
              " 28721722,\n",
              " 37372254,\n",
              " 36671641,\n",
              " 25102013,\n",
              " 32853124,\n",
              " 36319482,\n",
              " 26302745,\n",
              " 37776984,\n",
              " 18131408,\n",
              " 4355132,\n",
              " 5642203,\n",
              " 37068981,\n",
              " 8285175,\n",
              " 24965720,\n",
              " 37339067,\n",
              " 28356962,\n",
              " 37019062,\n",
              " 35797708,\n",
              " 32679849,\n",
              " 29999763,\n",
              " 25357326,\n",
              " 26963189,\n",
              " 21678165,\n",
              " 38109894,\n",
              " 39054539,\n",
              " 29846372,\n",
              " 33658423,\n",
              " 37127483,\n",
              " 39505153,\n",
              " 31060566,\n",
              " 24380791,\n",
              " 4750141,\n",
              " 2540059,\n",
              " 26403721,\n",
              " 33723771,\n",
              " 36943186,\n",
              " 20232714,\n",
              " 37354171,\n",
              " 35544233,\n",
              " 26269893,\n",
              " 26245242,\n",
              " 12877189,\n",
              " 24883503,\n",
              " 11283683,\n",
              " 1599754,\n",
              " 34778650,\n",
              " 6081008,\n",
              " 30821071,\n",
              " 22291589,\n",
              " 26222066,\n",
              " 24400012,\n",
              " 32733156,\n",
              " 16006237,\n",
              " 15340650,\n",
              " 34389927,\n",
              " 7342637,\n",
              " 14672739,\n",
              " 28573549,\n",
              " 24624866,\n",
              " 31026169,\n",
              " 39301122,\n",
              " 33098682,\n",
              " 33549175,\n",
              " 33111796,\n",
              " 17525454,\n",
              " 16995071,\n",
              " 27787101,\n",
              " 36791490,\n",
              " 21201506,\n",
              " 34074584,\n",
              " 38263794,\n",
              " 39523900,\n",
              " 35974826,\n",
              " 27196672,\n",
              " 23113318,\n",
              " 19388152,\n",
              " 25043169,\n",
              " 38287797,\n",
              " 36995289,\n",
              " 22617538,\n",
              " 21415432,\n",
              " 39004937,\n",
              " 26471889,\n",
              " 37623438,\n",
              " 33928471,\n",
              " 22448088,\n",
              " 30006353,\n",
              " 19821425,\n",
              " 19693302,\n",
              " 39730737,\n",
              " 3818523,\n",
              " 24123659,\n",
              " 39381727,\n",
              " 29563788,\n",
              " 25012948,\n",
              " 33784968,\n",
              " 34343630,\n",
              " 9325312,\n",
              " 4150909,\n",
              " 25002469,\n",
              " 24738578,\n",
              " 17881489,\n",
              " 23223291,\n",
              " 12785834,\n",
              " 21988714,\n",
              " 28621596,\n",
              " 25915541,\n",
              " 31496352,\n",
              " 34531076,\n",
              " 39465157,\n",
              " 27628765,\n",
              " 24333451,\n",
              " 9318641,\n",
              " 18321727,\n",
              " 28337085,\n",
              " 23407253,\n",
              " 24834613,\n",
              " 29517392,\n",
              " 29615939,\n",
              " 35328941,\n",
              " 29662432,\n",
              " 37165815,\n",
              " 35503718,\n",
              " 5286531,\n",
              " 27183727,\n",
              " 25682128,\n",
              " 28769017,\n",
              " 31092323,\n",
              " 30109467,\n",
              " 14060894,\n",
              " 26942148,\n",
              " 35323590,\n",
              " 29499815,\n",
              " 38986718,\n",
              " 22590327,\n",
              " 38316225,\n",
              " 16553660,\n",
              " 39239758,\n",
              " 30889042,\n",
              " 29114427,\n",
              " 23899454,\n",
              " 26917380,\n",
              " 5663262,\n",
              " 28122488,\n",
              " 31396801,\n",
              " 33385898,\n",
              " 17743870,\n",
              " 24063646,\n",
              " 32501951,\n",
              " 17198898,\n",
              " 28702416,\n",
              " 31575675,\n",
              " 27152987,\n",
              " 34754368,\n",
              " 37062565,\n",
              " 39620767,\n",
              " 7559595,\n",
              " 30530694,\n",
              " 27751072,\n",
              " 26057607,\n",
              " 34874982,\n",
              " 24412396,\n",
              " 28099401,\n",
              " 24339078,\n",
              " 21612677,\n",
              " 15668380,\n",
              " 28862334,\n",
              " 20775633,\n",
              " 7644597,\n",
              " 20799403,\n",
              " 12227869,\n",
              " 20512101,\n",
              " 32095943,\n",
              " 26486752,\n",
              " 1236695,\n",
              " 36370607,\n",
              " 9964809,\n",
              " 36354118,\n",
              " 30442397,\n",
              " 19274082,\n",
              " 15112964,\n",
              " 28026014,\n",
              " 39332868,\n",
              " 22775154,\n",
              " 16787485,\n",
              " 27956289,\n",
              " 24791619,\n",
              " 15707215,\n",
              " 37844596,\n",
              " 34382913,\n",
              " 4801259,\n",
              " 10867994,\n",
              " 37164347,\n",
              " 7697169,\n",
              " 29043848,\n",
              " 25191071,\n",
              " 24130630,\n",
              " 39103052,\n",
              " 16131208,\n",
              " 24563698,\n",
              " 21087534,\n",
              " 34560203,\n",
              " 35347373,\n",
              " 39749807,\n",
              " 37662180,\n",
              " 21135279,\n",
              " 31048970,\n",
              " 23983748,\n",
              " 8251541,\n",
              " 26379631,\n",
              " 31638508,\n",
              " 31458262,\n",
              " 28967463,\n",
              " 38622386,\n",
              " 33531553,\n",
              " 25478428,\n",
              " 16243955,\n",
              " 14681250,\n",
              " 25326649,\n",
              " 25003211,\n",
              " 31877420,\n",
              " 18716655,\n",
              " 9998625,\n",
              " 29286480,\n",
              " 21218135,\n",
              " 26195879,\n",
              " 35556799,\n",
              " 27708002,\n",
              " 14314501,\n",
              " 21323431,\n",
              " 28896769,\n",
              " 17882139,\n",
              " 33471219,\n",
              " 24214364,\n",
              " 24066589,\n",
              " 20838970,\n",
              " 32258654,\n",
              " 7948510,\n",
              " 30099823,\n",
              " 20055067,\n",
              " 30250164,\n",
              " 38332917,\n",
              " 13390497,\n",
              " 39036089,\n",
              " 26423961,\n",
              " 31273522,\n",
              " 31118089,\n",
              " 4133327,\n",
              " 15214430,\n",
              " 35281237,\n",
              " 18691084,\n",
              " 34820159,\n",
              " 29102132,\n",
              " 37411633,\n",
              " 27735274,\n",
              " 37137144,\n",
              " 25631904,\n",
              " 25494858,\n",
              " 39480634,\n",
              " 37417793,\n",
              " 32760999,\n",
              " 28909973,\n",
              " 33882582,\n",
              " 19486283,\n",
              " 32898478,\n",
              " 33487117,\n",
              " 21635914,\n",
              " 31983448,\n",
              " 21025774,\n",
              " 39140490,\n",
              " 24004487,\n",
              " 15036205,\n",
              " 32561332,\n",
              " 22364769,\n",
              " 36341436,\n",
              " 33030195,\n",
              " 33973471,\n",
              " 39990274,\n",
              " 28176369,\n",
              " 33705180,\n",
              " 36964875,\n",
              " 36961445,\n",
              " 35932223,\n",
              " 18001592,\n",
              " 39804629,\n",
              " 33837125,\n",
              " 24706372,\n",
              " 19368414,\n",
              " 21382194,\n",
              " 36638331,\n",
              " 26876549,\n",
              " 16346464,\n",
              " 32918978,\n",
              " 15969518,\n",
              " 20298335,\n",
              " 15453237,\n",
              " 28621131,\n",
              " 9013354,\n",
              " 29550686,\n",
              " 24413804,\n",
              " 28789014,\n",
              " 29089881,\n",
              " 18054759,\n",
              " 31051397,\n",
              " 17485858,\n",
              " 22107897,\n",
              " 29758662,\n",
              " 21122818,\n",
              " 32735684,\n",
              " 28948565,\n",
              " 38885130,\n",
              " 16043299,\n",
              " 38022873,\n",
              " 13682604,\n",
              " 29476807,\n",
              " 36082521,\n",
              " 22095000,\n",
              " 17642576,\n",
              " 14933569,\n",
              " 25435710,\n",
              " 21418022,\n",
              " 19297410,\n",
              " 20641199,\n",
              " 31122699,\n",
              " 23797368,\n",
              " 13960307,\n",
              " 29847082,\n",
              " 27500193,\n",
              " 27708977,\n",
              " 37499806,\n",
              " 8356745,\n",
              " 35381551,\n",
              " 38981847,\n",
              " 34754605,\n",
              " 33569119,\n",
              " 9775297,\n",
              " 6902740,\n",
              " 39840882,\n",
              " 33256475,\n",
              " 34541165,\n",
              " 34935489,\n",
              " 34581021,\n",
              " 16329218,\n",
              " 38755571,\n",
              " 29314985,\n",
              " 30363501,\n",
              " 33154164,\n",
              " 11329035,\n",
              " 32740592,\n",
              " 16747624,\n",
              " 19530826,\n",
              " 16089737,\n",
              " 29268630,\n",
              " 26823312,\n",
              " 17395516,\n",
              " 35517771,\n",
              " 37994521,\n",
              " 16063191,\n",
              " 34542181,\n",
              " 23655080,\n",
              " 33569374,\n",
              " 35507059,\n",
              " 30589640,\n",
              " 34750829,\n",
              " 32242446,\n",
              " 36189809,\n",
              " 25766831,\n",
              " 1939228,\n",
              " 28167429,\n",
              " 32283815,\n",
              " 7088625,\n",
              " 21139538,\n",
              " 27580028,\n",
              " 38655983,\n",
              " 39013159,\n",
              " 34865791,\n",
              " 36441345,\n",
              " 36307609,\n",
              " 35878796,\n",
              " 35322847,\n",
              " 17043393,\n",
              " 25518445,\n",
              " 38540144,\n",
              " 39907437,\n",
              " 34768958,\n",
              " 24915057,\n",
              " 21871618,\n",
              " 26548135,\n",
              " 7218918,\n",
              " 27996785,\n",
              " 25001753,\n",
              " 4964101,\n",
              " 25991666,\n",
              " 33161030,\n",
              " 37604747,\n",
              " 26484848,\n",
              " 25749215,\n",
              " 7942643,\n",
              " 2762009,\n",
              " 26370831,\n",
              " 31463617,\n",
              " 38828143,\n",
              " 36561974,\n",
              " 19222020,\n",
              " 25320684,\n",
              " 36668750,\n",
              " 18283984,\n",
              " 19691865,\n",
              " 23349128,\n",
              " 35859367,\n",
              " 33050211,\n",
              " 17558388,\n",
              " 21765647,\n",
              " 26043994,\n",
              " 29745968,\n",
              " 25882030,\n",
              " 38066785,\n",
              " 23479288,\n",
              " 33341972,\n",
              " 26107685,\n",
              " 3833717,\n",
              " 27993153,\n",
              " 13432129,\n",
              " 32705457,\n",
              " 29660088,\n",
              " 5414638,\n",
              " 29636723,\n",
              " 33093333,\n",
              " 23766009,\n",
              " 3938042,\n",
              " 19211116,\n",
              " 32425883,\n",
              " 34026319,\n",
              " 38228088,\n",
              " 7960761,\n",
              " 39875674,\n",
              " 33478933,\n",
              " 37271654,\n",
              " 38013224,\n",
              " 37571622,\n",
              " 39309327,\n",
              " 29626576,\n",
              " 34670464,\n",
              " 12052520,\n",
              " 16845063,\n",
              " 29493183,\n",
              " 38054970,\n",
              " 31688667,\n",
              " 34581605,\n",
              " 35581337,\n",
              " 32531143,\n",
              " 14689926,\n",
              " 37492650,\n",
              " 38620174,\n",
              " 38358184,\n",
              " 31900526,\n",
              " 31929202,\n",
              " 18275033,\n",
              " 6756616,\n",
              " 26450021,\n",
              " 15579657,\n",
              " 38601628,\n",
              " 29381271,\n",
              " 28936713,\n",
              " 26390895,\n",
              " 29864176,\n",
              " 28521429,\n",
              " 27344591,\n",
              " 28732235,\n",
              " 12138782,\n",
              " 38845097,\n",
              " 11668031,\n",
              " 14790822,\n",
              " 37542436,\n",
              " 35109094,\n",
              " 29249749,\n",
              " 17257056,\n",
              " 26453080,\n",
              " 18032548,\n",
              " 24429822,\n",
              " 18601282,\n",
              " 12299124,\n",
              " 8529827,\n",
              " 35034389,\n",
              " 20634368,\n",
              " 11319693,\n",
              " 39384998,\n",
              " 11469216,\n",
              " 35125688,\n",
              " 26862208,\n",
              " 9403191,\n",
              " 37956088,\n",
              " 32643321,\n",
              " 35709928,\n",
              " 29119417,\n",
              " 7919265,\n",
              " 17907623,\n",
              " 23519099,\n",
              " 27464955,\n",
              " 32590039,\n",
              " 31793912,\n",
              " 38568699,\n",
              " 36696613,\n",
              " 17151210,\n",
              " 30865121,\n",
              " 36827544,\n",
              " 25334845,\n",
              " 5396768,\n",
              " 13589390,\n",
              " 35724648,\n",
              " 11501214,\n",
              " 4090981,\n",
              " 36260537,\n",
              " 30712611,\n",
              " 33422356,\n",
              " 37140692,\n",
              " 39601165,\n",
              " 22430429,\n",
              " 18938065,\n",
              " 37412510,\n",
              " 16094099,\n",
              " 27794380,\n",
              " 36943700,\n",
              " 14981648,\n",
              " 36827260,\n",
              " 25388144,\n",
              " 27545780,\n",
              " 20011122,\n",
              " 2518730,\n",
              " 14255675,\n",
              " 25349693,\n",
              " 36847840,\n",
              " 36844704,\n",
              " 20171216,\n",
              " 20585983,\n",
              " 21997615,\n",
              " 25355626,\n",
              " 26554211,\n",
              " 39880189,\n",
              " 36006224,\n",
              " 18066363,\n",
              " 19476426,\n",
              " 39540102,\n",
              " 18352973,\n",
              " 27507928,\n",
              " 2318667,\n",
              " 37416026,\n",
              " 13053412,\n",
              " 32622170,\n",
              " 30313769,\n",
              " 1949225,\n",
              " 17784587,\n",
              " 39566474,\n",
              " 23315592,\n",
              " 37993135,\n",
              " 19862587,\n",
              " 6974034,\n",
              " 16201303,\n",
              " 39339357,\n",
              " 25921287,\n",
              " 14551451,\n",
              " 27744963,\n",
              " 28974190,\n",
              " 28597383,\n",
              " 25534440,\n",
              " 24616671,\n",
              " 26902283,\n",
              " 25693870,\n",
              " 15026519,\n",
              " 24179963,\n",
              " 30387280,\n",
              " 39474254,\n",
              " 16436705,\n",
              " 13336288,\n",
              " 30427081,\n",
              " 24562816,\n",
              " 34159669,\n",
              " 40016519,\n",
              " 13476450,\n",
              " 38635580,\n",
              " 29734660,\n",
              " 37738401,\n",
              " 22849823,\n",
              " 35001468,\n",
              " 24890558,\n",
              " 32858126,\n",
              " 34977252,\n",
              " 38050643,\n",
              " 39053195,\n",
              " 4877624,\n",
              " 23860029,\n",
              " 38141192,\n",
              " 38157810,\n",
              " 12453675,\n",
              " 15078002,\n",
              " 7465445,\n",
              " 33046966,\n",
              " 21209741,\n",
              " 35689088,\n",
              " 30921360,\n",
              " 25753276,\n",
              " 4859198,\n",
              " 19875549,\n",
              " 22400652,\n",
              " 29160422,\n",
              " 22124664,\n",
              " 13431621,\n",
              " 27809511,\n",
              " 524930,\n",
              " 26384129,\n",
              " 20968060,\n",
              " 29077821,\n",
              " 36376908,\n",
              " 36251452,\n",
              " 33225478,\n",
              " 7901853,\n",
              " 39195429,\n",
              " 29832753,\n",
              " 38076878,\n",
              " 33815891,\n",
              " 11879268,\n",
              " 31081067,\n",
              " 37190779,\n",
              " 12370349,\n",
              " 35160471,\n",
              " 19835956,\n",
              " 38858363,\n",
              " 21174556,\n",
              " 17756791,\n",
              " 29987168,\n",
              " 8486294,\n",
              " 28665443,\n",
              " 37120704,\n",
              " 27947763,\n",
              " 18802850,\n",
              " 39532978,\n",
              " 25332065,\n",
              " 31132784,\n",
              " 18962993,\n",
              " 21965347,\n",
              " 29976744,\n",
              " 34496409,\n",
              " 9966767,\n",
              " 30339214,\n",
              " 25654748,\n",
              " 22333568,\n",
              " 31163690,\n",
              " 38535008,\n",
              " 3433486,\n",
              " 18750826,\n",
              " 13375957,\n",
              " 39968466,\n",
              " 27621602,\n",
              " 12484310,\n",
              " 33695157,\n",
              " 24923046,\n",
              " 34729227,\n",
              " 32553914,\n",
              " 36700914,\n",
              " 26732680,\n",
              " 33115590,\n",
              " 34704280,\n",
              " 27193185,\n",
              " 29991380,\n",
              " 14046874,\n",
              " 39381930,\n",
              " 36914776,\n",
              " 21838278,\n",
              " 25493500,\n",
              " 34097020,\n",
              " 33654959,\n",
              " 34161588,\n",
              " 37973772,\n",
              " 31705158,\n",
              " 17385131,\n",
              " 28150707,\n",
              " 28563711,\n",
              " 25437213,\n",
              " 12504632,\n",
              " 38684619,\n",
              " 11247888,\n",
              " 34931160,\n",
              " 26385482,\n",
              " 18582544,\n",
              " 33457867,\n",
              " 37271524,\n",
              " 22287039,\n",
              " 26792937,\n",
              " 34986475,\n",
              " 10686847,\n",
              " 37960216,\n",
              " 33713472,\n",
              " 21050710,\n",
              " 27989120,\n",
              " 27880744,\n",
              " 34173101,\n",
              " 33521891,\n",
              " 24793374,\n",
              " 32845601,\n",
              " 36016026,\n",
              " 9280653,\n",
              " 28867092,\n",
              " 38361148,\n",
              " 10222812,\n",
              " 31808760,\n",
              " 25702241,\n",
              " 31814078,\n",
              " 6991471,\n",
              " 33625236,\n",
              " 39042214,\n",
              " 38781777,\n",
              " 34292387,\n",
              " 35262294,\n",
              " 5036653,\n",
              " 15670482,\n",
              " 35233641,\n",
              " 5073995,\n",
              " 19750970,\n",
              " 10093293,\n",
              " 34824110,\n",
              " 37117779,\n",
              " 29180159,\n",
              " 15622421,\n",
              " 32658322,\n",
              " 27287867,\n",
              " 5089030,\n",
              " 20157040,\n",
              " 35757580,\n",
              " 37958128,\n",
              " 26579036,\n",
              " 28617870,\n",
              " 37516731,\n",
              " 12414043,\n",
              " 7821518,\n",
              " 37791134,\n",
              " 20771788,\n",
              " 31791821,\n",
              " 24439316,\n",
              " 14986697,\n",
              " 28348106,\n",
              " 7813132,\n",
              " 24749140,\n",
              " 38138722,\n",
              " 12518043,\n",
              " 30449421,\n",
              " 13278560,\n",
              " 29738116,\n",
              " 27967858,\n",
              " 34180333,\n",
              " 35602892,\n",
              " 38160637,\n",
              " 32189190,\n",
              " 25333204,\n",
              " 23990217,\n",
              " 21345012,\n",
              " 7701429,\n",
              " 19630265,\n",
              " 37348711,\n",
              " 14536747,\n",
              " 33612432,\n",
              " 16000574,\n",
              " 39378363,\n",
              " 30082300,\n",
              " 31576198,\n",
              " 33499908,\n",
              " 15297206,\n",
              " 39497038,\n",
              " 39708568,\n",
              " 30698188,\n",
              " 18446804,\n",
              " 32656712,\n",
              " 11885503,\n",
              " 5567519,\n",
              " 14714881,\n",
              " 10984471,\n",
              " 6946544,\n",
              " 36535673,\n",
              " 21382521,\n",
              " 28193438,\n",
              " 28439040,\n",
              " 35419778,\n",
              " 14509626,\n",
              " 26742818,\n",
              " 15557715,\n",
              " 23316526,\n",
              " ...]"
            ]
          },
          "metadata": {
            "tags": []
          },
          "execution_count": 46
        }
      ]
    },
    {
      "metadata": {
        "id": "j8Y3V8nX5ON9",
        "colab_type": "code",
        "colab": {}
      },
      "cell_type": "code",
      "source": [
        ""
      ],
      "execution_count": 0,
      "outputs": []
    },
    {
      "metadata": {
        "id": "6_LCCJnsZrHu",
        "colab_type": "text"
      },
      "cell_type": "markdown",
      "source": [
        "## Assisting code matching"
      ]
    },
    {
      "metadata": {
        "id": "_yBw1XOsfEFD",
        "colab_type": "code",
        "colab": {}
      },
      "cell_type": "code",
      "source": [
        "import re"
      ],
      "execution_count": 0,
      "outputs": []
    },
    {
      "metadata": {
        "id": "p1PwS_BQZxRN",
        "colab_type": "code",
        "colab": {}
      },
      "cell_type": "code",
      "source": [
        "def replaceVariables(code):\n",
        "    n_code = []\n",
        "    keylist = keyword.kwlist\n",
        "    lines = code.splitlines()\n",
        "    for l in lines:\n",
        "        arr = l.split(\" \")\n",
        "        for (i, word) in enumerate(arr):\n",
        "            if re.match(r'[a-zA-Z][a-zA-Z0-9]*', word):\n",
        "                if word not in keylist:\n",
        "                    arr[i] = 'var'\n",
        "            else:\n",
        "                arr[i] = word\n",
        "        n_code.append(''.join(arr))\n",
        "    return ''.join(n_code)"
      ],
      "execution_count": 0,
      "outputs": []
    }
  ]
}